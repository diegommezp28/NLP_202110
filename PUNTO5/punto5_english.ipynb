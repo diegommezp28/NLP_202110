{
  "nbformat": 4,
  "nbformat_minor": 0,
  "metadata": {
    "colab": {
      "name": "punto5_english.ipynb",
      "provenance": [],
      "collapsed_sections": [],
      "toc_visible": true
    },
    "kernelspec": {
      "display_name": "Python 3",
      "language": "python",
      "name": "python3"
    },
    "language_info": {
      "codemirror_mode": {
        "name": "ipython",
        "version": 2
      },
      "file_extension": ".py",
      "mimetype": "text/x-python",
      "name": "python",
      "nbconvert_exporter": "python",
      "pygments_lexer": "ipython2",
      "version": "2.7.6"
    }
  },
  "cells": [
    {
      "cell_type": "markdown",
      "metadata": {
        "collapsed": true,
        "id": "WBaIa1YJGaaR"
      },
      "source": [
        "# Punto 5\n",
        "Fake News identification in COVID public discussion. Type: Different approaches."
      ]
    },
    {
      "cell_type": "code",
      "metadata": {
        "colab": {
          "base_uri": "https://localhost:8080/"
        },
        "id": "Cjgl23PaHCjw",
        "outputId": "36d54cec-9873-42b5-e0fd-59f18a231f58"
      },
      "source": [
        "from google.colab import drive\n",
        "drive.mount('/content/drive')"
      ],
      "execution_count": 1,
      "outputs": [
        {
          "output_type": "stream",
          "text": [
            "Mounted at /content/drive\n"
          ],
          "name": "stdout"
        }
      ]
    },
    {
      "cell_type": "code",
      "metadata": {
        "colab": {
          "base_uri": "https://localhost:8080/"
        },
        "id": "8wPpC1EZDXWO",
        "outputId": "c30a8610-15bc-4294-96c8-e345d803034c"
      },
      "source": [
        "!pip install nltk"
      ],
      "execution_count": 9,
      "outputs": [
        {
          "output_type": "stream",
          "text": [
            "Requirement already satisfied: nltk in /usr/local/lib/python3.7/dist-packages (3.2.5)\n",
            "Requirement already satisfied: six in /usr/local/lib/python3.7/dist-packages (from nltk) (1.15.0)\n"
          ],
          "name": "stdout"
        }
      ]
    },
    {
      "cell_type": "code",
      "metadata": {
        "id": "ZNGQtKhzHnGO"
      },
      "source": [
        "import pandas as pd\n",
        "import json\n",
        "import gensim\n",
        "import nltk\n",
        "from nltk.corpus import stopwords\n",
        "import tensorflow as tf\n",
        "import numpy as np\n",
        "from tensorflow.keras import layers\n",
        "from tensorflow.keras import losses\n",
        "from tensorflow.keras import preprocessing\n",
        "from tensorflow.keras.layers.experimental.preprocessing import TextVectorization\n",
        "from sklearn.model_selection import train_test_split\n",
        "from sklearn.preprocessing import OneHotEncoder\n",
        "from tensorflow.keras.models import Sequential\n",
        "from tensorflow.keras.layers import Embedding\n",
        "from tensorflow.keras.layers import Dropout\n",
        "from tensorflow.keras.layers import LSTM\n",
        "from tensorflow.keras.layers import Dense\n",
        "# Lib Metrics\n",
        "from sklearn import metrics\n",
        "from sklearn.metrics import classification_report\n",
        "from sklearn.model_selection import cross_val_score\n",
        "from sklearn.metrics import roc_auc_score\n",
        "from sklearn.metrics import roc_curve\n",
        "from sklearn.metrics import confusion_matrix\n",
        "from sklearn.metrics import accuracy_score"
      ],
      "execution_count": 10,
      "outputs": []
    },
    {
      "cell_type": "code",
      "metadata": {
        "colab": {
          "base_uri": "https://localhost:8080/"
        },
        "id": "ND3toTA-JF1C",
        "outputId": "722a32ae-79f3-4be2-d4aa-126640e54e91"
      },
      "source": [
        "#install stopwords\n",
        "nltk.download()"
      ],
      "execution_count": 13,
      "outputs": [
        {
          "output_type": "stream",
          "text": [
            "NLTK Downloader\n",
            "---------------------------------------------------------------------------\n",
            "    d) Download   l) List    u) Update   c) Config   h) Help   q) Quit\n",
            "---------------------------------------------------------------------------\n",
            "Downloader> d\n",
            "\n",
            "Download which package (l=list; x=cancel)?\n",
            "  Identifier> stopwords\n",
            "    Downloading package stopwords to /root/nltk_data...\n",
            "      Unzipping corpora/stopwords.zip.\n",
            "\n",
            "---------------------------------------------------------------------------\n",
            "    d) Download   l) List    u) Update   c) Config   h) Help   q) Quit\n",
            "---------------------------------------------------------------------------\n",
            "Downloader> q\n"
          ],
          "name": "stdout"
        },
        {
          "output_type": "execute_result",
          "data": {
            "text/plain": [
              "True"
            ]
          },
          "metadata": {
            "tags": []
          },
          "execution_count": 13
        }
      ]
    },
    {
      "cell_type": "code",
      "metadata": {
        "colab": {
          "base_uri": "https://localhost:8080/",
          "height": 359
        },
        "id": "rCGiQJjDGaaX",
        "outputId": "4e36564f-60b6-40d1-f51e-8cd9884dd8aa"
      },
      "source": [
        "prefix = './drive/MyDrive/datasets/english/'\n",
        "fake_ruta = prefix + 'fake_clean.json'\n",
        "true_ruta = prefix + 'real_clean.json'\n",
        "fake2_ruta = prefix + 'gpt2.json'\n",
        "\n",
        "fake_news = pd.read_json(fake_ruta, lines=True)\n",
        "fake_news['tag'] = 0\n",
        "true_news = pd.read_json(true_ruta, lines=True)\n",
        "true_news['tag'] = 1\n",
        "fake_news_2 = pd.read_json(fake2_ruta, lines=True)\n",
        "fake_news_2['tag'] = 0\n",
        "frames = [fake_news, true_news, fake_news_2]\n",
        "df = pd.concat(frames)\n",
        "df.head(10)"
      ],
      "execution_count": 70,
      "outputs": [
        {
          "output_type": "execute_result",
          "data": {
            "text/html": [
              "<div>\n",
              "<style scoped>\n",
              "    .dataframe tbody tr th:only-of-type {\n",
              "        vertical-align: middle;\n",
              "    }\n",
              "\n",
              "    .dataframe tbody tr th {\n",
              "        vertical-align: top;\n",
              "    }\n",
              "\n",
              "    .dataframe thead th {\n",
              "        text-align: right;\n",
              "    }\n",
              "</style>\n",
              "<table border=\"1\" class=\"dataframe\">\n",
              "  <thead>\n",
              "    <tr style=\"text-align: right;\">\n",
              "      <th></th>\n",
              "      <th>text</th>\n",
              "      <th>tag</th>\n",
              "    </tr>\n",
              "  </thead>\n",
              "  <tbody>\n",
              "    <tr>\n",
              "      <th>0</th>\n",
              "      <td>A post claims compulsory vacination violates t...</td>\n",
              "      <td>0</td>\n",
              "    </tr>\n",
              "    <tr>\n",
              "      <th>1</th>\n",
              "      <td>A photo claims that this person is a doctor wh...</td>\n",
              "      <td>0</td>\n",
              "    </tr>\n",
              "    <tr>\n",
              "      <th>2</th>\n",
              "      <td>Post about a video claims that it is a protest...</td>\n",
              "      <td>0</td>\n",
              "    </tr>\n",
              "    <tr>\n",
              "      <th>3</th>\n",
              "      <td>All deaths by respiratory failure and pneumoni...</td>\n",
              "      <td>0</td>\n",
              "    </tr>\n",
              "    <tr>\n",
              "      <th>4</th>\n",
              "      <td>The dean of the College of Biologists of Euska...</td>\n",
              "      <td>0</td>\n",
              "    </tr>\n",
              "    <tr>\n",
              "      <th>5</th>\n",
              "      <td>Households with COVID-19 patients in Porto Ale...</td>\n",
              "      <td>0</td>\n",
              "    </tr>\n",
              "    <tr>\n",
              "      <th>6</th>\n",
              "      <td>A chain lists recommendations to prevent and t...</td>\n",
              "      <td>0</td>\n",
              "    </tr>\n",
              "    <tr>\n",
              "      <th>7</th>\n",
              "      <td>60,000 Argentinian companies have closed due t...</td>\n",
              "      <td>0</td>\n",
              "    </tr>\n",
              "    <tr>\n",
              "      <th>8</th>\n",
              "      <td>Social media posts criticize a photo from smil...</td>\n",
              "      <td>0</td>\n",
              "    </tr>\n",
              "    <tr>\n",
              "      <th>9</th>\n",
              "      <td>CDC has released an update on how the novel co...</td>\n",
              "      <td>0</td>\n",
              "    </tr>\n",
              "  </tbody>\n",
              "</table>\n",
              "</div>"
            ],
            "text/plain": [
              "                                                text  tag\n",
              "0  A post claims compulsory vacination violates t...    0\n",
              "1  A photo claims that this person is a doctor wh...    0\n",
              "2  Post about a video claims that it is a protest...    0\n",
              "3  All deaths by respiratory failure and pneumoni...    0\n",
              "4  The dean of the College of Biologists of Euska...    0\n",
              "5  Households with COVID-19 patients in Porto Ale...    0\n",
              "6  A chain lists recommendations to prevent and t...    0\n",
              "7  60,000 Argentinian companies have closed due t...    0\n",
              "8  Social media posts criticize a photo from smil...    0\n",
              "9  CDC has released an update on how the novel co...    0"
            ]
          },
          "metadata": {
            "tags": []
          },
          "execution_count": 70
        }
      ]
    },
    {
      "cell_type": "markdown",
      "metadata": {
        "id": "pA_X2ZHDQYuI"
      },
      "source": [
        "## Processing"
      ]
    },
    {
      "cell_type": "code",
      "metadata": {
        "colab": {
          "base_uri": "https://localhost:8080/",
          "height": 419
        },
        "id": "pzoX7sfHNcYW",
        "outputId": "acf52fb7-ccf1-446e-e809-e3de9f147c27"
      },
      "source": [
        "import re\n",
        "import string\n",
        "stop = stopwords.words('english')\n",
        "\n",
        "def review_cleaning(text):\n",
        "    '''Make text lowercase, remove text in square brackets,remove links,remove punctuation\n",
        "    and remove words containing numbers.'''\n",
        "    text = str(text).lower()\n",
        "    text = re.sub('\\[.*?\\]', '', text)\n",
        "    text = re.sub('https?://\\S+|www\\.\\S+', '', text)\n",
        "    text = re.sub('<.*?>+', '', text)\n",
        "    text = re.sub('[%s]' % re.escape(string.punctuation), '', text)\n",
        "    text = re.sub('\\n', '', text)\n",
        "    text = re.sub('\\w*\\d\\w*', '', text)\n",
        "    return text\n",
        "df['text']=df['text'].apply(lambda x:review_cleaning(x))\n",
        "df['text'] = df['text'].apply(lambda x: ' '.join([word for word in x.split() if word not in (stop)]))\n",
        "df"
      ],
      "execution_count": 71,
      "outputs": [
        {
          "output_type": "execute_result",
          "data": {
            "text/html": [
              "<div>\n",
              "<style scoped>\n",
              "    .dataframe tbody tr th:only-of-type {\n",
              "        vertical-align: middle;\n",
              "    }\n",
              "\n",
              "    .dataframe tbody tr th {\n",
              "        vertical-align: top;\n",
              "    }\n",
              "\n",
              "    .dataframe thead th {\n",
              "        text-align: right;\n",
              "    }\n",
              "</style>\n",
              "<table border=\"1\" class=\"dataframe\">\n",
              "  <thead>\n",
              "    <tr style=\"text-align: right;\">\n",
              "      <th></th>\n",
              "      <th>text</th>\n",
              "      <th>tag</th>\n",
              "    </tr>\n",
              "  </thead>\n",
              "  <tbody>\n",
              "    <tr>\n",
              "      <th>0</th>\n",
              "      <td>post claims compulsory vacination violates pri...</td>\n",
              "      <td>0</td>\n",
              "    </tr>\n",
              "    <tr>\n",
              "      <th>1</th>\n",
              "      <td>photo claims person doctor died attending many...</td>\n",
              "      <td>0</td>\n",
              "    </tr>\n",
              "    <tr>\n",
              "      <th>2</th>\n",
              "      <td>post video claims protest confination town ara...</td>\n",
              "      <td>0</td>\n",
              "    </tr>\n",
              "    <tr>\n",
              "      <th>3</th>\n",
              "      <td>deaths respiratory failure pneumonia registere...</td>\n",
              "      <td>0</td>\n",
              "    </tr>\n",
              "    <tr>\n",
              "      <th>4</th>\n",
              "      <td>dean college biologists euskadi states lot pcr...</td>\n",
              "      <td>0</td>\n",
              "    </tr>\n",
              "    <tr>\n",
              "      <th>...</th>\n",
              "      <td>...</td>\n",
              "      <td>...</td>\n",
              "    </tr>\n",
              "    <tr>\n",
              "      <th>2185</th>\n",
              "      <td>bill gates patented vaccine according one repo...</td>\n",
              "      <td>0</td>\n",
              "    </tr>\n",
              "    <tr>\n",
              "      <th>2186</th>\n",
              "      <td>virus weakens means artificial governor veneto...</td>\n",
              "      <td>0</td>\n",
              "    </tr>\n",
              "    <tr>\n",
              "      <th>2187</th>\n",
              "      <td>people violate social distancing protocol temp...</td>\n",
              "      <td>0</td>\n",
              "    </tr>\n",
              "    <tr>\n",
              "      <th>2188</th>\n",
              "      <td>image doctor smoking treating covid patients g...</td>\n",
              "      <td>0</td>\n",
              "    </tr>\n",
              "    <tr>\n",
              "      <th>2189</th>\n",
              "      <td>mha declared guwahati â€˜red zoneâ€™e restrict...</td>\n",
              "      <td>0</td>\n",
              "    </tr>\n",
              "  </tbody>\n",
              "</table>\n",
              "<p>19179 rows × 2 columns</p>\n",
              "</div>"
            ],
            "text/plain": [
              "                                                   text  tag\n",
              "0     post claims compulsory vacination violates pri...    0\n",
              "1     photo claims person doctor died attending many...    0\n",
              "2     post video claims protest confination town ara...    0\n",
              "3     deaths respiratory failure pneumonia registere...    0\n",
              "4     dean college biologists euskadi states lot pcr...    0\n",
              "...                                                 ...  ...\n",
              "2185  bill gates patented vaccine according one repo...    0\n",
              "2186  virus weakens means artificial governor veneto...    0\n",
              "2187  people violate social distancing protocol temp...    0\n",
              "2188  image doctor smoking treating covid patients g...    0\n",
              "2189  mha declared guwahati â€˜red zoneâ€™e restrict...    0\n",
              "\n",
              "[19179 rows x 2 columns]"
            ]
          },
          "metadata": {
            "tags": []
          },
          "execution_count": 71
        }
      ]
    },
    {
      "cell_type": "code",
      "metadata": {
        "id": "Uh9HZxvML4zQ"
      },
      "source": [
        "from tensorflow.keras.preprocessing.text import one_hot\n",
        "#One hot encoding \n",
        "voc_size = 14535\n",
        "onehot_repr=[one_hot(words,voc_size)for words in df['text']]"
      ],
      "execution_count": 72,
      "outputs": []
    },
    {
      "cell_type": "markdown",
      "metadata": {
        "id": "9JBWgMFXTTul"
      },
      "source": [
        "## Splitting Datasets"
      ]
    },
    {
      "cell_type": "code",
      "metadata": {
        "colab": {
          "base_uri": "https://localhost:8080/"
        },
        "id": "1J7tWpdiqntH",
        "outputId": "528cc3ed-1da7-4a73-c68b-15e89efc1bf2"
      },
      "source": [
        "from tensorflow.keras.preprocessing.sequence import pad_sequences\n",
        "\n",
        "#Padding the sentences\n",
        "embedded_docs=pad_sequences(onehot_repr,padding='pre')\n",
        "print(embedded_docs.shape)"
      ],
      "execution_count": 73,
      "outputs": [
        {
          "output_type": "stream",
          "text": [
            "(19179, 64)\n"
          ],
          "name": "stdout"
        }
      ]
    },
    {
      "cell_type": "code",
      "metadata": {
        "colab": {
          "base_uri": "https://localhost:8080/"
        },
        "id": "yglk3AtkrLv7",
        "outputId": "e42a2878-0f2d-427e-fac4-3c2f812e83fc"
      },
      "source": [
        "# Converting the X and y as array\n",
        "X_final=np.array(embedded_docs)\n",
        "y_final=np.array(df['tag'])\n",
        "\n",
        "#Check shape of X and y final\n",
        "X_final.shape,y_final.shape"
      ],
      "execution_count": 74,
      "outputs": [
        {
          "output_type": "execute_result",
          "data": {
            "text/plain": [
              "((19179, 64), (19179,))"
            ]
          },
          "metadata": {
            "tags": []
          },
          "execution_count": 74
        }
      ]
    },
    {
      "cell_type": "code",
      "metadata": {
        "id": "t_NPGGhrrPgH"
      },
      "source": [
        "X_train_val, X_test, y_train_val, y_test = train_test_split(X_final, y_final, test_size=0.33, random_state=42)\n",
        "\n",
        "X_train, X_val, y_train, y_val = train_test_split(X_train_val, y_train_val, test_size=0.33, random_state=42)"
      ],
      "execution_count": 75,
      "outputs": []
    },
    {
      "cell_type": "markdown",
      "metadata": {
        "id": "2cw6U0EnTdmn"
      },
      "source": [
        "## Model"
      ]
    },
    {
      "cell_type": "code",
      "metadata": {
        "colab": {
          "base_uri": "https://localhost:8080/"
        },
        "id": "G1WbKahErBi4",
        "outputId": "f8951eed-afcc-4f12-d710-9d79962176d9"
      },
      "source": [
        "#Creating the lstm model\n",
        "sent_length = 5000\n",
        "embedding_vector_features=40\n",
        "model=Sequential()\n",
        "model.add(Embedding(voc_size,embedding_vector_features,input_length=sent_length))\n",
        "model.add(Dropout(0.3))\n",
        "model.add(LSTM(100)) #Adding 100 lstm neurons in the layer\n",
        "model.add(Dropout(0.3))\n",
        "model.add(Dense(1,activation='sigmoid'))\n",
        "\n",
        "#Compiling the model\n",
        "model.compile(loss='binary_crossentropy',optimizer='adam',metrics=['accuracy'])\n",
        "print(model.summary())"
      ],
      "execution_count": 76,
      "outputs": [
        {
          "output_type": "stream",
          "text": [
            "Model: \"sequential_7\"\n",
            "_________________________________________________________________\n",
            "Layer (type)                 Output Shape              Param #   \n",
            "=================================================================\n",
            "embedding_6 (Embedding)      (None, 5000, 40)          581400    \n",
            "_________________________________________________________________\n",
            "dropout_12 (Dropout)         (None, 5000, 40)          0         \n",
            "_________________________________________________________________\n",
            "lstm_6 (LSTM)                (None, 100)               56400     \n",
            "_________________________________________________________________\n",
            "dropout_13 (Dropout)         (None, 100)               0         \n",
            "_________________________________________________________________\n",
            "dense_6 (Dense)              (None, 1)                 101       \n",
            "=================================================================\n",
            "Total params: 637,901\n",
            "Trainable params: 637,901\n",
            "Non-trainable params: 0\n",
            "_________________________________________________________________\n",
            "None\n"
          ],
          "name": "stdout"
        }
      ]
    },
    {
      "cell_type": "code",
      "metadata": {
        "colab": {
          "base_uri": "https://localhost:8080/"
        },
        "id": "47lmm6vsrd9m",
        "outputId": "62cd409d-90fa-4f91-8131-5d4088c40ac3"
      },
      "source": [
        "model.fit(X_train,y_train,validation_data=(X_val,y_val),epochs=10,batch_size=64)"
      ],
      "execution_count": 77,
      "outputs": [
        {
          "output_type": "stream",
          "text": [
            "Epoch 1/10\n",
            "WARNING:tensorflow:Model was constructed with shape (None, 5000) for input KerasTensor(type_spec=TensorSpec(shape=(None, 5000), dtype=tf.float32, name='embedding_6_input'), name='embedding_6_input', description=\"created by layer 'embedding_6_input'\"), but it was called on an input with incompatible shape (None, 64).\n",
            "WARNING:tensorflow:Model was constructed with shape (None, 5000) for input KerasTensor(type_spec=TensorSpec(shape=(None, 5000), dtype=tf.float32, name='embedding_6_input'), name='embedding_6_input', description=\"created by layer 'embedding_6_input'\"), but it was called on an input with incompatible shape (None, 64).\n",
            "135/135 [==============================] - ETA: 0s - loss: 0.4519 - accuracy: 0.7757WARNING:tensorflow:Model was constructed with shape (None, 5000) for input KerasTensor(type_spec=TensorSpec(shape=(None, 5000), dtype=tf.float32, name='embedding_6_input'), name='embedding_6_input', description=\"created by layer 'embedding_6_input'\"), but it was called on an input with incompatible shape (None, 64).\n",
            "135/135 [==============================] - 16s 103ms/step - loss: 0.4519 - accuracy: 0.7757 - val_loss: 0.2048 - val_accuracy: 0.9293\n",
            "Epoch 2/10\n",
            "135/135 [==============================] - 13s 99ms/step - loss: 0.1371 - accuracy: 0.9488 - val_loss: 0.1765 - val_accuracy: 0.9335\n",
            "Epoch 3/10\n",
            "135/135 [==============================] - 13s 98ms/step - loss: 0.0991 - accuracy: 0.9662 - val_loss: 0.1686 - val_accuracy: 0.9385\n",
            "Epoch 4/10\n",
            "135/135 [==============================] - 13s 98ms/step - loss: 0.0463 - accuracy: 0.9859 - val_loss: 0.1851 - val_accuracy: 0.9382\n",
            "Epoch 5/10\n",
            "135/135 [==============================] - 13s 98ms/step - loss: 0.0291 - accuracy: 0.9912 - val_loss: 0.1981 - val_accuracy: 0.9403\n",
            "Epoch 6/10\n",
            "135/135 [==============================] - 13s 98ms/step - loss: 0.0167 - accuracy: 0.9954 - val_loss: 0.2402 - val_accuracy: 0.9387\n",
            "Epoch 7/10\n",
            "135/135 [==============================] - 13s 98ms/step - loss: 0.0110 - accuracy: 0.9970 - val_loss: 0.2471 - val_accuracy: 0.9375\n",
            "Epoch 8/10\n",
            "135/135 [==============================] - 13s 97ms/step - loss: 0.0073 - accuracy: 0.9983 - val_loss: 0.2750 - val_accuracy: 0.9366\n",
            "Epoch 9/10\n",
            "135/135 [==============================] - 13s 98ms/step - loss: 0.0037 - accuracy: 0.9994 - val_loss: 0.3349 - val_accuracy: 0.9340\n",
            "Epoch 10/10\n",
            "135/135 [==============================] - 13s 98ms/step - loss: 0.0038 - accuracy: 0.9995 - val_loss: 0.3712 - val_accuracy: 0.9349\n"
          ],
          "name": "stdout"
        },
        {
          "output_type": "execute_result",
          "data": {
            "text/plain": [
              "<tensorflow.python.keras.callbacks.History at 0x7f8efd820990>"
            ]
          },
          "metadata": {
            "tags": []
          },
          "execution_count": 77
        }
      ]
    },
    {
      "cell_type": "markdown",
      "metadata": {
        "id": "4GJ9iOx0roQY"
      },
      "source": [
        "## Evaluation of the model"
      ]
    },
    {
      "cell_type": "code",
      "metadata": {
        "colab": {
          "base_uri": "https://localhost:8080/"
        },
        "id": "E55KW6g7sDxg",
        "outputId": "ca356710-400c-4a52-8548-d081d6f5d099"
      },
      "source": [
        "# Predicting from test data\n",
        "y_pred=model.predict_classes(X_test)\n",
        "\n",
        "\n",
        "#Creating confusion matrix\n",
        "#confusion_matrix(y_test,y_pred)\n",
        "cm = metrics.confusion_matrix(y_test, y_pred)\n",
        "# plot_confusion_matrix(cm,classes=['Fake','True'])\n",
        "print(cm)"
      ],
      "execution_count": 78,
      "outputs": [
        {
          "output_type": "stream",
          "text": [
            "WARNING:tensorflow:Model was constructed with shape (None, 5000) for input KerasTensor(type_spec=TensorSpec(shape=(None, 5000), dtype=tf.float32, name='embedding_6_input'), name='embedding_6_input', description=\"created by layer 'embedding_6_input'\"), but it was called on an input with incompatible shape (None, 64).\n"
          ],
          "name": "stdout"
        },
        {
          "output_type": "stream",
          "text": [
            "/usr/local/lib/python3.7/dist-packages/tensorflow/python/keras/engine/sequential.py:455: UserWarning: `model.predict_classes()` is deprecated and will be removed after 2021-01-01. Please use instead:* `np.argmax(model.predict(x), axis=-1)`,   if your model does multi-class classification   (e.g. if it uses a `softmax` last-layer activation).* `(model.predict(x) > 0.5).astype(\"int32\")`,   if your model does binary classification   (e.g. if it uses a `sigmoid` last-layer activation).\n",
            "  warnings.warn('`model.predict_classes()` is deprecated and '\n"
          ],
          "name": "stderr"
        },
        {
          "output_type": "stream",
          "text": [
            "[[3769  161]\n",
            " [ 252 2148]]\n"
          ],
          "name": "stdout"
        }
      ]
    },
    {
      "cell_type": "code",
      "metadata": {
        "colab": {
          "base_uri": "https://localhost:8080/"
        },
        "id": "YET2GgxisGz3",
        "outputId": "01208b6c-5774-441b-9b37-f5734deb7efb"
      },
      "source": [
        "accuracy_score(y_test,y_pred)"
      ],
      "execution_count": 79,
      "outputs": [
        {
          "output_type": "execute_result",
          "data": {
            "text/plain": [
              "0.9347551342812006"
            ]
          },
          "metadata": {
            "tags": []
          },
          "execution_count": 79
        }
      ]
    },
    {
      "cell_type": "code",
      "metadata": {
        "colab": {
          "base_uri": "https://localhost:8080/"
        },
        "id": "xIqO0wIVsKia",
        "outputId": "5b0612e7-7adf-4fa2-d95e-c022e26b7831"
      },
      "source": [
        "print(classification_report(y_test,y_pred))"
      ],
      "execution_count": 82,
      "outputs": [
        {
          "output_type": "stream",
          "text": [
            "              precision    recall  f1-score   support\n",
            "\n",
            "           0       0.94      0.96      0.95      3930\n",
            "           1       0.93      0.90      0.91      2400\n",
            "\n",
            "    accuracy                           0.93      6330\n",
            "   macro avg       0.93      0.93      0.93      6330\n",
            "weighted avg       0.93      0.93      0.93      6330\n",
            "\n"
          ],
          "name": "stdout"
        }
      ]
    },
    {
      "cell_type": "code",
      "metadata": {
        "colab": {
          "base_uri": "https://localhost:8080/"
        },
        "id": "CH3bedsyMks6",
        "outputId": "488ab5c2-0d32-4c8f-a291-6f9370f9a8df"
      },
      "source": [
        "voc_size = 14535\n",
        "onehot_repr=[one_hot(words,voc_size)for words in ['Covid va a matar a mucha gente']]\n",
        "embedded_docs=pad_sequences(onehot_repr,padding='pre')\n",
        "model.predict(embedded_docs, batch_size=64)"
      ],
      "execution_count": 81,
      "outputs": [
        {
          "output_type": "stream",
          "text": [
            "WARNING:tensorflow:Model was constructed with shape (None, 5000) for input KerasTensor(type_spec=TensorSpec(shape=(None, 5000), dtype=tf.float32, name='embedding_6_input'), name='embedding_6_input', description=\"created by layer 'embedding_6_input'\"), but it was called on an input with incompatible shape (None, 7).\n"
          ],
          "name": "stdout"
        },
        {
          "output_type": "execute_result",
          "data": {
            "text/plain": [
              "array([[0.99964523]], dtype=float32)"
            ]
          },
          "metadata": {
            "tags": []
          },
          "execution_count": 81
        }
      ]
    }
  ]
}