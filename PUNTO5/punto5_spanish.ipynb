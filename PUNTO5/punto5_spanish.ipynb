{
  "nbformat": 4,
  "nbformat_minor": 0,
  "metadata": {
    "colab": {
      "name": "punto5_spanish.ipynb",
      "provenance": [],
      "collapsed_sections": [],
      "toc_visible": true
    },
    "kernelspec": {
      "display_name": "Python 3",
      "language": "python",
      "name": "python3"
    },
    "language_info": {
      "codemirror_mode": {
        "name": "ipython",
        "version": 2
      },
      "file_extension": ".py",
      "mimetype": "text/x-python",
      "name": "python",
      "nbconvert_exporter": "python",
      "pygments_lexer": "ipython2",
      "version": "2.7.6"
    }
  },
  "cells": [
    {
      "cell_type": "markdown",
      "metadata": {
        "collapsed": true,
        "id": "WBaIa1YJGaaR"
      },
      "source": [
        "# Punto 5\n",
        "Fake News identification in COVID public discussion. Type: Different approaches."
      ]
    },
    {
      "cell_type": "code",
      "metadata": {
        "colab": {
          "base_uri": "https://localhost:8080/"
        },
        "id": "Cjgl23PaHCjw",
        "outputId": "1226ec72-521d-4f77-a1e2-e19440b1f06e"
      },
      "source": [
        "from google.colab import drive\n",
        "drive.mount('/content/drive', force_remount=True)"
      ],
      "execution_count": 5,
      "outputs": [
        {
          "output_type": "stream",
          "text": [
            "Mounted at /content/drive\n"
          ],
          "name": "stdout"
        }
      ]
    },
    {
      "cell_type": "code",
      "metadata": {
        "id": "AN4woUcUWGRl"
      },
      "source": [
        "#install stopwords\n",
        "nltk.download()"
      ],
      "execution_count": null,
      "outputs": []
    },
    {
      "cell_type": "code",
      "metadata": {
        "id": "ZNGQtKhzHnGO"
      },
      "source": [
        "import pandas as pd\n",
        "import json\n",
        "import gensim\n",
        "import nltk\n",
        "from nltk.corpus import stopwords\n",
        "import tensorflow as tf\n",
        "import numpy as np\n",
        "from tensorflow.keras import layers\n",
        "from tensorflow.keras import losses\n",
        "from tensorflow.keras import preprocessing\n",
        "from tensorflow.keras.layers.experimental.preprocessing import TextVectorization\n",
        "from sklearn.model_selection import train_test_split\n",
        "from sklearn.preprocessing import OneHotEncoder\n",
        "from tensorflow.keras.models import Sequential\n",
        "from tensorflow.keras.layers import Embedding\n",
        "from tensorflow.keras.layers import Dropout\n",
        "from tensorflow.keras.layers import LSTM\n",
        "from tensorflow.keras.layers import Dense\n",
        "# Lib Metrics\n",
        "from sklearn import metrics\n",
        "from sklearn.metrics import classification_report\n",
        "from sklearn.model_selection import cross_val_score\n",
        "from sklearn.metrics import roc_auc_score\n",
        "from sklearn.metrics import roc_curve\n",
        "from sklearn.metrics import confusion_matrix\n",
        "from sklearn.metrics import accuracy_score"
      ],
      "execution_count": 54,
      "outputs": []
    },
    {
      "cell_type": "code",
      "metadata": {
        "colab": {
          "base_uri": "https://localhost:8080/",
          "height": 359
        },
        "id": "rCGiQJjDGaaX",
        "outputId": "ce335576-39a1-4d6a-e693-61aa09c56060"
      },
      "source": [
        "prefix = './drive/MyDrive/datasets/spanish/'\n",
        "fake_ruta = prefix + 'fake_clean.json'\n",
        "true_ruta = prefix + 'real_clean.json'\n",
        "# fake2_ruta = prefix + 'gpt2.json'\n",
        "\n",
        "fake_news = pd.read_json(fake_ruta, lines=True)\n",
        "fake_news['tag'] = 0\n",
        "true_news = pd.read_json(true_ruta, lines=True)\n",
        "true_news['tag'] = 1\n",
        "# fake_news_2 = pd.read_json(fake2_ruta, lines=True)\n",
        "# fake_news_2['tag'] = 0\n",
        "frames = [fake_news, true_news]\n",
        "df = pd.concat(frames)\n",
        "df.head(10)"
      ],
      "execution_count": 55,
      "outputs": [
        {
          "output_type": "execute_result",
          "data": {
            "text/html": [
              "<div>\n",
              "<style scoped>\n",
              "    .dataframe tbody tr th:only-of-type {\n",
              "        vertical-align: middle;\n",
              "    }\n",
              "\n",
              "    .dataframe tbody tr th {\n",
              "        vertical-align: top;\n",
              "    }\n",
              "\n",
              "    .dataframe thead th {\n",
              "        text-align: right;\n",
              "    }\n",
              "</style>\n",
              "<table border=\"1\" class=\"dataframe\">\n",
              "  <thead>\n",
              "    <tr style=\"text-align: right;\">\n",
              "      <th></th>\n",
              "      <th>text</th>\n",
              "      <th>tag</th>\n",
              "      <th>language</th>\n",
              "    </tr>\n",
              "  </thead>\n",
              "  <tbody>\n",
              "    <tr>\n",
              "      <th>0</th>\n",
              "      <td>Una publicación afirma que la vacunación oblig...</td>\n",
              "      <td>0</td>\n",
              "      <td>es</td>\n",
              "    </tr>\n",
              "    <tr>\n",
              "      <th>1</th>\n",
              "      <td>En una foto se afirma que esta persona es un m...</td>\n",
              "      <td>0</td>\n",
              "      <td>es</td>\n",
              "    </tr>\n",
              "    <tr>\n",
              "      <th>2</th>\n",
              "      <td>Publicación sobre un vídeo afirma que se trata...</td>\n",
              "      <td>0</td>\n",
              "      <td>es</td>\n",
              "    </tr>\n",
              "    <tr>\n",
              "      <th>3</th>\n",
              "      <td>Todas las muertes por insuficiencia respirator...</td>\n",
              "      <td>0</td>\n",
              "      <td>es</td>\n",
              "    </tr>\n",
              "    <tr>\n",
              "      <th>4</th>\n",
              "      <td>El decano del Colegio de Biólogos de Euskadi a...</td>\n",
              "      <td>0</td>\n",
              "      <td>es</td>\n",
              "    </tr>\n",
              "    <tr>\n",
              "      <th>5</th>\n",
              "      <td>Los hogares con pacientes con COVID-19 en Port...</td>\n",
              "      <td>0</td>\n",
              "      <td>es</td>\n",
              "    </tr>\n",
              "    <tr>\n",
              "      <th>6</th>\n",
              "      <td>Una cadena enumera recomendaciones para preven...</td>\n",
              "      <td>0</td>\n",
              "      <td>es</td>\n",
              "    </tr>\n",
              "    <tr>\n",
              "      <th>7</th>\n",
              "      <td>60.000 empresas argentinas han cerrado por COV...</td>\n",
              "      <td>0</td>\n",
              "      <td>es</td>\n",
              "    </tr>\n",
              "    <tr>\n",
              "      <th>8</th>\n",
              "      <td>Publicaciones en redes sociales critican una f...</td>\n",
              "      <td>0</td>\n",
              "      <td>es</td>\n",
              "    </tr>\n",
              "    <tr>\n",
              "      <th>9</th>\n",
              "      <td>Los CDC han publicado una actualización sobre ...</td>\n",
              "      <td>0</td>\n",
              "      <td>es</td>\n",
              "    </tr>\n",
              "  </tbody>\n",
              "</table>\n",
              "</div>"
            ],
            "text/plain": [
              "                                                text  tag language\n",
              "0  Una publicación afirma que la vacunación oblig...    0       es\n",
              "1  En una foto se afirma que esta persona es un m...    0       es\n",
              "2  Publicación sobre un vídeo afirma que se trata...    0       es\n",
              "3  Todas las muertes por insuficiencia respirator...    0       es\n",
              "4  El decano del Colegio de Biólogos de Euskadi a...    0       es\n",
              "5  Los hogares con pacientes con COVID-19 en Port...    0       es\n",
              "6  Una cadena enumera recomendaciones para preven...    0       es\n",
              "7  60.000 empresas argentinas han cerrado por COV...    0       es\n",
              "8  Publicaciones en redes sociales critican una f...    0       es\n",
              "9  Los CDC han publicado una actualización sobre ...    0       es"
            ]
          },
          "metadata": {
            "tags": []
          },
          "execution_count": 55
        }
      ]
    },
    {
      "cell_type": "markdown",
      "metadata": {
        "id": "pA_X2ZHDQYuI"
      },
      "source": [
        "## Processing"
      ]
    },
    {
      "cell_type": "code",
      "metadata": {
        "colab": {
          "base_uri": "https://localhost:8080/",
          "height": 419
        },
        "id": "pzoX7sfHNcYW",
        "outputId": "4dbac402-4b5f-44e7-a299-fa34853f8733"
      },
      "source": [
        "import re\n",
        "import string\n",
        "stop = stopwords.words('spanish')\n",
        "\n",
        "def review_cleaning(text):\n",
        "    '''Make text lowercase, remove text in square brackets,remove links,remove punctuation\n",
        "    and remove words containing numbers.'''\n",
        "    text = str(text).lower()\n",
        "    text = re.sub('\\[.*?\\]', '', text)\n",
        "    text = re.sub('https?://\\S+|www\\.\\S+', '', text)\n",
        "    text = re.sub('<.*?>+', '', text)\n",
        "    text = re.sub('[%s]' % re.escape(string.punctuation), '', text)\n",
        "    text = re.sub('\\n', '', text)\n",
        "    text = re.sub('\\w*\\d\\w*', '', text)\n",
        "    return text\n",
        "df['text']=df['text'].apply(lambda x:review_cleaning(x))\n",
        "df['text'] = df['text'].apply(lambda x: ' '.join([word for word in x.split() if word not in (stop)]))\n",
        "df"
      ],
      "execution_count": 56,
      "outputs": [
        {
          "output_type": "execute_result",
          "data": {
            "text/html": [
              "<div>\n",
              "<style scoped>\n",
              "    .dataframe tbody tr th:only-of-type {\n",
              "        vertical-align: middle;\n",
              "    }\n",
              "\n",
              "    .dataframe tbody tr th {\n",
              "        vertical-align: top;\n",
              "    }\n",
              "\n",
              "    .dataframe thead th {\n",
              "        text-align: right;\n",
              "    }\n",
              "</style>\n",
              "<table border=\"1\" class=\"dataframe\">\n",
              "  <thead>\n",
              "    <tr style=\"text-align: right;\">\n",
              "      <th></th>\n",
              "      <th>text</th>\n",
              "      <th>tag</th>\n",
              "      <th>language</th>\n",
              "    </tr>\n",
              "  </thead>\n",
              "  <tbody>\n",
              "    <tr>\n",
              "      <th>0</th>\n",
              "      <td>publicación afirma vacunación obligatoria viol...</td>\n",
              "      <td>0</td>\n",
              "      <td>es</td>\n",
              "    </tr>\n",
              "    <tr>\n",
              "      <th>1</th>\n",
              "      <td>foto afirma persona médico falleció tras atend...</td>\n",
              "      <td>0</td>\n",
              "      <td>es</td>\n",
              "    </tr>\n",
              "    <tr>\n",
              "      <th>2</th>\n",
              "      <td>publicación vídeo afirma trata protesta encier...</td>\n",
              "      <td>0</td>\n",
              "      <td>es</td>\n",
              "    </tr>\n",
              "    <tr>\n",
              "      <th>3</th>\n",
              "      <td>todas muertes insuficiencia respiratoria neumo...</td>\n",
              "      <td>0</td>\n",
              "      <td>es</td>\n",
              "    </tr>\n",
              "    <tr>\n",
              "      <th>4</th>\n",
              "      <td>decano colegio biólogos euskadi afirma gran ca...</td>\n",
              "      <td>0</td>\n",
              "      <td>es</td>\n",
              "    </tr>\n",
              "    <tr>\n",
              "      <th>...</th>\n",
              "      <td>...</td>\n",
              "      <td>...</td>\n",
              "      <td>...</td>\n",
              "    </tr>\n",
              "    <tr>\n",
              "      <th>7257</th>\n",
              "      <td>industria pesquera windsoressex cerró temporad...</td>\n",
              "      <td>1</td>\n",
              "      <td>es</td>\n",
              "    </tr>\n",
              "    <tr>\n",
              "      <th>7258</th>\n",
              "      <td>trabajador health canada da positivo</td>\n",
              "      <td>1</td>\n",
              "      <td>es</td>\n",
              "    </tr>\n",
              "    <tr>\n",
              "      <th>7259</th>\n",
              "      <td>taxis adaptan pantallas plástico límite pasajeros</td>\n",
              "      <td>1</td>\n",
              "      <td>es</td>\n",
              "    </tr>\n",
              "    <tr>\n",
              "      <th>7260</th>\n",
              "      <td>hombre increíble padre joven identificado prim...</td>\n",
              "      <td>1</td>\n",
              "      <td>es</td>\n",
              "    </tr>\n",
              "    <tr>\n",
              "      <th>7261</th>\n",
              "      <td>ns municipio advierte viaje anual canoa fin se...</td>\n",
              "      <td>1</td>\n",
              "      <td>es</td>\n",
              "    </tr>\n",
              "  </tbody>\n",
              "</table>\n",
              "<p>16989 rows × 3 columns</p>\n",
              "</div>"
            ],
            "text/plain": [
              "                                                   text  tag language\n",
              "0     publicación afirma vacunación obligatoria viol...    0       es\n",
              "1     foto afirma persona médico falleció tras atend...    0       es\n",
              "2     publicación vídeo afirma trata protesta encier...    0       es\n",
              "3     todas muertes insuficiencia respiratoria neumo...    0       es\n",
              "4     decano colegio biólogos euskadi afirma gran ca...    0       es\n",
              "...                                                 ...  ...      ...\n",
              "7257  industria pesquera windsoressex cerró temporad...    1       es\n",
              "7258               trabajador health canada da positivo    1       es\n",
              "7259  taxis adaptan pantallas plástico límite pasajeros    1       es\n",
              "7260  hombre increíble padre joven identificado prim...    1       es\n",
              "7261  ns municipio advierte viaje anual canoa fin se...    1       es\n",
              "\n",
              "[16989 rows x 3 columns]"
            ]
          },
          "metadata": {
            "tags": []
          },
          "execution_count": 56
        }
      ]
    },
    {
      "cell_type": "code",
      "metadata": {
        "id": "Uh9HZxvML4zQ"
      },
      "source": [
        "from tensorflow.keras.preprocessing.text import one_hot\n",
        "#One hot encoding \n",
        "voc_size = 14535\n",
        "onehot_repr=[one_hot(words,voc_size)for words in df['text']]"
      ],
      "execution_count": 57,
      "outputs": []
    },
    {
      "cell_type": "markdown",
      "metadata": {
        "id": "9JBWgMFXTTul"
      },
      "source": [
        "## Splitting Datasets"
      ]
    },
    {
      "cell_type": "code",
      "metadata": {
        "colab": {
          "base_uri": "https://localhost:8080/"
        },
        "id": "1J7tWpdiqntH",
        "outputId": "cda5c7f9-8934-4969-ec9d-8b0dfdc4c331"
      },
      "source": [
        "from tensorflow.keras.preprocessing.sequence import pad_sequences\n",
        "\n",
        "#Padding the sentences\n",
        "embedded_docs=pad_sequences(onehot_repr,padding='pre')\n",
        "print(embedded_docs.shape)"
      ],
      "execution_count": 58,
      "outputs": [
        {
          "output_type": "stream",
          "text": [
            "(16989, 62)\n"
          ],
          "name": "stdout"
        }
      ]
    },
    {
      "cell_type": "code",
      "metadata": {
        "colab": {
          "base_uri": "https://localhost:8080/"
        },
        "id": "yglk3AtkrLv7",
        "outputId": "2e015c3c-aad8-472d-d895-c06e7d3328e4"
      },
      "source": [
        "# Converting the X and y as array\n",
        "X_final=np.array(embedded_docs)\n",
        "y_final=np.array(df['tag'])\n",
        "\n",
        "#Check shape of X and y final\n",
        "X_final.shape,y_final.shape"
      ],
      "execution_count": 59,
      "outputs": [
        {
          "output_type": "execute_result",
          "data": {
            "text/plain": [
              "((16989, 62), (16989,))"
            ]
          },
          "metadata": {
            "tags": []
          },
          "execution_count": 59
        }
      ]
    },
    {
      "cell_type": "code",
      "metadata": {
        "id": "t_NPGGhrrPgH"
      },
      "source": [
        "X_train_val, X_test, y_train_val, y_test = train_test_split(X_final, y_final, test_size=0.33, random_state=42)\n",
        "\n",
        "X_train, X_val, y_train, y_val = train_test_split(X_train_val, y_train_val, test_size=0.33, random_state=42)"
      ],
      "execution_count": 60,
      "outputs": []
    },
    {
      "cell_type": "markdown",
      "metadata": {
        "id": "2cw6U0EnTdmn"
      },
      "source": [
        "## Model"
      ]
    },
    {
      "cell_type": "code",
      "metadata": {
        "colab": {
          "base_uri": "https://localhost:8080/"
        },
        "id": "G1WbKahErBi4",
        "outputId": "bdf7501a-9484-4802-9c38-fa6b9b5b3293"
      },
      "source": [
        "#Creating the lstm model\n",
        "sent_length = 5000\n",
        "embedding_vector_features=40\n",
        "model=Sequential()\n",
        "model.add(Embedding(voc_size,embedding_vector_features,input_length=sent_length))\n",
        "model.add(Dropout(0.3))\n",
        "model.add(LSTM(100)) #Adding 100 lstm neurons in the layer\n",
        "model.add(Dropout(0.3))\n",
        "model.add(Dense(1,activation='sigmoid'))\n",
        "\n",
        "#Compiling the model\n",
        "model.compile(loss='binary_crossentropy',optimizer='adam',metrics=['accuracy'])\n",
        "print(model.summary())"
      ],
      "execution_count": 61,
      "outputs": [
        {
          "output_type": "stream",
          "text": [
            "Model: \"sequential_2\"\n",
            "_________________________________________________________________\n",
            "Layer (type)                 Output Shape              Param #   \n",
            "=================================================================\n",
            "embedding_2 (Embedding)      (None, 5000, 40)          581400    \n",
            "_________________________________________________________________\n",
            "dropout_4 (Dropout)          (None, 5000, 40)          0         \n",
            "_________________________________________________________________\n",
            "lstm_2 (LSTM)                (None, 100)               56400     \n",
            "_________________________________________________________________\n",
            "dropout_5 (Dropout)          (None, 100)               0         \n",
            "_________________________________________________________________\n",
            "dense_2 (Dense)              (None, 1)                 101       \n",
            "=================================================================\n",
            "Total params: 637,901\n",
            "Trainable params: 637,901\n",
            "Non-trainable params: 0\n",
            "_________________________________________________________________\n",
            "None\n"
          ],
          "name": "stdout"
        }
      ]
    },
    {
      "cell_type": "code",
      "metadata": {
        "colab": {
          "base_uri": "https://localhost:8080/"
        },
        "id": "47lmm6vsrd9m",
        "outputId": "c588f4f7-9e3e-48b1-886a-b7f834851a22"
      },
      "source": [
        "model.fit(X_train,y_train,validation_data=(X_val,y_val),epochs=10,batch_size=64)"
      ],
      "execution_count": 62,
      "outputs": [
        {
          "output_type": "stream",
          "text": [
            "Epoch 1/10\n",
            "WARNING:tensorflow:Model was constructed with shape (None, 5000) for input KerasTensor(type_spec=TensorSpec(shape=(None, 5000), dtype=tf.float32, name='embedding_2_input'), name='embedding_2_input', description=\"created by layer 'embedding_2_input'\"), but it was called on an input with incompatible shape (None, 62).\n",
            "WARNING:tensorflow:Model was constructed with shape (None, 5000) for input KerasTensor(type_spec=TensorSpec(shape=(None, 5000), dtype=tf.float32, name='embedding_2_input'), name='embedding_2_input', description=\"created by layer 'embedding_2_input'\"), but it was called on an input with incompatible shape (None, 62).\n",
            "119/120 [============================>.] - ETA: 0s - loss: 0.5976 - accuracy: 0.7303WARNING:tensorflow:Model was constructed with shape (None, 5000) for input KerasTensor(type_spec=TensorSpec(shape=(None, 5000), dtype=tf.float32, name='embedding_2_input'), name='embedding_2_input', description=\"created by layer 'embedding_2_input'\"), but it was called on an input with incompatible shape (None, 62).\n",
            "120/120 [==============================] - 14s 100ms/step - loss: 0.5971 - accuracy: 0.7306 - val_loss: 0.3706 - val_accuracy: 0.8674\n",
            "Epoch 2/10\n",
            "120/120 [==============================] - 11s 96ms/step - loss: 0.2481 - accuracy: 0.9149 - val_loss: 0.2038 - val_accuracy: 0.9225\n",
            "Epoch 3/10\n",
            "120/120 [==============================] - 11s 95ms/step - loss: 0.1712 - accuracy: 0.9465 - val_loss: 0.2149 - val_accuracy: 0.9148\n",
            "Epoch 4/10\n",
            "120/120 [==============================] - 11s 95ms/step - loss: 0.1309 - accuracy: 0.9601 - val_loss: 0.2074 - val_accuracy: 0.9167\n",
            "Epoch 5/10\n",
            "120/120 [==============================] - 11s 95ms/step - loss: 0.0699 - accuracy: 0.9812 - val_loss: 0.1919 - val_accuracy: 0.9268\n",
            "Epoch 6/10\n",
            "120/120 [==============================] - 11s 95ms/step - loss: 0.0428 - accuracy: 0.9877 - val_loss: 0.2032 - val_accuracy: 0.9268\n",
            "Epoch 7/10\n",
            "120/120 [==============================] - 11s 96ms/step - loss: 0.0291 - accuracy: 0.9924 - val_loss: 0.2190 - val_accuracy: 0.9276\n",
            "Epoch 8/10\n",
            "120/120 [==============================] - 12s 96ms/step - loss: 0.0198 - accuracy: 0.9951 - val_loss: 0.2426 - val_accuracy: 0.9265\n",
            "Epoch 9/10\n",
            "120/120 [==============================] - 11s 95ms/step - loss: 0.0142 - accuracy: 0.9958 - val_loss: 0.2590 - val_accuracy: 0.9225\n",
            "Epoch 10/10\n",
            "120/120 [==============================] - 11s 96ms/step - loss: 0.0083 - accuracy: 0.9983 - val_loss: 0.2871 - val_accuracy: 0.9217\n"
          ],
          "name": "stdout"
        },
        {
          "output_type": "execute_result",
          "data": {
            "text/plain": [
              "<tensorflow.python.keras.callbacks.History at 0x7efb8dd655d0>"
            ]
          },
          "metadata": {
            "tags": []
          },
          "execution_count": 62
        }
      ]
    },
    {
      "cell_type": "markdown",
      "metadata": {
        "id": "4GJ9iOx0roQY"
      },
      "source": [
        "## Evaluation of the model"
      ]
    },
    {
      "cell_type": "code",
      "metadata": {
        "colab": {
          "base_uri": "https://localhost:8080/"
        },
        "id": "E55KW6g7sDxg",
        "outputId": "d75aadbe-1fc6-48b0-c925-0a86332c255a"
      },
      "source": [
        "# Predicting from test data\n",
        "y_pred=model.predict_classes(X_test)\n",
        "\n",
        "\n",
        "#Creating confusion matrix\n",
        "#confusion_matrix(y_test,y_pred)\n",
        "cm = metrics.confusion_matrix(y_test, y_pred)\n",
        "# plot_confusion_matrix(cm,classes=['Fake','True'])\n",
        "print(cm)"
      ],
      "execution_count": 63,
      "outputs": [
        {
          "output_type": "stream",
          "text": [
            "WARNING:tensorflow:Model was constructed with shape (None, 5000) for input KerasTensor(type_spec=TensorSpec(shape=(None, 5000), dtype=tf.float32, name='embedding_2_input'), name='embedding_2_input', description=\"created by layer 'embedding_2_input'\"), but it was called on an input with incompatible shape (None, 62).\n"
          ],
          "name": "stdout"
        },
        {
          "output_type": "stream",
          "text": [
            "/usr/local/lib/python3.7/dist-packages/tensorflow/python/keras/engine/sequential.py:455: UserWarning: `model.predict_classes()` is deprecated and will be removed after 2021-01-01. Please use instead:* `np.argmax(model.predict(x), axis=-1)`,   if your model does multi-class classification   (e.g. if it uses a `softmax` last-layer activation).* `(model.predict(x) > 0.5).astype(\"int32\")`,   if your model does binary classification   (e.g. if it uses a `sigmoid` last-layer activation).\n",
            "  warnings.warn('`model.predict_classes()` is deprecated and '\n"
          ],
          "name": "stderr"
        },
        {
          "output_type": "stream",
          "text": [
            "[[3045  202]\n",
            " [ 286 2074]]\n"
          ],
          "name": "stdout"
        }
      ]
    },
    {
      "cell_type": "code",
      "metadata": {
        "colab": {
          "base_uri": "https://localhost:8080/"
        },
        "id": "YET2GgxisGz3",
        "outputId": "548febe1-b219-4abe-85ce-e18f7393d45a"
      },
      "source": [
        "accuracy_score(y_test,y_pred)"
      ],
      "execution_count": 64,
      "outputs": [
        {
          "output_type": "execute_result",
          "data": {
            "text/plain": [
              "0.9129659354378455"
            ]
          },
          "metadata": {
            "tags": []
          },
          "execution_count": 64
        }
      ]
    },
    {
      "cell_type": "code",
      "metadata": {
        "colab": {
          "base_uri": "https://localhost:8080/"
        },
        "id": "xIqO0wIVsKia",
        "outputId": "c06e6f9b-c87d-4d4f-bc43-58a5f456594d"
      },
      "source": [
        "print(classification_report(y_test,y_pred))\n"
      ],
      "execution_count": 65,
      "outputs": [
        {
          "output_type": "stream",
          "text": [
            "              precision    recall  f1-score   support\n",
            "\n",
            "           0       0.91      0.94      0.93      3247\n",
            "           1       0.91      0.88      0.89      2360\n",
            "\n",
            "    accuracy                           0.91      5607\n",
            "   macro avg       0.91      0.91      0.91      5607\n",
            "weighted avg       0.91      0.91      0.91      5607\n",
            "\n"
          ],
          "name": "stdout"
        }
      ]
    },
    {
      "cell_type": "code",
      "metadata": {
        "colab": {
          "base_uri": "https://localhost:8080/"
        },
        "id": "CH3bedsyMks6",
        "outputId": "d51a50de-e3c0-4768-dfa9-4d532dbc8733"
      },
      "source": [
        "voc_size = 14535\n",
        "arr = [\n",
        "       'Google lancia la nuova mappa globale Covid-19 per i giornalisti journalist',\n",
        "]\n",
        "onehot_repr=[one_hot(words,voc_size)for words in arr]\n",
        "embedded_docs=pad_sequences(onehot_repr,padding='pre')\n",
        "model.predict(embedded_docs, batch_size=64)"
      ],
      "execution_count": 66,
      "outputs": [
        {
          "output_type": "stream",
          "text": [
            "WARNING:tensorflow:Model was constructed with shape (None, 5000) for input KerasTensor(type_spec=TensorSpec(shape=(None, 5000), dtype=tf.float32, name='embedding_2_input'), name='embedding_2_input', description=\"created by layer 'embedding_2_input'\"), but it was called on an input with incompatible shape (None, 12).\n"
          ],
          "name": "stdout"
        },
        {
          "output_type": "execute_result",
          "data": {
            "text/plain": [
              "array([[0.9960425]], dtype=float32)"
            ]
          },
          "metadata": {
            "tags": []
          },
          "execution_count": 66
        }
      ]
    }
  ]
}