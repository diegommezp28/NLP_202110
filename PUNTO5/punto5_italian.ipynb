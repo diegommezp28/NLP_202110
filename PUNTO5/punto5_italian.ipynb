{
  "nbformat": 4,
  "nbformat_minor": 0,
  "metadata": {
    "colab": {
      "name": "punto5_italian.ipynb",
      "provenance": [],
      "collapsed_sections": [],
      "toc_visible": true
    },
    "kernelspec": {
      "display_name": "Python 3",
      "language": "python",
      "name": "python3"
    },
    "language_info": {
      "codemirror_mode": {
        "name": "ipython",
        "version": 2
      },
      "file_extension": ".py",
      "mimetype": "text/x-python",
      "name": "python",
      "nbconvert_exporter": "python",
      "pygments_lexer": "ipython2",
      "version": "2.7.6"
    }
  },
  "cells": [
    {
      "cell_type": "markdown",
      "metadata": {
        "collapsed": true,
        "id": "WBaIa1YJGaaR"
      },
      "source": [
        "# Punto 5\n",
        "Fake News identification in COVID public discussion. Type: Different approaches."
      ]
    },
    {
      "cell_type": "code",
      "metadata": {
        "colab": {
          "base_uri": "https://localhost:8080/"
        },
        "id": "Cjgl23PaHCjw",
        "outputId": "1226ec72-521d-4f77-a1e2-e19440b1f06e"
      },
      "source": [
        "from google.colab import drive\n",
        "drive.mount('/content/drive', force_remount=True)"
      ],
      "execution_count": 5,
      "outputs": [
        {
          "output_type": "stream",
          "text": [
            "Mounted at /content/drive\n"
          ],
          "name": "stdout"
        }
      ]
    },
    {
      "cell_type": "code",
      "metadata": {
        "id": "AN4woUcUWGRl"
      },
      "source": [
        "#install stopwords\n",
        "nltk.download()"
      ],
      "execution_count": null,
      "outputs": []
    },
    {
      "cell_type": "code",
      "metadata": {
        "id": "ZNGQtKhzHnGO"
      },
      "source": [
        "import pandas as pd\n",
        "import json\n",
        "import gensim\n",
        "import nltk\n",
        "from nltk.corpus import stopwords\n",
        "import tensorflow as tf\n",
        "import numpy as np\n",
        "from tensorflow.keras import layers\n",
        "from tensorflow.keras import losses\n",
        "from tensorflow.keras import preprocessing\n",
        "from tensorflow.keras.layers.experimental.preprocessing import TextVectorization\n",
        "from sklearn.model_selection import train_test_split\n",
        "from sklearn.preprocessing import OneHotEncoder\n",
        "from tensorflow.keras.models import Sequential\n",
        "from tensorflow.keras.layers import Embedding\n",
        "from tensorflow.keras.layers import Dropout\n",
        "from tensorflow.keras.layers import LSTM\n",
        "from tensorflow.keras.layers import Dense\n",
        "# Lib Metrics\n",
        "from sklearn import metrics\n",
        "from sklearn.metrics import classification_report\n",
        "from sklearn.model_selection import cross_val_score\n",
        "from sklearn.metrics import roc_auc_score\n",
        "from sklearn.metrics import roc_curve\n",
        "from sklearn.metrics import confusion_matrix\n",
        "from sklearn.metrics import accuracy_score"
      ],
      "execution_count": 6,
      "outputs": []
    },
    {
      "cell_type": "code",
      "metadata": {
        "colab": {
          "base_uri": "https://localhost:8080/",
          "height": 359
        },
        "id": "rCGiQJjDGaaX",
        "outputId": "7b81699a-5827-41a2-a7c9-7f16a7b1b495"
      },
      "source": [
        "prefix = './drive/MyDrive/datasets/italian/'\n",
        "fake_ruta = prefix + 'fake_clean.json'\n",
        "true_ruta = prefix + 'real_clean.json'\n",
        "# fake2_ruta = prefix + 'gpt2.json'\n",
        "\n",
        "fake_news = pd.read_json(fake_ruta, lines=True)\n",
        "fake_news['tag'] = 0\n",
        "true_news = pd.read_json(true_ruta, lines=True)\n",
        "true_news['tag'] = 1\n",
        "# fake_news_2 = pd.read_json(fake2_ruta, lines=True)\n",
        "# fake_news_2['tag'] = 0\n",
        "frames = [fake_news, true_news]\n",
        "df = pd.concat(frames)\n",
        "df.head(10)"
      ],
      "execution_count": 12,
      "outputs": [
        {
          "output_type": "execute_result",
          "data": {
            "text/html": [
              "<div>\n",
              "<style scoped>\n",
              "    .dataframe tbody tr th:only-of-type {\n",
              "        vertical-align: middle;\n",
              "    }\n",
              "\n",
              "    .dataframe tbody tr th {\n",
              "        vertical-align: top;\n",
              "    }\n",
              "\n",
              "    .dataframe thead th {\n",
              "        text-align: right;\n",
              "    }\n",
              "</style>\n",
              "<table border=\"1\" class=\"dataframe\">\n",
              "  <thead>\n",
              "    <tr style=\"text-align: right;\">\n",
              "      <th></th>\n",
              "      <th>text</th>\n",
              "      <th>tag</th>\n",
              "      <th>language</th>\n",
              "    </tr>\n",
              "  </thead>\n",
              "  <tbody>\n",
              "    <tr>\n",
              "      <th>0</th>\n",
              "      <td>Un post afferma che la vaccinazione obbligator...</td>\n",
              "      <td>0</td>\n",
              "      <td>it</td>\n",
              "    </tr>\n",
              "    <tr>\n",
              "      <th>1</th>\n",
              "      <td>Una foto afferma che questa persona è un medic...</td>\n",
              "      <td>0</td>\n",
              "      <td>it</td>\n",
              "    </tr>\n",
              "    <tr>\n",
              "      <th>2</th>\n",
              "      <td>Post su un video sostiene che si tratta di una...</td>\n",
              "      <td>0</td>\n",
              "      <td>it</td>\n",
              "    </tr>\n",
              "    <tr>\n",
              "      <th>3</th>\n",
              "      <td>Tutti i decessi per insufficienza respiratoria...</td>\n",
              "      <td>0</td>\n",
              "      <td>it</td>\n",
              "    </tr>\n",
              "    <tr>\n",
              "      <th>4</th>\n",
              "      <td>Il preside del College of Biologists of Euskad...</td>\n",
              "      <td>0</td>\n",
              "      <td>it</td>\n",
              "    </tr>\n",
              "    <tr>\n",
              "      <th>5</th>\n",
              "      <td>Le famiglie con pazienti COVID-19 a Porto Aleg...</td>\n",
              "      <td>0</td>\n",
              "      <td>it</td>\n",
              "    </tr>\n",
              "    <tr>\n",
              "      <th>6</th>\n",
              "      <td>Una catena elenca le raccomandazioni per preve...</td>\n",
              "      <td>0</td>\n",
              "      <td>it</td>\n",
              "    </tr>\n",
              "    <tr>\n",
              "      <th>7</th>\n",
              "      <td>60.000 aziende argentine hanno chiuso a causa ...</td>\n",
              "      <td>0</td>\n",
              "      <td>it</td>\n",
              "    </tr>\n",
              "    <tr>\n",
              "      <th>8</th>\n",
              "      <td>I post sui social media criticano una foto del...</td>\n",
              "      <td>0</td>\n",
              "      <td>it</td>\n",
              "    </tr>\n",
              "    <tr>\n",
              "      <th>9</th>\n",
              "      <td>CDC ha rilasciato un aggiornamento su come può...</td>\n",
              "      <td>0</td>\n",
              "      <td>it</td>\n",
              "    </tr>\n",
              "  </tbody>\n",
              "</table>\n",
              "</div>"
            ],
            "text/plain": [
              "                                                text  tag language\n",
              "0  Un post afferma che la vaccinazione obbligator...    0       it\n",
              "1  Una foto afferma che questa persona è un medic...    0       it\n",
              "2  Post su un video sostiene che si tratta di una...    0       it\n",
              "3  Tutti i decessi per insufficienza respiratoria...    0       it\n",
              "4  Il preside del College of Biologists of Euskad...    0       it\n",
              "5  Le famiglie con pazienti COVID-19 a Porto Aleg...    0       it\n",
              "6  Una catena elenca le raccomandazioni per preve...    0       it\n",
              "7  60.000 aziende argentine hanno chiuso a causa ...    0       it\n",
              "8  I post sui social media criticano una foto del...    0       it\n",
              "9  CDC ha rilasciato un aggiornamento su come può...    0       it"
            ]
          },
          "metadata": {
            "tags": []
          },
          "execution_count": 12
        }
      ]
    },
    {
      "cell_type": "markdown",
      "metadata": {
        "id": "pA_X2ZHDQYuI"
      },
      "source": [
        "## Processing"
      ]
    },
    {
      "cell_type": "code",
      "metadata": {
        "colab": {
          "base_uri": "https://localhost:8080/",
          "height": 419
        },
        "id": "pzoX7sfHNcYW",
        "outputId": "be3a90e7-5233-42dd-beb9-83d3094b72b2"
      },
      "source": [
        "import re\n",
        "import string\n",
        "stop = stopwords.words('italian')\n",
        "\n",
        "def review_cleaning(text):\n",
        "    '''Make text lowercase, remove text in square brackets,remove links,remove punctuation\n",
        "    and remove words containing numbers.'''\n",
        "    text = str(text).lower()\n",
        "    text = re.sub('\\[.*?\\]', '', text)\n",
        "    text = re.sub('https?://\\S+|www\\.\\S+', '', text)\n",
        "    text = re.sub('<.*?>+', '', text)\n",
        "    text = re.sub('[%s]' % re.escape(string.punctuation), '', text)\n",
        "    text = re.sub('\\n', '', text)\n",
        "    text = re.sub('\\w*\\d\\w*', '', text)\n",
        "    return text\n",
        "df['text']=df['text'].apply(lambda x:review_cleaning(x))\n",
        "df['text'] = df['text'].apply(lambda x: ' '.join([word for word in x.split() if word not in (stop)]))\n",
        "df"
      ],
      "execution_count": 28,
      "outputs": [
        {
          "output_type": "execute_result",
          "data": {
            "text/html": [
              "<div>\n",
              "<style scoped>\n",
              "    .dataframe tbody tr th:only-of-type {\n",
              "        vertical-align: middle;\n",
              "    }\n",
              "\n",
              "    .dataframe tbody tr th {\n",
              "        vertical-align: top;\n",
              "    }\n",
              "\n",
              "    .dataframe thead th {\n",
              "        text-align: right;\n",
              "    }\n",
              "</style>\n",
              "<table border=\"1\" class=\"dataframe\">\n",
              "  <thead>\n",
              "    <tr style=\"text-align: right;\">\n",
              "      <th></th>\n",
              "      <th>text</th>\n",
              "      <th>tag</th>\n",
              "      <th>language</th>\n",
              "    </tr>\n",
              "  </thead>\n",
              "  <tbody>\n",
              "    <tr>\n",
              "      <th>0</th>\n",
              "      <td>post afferma vaccinazione obbligatoria viola p...</td>\n",
              "      <td>0</td>\n",
              "      <td>it</td>\n",
              "    </tr>\n",
              "    <tr>\n",
              "      <th>1</th>\n",
              "      <td>foto afferma persona medico morto dopo aver as...</td>\n",
              "      <td>0</td>\n",
              "      <td>it</td>\n",
              "    </tr>\n",
              "    <tr>\n",
              "      <th>2</th>\n",
              "      <td>post video sostiene tratta protesta confinazio...</td>\n",
              "      <td>0</td>\n",
              "      <td>it</td>\n",
              "    </tr>\n",
              "    <tr>\n",
              "      <th>3</th>\n",
              "      <td>decessi insufficienza respiratoria polmonite v...</td>\n",
              "      <td>0</td>\n",
              "      <td>it</td>\n",
              "    </tr>\n",
              "    <tr>\n",
              "      <th>4</th>\n",
              "      <td>preside college biologists euskadi afferma mol...</td>\n",
              "      <td>0</td>\n",
              "      <td>it</td>\n",
              "    </tr>\n",
              "    <tr>\n",
              "      <th>...</th>\n",
              "      <td>...</td>\n",
              "      <td>...</td>\n",
              "      <td>...</td>\n",
              "    </tr>\n",
              "    <tr>\n",
              "      <th>7257</th>\n",
              "      <td>lindustria pesca windsoressex stata chiusa dur...</td>\n",
              "      <td>1</td>\n",
              "      <td>it</td>\n",
              "    </tr>\n",
              "    <tr>\n",
              "      <th>7258</th>\n",
              "      <td>lavoratore health canada risulta positivo</td>\n",
              "      <td>1</td>\n",
              "      <td>it</td>\n",
              "    </tr>\n",
              "    <tr>\n",
              "      <th>7259</th>\n",
              "      <td>taxi adattano scudi plastica limite passeggeri</td>\n",
              "      <td>1</td>\n",
              "      <td>it</td>\n",
              "    </tr>\n",
              "    <tr>\n",
              "      <th>7260</th>\n",
              "      <td>uomo straordinario giovane padre stato identif...</td>\n",
              "      <td>1</td>\n",
              "      <td>it</td>\n",
              "    </tr>\n",
              "    <tr>\n",
              "      <th>7261</th>\n",
              "      <td>ns comune mette guardia viaggio annuale canoa ...</td>\n",
              "      <td>1</td>\n",
              "      <td>it</td>\n",
              "    </tr>\n",
              "  </tbody>\n",
              "</table>\n",
              "<p>16989 rows × 3 columns</p>\n",
              "</div>"
            ],
            "text/plain": [
              "                                                   text  tag language\n",
              "0     post afferma vaccinazione obbligatoria viola p...    0       it\n",
              "1     foto afferma persona medico morto dopo aver as...    0       it\n",
              "2     post video sostiene tratta protesta confinazio...    0       it\n",
              "3     decessi insufficienza respiratoria polmonite v...    0       it\n",
              "4     preside college biologists euskadi afferma mol...    0       it\n",
              "...                                                 ...  ...      ...\n",
              "7257  lindustria pesca windsoressex stata chiusa dur...    1       it\n",
              "7258          lavoratore health canada risulta positivo    1       it\n",
              "7259     taxi adattano scudi plastica limite passeggeri    1       it\n",
              "7260  uomo straordinario giovane padre stato identif...    1       it\n",
              "7261  ns comune mette guardia viaggio annuale canoa ...    1       it\n",
              "\n",
              "[16989 rows x 3 columns]"
            ]
          },
          "metadata": {
            "tags": []
          },
          "execution_count": 28
        }
      ]
    },
    {
      "cell_type": "code",
      "metadata": {
        "id": "Uh9HZxvML4zQ"
      },
      "source": [
        "from tensorflow.keras.preprocessing.text import one_hot\n",
        "#One hot encoding \n",
        "voc_size = 14535\n",
        "onehot_repr=[one_hot(words,voc_size)for words in df['text']]"
      ],
      "execution_count": 29,
      "outputs": []
    },
    {
      "cell_type": "markdown",
      "metadata": {
        "id": "9JBWgMFXTTul"
      },
      "source": [
        "## Splitting Datasets"
      ]
    },
    {
      "cell_type": "code",
      "metadata": {
        "colab": {
          "base_uri": "https://localhost:8080/"
        },
        "id": "1J7tWpdiqntH",
        "outputId": "11f13122-0916-4afe-9e94-aba379231e76"
      },
      "source": [
        "from tensorflow.keras.preprocessing.sequence import pad_sequences\n",
        "\n",
        "#Padding the sentences\n",
        "embedded_docs=pad_sequences(onehot_repr,padding='pre')\n",
        "print(embedded_docs.shape)"
      ],
      "execution_count": 30,
      "outputs": [
        {
          "output_type": "stream",
          "text": [
            "(16989, 69)\n"
          ],
          "name": "stdout"
        }
      ]
    },
    {
      "cell_type": "code",
      "metadata": {
        "colab": {
          "base_uri": "https://localhost:8080/"
        },
        "id": "yglk3AtkrLv7",
        "outputId": "ac626ac7-cf55-4968-aec7-a14dba7d9b97"
      },
      "source": [
        "# Converting the X and y as array\n",
        "X_final=np.array(embedded_docs)\n",
        "y_final=np.array(df['tag'])\n",
        "\n",
        "#Check shape of X and y final\n",
        "X_final.shape,y_final.shape"
      ],
      "execution_count": 31,
      "outputs": [
        {
          "output_type": "execute_result",
          "data": {
            "text/plain": [
              "((16989, 69), (16989,))"
            ]
          },
          "metadata": {
            "tags": []
          },
          "execution_count": 31
        }
      ]
    },
    {
      "cell_type": "code",
      "metadata": {
        "id": "t_NPGGhrrPgH"
      },
      "source": [
        "X_train_val, X_test, y_train_val, y_test = train_test_split(X_final, y_final, test_size=0.33, random_state=42)\n",
        "\n",
        "X_train, X_val, y_train, y_val = train_test_split(X_train_val, y_train_val, test_size=0.33, random_state=42)"
      ],
      "execution_count": 32,
      "outputs": []
    },
    {
      "cell_type": "markdown",
      "metadata": {
        "id": "2cw6U0EnTdmn"
      },
      "source": [
        "## Model"
      ]
    },
    {
      "cell_type": "code",
      "metadata": {
        "colab": {
          "base_uri": "https://localhost:8080/"
        },
        "id": "G1WbKahErBi4",
        "outputId": "fe77fd04-9ec6-465e-b4b7-52a2b1177854"
      },
      "source": [
        "#Creating the lstm model\n",
        "sent_length = 5000\n",
        "embedding_vector_features=40\n",
        "model=Sequential()\n",
        "model.add(Embedding(voc_size,embedding_vector_features,input_length=sent_length))\n",
        "model.add(Dropout(0.3))\n",
        "model.add(LSTM(100)) #Adding 100 lstm neurons in the layer\n",
        "model.add(Dropout(0.3))\n",
        "model.add(Dense(1,activation='sigmoid'))\n",
        "\n",
        "#Compiling the model\n",
        "model.compile(loss='binary_crossentropy',optimizer='adam',metrics=['accuracy'])\n",
        "print(model.summary())"
      ],
      "execution_count": 33,
      "outputs": [
        {
          "output_type": "stream",
          "text": [
            "Model: \"sequential_1\"\n",
            "_________________________________________________________________\n",
            "Layer (type)                 Output Shape              Param #   \n",
            "=================================================================\n",
            "embedding_1 (Embedding)      (None, 5000, 40)          581400    \n",
            "_________________________________________________________________\n",
            "dropout_2 (Dropout)          (None, 5000, 40)          0         \n",
            "_________________________________________________________________\n",
            "lstm_1 (LSTM)                (None, 100)               56400     \n",
            "_________________________________________________________________\n",
            "dropout_3 (Dropout)          (None, 100)               0         \n",
            "_________________________________________________________________\n",
            "dense_1 (Dense)              (None, 1)                 101       \n",
            "=================================================================\n",
            "Total params: 637,901\n",
            "Trainable params: 637,901\n",
            "Non-trainable params: 0\n",
            "_________________________________________________________________\n",
            "None\n"
          ],
          "name": "stdout"
        }
      ]
    },
    {
      "cell_type": "code",
      "metadata": {
        "colab": {
          "base_uri": "https://localhost:8080/"
        },
        "id": "47lmm6vsrd9m",
        "outputId": "cbbc1e40-bbec-4be8-fa49-51945575b440"
      },
      "source": [
        "model.fit(X_train,y_train,validation_data=(X_val,y_val),epochs=10,batch_size=64)"
      ],
      "execution_count": 34,
      "outputs": [
        {
          "output_type": "stream",
          "text": [
            "Epoch 1/10\n",
            "WARNING:tensorflow:Model was constructed with shape (None, 5000) for input KerasTensor(type_spec=TensorSpec(shape=(None, 5000), dtype=tf.float32, name='embedding_1_input'), name='embedding_1_input', description=\"created by layer 'embedding_1_input'\"), but it was called on an input with incompatible shape (None, 69).\n",
            "WARNING:tensorflow:Model was constructed with shape (None, 5000) for input KerasTensor(type_spec=TensorSpec(shape=(None, 5000), dtype=tf.float32, name='embedding_1_input'), name='embedding_1_input', description=\"created by layer 'embedding_1_input'\"), but it was called on an input with incompatible shape (None, 69).\n",
            "120/120 [==============================] - ETA: 0s - loss: 0.5094 - accuracy: 0.7329WARNING:tensorflow:Model was constructed with shape (None, 5000) for input KerasTensor(type_spec=TensorSpec(shape=(None, 5000), dtype=tf.float32, name='embedding_1_input'), name='embedding_1_input', description=\"created by layer 'embedding_1_input'\"), but it was called on an input with incompatible shape (None, 69).\n",
            "120/120 [==============================] - 15s 109ms/step - loss: 0.5094 - accuracy: 0.7329 - val_loss: 0.2619 - val_accuracy: 0.8863\n",
            "Epoch 2/10\n",
            "120/120 [==============================] - 13s 105ms/step - loss: 0.1713 - accuracy: 0.9370 - val_loss: 0.1987 - val_accuracy: 0.9239\n",
            "Epoch 3/10\n",
            "120/120 [==============================] - 13s 107ms/step - loss: 0.0894 - accuracy: 0.9705 - val_loss: 0.2057 - val_accuracy: 0.9279\n",
            "Epoch 4/10\n",
            "120/120 [==============================] - 13s 107ms/step - loss: 0.0456 - accuracy: 0.9862 - val_loss: 0.2368 - val_accuracy: 0.9239\n",
            "Epoch 5/10\n",
            "120/120 [==============================] - 13s 107ms/step - loss: 0.0342 - accuracy: 0.9875 - val_loss: 0.2410 - val_accuracy: 0.9180\n",
            "Epoch 6/10\n",
            "120/120 [==============================] - 13s 106ms/step - loss: 0.0235 - accuracy: 0.9937 - val_loss: 0.2871 - val_accuracy: 0.9215\n",
            "Epoch 7/10\n",
            "120/120 [==============================] - 13s 106ms/step - loss: 0.0081 - accuracy: 0.9984 - val_loss: 0.3406 - val_accuracy: 0.9244\n",
            "Epoch 8/10\n",
            "120/120 [==============================] - 13s 105ms/step - loss: 0.0061 - accuracy: 0.9992 - val_loss: 0.3607 - val_accuracy: 0.9247\n",
            "Epoch 9/10\n",
            "120/120 [==============================] - 13s 106ms/step - loss: 0.0111 - accuracy: 0.9970 - val_loss: 0.3377 - val_accuracy: 0.9212\n",
            "Epoch 10/10\n",
            "120/120 [==============================] - 13s 106ms/step - loss: 0.0035 - accuracy: 0.9990 - val_loss: 0.3996 - val_accuracy: 0.9199\n"
          ],
          "name": "stdout"
        },
        {
          "output_type": "execute_result",
          "data": {
            "text/plain": [
              "<tensorflow.python.keras.callbacks.History at 0x7efb9d3ad210>"
            ]
          },
          "metadata": {
            "tags": []
          },
          "execution_count": 34
        }
      ]
    },
    {
      "cell_type": "markdown",
      "metadata": {
        "id": "4GJ9iOx0roQY"
      },
      "source": [
        "## Evaluation of the model"
      ]
    },
    {
      "cell_type": "code",
      "metadata": {
        "colab": {
          "base_uri": "https://localhost:8080/"
        },
        "id": "E55KW6g7sDxg",
        "outputId": "ceda2a92-cd94-4a30-d263-ef6354a57460"
      },
      "source": [
        "# Predicting from test data\n",
        "y_pred=model.predict_classes(X_test)\n",
        "\n",
        "\n",
        "#Creating confusion matrix\n",
        "#confusion_matrix(y_test,y_pred)\n",
        "cm = metrics.confusion_matrix(y_test, y_pred)\n",
        "# plot_confusion_matrix(cm,classes=['Fake','True'])\n",
        "print(cm)"
      ],
      "execution_count": 35,
      "outputs": [
        {
          "output_type": "stream",
          "text": [
            "WARNING:tensorflow:Model was constructed with shape (None, 5000) for input KerasTensor(type_spec=TensorSpec(shape=(None, 5000), dtype=tf.float32, name='embedding_1_input'), name='embedding_1_input', description=\"created by layer 'embedding_1_input'\"), but it was called on an input with incompatible shape (None, 69).\n"
          ],
          "name": "stdout"
        },
        {
          "output_type": "stream",
          "text": [
            "/usr/local/lib/python3.7/dist-packages/tensorflow/python/keras/engine/sequential.py:455: UserWarning: `model.predict_classes()` is deprecated and will be removed after 2021-01-01. Please use instead:* `np.argmax(model.predict(x), axis=-1)`,   if your model does multi-class classification   (e.g. if it uses a `softmax` last-layer activation).* `(model.predict(x) > 0.5).astype(\"int32\")`,   if your model does binary classification   (e.g. if it uses a `sigmoid` last-layer activation).\n",
            "  warnings.warn('`model.predict_classes()` is deprecated and '\n"
          ],
          "name": "stderr"
        },
        {
          "output_type": "stream",
          "text": [
            "[[2993  254]\n",
            " [ 281 2079]]\n"
          ],
          "name": "stdout"
        }
      ]
    },
    {
      "cell_type": "code",
      "metadata": {
        "colab": {
          "base_uri": "https://localhost:8080/"
        },
        "id": "YET2GgxisGz3",
        "outputId": "bdb9898e-00cc-4c0d-b4f0-ecf2039205bd"
      },
      "source": [
        "accuracy_score(y_test,y_pred)"
      ],
      "execution_count": 36,
      "outputs": [
        {
          "output_type": "execute_result",
          "data": {
            "text/plain": [
              "0.9045835562689495"
            ]
          },
          "metadata": {
            "tags": []
          },
          "execution_count": 36
        }
      ]
    },
    {
      "cell_type": "code",
      "metadata": {
        "colab": {
          "base_uri": "https://localhost:8080/"
        },
        "id": "xIqO0wIVsKia",
        "outputId": "73b87314-3385-4931-b400-9867f3ff7e3a"
      },
      "source": [
        "print(classification_report(y_test,y_pred))\n"
      ],
      "execution_count": 37,
      "outputs": [
        {
          "output_type": "stream",
          "text": [
            "              precision    recall  f1-score   support\n",
            "\n",
            "           0       0.91      0.92      0.92      3247\n",
            "           1       0.89      0.88      0.89      2360\n",
            "\n",
            "    accuracy                           0.90      5607\n",
            "   macro avg       0.90      0.90      0.90      5607\n",
            "weighted avg       0.90      0.90      0.90      5607\n",
            "\n"
          ],
          "name": "stdout"
        }
      ]
    },
    {
      "cell_type": "code",
      "metadata": {
        "colab": {
          "base_uri": "https://localhost:8080/"
        },
        "id": "CH3bedsyMks6",
        "outputId": "128a5acc-4f09-4995-c5af-b93f4fe70fd3"
      },
      "source": [
        "voc_size = 14535\n",
        "arr = [\n",
        "       'Google lancia la nuova mappa globale Covid-19 per i giornalisti journalist',\n",
        "]\n",
        "onehot_repr=[one_hot(words,voc_size)for words in arr]\n",
        "embedded_docs=pad_sequences(onehot_repr,padding='pre')\n",
        "model.predict(embedded_docs, batch_size=64)"
      ],
      "execution_count": 52,
      "outputs": [
        {
          "output_type": "execute_result",
          "data": {
            "text/plain": [
              "array([[0.49541575]], dtype=float32)"
            ]
          },
          "metadata": {
            "tags": []
          },
          "execution_count": 52
        }
      ]
    }
  ]
}