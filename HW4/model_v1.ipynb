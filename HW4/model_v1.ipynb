{
 "metadata": {
  "language_info": {
   "codemirror_mode": {
    "name": "ipython",
    "version": 3
   },
   "file_extension": ".py",
   "mimetype": "text/x-python",
   "name": "python",
   "nbconvert_exporter": "python",
   "pygments_lexer": "ipython3",
   "version": "3.7.10"
  },
  "orig_nbformat": 2,
  "kernelspec": {
   "name": "python3710jvsc74a57bd06c70104609522f67cb30e8200dfa6f77a5bec0e1b1538a23f62dccdf26f51f37",
   "display_name": "Python 3.7.10 64-bit ('TF-Keras': conda)"
  }
 },
 "nbformat": 4,
 "nbformat_minor": 2,
 "cells": [
  {
   "source": [
    "imports"
   ],
   "cell_type": "markdown",
   "metadata": {}
  },
  {
   "cell_type": "code",
   "execution_count": 42,
   "metadata": {},
   "outputs": [],
   "source": [
    "import numpy as np \n",
    "import pandas as pd \n",
    "import matplotlib.pyplot as plt \n",
    "import numpy as np\n",
    "from tensorflow.data import Dataset\n",
    "from tensorflow.keras import layers\n",
    "from tensorflow.keras.layers import Dense, Activation, Dropout\n",
    "from tensorflow.keras import losses\n",
    "from tensorflow.keras import preprocessing\n",
    "from tensorflow.keras.layers.experimental.preprocessing import TextVectorization\n",
    "from keras.models import Sequential\n",
    "from sklearn.model_selection import train_test_split\n",
    "from sklearn.preprocessing import OneHotEncoder\n",
    "from transformers import pipeline\n",
    "import json"
   ]
  },
  {
   "source": [
    "Define constants and variables"
   ],
   "cell_type": "markdown",
   "metadata": {}
  },
  {
   "cell_type": "code",
   "execution_count": 3,
   "metadata": {},
   "outputs": [],
   "source": [
    "prefix = './datasets/'\n",
    "english_folder = prefix + 'english/'\n",
    "\n"
   ]
  },
  {
   "source": [
    "Read datasets"
   ],
   "cell_type": "markdown",
   "metadata": {}
  },
  {
   "cell_type": "code",
   "execution_count": 17,
   "metadata": {},
   "outputs": [],
   "source": [
    "from os import walk\n",
    "\n",
    "def readDataset(file):\n",
    "    file = open(file, 'r')\n",
    "    data = []\n",
    "    for line in file:\n",
    "        data.append(json.loads(line))\n",
    "    return pd.json_normalize(data)\n",
    "\n",
    "def readDataInFolder(dir_path):\n",
    "    dfs = []\n",
    "    for (dirpath, dirnames, filenames) in walk(dir_path):\n",
    "        for file in filenames:\n",
    "            print(f'File: {english_folder + file}')\n",
    "            df = readDataset(english_folder + file)\n",
    "            dfs.append(df)\n",
    "    return dfs\n",
    "\n"
   ]
  },
  {
   "cell_type": "code",
   "execution_count": 18,
   "metadata": {},
   "outputs": [
    {
     "output_type": "stream",
     "name": "stdout",
     "text": [
      "File: ./datasets/english/Persona_en_N0_tagged.json\n",
      "File: ./datasets/english/Persona_en_N2_tagged.json\n",
      "File: ./datasets/english/Persona_en_N3_tagged.json\n",
      "Número de archivos leídos: 3\n",
      "Shape of the hole dataset: (3000, 10)\n"
     ]
    },
    {
     "output_type": "execute_result",
     "data": {
      "text/plain": [
       "     index            author_id  \\\n",
       "0  1169503            117418104   \n",
       "1  1088588            726456608   \n",
       "2  1229144            191092262   \n",
       "3  1041354           2985792143   \n",
       "4  1190556             19809471   \n",
       "5   337931  1048999496347279360   \n",
       "6   551389   856622507427635200   \n",
       "7   687455  1254358657132888064   \n",
       "8   399765           1719674052   \n",
       "9   895036             18556112   \n",
       "\n",
       "                                                text lang  \\\n",
       "0  #Bucks: Milwaukee Bucks and Milwaukee Health D...   en   \n",
       "1  Youth Ages 12-15 Now Eligible for Pfizer COVID...   en   \n",
       "2  Fighting Stigma: Young people should be free t...   en   \n",
       "3  Second jab done! Although by the state of Tesc...   en   \n",
       "4  4/27 - Vaccination and Testing Update - 2020-2...   en   \n",
       "5  If you support state authority after a year of...   en   \n",
       "6  We contributed to Saturday's 4-million vaccina...   en   \n",
       "7  Illinois bar opening event linked to 46 Covid-...   en   \n",
       "8  Share your COVID-19 vaccination experience wit...   en   \n",
       "9  Update on the vaccine stats. \\n\\n187 people bl...   en   \n",
       "\n",
       "                                 context_annotations                   id  \\\n",
       "0  [{'domain': {'id': '3', 'name': 'TV Shows', 'd...  1387163086981898240   \n",
       "1  [{'domain': {'id': '65', 'name': 'Interests an...  1392964893469511681   \n",
       "2  [{'domain': {'id': '123', 'name': 'Ongoing New...  1387110938088677376   \n",
       "3  [{'domain': {'id': '123', 'name': 'Ongoing New...  1391014287565545477   \n",
       "4  [{'domain': {'id': '123', 'name': 'Ongoing New...  1387142140606648320   \n",
       "5  [{'domain': {'id': '123', 'name': 'Ongoing New...  1379169272837021696   \n",
       "6  [{'domain': {'id': '45', 'name': 'Brand Vertic...  1379141859654557699   \n",
       "7  [{'domain': {'id': '123', 'name': 'Ongoing New...  1379114893664731137   \n",
       "8  [{'domain': {'id': '48', 'name': 'Product', 'd...  1379161149665648640   \n",
       "9  [{'domain': {'id': '65', 'name': 'Interests an...  1378838436040298496   \n",
       "\n",
       "                 created_at    date_str  hashtag               tag  \n",
       "0  2021-04-27T21:53:46.000Z  2021-04-27  [Bucks]       vaccination  \n",
       "1  2021-05-13T22:08:05.000Z  2021-05-13       []       vaccination  \n",
       "2  2021-04-27T18:26:33.000Z  2021-04-27       []       vaccination  \n",
       "3  2021-05-08T12:57:04.000Z  2021-05-08       []  school-reopening  \n",
       "4  2021-04-27T20:30:32.000Z  2021-04-27       []          vaccines  \n",
       "5  2021-04-05T20:29:13.000Z  2021-04-05       []     mental-health  \n",
       "6  2021-04-05T18:40:17.000Z  2021-04-05       []       vaccination  \n",
       "7  2021-04-05T16:53:08.000Z  2021-04-05       []  school-reopening  \n",
       "8  2021-04-05T19:56:56.000Z  2021-04-05       []       vaccination  \n",
       "9  2021-04-04T22:34:35.000Z  2021-04-04       []          vaccines  "
      ],
      "text/html": "<div>\n<style scoped>\n    .dataframe tbody tr th:only-of-type {\n        vertical-align: middle;\n    }\n\n    .dataframe tbody tr th {\n        vertical-align: top;\n    }\n\n    .dataframe thead th {\n        text-align: right;\n    }\n</style>\n<table border=\"1\" class=\"dataframe\">\n  <thead>\n    <tr style=\"text-align: right;\">\n      <th></th>\n      <th>index</th>\n      <th>author_id</th>\n      <th>text</th>\n      <th>lang</th>\n      <th>context_annotations</th>\n      <th>id</th>\n      <th>created_at</th>\n      <th>date_str</th>\n      <th>hashtag</th>\n      <th>tag</th>\n    </tr>\n  </thead>\n  <tbody>\n    <tr>\n      <th>0</th>\n      <td>1169503</td>\n      <td>117418104</td>\n      <td>#Bucks: Milwaukee Bucks and Milwaukee Health D...</td>\n      <td>en</td>\n      <td>[{'domain': {'id': '3', 'name': 'TV Shows', 'd...</td>\n      <td>1387163086981898240</td>\n      <td>2021-04-27T21:53:46.000Z</td>\n      <td>2021-04-27</td>\n      <td>[Bucks]</td>\n      <td>vaccination</td>\n    </tr>\n    <tr>\n      <th>1</th>\n      <td>1088588</td>\n      <td>726456608</td>\n      <td>Youth Ages 12-15 Now Eligible for Pfizer COVID...</td>\n      <td>en</td>\n      <td>[{'domain': {'id': '65', 'name': 'Interests an...</td>\n      <td>1392964893469511681</td>\n      <td>2021-05-13T22:08:05.000Z</td>\n      <td>2021-05-13</td>\n      <td>[]</td>\n      <td>vaccination</td>\n    </tr>\n    <tr>\n      <th>2</th>\n      <td>1229144</td>\n      <td>191092262</td>\n      <td>Fighting Stigma: Young people should be free t...</td>\n      <td>en</td>\n      <td>[{'domain': {'id': '123', 'name': 'Ongoing New...</td>\n      <td>1387110938088677376</td>\n      <td>2021-04-27T18:26:33.000Z</td>\n      <td>2021-04-27</td>\n      <td>[]</td>\n      <td>vaccination</td>\n    </tr>\n    <tr>\n      <th>3</th>\n      <td>1041354</td>\n      <td>2985792143</td>\n      <td>Second jab done! Although by the state of Tesc...</td>\n      <td>en</td>\n      <td>[{'domain': {'id': '123', 'name': 'Ongoing New...</td>\n      <td>1391014287565545477</td>\n      <td>2021-05-08T12:57:04.000Z</td>\n      <td>2021-05-08</td>\n      <td>[]</td>\n      <td>school-reopening</td>\n    </tr>\n    <tr>\n      <th>4</th>\n      <td>1190556</td>\n      <td>19809471</td>\n      <td>4/27 - Vaccination and Testing Update - 2020-2...</td>\n      <td>en</td>\n      <td>[{'domain': {'id': '123', 'name': 'Ongoing New...</td>\n      <td>1387142140606648320</td>\n      <td>2021-04-27T20:30:32.000Z</td>\n      <td>2021-04-27</td>\n      <td>[]</td>\n      <td>vaccines</td>\n    </tr>\n    <tr>\n      <th>5</th>\n      <td>337931</td>\n      <td>1048999496347279360</td>\n      <td>If you support state authority after a year of...</td>\n      <td>en</td>\n      <td>[{'domain': {'id': '123', 'name': 'Ongoing New...</td>\n      <td>1379169272837021696</td>\n      <td>2021-04-05T20:29:13.000Z</td>\n      <td>2021-04-05</td>\n      <td>[]</td>\n      <td>mental-health</td>\n    </tr>\n    <tr>\n      <th>6</th>\n      <td>551389</td>\n      <td>856622507427635200</td>\n      <td>We contributed to Saturday's 4-million vaccina...</td>\n      <td>en</td>\n      <td>[{'domain': {'id': '45', 'name': 'Brand Vertic...</td>\n      <td>1379141859654557699</td>\n      <td>2021-04-05T18:40:17.000Z</td>\n      <td>2021-04-05</td>\n      <td>[]</td>\n      <td>vaccination</td>\n    </tr>\n    <tr>\n      <th>7</th>\n      <td>687455</td>\n      <td>1254358657132888064</td>\n      <td>Illinois bar opening event linked to 46 Covid-...</td>\n      <td>en</td>\n      <td>[{'domain': {'id': '123', 'name': 'Ongoing New...</td>\n      <td>1379114893664731137</td>\n      <td>2021-04-05T16:53:08.000Z</td>\n      <td>2021-04-05</td>\n      <td>[]</td>\n      <td>school-reopening</td>\n    </tr>\n    <tr>\n      <th>8</th>\n      <td>399765</td>\n      <td>1719674052</td>\n      <td>Share your COVID-19 vaccination experience wit...</td>\n      <td>en</td>\n      <td>[{'domain': {'id': '48', 'name': 'Product', 'd...</td>\n      <td>1379161149665648640</td>\n      <td>2021-04-05T19:56:56.000Z</td>\n      <td>2021-04-05</td>\n      <td>[]</td>\n      <td>vaccination</td>\n    </tr>\n    <tr>\n      <th>9</th>\n      <td>895036</td>\n      <td>18556112</td>\n      <td>Update on the vaccine stats. \\n\\n187 people bl...</td>\n      <td>en</td>\n      <td>[{'domain': {'id': '65', 'name': 'Interests an...</td>\n      <td>1378838436040298496</td>\n      <td>2021-04-04T22:34:35.000Z</td>\n      <td>2021-04-04</td>\n      <td>[]</td>\n      <td>vaccines</td>\n    </tr>\n  </tbody>\n</table>\n</div>"
     },
     "metadata": {},
     "execution_count": 18
    }
   ],
   "source": [
    "dfs = readDataInFolder(english_folder)\n",
    "print(f'Número de archivos leídos: {len(dfs)}')\n",
    "\n",
    "data = pd.concat(dfs)\n",
    "print(f'Shape of the hole dataset: {data.shape}')\n",
    "data.head(10)"
   ]
  },
  {
   "cell_type": "code",
   "execution_count": 20,
   "metadata": {},
   "outputs": [
    {
     "output_type": "stream",
     "name": "stdout",
     "text": [
      "Index(['index', 'author_id', 'text', 'lang', 'context_annotations', 'id',\n       'created_at', 'date_str', 'hashtag', 'tag'],\n      dtype='object')\n"
     ]
    },
    {
     "output_type": "execute_result",
     "data": {
      "text/plain": [
       "vaccination           1368\n",
       "vaccines               593\n",
       "NONE                   589\n",
       "school-reopening       271\n",
       "mental-health          177\n",
       "household-violence       2\n",
       "Name: tag, dtype: int64"
      ]
     },
     "metadata": {},
     "execution_count": 20
    }
   ],
   "source": [
    "print(data.columns)\n",
    "data['tag'].value_counts()"
   ]
  },
  {
   "source": [
    "Encoding of classes"
   ],
   "cell_type": "markdown",
   "metadata": {}
  },
  {
   "cell_type": "code",
   "execution_count": 28,
   "metadata": {},
   "outputs": [
    {
     "output_type": "stream",
     "name": "stdout",
     "text": [
      "[array(['NONE', 'household-violence', 'mental-health', 'school-reopening',\n       'vaccination', 'vaccines'], dtype=object)]\n"
     ]
    }
   ],
   "source": [
    "enc = OneHotEncoder(handle_unknown='ignore')\n",
    "enc.fit(data[['tag']])\n",
    "print(enc.categories_)"
   ]
  },
  {
   "cell_type": "code",
   "execution_count": 36,
   "metadata": {},
   "outputs": [],
   "source": [
    "'''\n",
    "Se dividen los datos en 60 training, 20 validación y 20 testing\n",
    "'''\n",
    "\n",
    "sentences = data['text'].values\n",
    "\n",
    "y = enc.transform(data[['text']]).toarray()\n",
    "sentences_train_val, sentences_test, y_train_val, y_test = train_test_split(sentences, y, test_size=0.20, random_state=1000)\n",
    "sentences_train, sentences_val, y_train, y_val = train_test_split(sentences_train_val, y_train_val, test_size=0.25, random_state=1000)\n",
    "\n",
    "# Once we have our handles, we format the datasets in a Keras-fit compatible\n",
    "# format: a tuple of the form (text_data, label).\n",
    "train_dataset = Dataset.from_tensor_slices((sentences_train, y_train))\n",
    "test_dataset = Dataset.from_tensor_slices((sentences_test, y_test))\n",
    "\n",
    "# We also create a dataset with only the textual data in it. This will be used\n",
    "# to build our vocabulary later on.\n",
    "text_dataset = Dataset.from_tensor_slices((sentences_train))"
   ]
  },
  {
   "source": [
    "Tokenization"
   ],
   "cell_type": "markdown",
   "metadata": {}
  },
  {
   "cell_type": "code",
   "execution_count": 37,
   "metadata": {},
   "outputs": [],
   "source": [
    "vectorize_layer = TextVectorization(\n",
    "    ngrams=None, max_tokens=None, vocabulary=None,\n",
    "    output_mode='int', output_sequence_length=None, pad_to_max_tokens=True, \n",
    ")"
   ]
  },
  {
   "source": [
    "Get vocabulary"
   ],
   "cell_type": "markdown",
   "metadata": {}
  },
  {
   "cell_type": "code",
   "execution_count": 38,
   "metadata": {},
   "outputs": [
    {
     "output_type": "execute_result",
     "data": {
      "text/plain": [
       "10416"
      ]
     },
     "metadata": {},
     "execution_count": 38
    }
   ],
   "source": [
    "vectorize_layer.adapt(text_dataset.batch(32))\n",
    "len(vectorize_layer.get_vocabulary())"
   ]
  },
  {
   "source": [
    "Get classifier"
   ],
   "cell_type": "markdown",
   "metadata": {}
  },
  {
   "cell_type": "code",
   "execution_count": 4,
   "metadata": {},
   "outputs": [
    {
     "output_type": "stream",
     "name": "stderr",
     "text": [
      "Downloading: 100%|██████████| 908/908 [00:00<00:00, 872kB/s]\n",
      "Downloading: 100%|██████████| 1.63G/1.63G [02:17<00:00, 11.9MB/s]\n",
      "Downloading: 100%|██████████| 899k/899k [00:00<00:00, 3.72MB/s]\n",
      "Downloading: 100%|██████████| 456k/456k [00:00<00:00, 2.43MB/s]\n",
      "Downloading: 100%|██████████| 1.36M/1.36M [00:00<00:00, 4.81MB/s]\n",
      "Downloading: 100%|██████████| 26.0/26.0 [00:00<00:00, 5.26kB/s]\n"
     ]
    }
   ],
   "source": [
    "classifier = pipeline('zero-shot-classification', model='facebook/bart-large-mnli')"
   ]
  },
  {
   "source": [
    "Arquitecture"
   ],
   "cell_type": "markdown",
   "metadata": {}
  },
  {
   "cell_type": "code",
   "execution_count": 44,
   "metadata": {},
   "outputs": [],
   "source": [
    "vocab_size = len(vectorize_layer.get_vocabulary())\n",
    "num_labels = len(enc.categories_)"
   ]
  },
  {
   "cell_type": "code",
   "execution_count": 40,
   "metadata": {},
   "outputs": [],
   "source": [
    "def getModel():\n",
    "    model = Sequential()\n",
    "    model.add(Dense(512, input_shape=(vocab_size,)))\n",
    "    model.add(Activation('relu'))\n",
    "    model.add(Dropout(0.3))\n",
    "    model.add(Dense(512))\n",
    "    model.add(Activation('relu'))\n",
    "    model.add(Dropout(0.3))\n",
    "    model.add(Dense(num_labels))\n",
    "    model.add(Activation('softmax'))\n",
    "    model.summary()"
   ]
  },
  {
   "cell_type": "code",
   "execution_count": 45,
   "metadata": {},
   "outputs": [
    {
     "output_type": "stream",
     "name": "stdout",
     "text": [
      "Model: \"sequential_2\"\n_________________________________________________________________\nLayer (type)                 Output Shape              Param #   \n=================================================================\ndense_2 (Dense)              (None, 512)               5333504   \n_________________________________________________________________\nactivation_2 (Activation)    (None, 512)               0         \n_________________________________________________________________\ndropout_2 (Dropout)          (None, 512)               0         \n_________________________________________________________________\ndense_3 (Dense)              (None, 512)               262656    \n_________________________________________________________________\nactivation_3 (Activation)    (None, 512)               0         \n_________________________________________________________________\ndropout_3 (Dropout)          (None, 512)               0         \n_________________________________________________________________\ndense_4 (Dense)              (None, 1)                 513       \n_________________________________________________________________\nactivation_4 (Activation)    (None, 1)                 0         \n=================================================================\nTotal params: 5,596,673\nTrainable params: 5,596,673\nNon-trainable params: 0\n_________________________________________________________________\n"
     ]
    }
   ],
   "source": [
    "model = getModel()"
   ]
  }
 ]
}