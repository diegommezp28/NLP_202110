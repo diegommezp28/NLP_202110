{
 "metadata": {
  "language_info": {
   "codemirror_mode": {
    "name": "ipython",
    "version": 3
   },
   "file_extension": ".py",
   "mimetype": "text/x-python",
   "name": "python",
   "nbconvert_exporter": "python",
   "pygments_lexer": "ipython3",
   "version": "3.7.10"
  },
  "orig_nbformat": 2,
  "kernelspec": {
   "name": "python3710jvsc74a57bd06c70104609522f67cb30e8200dfa6f77a5bec0e1b1538a23f62dccdf26f51f37",
   "display_name": "Python 3.7.10 64-bit ('TF-Keras': conda)"
  }
 },
 "nbformat": 4,
 "nbformat_minor": 2,
 "cells": [
  {
   "cell_type": "code",
   "execution_count": 2,
   "metadata": {},
   "outputs": [],
   "source": [
    "import numpy as np \n",
    "import pandas as pd \n",
    "import matplotlib.pyplot as plt \n",
    "import numpy as np\n",
    "from tensorflow.data import Dataset\n",
    "from tensorflow.keras import layers\n",
    "from tensorflow.keras.layers import Dense, Activation, Dropout\n",
    "from tensorflow.keras import losses\n",
    "from tensorflow.keras import preprocessing\n",
    "from tensorflow.keras.layers.experimental.preprocessing import TextVectorization\n",
    "from keras.models import Sequential\n",
    "from sklearn.model_selection import train_test_split\n",
    "from sklearn.preprocessing import OneHotEncoder\n",
    "from transformers import pipeline\n",
    "import json\n",
    "from keras.preprocessing.text import Tokenizer\n",
    "from sklearn.preprocessing import LabelBinarizer\n",
    "from sklearn.metrics import classification_report"
   ]
  },
  {
   "cell_type": "code",
   "execution_count": 3,
   "metadata": {},
   "outputs": [],
   "source": [
    "folder = './datasets/tagged/'\n",
    "\n",
    "# Datos primera iteración de taggeado. Taggeados entre 4 grupos\n",
    "iter1En = folder + '(500)1000simpleTagged_en_tagged.json'\n",
    "iter1Es = folder + '(1000)1000simpleTagged_es_tagged.json'\n",
    "iter1Fr = folder + '(502)1000simpleTagged_fr_tagged.json'"
   ]
  },
  {
   "source": [
    "Definición de funciones necesarias"
   ],
   "cell_type": "markdown",
   "metadata": {}
  },
  {
   "cell_type": "code",
   "execution_count": 33,
   "metadata": {},
   "outputs": [],
   "source": [
    "def readDataset(file, n=-1):\n",
    "    file = open(file, 'r')\n",
    "    data = []\n",
    "    for i, line in enumerate(file):\n",
    "        try:\n",
    "            data.append(json.loads(line))\n",
    "            if n != -1 and i == n:\n",
    "                break\n",
    "        except:\n",
    "            pass\n",
    "    return pd.json_normalize(data)\n",
    "\n",
    "def splitData(data):\n",
    "    sentences = data['text'].values\n",
    "    y = data['tag'].values\n",
    "    sentences_train, sentences_test, y_train, y_test = train_test_split(sentences, y, test_size=0.20, random_state=1000)\n",
    "    return sentences_train, sentences_test, y_train, y_test\n",
    "\n",
    "def adaptVocab(text_dataset):\n",
    "    vectorize_layer = TextVectorization(\n",
    "    ngrams=None, max_tokens=None, vocabulary=None,\n",
    "    output_mode='int', output_sequence_length=None, pad_to_max_tokens=True, \n",
    ")\n",
    "    vectorize_layer.adapt(text_dataset.batch(32))\n",
    "    vocab_size = len(vectorize_layer.get_vocabulary())\n",
    "    print('Vocab size:', vocab_size)\n",
    "    return vectorize_layer, vocab_size\n",
    "\n",
    "def getTokenizer(vocab_size, sentences_train, sentences_test, y_train, y_test):\n",
    "    tokenizer = Tokenizer(num_words=vocab_size)\n",
    "    tokenizer.fit_on_texts(sentences_train)\n",
    "\n",
    "\n",
    "    x_train = tokenizer.texts_to_matrix(sentences_train)\n",
    "    x_test = tokenizer.texts_to_matrix(sentences_test)\n",
    "\n",
    "    encoder = LabelBinarizer()\n",
    "    encoder.fit(y_train)\n",
    "    y_train = encoder.transform(y_train)\n",
    "    y_test = encoder.transform(y_test)\n",
    "\n",
    "    return x_train, y_train, x_test, y_test, tokenizer, encoder\n",
    "\n",
    "def getModel(num_labels):\n",
    "    model = Sequential()\n",
    "    model.add(Dense(512, input_shape=(vocab_size,)))\n",
    "    model.add(Activation('relu'))\n",
    "    model.add(Dropout(0.3))\n",
    "    model.add(Dense(512))\n",
    "    model.add(Activation('relu'))\n",
    "    model.add(Dropout(0.3))\n",
    "    model.add(Dense(num_labels))\n",
    "    model.add(Activation('softmax'))\n",
    "    model.summary()\n",
    "\n",
    "    model.compile(loss='categorical_crossentropy',\n",
    "              optimizer='adam',\n",
    "              metrics=['accuracy'])\n",
    "\n",
    "    return model\n",
    "\n",
    "def get_metrics_by_class(model, x, y):\n",
    "    y_pred = model.predict(x, batch_size=64, verbose=1)\n",
    "    y_pred_bool = np.argmax(y_pred, axis=1)\n",
    "    y_label = np.argmax(y, axis=1)\n",
    "    #print(confusion_matrix(y_pred_bool, y_label))\n",
    "    print(classification_report(y_label, y_pred_bool))\n",
    "\n",
    "\n"
   ]
  },
  {
   "source": [
    "## English\n",
    "\n",
    "***\n",
    "\n",
    "Aquí leemos los datos etiquetados y separamos el dataset"
   ],
   "cell_type": "markdown",
   "metadata": {}
  },
  {
   "cell_type": "code",
   "execution_count": 18,
   "metadata": {},
   "outputs": [
    {
     "output_type": "stream",
     "name": "stdout",
     "text": [
      "Vocab size: 20150\n"
     ]
    }
   ],
   "source": [
    "english_path = './datasets/en.jsonl'\n",
    "data = readDataset(english_path)\n",
    "num_labels = len(data[\"tag\"].unique())\n",
    "sentences_train, sentences_test, y_train, y_test = splitData(data)\n",
    "text_dataset = Dataset.from_tensor_slices((sentences_train))\n",
    "vectorize_layer, vocab_size = adaptVocab(text_dataset)\n",
    "x_train, y_train, x_test, y_test, tokenizer, encoder = getTokenizer(vocab_size, sentences_train, sentences_test, y_train, y_test)"
   ]
  },
  {
   "cell_type": "code",
   "execution_count": 19,
   "metadata": {},
   "outputs": [
    {
     "output_type": "stream",
     "name": "stdout",
     "text": [
      "Model: \"sequential_2\"\n",
      "_________________________________________________________________\n",
      "Layer (type)                 Output Shape              Param #   \n",
      "=================================================================\n",
      "dense_6 (Dense)              (None, 512)               10317312  \n",
      "_________________________________________________________________\n",
      "activation_6 (Activation)    (None, 512)               0         \n",
      "_________________________________________________________________\n",
      "dropout_4 (Dropout)          (None, 512)               0         \n",
      "_________________________________________________________________\n",
      "dense_7 (Dense)              (None, 512)               262656    \n",
      "_________________________________________________________________\n",
      "activation_7 (Activation)    (None, 512)               0         \n",
      "_________________________________________________________________\n",
      "dropout_5 (Dropout)          (None, 512)               0         \n",
      "_________________________________________________________________\n",
      "dense_8 (Dense)              (None, 6)                 3078      \n",
      "_________________________________________________________________\n",
      "activation_8 (Activation)    (None, 6)                 0         \n",
      "=================================================================\n",
      "Total params: 10,583,046\n",
      "Trainable params: 10,583,046\n",
      "Non-trainable params: 0\n",
      "_________________________________________________________________\n",
      "Epoch 1/10\n",
      "30/30 - 1s - loss: 1.2635 - accuracy: 0.5037 - val_loss: 0.9177 - val_accuracy: 0.6251\n",
      "Epoch 2/10\n",
      "30/30 - 0s - loss: 0.5333 - accuracy: 0.8035 - val_loss: 0.8998 - val_accuracy: 0.6784\n",
      "Epoch 3/10\n",
      "30/30 - 0s - loss: 0.1525 - accuracy: 0.9590 - val_loss: 1.0451 - val_accuracy: 0.6752\n",
      "Epoch 4/10\n",
      "30/30 - 0s - loss: 0.0443 - accuracy: 0.9909 - val_loss: 1.2994 - val_accuracy: 0.6688\n",
      "Epoch 5/10\n",
      "30/30 - 0s - loss: 0.0228 - accuracy: 0.9952 - val_loss: 1.3048 - val_accuracy: 0.6613\n",
      "Epoch 6/10\n",
      "30/30 - 0s - loss: 0.0141 - accuracy: 0.9965 - val_loss: 1.4040 - val_accuracy: 0.6699\n",
      "Epoch 7/10\n",
      "30/30 - 0s - loss: 0.0078 - accuracy: 0.9981 - val_loss: 1.4667 - val_accuracy: 0.6603\n",
      "Epoch 8/10\n",
      "30/30 - 0s - loss: 0.0071 - accuracy: 0.9984 - val_loss: 1.5026 - val_accuracy: 0.6560\n",
      "Epoch 9/10\n",
      "30/30 - 0s - loss: 0.0043 - accuracy: 0.9992 - val_loss: 1.5737 - val_accuracy: 0.6518\n",
      "Epoch 10/10\n",
      "30/30 - 0s - loss: 0.0039 - accuracy: 0.9992 - val_loss: 1.6157 - val_accuracy: 0.6624\n"
     ]
    }
   ],
   "source": [
    "model = getModel(num_labels)\n",
    "num_epochs =10\n",
    "batch_size = 128\n",
    "history = model.fit(x_train, y_train,\n",
    "                    batch_size=batch_size,\n",
    "                    epochs=num_epochs,\n",
    "                    verbose=2,\n",
    "                    validation_split=0.2)"
   ]
  },
  {
   "cell_type": "code",
   "execution_count": null,
   "metadata": {},
   "outputs": [],
   "source": []
  },
  {
   "cell_type": "code",
   "execution_count": 20,
   "metadata": {},
   "outputs": [],
   "source": [
    "# model.get_classes()\n",
    "prediction = model.predict(tokenizer.texts_to_matrix([\"The pfizer vaccine with ARNm is the best of them \"]))"
   ]
  },
  {
   "cell_type": "code",
   "execution_count": 21,
   "metadata": {},
   "outputs": [
    {
     "output_type": "stream",
     "name": "stdout",
     "text": [
      "vaccines\n"
     ]
    }
   ],
   "source": [
    "predict_class = np.argmax(prediction, axis=-1)\n",
    "print(encoder.classes_[predict_class[0]])\n"
   ]
  },
  {
   "cell_type": "code",
   "execution_count": 22,
   "metadata": {},
   "outputs": [
    {
     "output_type": "stream",
     "name": "stdout",
     "text": [
      "19/19 [==============================] - 0s 4ms/step\n",
      "              precision    recall  f1-score   support\n",
      "\n",
      "           0       0.54      0.43      0.48       247\n",
      "           1       0.00      0.00      0.00         2\n",
      "           2       0.79      0.75      0.77        72\n",
      "           3       0.52      0.47      0.50       129\n",
      "           4       0.72      0.84      0.78       525\n",
      "           5       0.58      0.51      0.54       199\n",
      "\n",
      "    accuracy                           0.65      1174\n",
      "   macro avg       0.53      0.50      0.51      1174\n",
      "weighted avg       0.64      0.65      0.64      1174\n",
      "\n",
      "C:\\Users\\diego\\anaconda3\\envs\\TF-Keras\\lib\\site-packages\\sklearn\\metrics\\_classification.py:1245: UndefinedMetricWarning: Precision and F-score are ill-defined and being set to 0.0 in labels with no predicted samples. Use `zero_division` parameter to control this behavior.\n",
      "  _warn_prf(average, modifier, msg_start, len(result))\n",
      "C:\\Users\\diego\\anaconda3\\envs\\TF-Keras\\lib\\site-packages\\sklearn\\metrics\\_classification.py:1245: UndefinedMetricWarning: Precision and F-score are ill-defined and being set to 0.0 in labels with no predicted samples. Use `zero_division` parameter to control this behavior.\n",
      "  _warn_prf(average, modifier, msg_start, len(result))\n",
      "C:\\Users\\diego\\anaconda3\\envs\\TF-Keras\\lib\\site-packages\\sklearn\\metrics\\_classification.py:1245: UndefinedMetricWarning: Precision and F-score are ill-defined and being set to 0.0 in labels with no predicted samples. Use `zero_division` parameter to control this behavior.\n",
      "  _warn_prf(average, modifier, msg_start, len(result))\n"
     ]
    }
   ],
   "source": [
    "get_metrics_by_class(model, x_test, y_test)"
   ]
  },
  {
   "source": [
    "Validación del modelo con la segunda tanda de etiquetas manuales"
   ],
   "cell_type": "markdown",
   "metadata": {}
  },
  {
   "cell_type": "code",
   "execution_count": 25,
   "metadata": {},
   "outputs": [],
   "source": [
    "dfIter2En =  readDataset(iter1En)[['text', 'tag']]\n",
    "x_testIter2 = tokenizer.texts_to_matrix(dfIter2En['text'].values)\n",
    "y_trainIter2 = encoder.transform(dfIter2En['tag'].values)"
   ]
  },
  {
   "cell_type": "code",
   "execution_count": 26,
   "metadata": {},
   "outputs": [
    {
     "output_type": "stream",
     "name": "stdout",
     "text": [
      "['NONE' 'household-violence' 'mental-health' 'school-reopening'\n",
      " 'vaccination' 'vaccines']\n",
      "8/8 [==============================] - 0s 4ms/step\n",
      "              precision    recall  f1-score   support\n",
      "\n",
      "           0       0.87      0.50      0.63       323\n",
      "           2       0.00      0.00      0.00         2\n",
      "           3       0.12      0.67      0.21         3\n",
      "           4       0.30      0.78      0.44        87\n",
      "           5       0.52      0.39      0.44        85\n",
      "\n",
      "    accuracy                           0.53       500\n",
      "   macro avg       0.36      0.47      0.34       500\n",
      "weighted avg       0.70      0.53      0.56       500\n",
      "\n"
     ]
    }
   ],
   "source": [
    "print(encoder.classes_)\n",
    "get_metrics_by_class(model, x_testIter2, y_trainIter2)"
   ]
  },
  {
   "source": [
    "Tagging"
   ],
   "cell_type": "markdown",
   "metadata": {}
  },
  {
   "cell_type": "code",
   "execution_count": 8,
   "metadata": {},
   "outputs": [
    {
     "output_type": "stream",
     "name": "stdout",
     "text": [
      "(1001, 18)\n"
     ]
    }
   ],
   "source": [
    "dfAll = readDataset('./datasets/en_hash.json', n=1000)\n",
    "print(dfAll.shape)"
   ]
  },
  {
   "cell_type": "code",
   "execution_count": 9,
   "metadata": {},
   "outputs": [],
   "source": [
    "def predictClass(text):\n",
    "    prediction = model.predict(tokenizer.texts_to_matrix([text]))\n",
    "    predict_class = np.argmax(prediction, axis=-1)\n",
    "    return encoder.classes_[predict_class[0]]\n",
    "\n",
    "def predictAll(dfAll):\n",
    "    predictions = []\n",
    "    for i, text in enumerate(dfAll['text'].values):\n",
    "        modelPrediction = predictClass(text)\n",
    "        predictions.append(modelPrediction)\n",
    "        if i % 1000 == 0:\n",
    "            endChar = '\\n' if i % 10000 == 0 else ' '\n",
    "            print(i, end=endChar)\n",
    "    return predictions\n"
   ]
  },
  {
   "cell_type": "code",
   "execution_count": 10,
   "metadata": {},
   "outputs": [
    {
     "output_type": "stream",
     "name": "stdout",
     "text": [
      "0\n",
      "1000 "
     ]
    }
   ],
   "source": [
    "predictions = predictAll(dfAll)"
   ]
  },
  {
   "cell_type": "code",
   "execution_count": 11,
   "metadata": {},
   "outputs": [
    {
     "output_type": "execute_result",
     "data": {
      "text/plain": [
       "1001"
      ]
     },
     "metadata": {},
     "execution_count": 11
    }
   ],
   "source": [
    "len(predictions)"
   ]
  },
  {
   "cell_type": "code",
   "execution_count": 12,
   "metadata": {},
   "outputs": [],
   "source": [
    "subsets = pd.DataFrame(dfAll.iloc[:1001, : ])\n",
    "subsets['simpleTag'] = predictions"
   ]
  },
  {
   "cell_type": "code",
   "execution_count": 13,
   "metadata": {},
   "outputs": [
    {
     "output_type": "execute_result",
     "data": {
      "text/plain": [
       "                                                 text         simpleTag\n",
       "0   Ways to Know It's Time for New Office Space #C...       vaccination\n",
       "1   A Utah pharmacist will not serve prison time f...              NONE\n",
       "2   Wasn't one of those principles sending the unc...              NONE\n",
       "3   ugggggggggg come on people https://t.co/BIcFCB...       vaccination\n",
       "4   @dougquan @TorontoStar I dont care what millio...          vaccines\n",
       "..                                                ...               ...\n",
       "95  Went to the gym for the first time since the p...              NONE\n",
       "96  @JuliaMorales Sadly we can’t keep them from br...  school-reopening\n",
       "97  @Travisdhanraj What about York Region and Toro...  school-reopening\n",
       "98  what makes Walking Dead so beloved to so many....              NONE\n",
       "99  xiao winning the social distance game without ...              NONE\n",
       "\n",
       "[100 rows x 2 columns]"
      ],
      "text/html": "<div>\n<style scoped>\n    .dataframe tbody tr th:only-of-type {\n        vertical-align: middle;\n    }\n\n    .dataframe tbody tr th {\n        vertical-align: top;\n    }\n\n    .dataframe thead th {\n        text-align: right;\n    }\n</style>\n<table border=\"1\" class=\"dataframe\">\n  <thead>\n    <tr style=\"text-align: right;\">\n      <th></th>\n      <th>text</th>\n      <th>simpleTag</th>\n    </tr>\n  </thead>\n  <tbody>\n    <tr>\n      <th>0</th>\n      <td>Ways to Know It's Time for New Office Space #C...</td>\n      <td>vaccination</td>\n    </tr>\n    <tr>\n      <th>1</th>\n      <td>A Utah pharmacist will not serve prison time f...</td>\n      <td>NONE</td>\n    </tr>\n    <tr>\n      <th>2</th>\n      <td>Wasn't one of those principles sending the unc...</td>\n      <td>NONE</td>\n    </tr>\n    <tr>\n      <th>3</th>\n      <td>ugggggggggg come on people https://t.co/BIcFCB...</td>\n      <td>vaccination</td>\n    </tr>\n    <tr>\n      <th>4</th>\n      <td>@dougquan @TorontoStar I dont care what millio...</td>\n      <td>vaccines</td>\n    </tr>\n    <tr>\n      <th>...</th>\n      <td>...</td>\n      <td>...</td>\n    </tr>\n    <tr>\n      <th>95</th>\n      <td>Went to the gym for the first time since the p...</td>\n      <td>NONE</td>\n    </tr>\n    <tr>\n      <th>96</th>\n      <td>@JuliaMorales Sadly we can’t keep them from br...</td>\n      <td>school-reopening</td>\n    </tr>\n    <tr>\n      <th>97</th>\n      <td>@Travisdhanraj What about York Region and Toro...</td>\n      <td>school-reopening</td>\n    </tr>\n    <tr>\n      <th>98</th>\n      <td>what makes Walking Dead so beloved to so many....</td>\n      <td>NONE</td>\n    </tr>\n    <tr>\n      <th>99</th>\n      <td>xiao winning the social distance game without ...</td>\n      <td>NONE</td>\n    </tr>\n  </tbody>\n</table>\n<p>100 rows × 2 columns</p>\n</div>"
     },
     "metadata": {},
     "execution_count": 13
    }
   ],
   "source": [
    "subsets[['text', 'simpleTag']][:100]"
   ]
  },
  {
   "cell_type": "code",
   "execution_count": 14,
   "metadata": {},
   "outputs": [
    {
     "output_type": "execute_result",
     "data": {
      "text/plain": [
       "NONE                440\n",
       "vaccination         345\n",
       "vaccines            136\n",
       "school-reopening     57\n",
       "mental-health        23\n",
       "Name: simpleTag, dtype: int64"
      ]
     },
     "metadata": {},
     "execution_count": 14
    }
   ],
   "source": [
    "subsets['simpleTag'].value_counts()"
   ]
  },
  {
   "cell_type": "code",
   "execution_count": 15,
   "metadata": {},
   "outputs": [],
   "source": [
    "subsets.to_json('./datasets/1000simpleTagged_en.json', orient='records', lines=True)"
   ]
  },
  {
   "source": [
    "## Español\n",
    "\n",
    "***"
   ],
   "cell_type": "markdown",
   "metadata": {}
  },
  {
   "cell_type": "code",
   "execution_count": 27,
   "metadata": {},
   "outputs": [
    {
     "output_type": "stream",
     "name": "stdout",
     "text": [
      "Vocab size: 13590\n"
     ]
    }
   ],
   "source": [
    "spanish_path = './datasets/es.jsonl'\n",
    "data = readDataset(spanish_path)\n",
    "num_labels = len(data[\"tag\"].unique())\n",
    "sentences_train, sentences_test, y_train, y_test = splitData(data)\n",
    "text_dataset = Dataset.from_tensor_slices((sentences_train))\n",
    "vectorize_layer, vocab_size = adaptVocab(text_dataset)\n",
    "x_train, y_train, x_test, y_test, tokenizer, encoder = getTokenizer(vocab_size, sentences_train, sentences_test, y_train, y_test)"
   ]
  },
  {
   "cell_type": "code",
   "execution_count": 28,
   "metadata": {},
   "outputs": [
    {
     "output_type": "stream",
     "name": "stdout",
     "text": [
      "Model: \"sequential_3\"\n",
      "_________________________________________________________________\n",
      "Layer (type)                 Output Shape              Param #   \n",
      "=================================================================\n",
      "dense_9 (Dense)              (None, 512)               6958592   \n",
      "_________________________________________________________________\n",
      "activation_9 (Activation)    (None, 512)               0         \n",
      "_________________________________________________________________\n",
      "dropout_6 (Dropout)          (None, 512)               0         \n",
      "_________________________________________________________________\n",
      "dense_10 (Dense)             (None, 512)               262656    \n",
      "_________________________________________________________________\n",
      "activation_10 (Activation)   (None, 512)               0         \n",
      "_________________________________________________________________\n",
      "dropout_7 (Dropout)          (None, 512)               0         \n",
      "_________________________________________________________________\n",
      "dense_11 (Dense)             (None, 6)                 3078      \n",
      "_________________________________________________________________\n",
      "activation_11 (Activation)   (None, 6)                 0         \n",
      "=================================================================\n",
      "Total params: 7,224,326\n",
      "Trainable params: 7,224,326\n",
      "Non-trainable params: 0\n",
      "_________________________________________________________________\n",
      "Epoch 1/10\n",
      "15/15 - 1s - loss: 1.3866 - accuracy: 0.4401 - val_loss: 1.2083 - val_accuracy: 0.5604\n",
      "Epoch 2/10\n",
      "15/15 - 0s - loss: 0.9357 - accuracy: 0.6370 - val_loss: 1.0248 - val_accuracy: 0.5792\n",
      "Epoch 3/10\n",
      "15/15 - 0s - loss: 0.4505 - accuracy: 0.8625 - val_loss: 1.0990 - val_accuracy: 0.5813\n",
      "Epoch 4/10\n",
      "15/15 - 0s - loss: 0.1638 - accuracy: 0.9563 - val_loss: 1.2570 - val_accuracy: 0.5688\n",
      "Epoch 5/10\n",
      "15/15 - 0s - loss: 0.0629 - accuracy: 0.9865 - val_loss: 1.3962 - val_accuracy: 0.5646\n",
      "Epoch 6/10\n",
      "15/15 - 0s - loss: 0.0259 - accuracy: 0.9979 - val_loss: 1.5947 - val_accuracy: 0.5479\n",
      "Epoch 7/10\n",
      "15/15 - 0s - loss: 0.0120 - accuracy: 0.9979 - val_loss: 1.6306 - val_accuracy: 0.5542\n",
      "Epoch 8/10\n",
      "15/15 - 0s - loss: 0.0080 - accuracy: 0.9979 - val_loss: 1.6949 - val_accuracy: 0.5583\n",
      "Epoch 9/10\n",
      "15/15 - 0s - loss: 0.0058 - accuracy: 0.9995 - val_loss: 1.7361 - val_accuracy: 0.5604\n",
      "Epoch 10/10\n",
      "15/15 - 0s - loss: 0.0048 - accuracy: 0.9990 - val_loss: 1.7643 - val_accuracy: 0.5604\n"
     ]
    }
   ],
   "source": [
    "model = getModel(num_labels)\n",
    "num_epochs =10\n",
    "batch_size = 128\n",
    "history = model.fit(x_train, y_train,\n",
    "                    batch_size=batch_size,\n",
    "                    epochs=num_epochs,\n",
    "                    verbose=2,\n",
    "                    validation_split=0.2)"
   ]
  },
  {
   "cell_type": "code",
   "execution_count": 29,
   "metadata": {},
   "outputs": [
    {
     "output_type": "stream",
     "name": "stdout",
     "text": [
      "10/10 [==============================] - 0s 3ms/step\n",
      "              precision    recall  f1-score   support\n",
      "\n",
      "           0       0.45      0.32      0.38       155\n",
      "           2       0.43      0.21      0.29        14\n",
      "           3       0.71      0.71      0.71        21\n",
      "           4       0.56      0.71      0.63       242\n",
      "           5       0.49      0.45      0.47       168\n",
      "\n",
      "    accuracy                           0.53       600\n",
      "   macro avg       0.53      0.48      0.49       600\n",
      "weighted avg       0.51      0.53      0.51       600\n",
      "\n"
     ]
    }
   ],
   "source": [
    "get_metrics_by_class(model, x_test, y_test)"
   ]
  },
  {
   "source": [
    "Validación del modelo con la segunda tanda de etiquetado manual"
   ],
   "cell_type": "markdown",
   "metadata": {}
  },
  {
   "cell_type": "code",
   "execution_count": 30,
   "metadata": {},
   "outputs": [],
   "source": [
    "dfIter2Es =  readDataset(iter1Es)[['text', 'tag']]\n",
    "x_testIter2 = tokenizer.texts_to_matrix(dfIter2Es['text'].values)\n",
    "y_trainIter2 = encoder.transform(dfIter2Es['tag'].values)"
   ]
  },
  {
   "cell_type": "code",
   "execution_count": 31,
   "metadata": {},
   "outputs": [
    {
     "output_type": "stream",
     "name": "stdout",
     "text": [
      "['NONE' 'household-violence' 'mental-health' 'school-reopening'\n",
      " 'vaccination' 'vaccines']\n",
      "16/16 [==============================] - 0s 3ms/step\n",
      "              precision    recall  f1-score   support\n",
      "\n",
      "           0       0.87      0.48      0.62       736\n",
      "           1       0.00      0.00      0.00         2\n",
      "           2       0.06      0.50      0.10         4\n",
      "           3       0.14      0.80      0.24         5\n",
      "           4       0.21      0.65      0.31       127\n",
      "           5       0.33      0.33      0.33       127\n",
      "\n",
      "    accuracy                           0.49      1001\n",
      "   macro avg       0.27      0.46      0.27      1001\n",
      "weighted avg       0.71      0.49      0.54      1001\n",
      "\n",
      "C:\\Users\\diego\\anaconda3\\envs\\TF-Keras\\lib\\site-packages\\sklearn\\metrics\\_classification.py:1245: UndefinedMetricWarning: Precision and F-score are ill-defined and being set to 0.0 in labels with no predicted samples. Use `zero_division` parameter to control this behavior.\n",
      "  _warn_prf(average, modifier, msg_start, len(result))\n",
      "C:\\Users\\diego\\anaconda3\\envs\\TF-Keras\\lib\\site-packages\\sklearn\\metrics\\_classification.py:1245: UndefinedMetricWarning: Precision and F-score are ill-defined and being set to 0.0 in labels with no predicted samples. Use `zero_division` parameter to control this behavior.\n",
      "  _warn_prf(average, modifier, msg_start, len(result))\n",
      "C:\\Users\\diego\\anaconda3\\envs\\TF-Keras\\lib\\site-packages\\sklearn\\metrics\\_classification.py:1245: UndefinedMetricWarning: Precision and F-score are ill-defined and being set to 0.0 in labels with no predicted samples. Use `zero_division` parameter to control this behavior.\n",
      "  _warn_prf(average, modifier, msg_start, len(result))\n"
     ]
    }
   ],
   "source": [
    "print(encoder.classes_)\n",
    "get_metrics_by_class(model, x_testIter2, y_trainIter2)"
   ]
  },
  {
   "cell_type": "code",
   "execution_count": 19,
   "metadata": {},
   "outputs": [
    {
     "output_type": "stream",
     "name": "stdout",
     "text": [
      "(1001, 17)\n",
      "0\n",
      "1000 "
     ]
    }
   ],
   "source": [
    "dfAll = readDataset('./datasets/es_hash.json', n=1000)\n",
    "print(dfAll.shape)\n",
    "\n",
    "predictions = predictAll(dfAll)\n",
    "subsets = pd.DataFrame(dfAll.iloc[:1001, : ])\n",
    "subsets['simpleTag'] = predictions"
   ]
  },
  {
   "cell_type": "code",
   "execution_count": 20,
   "metadata": {},
   "outputs": [
    {
     "output_type": "execute_result",
     "data": {
      "text/plain": [
       "vaccination      678\n",
       "NONE             229\n",
       "vaccines          78\n",
       "mental-health     16\n",
       "Name: simpleTag, dtype: int64"
      ]
     },
     "metadata": {},
     "execution_count": 20
    }
   ],
   "source": [
    "subsets['simpleTag'].value_counts()"
   ]
  },
  {
   "cell_type": "code",
   "execution_count": 21,
   "metadata": {},
   "outputs": [],
   "source": [
    "subsets.to_json('./datasets/1000simpleTagged_es.json', orient='records', lines=True)"
   ]
  },
  {
   "source": [
    "## Frances\n",
    "\n",
    "***"
   ],
   "cell_type": "markdown",
   "metadata": {}
  },
  {
   "cell_type": "code",
   "execution_count": 22,
   "metadata": {},
   "outputs": [],
   "source": [
    "french_path = './datasets/fr.jsonl'\n",
    "data = readDataset(french_path)"
   ]
  },
  {
   "cell_type": "code",
   "execution_count": 23,
   "metadata": {},
   "outputs": [
    {
     "output_type": "execute_result",
     "data": {
      "text/plain": [
       "array(['vaccination', 'vaccines', 'mental-health', 'NONE',\n",
       "       'school-reopening', 'household-violence', 'vaccine',\n",
       "       'school reopening', 'none', 'mental health', 'vaccination ',\n",
       "       'mental health ', 'mental-health '], dtype=object)"
      ]
     },
     "metadata": {},
     "execution_count": 23
    }
   ],
   "source": [
    "data['tag'].unique()"
   ]
  },
  {
   "source": [
    "- vaccines\n",
    "- vaccination\n",
    "- mental-health\n",
    "- school-reopening\n",
    "- household-violence\n",
    "- NONE"
   ],
   "cell_type": "markdown",
   "metadata": {}
  },
  {
   "cell_type": "code",
   "execution_count": 24,
   "metadata": {},
   "outputs": [],
   "source": [
    "newData = data['tag'].apply(lambda x: x.replace(\"vaccines\", \"vaccine\").replace(\"vaccine\", \"vaccines\"))\n",
    "newData = newData.apply(lambda x: x.strip())\n",
    "newData = newData.apply(lambda x: x.replace(\"mental health\", \"mental-health\").replace(\"none\", \"NONE\"))\n",
    "newData = newData.apply(lambda x: x.replace(\"school reopening\", \"school-reopening\"))"
   ]
  },
  {
   "cell_type": "code",
   "execution_count": 25,
   "metadata": {},
   "outputs": [
    {
     "output_type": "execute_result",
     "data": {
      "text/plain": [
       "array(['vaccination', 'vaccines', 'mental-health', 'NONE',\n",
       "       'school-reopening', 'household-violence'], dtype=object)"
      ]
     },
     "metadata": {},
     "execution_count": 25
    }
   ],
   "source": [
    "newData.unique()"
   ]
  },
  {
   "cell_type": "code",
   "execution_count": 26,
   "metadata": {},
   "outputs": [
    {
     "output_type": "execute_result",
     "data": {
      "text/plain": [
       "array(['vaccination', 'vaccines', 'mental-health', 'NONE',\n",
       "       'school-reopening', 'household-violence'], dtype=object)"
      ]
     },
     "metadata": {},
     "execution_count": 26
    }
   ],
   "source": [
    "data['tag'] = newData\n",
    "data['tag'].unique()"
   ]
  },
  {
   "source": [
    "Save cleaned Data\n"
   ],
   "cell_type": "markdown",
   "metadata": {}
  },
  {
   "cell_type": "code",
   "execution_count": 27,
   "metadata": {},
   "outputs": [],
   "source": [
    "data.to_json('./datasets/tagged/fr.jsonl', orient='records', lines=True)"
   ]
  },
  {
   "cell_type": "code",
   "execution_count": 28,
   "metadata": {},
   "outputs": [
    {
     "output_type": "stream",
     "name": "stdout",
     "text": [
      "Vocab size: 16361\n"
     ]
    }
   ],
   "source": [
    "num_labels = len(data[\"tag\"].unique())\n",
    "sentences_train, sentences_test, y_train, y_test = splitData(data)\n",
    "text_dataset = Dataset.from_tensor_slices((sentences_train))\n",
    "vectorize_layer, vocab_size = adaptVocab(text_dataset)\n",
    "# y_train\n",
    "# data\n",
    "x_train, y_train, x_test, y_test, tokenizer, encoder = getTokenizer(vocab_size, sentences_train, sentences_test, y_train, y_test)"
   ]
  },
  {
   "cell_type": "code",
   "execution_count": 29,
   "metadata": {},
   "outputs": [
    {
     "output_type": "stream",
     "name": "stdout",
     "text": [
      "Model: \"sequential_2\"\n",
      "_________________________________________________________________\n",
      "Layer (type)                 Output Shape              Param #   \n",
      "=================================================================\n",
      "dense_6 (Dense)              (None, 512)               8377344   \n",
      "_________________________________________________________________\n",
      "activation_6 (Activation)    (None, 512)               0         \n",
      "_________________________________________________________________\n",
      "dropout_4 (Dropout)          (None, 512)               0         \n",
      "_________________________________________________________________\n",
      "dense_7 (Dense)              (None, 512)               262656    \n",
      "_________________________________________________________________\n",
      "activation_7 (Activation)    (None, 512)               0         \n",
      "_________________________________________________________________\n",
      "dropout_5 (Dropout)          (None, 512)               0         \n",
      "_________________________________________________________________\n",
      "dense_8 (Dense)              (None, 6)                 3078      \n",
      "_________________________________________________________________\n",
      "activation_8 (Activation)    (None, 6)                 0         \n",
      "=================================================================\n",
      "Total params: 8,643,078\n",
      "Trainable params: 8,643,078\n",
      "Non-trainable params: 0\n",
      "_________________________________________________________________\n",
      "Epoch 1/10\n",
      "20/20 - 1s - loss: 1.3361 - accuracy: 0.4850 - val_loss: 1.1019 - val_accuracy: 0.5531\n",
      "Epoch 2/10\n",
      "20/20 - 0s - loss: 0.7494 - accuracy: 0.7097 - val_loss: 0.9575 - val_accuracy: 0.6062\n",
      "Epoch 3/10\n",
      "20/20 - 0s - loss: 0.3052 - accuracy: 0.9215 - val_loss: 1.0805 - val_accuracy: 0.6234\n",
      "Epoch 4/10\n",
      "20/20 - 0s - loss: 0.0801 - accuracy: 0.9785 - val_loss: 1.2682 - val_accuracy: 0.5969\n",
      "Epoch 5/10\n",
      "20/20 - 0s - loss: 0.0332 - accuracy: 0.9898 - val_loss: 1.4006 - val_accuracy: 0.6187\n",
      "Epoch 6/10\n",
      "20/20 - 0s - loss: 0.0134 - accuracy: 0.9996 - val_loss: 1.4837 - val_accuracy: 0.6219\n",
      "Epoch 7/10\n",
      "20/20 - 0s - loss: 0.0058 - accuracy: 0.9996 - val_loss: 1.5610 - val_accuracy: 0.6172\n",
      "Epoch 8/10\n",
      "20/20 - 0s - loss: 0.0039 - accuracy: 0.9996 - val_loss: 1.6171 - val_accuracy: 0.6250\n",
      "Epoch 9/10\n",
      "20/20 - 0s - loss: 0.0023 - accuracy: 0.9996 - val_loss: 1.6452 - val_accuracy: 0.6219\n",
      "Epoch 10/10\n",
      "20/20 - 0s - loss: 0.0018 - accuracy: 0.9996 - val_loss: 1.6728 - val_accuracy: 0.6187\n"
     ]
    }
   ],
   "source": [
    "model = getModel(num_labels)\n",
    "num_epochs =10\n",
    "batch_size = 128\n",
    "history = model.fit(x_train, y_train,\n",
    "                    batch_size=batch_size,\n",
    "                    epochs=num_epochs,\n",
    "                    verbose=2,\n",
    "                    validation_split=0.2)"
   ]
  },
  {
   "cell_type": "code",
   "execution_count": 30,
   "metadata": {},
   "outputs": [
    {
     "output_type": "stream",
     "name": "stdout",
     "text": [
      "13/13 [==============================] - 0s 4ms/step\n",
      "              precision    recall  f1-score   support\n",
      "\n",
      "           0       0.43      0.26      0.33       103\n",
      "           1       0.00      0.00      0.00         2\n",
      "           2       0.67      0.33      0.44        12\n",
      "           3       0.79      0.76      0.77        49\n",
      "           4       0.61      0.61      0.61       296\n",
      "           5       0.65      0.75      0.70       338\n",
      "\n",
      "    accuracy                           0.63       800\n",
      "   macro avg       0.52      0.45      0.48       800\n",
      "weighted avg       0.62      0.63      0.62       800\n",
      "\n",
      "C:\\Users\\diego\\anaconda3\\envs\\TF-Keras\\lib\\site-packages\\sklearn\\metrics\\_classification.py:1245: UndefinedMetricWarning: Precision and F-score are ill-defined and being set to 0.0 in labels with no predicted samples. Use `zero_division` parameter to control this behavior.\n",
      "  _warn_prf(average, modifier, msg_start, len(result))\n",
      "C:\\Users\\diego\\anaconda3\\envs\\TF-Keras\\lib\\site-packages\\sklearn\\metrics\\_classification.py:1245: UndefinedMetricWarning: Precision and F-score are ill-defined and being set to 0.0 in labels with no predicted samples. Use `zero_division` parameter to control this behavior.\n",
      "  _warn_prf(average, modifier, msg_start, len(result))\n",
      "C:\\Users\\diego\\anaconda3\\envs\\TF-Keras\\lib\\site-packages\\sklearn\\metrics\\_classification.py:1245: UndefinedMetricWarning: Precision and F-score are ill-defined and being set to 0.0 in labels with no predicted samples. Use `zero_division` parameter to control this behavior.\n",
      "  _warn_prf(average, modifier, msg_start, len(result))\n"
     ]
    }
   ],
   "source": [
    "get_metrics_by_class(model, x_test, y_test)"
   ]
  },
  {
   "source": [
    "Validación del modelo con la segunda tanda de etiquetado manual"
   ],
   "cell_type": "markdown",
   "metadata": {}
  },
  {
   "cell_type": "code",
   "execution_count": 34,
   "metadata": {},
   "outputs": [],
   "source": [
    "dfIter2Fr =  readDataset(iter1Fr)[['text', 'tag']]\n",
    "x_testIter2 = tokenizer.texts_to_matrix(dfIter2Fr['text'].values)\n",
    "y_trainIter2 = encoder.transform(dfIter2Fr['tag'].values)"
   ]
  },
  {
   "cell_type": "code",
   "execution_count": 35,
   "metadata": {},
   "outputs": [
    {
     "output_type": "stream",
     "name": "stdout",
     "text": [
      "['NONE' 'household-violence' 'mental-health' 'school-reopening'\n",
      " 'vaccination' 'vaccines']\n",
      "8/8 [==============================] - 0s 4ms/step\n",
      "              precision    recall  f1-score   support\n",
      "\n",
      "           0       0.76      0.45      0.57       335\n",
      "           1       0.00      0.00      0.00         1\n",
      "           2       0.00      0.00      0.00         2\n",
      "           3       0.00      0.00      0.00         1\n",
      "           4       0.23      0.58      0.33        69\n",
      "           5       0.20      0.26      0.22        93\n",
      "\n",
      "    accuracy                           0.43       501\n",
      "   macro avg       0.20      0.21      0.19       501\n",
      "weighted avg       0.57      0.43      0.46       501\n",
      "\n",
      "C:\\Users\\diego\\anaconda3\\envs\\TF-Keras\\lib\\site-packages\\sklearn\\metrics\\_classification.py:1245: UndefinedMetricWarning: Precision and F-score are ill-defined and being set to 0.0 in labels with no predicted samples. Use `zero_division` parameter to control this behavior.\n",
      "  _warn_prf(average, modifier, msg_start, len(result))\n",
      "C:\\Users\\diego\\anaconda3\\envs\\TF-Keras\\lib\\site-packages\\sklearn\\metrics\\_classification.py:1245: UndefinedMetricWarning: Precision and F-score are ill-defined and being set to 0.0 in labels with no predicted samples. Use `zero_division` parameter to control this behavior.\n",
      "  _warn_prf(average, modifier, msg_start, len(result))\n",
      "C:\\Users\\diego\\anaconda3\\envs\\TF-Keras\\lib\\site-packages\\sklearn\\metrics\\_classification.py:1245: UndefinedMetricWarning: Precision and F-score are ill-defined and being set to 0.0 in labels with no predicted samples. Use `zero_division` parameter to control this behavior.\n",
      "  _warn_prf(average, modifier, msg_start, len(result))\n"
     ]
    }
   ],
   "source": [
    "print(encoder.classes_)\n",
    "get_metrics_by_class(model, x_testIter2, y_trainIter2)"
   ]
  },
  {
   "cell_type": "code",
   "execution_count": 31,
   "metadata": {},
   "outputs": [
    {
     "output_type": "stream",
     "name": "stdout",
     "text": [
      "(1001, 18)\n",
      "0\n",
      "1000 "
     ]
    }
   ],
   "source": [
    "dfAll = readDataset('./datasets/fr_hash.json', n=1000)\n",
    "print(dfAll.shape)\n",
    "\n",
    "predictions = predictAll(dfAll)\n",
    "subsets = pd.DataFrame(dfAll.iloc[:1001, : ])\n",
    "subsets['simpleTag'] = predictions"
   ]
  },
  {
   "cell_type": "code",
   "execution_count": 32,
   "metadata": {},
   "outputs": [
    {
     "output_type": "execute_result",
     "data": {
      "text/plain": [
       "vaccines            453\n",
       "vaccination         326\n",
       "NONE                195\n",
       "school-reopening     21\n",
       "mental-health         6\n",
       "Name: simpleTag, dtype: int64"
      ]
     },
     "metadata": {},
     "execution_count": 32
    }
   ],
   "source": [
    "subsets['simpleTag'].value_counts()"
   ]
  },
  {
   "cell_type": "code",
   "execution_count": 33,
   "metadata": {},
   "outputs": [],
   "source": [
    "subsets.to_json('./datasets/1000simpleTagged_fr.json', orient='records', lines=True)"
   ]
  }
 ]
}