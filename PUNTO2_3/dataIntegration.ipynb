{
 "metadata": {
  "language_info": {
   "codemirror_mode": {
    "name": "ipython",
    "version": 3
   },
   "file_extension": ".py",
   "mimetype": "text/x-python",
   "name": "python",
   "nbconvert_exporter": "python",
   "pygments_lexer": "ipython3",
   "version": "3.7.10"
  },
  "orig_nbformat": 2,
  "kernelspec": {
   "name": "python3710jvsc74a57bd06c70104609522f67cb30e8200dfa6f77a5bec0e1b1538a23f62dccdf26f51f37",
   "display_name": "Python 3.7.10 64-bit ('TF-Keras': conda)"
  }
 },
 "nbformat": 4,
 "nbformat_minor": 2,
 "cells": [
  {
   "source": [
    "En este notebook se buscará integrar todas las fuentes de datos de este punto en un solo lugar"
   ],
   "cell_type": "markdown",
   "metadata": {}
  },
  {
   "cell_type": "code",
   "execution_count": 12,
   "metadata": {},
   "outputs": [],
   "source": [
    "import pandas as pd\n",
    "import json\n",
    "import numpy as numpy"
   ]
  },
  {
   "source": [
    "Definición de fuentes de datos a usar"
   ],
   "cell_type": "markdown",
   "metadata": {}
  },
  {
   "cell_type": "code",
   "execution_count": 13,
   "metadata": {},
   "outputs": [],
   "source": [
    "folder = './datasets/tagged/'\n",
    "\n",
    "# Datos primera iteración de taggeado. Taggeados entre 4 grupos\n",
    "iter1En = 'en.jsonl'\n",
    "iter1Es = 'es.jsonl'\n",
    "iter1Fr = 'fr.jsonl'\n",
    "\n",
    "# Datos segunda iteración de taggeado hecho por nuestro grupo\n",
    "iter2En = '(500)1000simpleTagged_en_tagged.json'\n",
    "iter2Es = '(1000)1000simpleTagged_es_tagged.json'\n",
    "iter2Fr = '(502)1000simpleTagged_fr_tagged.json'\n",
    "\n",
    "# Datos de la clase household-violence principalmente como correción \n",
    "# a la subrepresentación que había de esta clase en la iteración 1 de tageado\n",
    "\n",
    "violenceEn = 'allan_violence_hash.json'\n",
    "violenceEs = 'es_allan_violence_hash.json'\n",
    "violenceFr = 'violence_fr.jsonl'\n",
    "violence2Fr = 'Persona_violence_fr_N0_tagged.json'\n",
    "\n",
    "spanish = [iter1Es, iter2Es, violenceEs]\n",
    "english = [iter1En, iter2En, violenceEn]\n",
    "french = [iter1Fr, iter2Fr, violenceFr, violence2Fr]\n",
    "\n",
    "# Columnas que vamos a usar de los datassets\n",
    "columns = ['text', 'tag']\n"
   ]
  },
  {
   "source": [
    "def readDataset(file):\n",
    "    file = open(file, 'r')\n",
    "    data = []\n",
    "    cont = 0\n",
    "    for i, line in enumerate(file):\n",
    "        try:\n",
    "            data.append(json.loads(line))\n",
    "        except:\n",
    "            cont += 1\n",
    "    print('Se salto:', cont)\n",
    "\n",
    "    return pd.json_normalize(data)\n",
    "\n",
    "def integrateData(folder, files):\n",
    "    all_data = []\n",
    "    for file in files:\n",
    "        print(file)\n",
    "        path = folder + file\n",
    "        data = readDataset(path)\n",
    "        all_data.append(data[columns])\n",
    "    \n",
    "    return pd.concat(all_data, axis=0)\n"
   ],
   "cell_type": "code",
   "metadata": {},
   "execution_count": 14,
   "outputs": []
  },
  {
   "cell_type": "code",
   "execution_count": 17,
   "metadata": {},
   "outputs": [
    {
     "output_type": "stream",
     "name": "stdout",
     "text": [
      "en.jsonl\n",
      "Se salto: 0\n",
      "(500)1000simpleTagged_en_tagged.json\n",
      "Se salto: 0\n",
      "allan_violence_hash.json\n",
      "Se salto: 0\n",
      "(6862, 2)\n"
     ]
    }
   ],
   "source": [
    "integrated_en = integrateData(folder, english)\n",
    "print(integrated_en.shape)\n",
    "integrated_en.head()\n",
    "path = folder + 'integrated_en.json'\n",
    "integrated_en.to_json(path, orient='records', lines=True)"
   ]
  },
  {
   "cell_type": "code",
   "execution_count": 18,
   "metadata": {},
   "outputs": [
    {
     "output_type": "execute_result",
     "data": {
      "text/plain": [
       "vaccination           2682\n",
       "NONE                  1874\n",
       "vaccines              1199\n",
       "school-reopening       611\n",
       "mental-health          354\n",
       "household-violence     142\n",
       "Name: tag, dtype: int64"
      ]
     },
     "metadata": {},
     "execution_count": 18
    }
   ],
   "source": [
    "integrated_en['tag'].value_counts()"
   ]
  },
  {
   "source": [
    "Español"
   ],
   "cell_type": "markdown",
   "metadata": {}
  },
  {
   "cell_type": "code",
   "execution_count": 21,
   "metadata": {},
   "outputs": [
    {
     "output_type": "stream",
     "name": "stdout",
     "text": [
      "Persona_es_N0_tagged.json\n",
      "Se salto: 0\n",
      "Persona_es_N1_tagged.json\n",
      "Se salto: 0\n",
      "Persona_es_N2_tagged.json\n",
      "Se salto: 0\n",
      "Persona_es_N3_tagged.json\n",
      "Se salto: 0\n",
      "Persona_es_N5_tagged.json\n",
      "Se salto: 0\n",
      "(5000, 2)\n"
     ]
    }
   ],
   "source": [
    "es_n0 = 'Persona_es_N0_tagged.json'\n",
    "es_n1 = 'Persona_es_N1_tagged.json'\n",
    "es_n2 = 'Persona_es_N2_tagged.json'\n",
    "es_n3 = 'Persona_es_N3_tagged.json'\n",
    "es_n5 = 'Persona_es_N5_tagged.json'\n",
    "\n",
    "es_tagged = [es_n0, es_n1, es_n2, es_n3, es_n5]\n",
    "es_folder = folder + 'spanish1stIter/'\n",
    "df_es = integrateData(es_folder, es_tagged)\n",
    "print(df_es.shape)\n",
    "es_path = folder + iter1Es\n",
    "df_es.to_json(es_path, orient='records', lines=True)"
   ]
  },
  {
   "cell_type": "code",
   "execution_count": 22,
   "metadata": {},
   "outputs": [
    {
     "output_type": "stream",
     "name": "stdout",
     "text": [
      "es.jsonl\n",
      "Se salto: 0\n",
      "(1000)1000simpleTagged_es_tagged.json\n",
      "Se salto: 0\n",
      "es_allan_violence_hash.json\n",
      "Se salto: 0\n",
      "(6494, 2)\n"
     ]
    }
   ],
   "source": [
    "integrated_es = integrateData(folder, spanish)\n",
    "print(integrated_es.shape)\n",
    "integrated_es.head()\n",
    "path = folder + 'integrated_es.json'\n",
    "integrated_es.to_json(path, orient='records', lines=True)"
   ]
  },
  {
   "cell_type": "code",
   "execution_count": 25,
   "metadata": {},
   "outputs": [
    {
     "output_type": "execute_result",
     "data": {
      "text/plain": [
       "NONE                  2433\n",
       "vaccination           2236\n",
       "vaccines              1374\n",
       "school-reopening       195\n",
       "household-violence     144\n",
       "mental-health          112\n",
       "Name: tag, dtype: int64"
      ]
     },
     "metadata": {},
     "execution_count": 25
    }
   ],
   "source": [
    "integrated_es['tag'].value_counts()"
   ]
  },
  {
   "source": [
    "Francés"
   ],
   "cell_type": "markdown",
   "metadata": {}
  },
  {
   "cell_type": "code",
   "execution_count": 26,
   "metadata": {},
   "outputs": [
    {
     "output_type": "stream",
     "name": "stdout",
     "text": [
      "fr.jsonl\n",
      "Se salto: 0\n",
      "(502)1000simpleTagged_fr_tagged.json\n",
      "Se salto: 1\n",
      "violence_fr.jsonl\n",
      "Se salto: 0\n",
      "Persona_violence_fr_N0_tagged.json\n",
      "Se salto: 1\n",
      "(4634, 2)\n"
     ]
    }
   ],
   "source": [
    "integrated_fr = integrateData(folder, french)\n",
    "print(integrated_fr.shape)\n",
    "integrated_fr.head()\n",
    "path = folder + 'integrated_fr.json'\n",
    "integrated_fr.to_json(path, orient='records', lines=True)"
   ]
  },
  {
   "cell_type": "code",
   "execution_count": 27,
   "metadata": {},
   "outputs": [
    {
     "output_type": "execute_result",
     "data": {
      "text/plain": [
       "vaccines              1757\n",
       "vaccination           1607\n",
       "NONE                   909\n",
       "school-reopening       261\n",
       "mental-health           57\n",
       "household-violence      43\n",
       "Name: tag, dtype: int64"
      ]
     },
     "metadata": {},
     "execution_count": 27
    }
   ],
   "source": [
    "integrated_fr['tag'].value_counts()"
   ]
  }
 ]
}