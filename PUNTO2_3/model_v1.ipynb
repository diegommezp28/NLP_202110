{
 "metadata": {
  "language_info": {
   "codemirror_mode": {
    "name": "ipython",
    "version": 3
   },
   "file_extension": ".py",
   "mimetype": "text/x-python",
   "name": "python",
   "nbconvert_exporter": "python",
   "pygments_lexer": "ipython3",
   "version": "3.6.13"
  },
  "orig_nbformat": 2,
  "kernelspec": {
   "name": "python3613jvsc74a57bd0301bcf9375ede4ec55e60e6e0f2268ab91da56089f0be4a26df0e863868dd441",
   "display_name": "Python 3.6.13 64-bit ('gpt2': conda)"
  }
 },
 "nbformat": 4,
 "nbformat_minor": 2,
 "cells": [
  {
   "source": [
    "imports"
   ],
   "cell_type": "markdown",
   "metadata": {}
  },
  {
   "cell_type": "code",
   "execution_count": 1,
   "metadata": {},
   "outputs": [],
   "source": [
    "import numpy as np \n",
    "import pandas as pd \n",
    "import matplotlib.pyplot as plt \n",
    "import numpy as np\n",
    "from tensorflow.data import Dataset\n",
    "from tensorflow.keras import layers\n",
    "from tensorflow.keras.layers import Dense, Activation, Dropout\n",
    "from tensorflow.keras import losses\n",
    "from tensorflow.keras import preprocessing\n",
    "from tensorflow.keras.layers.experimental.preprocessing import TextVectorization\n",
    "from keras.models import Sequential\n",
    "from sklearn.model_selection import train_test_split\n",
    "from sklearn.preprocessing import OneHotEncoder\n",
    "from transformers import pipeline\n",
    "import json\n",
    "from keras.preprocessing.text import Tokenizer\n",
    "from sklearn.preprocessing import LabelBinarizer\n"
   ]
  },
  {
   "source": [
    "Define constants and variables"
   ],
   "cell_type": "markdown",
   "metadata": {}
  },
  {
   "cell_type": "code",
   "execution_count": 2,
   "metadata": {},
   "outputs": [],
   "source": [
    "prefix = './datasets/'\n",
    "english_folder = prefix + 'english/'\n",
    "\n"
   ]
  },
  {
   "source": [
    "Read datasets"
   ],
   "cell_type": "markdown",
   "metadata": {}
  },
  {
   "cell_type": "code",
   "execution_count": 3,
   "metadata": {},
   "outputs": [],
   "source": [
    "from os import walk\n",
    "\n",
    "def readDataset(file):\n",
    "    file = open(file, 'r')\n",
    "    data = []\n",
    "    for line in file:\n",
    "        data.append(json.loads(line))\n",
    "    return pd.json_normalize(data)\n",
    "\n",
    "def readDataInFolder(dir_path):\n",
    "    dfs = []\n",
    "    for (dirpath, dirnames, filenames) in walk(dir_path):\n",
    "        for file in filenames:\n",
    "            print(f'File: {english_folder + file}')\n",
    "            df = readDataset(english_folder + file)\n",
    "            dfs.append(df)\n",
    "    return dfs\n",
    "\n"
   ]
  },
  {
   "cell_type": "code",
   "execution_count": 4,
   "metadata": {},
   "outputs": [
    {
     "name": "stdout",
     "output_type": "stream",
     "text": [
      "File: ./datasets/english/Persona_en_N0_tagged.json\n",
      "File: ./datasets/english/Persona_en_N3_tagged_final.json\n",
      "File: ./datasets/english/Persona_en_N2_tagged.json\n",
      "Número de archivos leídos: 3\n",
      "Shape of the hole dataset: (3000, 10)\n"
     ]
    },
    {
     "data": {
      "text/plain": "     index            author_id  \\\n0  1169503            117418104   \n1  1088588            726456608   \n2  1229144            191092262   \n3  1041354           2985792143   \n4  1190556             19809471   \n5   337931  1048999496347279360   \n6   551389   856622507427635200   \n7   687455  1254358657132888064   \n8   399765           1719674052   \n9   895036             18556112   \n\n                                                text lang  \\\n0  #Bucks: Milwaukee Bucks and Milwaukee Health D...   en   \n1  Youth Ages 12-15 Now Eligible for Pfizer COVID...   en   \n2  Fighting Stigma: Young people should be free t...   en   \n3  Second jab done! Although by the state of Tesc...   en   \n4  4/27 - Vaccination and Testing Update - 2020-2...   en   \n5  If you support state authority after a year of...   en   \n6  We contributed to Saturday's 4-million vaccina...   en   \n7  Illinois bar opening event linked to 46 Covid-...   en   \n8  Share your COVID-19 vaccination experience wit...   en   \n9  Update on the vaccine stats. \\n\\n187 people bl...   en   \n\n                                 context_annotations                   id  \\\n0  [{'domain': {'id': '3', 'name': 'TV Shows', 'd...  1387163086981898240   \n1  [{'domain': {'id': '65', 'name': 'Interests an...  1392964893469511681   \n2  [{'domain': {'id': '123', 'name': 'Ongoing New...  1387110938088677376   \n3  [{'domain': {'id': '123', 'name': 'Ongoing New...  1391014287565545477   \n4  [{'domain': {'id': '123', 'name': 'Ongoing New...  1387142140606648320   \n5  [{'domain': {'id': '123', 'name': 'Ongoing New...  1379169272837021696   \n6  [{'domain': {'id': '45', 'name': 'Brand Vertic...  1379141859654557699   \n7  [{'domain': {'id': '123', 'name': 'Ongoing New...  1379114893664731137   \n8  [{'domain': {'id': '48', 'name': 'Product', 'd...  1379161149665648640   \n9  [{'domain': {'id': '65', 'name': 'Interests an...  1378838436040298496   \n\n                 created_at    date_str  hashtag               tag  \n0  2021-04-27T21:53:46.000Z  2021-04-27  [Bucks]       vaccination  \n1  2021-05-13T22:08:05.000Z  2021-05-13       []       vaccination  \n2  2021-04-27T18:26:33.000Z  2021-04-27       []       vaccination  \n3  2021-05-08T12:57:04.000Z  2021-05-08       []  school-reopening  \n4  2021-04-27T20:30:32.000Z  2021-04-27       []          vaccines  \n5  2021-04-05T20:29:13.000Z  2021-04-05       []     mental-health  \n6  2021-04-05T18:40:17.000Z  2021-04-05       []       vaccination  \n7  2021-04-05T16:53:08.000Z  2021-04-05       []  school-reopening  \n8  2021-04-05T19:56:56.000Z  2021-04-05       []       vaccination  \n9  2021-04-04T22:34:35.000Z  2021-04-04       []          vaccines  ",
      "text/html": "<div>\n<style scoped>\n    .dataframe tbody tr th:only-of-type {\n        vertical-align: middle;\n    }\n\n    .dataframe tbody tr th {\n        vertical-align: top;\n    }\n\n    .dataframe thead th {\n        text-align: right;\n    }\n</style>\n<table border=\"1\" class=\"dataframe\">\n  <thead>\n    <tr style=\"text-align: right;\">\n      <th></th>\n      <th>index</th>\n      <th>author_id</th>\n      <th>text</th>\n      <th>lang</th>\n      <th>context_annotations</th>\n      <th>id</th>\n      <th>created_at</th>\n      <th>date_str</th>\n      <th>hashtag</th>\n      <th>tag</th>\n    </tr>\n  </thead>\n  <tbody>\n    <tr>\n      <th>0</th>\n      <td>1169503</td>\n      <td>117418104</td>\n      <td>#Bucks: Milwaukee Bucks and Milwaukee Health D...</td>\n      <td>en</td>\n      <td>[{'domain': {'id': '3', 'name': 'TV Shows', 'd...</td>\n      <td>1387163086981898240</td>\n      <td>2021-04-27T21:53:46.000Z</td>\n      <td>2021-04-27</td>\n      <td>[Bucks]</td>\n      <td>vaccination</td>\n    </tr>\n    <tr>\n      <th>1</th>\n      <td>1088588</td>\n      <td>726456608</td>\n      <td>Youth Ages 12-15 Now Eligible for Pfizer COVID...</td>\n      <td>en</td>\n      <td>[{'domain': {'id': '65', 'name': 'Interests an...</td>\n      <td>1392964893469511681</td>\n      <td>2021-05-13T22:08:05.000Z</td>\n      <td>2021-05-13</td>\n      <td>[]</td>\n      <td>vaccination</td>\n    </tr>\n    <tr>\n      <th>2</th>\n      <td>1229144</td>\n      <td>191092262</td>\n      <td>Fighting Stigma: Young people should be free t...</td>\n      <td>en</td>\n      <td>[{'domain': {'id': '123', 'name': 'Ongoing New...</td>\n      <td>1387110938088677376</td>\n      <td>2021-04-27T18:26:33.000Z</td>\n      <td>2021-04-27</td>\n      <td>[]</td>\n      <td>vaccination</td>\n    </tr>\n    <tr>\n      <th>3</th>\n      <td>1041354</td>\n      <td>2985792143</td>\n      <td>Second jab done! Although by the state of Tesc...</td>\n      <td>en</td>\n      <td>[{'domain': {'id': '123', 'name': 'Ongoing New...</td>\n      <td>1391014287565545477</td>\n      <td>2021-05-08T12:57:04.000Z</td>\n      <td>2021-05-08</td>\n      <td>[]</td>\n      <td>school-reopening</td>\n    </tr>\n    <tr>\n      <th>4</th>\n      <td>1190556</td>\n      <td>19809471</td>\n      <td>4/27 - Vaccination and Testing Update - 2020-2...</td>\n      <td>en</td>\n      <td>[{'domain': {'id': '123', 'name': 'Ongoing New...</td>\n      <td>1387142140606648320</td>\n      <td>2021-04-27T20:30:32.000Z</td>\n      <td>2021-04-27</td>\n      <td>[]</td>\n      <td>vaccines</td>\n    </tr>\n    <tr>\n      <th>5</th>\n      <td>337931</td>\n      <td>1048999496347279360</td>\n      <td>If you support state authority after a year of...</td>\n      <td>en</td>\n      <td>[{'domain': {'id': '123', 'name': 'Ongoing New...</td>\n      <td>1379169272837021696</td>\n      <td>2021-04-05T20:29:13.000Z</td>\n      <td>2021-04-05</td>\n      <td>[]</td>\n      <td>mental-health</td>\n    </tr>\n    <tr>\n      <th>6</th>\n      <td>551389</td>\n      <td>856622507427635200</td>\n      <td>We contributed to Saturday's 4-million vaccina...</td>\n      <td>en</td>\n      <td>[{'domain': {'id': '45', 'name': 'Brand Vertic...</td>\n      <td>1379141859654557699</td>\n      <td>2021-04-05T18:40:17.000Z</td>\n      <td>2021-04-05</td>\n      <td>[]</td>\n      <td>vaccination</td>\n    </tr>\n    <tr>\n      <th>7</th>\n      <td>687455</td>\n      <td>1254358657132888064</td>\n      <td>Illinois bar opening event linked to 46 Covid-...</td>\n      <td>en</td>\n      <td>[{'domain': {'id': '123', 'name': 'Ongoing New...</td>\n      <td>1379114893664731137</td>\n      <td>2021-04-05T16:53:08.000Z</td>\n      <td>2021-04-05</td>\n      <td>[]</td>\n      <td>school-reopening</td>\n    </tr>\n    <tr>\n      <th>8</th>\n      <td>399765</td>\n      <td>1719674052</td>\n      <td>Share your COVID-19 vaccination experience wit...</td>\n      <td>en</td>\n      <td>[{'domain': {'id': '48', 'name': 'Product', 'd...</td>\n      <td>1379161149665648640</td>\n      <td>2021-04-05T19:56:56.000Z</td>\n      <td>2021-04-05</td>\n      <td>[]</td>\n      <td>vaccination</td>\n    </tr>\n    <tr>\n      <th>9</th>\n      <td>895036</td>\n      <td>18556112</td>\n      <td>Update on the vaccine stats. \\n\\n187 people bl...</td>\n      <td>en</td>\n      <td>[{'domain': {'id': '65', 'name': 'Interests an...</td>\n      <td>1378838436040298496</td>\n      <td>2021-04-04T22:34:35.000Z</td>\n      <td>2021-04-04</td>\n      <td>[]</td>\n      <td>vaccines</td>\n    </tr>\n  </tbody>\n</table>\n</div>"
     },
     "execution_count": 4,
     "metadata": {},
     "output_type": "execute_result"
    }
   ],
   "source": [
    "dfs = readDataInFolder(english_folder)\n",
    "print(f'Número de archivos leídos: {len(dfs)}')\n",
    "\n",
    "data = pd.concat(dfs)\n",
    "print(f'Shape of the hole dataset: {data.shape}')\n",
    "data.head(10)"
   ]
  },
  {
   "cell_type": "code",
   "execution_count": 5,
   "metadata": {},
   "outputs": [
    {
     "name": "stdout",
     "output_type": "stream",
     "text": [
      "Index(['index', 'author_id', 'text', 'lang', 'context_annotations', 'id',\n",
      "       'created_at', 'date_str', 'hashtag', 'tag'],\n",
      "      dtype='object')\n"
     ]
    },
    {
     "data": {
      "text/plain": "vaccination           1368\nvaccines               593\nNONE                   589\nschool-reopening       271\nmental-health          177\nhousehold-violence       2\nName: tag, dtype: int64"
     },
     "execution_count": 5,
     "metadata": {},
     "output_type": "execute_result"
    }
   ],
   "source": [
    "print(data.columns)\n",
    "data['tag'].value_counts()\n"
   ]
  },
  {
   "cell_type": "code",
   "execution_count": 6,
   "metadata": {},
   "outputs": [],
   "source": [
    "'''\n",
    "Se dividen los datos en 60 training, 20 validación y 20 testing\n",
    "'''\n",
    "\n",
    "sentences = data['text'].values\n",
    "\n",
    "y = data['tag'].values\n",
    "\n",
    "sentences_train, sentences_test, y_train, y_test = train_test_split(sentences, y, test_size=0.20, random_state=1000)"
   ]
  },
  {
   "cell_type": "code",
   "execution_count": 7,
   "outputs": [],
   "source": [
    "text_dataset = Dataset.from_tensor_slices((sentences_train))"
   ],
   "metadata": {
    "collapsed": false,
    "pycharm": {
     "name": "#%%\n"
    }
   }
  },
  {
   "source": [
    "Tokenization"
   ],
   "cell_type": "markdown",
   "metadata": {}
  },
  {
   "cell_type": "code",
   "execution_count": 8,
   "metadata": {},
   "outputs": [],
   "source": [
    "vectorize_layer = TextVectorization(\n",
    "    ngrams=None, max_tokens=None, vocabulary=None,\n",
    "    output_mode='int', output_sequence_length=None, pad_to_max_tokens=True, \n",
    ")"
   ]
  },
  {
   "source": [
    "Get vocabulary"
   ],
   "cell_type": "markdown",
   "metadata": {}
  },
  {
   "cell_type": "code",
   "execution_count": 9,
   "metadata": {},
   "outputs": [
    {
     "data": {
      "text/plain": "12746"
     },
     "execution_count": 9,
     "metadata": {},
     "output_type": "execute_result"
    }
   ],
   "source": [
    "vectorize_layer.adapt(text_dataset.batch(32))\n",
    "len(vectorize_layer.get_vocabulary())\n"
   ]
  },
  {
   "source": [
    "Arquitecture"
   ],
   "cell_type": "markdown",
   "metadata": {}
  },
  {
   "cell_type": "code",
   "execution_count": 10,
   "metadata": {},
   "outputs": [],
   "source": [
    "vocab_size = len(vectorize_layer.get_vocabulary())\n"
   ]
  },
  {
   "cell_type": "code",
   "execution_count": 11,
   "outputs": [],
   "source": [
    "tokenizer = Tokenizer(num_words=vocab_size)\n",
    "tokenizer.fit_on_texts(sentences_train)\n",
    "\n",
    "\n",
    "x_train = tokenizer.texts_to_matrix(sentences_train)\n",
    "x_test = tokenizer.texts_to_matrix(sentences_test)\n",
    "\n",
    "encoder = LabelBinarizer()\n",
    "encoder.fit(y_train)\n",
    "y_train = encoder.transform(y_train)\n",
    "y_test = encoder.transform(y_test)"
   ],
   "metadata": {
    "collapsed": false,
    "pycharm": {
     "name": "#%%\n"
    }
   }
  },
  {
   "cell_type": "code",
   "execution_count": 12,
   "outputs": [
    {
     "name": "stdout",
     "output_type": "stream",
     "text": [
      "6\n"
     ]
    }
   ],
   "source": [
    "num_labels = len(data[\"tag\"].unique())\n",
    "print(num_labels)"
   ],
   "metadata": {
    "collapsed": false,
    "pycharm": {
     "name": "#%%\n"
    }
   }
  },
  {
   "cell_type": "code",
   "execution_count": 13,
   "metadata": {},
   "outputs": [],
   "source": [
    "def getModel():\n",
    "    model = Sequential()\n",
    "    model.add(Dense(512, input_shape=(vocab_size,)))\n",
    "    model.add(Activation('relu'))\n",
    "    model.add(Dropout(0.3))\n",
    "    model.add(Dense(512))\n",
    "    model.add(Activation('relu'))\n",
    "    model.add(Dropout(0.3))\n",
    "    model.add(Dense(num_labels))\n",
    "    model.add(Activation('softmax'))\n",
    "    model.summary()\n",
    "\n",
    "    return model"
   ]
  },
  {
   "cell_type": "code",
   "execution_count": 14,
   "metadata": {},
   "outputs": [
    {
     "name": "stdout",
     "output_type": "stream",
     "text": [
      "Model: \"sequential\"\n",
      "_________________________________________________________________\n",
      "Layer (type)                 Output Shape              Param #   \n",
      "=================================================================\n",
      "dense (Dense)                (None, 512)               6526464   \n",
      "_________________________________________________________________\n",
      "activation (Activation)      (None, 512)               0         \n",
      "_________________________________________________________________\n",
      "dropout (Dropout)            (None, 512)               0         \n",
      "_________________________________________________________________\n",
      "dense_1 (Dense)              (None, 512)               262656    \n",
      "_________________________________________________________________\n",
      "activation_1 (Activation)    (None, 512)               0         \n",
      "_________________________________________________________________\n",
      "dropout_1 (Dropout)          (None, 512)               0         \n",
      "_________________________________________________________________\n",
      "dense_2 (Dense)              (None, 6)                 3078      \n",
      "_________________________________________________________________\n",
      "activation_2 (Activation)    (None, 6)                 0         \n",
      "=================================================================\n",
      "Total params: 6,792,198\n",
      "Trainable params: 6,792,198\n",
      "Non-trainable params: 0\n",
      "_________________________________________________________________\n"
     ]
    }
   ],
   "source": [
    "model = getModel()\n"
   ]
  },
  {
   "source": [
    "Compile de model"
   ],
   "cell_type": "markdown",
   "metadata": {}
  },
  {
   "cell_type": "code",
   "execution_count": 15,
   "metadata": {},
   "outputs": [
    {
     "name": "stdout",
     "output_type": "stream",
     "text": [
      "<class 'tensorflow.python.keras.engine.sequential.Sequential'>\n"
     ]
    }
   ],
   "source": [
    "print(type(model))"
   ]
  },
  {
   "cell_type": "code",
   "execution_count": 16,
   "metadata": {},
   "outputs": [],
   "source": [
    "model.compile(loss='categorical_crossentropy',\n",
    "              optimizer='adam',\n",
    "              metrics=['accuracy'])"
   ]
  },
  {
   "source": [
    "Fiting the model"
   ],
   "cell_type": "markdown",
   "metadata": {}
  },
  {
   "cell_type": "code",
   "execution_count": 17,
   "metadata": {},
   "outputs": [
    {
     "name": "stdout",
     "output_type": "stream",
     "text": [
      "Epoch 1/10\n",
      "15/15 - 5s - loss: 1.4073 - accuracy: 0.4536 - val_loss: 1.1995 - val_accuracy: 0.6042\n",
      "Epoch 2/10\n",
      "15/15 - 3s - loss: 0.7801 - accuracy: 0.7375 - val_loss: 0.8642 - val_accuracy: 0.6625\n",
      "Epoch 3/10\n",
      "15/15 - 3s - loss: 0.2781 - accuracy: 0.9198 - val_loss: 0.8629 - val_accuracy: 0.7042\n",
      "Epoch 4/10\n",
      "15/15 - 3s - loss: 0.0582 - accuracy: 0.9896 - val_loss: 0.9900 - val_accuracy: 0.7208\n",
      "Epoch 5/10\n",
      "15/15 - 3s - loss: 0.0147 - accuracy: 0.9984 - val_loss: 1.1028 - val_accuracy: 0.7063\n",
      "Epoch 6/10\n",
      "15/15 - 4s - loss: 0.0067 - accuracy: 1.0000 - val_loss: 1.1556 - val_accuracy: 0.6896\n",
      "Epoch 7/10\n",
      "15/15 - 5s - loss: 0.0038 - accuracy: 0.9990 - val_loss: 1.1862 - val_accuracy: 0.6917\n",
      "Epoch 8/10\n",
      "15/15 - 4s - loss: 0.0020 - accuracy: 1.0000 - val_loss: 1.2079 - val_accuracy: 0.7000\n",
      "Epoch 9/10\n",
      "15/15 - 2s - loss: 0.0018 - accuracy: 0.9995 - val_loss: 1.2528 - val_accuracy: 0.7021\n",
      "Epoch 10/10\n",
      "15/15 - 3s - loss: 0.0017 - accuracy: 0.9995 - val_loss: 1.2483 - val_accuracy: 0.7021\n"
     ]
    }
   ],
   "source": [
    "num_epochs =10\n",
    "batch_size = 128\n",
    "history = model.fit(x_train, y_train,\n",
    "                    batch_size=batch_size,\n",
    "                    epochs=num_epochs,\n",
    "                    verbose=2,\n",
    "                    validation_split=0.2)"
   ]
  },
  {
   "cell_type": "code",
   "execution_count": 18,
   "outputs": [],
   "source": [
    "from sklearn.metrics import classification_report\n",
    "#from sklearn.metrics import confusion_matrix\n",
    "\n",
    "\n",
    "def get_metrics_by_class(model, x, y):\n",
    "  y_pred = model.predict(x, batch_size=64, verbose=1)\n",
    "  y_pred_bool = np.argmax(y_pred, axis=1)\n",
    "  y_label = np.argmax(y, axis=1)\n",
    "  #print(confusion_matrix(y_pred_bool, y_label))\n",
    "  print(classification_report(y_label, y_pred_bool))"
   ],
   "metadata": {
    "collapsed": false,
    "pycharm": {
     "name": "#%%\n"
    }
   }
  },
  {
   "cell_type": "code",
   "execution_count": 19,
   "outputs": [
    {
     "name": "stdout",
     "output_type": "stream",
     "text": [
      "10/10 [==============================] - 1s 33ms/step\b\b\b\b\b\b\b\b\b\b\b\b\b\b\b\b\b\b\b\b\b\b\b\b\b\b\b\b\b\b\b\b\b\b\b\b\b\b\b\b\b\b\b\b\b\b\b\b\b\b\b\b\b\b\b\b\b\b\b\b\b\b\b\b\b\b\b\b\b\b\b\b\b\b\b\b\b\b\b\b\b\b\b\b\b\b\b\b\b\b\b\b\b\b\b\b\b\b\b\b\b\b\b\b\b\b\b\b\b\b\b\b\b\b\b\b\b\b\b\b\b\b\b\b\b\b\b\b\b\b\b\b\b\b\b\b\b\b\b\b\b\b\b\b\b\b\b\b\b\b\b\b\b\b\b\b\b\b\b\b\b\b\b\b\b\b\b\b\b\b\b\b\b\b\b\b\b\b\b\b\b\b\b\b\b\b\b\b\b\b\b\b\b\b\b\b\b\b\b\b\b\b\b\b\b\b\b\b\b\b\b\b\b\b\b\b\b\b\b\b\b\b\b\b\b\b\b\b\b\b\b\b\b\b\b\n",
      "              precision    recall  f1-score   support\n",
      "\n",
      "           0       0.57      0.52      0.54       114\n",
      "           2       0.78      0.83      0.81        35\n",
      "           3       0.58      0.43      0.49        51\n",
      "           4       0.77      0.83      0.80       282\n",
      "           5       0.67      0.66      0.66       118\n",
      "\n",
      "    accuracy                           0.70       600\n",
      "   macro avg       0.67      0.65      0.66       600\n",
      "weighted avg       0.70      0.70      0.70       600\n",
      "\n"
     ]
    }
   ],
   "source": [
    "get_metrics_by_class(model, x_test, y_test)"
   ],
   "metadata": {
    "collapsed": false,
    "pycharm": {
     "name": "#%%\n"
    }
   }
  }
 ]
}