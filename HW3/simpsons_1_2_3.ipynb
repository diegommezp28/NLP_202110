{
  "nbformat": 4,
  "nbformat_minor": 0,
  "metadata": {
    "hide_input": false,
    "kernelspec": {
      "name": "python3",
      "language": "python",
      "display_name": "Python 3"
    },
    "language_info": {
      "codemirror_mode": {
        "name": "ipython",
        "version": 3
      },
      "file_extension": ".py",
      "mimetype": "text/x-python",
      "name": "python",
      "nbconvert_exporter": "python",
      "pygments_lexer": "ipython3",
      "version": "3.7.10"
    },
    "latex_envs": {
      "LaTeX_envs_menu_present": true,
      "autoclose": false,
      "autocomplete": true,
      "bibliofile": "biblio.bib",
      "cite_by": "apalike",
      "current_citInitial": 1,
      "eqLabelWithNumbers": true,
      "eqNumInitial": 1,
      "hotkeys": {
        "equation": "Ctrl-E",
        "itemize": "Ctrl-I"
      },
      "labels_anchors": false,
      "latex_user_defs": false,
      "report_style_numbering": false,
      "user_envs_cfg": false
    },
    "metadata": {
      "interpreter": {
        "hash": "055d6687a903af6a4d9b4e34cc4a28379165765e2776fc398dbe998782ca591f"
      }
    },
    "toc": {
      "base_numbering": 1,
      "nav_menu": {},
      "number_sections": true,
      "sideBar": true,
      "skip_h1_title": false,
      "title_cell": "Table of Contents",
      "title_sidebar": "Contents",
      "toc_cell": false,
      "toc_position": {},
      "toc_section_display": true,
      "toc_window_display": true
    },
    "colab": {
      "name": "simpsons.ipynb",
      "provenance": [],
      "toc_visible": true,
      "machine_shape": "hm"
    },
    "accelerator": "GPU"
  },
  "cells": [
    {
      "cell_type": "markdown",
      "metadata": {
        "id": "FajCOotV9BtN"
      },
      "source": [
        "# I. Using the Simpsons dataset build words embeddings using GENSIM and word2vec"
      ]
    },
    {
      "cell_type": "markdown",
      "metadata": {
        "id": "5_SzjMBh9BtQ"
      },
      "source": [
        "**File reading**\n",
        "***"
      ]
    },
    {
      "cell_type": "code",
      "metadata": {
        "colab": {
          "base_uri": "https://localhost:8080/"
        },
        "id": "uxJI2RFF9gLm",
        "outputId": "2f83eaa7-c8b5-444b-fe22-4b9446a7481c"
      },
      "source": [
        "from google.colab import drive\n",
        "drive.mount('/content/gdrive')"
      ],
      "execution_count": 2,
      "outputs": [
        {
          "output_type": "stream",
          "text": [
            "Mounted at /content/gdrive\n"
          ],
          "name": "stdout"
        }
      ]
    },
    {
      "cell_type": "code",
      "metadata": {
        "ExecuteTime": {
          "end_time": "2021-04-25T01:40:49.082452Z",
          "start_time": "2021-04-25T01:40:48.006580Z"
        },
        "colab": {
          "base_uri": "https://localhost:8080/",
          "height": 686
        },
        "id": "MRekLkpR9BtS",
        "outputId": "94bf9ff5-9d99-41a9-81c0-72e7694a7894"
      },
      "source": [
        "import pandas as pd\n",
        "# Dataset from - https://archive.ics.uci.edu/ml/datasets/SMS+Spam+Collection\n",
        "ruta = 'gdrive/MyDrive/Allan/'\n",
        "df = pd.read_csv(ruta + 'simpsons_dataset.csv').dropna()\n",
        "\n",
        "df.head()\n",
        "\n",
        "print(df.shape)\n",
        "df.head(20) # returns (rows, columns)"
      ],
      "execution_count": 3,
      "outputs": [
        {
          "output_type": "stream",
          "text": [
            "(131853, 2)\n"
          ],
          "name": "stdout"
        },
        {
          "output_type": "execute_result",
          "data": {
            "text/html": [
              "<div>\n",
              "<style scoped>\n",
              "    .dataframe tbody tr th:only-of-type {\n",
              "        vertical-align: middle;\n",
              "    }\n",
              "\n",
              "    .dataframe tbody tr th {\n",
              "        vertical-align: top;\n",
              "    }\n",
              "\n",
              "    .dataframe thead th {\n",
              "        text-align: right;\n",
              "    }\n",
              "</style>\n",
              "<table border=\"1\" class=\"dataframe\">\n",
              "  <thead>\n",
              "    <tr style=\"text-align: right;\">\n",
              "      <th></th>\n",
              "      <th>raw_character_text</th>\n",
              "      <th>spoken_words</th>\n",
              "    </tr>\n",
              "  </thead>\n",
              "  <tbody>\n",
              "    <tr>\n",
              "      <th>0</th>\n",
              "      <td>Miss Hoover</td>\n",
              "      <td>No, actually, it was a little of both. Sometim...</td>\n",
              "    </tr>\n",
              "    <tr>\n",
              "      <th>1</th>\n",
              "      <td>Lisa Simpson</td>\n",
              "      <td>Where's Mr. Bergstrom?</td>\n",
              "    </tr>\n",
              "    <tr>\n",
              "      <th>2</th>\n",
              "      <td>Miss Hoover</td>\n",
              "      <td>I don't know. Although I'd sure like to talk t...</td>\n",
              "    </tr>\n",
              "    <tr>\n",
              "      <th>3</th>\n",
              "      <td>Lisa Simpson</td>\n",
              "      <td>That life is worth living.</td>\n",
              "    </tr>\n",
              "    <tr>\n",
              "      <th>4</th>\n",
              "      <td>Edna Krabappel-Flanders</td>\n",
              "      <td>The polls will be open from now until the end ...</td>\n",
              "    </tr>\n",
              "    <tr>\n",
              "      <th>5</th>\n",
              "      <td>Martin Prince</td>\n",
              "      <td>I don't think there's anything left to say.</td>\n",
              "    </tr>\n",
              "    <tr>\n",
              "      <th>6</th>\n",
              "      <td>Edna Krabappel-Flanders</td>\n",
              "      <td>Bart?</td>\n",
              "    </tr>\n",
              "    <tr>\n",
              "      <th>7</th>\n",
              "      <td>Bart Simpson</td>\n",
              "      <td>Victory party under the slide!</td>\n",
              "    </tr>\n",
              "    <tr>\n",
              "      <th>9</th>\n",
              "      <td>Lisa Simpson</td>\n",
              "      <td>Mr. Bergstrom! Mr. Bergstrom!</td>\n",
              "    </tr>\n",
              "    <tr>\n",
              "      <th>10</th>\n",
              "      <td>Landlady</td>\n",
              "      <td>Hey, hey, he Moved out this morning. He must h...</td>\n",
              "    </tr>\n",
              "    <tr>\n",
              "      <th>11</th>\n",
              "      <td>Lisa Simpson</td>\n",
              "      <td>Do you know where I could find him?</td>\n",
              "    </tr>\n",
              "    <tr>\n",
              "      <th>12</th>\n",
              "      <td>Landlady</td>\n",
              "      <td>I think he's taking the next train to Capital ...</td>\n",
              "    </tr>\n",
              "    <tr>\n",
              "      <th>13</th>\n",
              "      <td>Lisa Simpson</td>\n",
              "      <td>The train, how like him... traditional, yet en...</td>\n",
              "    </tr>\n",
              "    <tr>\n",
              "      <th>14</th>\n",
              "      <td>Landlady</td>\n",
              "      <td>Yes, and it's been the backbone of our country...</td>\n",
              "    </tr>\n",
              "    <tr>\n",
              "      <th>15</th>\n",
              "      <td>Lisa Simpson</td>\n",
              "      <td>I see he touched you, too.</td>\n",
              "    </tr>\n",
              "    <tr>\n",
              "      <th>17</th>\n",
              "      <td>Bart Simpson</td>\n",
              "      <td>Hey, thanks for your vote, man.</td>\n",
              "    </tr>\n",
              "    <tr>\n",
              "      <th>18</th>\n",
              "      <td>Nelson Muntz</td>\n",
              "      <td>I didn't vote. Voting's for geeks.</td>\n",
              "    </tr>\n",
              "    <tr>\n",
              "      <th>19</th>\n",
              "      <td>Bart Simpson</td>\n",
              "      <td>Well, you got that right. Thanks for your vote...</td>\n",
              "    </tr>\n",
              "    <tr>\n",
              "      <th>20</th>\n",
              "      <td>Terri/sherri</td>\n",
              "      <td>We forgot.</td>\n",
              "    </tr>\n",
              "    <tr>\n",
              "      <th>21</th>\n",
              "      <td>Bart Simpson</td>\n",
              "      <td>Well, don't sweat it. Just so long as a couple...</td>\n",
              "    </tr>\n",
              "  </tbody>\n",
              "</table>\n",
              "</div>"
            ],
            "text/plain": [
              "         raw_character_text                                       spoken_words\n",
              "0               Miss Hoover  No, actually, it was a little of both. Sometim...\n",
              "1              Lisa Simpson                             Where's Mr. Bergstrom?\n",
              "2               Miss Hoover  I don't know. Although I'd sure like to talk t...\n",
              "3              Lisa Simpson                         That life is worth living.\n",
              "4   Edna Krabappel-Flanders  The polls will be open from now until the end ...\n",
              "5             Martin Prince        I don't think there's anything left to say.\n",
              "6   Edna Krabappel-Flanders                                              Bart?\n",
              "7              Bart Simpson                     Victory party under the slide!\n",
              "9              Lisa Simpson                      Mr. Bergstrom! Mr. Bergstrom!\n",
              "10                 Landlady  Hey, hey, he Moved out this morning. He must h...\n",
              "11             Lisa Simpson                Do you know where I could find him?\n",
              "12                 Landlady  I think he's taking the next train to Capital ...\n",
              "13             Lisa Simpson  The train, how like him... traditional, yet en...\n",
              "14                 Landlady  Yes, and it's been the backbone of our country...\n",
              "15             Lisa Simpson                         I see he touched you, too.\n",
              "17             Bart Simpson                    Hey, thanks for your vote, man.\n",
              "18             Nelson Muntz                 I didn't vote. Voting's for geeks.\n",
              "19             Bart Simpson  Well, you got that right. Thanks for your vote...\n",
              "20             Terri/sherri                                         We forgot.\n",
              "21             Bart Simpson  Well, don't sweat it. Just so long as a couple..."
            ]
          },
          "metadata": {
            "tags": []
          },
          "execution_count": 3
        }
      ]
    },
    {
      "cell_type": "markdown",
      "metadata": {
        "id": "KQHdQy8C9BtU"
      },
      "source": [
        "## Text Pre Processing for embeddings"
      ]
    },
    {
      "cell_type": "code",
      "metadata": {
        "ExecuteTime": {
          "end_time": "2021-04-25T01:41:07.591403Z",
          "start_time": "2021-04-25T01:41:06.853317Z"
        },
        "id": "YJlc85Bg9BtV"
      },
      "source": [
        "import gzip\n",
        "import gensim\n",
        "import logging"
      ],
      "execution_count": 4,
      "outputs": []
    },
    {
      "cell_type": "markdown",
      "metadata": {
        "id": "82cNWIXU9BtW"
      },
      "source": [
        "### BOW"
      ]
    },
    {
      "cell_type": "code",
      "metadata": {
        "ExecuteTime": {
          "end_time": "2021-04-24T22:45:46.312868Z",
          "start_time": "2021-04-24T22:45:43.876946Z"
        },
        "tags": [],
        "colab": {
          "base_uri": "https://localhost:8080/",
          "height": 359
        },
        "id": "w7VJIkBd9BtW",
        "outputId": "54e096cd-5d7e-4258-b164-7b8780dba688"
      },
      "source": [
        "from gensim.utils import simple_preprocess\n",
        "\n",
        "def preproccess(line):\n",
        "    return simple_preprocess(line)\n",
        "\n",
        "\n",
        "\n",
        "df['proccesed'] = df['spoken_words'].apply(preproccess)\n",
        "df.head(10)"
      ],
      "execution_count": 5,
      "outputs": [
        {
          "output_type": "execute_result",
          "data": {
            "text/html": [
              "<div>\n",
              "<style scoped>\n",
              "    .dataframe tbody tr th:only-of-type {\n",
              "        vertical-align: middle;\n",
              "    }\n",
              "\n",
              "    .dataframe tbody tr th {\n",
              "        vertical-align: top;\n",
              "    }\n",
              "\n",
              "    .dataframe thead th {\n",
              "        text-align: right;\n",
              "    }\n",
              "</style>\n",
              "<table border=\"1\" class=\"dataframe\">\n",
              "  <thead>\n",
              "    <tr style=\"text-align: right;\">\n",
              "      <th></th>\n",
              "      <th>raw_character_text</th>\n",
              "      <th>spoken_words</th>\n",
              "      <th>proccesed</th>\n",
              "    </tr>\n",
              "  </thead>\n",
              "  <tbody>\n",
              "    <tr>\n",
              "      <th>0</th>\n",
              "      <td>Miss Hoover</td>\n",
              "      <td>No, actually, it was a little of both. Sometim...</td>\n",
              "      <td>[no, actually, it, was, little, of, both, some...</td>\n",
              "    </tr>\n",
              "    <tr>\n",
              "      <th>1</th>\n",
              "      <td>Lisa Simpson</td>\n",
              "      <td>Where's Mr. Bergstrom?</td>\n",
              "      <td>[where, mr, bergstrom]</td>\n",
              "    </tr>\n",
              "    <tr>\n",
              "      <th>2</th>\n",
              "      <td>Miss Hoover</td>\n",
              "      <td>I don't know. Although I'd sure like to talk t...</td>\n",
              "      <td>[don, know, although, sure, like, to, talk, to...</td>\n",
              "    </tr>\n",
              "    <tr>\n",
              "      <th>3</th>\n",
              "      <td>Lisa Simpson</td>\n",
              "      <td>That life is worth living.</td>\n",
              "      <td>[that, life, is, worth, living]</td>\n",
              "    </tr>\n",
              "    <tr>\n",
              "      <th>4</th>\n",
              "      <td>Edna Krabappel-Flanders</td>\n",
              "      <td>The polls will be open from now until the end ...</td>\n",
              "      <td>[the, polls, will, be, open, from, now, until,...</td>\n",
              "    </tr>\n",
              "    <tr>\n",
              "      <th>5</th>\n",
              "      <td>Martin Prince</td>\n",
              "      <td>I don't think there's anything left to say.</td>\n",
              "      <td>[don, think, there, anything, left, to, say]</td>\n",
              "    </tr>\n",
              "    <tr>\n",
              "      <th>6</th>\n",
              "      <td>Edna Krabappel-Flanders</td>\n",
              "      <td>Bart?</td>\n",
              "      <td>[bart]</td>\n",
              "    </tr>\n",
              "    <tr>\n",
              "      <th>7</th>\n",
              "      <td>Bart Simpson</td>\n",
              "      <td>Victory party under the slide!</td>\n",
              "      <td>[victory, party, under, the, slide]</td>\n",
              "    </tr>\n",
              "    <tr>\n",
              "      <th>9</th>\n",
              "      <td>Lisa Simpson</td>\n",
              "      <td>Mr. Bergstrom! Mr. Bergstrom!</td>\n",
              "      <td>[mr, bergstrom, mr, bergstrom]</td>\n",
              "    </tr>\n",
              "    <tr>\n",
              "      <th>10</th>\n",
              "      <td>Landlady</td>\n",
              "      <td>Hey, hey, he Moved out this morning. He must h...</td>\n",
              "      <td>[hey, hey, he, moved, out, this, morning, he, ...</td>\n",
              "    </tr>\n",
              "  </tbody>\n",
              "</table>\n",
              "</div>"
            ],
            "text/plain": [
              "         raw_character_text  ...                                          proccesed\n",
              "0               Miss Hoover  ...  [no, actually, it, was, little, of, both, some...\n",
              "1              Lisa Simpson  ...                             [where, mr, bergstrom]\n",
              "2               Miss Hoover  ...  [don, know, although, sure, like, to, talk, to...\n",
              "3              Lisa Simpson  ...                    [that, life, is, worth, living]\n",
              "4   Edna Krabappel-Flanders  ...  [the, polls, will, be, open, from, now, until,...\n",
              "5             Martin Prince  ...       [don, think, there, anything, left, to, say]\n",
              "6   Edna Krabappel-Flanders  ...                                             [bart]\n",
              "7              Bart Simpson  ...                [victory, party, under, the, slide]\n",
              "9              Lisa Simpson  ...                     [mr, bergstrom, mr, bergstrom]\n",
              "10                 Landlady  ...  [hey, hey, he, moved, out, this, morning, he, ...\n",
              "\n",
              "[10 rows x 3 columns]"
            ]
          },
          "metadata": {
            "tags": []
          },
          "execution_count": 5
        }
      ]
    },
    {
      "cell_type": "code",
      "metadata": {
        "ExecuteTime": {
          "end_time": "2021-04-24T22:45:46.320765Z",
          "start_time": "2021-04-24T22:45:46.315390Z"
        },
        "id": "jefaXWi89BtX"
      },
      "source": [
        "documents = df['proccesed'].to_numpy()"
      ],
      "execution_count": null,
      "outputs": []
    },
    {
      "cell_type": "markdown",
      "metadata": {
        "id": "hB4c9n6A9BtY"
      },
      "source": [
        "### Generate 150 sized Word2vec embbedings"
      ]
    },
    {
      "cell_type": "code",
      "metadata": {
        "ExecuteTime": {
          "end_time": "2021-04-24T22:47:10.398989Z",
          "start_time": "2021-04-24T22:45:46.324163Z"
        },
        "colab": {
          "base_uri": "https://localhost:8080/"
        },
        "id": "dYkPEgQa9BtZ",
        "outputId": "60d6fba5-fe4e-43d0-db0b-9279be8d56ef"
      },
      "source": [
        "model_150 = gensim.models.Word2Vec(documents, size=150, window=10, min_count=2, workers=10, sg=1)\n",
        "\n",
        "model_150.train(documents, total_examples=len(documents), epochs=10)"
      ],
      "execution_count": null,
      "outputs": [
        {
          "output_type": "execute_result",
          "data": {
            "text/plain": [
              "(9560237, 12451860)"
            ]
          },
          "metadata": {
            "tags": []
          },
          "execution_count": 230
        }
      ]
    },
    {
      "cell_type": "code",
      "metadata": {
        "ExecuteTime": {
          "end_time": "2021-04-24T22:47:10.542761Z",
          "start_time": "2021-04-24T22:47:10.405280Z"
        },
        "pycharm": {
          "name": "#%%\n"
        },
        "id": "-_wjotTA9BtZ"
      },
      "source": [
        "model_150.save(ruta + \"Simpsons_150_5.model\")"
      ],
      "execution_count": null,
      "outputs": []
    },
    {
      "cell_type": "code",
      "metadata": {
        "ExecuteTime": {
          "end_time": "2021-04-24T22:47:10.554082Z",
          "start_time": "2021-04-24T22:47:10.545825Z"
        },
        "pycharm": {
          "name": "#%%\n"
        },
        "colab": {
          "base_uri": "https://localhost:8080/"
        },
        "id": "Dphu7n_o9Bta",
        "outputId": "0d433197-deaf-42a8-8b8a-78f2bdd2445a"
      },
      "source": [
        "print(model_150.wv['morning'])"
      ],
      "execution_count": null,
      "outputs": [
        {
          "output_type": "stream",
          "text": [
            "[-0.63890326  0.10846733  0.2621539  -0.65934676 -0.40334252 -0.26605582\n",
            "  0.17321849 -0.6024866   0.08498132  0.11652038  0.50398576 -0.21211119\n",
            "  0.05390387  0.18061893  0.3015098   0.08347866  0.14469963 -0.83405244\n",
            "  0.17533235 -0.04162638  0.6183     -0.33807558 -0.18840843  0.02227331\n",
            " -0.02494568 -0.08835534 -0.01377823 -0.07105224 -0.3861262   0.3388009\n",
            " -0.07940321 -0.65360343  0.19274007 -0.14105724 -0.37262785  0.0888844\n",
            "  0.1294148  -0.57688934 -0.42189437 -0.00600035  0.6367246  -0.19068716\n",
            "  0.04567035  0.68762124 -0.19758925  0.23837149 -0.16695373 -0.19293611\n",
            " -0.07125311  0.05320849  0.18708241 -0.10541743 -0.28201687  0.7094842\n",
            " -0.25645098 -0.35205057  0.23023403 -0.20347963 -0.1510435   0.03685154\n",
            " -0.5589231   0.28084967  0.25768906  0.00531028 -0.529553   -0.04728241\n",
            "  0.16675429  0.37946555  0.08898065 -0.31580618  0.05178524  0.12641601\n",
            " -0.63134027 -0.23960596  0.04312992 -0.30715466  0.35951465  0.45118034\n",
            "  0.37795386  0.03152329 -0.2635227   0.22686657  0.25999787  0.6971219\n",
            " -0.2233278   0.09026373  0.05059465  0.5277989  -0.12615035  0.31409374\n",
            "  0.12906207  0.4892351   0.2603558  -0.11098403 -0.0538833  -0.15130183\n",
            " -0.45365357  0.40617314  0.70261985  0.64680207  0.07366388 -0.3988013\n",
            " -0.2925342   0.19329672 -0.00901598 -0.21313292  0.13438825 -0.2041723\n",
            "  0.28593242  0.2932379   0.3066451  -0.14356613  0.32793713  0.1676337\n",
            " -0.21592166 -0.2885345   0.37936217 -0.43583778 -0.2188538  -0.1130942\n",
            " -0.33998036 -0.34563285 -0.00984353  0.12712759 -0.05200346  0.14346252\n",
            "  0.29227507 -0.33221355  0.10663629 -0.1181775   0.08265123 -0.2986299\n",
            " -0.66575706 -0.22549912  0.21097273 -0.13590358  0.5568395   0.331897\n",
            "  0.19206046 -0.32883975 -0.33658242  0.2645916   0.12489034  0.17946917\n",
            " -0.10074326  0.328957   -0.26174715 -0.47938183 -0.722053    0.06338327]\n"
          ],
          "name": "stdout"
        }
      ]
    },
    {
      "cell_type": "markdown",
      "metadata": {
        "id": "_-jqGGRU9Btb"
      },
      "source": [
        "### Generate 100 sized Word2vec embbedings"
      ]
    },
    {
      "cell_type": "code",
      "metadata": {
        "ExecuteTime": {
          "end_time": "2021-04-24T22:47:56.520113Z",
          "start_time": "2021-04-24T22:47:10.560278Z"
        },
        "pycharm": {
          "name": "#%%\n"
        },
        "colab": {
          "base_uri": "https://localhost:8080/"
        },
        "id": "lmBmBYxK9Btb",
        "outputId": "8adc04e2-376f-4e53-fa8c-383a6d19008a"
      },
      "source": [
        "model_100 = gensim.models.Word2Vec (documents, size=100, window=10, min_count=2, workers=10, sg=1)\n",
        "model_100.train(documents,total_examples=len(documents),epochs=10)"
      ],
      "execution_count": null,
      "outputs": [
        {
          "output_type": "execute_result",
          "data": {
            "text/plain": [
              "(9561668, 12451860)"
            ]
          },
          "metadata": {
            "tags": []
          },
          "execution_count": 233
        }
      ]
    },
    {
      "cell_type": "code",
      "metadata": {
        "ExecuteTime": {
          "end_time": "2021-04-24T22:47:56.593192Z",
          "start_time": "2021-04-24T22:47:56.521986Z"
        },
        "pycharm": {
          "name": "#%%\n"
        },
        "id": "kqFi2tU19Btc"
      },
      "source": [
        "model_100.save(ruta + \"Simpsons_100_5.model\")"
      ],
      "execution_count": null,
      "outputs": []
    },
    {
      "cell_type": "code",
      "metadata": {
        "ExecuteTime": {
          "end_time": "2021-04-24T22:47:56.604140Z",
          "start_time": "2021-04-24T22:47:56.596108Z"
        },
        "pycharm": {
          "name": "#%%\n"
        },
        "colab": {
          "base_uri": "https://localhost:8080/"
        },
        "id": "VUJRWjsE9Btd",
        "outputId": "83b5b71f-27b5-4ac9-e078-9f584b0cfbdf"
      },
      "source": [
        "print(model_100.wv['morning'])"
      ],
      "execution_count": null,
      "outputs": [
        {
          "output_type": "stream",
          "text": [
            "[-0.07770337 -0.13991179  0.01039129 -0.05851186 -0.44024402  0.30961388\n",
            "  0.2563497  -0.31092548  0.06384882 -0.02527217  0.5187642  -0.30900306\n",
            "  0.12036112  0.23767419  0.6198319  -0.4083943   0.2794565  -0.36861867\n",
            "  0.09575479 -0.01117299  0.1389652  -0.22764526  0.21883413 -0.38202563\n",
            " -0.22146434 -0.12078711 -0.07336242 -0.60447156 -0.10143026  0.35412258\n",
            " -0.04265483 -0.23064387  0.2479018   0.02684384  0.13238358  0.60883176\n",
            " -0.12055231 -0.25841895 -0.48418394 -0.18144009  0.6638696  -0.2861404\n",
            "  0.29412997  0.43713382 -0.86015415  0.35922393 -0.10003532 -0.40140125\n",
            " -0.24480353  0.34139052  0.23656166 -0.21362723  0.45126554 -0.36781138\n",
            " -0.31128937 -0.2423737   0.20028795 -0.14395773 -0.40472496  0.15885065\n",
            " -0.65293723  0.15970862 -0.33238283  0.3797391  -0.0843339  -0.20046729\n",
            "  0.05424267  0.18170676  0.1122841  -0.2426278   0.23929653  0.1707917\n",
            " -0.8369635  -0.14942035 -0.35414368  0.14158459  0.6019211   0.1906644\n",
            " -0.2459112   0.3002781   0.08913559  0.06373049  0.24629623  0.40659657\n",
            " -0.11806104  0.38786504 -0.04791209 -0.299994   -0.5752475   0.4545593\n",
            "  0.56102175  0.73171014  0.5714869  -0.7962081  -0.37678376 -0.24780323\n",
            " -0.06067255  0.26012072  0.42470673  0.41673663]\n"
          ],
          "name": "stdout"
        }
      ]
    },
    {
      "cell_type": "markdown",
      "metadata": {
        "id": "3WjWbX499Btd"
      },
      "source": [
        "### Generate 50 sized Word2vec embbedings"
      ]
    },
    {
      "cell_type": "code",
      "metadata": {
        "ExecuteTime": {
          "end_time": "2021-04-24T22:48:48.066659Z",
          "start_time": "2021-04-24T22:47:56.606970Z"
        },
        "pycharm": {
          "name": "#%%\n"
        },
        "colab": {
          "base_uri": "https://localhost:8080/"
        },
        "id": "ywGHYQob9Bte",
        "outputId": "84d5b12e-bdec-4730-e640-3ba09cd74deb"
      },
      "source": [
        "model_50 = gensim.models.Word2Vec(documents, size=50, window=10, min_count=2, workers=10, sg=1)\n",
        "model_50.train(documents, total_examples=len(documents),epochs=10)"
      ],
      "execution_count": null,
      "outputs": [
        {
          "output_type": "execute_result",
          "data": {
            "text/plain": [
              "(9563250, 12451860)"
            ]
          },
          "metadata": {
            "tags": []
          },
          "execution_count": 236
        }
      ]
    },
    {
      "cell_type": "code",
      "metadata": {
        "pycharm": {
          "name": "#%%\n"
        },
        "id": "jxnNCuBt9Btf"
      },
      "source": [
        "model_50.save(ruta + \"Simpsons_50_5.model\")\n"
      ],
      "execution_count": null,
      "outputs": []
    },
    {
      "cell_type": "code",
      "metadata": {
        "pycharm": {
          "name": "#%%\n"
        },
        "colab": {
          "base_uri": "https://localhost:8080/"
        },
        "id": "oyxbRo7H9Btf",
        "outputId": "160959c4-e9c1-435c-d0d8-dcbdb1398fd4"
      },
      "source": [
        "df.shape"
      ],
      "execution_count": null,
      "outputs": [
        {
          "output_type": "execute_result",
          "data": {
            "text/plain": [
              "(131853, 3)"
            ]
          },
          "metadata": {
            "tags": []
          },
          "execution_count": 238
        }
      ]
    },
    {
      "cell_type": "markdown",
      "metadata": {
        "id": "Apg0NNIV9Btg"
      },
      "source": [
        "## Load from disk the generated models\n"
      ]
    },
    {
      "cell_type": "code",
      "metadata": {
        "ExecuteTime": {
          "end_time": "2021-04-24T22:49:29.803834Z",
          "start_time": "2021-04-24T22:49:29.800049Z"
        },
        "id": "uqjhPbKm9Btg"
      },
      "source": [
        "import pandas as pd\n",
        "import numpy as np\n",
        "import matplotlib.pyplot as plt\n",
        "from sklearn.manifold import TSNE\n",
        "import gensim"
      ],
      "execution_count": 6,
      "outputs": []
    },
    {
      "cell_type": "code",
      "metadata": {
        "ExecuteTime": {
          "end_time": "2021-04-24T22:49:30.943123Z",
          "start_time": "2021-04-24T22:49:30.078898Z"
        },
        "id": "G_UnPI4O9Bth"
      },
      "source": [
        "\n",
        "model50 = gensim.models.Word2Vec.load(ruta + \"Simpsons_50_5.model\")\n",
        "model100 = gensim.models.Word2Vec.load(ruta + \"Simpsons_100_5.model\")\n",
        "model150 = gensim.models.Word2Vec.load(ruta + \"Simpsons_150_5.model\")"
      ],
      "execution_count": 7,
      "outputs": []
    },
    {
      "cell_type": "code",
      "metadata": {
        "ExecuteTime": {
          "end_time": "2021-04-24T22:49:31.643908Z",
          "start_time": "2021-04-24T22:49:31.603619Z"
        },
        "colab": {
          "base_uri": "https://localhost:8080/"
        },
        "id": "nq0YIW2M9Bth",
        "outputId": "30cc330d-6434-4b08-de4c-43e81bd3019b"
      },
      "source": [
        "model50.wv.similar_by_word('homer')"
      ],
      "execution_count": 8,
      "outputs": [
        {
          "output_type": "execute_result",
          "data": {
            "text/plain": [
              "[('marge', 0.8575096130371094),\n",
              " ('simpson', 0.8079066276550293),\n",
              " ('abe', 0.8073282241821289),\n",
              " ('fonzie', 0.7955304980278015),\n",
              " ('bart', 0.777596652507782),\n",
              " ('wildcats', 0.7676181197166443),\n",
              " ('you', 0.7602591514587402),\n",
              " ('newbie', 0.7582187652587891),\n",
              " ('murmurs', 0.755567193031311),\n",
              " ('nikki', 0.7506440877914429)]"
            ]
          },
          "metadata": {
            "tags": []
          },
          "execution_count": 8
        }
      ]
    },
    {
      "cell_type": "code",
      "metadata": {
        "ExecuteTime": {
          "end_time": "2021-04-24T22:52:45.691661Z",
          "start_time": "2021-04-24T22:52:45.673079Z"
        },
        "id": "ErJiZlwB9Bti"
      },
      "source": [
        "def display_closestwords_tsnescatterplot(model, word, n):\n",
        "    \n",
        "    arr = np.empty((0,n), dtype='f')\n",
        "    word_labels = [word]\n",
        "\n",
        "    # get close words\n",
        "    close_words = model.wv.similar_by_word(word)\n",
        "    \n",
        "    # add the vector for each of the closest words to the array\n",
        "    arr = np.append(arr, np.array([model.wv[word]]), axis=0)\n",
        "    for wrd_score in close_words:\n",
        "        wrd_vector = model.wv[wrd_score[0]]\n",
        "        word_labels.append(wrd_score[0])\n",
        "        arr = np.append(arr, np.array([wrd_vector]), axis=0)\n",
        "        \n",
        "    # find tsne coords for 2 dimensions\n",
        "    tsne = TSNE(n_components=2, random_state=0)\n",
        "    np.set_printoptions(suppress=True)\n",
        "    Y = tsne.fit_transform(arr)\n",
        "\n",
        "    x_coords = Y[:, 0]\n",
        "    y_coords = Y[:, 1]\n",
        "    # display scatter plot\n",
        "    plt.scatter(x_coords, y_coords)\n",
        "\n",
        "    for label, x, y in zip(word_labels, x_coords, y_coords):\n",
        "        plt.annotate(label, xy=(x, y), xytext=(0, 0), textcoords='offset points')\n",
        "    plt.xlim(x_coords.min()+0.00005, x_coords.max()+0.00005)\n",
        "    plt.ylim(y_coords.min()+0.00005, y_coords.max()+0.00005)\n",
        "    plt.savefig(f'./{word}_{n}.jpg')\n",
        "    plt.show()"
      ],
      "execution_count": 9,
      "outputs": []
    },
    {
      "cell_type": "markdown",
      "metadata": {
        "id": "3eOnHvQ-9Btk"
      },
      "source": [
        "# I. 2D Graphs and analysis\n",
        "***\n",
        "\n",
        "**Vector dimension:** 50"
      ]
    },
    {
      "cell_type": "code",
      "metadata": {
        "ExecuteTime": {
          "end_time": "2021-04-24T22:52:51.051266Z",
          "start_time": "2021-04-24T22:52:50.154681Z"
        },
        "colab": {
          "base_uri": "https://localhost:8080/",
          "height": 273
        },
        "id": "_NveCRUs9Btk",
        "outputId": "e6f065c3-941c-4ca7-8e12-8a61fb28b1ca"
      },
      "source": [
        "display_closestwords_tsnescatterplot(model50, 'bart', 50)"
      ],
      "execution_count": 10,
      "outputs": [
        {
          "output_type": "display_data",
          "data": {
            "image/png": "[encoded data removed]",
            "text/plain": [
              "<Figure size 432x288 with 1 Axes>"
            ]
          },
          "metadata": {
            "tags": [],
            "needs_background": "light"
          }
        }
      ]
    },
    {
      "cell_type": "code",
      "metadata": {
        "ExecuteTime": {
          "end_time": "2021-04-24T22:52:52.316120Z",
          "start_time": "2021-04-24T22:52:51.054019Z"
        },
        "colab": {
          "base_uri": "https://localhost:8080/",
          "height": 273
        },
        "id": "TJ3HAYNP9Btl",
        "outputId": "40b6908c-333b-4cd9-c5df-0b8e5dd5f55f"
      },
      "source": [
        "display_closestwords_tsnescatterplot(model50, 'homer', 50)"
      ],
      "execution_count": 11,
      "outputs": [
        {
          "output_type": "display_data",
          "data": {
            "image/png": "[encoded data removed]",
            "text/plain": [
              "<Figure size 432x288 with 1 Axes>"
            ]
          },
          "metadata": {
            "tags": [],
            "needs_background": "light"
          }
        }
      ]
    },
    {
      "cell_type": "markdown",
      "metadata": {
        "id": "ENPfrll99Btl"
      },
      "source": [
        "**Vector dimension:** 100"
      ]
    },
    {
      "cell_type": "code",
      "metadata": {
        "ExecuteTime": {
          "end_time": "2021-04-24T22:52:56.028441Z",
          "start_time": "2021-04-24T22:52:55.081643Z"
        },
        "colab": {
          "base_uri": "https://localhost:8080/",
          "height": 273
        },
        "id": "WrDa600t9Btl",
        "outputId": "f897463c-44d8-4141-a744-fc41e977f491"
      },
      "source": [
        "display_closestwords_tsnescatterplot(model100, 'bart', 100)"
      ],
      "execution_count": 12,
      "outputs": [
        {
          "output_type": "display_data",
          "data": {
            "image/png": "[encoded data removed]",
            "text/plain": [
              "<Figure size 432x288 with 1 Axes>"
            ]
          },
          "metadata": {
            "tags": [],
            "needs_background": "light"
          }
        }
      ]
    },
    {
      "cell_type": "code",
      "metadata": {
        "ExecuteTime": {
          "end_time": "2021-04-24T22:52:57.332850Z",
          "start_time": "2021-04-24T22:52:56.032607Z"
        },
        "colab": {
          "base_uri": "https://localhost:8080/",
          "height": 273
        },
        "id": "SF3fXb6v9Btm",
        "outputId": "0c822db4-547b-45fd-f3a1-c08f49444a20"
      },
      "source": [
        "display_closestwords_tsnescatterplot(model100, 'homer', 100)"
      ],
      "execution_count": 13,
      "outputs": [
        {
          "output_type": "display_data",
          "data": {
            "image/png": "[encoded data removed]",
            "text/plain": [
              "<Figure size 432x288 with 1 Axes>"
            ]
          },
          "metadata": {
            "tags": [],
            "needs_background": "light"
          }
        }
      ]
    },
    {
      "cell_type": "markdown",
      "metadata": {
        "id": "MrdHFG0j9Btm"
      },
      "source": [
        "**Vector size:** 150"
      ]
    },
    {
      "cell_type": "code",
      "metadata": {
        "ExecuteTime": {
          "end_time": "2021-04-24T22:52:58.686247Z",
          "start_time": "2021-04-24T22:52:57.339464Z"
        },
        "colab": {
          "base_uri": "https://localhost:8080/",
          "height": 273
        },
        "id": "CfUCgxl09Btn",
        "outputId": "71f33b9d-c3d8-4ba8-fc7c-69a602d91f71"
      },
      "source": [
        "display_closestwords_tsnescatterplot(model150, 'bart', 150)"
      ],
      "execution_count": 14,
      "outputs": [
        {
          "output_type": "display_data",
          "data": {
            "image/png": "[encoded data removed]",
            "text/plain": [
              "<Figure size 432x288 with 1 Axes>"
            ]
          },
          "metadata": {
            "tags": [],
            "needs_background": "light"
          }
        }
      ]
    },
    {
      "cell_type": "code",
      "metadata": {
        "ExecuteTime": {
          "end_time": "2021-04-24T22:52:59.909573Z",
          "start_time": "2021-04-24T22:52:58.689930Z"
        },
        "colab": {
          "base_uri": "https://localhost:8080/",
          "height": 273
        },
        "id": "mOees6OI9Btn",
        "outputId": "efa3e008-cb3e-4017-ef86-486eb53ee2d6"
      },
      "source": [
        "display_closestwords_tsnescatterplot(model150, 'homer ', 150)"
      ],
      "execution_count": 15,
      "outputs": [
        {
          "output_type": "display_data",
          "data": {
            "image/png": "[encoded data removed]",
            "text/plain": [
              "<Figure size 432x288 with 1 Axes>"
            ]
          },
          "metadata": {
            "tags": [],
            "needs_background": "light"
          }
        }
      ]
    },
    {
      "cell_type": "code",
      "metadata": {
        "ExecuteTime": {
          "end_time": "2021-04-25T01:41:19.415349Z",
          "start_time": "2021-04-25T01:41:17.131202Z"
        },
        "id": "A-m1UGuz9Bto"
      },
      "source": [
        "import gensim\n",
        "import pandas as pd\n",
        "import tensorflow as tf\n",
        "import numpy as np\n",
        "from tensorflow.keras import layers\n",
        "from tensorflow.keras import losses\n",
        "from tensorflow.keras import preprocessing\n",
        "from tensorflow.keras.layers.experimental.preprocessing import TextVectorization\n",
        "\n",
        "from sklearn.model_selection import train_test_split\n",
        "from sklearn.preprocessing import OneHotEncoder"
      ],
      "execution_count": 4,
      "outputs": []
    },
    {
      "cell_type": "markdown",
      "metadata": {
        "collapsed": false,
        "id": "OjSMgLH49Btp"
      },
      "source": [
        "## Data preparation"
      ]
    },
    {
      "cell_type": "code",
      "metadata": {
        "ExecuteTime": {
          "end_time": "2021-04-25T02:08:56.553376Z",
          "start_time": "2021-04-25T02:08:56.165711Z"
        },
        "colab": {
          "base_uri": "https://localhost:8080/"
        },
        "id": "EdxKlDWK9Btp",
        "outputId": "a8e519f4-4839-4246-9c1d-2468d6fc80a5"
      },
      "source": [
        "'''\n",
        "Aquí se filtra el dataset para que solo queden los dialogos relevantes, los de ls personajes principales.\n",
        "'''\n",
        "# Dataset from - https://archive.ics.uci.edu/ml/datasets/SMS+Spam+Collection\n",
        "df_0 = pd.read_csv(ruta + 'simpsons_dataset.csv').dropna()\n",
        "## Array of first 6 main characters\n",
        "target_simpsons = df_0.groupby(['raw_character_text']).count().sort_values(by=['spoken_words'], ascending=False).head(6).index.to_numpy()\n",
        "target_simpsons"
      ],
      "execution_count": 5,
      "outputs": [
        {
          "output_type": "execute_result",
          "data": {
            "text/plain": [
              "array(['Homer Simpson', 'Marge Simpson', 'Bart Simpson', 'Lisa Simpson',\n",
              "       'C. Montgomery Burns', 'Moe Szyslak'], dtype=object)"
            ]
          },
          "metadata": {
            "tags": []
          },
          "execution_count": 5
        }
      ]
    },
    {
      "cell_type": "code",
      "metadata": {
        "colab": {
          "base_uri": "https://localhost:8080/",
          "height": 266
        },
        "id": "Jx4fNQnCGrGR",
        "outputId": "8436dafd-db3c-4948-e44c-7ce1e8b18b70"
      },
      "source": [
        "df = df_0.loc[df_0['raw_character_text'].isin(target_simpsons)]\n",
        "df.groupby(['raw_character_text']).count()"
      ],
      "execution_count": 6,
      "outputs": [
        {
          "output_type": "execute_result",
          "data": {
            "text/html": [
              "<div>\n",
              "<style scoped>\n",
              "    .dataframe tbody tr th:only-of-type {\n",
              "        vertical-align: middle;\n",
              "    }\n",
              "\n",
              "    .dataframe tbody tr th {\n",
              "        vertical-align: top;\n",
              "    }\n",
              "\n",
              "    .dataframe thead th {\n",
              "        text-align: right;\n",
              "    }\n",
              "</style>\n",
              "<table border=\"1\" class=\"dataframe\">\n",
              "  <thead>\n",
              "    <tr style=\"text-align: right;\">\n",
              "      <th></th>\n",
              "      <th>spoken_words</th>\n",
              "    </tr>\n",
              "    <tr>\n",
              "      <th>raw_character_text</th>\n",
              "      <th></th>\n",
              "    </tr>\n",
              "  </thead>\n",
              "  <tbody>\n",
              "    <tr>\n",
              "      <th>Bart Simpson</th>\n",
              "      <td>12995</td>\n",
              "    </tr>\n",
              "    <tr>\n",
              "      <th>C. Montgomery Burns</th>\n",
              "      <td>3077</td>\n",
              "    </tr>\n",
              "    <tr>\n",
              "      <th>Homer Simpson</th>\n",
              "      <td>27850</td>\n",
              "    </tr>\n",
              "    <tr>\n",
              "      <th>Lisa Simpson</th>\n",
              "      <td>10756</td>\n",
              "    </tr>\n",
              "    <tr>\n",
              "      <th>Marge Simpson</th>\n",
              "      <td>13172</td>\n",
              "    </tr>\n",
              "    <tr>\n",
              "      <th>Moe Szyslak</th>\n",
              "      <td>2808</td>\n",
              "    </tr>\n",
              "  </tbody>\n",
              "</table>\n",
              "</div>"
            ],
            "text/plain": [
              "                     spoken_words\n",
              "raw_character_text               \n",
              "Bart Simpson                12995\n",
              "C. Montgomery Burns          3077\n",
              "Homer Simpson               27850\n",
              "Lisa Simpson                10756\n",
              "Marge Simpson               13172\n",
              "Moe Szyslak                  2808"
            ]
          },
          "metadata": {
            "tags": []
          },
          "execution_count": 6
        }
      ]
    },
    {
      "cell_type": "code",
      "metadata": {
        "ExecuteTime": {
          "end_time": "2021-04-25T02:13:14.767362Z",
          "start_time": "2021-04-25T02:13:14.712122Z"
        },
        "colab": {
          "base_uri": "https://localhost:8080/"
        },
        "id": "hyvA5LI59Btq",
        "outputId": "f674b4eb-7828-4e69-d04f-5182829632f7"
      },
      "source": [
        "'''\n",
        "Se realiza un Encoding de los nombres de los personajes principales. \n",
        "La idea es que cada categoría de personaje este codificada por un vector\n",
        "1x6 binario. \n",
        "'''\n",
        "enc = OneHotEncoder(handle_unknown='ignore')\n",
        "enc.fit(df[['raw_character_text']])\n",
        "print(enc.categories_)"
      ],
      "execution_count": 7,
      "outputs": [
        {
          "output_type": "stream",
          "text": [
            "[array(['Bart Simpson', 'C. Montgomery Burns', 'Homer Simpson',\n",
            "       'Lisa Simpson', 'Marge Simpson', 'Moe Szyslak'], dtype=object)]\n"
          ],
          "name": "stdout"
        }
      ]
    },
    {
      "cell_type": "code",
      "metadata": {
        "ExecuteTime": {
          "end_time": "2021-04-25T02:23:23.168116Z",
          "start_time": "2021-04-25T02:23:23.028639Z"
        },
        "id": "UZcf4BLJ9Btr"
      },
      "source": [
        "'''\n",
        "Se dividen los datos en 60 training, 20 validación y 20 testing\n",
        "'''\n",
        "# df_yelp = df[df['source'] == 'yelp']\n",
        "sentences = df['spoken_words'].values\n",
        "\n",
        "y = enc.transform(df[['raw_character_text']]).toarray()\n",
        "sentences_train_val, sentences_test, y_train_val, y_test = train_test_split(sentences, y, test_size=0.20, random_state=1000)\n",
        "sentences_train, sentences_val, y_train, y_val = train_test_split(sentences_train_val, y_train_val, test_size=0.25, random_state=1000)\n",
        "\n",
        "# Once we have our handles, we format the datasets in a Keras-fit compatible\n",
        "# format: a tuple of the form (text_data, label).\n",
        "train_dataset = tf.data.Dataset.from_tensor_slices((sentences_train, y_train))\n",
        "test_dataset = tf.data.Dataset.from_tensor_slices((sentences_test, y_test))\n",
        "\n",
        "# We also create a dataset with only the textual data in it. This will be used\n",
        "# to build our vocabulary later on.\n",
        "text_dataset = tf.data.Dataset.from_tensor_slices((sentences_train))"
      ],
      "execution_count": 8,
      "outputs": []
    },
    {
      "cell_type": "code",
      "metadata": {
        "id": "062mLqKc9Bts"
      },
      "source": [
        "vectorize_layer = TextVectorization(\n",
        "    ngrams=None, max_tokens=None, vocabulary=None,\n",
        "    output_mode='binary', output_sequence_length=None, pad_to_max_tokens=True, \n",
        ")"
      ],
      "execution_count": 9,
      "outputs": []
    },
    {
      "cell_type": "markdown",
      "metadata": {
        "id": "ktKkZtXI9Bts"
      },
      "source": [
        "Now that the vocab layer has been created, call `adapt` on the text-only\n",
        " dataset to create the vocabulary"
      ]
    },
    {
      "cell_type": "code",
      "metadata": {
        "ExecuteTime": {
          "end_time": "2021-04-25T02:23:29.083819Z",
          "start_time": "2021-04-25T02:23:25.793745Z"
        },
        "colab": {
          "base_uri": "https://localhost:8080/"
        },
        "id": "A987b8z_9Btt",
        "outputId": "b7111aa0-3f91-4972-c009-56072a442700"
      },
      "source": [
        "vectorize_layer.adapt(text_dataset.batch(32))\n",
        "len(vectorize_layer.get_vocabulary())"
      ],
      "execution_count": 10,
      "outputs": [
        {
          "output_type": "execute_result",
          "data": {
            "text/plain": [
              "22077"
            ]
          },
          "metadata": {
            "tags": []
          },
          "execution_count": 10
        }
      ]
    },
    {
      "cell_type": "markdown",
      "metadata": {
        "id": "flZjAPtM9Btv"
      },
      "source": [
        "# 3. Multinomial Classification Using Pretrained Embbedings"
      ]
    },
    {
      "cell_type": "code",
      "metadata": {
        "id": "3Ny_bDhE9Btv"
      },
      "source": [
        "from keras.models import Sequential"
      ],
      "execution_count": 11,
      "outputs": []
    },
    {
      "cell_type": "code",
      "metadata": {
        "id": "sWYBfgSq9Btw"
      },
      "source": [
        "# Load pretrained models\n",
        "model_50 = gensim.models.Word2Vec.load(ruta + \"Simpsons_50_5.model\")\n",
        "model_100 = gensim.models.Word2Vec.load(ruta + \"Simpsons_100_5.model\")\n",
        "model_150 = gensim.models.Word2Vec.load(ruta + \"Simpsons_150_5.model\")"
      ],
      "execution_count": 12,
      "outputs": []
    },
    {
      "cell_type": "code",
      "metadata": {
        "id": "Ti13mNe59Btw"
      },
      "source": [
        "# pretrained.wv.index_to_key\n",
        "\n",
        "def get_weight_matrix(embedding, vocab):\n",
        "    # total vocabulary size plus 0 for unknown words\n",
        "    vocab_size = len(vocab) \n",
        "    embedding_dim = len(embedding['homer'])\n",
        "    hits = 0\n",
        "    misses = 0\n",
        "    # define weight matrix dimensions with all 0\n",
        "    weight_matrix = np.zeros((vocab_size, embedding_dim))\n",
        "    # step vocab, store vectors using the Tokenizer's integer mapping\n",
        "    for i in range(len(vocab)):\n",
        "        try:\n",
        "            weight_matrix[i] = embedding[vocab[i]]\n",
        "            hits += 1\n",
        "        except:\n",
        "            misses += 1\n",
        "    print(\"Converted %d words (%d misses)\" % (hits, misses))\n",
        "    return weight_matrix"
      ],
      "execution_count": 13,
      "outputs": []
    },
    {
      "cell_type": "code",
      "metadata": {
        "id": "ee4_03ks9Btw"
      },
      "source": [
        "\n",
        "x_train = vectorize_layer(np.array([[s] for s in sentences_train])).numpy()\n",
        "x_val = vectorize_layer(np.array([[s] for s in sentences_val])).numpy()\n",
        "x_test = vectorize_layer(np.array([[s] for s in sentences_test])).numpy()\n",
        "\n",
        "y_train = np.array(y_train)\n",
        "y_val = np.array(y_val)\n",
        "y_test = np.array(y_test)"
      ],
      "execution_count": 14,
      "outputs": []
    },
    {
      "cell_type": "code",
      "metadata": {
        "colab": {
          "base_uri": "https://localhost:8080/"
        },
        "id": "UpGuXuLA9Btx",
        "outputId": "aa6cb6a4-4a1c-4e17-8742-753edfdee2bb"
      },
      "source": [
        "print(x_train.shape)\n",
        "print(x_val.shape)\n",
        "# print(x_test.shape)\n",
        "print(y_train.shape)\n",
        "print(y_val.shape)\n",
        "# print(y_test.shape)"
      ],
      "execution_count": 15,
      "outputs": [
        {
          "output_type": "stream",
          "text": [
            "(42394, 22077)\n",
            "(14132, 22077)\n",
            "(42394, 6)\n",
            "(14132, 6)\n"
          ],
          "name": "stdout"
        }
      ]
    },
    {
      "cell_type": "code",
      "metadata": {
        "colab": {
          "base_uri": "https://localhost:8080/"
        },
        "id": "b4wAuAH7EmUd",
        "outputId": "7b9b35f0-5e6a-4a1b-8f16-5bc0a444683e"
      },
      "source": [
        "y_train"
      ],
      "execution_count": 16,
      "outputs": [
        {
          "output_type": "execute_result",
          "data": {
            "text/plain": [
              "array([[0., 0., 1., 0., 0., 0.],\n",
              "       [0., 0., 0., 0., 1., 0.],\n",
              "       [0., 0., 0., 1., 0., 0.],\n",
              "       ...,\n",
              "       [0., 0., 0., 1., 0., 0.],\n",
              "       [0., 0., 1., 0., 0., 0.],\n",
              "       [0., 0., 0., 0., 1., 0.]])"
            ]
          },
          "metadata": {
            "tags": []
          },
          "execution_count": 16
        }
      ]
    },
    {
      "cell_type": "code",
      "metadata": {
        "id": "F7AXqU0L9Bty"
      },
      "source": [
        "def generatePreEmbbedingModel(model, embedding_dim, vectorize_layer, architecture_id = 1):\n",
        "    batch_size = 32\n",
        "    epochs = 10\n",
        "    weights = get_weight_matrix(model.wv, vectorize_layer.get_vocabulary())\n",
        "    num_tokens = len(vectorize_layer.get_vocabulary()) \n",
        "    embedding_layer = layers.Embedding(\n",
        "        num_tokens,\n",
        "        embedding_dim,\n",
        "        embeddings_initializer=tf.keras.initializers.Constant(weights),\n",
        "        trainable=False,\n",
        "    )\n",
        "\n",
        "    int_sequences_input = tf.keras.Input(shape=(None,), dtype='int64')\n",
        "    embedded_sequences = embedding_layer(int_sequences_input)\n",
        "\n",
        "    if architecture_id == 1:\n",
        "        x = layers.GlobalAveragePooling1D()(embedded_sequences)\n",
        "        x = layers.Dense(10, activation='relu')(x)\n",
        "    elif architecture_id == 2:\n",
        "        # x = layers.SimpleRNN(5)(embedded_sequences)\n",
        "        # x = layers.Dropout(0.3)(x)\n",
        "        # x = layers.Dense(10, activation='relu')(x)\n",
        "        x = layers.GlobalAveragePooling1D()(embedded_sequences)\n",
        "        x = layers.Dense(80, activation='relu')(x)\n",
        "        x = layers.Dense(250, activation='relu')(x)\n",
        "    elif architecture_id == 3:\n",
        "        x = layers.GlobalAveragePooling1D()(embedded_sequences)\n",
        "        x = layers.Dense(80, activation='relu')(x)\n",
        "        x = layers.Dropout(0.3)(x)\n",
        "        x = layers.BatchNormalization()(x)\n",
        "        x = layers.Dense(250, activation='relu')(x)\n",
        "        x = layers.Dropout(0.5)(x)\n",
        "\n",
        "    preds = layers.Dense(len(target_simpsons), activation='softmax')(x)\n",
        "    modelRN = tf.keras.Model(int_sequences_input, preds)\n",
        "\n",
        "    return modelRN\n",
        "\n"
      ],
      "execution_count": 17,
      "outputs": []
    },
    {
      "cell_type": "code",
      "metadata": {
        "id": "xUHm4x_Q9Bty"
      },
      "source": [
        "#Parameters\n",
        "\n",
        "batch_size = 32\n",
        "epochs = 10"
      ],
      "execution_count": 18,
      "outputs": []
    },
    {
      "cell_type": "markdown",
      "metadata": {
        "id": "NGAO3337LDQU"
      },
      "source": [
        "### First Architecture"
      ]
    },
    {
      "cell_type": "code",
      "metadata": {
        "colab": {
          "base_uri": "https://localhost:8080/"
        },
        "id": "O1mgCJkK9Btz",
        "outputId": "780c23c9-115f-4ab6-baaa-a43941eee14b"
      },
      "source": [
        "red_50 = generatePreEmbbedingModel(model_50, 50, vectorize_layer)\n",
        "red_100 = generatePreEmbbedingModel(model_100, 100, vectorize_layer)\n",
        "red_150 = generatePreEmbbedingModel(model_150, 150, vectorize_layer)"
      ],
      "execution_count": 19,
      "outputs": [
        {
          "output_type": "stream",
          "text": [
            "Converted 15593 words (6484 misses)\n",
            "Converted 15593 words (6484 misses)\n",
            "Converted 15593 words (6484 misses)\n"
          ],
          "name": "stdout"
        }
      ]
    },
    {
      "cell_type": "code",
      "metadata": {
        "colab": {
          "base_uri": "https://localhost:8080/"
        },
        "id": "pjRhexOf9Btz",
        "outputId": "b23cc5d6-d6fe-4666-93fc-98ba11445ef2"
      },
      "source": [
        "red_50.summary()"
      ],
      "execution_count": 20,
      "outputs": [
        {
          "output_type": "stream",
          "text": [
            "Model: \"model\"\n",
            "_________________________________________________________________\n",
            "Layer (type)                 Output Shape              Param #   \n",
            "=================================================================\n",
            "input_1 (InputLayer)         [(None, None)]            0         \n",
            "_________________________________________________________________\n",
            "embedding (Embedding)        (None, None, 50)          1103850   \n",
            "_________________________________________________________________\n",
            "global_average_pooling1d (Gl (None, 50)                0         \n",
            "_________________________________________________________________\n",
            "dense (Dense)                (None, 10)                510       \n",
            "_________________________________________________________________\n",
            "dense_1 (Dense)              (None, 6)                 66        \n",
            "=================================================================\n",
            "Total params: 1,104,426\n",
            "Trainable params: 576\n",
            "Non-trainable params: 1,103,850\n",
            "_________________________________________________________________\n"
          ],
          "name": "stdout"
        }
      ]
    },
    {
      "cell_type": "code",
      "metadata": {
        "colab": {
          "base_uri": "https://localhost:8080/"
        },
        "id": "-F-UdJ0v9Btz",
        "outputId": "181fcb1b-5e96-4901-e512-d551fee65a9f"
      },
      "source": [
        "red_100.summary()"
      ],
      "execution_count": 21,
      "outputs": [
        {
          "output_type": "stream",
          "text": [
            "Model: \"model_1\"\n",
            "_________________________________________________________________\n",
            "Layer (type)                 Output Shape              Param #   \n",
            "=================================================================\n",
            "input_2 (InputLayer)         [(None, None)]            0         \n",
            "_________________________________________________________________\n",
            "embedding_1 (Embedding)      (None, None, 100)         2207700   \n",
            "_________________________________________________________________\n",
            "global_average_pooling1d_1 ( (None, 100)               0         \n",
            "_________________________________________________________________\n",
            "dense_2 (Dense)              (None, 10)                1010      \n",
            "_________________________________________________________________\n",
            "dense_3 (Dense)              (None, 6)                 66        \n",
            "=================================================================\n",
            "Total params: 2,208,776\n",
            "Trainable params: 1,076\n",
            "Non-trainable params: 2,207,700\n",
            "_________________________________________________________________\n"
          ],
          "name": "stdout"
        }
      ]
    },
    {
      "cell_type": "code",
      "metadata": {
        "colab": {
          "base_uri": "https://localhost:8080/"
        },
        "id": "xofetRNf9Bt0",
        "outputId": "f96c4f11-0dd9-4b02-a833-3f8829cc663e"
      },
      "source": [
        "red_150.summary()"
      ],
      "execution_count": 22,
      "outputs": [
        {
          "output_type": "stream",
          "text": [
            "Model: \"model_2\"\n",
            "_________________________________________________________________\n",
            "Layer (type)                 Output Shape              Param #   \n",
            "=================================================================\n",
            "input_3 (InputLayer)         [(None, None)]            0         \n",
            "_________________________________________________________________\n",
            "embedding_2 (Embedding)      (None, None, 150)         3311550   \n",
            "_________________________________________________________________\n",
            "global_average_pooling1d_2 ( (None, 150)               0         \n",
            "_________________________________________________________________\n",
            "dense_4 (Dense)              (None, 10)                1510      \n",
            "_________________________________________________________________\n",
            "dense_5 (Dense)              (None, 6)                 66        \n",
            "=================================================================\n",
            "Total params: 3,313,126\n",
            "Trainable params: 1,576\n",
            "Non-trainable params: 3,311,550\n",
            "_________________________________________________________________\n"
          ],
          "name": "stdout"
        }
      ]
    },
    {
      "cell_type": "code",
      "metadata": {
        "id": "tIprZax7K1QD"
      },
      "source": [
        "from sklearn.metrics import classification_report\n",
        "from sklearn.metrics import confusion_matrix\n",
        "\n",
        "\n",
        "def get_metrics_by_class(model, x,y):\n",
        "  y_pred = model.predict(x, batch_size=64, verbose=1)\n",
        "  y_pred_bool = np.argmax(y_pred, axis=1)\n",
        "  y_label = np.argmax(y, axis=1)\n",
        "  print(classification_report(y_label, y_pred_bool))"
      ],
      "execution_count": 23,
      "outputs": []
    },
    {
      "cell_type": "code",
      "metadata": {
        "id": "SBTN6-p19Bt0"
      },
      "source": [
        "red_50.compile(loss='categorical_crossentropy',  optimizer='adam', metrics=['accuracy'])\n",
        "red_100.compile(loss='categorical_crossentropy',  optimizer='adam', metrics=['accuracy'])\n",
        "red_150.compile(loss='categorical_crossentropy',  optimizer='adam', metrics=['accuracy'])"
      ],
      "execution_count": 24,
      "outputs": []
    },
    {
      "cell_type": "code",
      "metadata": {
        "colab": {
          "base_uri": "https://localhost:8080/"
        },
        "id": "fIK-oo169Bt1",
        "outputId": "0831d3b9-c26a-44e1-942a-42c381fa266e"
      },
      "source": [
        "red_50.fit(x_train, y_train, batch_size=batch_size, epochs=epochs, validation_data=(x_val, y_val))"
      ],
      "execution_count": 25,
      "outputs": [
        {
          "output_type": "stream",
          "text": [
            "Epoch 1/10\n",
            "1325/1325 [==============================] - 45s 32ms/step - loss: 1.6887 - accuracy: 0.3910 - val_loss: 1.5565 - val_accuracy: 0.3942\n",
            "Epoch 2/10\n",
            "1325/1325 [==============================] - 43s 32ms/step - loss: 1.5471 - accuracy: 0.3964 - val_loss: 1.5431 - val_accuracy: 0.3942\n",
            "Epoch 3/10\n",
            "1325/1325 [==============================] - 44s 33ms/step - loss: 1.5426 - accuracy: 0.3945 - val_loss: 1.5423 - val_accuracy: 0.3942\n",
            "Epoch 4/10\n",
            "1325/1325 [==============================] - 44s 33ms/step - loss: 1.5414 - accuracy: 0.3956 - val_loss: 1.5422 - val_accuracy: 0.3942\n",
            "Epoch 5/10\n",
            "1325/1325 [==============================] - 43s 33ms/step - loss: 1.5354 - accuracy: 0.4003 - val_loss: 1.5425 - val_accuracy: 0.3942\n",
            "Epoch 6/10\n",
            "1325/1325 [==============================] - 43s 33ms/step - loss: 1.5381 - accuracy: 0.3963 - val_loss: 1.5423 - val_accuracy: 0.3942\n",
            "Epoch 7/10\n",
            "1325/1325 [==============================] - 43s 33ms/step - loss: 1.5419 - accuracy: 0.3944 - val_loss: 1.5423 - val_accuracy: 0.3942\n",
            "Epoch 8/10\n",
            "1325/1325 [==============================] - 43s 33ms/step - loss: 1.5389 - accuracy: 0.3974 - val_loss: 1.5422 - val_accuracy: 0.3942\n",
            "Epoch 9/10\n",
            "1325/1325 [==============================] - 43s 33ms/step - loss: 1.5402 - accuracy: 0.3970 - val_loss: 1.5422 - val_accuracy: 0.3942\n",
            "Epoch 10/10\n",
            "1325/1325 [==============================] - 44s 33ms/step - loss: 1.5398 - accuracy: 0.3945 - val_loss: 1.5422 - val_accuracy: 0.3942\n"
          ],
          "name": "stdout"
        },
        {
          "output_type": "execute_result",
          "data": {
            "text/plain": [
              "<tensorflow.python.keras.callbacks.History at 0x7f61fe160b10>"
            ]
          },
          "metadata": {
            "tags": []
          },
          "execution_count": 25
        }
      ]
    },
    {
      "cell_type": "code",
      "metadata": {
        "colab": {
          "base_uri": "https://localhost:8080/"
        },
        "id": "MR2HWzRU9Bt1",
        "outputId": "d21f21c9-f73b-4465-815d-5b190ea4658e"
      },
      "source": [
        "red_100.fit(x_train, y_train, batch_size=batch_size, epochs=epochs, validation_data=(x_val, y_val))"
      ],
      "execution_count": 26,
      "outputs": [
        {
          "output_type": "stream",
          "text": [
            "Epoch 1/10\n",
            "1325/1325 [==============================] - 77s 57ms/step - loss: 1.6897 - accuracy: 0.3990 - val_loss: 1.5574 - val_accuracy: 0.3942\n",
            "Epoch 2/10\n",
            "1325/1325 [==============================] - 76s 57ms/step - loss: 1.5522 - accuracy: 0.3941 - val_loss: 1.5431 - val_accuracy: 0.3942\n",
            "Epoch 3/10\n",
            "1325/1325 [==============================] - 76s 57ms/step - loss: 1.5413 - accuracy: 0.3953 - val_loss: 1.5425 - val_accuracy: 0.3942\n",
            "Epoch 4/10\n",
            "1325/1325 [==============================] - 76s 57ms/step - loss: 1.5421 - accuracy: 0.3943 - val_loss: 1.5422 - val_accuracy: 0.3942\n",
            "Epoch 5/10\n",
            "1325/1325 [==============================] - 76s 57ms/step - loss: 1.5408 - accuracy: 0.3965 - val_loss: 1.5423 - val_accuracy: 0.3942\n",
            "Epoch 6/10\n",
            "1325/1325 [==============================] - 76s 57ms/step - loss: 1.5431 - accuracy: 0.3960 - val_loss: 1.5423 - val_accuracy: 0.3942\n",
            "Epoch 7/10\n",
            "1325/1325 [==============================] - 76s 57ms/step - loss: 1.5354 - accuracy: 0.3999 - val_loss: 1.5423 - val_accuracy: 0.3942\n",
            "Epoch 8/10\n",
            "1325/1325 [==============================] - 76s 57ms/step - loss: 1.5357 - accuracy: 0.3989 - val_loss: 1.5424 - val_accuracy: 0.3942\n",
            "Epoch 9/10\n",
            "1325/1325 [==============================] - 76s 58ms/step - loss: 1.5412 - accuracy: 0.3960 - val_loss: 1.5423 - val_accuracy: 0.3942\n",
            "Epoch 10/10\n",
            "1325/1325 [==============================] - 76s 58ms/step - loss: 1.5403 - accuracy: 0.3944 - val_loss: 1.5423 - val_accuracy: 0.3942\n"
          ],
          "name": "stdout"
        },
        {
          "output_type": "execute_result",
          "data": {
            "text/plain": [
              "<tensorflow.python.keras.callbacks.History at 0x7f624037bc50>"
            ]
          },
          "metadata": {
            "tags": []
          },
          "execution_count": 26
        }
      ]
    },
    {
      "cell_type": "code",
      "metadata": {
        "colab": {
          "base_uri": "https://localhost:8080/"
        },
        "id": "L9tPuduJ9Bt1",
        "outputId": "46e09b84-4b72-40d6-f3a3-650512d9e4b9"
      },
      "source": [
        "red_150.fit(x_train, y_train, batch_size=batch_size, epochs=epochs, validation_data=(x_val, y_val))"
      ],
      "execution_count": 27,
      "outputs": [
        {
          "output_type": "stream",
          "text": [
            "Epoch 1/10\n",
            "1325/1325 [==============================] - 110s 83ms/step - loss: 1.6904 - accuracy: 0.3960 - val_loss: 1.5563 - val_accuracy: 0.3942\n",
            "Epoch 2/10\n",
            "1325/1325 [==============================] - 111s 84ms/step - loss: 1.5484 - accuracy: 0.3957 - val_loss: 1.5430 - val_accuracy: 0.3942\n",
            "Epoch 3/10\n",
            "1325/1325 [==============================] - 113s 85ms/step - loss: 1.5409 - accuracy: 0.3957 - val_loss: 1.5424 - val_accuracy: 0.3942\n",
            "Epoch 4/10\n",
            "1325/1325 [==============================] - 113s 85ms/step - loss: 1.5410 - accuracy: 0.3962 - val_loss: 1.5425 - val_accuracy: 0.3942\n",
            "Epoch 5/10\n",
            "1325/1325 [==============================] - 112s 85ms/step - loss: 1.5424 - accuracy: 0.3976 - val_loss: 1.5423 - val_accuracy: 0.3942\n",
            "Epoch 6/10\n",
            "1325/1325 [==============================] - 109s 83ms/step - loss: 1.5393 - accuracy: 0.3998 - val_loss: 1.5423 - val_accuracy: 0.3942\n",
            "Epoch 7/10\n",
            "1325/1325 [==============================] - 109s 83ms/step - loss: 1.5431 - accuracy: 0.3934 - val_loss: 1.5423 - val_accuracy: 0.3942\n",
            "Epoch 8/10\n",
            "1325/1325 [==============================] - 109s 83ms/step - loss: 1.5414 - accuracy: 0.3942 - val_loss: 1.5424 - val_accuracy: 0.3942\n",
            "Epoch 9/10\n",
            "1325/1325 [==============================] - 109s 82ms/step - loss: 1.5404 - accuracy: 0.3943 - val_loss: 1.5423 - val_accuracy: 0.3942\n",
            "Epoch 10/10\n",
            "1325/1325 [==============================] - 109s 82ms/step - loss: 1.5426 - accuracy: 0.3947 - val_loss: 1.5423 - val_accuracy: 0.3942\n"
          ],
          "name": "stdout"
        },
        {
          "output_type": "execute_result",
          "data": {
            "text/plain": [
              "<tensorflow.python.keras.callbacks.History at 0x7f61da23dd50>"
            ]
          },
          "metadata": {
            "tags": []
          },
          "execution_count": 27
        }
      ]
    },
    {
      "cell_type": "markdown",
      "metadata": {
        "id": "XZ1z1mmW9XhE"
      },
      "source": [
        "#### Testing"
      ]
    },
    {
      "cell_type": "code",
      "metadata": {
        "id": "Y3ejk7n5NajQ",
        "colab": {
          "base_uri": "https://localhost:8080/"
        },
        "outputId": "343fdb4e-ea82-47c2-a000-38e859ee94bd"
      },
      "source": [
        "get_metrics_by_class(red_50, x_test, y_test)"
      ],
      "execution_count": 28,
      "outputs": [
        {
          "output_type": "stream",
          "text": [
            "221/221 [==============================] - 10s 43ms/step\n",
            "              precision    recall  f1-score   support\n",
            "\n",
            "           0       0.00      0.00      0.00      2631\n",
            "           1       0.00      0.00      0.00       598\n",
            "           2       0.39      1.00      0.56      5510\n",
            "           3       0.00      0.00      0.00      2120\n",
            "           4       0.00      0.00      0.00      2666\n",
            "           5       0.00      0.00      0.00       607\n",
            "\n",
            "    accuracy                           0.39     14132\n",
            "   macro avg       0.06      0.17      0.09     14132\n",
            "weighted avg       0.15      0.39      0.22     14132\n",
            "\n"
          ],
          "name": "stdout"
        },
        {
          "output_type": "stream",
          "text": [
            "/usr/local/lib/python3.7/dist-packages/sklearn/metrics/_classification.py:1272: UndefinedMetricWarning: Precision and F-score are ill-defined and being set to 0.0 in labels with no predicted samples. Use `zero_division` parameter to control this behavior.\n",
            "  _warn_prf(average, modifier, msg_start, len(result))\n"
          ],
          "name": "stderr"
        }
      ]
    },
    {
      "cell_type": "code",
      "metadata": {
        "id": "KMsT9PWzNdkW",
        "colab": {
          "base_uri": "https://localhost:8080/"
        },
        "outputId": "eaec9b5b-bfb7-40e1-822d-4eaa44bc839f"
      },
      "source": [
        "get_metrics_by_class(red_100, x_test, y_test)"
      ],
      "execution_count": 29,
      "outputs": [
        {
          "output_type": "stream",
          "text": [
            "221/221 [==============================] - 18s 80ms/step\n",
            "              precision    recall  f1-score   support\n",
            "\n",
            "           0       0.00      0.00      0.00      2631\n",
            "           1       0.00      0.00      0.00       598\n",
            "           2       0.39      1.00      0.56      5510\n",
            "           3       0.00      0.00      0.00      2120\n",
            "           4       0.00      0.00      0.00      2666\n",
            "           5       0.00      0.00      0.00       607\n",
            "\n",
            "    accuracy                           0.39     14132\n",
            "   macro avg       0.06      0.17      0.09     14132\n",
            "weighted avg       0.15      0.39      0.22     14132\n",
            "\n"
          ],
          "name": "stdout"
        },
        {
          "output_type": "stream",
          "text": [
            "/usr/local/lib/python3.7/dist-packages/sklearn/metrics/_classification.py:1272: UndefinedMetricWarning: Precision and F-score are ill-defined and being set to 0.0 in labels with no predicted samples. Use `zero_division` parameter to control this behavior.\n",
            "  _warn_prf(average, modifier, msg_start, len(result))\n"
          ],
          "name": "stderr"
        }
      ]
    },
    {
      "cell_type": "code",
      "metadata": {
        "id": "-HAQg0R8NiA1",
        "colab": {
          "base_uri": "https://localhost:8080/"
        },
        "outputId": "4454f3c5-1fa1-40d1-e0f2-843d00216b00"
      },
      "source": [
        "get_metrics_by_class(red_150, x_test, y_test)"
      ],
      "execution_count": 30,
      "outputs": [
        {
          "output_type": "stream",
          "text": [
            "221/221 [==============================] - 26s 116ms/step\n",
            "              precision    recall  f1-score   support\n",
            "\n",
            "           0       0.00      0.00      0.00      2631\n",
            "           1       0.00      0.00      0.00       598\n",
            "           2       0.39      1.00      0.56      5510\n",
            "           3       0.00      0.00      0.00      2120\n",
            "           4       0.00      0.00      0.00      2666\n",
            "           5       0.00      0.00      0.00       607\n",
            "\n",
            "    accuracy                           0.39     14132\n",
            "   macro avg       0.06      0.17      0.09     14132\n",
            "weighted avg       0.15      0.39      0.22     14132\n",
            "\n"
          ],
          "name": "stdout"
        },
        {
          "output_type": "stream",
          "text": [
            "/usr/local/lib/python3.7/dist-packages/sklearn/metrics/_classification.py:1272: UndefinedMetricWarning: Precision and F-score are ill-defined and being set to 0.0 in labels with no predicted samples. Use `zero_division` parameter to control this behavior.\n",
            "  _warn_prf(average, modifier, msg_start, len(result))\n"
          ],
          "name": "stderr"
        }
      ]
    },
    {
      "cell_type": "markdown",
      "metadata": {
        "id": "p-3OUjS59bWQ"
      },
      "source": [
        "#### Training"
      ]
    },
    {
      "cell_type": "code",
      "metadata": {
        "id": "f0mG84mbEakb",
        "colab": {
          "base_uri": "https://localhost:8080/"
        },
        "outputId": "eec7f4dd-94f3-44bd-e1d6-914b3941d3f0"
      },
      "source": [
        "get_metrics_by_class(red_50, x_train, y_train)"
      ],
      "execution_count": 31,
      "outputs": [
        {
          "output_type": "stream",
          "text": [
            "663/663 [==============================] - 28s 42ms/step\n",
            "              precision    recall  f1-score   support\n",
            "\n",
            "           0       0.00      0.00      0.00      7822\n",
            "           1       0.00      0.00      0.00      1869\n",
            "           2       0.40      1.00      0.57     16769\n",
            "           3       0.00      0.00      0.00      6429\n",
            "           4       0.00      0.00      0.00      7860\n",
            "           5       0.00      0.00      0.00      1645\n",
            "\n",
            "    accuracy                           0.40     42394\n",
            "   macro avg       0.07      0.17      0.09     42394\n",
            "weighted avg       0.16      0.40      0.22     42394\n",
            "\n"
          ],
          "name": "stdout"
        },
        {
          "output_type": "stream",
          "text": [
            "/usr/local/lib/python3.7/dist-packages/sklearn/metrics/_classification.py:1272: UndefinedMetricWarning: Precision and F-score are ill-defined and being set to 0.0 in labels with no predicted samples. Use `zero_division` parameter to control this behavior.\n",
            "  _warn_prf(average, modifier, msg_start, len(result))\n"
          ],
          "name": "stderr"
        }
      ]
    },
    {
      "cell_type": "code",
      "metadata": {
        "id": "a1lEBki6_jP7",
        "colab": {
          "base_uri": "https://localhost:8080/"
        },
        "outputId": "0e206536-95e3-4128-e219-dc3572c60af1"
      },
      "source": [
        "get_metrics_by_class(red_100, x_train, y_train)"
      ],
      "execution_count": 32,
      "outputs": [
        {
          "output_type": "stream",
          "text": [
            "663/663 [==============================] - 53s 80ms/step\n",
            "              precision    recall  f1-score   support\n",
            "\n",
            "           0       0.00      0.00      0.00      7822\n",
            "           1       0.00      0.00      0.00      1869\n",
            "           2       0.40      1.00      0.57     16769\n",
            "           3       0.00      0.00      0.00      6429\n",
            "           4       0.00      0.00      0.00      7860\n",
            "           5       0.00      0.00      0.00      1645\n",
            "\n",
            "    accuracy                           0.40     42394\n",
            "   macro avg       0.07      0.17      0.09     42394\n",
            "weighted avg       0.16      0.40      0.22     42394\n",
            "\n"
          ],
          "name": "stdout"
        },
        {
          "output_type": "stream",
          "text": [
            "/usr/local/lib/python3.7/dist-packages/sklearn/metrics/_classification.py:1272: UndefinedMetricWarning: Precision and F-score are ill-defined and being set to 0.0 in labels with no predicted samples. Use `zero_division` parameter to control this behavior.\n",
            "  _warn_prf(average, modifier, msg_start, len(result))\n"
          ],
          "name": "stderr"
        }
      ]
    },
    {
      "cell_type": "code",
      "metadata": {
        "id": "RfQmkCtP9x66",
        "colab": {
          "base_uri": "https://localhost:8080/"
        },
        "outputId": "b251362e-1b85-4f11-a486-9fd6b1e64599"
      },
      "source": [
        "get_metrics_by_class(red_150, x_train, y_train)"
      ],
      "execution_count": 33,
      "outputs": [
        {
          "output_type": "stream",
          "text": [
            "663/663 [==============================] - 77s 116ms/step\n",
            "              precision    recall  f1-score   support\n",
            "\n",
            "           0       0.00      0.00      0.00      7822\n",
            "           1       0.00      0.00      0.00      1869\n",
            "           2       0.40      1.00      0.57     16769\n",
            "           3       0.00      0.00      0.00      6429\n",
            "           4       0.00      0.00      0.00      7860\n",
            "           5       0.00      0.00      0.00      1645\n",
            "\n",
            "    accuracy                           0.40     42394\n",
            "   macro avg       0.07      0.17      0.09     42394\n",
            "weighted avg       0.16      0.40      0.22     42394\n",
            "\n"
          ],
          "name": "stdout"
        },
        {
          "output_type": "stream",
          "text": [
            "/usr/local/lib/python3.7/dist-packages/sklearn/metrics/_classification.py:1272: UndefinedMetricWarning: Precision and F-score are ill-defined and being set to 0.0 in labels with no predicted samples. Use `zero_division` parameter to control this behavior.\n",
            "  _warn_prf(average, modifier, msg_start, len(result))\n"
          ],
          "name": "stderr"
        }
      ]
    },
    {
      "cell_type": "markdown",
      "metadata": {
        "id": "k1czoCz_9eRI"
      },
      "source": [
        "#### Validation"
      ]
    },
    {
      "cell_type": "code",
      "metadata": {
        "id": "zIbMBCkm90X8",
        "colab": {
          "base_uri": "https://localhost:8080/"
        },
        "outputId": "5e5bc9e6-6057-4c7c-b016-8179afa9098a"
      },
      "source": [
        "get_metrics_by_class(red_50, x_val, y_val)"
      ],
      "execution_count": 34,
      "outputs": [
        {
          "output_type": "stream",
          "text": [
            "221/221 [==============================] - 9s 42ms/step\n",
            "              precision    recall  f1-score   support\n",
            "\n",
            "           0       0.00      0.00      0.00      2542\n",
            "           1       0.00      0.00      0.00       610\n",
            "           2       0.39      1.00      0.57      5571\n",
            "           3       0.00      0.00      0.00      2207\n",
            "           4       0.00      0.00      0.00      2646\n",
            "           5       0.00      0.00      0.00       556\n",
            "\n",
            "    accuracy                           0.39     14132\n",
            "   macro avg       0.07      0.17      0.09     14132\n",
            "weighted avg       0.16      0.39      0.22     14132\n",
            "\n"
          ],
          "name": "stdout"
        },
        {
          "output_type": "stream",
          "text": [
            "/usr/local/lib/python3.7/dist-packages/sklearn/metrics/_classification.py:1272: UndefinedMetricWarning: Precision and F-score are ill-defined and being set to 0.0 in labels with no predicted samples. Use `zero_division` parameter to control this behavior.\n",
            "  _warn_prf(average, modifier, msg_start, len(result))\n"
          ],
          "name": "stderr"
        }
      ]
    },
    {
      "cell_type": "code",
      "metadata": {
        "id": "kxYOEPjL90X9",
        "colab": {
          "base_uri": "https://localhost:8080/"
        },
        "outputId": "05b22441-f325-4919-ee12-50ef908e3017"
      },
      "source": [
        "get_metrics_by_class(red_100, x_val, y_val)\n"
      ],
      "execution_count": 35,
      "outputs": [
        {
          "output_type": "stream",
          "text": [
            "221/221 [==============================] - 18s 80ms/step\n",
            "              precision    recall  f1-score   support\n",
            "\n",
            "           0       0.00      0.00      0.00      2542\n",
            "           1       0.00      0.00      0.00       610\n",
            "           2       0.39      1.00      0.57      5571\n",
            "           3       0.00      0.00      0.00      2207\n",
            "           4       0.00      0.00      0.00      2646\n",
            "           5       0.00      0.00      0.00       556\n",
            "\n",
            "    accuracy                           0.39     14132\n",
            "   macro avg       0.07      0.17      0.09     14132\n",
            "weighted avg       0.16      0.39      0.22     14132\n",
            "\n"
          ],
          "name": "stdout"
        },
        {
          "output_type": "stream",
          "text": [
            "/usr/local/lib/python3.7/dist-packages/sklearn/metrics/_classification.py:1272: UndefinedMetricWarning: Precision and F-score are ill-defined and being set to 0.0 in labels with no predicted samples. Use `zero_division` parameter to control this behavior.\n",
            "  _warn_prf(average, modifier, msg_start, len(result))\n"
          ],
          "name": "stderr"
        }
      ]
    },
    {
      "cell_type": "code",
      "metadata": {
        "id": "JATqpZK890X-",
        "colab": {
          "base_uri": "https://localhost:8080/"
        },
        "outputId": "f4d94d3b-9186-4e0e-d2ce-ff464c516c5c"
      },
      "source": [
        "get_metrics_by_class(red_150, x_val, y_val)"
      ],
      "execution_count": 36,
      "outputs": [
        {
          "output_type": "stream",
          "text": [
            "221/221 [==============================] - 26s 116ms/step\n",
            "              precision    recall  f1-score   support\n",
            "\n",
            "           0       0.00      0.00      0.00      2542\n",
            "           1       0.00      0.00      0.00       610\n",
            "           2       0.39      1.00      0.57      5571\n",
            "           3       0.00      0.00      0.00      2207\n",
            "           4       0.00      0.00      0.00      2646\n",
            "           5       0.00      0.00      0.00       556\n",
            "\n",
            "    accuracy                           0.39     14132\n",
            "   macro avg       0.07      0.17      0.09     14132\n",
            "weighted avg       0.16      0.39      0.22     14132\n",
            "\n"
          ],
          "name": "stdout"
        },
        {
          "output_type": "stream",
          "text": [
            "/usr/local/lib/python3.7/dist-packages/sklearn/metrics/_classification.py:1272: UndefinedMetricWarning: Precision and F-score are ill-defined and being set to 0.0 in labels with no predicted samples. Use `zero_division` parameter to control this behavior.\n",
            "  _warn_prf(average, modifier, msg_start, len(result))\n"
          ],
          "name": "stderr"
        }
      ]
    },
    {
      "cell_type": "markdown",
      "metadata": {
        "id": "4kIlBU6o9Bt2"
      },
      "source": [
        "### Second Architecture"
      ]
    },
    {
      "cell_type": "code",
      "metadata": {
        "id": "srQ9KKBB9Bt2",
        "colab": {
          "base_uri": "https://localhost:8080/"
        },
        "outputId": "f91f85d2-7030-43fd-b263-de95b3a0b47f"
      },
      "source": [
        "red_50_2 = generatePreEmbbedingModel(model_50, 50, vectorize_layer, 2)\n",
        "red_100_2 = generatePreEmbbedingModel(model_100, 100, vectorize_layer, 2)\n",
        "red_150_2 = generatePreEmbbedingModel(model_150, 150, vectorize_layer, 2)"
      ],
      "execution_count": 37,
      "outputs": [
        {
          "output_type": "stream",
          "text": [
            "Converted 15593 words (6484 misses)\n",
            "Converted 15593 words (6484 misses)\n",
            "Converted 15593 words (6484 misses)\n"
          ],
          "name": "stdout"
        }
      ]
    },
    {
      "cell_type": "code",
      "metadata": {
        "pycharm": {
          "name": "#%%\n"
        },
        "id": "bW9rKgY39Bt2",
        "colab": {
          "base_uri": "https://localhost:8080/"
        },
        "outputId": "c5e7e904-6145-48cc-d68f-6b7b22633fc5"
      },
      "source": [
        "red_50_2.summary()"
      ],
      "execution_count": 38,
      "outputs": [
        {
          "output_type": "stream",
          "text": [
            "Model: \"model_3\"\n",
            "_________________________________________________________________\n",
            "Layer (type)                 Output Shape              Param #   \n",
            "=================================================================\n",
            "input_4 (InputLayer)         [(None, None)]            0         \n",
            "_________________________________________________________________\n",
            "embedding_3 (Embedding)      (None, None, 50)          1103850   \n",
            "_________________________________________________________________\n",
            "global_average_pooling1d_3 ( (None, 50)                0         \n",
            "_________________________________________________________________\n",
            "dense_6 (Dense)              (None, 80)                4080      \n",
            "_________________________________________________________________\n",
            "dense_7 (Dense)              (None, 250)               20250     \n",
            "_________________________________________________________________\n",
            "dense_8 (Dense)              (None, 6)                 1506      \n",
            "=================================================================\n",
            "Total params: 1,129,686\n",
            "Trainable params: 25,836\n",
            "Non-trainable params: 1,103,850\n",
            "_________________________________________________________________\n"
          ],
          "name": "stdout"
        }
      ]
    },
    {
      "cell_type": "code",
      "metadata": {
        "pycharm": {
          "name": "#%%\n"
        },
        "id": "2BzOS25g9Bt3",
        "colab": {
          "base_uri": "https://localhost:8080/"
        },
        "outputId": "2fc50fee-c843-4656-e4e4-aa8f40417927"
      },
      "source": [
        "red_100_2.summary()"
      ],
      "execution_count": 39,
      "outputs": [
        {
          "output_type": "stream",
          "text": [
            "Model: \"model_4\"\n",
            "_________________________________________________________________\n",
            "Layer (type)                 Output Shape              Param #   \n",
            "=================================================================\n",
            "input_5 (InputLayer)         [(None, None)]            0         \n",
            "_________________________________________________________________\n",
            "embedding_4 (Embedding)      (None, None, 100)         2207700   \n",
            "_________________________________________________________________\n",
            "global_average_pooling1d_4 ( (None, 100)               0         \n",
            "_________________________________________________________________\n",
            "dense_9 (Dense)              (None, 80)                8080      \n",
            "_________________________________________________________________\n",
            "dense_10 (Dense)             (None, 250)               20250     \n",
            "_________________________________________________________________\n",
            "dense_11 (Dense)             (None, 6)                 1506      \n",
            "=================================================================\n",
            "Total params: 2,237,536\n",
            "Trainable params: 29,836\n",
            "Non-trainable params: 2,207,700\n",
            "_________________________________________________________________\n"
          ],
          "name": "stdout"
        }
      ]
    },
    {
      "cell_type": "code",
      "metadata": {
        "pycharm": {
          "name": "#%%\n"
        },
        "id": "m-J0_yKq9Bt3",
        "colab": {
          "base_uri": "https://localhost:8080/"
        },
        "outputId": "51578d35-a6b8-4363-aa28-ddd77aa53ec8"
      },
      "source": [
        "red_150_2.summary()"
      ],
      "execution_count": 40,
      "outputs": [
        {
          "output_type": "stream",
          "text": [
            "Model: \"model_5\"\n",
            "_________________________________________________________________\n",
            "Layer (type)                 Output Shape              Param #   \n",
            "=================================================================\n",
            "input_6 (InputLayer)         [(None, None)]            0         \n",
            "_________________________________________________________________\n",
            "embedding_5 (Embedding)      (None, None, 150)         3311550   \n",
            "_________________________________________________________________\n",
            "global_average_pooling1d_5 ( (None, 150)               0         \n",
            "_________________________________________________________________\n",
            "dense_12 (Dense)             (None, 80)                12080     \n",
            "_________________________________________________________________\n",
            "dense_13 (Dense)             (None, 250)               20250     \n",
            "_________________________________________________________________\n",
            "dense_14 (Dense)             (None, 6)                 1506      \n",
            "=================================================================\n",
            "Total params: 3,345,386\n",
            "Trainable params: 33,836\n",
            "Non-trainable params: 3,311,550\n",
            "_________________________________________________________________\n"
          ],
          "name": "stdout"
        }
      ]
    },
    {
      "cell_type": "code",
      "metadata": {
        "pycharm": {
          "name": "#%%\n"
        },
        "id": "SwuertVm9Bt3"
      },
      "source": [
        "red_50_2.compile(loss='categorical_crossentropy',  optimizer='adam', metrics=['accuracy'])\n",
        "red_100_2.compile(loss='categorical_crossentropy',  optimizer='adam', metrics=['accuracy'])\n",
        "red_150_2.compile(loss='categorical_crossentropy',  optimizer='adam', metrics=['accuracy'])"
      ],
      "execution_count": 41,
      "outputs": []
    },
    {
      "cell_type": "code",
      "metadata": {
        "pycharm": {
          "name": "#%%\n"
        },
        "id": "Z35PR4H_9Bt4",
        "colab": {
          "base_uri": "https://localhost:8080/"
        },
        "outputId": "988513ba-41d7-49eb-937a-191bbe004db1"
      },
      "source": [
        "red_50_2.fit(x_train, y_train, batch_size=batch_size, epochs=epochs, validation_data=(x_val, y_val))"
      ],
      "execution_count": 42,
      "outputs": [
        {
          "output_type": "stream",
          "text": [
            "Epoch 1/10\n",
            "1325/1325 [==============================] - 43s 32ms/step - loss: 1.6898 - accuracy: 0.3916 - val_loss: 1.5559 - val_accuracy: 0.3942\n",
            "Epoch 2/10\n",
            "1325/1325 [==============================] - 43s 32ms/step - loss: 1.5499 - accuracy: 0.3968 - val_loss: 1.5429 - val_accuracy: 0.3942\n",
            "Epoch 3/10\n",
            "1325/1325 [==============================] - 43s 32ms/step - loss: 1.5424 - accuracy: 0.3925 - val_loss: 1.5424 - val_accuracy: 0.3942\n",
            "Epoch 4/10\n",
            "1325/1325 [==============================] - 43s 32ms/step - loss: 1.5381 - accuracy: 0.3983 - val_loss: 1.5424 - val_accuracy: 0.3942\n",
            "Epoch 5/10\n",
            "1325/1325 [==============================] - 43s 33ms/step - loss: 1.5454 - accuracy: 0.3917 - val_loss: 1.5424 - val_accuracy: 0.3942\n",
            "Epoch 6/10\n",
            "1325/1325 [==============================] - 43s 32ms/step - loss: 1.5407 - accuracy: 0.3942 - val_loss: 1.5425 - val_accuracy: 0.3942\n",
            "Epoch 7/10\n",
            "1325/1325 [==============================] - 43s 32ms/step - loss: 1.5344 - accuracy: 0.3983 - val_loss: 1.5423 - val_accuracy: 0.3942\n",
            "Epoch 8/10\n",
            "1325/1325 [==============================] - 43s 33ms/step - loss: 1.5393 - accuracy: 0.3968 - val_loss: 1.5423 - val_accuracy: 0.3942\n",
            "Epoch 9/10\n",
            "1325/1325 [==============================] - 43s 33ms/step - loss: 1.5387 - accuracy: 0.3985 - val_loss: 1.5424 - val_accuracy: 0.3942\n",
            "Epoch 10/10\n",
            "1325/1325 [==============================] - 44s 33ms/step - loss: 1.5427 - accuracy: 0.3943 - val_loss: 1.5423 - val_accuracy: 0.3942\n"
          ],
          "name": "stdout"
        },
        {
          "output_type": "execute_result",
          "data": {
            "text/plain": [
              "<tensorflow.python.keras.callbacks.History at 0x7f61da03ee50>"
            ]
          },
          "metadata": {
            "tags": []
          },
          "execution_count": 42
        }
      ]
    },
    {
      "cell_type": "code",
      "metadata": {
        "pycharm": {
          "name": "#%%\n"
        },
        "id": "5WOfh_Sp9Bt5",
        "colab": {
          "base_uri": "https://localhost:8080/"
        },
        "outputId": "d77ddb3c-c8c7-4eb5-ef04-452cb376a7a3"
      },
      "source": [
        "red_100_2.fit(x_train, y_train, batch_size=batch_size, epochs=epochs, validation_data=(x_val, y_val))"
      ],
      "execution_count": 43,
      "outputs": [
        {
          "output_type": "stream",
          "text": [
            "Epoch 1/10\n",
            "1325/1325 [==============================] - 77s 58ms/step - loss: 1.6890 - accuracy: 0.3901 - val_loss: 1.5561 - val_accuracy: 0.3942\n",
            "Epoch 2/10\n",
            "1325/1325 [==============================] - 77s 58ms/step - loss: 1.5452 - accuracy: 0.3983 - val_loss: 1.5431 - val_accuracy: 0.3942\n",
            "Epoch 3/10\n",
            "1325/1325 [==============================] - 77s 58ms/step - loss: 1.5409 - accuracy: 0.3934 - val_loss: 1.5423 - val_accuracy: 0.3942\n",
            "Epoch 4/10\n",
            "1325/1325 [==============================] - 77s 58ms/step - loss: 1.5407 - accuracy: 0.3972 - val_loss: 1.5424 - val_accuracy: 0.3942\n",
            "Epoch 5/10\n",
            "1325/1325 [==============================] - 77s 58ms/step - loss: 1.5376 - accuracy: 0.3996 - val_loss: 1.5423 - val_accuracy: 0.3942\n",
            "Epoch 6/10\n",
            "1325/1325 [==============================] - 77s 58ms/step - loss: 1.5395 - accuracy: 0.3951 - val_loss: 1.5424 - val_accuracy: 0.3942\n",
            "Epoch 7/10\n",
            "1325/1325 [==============================] - 77s 58ms/step - loss: 1.5430 - accuracy: 0.3928 - val_loss: 1.5424 - val_accuracy: 0.3942\n",
            "Epoch 8/10\n",
            "1325/1325 [==============================] - 77s 58ms/step - loss: 1.5450 - accuracy: 0.3905 - val_loss: 1.5423 - val_accuracy: 0.3942\n",
            "Epoch 9/10\n",
            "1325/1325 [==============================] - 78s 59ms/step - loss: 1.5386 - accuracy: 0.3962 - val_loss: 1.5423 - val_accuracy: 0.3942\n",
            "Epoch 10/10\n",
            "1325/1325 [==============================] - 77s 58ms/step - loss: 1.5362 - accuracy: 0.3985 - val_loss: 1.5423 - val_accuracy: 0.3942\n"
          ],
          "name": "stdout"
        },
        {
          "output_type": "execute_result",
          "data": {
            "text/plain": [
              "<tensorflow.python.keras.callbacks.History at 0x7f61ae6d7fd0>"
            ]
          },
          "metadata": {
            "tags": []
          },
          "execution_count": 43
        }
      ]
    },
    {
      "cell_type": "code",
      "metadata": {
        "pycharm": {
          "name": "#%%\n"
        },
        "id": "F8Ep3mLW9Bt5",
        "colab": {
          "base_uri": "https://localhost:8080/"
        },
        "outputId": "7aef4f53-3f99-4bf8-aa5c-f7045ad99d8e"
      },
      "source": [
        "red_150_2.fit(x_train, y_train, batch_size=batch_size, epochs=epochs, validation_data=(x_val, y_val))\n"
      ],
      "execution_count": 44,
      "outputs": [
        {
          "output_type": "stream",
          "text": [
            "Epoch 1/10\n",
            "1325/1325 [==============================] - 111s 83ms/step - loss: 1.6886 - accuracy: 0.3953 - val_loss: 1.5568 - val_accuracy: 0.3942\n",
            "Epoch 2/10\n",
            "1325/1325 [==============================] - 110s 83ms/step - loss: 1.5499 - accuracy: 0.3955 - val_loss: 1.5430 - val_accuracy: 0.3942\n",
            "Epoch 3/10\n",
            "1325/1325 [==============================] - 111s 84ms/step - loss: 1.5496 - accuracy: 0.3891 - val_loss: 1.5425 - val_accuracy: 0.3942\n",
            "Epoch 4/10\n",
            "1325/1325 [==============================] - 111s 84ms/step - loss: 1.5394 - accuracy: 0.3932 - val_loss: 1.5424 - val_accuracy: 0.3942\n",
            "Epoch 5/10\n",
            "1325/1325 [==============================] - 112s 84ms/step - loss: 1.5448 - accuracy: 0.3951 - val_loss: 1.5423 - val_accuracy: 0.3942\n",
            "Epoch 6/10\n",
            "1325/1325 [==============================] - 112s 84ms/step - loss: 1.5413 - accuracy: 0.3944 - val_loss: 1.5423 - val_accuracy: 0.3942\n",
            "Epoch 7/10\n",
            "1325/1325 [==============================] - 113s 85ms/step - loss: 1.5383 - accuracy: 0.3934 - val_loss: 1.5424 - val_accuracy: 0.3942\n",
            "Epoch 8/10\n",
            "1325/1325 [==============================] - 113s 85ms/step - loss: 1.5364 - accuracy: 0.3969 - val_loss: 1.5423 - val_accuracy: 0.3942\n",
            "Epoch 9/10\n",
            "1325/1325 [==============================] - 113s 85ms/step - loss: 1.5370 - accuracy: 0.3980 - val_loss: 1.5423 - val_accuracy: 0.3942\n",
            "Epoch 10/10\n",
            "1325/1325 [==============================] - 113s 85ms/step - loss: 1.5432 - accuracy: 0.3943 - val_loss: 1.5425 - val_accuracy: 0.3942\n"
          ],
          "name": "stdout"
        },
        {
          "output_type": "execute_result",
          "data": {
            "text/plain": [
              "<tensorflow.python.keras.callbacks.History at 0x7f61ae417dd0>"
            ]
          },
          "metadata": {
            "tags": []
          },
          "execution_count": 44
        }
      ]
    },
    {
      "cell_type": "markdown",
      "metadata": {
        "id": "yv79mRxIMGFG"
      },
      "source": [
        "#### Testing"
      ]
    },
    {
      "cell_type": "code",
      "metadata": {
        "id": "y8UDjd6eMEpY",
        "colab": {
          "base_uri": "https://localhost:8080/"
        },
        "outputId": "c9cf2b63-ac9c-4d6f-ea38-d8f44091017c"
      },
      "source": [
        "get_metrics_by_class(red_50_2, x_test, y_test)"
      ],
      "execution_count": 45,
      "outputs": [
        {
          "output_type": "stream",
          "text": [
            "221/221 [==============================] - 10s 44ms/step\n",
            "              precision    recall  f1-score   support\n",
            "\n",
            "           0       0.00      0.00      0.00      2631\n",
            "           1       0.00      0.00      0.00       598\n",
            "           2       0.39      1.00      0.56      5510\n",
            "           3       0.00      0.00      0.00      2120\n",
            "           4       0.00      0.00      0.00      2666\n",
            "           5       0.00      0.00      0.00       607\n",
            "\n",
            "    accuracy                           0.39     14132\n",
            "   macro avg       0.06      0.17      0.09     14132\n",
            "weighted avg       0.15      0.39      0.22     14132\n",
            "\n"
          ],
          "name": "stdout"
        },
        {
          "output_type": "stream",
          "text": [
            "/usr/local/lib/python3.7/dist-packages/sklearn/metrics/_classification.py:1272: UndefinedMetricWarning: Precision and F-score are ill-defined and being set to 0.0 in labels with no predicted samples. Use `zero_division` parameter to control this behavior.\n",
            "  _warn_prf(average, modifier, msg_start, len(result))\n"
          ],
          "name": "stderr"
        }
      ]
    },
    {
      "cell_type": "code",
      "metadata": {
        "id": "ybkLtru_Ob7J",
        "colab": {
          "base_uri": "https://localhost:8080/"
        },
        "outputId": "8b78f36f-4091-4a14-f27b-2f9d7b5d31f6"
      },
      "source": [
        "get_metrics_by_class(red_100_2, x_test, y_test)"
      ],
      "execution_count": 46,
      "outputs": [
        {
          "output_type": "stream",
          "text": [
            "221/221 [==============================] - 18s 82ms/step\n",
            "              precision    recall  f1-score   support\n",
            "\n",
            "           0       0.00      0.00      0.00      2631\n",
            "           1       0.00      0.00      0.00       598\n",
            "           2       0.39      1.00      0.56      5510\n",
            "           3       0.00      0.00      0.00      2120\n",
            "           4       0.00      0.00      0.00      2666\n",
            "           5       0.00      0.00      0.00       607\n",
            "\n",
            "    accuracy                           0.39     14132\n",
            "   macro avg       0.06      0.17      0.09     14132\n",
            "weighted avg       0.15      0.39      0.22     14132\n",
            "\n"
          ],
          "name": "stdout"
        },
        {
          "output_type": "stream",
          "text": [
            "/usr/local/lib/python3.7/dist-packages/sklearn/metrics/_classification.py:1272: UndefinedMetricWarning: Precision and F-score are ill-defined and being set to 0.0 in labels with no predicted samples. Use `zero_division` parameter to control this behavior.\n",
            "  _warn_prf(average, modifier, msg_start, len(result))\n"
          ],
          "name": "stderr"
        }
      ]
    },
    {
      "cell_type": "code",
      "metadata": {
        "id": "75gEjPLuOdfj",
        "colab": {
          "base_uri": "https://localhost:8080/"
        },
        "outputId": "a53d6054-0e9d-4c3d-b558-bc7e8ed915ac"
      },
      "source": [
        "get_metrics_by_class(red_150_2, x_test, y_test)"
      ],
      "execution_count": 47,
      "outputs": [
        {
          "output_type": "stream",
          "text": [
            "221/221 [==============================] - 26s 120ms/step\n",
            "              precision    recall  f1-score   support\n",
            "\n",
            "           0       0.00      0.00      0.00      2631\n",
            "           1       0.00      0.00      0.00       598\n",
            "           2       0.39      1.00      0.56      5510\n",
            "           3       0.00      0.00      0.00      2120\n",
            "           4       0.00      0.00      0.00      2666\n",
            "           5       0.00      0.00      0.00       607\n",
            "\n",
            "    accuracy                           0.39     14132\n",
            "   macro avg       0.06      0.17      0.09     14132\n",
            "weighted avg       0.15      0.39      0.22     14132\n",
            "\n"
          ],
          "name": "stdout"
        },
        {
          "output_type": "stream",
          "text": [
            "/usr/local/lib/python3.7/dist-packages/sklearn/metrics/_classification.py:1272: UndefinedMetricWarning: Precision and F-score are ill-defined and being set to 0.0 in labels with no predicted samples. Use `zero_division` parameter to control this behavior.\n",
            "  _warn_prf(average, modifier, msg_start, len(result))\n"
          ],
          "name": "stderr"
        }
      ]
    },
    {
      "cell_type": "markdown",
      "metadata": {
        "id": "Hn-WLH11MEzT"
      },
      "source": [
        "#### Training"
      ]
    },
    {
      "cell_type": "code",
      "metadata": {
        "id": "L1I1pdImMEzV",
        "colab": {
          "base_uri": "https://localhost:8080/"
        },
        "outputId": "586e9b76-bb77-407b-810d-0893621cf3c3"
      },
      "source": [
        "get_metrics_by_class(red_50_2, x_train, y_train)"
      ],
      "execution_count": 48,
      "outputs": [
        {
          "output_type": "stream",
          "text": [
            "663/663 [==============================] - 29s 44ms/step\n",
            "              precision    recall  f1-score   support\n",
            "\n",
            "           0       0.00      0.00      0.00      7822\n",
            "           1       0.00      0.00      0.00      1869\n",
            "           2       0.40      1.00      0.57     16769\n",
            "           3       0.00      0.00      0.00      6429\n",
            "           4       0.00      0.00      0.00      7860\n",
            "           5       0.00      0.00      0.00      1645\n",
            "\n",
            "    accuracy                           0.40     42394\n",
            "   macro avg       0.07      0.17      0.09     42394\n",
            "weighted avg       0.16      0.40      0.22     42394\n",
            "\n"
          ],
          "name": "stdout"
        },
        {
          "output_type": "stream",
          "text": [
            "/usr/local/lib/python3.7/dist-packages/sklearn/metrics/_classification.py:1272: UndefinedMetricWarning: Precision and F-score are ill-defined and being set to 0.0 in labels with no predicted samples. Use `zero_division` parameter to control this behavior.\n",
            "  _warn_prf(average, modifier, msg_start, len(result))\n"
          ],
          "name": "stderr"
        }
      ]
    },
    {
      "cell_type": "code",
      "metadata": {
        "id": "KwM-JCOIMEzY",
        "colab": {
          "base_uri": "https://localhost:8080/"
        },
        "outputId": "8d441789-3d34-4f2e-fac4-ecf6228d4d2c"
      },
      "source": [
        "get_metrics_by_class(red_100_2, x_train, y_train)"
      ],
      "execution_count": 49,
      "outputs": [
        {
          "output_type": "stream",
          "text": [
            "663/663 [==============================] - 55s 82ms/step\n",
            "              precision    recall  f1-score   support\n",
            "\n",
            "           0       0.00      0.00      0.00      7822\n",
            "           1       0.00      0.00      0.00      1869\n",
            "           2       0.40      1.00      0.57     16769\n",
            "           3       0.00      0.00      0.00      6429\n",
            "           4       0.00      0.00      0.00      7860\n",
            "           5       0.00      0.00      0.00      1645\n",
            "\n",
            "    accuracy                           0.40     42394\n",
            "   macro avg       0.07      0.17      0.09     42394\n",
            "weighted avg       0.16      0.40      0.22     42394\n",
            "\n"
          ],
          "name": "stdout"
        },
        {
          "output_type": "stream",
          "text": [
            "/usr/local/lib/python3.7/dist-packages/sklearn/metrics/_classification.py:1272: UndefinedMetricWarning: Precision and F-score are ill-defined and being set to 0.0 in labels with no predicted samples. Use `zero_division` parameter to control this behavior.\n",
            "  _warn_prf(average, modifier, msg_start, len(result))\n"
          ],
          "name": "stderr"
        }
      ]
    },
    {
      "cell_type": "code",
      "metadata": {
        "id": "8eQ4pUYMMEza",
        "colab": {
          "base_uri": "https://localhost:8080/"
        },
        "outputId": "701fd6c4-73b7-4384-ff17-e0a133b6f4d9"
      },
      "source": [
        "get_metrics_by_class(red_150_2, x_train, y_train)"
      ],
      "execution_count": 50,
      "outputs": [
        {
          "output_type": "stream",
          "text": [
            "663/663 [==============================] - 79s 119ms/step\n",
            "              precision    recall  f1-score   support\n",
            "\n",
            "           0       0.00      0.00      0.00      7822\n",
            "           1       0.00      0.00      0.00      1869\n",
            "           2       0.40      1.00      0.57     16769\n",
            "           3       0.00      0.00      0.00      6429\n",
            "           4       0.00      0.00      0.00      7860\n",
            "           5       0.00      0.00      0.00      1645\n",
            "\n",
            "    accuracy                           0.40     42394\n",
            "   macro avg       0.07      0.17      0.09     42394\n",
            "weighted avg       0.16      0.40      0.22     42394\n",
            "\n"
          ],
          "name": "stdout"
        },
        {
          "output_type": "stream",
          "text": [
            "/usr/local/lib/python3.7/dist-packages/sklearn/metrics/_classification.py:1272: UndefinedMetricWarning: Precision and F-score are ill-defined and being set to 0.0 in labels with no predicted samples. Use `zero_division` parameter to control this behavior.\n",
            "  _warn_prf(average, modifier, msg_start, len(result))\n"
          ],
          "name": "stderr"
        }
      ]
    },
    {
      "cell_type": "markdown",
      "metadata": {
        "id": "duBkPl-uMEzb"
      },
      "source": [
        "#### Validation"
      ]
    },
    {
      "cell_type": "code",
      "metadata": {
        "id": "2HjG4JJhMEzc",
        "colab": {
          "base_uri": "https://localhost:8080/"
        },
        "outputId": "6d553295-daf8-45d6-ecae-b1e83ccaa43c"
      },
      "source": [
        "get_metrics_by_class(red_50_2, x_val, y_val)"
      ],
      "execution_count": 51,
      "outputs": [
        {
          "output_type": "stream",
          "text": [
            "221/221 [==============================] - 10s 44ms/step\n",
            "              precision    recall  f1-score   support\n",
            "\n",
            "           0       0.00      0.00      0.00      2542\n",
            "           1       0.00      0.00      0.00       610\n",
            "           2       0.39      1.00      0.57      5571\n",
            "           3       0.00      0.00      0.00      2207\n",
            "           4       0.00      0.00      0.00      2646\n",
            "           5       0.00      0.00      0.00       556\n",
            "\n",
            "    accuracy                           0.39     14132\n",
            "   macro avg       0.07      0.17      0.09     14132\n",
            "weighted avg       0.16      0.39      0.22     14132\n",
            "\n"
          ],
          "name": "stdout"
        },
        {
          "output_type": "stream",
          "text": [
            "/usr/local/lib/python3.7/dist-packages/sklearn/metrics/_classification.py:1272: UndefinedMetricWarning: Precision and F-score are ill-defined and being set to 0.0 in labels with no predicted samples. Use `zero_division` parameter to control this behavior.\n",
            "  _warn_prf(average, modifier, msg_start, len(result))\n"
          ],
          "name": "stderr"
        }
      ]
    },
    {
      "cell_type": "code",
      "metadata": {
        "id": "exxpsPziMEze",
        "colab": {
          "base_uri": "https://localhost:8080/"
        },
        "outputId": "aa17a36b-f614-4345-e0cb-00a860d17f0d"
      },
      "source": [
        "get_metrics_by_class(red_100_2, x_val, y_val)\n"
      ],
      "execution_count": 52,
      "outputs": [
        {
          "output_type": "stream",
          "text": [
            "221/221 [==============================] - 18s 82ms/step\n",
            "              precision    recall  f1-score   support\n",
            "\n",
            "           0       0.00      0.00      0.00      2542\n",
            "           1       0.00      0.00      0.00       610\n",
            "           2       0.39      1.00      0.57      5571\n",
            "           3       0.00      0.00      0.00      2207\n",
            "           4       0.00      0.00      0.00      2646\n",
            "           5       0.00      0.00      0.00       556\n",
            "\n",
            "    accuracy                           0.39     14132\n",
            "   macro avg       0.07      0.17      0.09     14132\n",
            "weighted avg       0.16      0.39      0.22     14132\n",
            "\n"
          ],
          "name": "stdout"
        },
        {
          "output_type": "stream",
          "text": [
            "/usr/local/lib/python3.7/dist-packages/sklearn/metrics/_classification.py:1272: UndefinedMetricWarning: Precision and F-score are ill-defined and being set to 0.0 in labels with no predicted samples. Use `zero_division` parameter to control this behavior.\n",
            "  _warn_prf(average, modifier, msg_start, len(result))\n"
          ],
          "name": "stderr"
        }
      ]
    },
    {
      "cell_type": "code",
      "metadata": {
        "id": "NB9YntylMEzf",
        "colab": {
          "base_uri": "https://localhost:8080/"
        },
        "outputId": "ba795ab6-5f61-4e3e-948b-7ec4106b4d8b"
      },
      "source": [
        "get_metrics_by_class(red_150_2, x_val, y_val)"
      ],
      "execution_count": 53,
      "outputs": [
        {
          "output_type": "stream",
          "text": [
            "221/221 [==============================] - 26s 120ms/step\n",
            "              precision    recall  f1-score   support\n",
            "\n",
            "           0       0.00      0.00      0.00      2542\n",
            "           1       0.00      0.00      0.00       610\n",
            "           2       0.39      1.00      0.57      5571\n",
            "           3       0.00      0.00      0.00      2207\n",
            "           4       0.00      0.00      0.00      2646\n",
            "           5       0.00      0.00      0.00       556\n",
            "\n",
            "    accuracy                           0.39     14132\n",
            "   macro avg       0.07      0.17      0.09     14132\n",
            "weighted avg       0.16      0.39      0.22     14132\n",
            "\n"
          ],
          "name": "stdout"
        },
        {
          "output_type": "stream",
          "text": [
            "/usr/local/lib/python3.7/dist-packages/sklearn/metrics/_classification.py:1272: UndefinedMetricWarning: Precision and F-score are ill-defined and being set to 0.0 in labels with no predicted samples. Use `zero_division` parameter to control this behavior.\n",
            "  _warn_prf(average, modifier, msg_start, len(result))\n"
          ],
          "name": "stderr"
        }
      ]
    },
    {
      "cell_type": "markdown",
      "metadata": {
        "id": "BOD_a6Ao9Bt6"
      },
      "source": [
        "### Third Architecture"
      ]
    },
    {
      "cell_type": "code",
      "metadata": {
        "id": "vNr4vJII9Bt6",
        "colab": {
          "base_uri": "https://localhost:8080/"
        },
        "outputId": "6982ffd9-02e9-4cf0-c84c-535f082b2163"
      },
      "source": [
        "red_50_3 = generatePreEmbbedingModel(model_50, 50, vectorize_layer, 3)\n",
        "red_100_3 = generatePreEmbbedingModel(model_100, 100, vectorize_layer, 3)\n",
        "red_150_3 = generatePreEmbbedingModel(model_150, 150, vectorize_layer, 3)"
      ],
      "execution_count": 54,
      "outputs": [
        {
          "output_type": "stream",
          "text": [
            "Converted 15593 words (6484 misses)\n",
            "Converted 15593 words (6484 misses)\n",
            "Converted 15593 words (6484 misses)\n"
          ],
          "name": "stdout"
        }
      ]
    },
    {
      "cell_type": "code",
      "metadata": {
        "id": "yl6GjD_L9Bt6",
        "colab": {
          "base_uri": "https://localhost:8080/"
        },
        "outputId": "b9c8ac5c-6842-484e-bdd1-98ff478b98ef"
      },
      "source": [
        "red_50_3.summary()"
      ],
      "execution_count": 55,
      "outputs": [
        {
          "output_type": "stream",
          "text": [
            "Model: \"model_6\"\n",
            "_________________________________________________________________\n",
            "Layer (type)                 Output Shape              Param #   \n",
            "=================================================================\n",
            "input_7 (InputLayer)         [(None, None)]            0         \n",
            "_________________________________________________________________\n",
            "embedding_6 (Embedding)      (None, None, 50)          1103850   \n",
            "_________________________________________________________________\n",
            "global_average_pooling1d_6 ( (None, 50)                0         \n",
            "_________________________________________________________________\n",
            "dense_15 (Dense)             (None, 80)                4080      \n",
            "_________________________________________________________________\n",
            "dropout (Dropout)            (None, 80)                0         \n",
            "_________________________________________________________________\n",
            "batch_normalization (BatchNo (None, 80)                320       \n",
            "_________________________________________________________________\n",
            "dense_16 (Dense)             (None, 250)               20250     \n",
            "_________________________________________________________________\n",
            "dropout_1 (Dropout)          (None, 250)               0         \n",
            "_________________________________________________________________\n",
            "dense_17 (Dense)             (None, 6)                 1506      \n",
            "=================================================================\n",
            "Total params: 1,130,006\n",
            "Trainable params: 25,996\n",
            "Non-trainable params: 1,104,010\n",
            "_________________________________________________________________\n"
          ],
          "name": "stdout"
        }
      ]
    },
    {
      "cell_type": "code",
      "metadata": {
        "id": "3b6D-LPt9Bt7",
        "colab": {
          "base_uri": "https://localhost:8080/"
        },
        "outputId": "eb1bc510-60bc-46fc-9a09-5629019a9070"
      },
      "source": [
        "red_100_3.summary()"
      ],
      "execution_count": 56,
      "outputs": [
        {
          "output_type": "stream",
          "text": [
            "Model: \"model_7\"\n",
            "_________________________________________________________________\n",
            "Layer (type)                 Output Shape              Param #   \n",
            "=================================================================\n",
            "input_8 (InputLayer)         [(None, None)]            0         \n",
            "_________________________________________________________________\n",
            "embedding_7 (Embedding)      (None, None, 100)         2207700   \n",
            "_________________________________________________________________\n",
            "global_average_pooling1d_7 ( (None, 100)               0         \n",
            "_________________________________________________________________\n",
            "dense_18 (Dense)             (None, 80)                8080      \n",
            "_________________________________________________________________\n",
            "dropout_2 (Dropout)          (None, 80)                0         \n",
            "_________________________________________________________________\n",
            "batch_normalization_1 (Batch (None, 80)                320       \n",
            "_________________________________________________________________\n",
            "dense_19 (Dense)             (None, 250)               20250     \n",
            "_________________________________________________________________\n",
            "dropout_3 (Dropout)          (None, 250)               0         \n",
            "_________________________________________________________________\n",
            "dense_20 (Dense)             (None, 6)                 1506      \n",
            "=================================================================\n",
            "Total params: 2,237,856\n",
            "Trainable params: 29,996\n",
            "Non-trainable params: 2,207,860\n",
            "_________________________________________________________________\n"
          ],
          "name": "stdout"
        }
      ]
    },
    {
      "cell_type": "code",
      "metadata": {
        "id": "Qdt4QQfC9Bt7",
        "colab": {
          "base_uri": "https://localhost:8080/"
        },
        "outputId": "258f36ee-34f9-4cf8-da24-fb92b6398f2f"
      },
      "source": [
        "red_150_3.summary()"
      ],
      "execution_count": 57,
      "outputs": [
        {
          "output_type": "stream",
          "text": [
            "Model: \"model_8\"\n",
            "_________________________________________________________________\n",
            "Layer (type)                 Output Shape              Param #   \n",
            "=================================================================\n",
            "input_9 (InputLayer)         [(None, None)]            0         \n",
            "_________________________________________________________________\n",
            "embedding_8 (Embedding)      (None, None, 150)         3311550   \n",
            "_________________________________________________________________\n",
            "global_average_pooling1d_8 ( (None, 150)               0         \n",
            "_________________________________________________________________\n",
            "dense_21 (Dense)             (None, 80)                12080     \n",
            "_________________________________________________________________\n",
            "dropout_4 (Dropout)          (None, 80)                0         \n",
            "_________________________________________________________________\n",
            "batch_normalization_2 (Batch (None, 80)                320       \n",
            "_________________________________________________________________\n",
            "dense_22 (Dense)             (None, 250)               20250     \n",
            "_________________________________________________________________\n",
            "dropout_5 (Dropout)          (None, 250)               0         \n",
            "_________________________________________________________________\n",
            "dense_23 (Dense)             (None, 6)                 1506      \n",
            "=================================================================\n",
            "Total params: 3,345,706\n",
            "Trainable params: 33,996\n",
            "Non-trainable params: 3,311,710\n",
            "_________________________________________________________________\n"
          ],
          "name": "stdout"
        }
      ]
    },
    {
      "cell_type": "code",
      "metadata": {
        "id": "lB2Guh-N9Bt7"
      },
      "source": [
        "red_50_3.compile(loss='categorical_crossentropy',  optimizer='adam', metrics=['accuracy'])\n",
        "red_100_3.compile(loss='categorical_crossentropy',  optimizer='adam', metrics=['accuracy'])\n",
        "red_150_3.compile(loss='categorical_crossentropy',  optimizer='adam', metrics=['accuracy'])"
      ],
      "execution_count": 58,
      "outputs": []
    },
    {
      "cell_type": "code",
      "metadata": {
        "id": "QwQzPNiN9Bt8",
        "colab": {
          "base_uri": "https://localhost:8080/"
        },
        "outputId": "df9e0489-9999-4697-8222-aa69740404e2"
      },
      "source": [
        "red_50_3.fit(x_train, y_train, batch_size=batch_size, epochs=epochs, validation_data=(x_val, y_val))"
      ],
      "execution_count": 59,
      "outputs": [
        {
          "output_type": "stream",
          "text": [
            "Epoch 1/10\n",
            "1325/1325 [==============================] - 46s 34ms/step - loss: 1.6901 - accuracy: 0.4019 - val_loss: 1.5575 - val_accuracy: 0.3942\n",
            "Epoch 2/10\n",
            "1325/1325 [==============================] - 45s 34ms/step - loss: 1.5529 - accuracy: 0.3916 - val_loss: 1.5430 - val_accuracy: 0.3942\n",
            "Epoch 3/10\n",
            "1325/1325 [==============================] - 45s 34ms/step - loss: 1.5460 - accuracy: 0.3935 - val_loss: 1.5423 - val_accuracy: 0.3942\n",
            "Epoch 4/10\n",
            "1325/1325 [==============================] - 45s 34ms/step - loss: 1.5427 - accuracy: 0.3935 - val_loss: 1.5423 - val_accuracy: 0.3942\n",
            "Epoch 5/10\n",
            "1325/1325 [==============================] - 45s 34ms/step - loss: 1.5337 - accuracy: 0.3983 - val_loss: 1.5424 - val_accuracy: 0.3942\n",
            "Epoch 6/10\n",
            "1325/1325 [==============================] - 45s 34ms/step - loss: 1.5372 - accuracy: 0.3971 - val_loss: 1.5423 - val_accuracy: 0.3942\n",
            "Epoch 7/10\n",
            "1325/1325 [==============================] - 45s 34ms/step - loss: 1.5431 - accuracy: 0.3944 - val_loss: 1.5424 - val_accuracy: 0.3942\n",
            "Epoch 8/10\n",
            "1325/1325 [==============================] - 45s 34ms/step - loss: 1.5399 - accuracy: 0.3940 - val_loss: 1.5423 - val_accuracy: 0.3942\n",
            "Epoch 9/10\n",
            "1325/1325 [==============================] - 46s 34ms/step - loss: 1.5408 - accuracy: 0.3947 - val_loss: 1.5422 - val_accuracy: 0.3942\n",
            "Epoch 10/10\n",
            "1325/1325 [==============================] - 45s 34ms/step - loss: 1.5417 - accuracy: 0.3944 - val_loss: 1.5422 - val_accuracy: 0.3942\n"
          ],
          "name": "stdout"
        },
        {
          "output_type": "execute_result",
          "data": {
            "text/plain": [
              "<tensorflow.python.keras.callbacks.History at 0x7f61dcbf1dd0>"
            ]
          },
          "metadata": {
            "tags": []
          },
          "execution_count": 59
        }
      ]
    },
    {
      "cell_type": "code",
      "metadata": {
        "id": "N20vICwm9Bt8",
        "colab": {
          "base_uri": "https://localhost:8080/"
        },
        "outputId": "38cd7da3-8bd4-4123-c568-74235af5869a"
      },
      "source": [
        "red_100_3.fit(x_train, y_train, batch_size=batch_size, epochs=epochs, validation_data=(x_val, y_val))"
      ],
      "execution_count": 60,
      "outputs": [
        {
          "output_type": "stream",
          "text": [
            "Epoch 1/10\n",
            "1325/1325 [==============================] - 79s 59ms/step - loss: 1.6896 - accuracy: 0.3937 - val_loss: 1.5561 - val_accuracy: 0.3942\n",
            "Epoch 2/10\n",
            "1325/1325 [==============================] - 78s 59ms/step - loss: 1.5463 - accuracy: 0.3986 - val_loss: 1.5430 - val_accuracy: 0.3942\n",
            "Epoch 3/10\n",
            "1325/1325 [==============================] - 78s 59ms/step - loss: 1.5410 - accuracy: 0.3956 - val_loss: 1.5423 - val_accuracy: 0.3942\n",
            "Epoch 4/10\n",
            "1325/1325 [==============================] - 78s 59ms/step - loss: 1.5467 - accuracy: 0.3926 - val_loss: 1.5424 - val_accuracy: 0.3942\n",
            "Epoch 5/10\n",
            "1325/1325 [==============================] - 78s 59ms/step - loss: 1.5424 - accuracy: 0.3973 - val_loss: 1.5423 - val_accuracy: 0.3942\n",
            "Epoch 6/10\n",
            "1325/1325 [==============================] - 78s 59ms/step - loss: 1.5408 - accuracy: 0.3935 - val_loss: 1.5424 - val_accuracy: 0.3942\n",
            "Epoch 7/10\n",
            "1325/1325 [==============================] - 78s 59ms/step - loss: 1.5417 - accuracy: 0.3952 - val_loss: 1.5424 - val_accuracy: 0.3942\n",
            "Epoch 8/10\n",
            "1325/1325 [==============================] - 78s 59ms/step - loss: 1.5413 - accuracy: 0.3953 - val_loss: 1.5424 - val_accuracy: 0.3942\n",
            "Epoch 9/10\n",
            "1325/1325 [==============================] - 78s 59ms/step - loss: 1.5419 - accuracy: 0.3937 - val_loss: 1.5423 - val_accuracy: 0.3942\n",
            "Epoch 10/10\n",
            "1325/1325 [==============================] - 78s 59ms/step - loss: 1.5410 - accuracy: 0.3949 - val_loss: 1.5423 - val_accuracy: 0.3942\n"
          ],
          "name": "stdout"
        },
        {
          "output_type": "execute_result",
          "data": {
            "text/plain": [
              "<tensorflow.python.keras.callbacks.History at 0x7f616c7dded0>"
            ]
          },
          "metadata": {
            "tags": []
          },
          "execution_count": 60
        }
      ]
    },
    {
      "cell_type": "code",
      "metadata": {
        "id": "UYKNpAZa9Bt8",
        "colab": {
          "base_uri": "https://localhost:8080/"
        },
        "outputId": "2e838ef1-74ef-42f7-ddc8-17ffb9fde4e0"
      },
      "source": [
        "red_150_3.fit(x_train, y_train, batch_size=batch_size, epochs=epochs, validation_data=(x_val, y_val))"
      ],
      "execution_count": 61,
      "outputs": [
        {
          "output_type": "stream",
          "text": [
            "Epoch 1/10\n",
            "1325/1325 [==============================] - 114s 86ms/step - loss: 1.6899 - accuracy: 0.3943 - val_loss: 1.5564 - val_accuracy: 0.3942\n",
            "Epoch 2/10\n",
            "1325/1325 [==============================] - 113s 85ms/step - loss: 1.5501 - accuracy: 0.3930 - val_loss: 1.5433 - val_accuracy: 0.3942\n",
            "Epoch 3/10\n",
            "1325/1325 [==============================] - 111s 84ms/step - loss: 1.5444 - accuracy: 0.3939 - val_loss: 1.5424 - val_accuracy: 0.3942\n",
            "Epoch 4/10\n",
            "1325/1325 [==============================] - 111s 84ms/step - loss: 1.5413 - accuracy: 0.3966 - val_loss: 1.5424 - val_accuracy: 0.3942\n",
            "Epoch 5/10\n",
            "1325/1325 [==============================] - 111s 84ms/step - loss: 1.5418 - accuracy: 0.3958 - val_loss: 1.5423 - val_accuracy: 0.3942\n",
            "Epoch 6/10\n",
            "1325/1325 [==============================] - 113s 85ms/step - loss: 1.5430 - accuracy: 0.3969 - val_loss: 1.5422 - val_accuracy: 0.3942\n",
            "Epoch 7/10\n",
            "1325/1325 [==============================] - 113s 85ms/step - loss: 1.5428 - accuracy: 0.3942 - val_loss: 1.5423 - val_accuracy: 0.3942\n",
            "Epoch 8/10\n",
            "1325/1325 [==============================] - 114s 86ms/step - loss: 1.5403 - accuracy: 0.3945 - val_loss: 1.5424 - val_accuracy: 0.3942\n",
            "Epoch 9/10\n",
            "1325/1325 [==============================] - 113s 86ms/step - loss: 1.5355 - accuracy: 0.3976 - val_loss: 1.5422 - val_accuracy: 0.3942\n",
            "Epoch 10/10\n",
            "1325/1325 [==============================] - 114s 86ms/step - loss: 1.5388 - accuracy: 0.3965 - val_loss: 1.5422 - val_accuracy: 0.3942\n"
          ],
          "name": "stdout"
        },
        {
          "output_type": "execute_result",
          "data": {
            "text/plain": [
              "<tensorflow.python.keras.callbacks.History at 0x7f61ae7ebf50>"
            ]
          },
          "metadata": {
            "tags": []
          },
          "execution_count": 61
        }
      ]
    },
    {
      "cell_type": "markdown",
      "metadata": {
        "id": "DUwuMH8kMjHs"
      },
      "source": [
        "#### Testing"
      ]
    },
    {
      "cell_type": "code",
      "metadata": {
        "id": "Mb1FPlpbOjxj",
        "colab": {
          "base_uri": "https://localhost:8080/"
        },
        "outputId": "55b31006-50e1-4287-c97d-9f8fda1fbe35"
      },
      "source": [
        "get_metrics_by_class(red_50_3, x_test, y_test)"
      ],
      "execution_count": 62,
      "outputs": [
        {
          "output_type": "stream",
          "text": [
            "221/221 [==============================] - 10s 44ms/step\n",
            "              precision    recall  f1-score   support\n",
            "\n",
            "           0       0.00      0.00      0.00      2631\n",
            "           1       0.00      0.00      0.00       598\n",
            "           2       0.39      1.00      0.56      5510\n",
            "           3       0.00      0.00      0.00      2120\n",
            "           4       0.00      0.00      0.00      2666\n",
            "           5       0.00      0.00      0.00       607\n",
            "\n",
            "    accuracy                           0.39     14132\n",
            "   macro avg       0.06      0.17      0.09     14132\n",
            "weighted avg       0.15      0.39      0.22     14132\n",
            "\n"
          ],
          "name": "stdout"
        },
        {
          "output_type": "stream",
          "text": [
            "/usr/local/lib/python3.7/dist-packages/sklearn/metrics/_classification.py:1272: UndefinedMetricWarning: Precision and F-score are ill-defined and being set to 0.0 in labels with no predicted samples. Use `zero_division` parameter to control this behavior.\n",
            "  _warn_prf(average, modifier, msg_start, len(result))\n"
          ],
          "name": "stderr"
        }
      ]
    },
    {
      "cell_type": "code",
      "metadata": {
        "id": "uDf3rbO-Ojxk",
        "colab": {
          "base_uri": "https://localhost:8080/"
        },
        "outputId": "3806e177-03be-45c9-eb09-1a77f5c20830"
      },
      "source": [
        "get_metrics_by_class(red_100_3, x_test, y_test)"
      ],
      "execution_count": 63,
      "outputs": [
        {
          "output_type": "stream",
          "text": [
            "221/221 [==============================] - 18s 83ms/step\n",
            "              precision    recall  f1-score   support\n",
            "\n",
            "           0       0.00      0.00      0.00      2631\n",
            "           1       0.00      0.00      0.00       598\n",
            "           2       0.39      1.00      0.56      5510\n",
            "           3       0.00      0.00      0.00      2120\n",
            "           4       0.00      0.00      0.00      2666\n",
            "           5       0.00      0.00      0.00       607\n",
            "\n",
            "    accuracy                           0.39     14132\n",
            "   macro avg       0.06      0.17      0.09     14132\n",
            "weighted avg       0.15      0.39      0.22     14132\n",
            "\n"
          ],
          "name": "stdout"
        },
        {
          "output_type": "stream",
          "text": [
            "/usr/local/lib/python3.7/dist-packages/sklearn/metrics/_classification.py:1272: UndefinedMetricWarning: Precision and F-score are ill-defined and being set to 0.0 in labels with no predicted samples. Use `zero_division` parameter to control this behavior.\n",
            "  _warn_prf(average, modifier, msg_start, len(result))\n"
          ],
          "name": "stderr"
        }
      ]
    },
    {
      "cell_type": "code",
      "metadata": {
        "id": "ZOCtmJ8XOjxk",
        "colab": {
          "base_uri": "https://localhost:8080/"
        },
        "outputId": "b9095f48-28d4-48ae-d2ec-adb3317d1aa3"
      },
      "source": [
        "get_metrics_by_class(red_150_3, x_test, y_test)"
      ],
      "execution_count": 64,
      "outputs": [
        {
          "output_type": "stream",
          "text": [
            "221/221 [==============================] - 27s 120ms/step\n",
            "              precision    recall  f1-score   support\n",
            "\n",
            "           0       0.00      0.00      0.00      2631\n",
            "           1       0.00      0.00      0.00       598\n",
            "           2       0.39      1.00      0.56      5510\n",
            "           3       0.00      0.00      0.00      2120\n",
            "           4       0.00      0.00      0.00      2666\n",
            "           5       0.00      0.00      0.00       607\n",
            "\n",
            "    accuracy                           0.39     14132\n",
            "   macro avg       0.06      0.17      0.09     14132\n",
            "weighted avg       0.15      0.39      0.22     14132\n",
            "\n"
          ],
          "name": "stdout"
        },
        {
          "output_type": "stream",
          "text": [
            "/usr/local/lib/python3.7/dist-packages/sklearn/metrics/_classification.py:1272: UndefinedMetricWarning: Precision and F-score are ill-defined and being set to 0.0 in labels with no predicted samples. Use `zero_division` parameter to control this behavior.\n",
            "  _warn_prf(average, modifier, msg_start, len(result))\n"
          ],
          "name": "stderr"
        }
      ]
    },
    {
      "cell_type": "markdown",
      "metadata": {
        "id": "Wdy5hRlTMjHu"
      },
      "source": [
        "#### Training"
      ]
    },
    {
      "cell_type": "code",
      "metadata": {
        "id": "HKQ35BTgMjHv",
        "colab": {
          "base_uri": "https://localhost:8080/"
        },
        "outputId": "313490ba-f80e-4eee-e876-a4158bcfc922"
      },
      "source": [
        "get_metrics_by_class(red_50_3, x_train, y_train)"
      ],
      "execution_count": 65,
      "outputs": [
        {
          "output_type": "stream",
          "text": [
            "663/663 [==============================] - 29s 44ms/step\n",
            "              precision    recall  f1-score   support\n",
            "\n",
            "           0       0.00      0.00      0.00      7822\n",
            "           1       0.00      0.00      0.00      1869\n",
            "           2       0.40      1.00      0.57     16769\n",
            "           3       0.00      0.00      0.00      6429\n",
            "           4       0.00      0.00      0.00      7860\n",
            "           5       0.00      0.00      0.00      1645\n",
            "\n",
            "    accuracy                           0.40     42394\n",
            "   macro avg       0.07      0.17      0.09     42394\n",
            "weighted avg       0.16      0.40      0.22     42394\n",
            "\n"
          ],
          "name": "stdout"
        },
        {
          "output_type": "stream",
          "text": [
            "/usr/local/lib/python3.7/dist-packages/sklearn/metrics/_classification.py:1272: UndefinedMetricWarning: Precision and F-score are ill-defined and being set to 0.0 in labels with no predicted samples. Use `zero_division` parameter to control this behavior.\n",
            "  _warn_prf(average, modifier, msg_start, len(result))\n"
          ],
          "name": "stderr"
        }
      ]
    },
    {
      "cell_type": "code",
      "metadata": {
        "id": "9Ovm1pITMjHw",
        "colab": {
          "base_uri": "https://localhost:8080/"
        },
        "outputId": "6dad72b1-746e-4691-ae35-60aba875c448"
      },
      "source": [
        "get_metrics_by_class(red_100_3, x_train, y_train)"
      ],
      "execution_count": 66,
      "outputs": [
        {
          "output_type": "stream",
          "text": [
            "663/663 [==============================] - 55s 83ms/step\n",
            "              precision    recall  f1-score   support\n",
            "\n",
            "           0       0.00      0.00      0.00      7822\n",
            "           1       0.00      0.00      0.00      1869\n",
            "           2       0.40      1.00      0.57     16769\n",
            "           3       0.00      0.00      0.00      6429\n",
            "           4       0.00      0.00      0.00      7860\n",
            "           5       0.00      0.00      0.00      1645\n",
            "\n",
            "    accuracy                           0.40     42394\n",
            "   macro avg       0.07      0.17      0.09     42394\n",
            "weighted avg       0.16      0.40      0.22     42394\n",
            "\n"
          ],
          "name": "stdout"
        },
        {
          "output_type": "stream",
          "text": [
            "/usr/local/lib/python3.7/dist-packages/sklearn/metrics/_classification.py:1272: UndefinedMetricWarning: Precision and F-score are ill-defined and being set to 0.0 in labels with no predicted samples. Use `zero_division` parameter to control this behavior.\n",
            "  _warn_prf(average, modifier, msg_start, len(result))\n"
          ],
          "name": "stderr"
        }
      ]
    },
    {
      "cell_type": "code",
      "metadata": {
        "id": "zgB7GzMVMjHx",
        "colab": {
          "base_uri": "https://localhost:8080/"
        },
        "outputId": "a9626621-8318-4a76-b044-e31b0caccf12"
      },
      "source": [
        "get_metrics_by_class(red_150_3, x_train, y_train)"
      ],
      "execution_count": 67,
      "outputs": [
        {
          "output_type": "stream",
          "text": [
            "663/663 [==============================] - 79s 120ms/step\n",
            "              precision    recall  f1-score   support\n",
            "\n",
            "           0       0.00      0.00      0.00      7822\n",
            "           1       0.00      0.00      0.00      1869\n",
            "           2       0.40      1.00      0.57     16769\n",
            "           3       0.00      0.00      0.00      6429\n",
            "           4       0.00      0.00      0.00      7860\n",
            "           5       0.00      0.00      0.00      1645\n",
            "\n",
            "    accuracy                           0.40     42394\n",
            "   macro avg       0.07      0.17      0.09     42394\n",
            "weighted avg       0.16      0.40      0.22     42394\n",
            "\n"
          ],
          "name": "stdout"
        },
        {
          "output_type": "stream",
          "text": [
            "/usr/local/lib/python3.7/dist-packages/sklearn/metrics/_classification.py:1272: UndefinedMetricWarning: Precision and F-score are ill-defined and being set to 0.0 in labels with no predicted samples. Use `zero_division` parameter to control this behavior.\n",
            "  _warn_prf(average, modifier, msg_start, len(result))\n"
          ],
          "name": "stderr"
        }
      ]
    },
    {
      "cell_type": "markdown",
      "metadata": {
        "id": "COmP4j7DMjHy"
      },
      "source": [
        "#### Validation"
      ]
    },
    {
      "cell_type": "code",
      "metadata": {
        "id": "SHVz-YZzMjHz",
        "colab": {
          "base_uri": "https://localhost:8080/"
        },
        "outputId": "18472a26-1154-417f-c773-b67a2bd14794"
      },
      "source": [
        "get_metrics_by_class(red_50_3, x_val, y_val)"
      ],
      "execution_count": 68,
      "outputs": [
        {
          "output_type": "stream",
          "text": [
            "221/221 [==============================] - 10s 44ms/step\n",
            "              precision    recall  f1-score   support\n",
            "\n",
            "           0       0.00      0.00      0.00      2542\n",
            "           1       0.00      0.00      0.00       610\n",
            "           2       0.39      1.00      0.57      5571\n",
            "           3       0.00      0.00      0.00      2207\n",
            "           4       0.00      0.00      0.00      2646\n",
            "           5       0.00      0.00      0.00       556\n",
            "\n",
            "    accuracy                           0.39     14132\n",
            "   macro avg       0.07      0.17      0.09     14132\n",
            "weighted avg       0.16      0.39      0.22     14132\n",
            "\n"
          ],
          "name": "stdout"
        },
        {
          "output_type": "stream",
          "text": [
            "/usr/local/lib/python3.7/dist-packages/sklearn/metrics/_classification.py:1272: UndefinedMetricWarning: Precision and F-score are ill-defined and being set to 0.0 in labels with no predicted samples. Use `zero_division` parameter to control this behavior.\n",
            "  _warn_prf(average, modifier, msg_start, len(result))\n"
          ],
          "name": "stderr"
        }
      ]
    },
    {
      "cell_type": "code",
      "metadata": {
        "id": "FUZ1t1gfMjH0",
        "colab": {
          "base_uri": "https://localhost:8080/"
        },
        "outputId": "2c812e5d-3e0b-4f0f-92c7-5c999eecf161"
      },
      "source": [
        "get_metrics_by_class(red_100_3, x_val, y_val)\n"
      ],
      "execution_count": 69,
      "outputs": [
        {
          "output_type": "stream",
          "text": [
            "221/221 [==============================] - 18s 83ms/step\n",
            "              precision    recall  f1-score   support\n",
            "\n",
            "           0       0.00      0.00      0.00      2542\n",
            "           1       0.00      0.00      0.00       610\n",
            "           2       0.39      1.00      0.57      5571\n",
            "           3       0.00      0.00      0.00      2207\n",
            "           4       0.00      0.00      0.00      2646\n",
            "           5       0.00      0.00      0.00       556\n",
            "\n",
            "    accuracy                           0.39     14132\n",
            "   macro avg       0.07      0.17      0.09     14132\n",
            "weighted avg       0.16      0.39      0.22     14132\n",
            "\n"
          ],
          "name": "stdout"
        },
        {
          "output_type": "stream",
          "text": [
            "/usr/local/lib/python3.7/dist-packages/sklearn/metrics/_classification.py:1272: UndefinedMetricWarning: Precision and F-score are ill-defined and being set to 0.0 in labels with no predicted samples. Use `zero_division` parameter to control this behavior.\n",
            "  _warn_prf(average, modifier, msg_start, len(result))\n"
          ],
          "name": "stderr"
        }
      ]
    },
    {
      "cell_type": "code",
      "metadata": {
        "id": "A7IB5AzoMjH1",
        "colab": {
          "base_uri": "https://localhost:8080/"
        },
        "outputId": "946eeba9-7304-401a-b0a1-a1d034afc3c9"
      },
      "source": [
        "get_metrics_by_class(red_150_3, x_val, y_val)"
      ],
      "execution_count": 70,
      "outputs": [
        {
          "output_type": "stream",
          "text": [
            "221/221 [==============================] - 27s 120ms/step\n",
            "              precision    recall  f1-score   support\n",
            "\n",
            "           0       0.00      0.00      0.00      2542\n",
            "           1       0.00      0.00      0.00       610\n",
            "           2       0.39      1.00      0.57      5571\n",
            "           3       0.00      0.00      0.00      2207\n",
            "           4       0.00      0.00      0.00      2646\n",
            "           5       0.00      0.00      0.00       556\n",
            "\n",
            "    accuracy                           0.39     14132\n",
            "   macro avg       0.07      0.17      0.09     14132\n",
            "weighted avg       0.16      0.39      0.22     14132\n",
            "\n"
          ],
          "name": "stdout"
        },
        {
          "output_type": "stream",
          "text": [
            "/usr/local/lib/python3.7/dist-packages/sklearn/metrics/_classification.py:1272: UndefinedMetricWarning: Precision and F-score are ill-defined and being set to 0.0 in labels with no predicted samples. Use `zero_division` parameter to control this behavior.\n",
            "  _warn_prf(average, modifier, msg_start, len(result))\n"
          ],
          "name": "stderr"
        }
      ]
    }
  ]
}