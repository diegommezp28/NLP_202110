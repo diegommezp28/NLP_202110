{
 "cells": [
  {
   "source": [
    "**File reading**\n",
    "***"
   ],
   "cell_type": "markdown",
   "metadata": {}
  },
  {
   "cell_type": "code",
   "execution_count": 1,
   "metadata": {},
   "outputs": [
    {
     "output_type": "stream",
     "name": "stdout",
     "text": [
      "(131853, 2)\n"
     ]
    },
    {
     "output_type": "execute_result",
     "data": {
      "text/plain": [
       "         raw_character_text                                       spoken_words\n",
       "0               Miss Hoover  No, actually, it was a little of both. Sometim...\n",
       "1              Lisa Simpson                             Where's Mr. Bergstrom?\n",
       "2               Miss Hoover  I don't know. Although I'd sure like to talk t...\n",
       "3              Lisa Simpson                         That life is worth living.\n",
       "4   Edna Krabappel-Flanders  The polls will be open from now until the end ...\n",
       "5             Martin Prince        I don't think there's anything left to say.\n",
       "6   Edna Krabappel-Flanders                                              Bart?\n",
       "7              Bart Simpson                     Victory party under the slide!\n",
       "9              Lisa Simpson                      Mr. Bergstrom! Mr. Bergstrom!\n",
       "10                 Landlady  Hey, hey, he Moved out this morning. He must h...\n",
       "11             Lisa Simpson                Do you know where I could find him?\n",
       "12                 Landlady  I think he's taking the next train to Capital ...\n",
       "13             Lisa Simpson  The train, how like him... traditional, yet en...\n",
       "14                 Landlady  Yes, and it's been the backbone of our country...\n",
       "15             Lisa Simpson                         I see he touched you, too.\n",
       "17             Bart Simpson                    Hey, thanks for your vote, man.\n",
       "18             Nelson Muntz                 I didn't vote. Voting's for geeks.\n",
       "19             Bart Simpson  Well, you got that right. Thanks for your vote...\n",
       "20             Terri/sherri                                         We forgot.\n",
       "21             Bart Simpson  Well, don't sweat it. Just so long as a couple..."
      ],
      "text/html": "<div>\n<style scoped>\n    .dataframe tbody tr th:only-of-type {\n        vertical-align: middle;\n    }\n\n    .dataframe tbody tr th {\n        vertical-align: top;\n    }\n\n    .dataframe thead th {\n        text-align: right;\n    }\n</style>\n<table border=\"1\" class=\"dataframe\">\n  <thead>\n    <tr style=\"text-align: right;\">\n      <th></th>\n      <th>raw_character_text</th>\n      <th>spoken_words</th>\n    </tr>\n  </thead>\n  <tbody>\n    <tr>\n      <th>0</th>\n      <td>Miss Hoover</td>\n      <td>No, actually, it was a little of both. Sometim...</td>\n    </tr>\n    <tr>\n      <th>1</th>\n      <td>Lisa Simpson</td>\n      <td>Where's Mr. Bergstrom?</td>\n    </tr>\n    <tr>\n      <th>2</th>\n      <td>Miss Hoover</td>\n      <td>I don't know. Although I'd sure like to talk t...</td>\n    </tr>\n    <tr>\n      <th>3</th>\n      <td>Lisa Simpson</td>\n      <td>That life is worth living.</td>\n    </tr>\n    <tr>\n      <th>4</th>\n      <td>Edna Krabappel-Flanders</td>\n      <td>The polls will be open from now until the end ...</td>\n    </tr>\n    <tr>\n      <th>5</th>\n      <td>Martin Prince</td>\n      <td>I don't think there's anything left to say.</td>\n    </tr>\n    <tr>\n      <th>6</th>\n      <td>Edna Krabappel-Flanders</td>\n      <td>Bart?</td>\n    </tr>\n    <tr>\n      <th>7</th>\n      <td>Bart Simpson</td>\n      <td>Victory party under the slide!</td>\n    </tr>\n    <tr>\n      <th>9</th>\n      <td>Lisa Simpson</td>\n      <td>Mr. Bergstrom! Mr. Bergstrom!</td>\n    </tr>\n    <tr>\n      <th>10</th>\n      <td>Landlady</td>\n      <td>Hey, hey, he Moved out this morning. He must h...</td>\n    </tr>\n    <tr>\n      <th>11</th>\n      <td>Lisa Simpson</td>\n      <td>Do you know where I could find him?</td>\n    </tr>\n    <tr>\n      <th>12</th>\n      <td>Landlady</td>\n      <td>I think he's taking the next train to Capital ...</td>\n    </tr>\n    <tr>\n      <th>13</th>\n      <td>Lisa Simpson</td>\n      <td>The train, how like him... traditional, yet en...</td>\n    </tr>\n    <tr>\n      <th>14</th>\n      <td>Landlady</td>\n      <td>Yes, and it's been the backbone of our country...</td>\n    </tr>\n    <tr>\n      <th>15</th>\n      <td>Lisa Simpson</td>\n      <td>I see he touched you, too.</td>\n    </tr>\n    <tr>\n      <th>17</th>\n      <td>Bart Simpson</td>\n      <td>Hey, thanks for your vote, man.</td>\n    </tr>\n    <tr>\n      <th>18</th>\n      <td>Nelson Muntz</td>\n      <td>I didn't vote. Voting's for geeks.</td>\n    </tr>\n    <tr>\n      <th>19</th>\n      <td>Bart Simpson</td>\n      <td>Well, you got that right. Thanks for your vote...</td>\n    </tr>\n    <tr>\n      <th>20</th>\n      <td>Terri/sherri</td>\n      <td>We forgot.</td>\n    </tr>\n    <tr>\n      <th>21</th>\n      <td>Bart Simpson</td>\n      <td>Well, don't sweat it. Just so long as a couple...</td>\n    </tr>\n  </tbody>\n</table>\n</div>"
     },
     "metadata": {},
     "execution_count": 1
    }
   ],
   "source": [
    "import pandas as pd\n",
    "# Dataset from - https://archive.ics.uci.edu/ml/datasets/SMS+Spam+Collection\n",
    "df = pd.read_csv('docs/simpsons_dataset.csv').dropna()\n",
    "\n",
    "# imprima las primeras 5 filas\n",
    "df.head()\n",
    "\n",
    "#Cambiamos las etiquetas texutales por etiquetas numericas, esto es una buena practica cuando se construyen modelo supervisados\n",
    "# df['label'] = df.label.map({'ham':0, 'spam':1})\n",
    "print(df.shape)\n",
    "df.head(20) # returns (rows, columns)"
   ]
  },
  {
   "source": [
    "## Text Pre Processing for embeddings"
   ],
   "cell_type": "markdown",
   "metadata": {}
  },
  {
   "cell_type": "code",
   "execution_count": 1,
   "metadata": {},
   "outputs": [],
   "source": [
    "import gzip\n",
    "import gensim \n",
    "import logging"
   ]
  },
  {
   "source": [
    "### BOW"
   ],
   "cell_type": "markdown",
   "metadata": {}
  },
  {
   "cell_type": "code",
   "execution_count": null,
   "metadata": {},
   "outputs": [
    {
     "name": "stdout",
     "output_type": "stream",
     "text": [
      "(158315, 2)\n"
     ]
    },
    {
     "data": {
      "text/plain": "            character                                             dialog\n0  raw_character_text                                       spoken_words\n1         Miss Hoover  No, actually, it was a little of both. Sometim...\n2        Lisa Simpson                             Where's Mr. Bergstrom?\n3         Miss Hoover  I don't know. Although I'd sure like to talk t...\n4        Lisa Simpson                         That life is worth living.",
      "text/html": "<div>\n<style scoped>\n    .dataframe tbody tr th:only-of-type {\n        vertical-align: middle;\n    }\n\n    .dataframe tbody tr th {\n        vertical-align: top;\n    }\n\n    .dataframe thead th {\n        text-align: right;\n    }\n</style>\n<table border=\"1\" class=\"dataframe\">\n  <thead>\n    <tr style=\"text-align: right;\">\n      <th></th>\n      <th>character</th>\n      <th>dialog</th>\n    </tr>\n  </thead>\n  <tbody>\n    <tr>\n      <th>0</th>\n      <td>raw_character_text</td>\n      <td>spoken_words</td>\n    </tr>\n    <tr>\n      <th>1</th>\n      <td>Miss Hoover</td>\n      <td>No, actually, it was a little of both. Sometim...</td>\n    </tr>\n    <tr>\n      <th>2</th>\n      <td>Lisa Simpson</td>\n      <td>Where's Mr. Bergstrom?</td>\n    </tr>\n    <tr>\n      <th>3</th>\n      <td>Miss Hoover</td>\n      <td>I don't know. Although I'd sure like to talk t...</td>\n    </tr>\n    <tr>\n      <th>4</th>\n      <td>Lisa Simpson</td>\n      <td>That life is worth living.</td>\n    </tr>\n  </tbody>\n</table>\n</div>"
     },
     "execution_count": 2,
     "metadata": {},
     "output_type": "execute_result"
    }
   ],
   "source": [
    "def read_input(input_file):\n",
    "    \"\"\"This method reads the input file which is in gzip format\"\"\"\n",
    "    \n",
    "    logging.info(\"reading file {0}...this may take a while\".format(input_file))\n",
    "    \n",
    "    with gzip.open (input_file, 'rb') as f:\n",
    "        for i, line in enumerate (f): \n",
    "\n",
    "            if (i%10000==0):\n",
    "                logging.info (\"read {0} reviews\".format (i))\n",
    "            # do some pre-processing and return a list of words for each review text\n",
    "            yield gensim.utils.simple_preprocess(line)"
   ]
  },
  {
   "cell_type": "code",
   "execution_count": 9,
   "metadata": {},
   "outputs": [
    {
     "output_type": "error",
     "ename": "NameError",
     "evalue": "name 'gensim' is not defined",
     "traceback": [
      "\u001B[1;31m---------------------------------------------------------------------------\u001B[0m",
      "\u001B[1;31mNameError\u001B[0m                                 Traceback (most recent call last)",
      "\u001B[1;32m<ipython-input-9-8d34f4fbb524>\u001B[0m in \u001B[0;36m<module>\u001B[1;34m\u001B[0m\n\u001B[1;32m----> 1\u001B[1;33m \u001B[0mprocessed_df\u001B[0m \u001B[1;33m=\u001B[0m \u001B[0mdf\u001B[0m\u001B[1;33m.\u001B[0m\u001B[0mapply\u001B[0m\u001B[1;33m(\u001B[0m\u001B[0mgensim\u001B[0m\u001B[1;33m.\u001B[0m\u001B[0mutils\u001B[0m\u001B[1;33m.\u001B[0m\u001B[0msimple_preprocess\u001B[0m\u001B[1;33m,\u001B[0m \u001B[0maxis\u001B[0m\u001B[1;33m=\u001B[0m\u001B[1;36m1\u001B[0m\u001B[1;33m,\u001B[0m \u001B[0mindex\u001B[0m\u001B[1;33m=\u001B[0m\u001B[1;33m[\u001B[0m\u001B[1;34m'spoken_words'\u001B[0m\u001B[1;33m]\u001B[0m\u001B[1;33m)\u001B[0m\u001B[1;33m\u001B[0m\u001B[1;33m\u001B[0m\u001B[0m\n\u001B[0m",
      "\u001B[1;31mNameError\u001B[0m: name 'gensim' is not defined"
     ]
    }
   ],
   "source": [
    "processed_df = df.apply(gensim.utils.simple_preprocess, axis=1, index=['spoken_words'])"
   ]
  }
 ],
 "metadata": {
  "language_info": {
   "name": "python",
   "nbconvert_exporter": "python",
   "version": "3.8.5"
  },
  "orig_nbformat": 2,
  "kernelspec": {
   "name": "python385jvsc74a57bd0e521f3f79e4c8afd6250dbbf35d86c585e4936a8bc3a0ec6272bed964702e058",
   "display_name": "Python 3.8.5 64-bit ('Prueba 1': conda)"
  }
 },
 "nbformat": 4,
 "nbformat_minor": 2
}