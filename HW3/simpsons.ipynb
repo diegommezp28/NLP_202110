{
 "cells": [
  {
   "cell_type": "code",
   "execution_count": null,
   "metadata": {},
   "outputs": [],
   "source": [
    "import pandas as pd\r\n",
    "# Dataset from - https://archive.ics.uci.edu/ml/datasets/SMS+Spam+Collection\r\n",
    "df = pd.read_table('docs/simpsons_dataset.csv',\r\n",
    "                   sep=',', \r\n",
    "                   header=None, \r\n",
    "                   names=['character', 'dialog'])\r\n",
    "\r\n",
    "# imprima las primeras 5 filas\r\n",
    "df.head()\r\n",
    "\r\n",
    "#Cambiamos las etiquetas texutales por etiquetas numericas, esto es una buena practica cuando se construyen modelo supervisados\r\n",
    "# df['label'] = df.label.map({'ham':0, 'spam':1})\r\n",
    "print(df.shape)\r\n",
    "df.head() # returns (rows, columns)"
   ]
  }
 ],
 "metadata": {
  "language_info": {
   "name": "python",
   "nbconvert_exporter": "python"
  },
  "orig_nbformat": 2
 },
 "nbformat": 4,
 "nbformat_minor": 2
}