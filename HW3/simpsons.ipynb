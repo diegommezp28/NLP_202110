{
 "cells": [
  {
   "cell_type": "markdown",
   "metadata": {},
   "source": [
    "**File reading**\n",
    "***"
   ]
  },
  {
   "cell_type": "code",
   "execution_count": 2,
   "metadata": {
    "ExecuteTime": {
     "end_time": "2021-04-24T22:45:39.550647Z",
     "start_time": "2021-04-24T22:45:38.855881Z"
    }
   },
   "outputs": [
    {
     "name": "stdout",
     "output_type": "stream",
     "text": [
      "(131853, 2)\n"
     ]
    },
    {
     "data": {
      "text/html": [
       "<div>\n",
       "<style scoped>\n",
       "    .dataframe tbody tr th:only-of-type {\n",
       "        vertical-align: middle;\n",
       "    }\n",
       "\n",
       "    .dataframe tbody tr th {\n",
       "        vertical-align: top;\n",
       "    }\n",
       "\n",
       "    .dataframe thead th {\n",
       "        text-align: right;\n",
       "    }\n",
       "</style>\n",
       "<table border=\"1\" class=\"dataframe\">\n",
       "  <thead>\n",
       "    <tr style=\"text-align: right;\">\n",
       "      <th></th>\n",
       "      <th>raw_character_text</th>\n",
       "      <th>spoken_words</th>\n",
       "    </tr>\n",
       "  </thead>\n",
       "  <tbody>\n",
       "    <tr>\n",
       "      <th>0</th>\n",
       "      <td>Miss Hoover</td>\n",
       "      <td>No, actually, it was a little of both. Sometim...</td>\n",
       "    </tr>\n",
       "    <tr>\n",
       "      <th>1</th>\n",
       "      <td>Lisa Simpson</td>\n",
       "      <td>Where's Mr. Bergstrom?</td>\n",
       "    </tr>\n",
       "    <tr>\n",
       "      <th>2</th>\n",
       "      <td>Miss Hoover</td>\n",
       "      <td>I don't know. Although I'd sure like to talk t...</td>\n",
       "    </tr>\n",
       "    <tr>\n",
       "      <th>3</th>\n",
       "      <td>Lisa Simpson</td>\n",
       "      <td>That life is worth living.</td>\n",
       "    </tr>\n",
       "    <tr>\n",
       "      <th>4</th>\n",
       "      <td>Edna Krabappel-Flanders</td>\n",
       "      <td>The polls will be open from now until the end ...</td>\n",
       "    </tr>\n",
       "    <tr>\n",
       "      <th>5</th>\n",
       "      <td>Martin Prince</td>\n",
       "      <td>I don't think there's anything left to say.</td>\n",
       "    </tr>\n",
       "    <tr>\n",
       "      <th>6</th>\n",
       "      <td>Edna Krabappel-Flanders</td>\n",
       "      <td>Bart?</td>\n",
       "    </tr>\n",
       "    <tr>\n",
       "      <th>7</th>\n",
       "      <td>Bart Simpson</td>\n",
       "      <td>Victory party under the slide!</td>\n",
       "    </tr>\n",
       "    <tr>\n",
       "      <th>9</th>\n",
       "      <td>Lisa Simpson</td>\n",
       "      <td>Mr. Bergstrom! Mr. Bergstrom!</td>\n",
       "    </tr>\n",
       "    <tr>\n",
       "      <th>10</th>\n",
       "      <td>Landlady</td>\n",
       "      <td>Hey, hey, he Moved out this morning. He must h...</td>\n",
       "    </tr>\n",
       "    <tr>\n",
       "      <th>11</th>\n",
       "      <td>Lisa Simpson</td>\n",
       "      <td>Do you know where I could find him?</td>\n",
       "    </tr>\n",
       "    <tr>\n",
       "      <th>12</th>\n",
       "      <td>Landlady</td>\n",
       "      <td>I think he's taking the next train to Capital ...</td>\n",
       "    </tr>\n",
       "    <tr>\n",
       "      <th>13</th>\n",
       "      <td>Lisa Simpson</td>\n",
       "      <td>The train, how like him... traditional, yet en...</td>\n",
       "    </tr>\n",
       "    <tr>\n",
       "      <th>14</th>\n",
       "      <td>Landlady</td>\n",
       "      <td>Yes, and it's been the backbone of our country...</td>\n",
       "    </tr>\n",
       "    <tr>\n",
       "      <th>15</th>\n",
       "      <td>Lisa Simpson</td>\n",
       "      <td>I see he touched you, too.</td>\n",
       "    </tr>\n",
       "    <tr>\n",
       "      <th>17</th>\n",
       "      <td>Bart Simpson</td>\n",
       "      <td>Hey, thanks for your vote, man.</td>\n",
       "    </tr>\n",
       "    <tr>\n",
       "      <th>18</th>\n",
       "      <td>Nelson Muntz</td>\n",
       "      <td>I didn't vote. Voting's for geeks.</td>\n",
       "    </tr>\n",
       "    <tr>\n",
       "      <th>19</th>\n",
       "      <td>Bart Simpson</td>\n",
       "      <td>Well, you got that right. Thanks for your vote...</td>\n",
       "    </tr>\n",
       "    <tr>\n",
       "      <th>20</th>\n",
       "      <td>Terri/sherri</td>\n",
       "      <td>We forgot.</td>\n",
       "    </tr>\n",
       "    <tr>\n",
       "      <th>21</th>\n",
       "      <td>Bart Simpson</td>\n",
       "      <td>Well, don't sweat it. Just so long as a couple...</td>\n",
       "    </tr>\n",
       "  </tbody>\n",
       "</table>\n",
       "</div>"
      ],
      "text/plain": [
       "         raw_character_text                                       spoken_words\n",
       "0               Miss Hoover  No, actually, it was a little of both. Sometim...\n",
       "1              Lisa Simpson                             Where's Mr. Bergstrom?\n",
       "2               Miss Hoover  I don't know. Although I'd sure like to talk t...\n",
       "3              Lisa Simpson                         That life is worth living.\n",
       "4   Edna Krabappel-Flanders  The polls will be open from now until the end ...\n",
       "5             Martin Prince        I don't think there's anything left to say.\n",
       "6   Edna Krabappel-Flanders                                              Bart?\n",
       "7              Bart Simpson                     Victory party under the slide!\n",
       "9              Lisa Simpson                      Mr. Bergstrom! Mr. Bergstrom!\n",
       "10                 Landlady  Hey, hey, he Moved out this morning. He must h...\n",
       "11             Lisa Simpson                Do you know where I could find him?\n",
       "12                 Landlady  I think he's taking the next train to Capital ...\n",
       "13             Lisa Simpson  The train, how like him... traditional, yet en...\n",
       "14                 Landlady  Yes, and it's been the backbone of our country...\n",
       "15             Lisa Simpson                         I see he touched you, too.\n",
       "17             Bart Simpson                    Hey, thanks for your vote, man.\n",
       "18             Nelson Muntz                 I didn't vote. Voting's for geeks.\n",
       "19             Bart Simpson  Well, you got that right. Thanks for your vote...\n",
       "20             Terri/sherri                                         We forgot.\n",
       "21             Bart Simpson  Well, don't sweat it. Just so long as a couple..."
      ]
     },
     "execution_count": 2,
     "metadata": {},
     "output_type": "execute_result"
    }
   ],
   "source": [
    "import pandas as pd\n",
    "# Dataset from - https://archive.ics.uci.edu/ml/datasets/SMS+Spam+Collection\n",
    "df = pd.read_csv('docs/simpsons_dataset.csv').dropna()\n",
    "\n",
    "# imprima las primeras 5 filas\n",
    "df.head()\n",
    "\n",
    "#Cambiamos las etiquetas texutales por etiquetas numericas, esto es una buena practica cuando se construyen modelo supervisados\n",
    "# df['label'] = df.label.map({'ham':0, 'spam':1})\n",
    "print(df.shape)\n",
    "df.head(20) # returns (rows, columns)"
   ]
  },
  {
   "cell_type": "markdown",
   "metadata": {},
   "source": [
    "## Text Pre Processing for embeddings"
   ]
  },
  {
   "cell_type": "code",
   "execution_count": 3,
   "metadata": {
    "ExecuteTime": {
     "end_time": "2021-04-24T22:45:39.563877Z",
     "start_time": "2021-04-24T22:45:39.556491Z"
    }
   },
   "outputs": [],
   "source": [
    "import gzip\n",
    "import gensim\n",
    "import logging"
   ]
  },
  {
   "cell_type": "markdown",
   "metadata": {},
   "source": [
    "### BOW"
   ]
  },
  {
   "cell_type": "code",
   "execution_count": 4,
   "metadata": {
    "ExecuteTime": {
     "end_time": "2021-04-24T22:45:42.082842Z",
     "start_time": "2021-04-24T22:45:42.068798Z"
    }
   },
   "outputs": [],
   "source": [
    "def read_input(input_file):\n",
    "    \"\"\"This method reads the input file which is in gzip format\"\"\"\n",
    "    \n",
    "    logging.info(\"reading file {0}...this may take a while\".format(input_file))\n",
    "    \n",
    "    with gzip.open (input_file, 'rb') as f:\n",
    "        for i, line in enumerate (f): \n",
    "\n",
    "            if (i%10000==0):\n",
    "                logging.info (\"read {0} reviews\".format (i))\n",
    "            # do some pre-processing and return a list of words for each review text\n",
    "            yield gensim.utils.simple_preprocess(line)"
   ]
  },
  {
   "cell_type": "code",
   "execution_count": 5,
   "metadata": {
    "ExecuteTime": {
     "end_time": "2021-04-24T22:45:46.312868Z",
     "start_time": "2021-04-24T22:45:43.876946Z"
    },
    "tags": []
   },
   "outputs": [
    {
     "data": {
      "text/html": [
       "<div>\n",
       "<style scoped>\n",
       "    .dataframe tbody tr th:only-of-type {\n",
       "        vertical-align: middle;\n",
       "    }\n",
       "\n",
       "    .dataframe tbody tr th {\n",
       "        vertical-align: top;\n",
       "    }\n",
       "\n",
       "    .dataframe thead th {\n",
       "        text-align: right;\n",
       "    }\n",
       "</style>\n",
       "<table border=\"1\" class=\"dataframe\">\n",
       "  <thead>\n",
       "    <tr style=\"text-align: right;\">\n",
       "      <th></th>\n",
       "      <th>raw_character_text</th>\n",
       "      <th>spoken_words</th>\n",
       "      <th>proccesed</th>\n",
       "    </tr>\n",
       "  </thead>\n",
       "  <tbody>\n",
       "    <tr>\n",
       "      <th>0</th>\n",
       "      <td>Miss Hoover</td>\n",
       "      <td>No, actually, it was a little of both. Sometim...</td>\n",
       "      <td>[no, actually, it, was, little, of, both, some...</td>\n",
       "    </tr>\n",
       "    <tr>\n",
       "      <th>1</th>\n",
       "      <td>Lisa Simpson</td>\n",
       "      <td>Where's Mr. Bergstrom?</td>\n",
       "      <td>[where, mr, bergstrom]</td>\n",
       "    </tr>\n",
       "    <tr>\n",
       "      <th>2</th>\n",
       "      <td>Miss Hoover</td>\n",
       "      <td>I don't know. Although I'd sure like to talk t...</td>\n",
       "      <td>[don, know, although, sure, like, to, talk, to...</td>\n",
       "    </tr>\n",
       "    <tr>\n",
       "      <th>3</th>\n",
       "      <td>Lisa Simpson</td>\n",
       "      <td>That life is worth living.</td>\n",
       "      <td>[that, life, is, worth, living]</td>\n",
       "    </tr>\n",
       "    <tr>\n",
       "      <th>4</th>\n",
       "      <td>Edna Krabappel-Flanders</td>\n",
       "      <td>The polls will be open from now until the end ...</td>\n",
       "      <td>[the, polls, will, be, open, from, now, until,...</td>\n",
       "    </tr>\n",
       "    <tr>\n",
       "      <th>5</th>\n",
       "      <td>Martin Prince</td>\n",
       "      <td>I don't think there's anything left to say.</td>\n",
       "      <td>[don, think, there, anything, left, to, say]</td>\n",
       "    </tr>\n",
       "    <tr>\n",
       "      <th>6</th>\n",
       "      <td>Edna Krabappel-Flanders</td>\n",
       "      <td>Bart?</td>\n",
       "      <td>[bart]</td>\n",
       "    </tr>\n",
       "    <tr>\n",
       "      <th>7</th>\n",
       "      <td>Bart Simpson</td>\n",
       "      <td>Victory party under the slide!</td>\n",
       "      <td>[victory, party, under, the, slide]</td>\n",
       "    </tr>\n",
       "    <tr>\n",
       "      <th>9</th>\n",
       "      <td>Lisa Simpson</td>\n",
       "      <td>Mr. Bergstrom! Mr. Bergstrom!</td>\n",
       "      <td>[mr, bergstrom, mr, bergstrom]</td>\n",
       "    </tr>\n",
       "    <tr>\n",
       "      <th>10</th>\n",
       "      <td>Landlady</td>\n",
       "      <td>Hey, hey, he Moved out this morning. He must h...</td>\n",
       "      <td>[hey, hey, he, moved, out, this, morning, he, ...</td>\n",
       "    </tr>\n",
       "  </tbody>\n",
       "</table>\n",
       "</div>"
      ],
      "text/plain": [
       "         raw_character_text  \\\n",
       "0               Miss Hoover   \n",
       "1              Lisa Simpson   \n",
       "2               Miss Hoover   \n",
       "3              Lisa Simpson   \n",
       "4   Edna Krabappel-Flanders   \n",
       "5             Martin Prince   \n",
       "6   Edna Krabappel-Flanders   \n",
       "7              Bart Simpson   \n",
       "9              Lisa Simpson   \n",
       "10                 Landlady   \n",
       "\n",
       "                                         spoken_words  \\\n",
       "0   No, actually, it was a little of both. Sometim...   \n",
       "1                              Where's Mr. Bergstrom?   \n",
       "2   I don't know. Although I'd sure like to talk t...   \n",
       "3                          That life is worth living.   \n",
       "4   The polls will be open from now until the end ...   \n",
       "5         I don't think there's anything left to say.   \n",
       "6                                               Bart?   \n",
       "7                      Victory party under the slide!   \n",
       "9                       Mr. Bergstrom! Mr. Bergstrom!   \n",
       "10  Hey, hey, he Moved out this morning. He must h...   \n",
       "\n",
       "                                            proccesed  \n",
       "0   [no, actually, it, was, little, of, both, some...  \n",
       "1                              [where, mr, bergstrom]  \n",
       "2   [don, know, although, sure, like, to, talk, to...  \n",
       "3                     [that, life, is, worth, living]  \n",
       "4   [the, polls, will, be, open, from, now, until,...  \n",
       "5        [don, think, there, anything, left, to, say]  \n",
       "6                                              [bart]  \n",
       "7                 [victory, party, under, the, slide]  \n",
       "9                      [mr, bergstrom, mr, bergstrom]  \n",
       "10  [hey, hey, he, moved, out, this, morning, he, ...  "
      ]
     },
     "execution_count": 5,
     "metadata": {},
     "output_type": "execute_result"
    }
   ],
   "source": [
    "from gensim.utils import simple_preprocess\n",
    "\n",
    "def preproccess(line):\n",
    "    return simple_preprocess(line)\n",
    "\n",
    "\n",
    "\n",
    "df['proccesed'] = df['spoken_words'].apply(preproccess)\n",
    "df.head(10)"
   ]
  },
  {
   "cell_type": "code",
   "execution_count": 6,
   "metadata": {
    "ExecuteTime": {
     "end_time": "2021-04-24T22:45:46.320765Z",
     "start_time": "2021-04-24T22:45:46.315390Z"
    }
   },
   "outputs": [],
   "source": [
    "documents = df['proccesed'].to_numpy()"
   ]
  },
  {
   "cell_type": "code",
   "execution_count": 7,
   "metadata": {
    "ExecuteTime": {
     "end_time": "2021-04-24T22:47:10.398989Z",
     "start_time": "2021-04-24T22:45:46.324163Z"
    }
   },
   "outputs": [
    {
     "data": {
      "text/plain": [
       "(9560442, 12451860)"
      ]
     },
     "execution_count": 7,
     "metadata": {},
     "output_type": "execute_result"
    }
   ],
   "source": [
    "model_skipgram = gensim.models.Word2Vec(documents, vector_size=150, window=10, min_count=2, workers=10, sg=1)\n",
    "model_skipgram.train(documents,total_examples=len(documents),epochs=10)"
   ]
  },
  {
   "cell_type": "code",
   "execution_count": 8,
   "metadata": {
    "ExecuteTime": {
     "end_time": "2021-04-24T22:47:10.542761Z",
     "start_time": "2021-04-24T22:47:10.405280Z"
    },
    "pycharm": {
     "name": "#%%\n"
    }
   },
   "outputs": [],
   "source": [
    "model_skipgram.save(\"word2vec150.model\")"
   ]
  },
  {
   "cell_type": "code",
   "execution_count": 9,
   "metadata": {
    "ExecuteTime": {
     "end_time": "2021-04-24T22:47:10.554082Z",
     "start_time": "2021-04-24T22:47:10.545825Z"
    },
    "pycharm": {
     "name": "#%%\n"
    }
   },
   "outputs": [
    {
     "name": "stdout",
     "output_type": "stream",
     "text": [
      "[-0.57938755  0.10451695  0.37322858 -0.66045964 -0.16540527 -0.06244459\n",
      "  0.00889869  0.15900299  0.30410498 -0.21031415  0.00862175 -0.4026467\n",
      "  0.64045244  0.27954206  0.7704958  -0.3185606   0.3559006  -0.6395034\n",
      " -0.07271343  0.13590282 -0.35718593  0.22284472  0.37601382 -0.23679037\n",
      "  0.0096482  -0.04480964 -0.17798354  0.18839604 -0.0651294   0.12788063\n",
      "  0.34005705 -0.03054913 -0.19597493 -0.36376822  0.3081268  -0.1465973\n",
      "  0.389505    0.56744283 -0.01943362 -0.57450086  0.25968185  0.25615278\n",
      " -0.41666585  0.18276    -0.40121353  0.32021707 -0.02672151  0.39040413\n",
      "  0.021103   -0.05044132  0.26318133 -0.3608507  -0.08131386  0.19575714\n",
      "  0.15852942 -0.53115183  0.18818858  0.59303254  0.22963929  0.14398015\n",
      " -0.5641063  -0.29898462 -0.38439462 -0.46987277 -0.5995657  -0.22941528\n",
      " -0.7175776  -0.22315687  0.08424884 -0.8891552  -0.03808752  0.17473593\n",
      "  0.30269316 -0.25147772  0.30705234  0.08911581  0.22450452 -0.03128996\n",
      " -0.26693127 -0.02565799  0.57148343  0.11324604  0.03632783  0.03924007\n",
      " -0.043185   -0.24317595 -0.08651812  0.24254355 -0.13546588 -0.45845386\n",
      " -0.17740786  0.03528692 -0.29118872  0.00770271 -0.03722439  0.5667652\n",
      "  0.42074224  0.11645875  0.13657817  0.32278252 -0.14335546  0.34605533\n",
      "  0.2741931  -0.53791314 -0.1519819  -0.34884715  0.41258767 -0.11340751\n",
      " -0.63740385 -0.26399627  0.00796068  0.3391391   0.20731689 -0.4555986\n",
      " -0.16195013 -0.08461947  0.6131512  -0.26382482 -0.47452757 -0.11088984\n",
      "  0.01551749 -0.148483    0.1204287  -0.13780461 -0.0288226   0.8340221\n",
      "  0.38896638  0.23201141  0.2812901  -0.29241365  0.21034229  0.156009\n",
      "  0.080653   -0.4549037  -0.16277817  0.362264   -0.6110707   0.19420657\n",
      " -0.41983542  0.09375077  0.73200005 -0.3543627  -0.24212277 -0.17762001\n",
      "  0.2892018   0.08095588 -0.47028065 -0.05650391  0.5336762  -0.81869507]\n"
     ]
    }
   ],
   "source": [
    "print(model_skipgram.wv['morning'])"
   ]
  },
  {
   "cell_type": "code",
   "execution_count": 10,
   "metadata": {
    "ExecuteTime": {
     "end_time": "2021-04-24T22:47:56.520113Z",
     "start_time": "2021-04-24T22:47:10.560278Z"
    },
    "pycharm": {
     "name": "#%%\n"
    }
   },
   "outputs": [
    {
     "data": {
      "text/plain": [
       "(9562121, 12451860)"
      ]
     },
     "execution_count": 10,
     "metadata": {},
     "output_type": "execute_result"
    }
   ],
   "source": [
    "model_100 = gensim.models.Word2Vec (documents, vector_size=100, window=10, min_count=2, workers=10, sg=1)\n",
    "model_100.train(documents,total_examples=len(documents),epochs=10)"
   ]
  },
  {
   "cell_type": "code",
   "execution_count": 11,
   "metadata": {
    "ExecuteTime": {
     "end_time": "2021-04-24T22:47:56.593192Z",
     "start_time": "2021-04-24T22:47:56.521986Z"
    },
    "pycharm": {
     "name": "#%%\n"
    }
   },
   "outputs": [],
   "source": [
    "model_100.save(\"word2vec100.model\")"
   ]
  },
  {
   "cell_type": "code",
   "execution_count": 12,
   "metadata": {
    "ExecuteTime": {
     "end_time": "2021-04-24T22:47:56.604140Z",
     "start_time": "2021-04-24T22:47:56.596108Z"
    },
    "pycharm": {
     "name": "#%%\n"
    }
   },
   "outputs": [
    {
     "name": "stdout",
     "output_type": "stream",
     "text": [
      "[ 3.8394612e-01  4.1021496e-01 -1.2232957e-01 -7.8607267e-01\n",
      " -4.5243148e-03 -5.8927351e-01 -1.8422757e-01  6.1702216e-01\n",
      " -2.9568213e-01 -8.9416675e-02 -2.1965437e-01 -9.2915013e-02\n",
      "  4.8043218e-01  1.7209266e-01 -3.9030689e-01  3.6300743e-01\n",
      "  3.6765626e-01 -9.4204180e-02  8.6744830e-02 -2.6762247e-01\n",
      " -2.9197441e-02  2.1529292e-01  1.0331204e+00 -1.8130162e-01\n",
      "  4.2516863e-01 -2.2942837e-02 -4.0182793e-01  5.0458711e-01\n",
      "  3.3772254e-01 -3.5325146e-01 -1.3969643e-01  4.5999397e-02\n",
      "  5.4476255e-01  1.9451010e-01 -3.5219619e-01  1.1121070e-01\n",
      "  6.5669018e-01  3.6366820e-01  1.1770260e-01 -5.0733876e-01\n",
      "  2.9666634e-02 -2.5205788e-01 -3.7113222e-04  9.5296185e-03\n",
      " -1.5633334e-01  1.0689181e-01 -1.6094187e-01 -3.5028973e-01\n",
      "  2.4786386e-01 -4.5258556e-02 -1.2005380e-01  1.0917006e-01\n",
      "  4.4542525e-02 -2.2465926e-01 -5.7084769e-01 -2.2368282e-02\n",
      " -3.9094850e-01  9.6943267e-02 -2.0596536e-01  1.3699169e-01\n",
      " -1.1428930e-01  2.3312020e-01 -5.5754435e-01  3.2740220e-01\n",
      " -3.4608191e-01  3.3719701e-01  6.5469807e-01  4.1967803e-01\n",
      "  4.8565634e-02  4.9304824e-02 -2.2939367e-02  2.8381538e-01\n",
      "  8.8312036e-01  6.9106303e-02 -4.1231126e-02  2.0499128e-01\n",
      "  3.8420543e-01  3.3300832e-01  6.1489481e-01 -3.3657995e-01\n",
      "  5.4100245e-01 -4.9476948e-01  8.5708633e-02  4.5910275e-01\n",
      " -2.8526497e-01  1.9257799e-01  4.5374081e-02 -3.4288302e-02\n",
      " -3.6331791e-01  2.9970458e-01  3.9055699e-01  7.7711195e-01\n",
      "  1.0875229e-01  1.4274892e-01  1.0154099e+00 -1.9782291e-01\n",
      " -2.8480494e-01 -7.2112106e-02 -4.4905901e-01 -3.8466552e-01]\n"
     ]
    }
   ],
   "source": [
    "print(model_100.wv['morning'])"
   ]
  },
  {
   "cell_type": "code",
   "execution_count": 13,
   "metadata": {
    "ExecuteTime": {
     "end_time": "2021-04-24T22:48:48.066659Z",
     "start_time": "2021-04-24T22:47:56.606970Z"
    },
    "pycharm": {
     "name": "#%%\n"
    }
   },
   "outputs": [
    {
     "data": {
      "text/plain": [
       "(9561551, 12451860)"
      ]
     },
     "execution_count": 13,
     "metadata": {},
     "output_type": "execute_result"
    }
   ],
   "source": [
    "model_50 = gensim.models.Word2Vec(documents, vector_size=50, window=10, min_count=2, workers=10, sg=1)\n",
    "model_50.train(documents,total_examples=len(documents),epochs=10)"
   ]
  },
  {
   "cell_type": "code",
   "execution_count": 17,
   "metadata": {
    "pycharm": {
     "name": "#%%\n"
    }
   },
   "outputs": [],
   "source": [
    "model_50.save(\"word2vec50.model\")\n"
   ]
  },
  {
   "cell_type": "code",
   "execution_count": 18,
   "metadata": {
    "pycharm": {
     "name": "#%%\n"
    }
   },
   "outputs": [
    {
     "data": {
      "text/plain": [
       "(131853, 3)"
      ]
     },
     "execution_count": 18,
     "metadata": {},
     "output_type": "execute_result"
    }
   ],
   "source": [
    "df.shape"
   ]
  },
  {
   "cell_type": "markdown",
   "metadata": {},
   "source": [
    "## Read\n"
   ]
  },
  {
   "cell_type": "code",
   "execution_count": 17,
   "metadata": {
    "ExecuteTime": {
     "end_time": "2021-04-24T22:49:29.803834Z",
     "start_time": "2021-04-24T22:49:29.800049Z"
    }
   },
   "outputs": [],
   "source": [
    "import pandas as pd\n",
    "import numpy as np\n",
    "import matplotlib.pyplot as plt\n",
    "from sklearn.manifold import TSNE"
   ]
  },
  {
   "cell_type": "code",
   "execution_count": 18,
   "metadata": {
    "ExecuteTime": {
     "end_time": "2021-04-24T22:49:30.943123Z",
     "start_time": "2021-04-24T22:49:30.078898Z"
    }
   },
   "outputs": [],
   "source": [
    "\n",
    "model50 = gensim.models.Word2Vec.load(\"word2vec50.model\")\n",
    "model100 = gensim.models.Word2Vec.load(\"word2vec100.model\")\n",
    "model150 = gensim.models.Word2Vec.load(\"word2vec150.model\")"
   ]
  },
  {
   "cell_type": "code",
   "execution_count": 19,
   "metadata": {
    "ExecuteTime": {
     "end_time": "2021-04-24T22:49:31.643908Z",
     "start_time": "2021-04-24T22:49:31.603619Z"
    }
   },
   "outputs": [
    {
     "data": {
      "text/plain": [
       "[('marge', 0.827936589717865),\n",
       " ('simpson', 0.7971497774124146),\n",
       " ('bart', 0.7808811664581299),\n",
       " ('wildcats', 0.7715546488761902),\n",
       " ('you', 0.7641118764877319),\n",
       " ('fonzie', 0.7587495446205139),\n",
       " ('toothbrush', 0.7567184567451477),\n",
       " ('brodka', 0.7545030117034912),\n",
       " ('sampson', 0.7533972859382629),\n",
       " ('mr', 0.7523989081382751)]"
      ]
     },
     "execution_count": 19,
     "metadata": {},
     "output_type": "execute_result"
    }
   ],
   "source": [
    "model50.wv.similar_by_word('homer')"
   ]
  },
  {
   "cell_type": "code",
   "execution_count": 23,
   "metadata": {
    "ExecuteTime": {
     "end_time": "2021-04-24T22:52:45.691661Z",
     "start_time": "2021-04-24T22:52:45.673079Z"
    }
   },
   "outputs": [],
   "source": [
    "def display_closestwords_tsnescatterplot(model, word, n):\n",
    "    \n",
    "    arr = np.empty((0,n), dtype='f')\n",
    "    word_labels = [word]\n",
    "\n",
    "    # get close words\n",
    "    close_words = model.wv.similar_by_word(word)\n",
    "    \n",
    "    # add the vector for each of the closest words to the array\n",
    "    arr = np.append(arr, np.array([model.wv[word]]), axis=0)\n",
    "    for wrd_score in close_words:\n",
    "        wrd_vector = model.wv[wrd_score[0]]\n",
    "        word_labels.append(wrd_score[0])\n",
    "        arr = np.append(arr, np.array([wrd_vector]), axis=0)\n",
    "        \n",
    "    # find tsne coords for 2 dimensions\n",
    "    tsne = TSNE(n_components=2, random_state=0)\n",
    "    np.set_printoptions(suppress=True)\n",
    "    Y = tsne.fit_transform(arr)\n",
    "\n",
    "    x_coords = Y[:, 0]\n",
    "    y_coords = Y[:, 1]\n",
    "    # display scatter plot\n",
    "    plt.scatter(x_coords, y_coords)\n",
    "\n",
    "    for label, x, y in zip(word_labels, x_coords, y_coords):\n",
    "        plt.annotate(label, xy=(x, y), xytext=(0, 0), textcoords='offset points')\n",
    "    plt.xlim(x_coords.min()+0.00005, x_coords.max()+0.00005)\n",
    "    plt.ylim(y_coords.min()+0.00005, y_coords.max()+0.00005)\n",
    "    plt.savefig(f'./{word}_{n}.jpg')\n",
    "    plt.show()"
   ]
  },
  {
   "cell_type": "markdown",
   "metadata": {},
   "source": [
    "## Graphs and analysis\n",
    "***\n",
    "\n",
    "**Vector dimension:** 50"
   ]
  },
  {
   "cell_type": "code",
   "execution_count": 24,
   "metadata": {
    "ExecuteTime": {
     "end_time": "2021-04-24T22:52:51.051266Z",
     "start_time": "2021-04-24T22:52:50.154681Z"
    }
   },
   "outputs": [
    {
     "data": {
      "image/png": "[encoded data removed]",
      "text/plain": [
       "<Figure size 432x288 with 1 Axes>"
      ]
     },
     "metadata": {
      "needs_background": "light"
     },
     "output_type": "display_data"
    }
   ],
   "source": [
    "display_closestwords_tsnescatterplot(model50, 'bart', 50)"
   ]
  },
  {
   "cell_type": "code",
   "execution_count": 25,
   "metadata": {
    "ExecuteTime": {
     "end_time": "2021-04-24T22:52:52.316120Z",
     "start_time": "2021-04-24T22:52:51.054019Z"
    }
   },
   "outputs": [
    {
     "data": {
      "image/png": "[encoded data removed]",
      "text/plain": [
       "<Figure size 432x288 with 1 Axes>"
      ]
     },
     "metadata": {
      "needs_background": "light"
     },
     "output_type": "display_data"
    }
   ],
   "source": [
    "display_closestwords_tsnescatterplot(model50, 'homer', 50)"
   ]
  },
  {
   "cell_type": "markdown",
   "metadata": {},
   "source": [
    "**Vector dimension:** 100"
   ]
  },
  {
   "cell_type": "code",
   "execution_count": 26,
   "metadata": {
    "ExecuteTime": {
     "end_time": "2021-04-24T22:52:56.028441Z",
     "start_time": "2021-04-24T22:52:55.081643Z"
    }
   },
   "outputs": [
    {
     "data": {
      "image/png": "[encoded data removed]",
      "text/plain": [
       "<Figure size 432x288 with 1 Axes>"
      ]
     },
     "metadata": {
      "needs_background": "light"
     },
     "output_type": "display_data"
    }
   ],
   "source": [
    "display_closestwords_tsnescatterplot(model100, 'bart', 100)"
   ]
  },
  {
   "cell_type": "code",
   "execution_count": 27,
   "metadata": {
    "ExecuteTime": {
     "end_time": "2021-04-24T22:52:57.332850Z",
     "start_time": "2021-04-24T22:52:56.032607Z"
    }
   },
   "outputs": [
    {
     "data": {
      "image/png": "[encoded data removed]",
      "text/plain": [
       "<Figure size 432x288 with 1 Axes>"
      ]
     },
     "metadata": {
      "needs_background": "light"
     },
     "output_type": "display_data"
    }
   ],
   "source": [
    "display_closestwords_tsnescatterplot(model100, 'lisa', 100)"
   ]
  },
  {
   "cell_type": "markdown",
   "metadata": {},
   "source": [
    "**Vector size:** 150"
   ]
  },
  {
   "cell_type": "code",
   "execution_count": 28,
   "metadata": {
    "ExecuteTime": {
     "end_time": "2021-04-24T22:52:58.686247Z",
     "start_time": "2021-04-24T22:52:57.339464Z"
    }
   },
   "outputs": [
    {
     "data": {
      "image/png": "[encoded data removed]",
      "text/plain": [
       "<Figure size 432x288 with 1 Axes>"
      ]
     },
     "metadata": {
      "needs_background": "light"
     },
     "output_type": "display_data"
    }
   ],
   "source": [
    "display_closestwords_tsnescatterplot(model150, 'maggie', 150)"
   ]
  },
  {
   "cell_type": "code",
   "execution_count": 29,
   "metadata": {
    "ExecuteTime": {
     "end_time": "2021-04-24T22:52:59.909573Z",
     "start_time": "2021-04-24T22:52:58.689930Z"
    }
   },
   "outputs": [
    {
     "data": {
      "image/png": "[encoded data removed]",
      "text/plain": [
       "<Figure size 432x288 with 1 Axes>"
      ]
     },
     "metadata": {
      "needs_background": "light"
     },
     "output_type": "display_data"
    }
   ],
   "source": [
    "display_closestwords_tsnescatterplot(model150, 'lisa', 150)"
   ]
  },
  {
   "cell_type": "markdown",
   "metadata": {},
   "source": [
    "# Redes neuronales"
   ]
  },
  {
   "cell_type": "code",
   "execution_count": 36,
   "metadata": {
    "ExecuteTime": {
     "end_time": "2021-04-24T23:12:47.327114Z",
     "start_time": "2021-04-24T23:12:47.323997Z"
    }
   },
   "outputs": [],
   "source": [
    "import tensorflow as tf\n",
    "from tensorflow.keras import layers\n",
    "from tensorflow.keras import losses\n",
    "from tensorflow.keras import preprocessing\n",
    "from tensorflow.keras.layers.experimental.preprocessing import TextVectorization\n",
    "\n",
    "from sklearn.model_selection import train_test_split"
   ]
  },
  {
   "cell_type": "code",
   "execution_count": 42,
   "metadata": {
    "ExecuteTime": {
     "end_time": "2021-04-24T23:16:39.512900Z",
     "start_time": "2021-04-24T23:16:39.488486Z"
    }
   },
   "outputs": [],
   "source": [
    "vectorize_layer = TextVectorization(\n",
    "    ngrams=None, \n",
    "    max_tokens=None, vocabulary=None,\n",
    "    output_mode='binary', output_sequence_length=None, pad_to_max_tokens=True, \n",
    ")"
   ]
  },
  {
   "cell_type": "markdown",
   "metadata": {},
   "source": []
  },
  {
   "cell_type": "code",
   "execution_count": 39,
   "metadata": {
    "ExecuteTime": {
     "end_time": "2021-04-24T23:16:05.521227Z",
     "start_time": "2021-04-24T23:16:05.368618Z"
    }
   },
   "outputs": [],
   "source": [
    "# df_yelp = df[df['source'] == 'yelp']\n",
    "sentences = df['spoken_words'].values\n",
    "y = df['raw_character_text'].values\n",
    "sentences_train_val, sentences_test, y_train_val, y_test = train_test_split(sentences, y, test_size=0.20, random_state=1000)\n",
    "sentences_train, sentences_val, y_train, y_val = train_test_split(sentences_train_val, y_train_val, test_size=0.25, random_state=1000)\n",
    "\n",
    "# Once we have our handles, we format the datasets in a Keras-fit compatible\n",
    "# format: a tuple of the form (text_data, label).\n",
    "train_dataset = tf.data.Dataset.from_tensor_slices((sentences_train,y_train))\n",
    "test_dataset = tf.data.Dataset.from_tensor_slices((sentences_test,y_test))\n",
    "\n",
    "# We also create a dataset with only the textual data in it. This will be used\n",
    "# to build our vocabulary later on.\n",
    "text_dataset = tf.data.Dataset.from_tensor_slices((sentences_train))"
   ]
  },
  {
   "cell_type": "code",
   "execution_count": 43,
   "metadata": {
    "ExecuteTime": {
     "end_time": "2021-04-24T23:16:57.253826Z",
     "start_time": "2021-04-24T23:16:52.006223Z"
    }
   },
   "outputs": [],
   "source": [
    "# Now that the vocab layer has been created, call `adapt` on the text-only\n",
    "# dataset to create the vocabulary\n",
    "vectorize_layer.adapt(text_dataset.batch(64))"
   ]
  },
  {
   "cell_type": "code",
   "execution_count": null,
   "metadata": {},
   "outputs": [],
   "source": [
    "##LAYERS\n",
    "\n",
    "# Start by creating an explicit input layer. It needs to have a shape of  \n",
    "# (1,) (because we need to guarantee that there is exactly one doc\n",
    "text_input = tf.keras.Input(shape=(1,), dtype=tf.string, name='text')\n",
    "\n",
    "# The first layer in our model is the vectorization layer. After this layer,\n",
    "# we have a tensor of shape (batch_size, max_len) containing vocab indices.\n",
    "\n",
    "x = vectorize_layer(text_input)\n",
    "x = layers.Dense(10, activation='relu')(x)\n",
    "\n",
    "# We project onto a single unit output layer, and squash it with a sigmoid:\n",
    "predictions = layers.Dense(1, activation='sigmoid', name='predictions')(x)\n",
    "model = tf.keras.Model(text_input, predictions)\n",
    "\n",
    "# Compile the model with binary crossentropy loss and an adam optimizer.\n",
    "# https://keras.io/api/losses/\n",
    "# https://keras.io/api/optimizers/\n",
    "# Ojo con las metricas ya que el entrenamiento es en batches\n",
    "# https://keras.io/api/models/model_training_apis/\n",
    "model.compile(loss='binary_crossentropy', optimizer='adam', metrics=['accuracy'])"
   ]
  }
 ],
 "metadata": {
  "hide_input": false,
  "kernelspec": {
   "display_name": "Python 3",
   "language": "python",
   "name": "python3"
  },
  "language_info": {
   "codemirror_mode": {
    "name": "ipython",
    "version": 3
   },
   "file_extension": ".py",
   "mimetype": "text/x-python",
   "name": "python",
   "nbconvert_exporter": "python",
   "pygments_lexer": "ipython3",
   "version": "3.7.10"
  },
  "latex_envs": {
   "LaTeX_envs_menu_present": true,
   "autoclose": false,
   "autocomplete": true,
   "bibliofile": "biblio.bib",
   "cite_by": "apalike",
   "current_citInitial": 1,
   "eqLabelWithNumbers": true,
   "eqNumInitial": 1,
   "hotkeys": {
    "equation": "Ctrl-E",
    "itemize": "Ctrl-I"
   },
   "labels_anchors": false,
   "latex_user_defs": false,
   "report_style_numbering": false,
   "user_envs_cfg": false
  },
  "metadata": {
   "interpreter": {
    "hash": "055d6687a903af6a4d9b4e34cc4a28379165765e2776fc398dbe998782ca591f"
   }
  },
  "toc": {
   "base_numbering": 1,
   "nav_menu": {},
   "number_sections": true,
   "sideBar": true,
   "skip_h1_title": false,
   "title_cell": "Table of Contents",
   "title_sidebar": "Contents",
   "toc_cell": false,
   "toc_position": {},
   "toc_section_display": true,
   "toc_window_display": false
  }
 },
 "nbformat": 4,
 "nbformat_minor": 2
}
