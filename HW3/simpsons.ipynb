{
 "cells": [
  {
   "source": [
    "**File reading**\n",
    "***"
   ],
   "cell_type": "markdown",
   "metadata": {}
  },
  {
   "cell_type": "code",
   "execution_count": 1,
   "metadata": {},
   "outputs": [
    {
     "name": "stdout",
     "output_type": "stream",
     "text": [
      "(131853, 2)\n"
     ]
    },
    {
     "data": {
      "text/plain": "         raw_character_text                                       spoken_words\n0               Miss Hoover  No, actually, it was a little of both. Sometim...\n1              Lisa Simpson                             Where's Mr. Bergstrom?\n2               Miss Hoover  I don't know. Although I'd sure like to talk t...\n3              Lisa Simpson                         That life is worth living.\n4   Edna Krabappel-Flanders  The polls will be open from now until the end ...\n5             Martin Prince        I don't think there's anything left to say.\n6   Edna Krabappel-Flanders                                              Bart?\n7              Bart Simpson                     Victory party under the slide!\n9              Lisa Simpson                      Mr. Bergstrom! Mr. Bergstrom!\n10                 Landlady  Hey, hey, he Moved out this morning. He must h...\n11             Lisa Simpson                Do you know where I could find him?\n12                 Landlady  I think he's taking the next train to Capital ...\n13             Lisa Simpson  The train, how like him... traditional, yet en...\n14                 Landlady  Yes, and it's been the backbone of our country...\n15             Lisa Simpson                         I see he touched you, too.\n17             Bart Simpson                    Hey, thanks for your vote, man.\n18             Nelson Muntz                 I didn't vote. Voting's for geeks.\n19             Bart Simpson  Well, you got that right. Thanks for your vote...\n20             Terri/sherri                                         We forgot.\n21             Bart Simpson  Well, don't sweat it. Just so long as a couple...",
      "text/html": "<div>\n<style scoped>\n    .dataframe tbody tr th:only-of-type {\n        vertical-align: middle;\n    }\n\n    .dataframe tbody tr th {\n        vertical-align: top;\n    }\n\n    .dataframe thead th {\n        text-align: right;\n    }\n</style>\n<table border=\"1\" class=\"dataframe\">\n  <thead>\n    <tr style=\"text-align: right;\">\n      <th></th>\n      <th>raw_character_text</th>\n      <th>spoken_words</th>\n    </tr>\n  </thead>\n  <tbody>\n    <tr>\n      <th>0</th>\n      <td>Miss Hoover</td>\n      <td>No, actually, it was a little of both. Sometim...</td>\n    </tr>\n    <tr>\n      <th>1</th>\n      <td>Lisa Simpson</td>\n      <td>Where's Mr. Bergstrom?</td>\n    </tr>\n    <tr>\n      <th>2</th>\n      <td>Miss Hoover</td>\n      <td>I don't know. Although I'd sure like to talk t...</td>\n    </tr>\n    <tr>\n      <th>3</th>\n      <td>Lisa Simpson</td>\n      <td>That life is worth living.</td>\n    </tr>\n    <tr>\n      <th>4</th>\n      <td>Edna Krabappel-Flanders</td>\n      <td>The polls will be open from now until the end ...</td>\n    </tr>\n    <tr>\n      <th>5</th>\n      <td>Martin Prince</td>\n      <td>I don't think there's anything left to say.</td>\n    </tr>\n    <tr>\n      <th>6</th>\n      <td>Edna Krabappel-Flanders</td>\n      <td>Bart?</td>\n    </tr>\n    <tr>\n      <th>7</th>\n      <td>Bart Simpson</td>\n      <td>Victory party under the slide!</td>\n    </tr>\n    <tr>\n      <th>9</th>\n      <td>Lisa Simpson</td>\n      <td>Mr. Bergstrom! Mr. Bergstrom!</td>\n    </tr>\n    <tr>\n      <th>10</th>\n      <td>Landlady</td>\n      <td>Hey, hey, he Moved out this morning. He must h...</td>\n    </tr>\n    <tr>\n      <th>11</th>\n      <td>Lisa Simpson</td>\n      <td>Do you know where I could find him?</td>\n    </tr>\n    <tr>\n      <th>12</th>\n      <td>Landlady</td>\n      <td>I think he's taking the next train to Capital ...</td>\n    </tr>\n    <tr>\n      <th>13</th>\n      <td>Lisa Simpson</td>\n      <td>The train, how like him... traditional, yet en...</td>\n    </tr>\n    <tr>\n      <th>14</th>\n      <td>Landlady</td>\n      <td>Yes, and it's been the backbone of our country...</td>\n    </tr>\n    <tr>\n      <th>15</th>\n      <td>Lisa Simpson</td>\n      <td>I see he touched you, too.</td>\n    </tr>\n    <tr>\n      <th>17</th>\n      <td>Bart Simpson</td>\n      <td>Hey, thanks for your vote, man.</td>\n    </tr>\n    <tr>\n      <th>18</th>\n      <td>Nelson Muntz</td>\n      <td>I didn't vote. Voting's for geeks.</td>\n    </tr>\n    <tr>\n      <th>19</th>\n      <td>Bart Simpson</td>\n      <td>Well, you got that right. Thanks for your vote...</td>\n    </tr>\n    <tr>\n      <th>20</th>\n      <td>Terri/sherri</td>\n      <td>We forgot.</td>\n    </tr>\n    <tr>\n      <th>21</th>\n      <td>Bart Simpson</td>\n      <td>Well, don't sweat it. Just so long as a couple...</td>\n    </tr>\n  </tbody>\n</table>\n</div>"
     },
     "execution_count": 1,
     "metadata": {},
     "output_type": "execute_result"
    }
   ],
   "source": [
    "import pandas as pd\n",
    "# Dataset from - https://archive.ics.uci.edu/ml/datasets/SMS+Spam+Collection\n",
    "df = pd.read_csv('docs/simpsons_dataset.csv').dropna()\n",
    "\n",
    "# imprima las primeras 5 filas\n",
    "df.head()\n",
    "\n",
    "#Cambiamos las etiquetas texutales por etiquetas numericas, esto es una buena practica cuando se construyen modelo supervisados\n",
    "# df['label'] = df.label.map({'ham':0, 'spam':1})\n",
    "print(df.shape)\n",
    "df.head(20) # returns (rows, columns)"
   ]
  },
  {
   "source": [
    "## Text Pre Processing for embeddings"
   ],
   "cell_type": "markdown",
   "metadata": {}
  },
  {
   "cell_type": "code",
   "execution_count": 2,
   "metadata": {},
   "outputs": [],
   "source": [
    "import gzip\n",
    "import gensim\n",
    "import logging"
   ]
  },
  {
   "source": [
    "### BOW"
   ],
   "cell_type": "markdown",
   "metadata": {}
  },
  {
   "cell_type": "code",
   "execution_count": 3,
   "metadata": {},
   "outputs": [],
   "source": [
    "def read_input(input_file):\n",
    "    \"\"\"This method reads the input file which is in gzip format\"\"\"\n",
    "    \n",
    "    logging.info(\"reading file {0}...this may take a while\".format(input_file))\n",
    "    \n",
    "    with gzip.open (input_file, 'rb') as f:\n",
    "        for i, line in enumerate (f): \n",
    "\n",
    "            if (i%10000==0):\n",
    "                logging.info (\"read {0} reviews\".format (i))\n",
    "            # do some pre-processing and return a list of words for each review text\n",
    "            yield gensim.utils.simple_preprocess(line)"
   ]
  },
  {
   "cell_type": "code",
   "execution_count": 4,
   "metadata": {
    "tags": []
   },
   "outputs": [
    {
     "data": {
      "text/plain": "         raw_character_text  \\\n0               Miss Hoover   \n1              Lisa Simpson   \n2               Miss Hoover   \n3              Lisa Simpson   \n4   Edna Krabappel-Flanders   \n5             Martin Prince   \n6   Edna Krabappel-Flanders   \n7              Bart Simpson   \n9              Lisa Simpson   \n10                 Landlady   \n\n                                         spoken_words  \\\n0   No, actually, it was a little of both. Sometim...   \n1                              Where's Mr. Bergstrom?   \n2   I don't know. Although I'd sure like to talk t...   \n3                          That life is worth living.   \n4   The polls will be open from now until the end ...   \n5         I don't think there's anything left to say.   \n6                                               Bart?   \n7                      Victory party under the slide!   \n9                       Mr. Bergstrom! Mr. Bergstrom!   \n10  Hey, hey, he Moved out this morning. He must h...   \n\n                                            proccesed  \n0   [no, actually, it, was, little, of, both, some...  \n1                              [where, mr, bergstrom]  \n2   [don, know, although, sure, like, to, talk, to...  \n3                     [that, life, is, worth, living]  \n4   [the, polls, will, be, open, from, now, until,...  \n5        [don, think, there, anything, left, to, say]  \n6                                              [bart]  \n7                 [victory, party, under, the, slide]  \n9                      [mr, bergstrom, mr, bergstrom]  \n10  [hey, hey, he, moved, out, this, morning, he, ...  ",
      "text/html": "<div>\n<style scoped>\n    .dataframe tbody tr th:only-of-type {\n        vertical-align: middle;\n    }\n\n    .dataframe tbody tr th {\n        vertical-align: top;\n    }\n\n    .dataframe thead th {\n        text-align: right;\n    }\n</style>\n<table border=\"1\" class=\"dataframe\">\n  <thead>\n    <tr style=\"text-align: right;\">\n      <th></th>\n      <th>raw_character_text</th>\n      <th>spoken_words</th>\n      <th>proccesed</th>\n    </tr>\n  </thead>\n  <tbody>\n    <tr>\n      <th>0</th>\n      <td>Miss Hoover</td>\n      <td>No, actually, it was a little of both. Sometim...</td>\n      <td>[no, actually, it, was, little, of, both, some...</td>\n    </tr>\n    <tr>\n      <th>1</th>\n      <td>Lisa Simpson</td>\n      <td>Where's Mr. Bergstrom?</td>\n      <td>[where, mr, bergstrom]</td>\n    </tr>\n    <tr>\n      <th>2</th>\n      <td>Miss Hoover</td>\n      <td>I don't know. Although I'd sure like to talk t...</td>\n      <td>[don, know, although, sure, like, to, talk, to...</td>\n    </tr>\n    <tr>\n      <th>3</th>\n      <td>Lisa Simpson</td>\n      <td>That life is worth living.</td>\n      <td>[that, life, is, worth, living]</td>\n    </tr>\n    <tr>\n      <th>4</th>\n      <td>Edna Krabappel-Flanders</td>\n      <td>The polls will be open from now until the end ...</td>\n      <td>[the, polls, will, be, open, from, now, until,...</td>\n    </tr>\n    <tr>\n      <th>5</th>\n      <td>Martin Prince</td>\n      <td>I don't think there's anything left to say.</td>\n      <td>[don, think, there, anything, left, to, say]</td>\n    </tr>\n    <tr>\n      <th>6</th>\n      <td>Edna Krabappel-Flanders</td>\n      <td>Bart?</td>\n      <td>[bart]</td>\n    </tr>\n    <tr>\n      <th>7</th>\n      <td>Bart Simpson</td>\n      <td>Victory party under the slide!</td>\n      <td>[victory, party, under, the, slide]</td>\n    </tr>\n    <tr>\n      <th>9</th>\n      <td>Lisa Simpson</td>\n      <td>Mr. Bergstrom! Mr. Bergstrom!</td>\n      <td>[mr, bergstrom, mr, bergstrom]</td>\n    </tr>\n    <tr>\n      <th>10</th>\n      <td>Landlady</td>\n      <td>Hey, hey, he Moved out this morning. He must h...</td>\n      <td>[hey, hey, he, moved, out, this, morning, he, ...</td>\n    </tr>\n  </tbody>\n</table>\n</div>"
     },
     "execution_count": 4,
     "metadata": {},
     "output_type": "execute_result"
    }
   ],
   "source": [
    "from gensim.utils import simple_preprocess\n",
    "\n",
    "def preproccess(line):\n",
    "    return simple_preprocess(line)\n",
    "\n",
    "\n",
    "\n",
    "df['proccesed'] = df['spoken_words'].apply(preproccess)\n",
    "df.head(10)"
   ]
  },
  {
   "cell_type": "code",
   "execution_count": 6,
   "metadata": {},
   "outputs": [
    {
     "data": {
      "text/plain": "(9562589, 12451860)"
     },
     "execution_count": 6,
     "metadata": {},
     "output_type": "execute_result"
    }
   ],
   "source": [
    "documents = df['proccesed'].to_numpy()\n",
    "model_skipgram = gensim.models.Word2Vec (documents, size=150, window=10, min_count=2, workers=10, sg=1)\n",
    "model_skipgram.train(documents,total_examples=len(documents),epochs=10)"
   ]
  },
  {
   "cell_type": "code",
   "execution_count": 11,
   "outputs": [],
   "source": [
    "model_skipgram.save(\"word2vec150.model\")"
   ],
   "metadata": {
    "collapsed": false,
    "pycharm": {
     "name": "#%%\n"
    }
   }
  },
  {
   "cell_type": "code",
   "execution_count": 14,
   "outputs": [
    {
     "name": "stdout",
     "output_type": "stream",
     "text": [
      "[ 0.48093364 -0.11120161 -0.19962901 -0.22844873  0.45902824 -0.2711622\n",
      " -0.2677558  -0.18262312  0.23664664 -0.3030019  -0.38875455  0.02917125\n",
      " -0.02349757 -0.49126995  0.37962243 -0.18414031 -0.77610195  0.20034058\n",
      " -0.6411673   0.04474456 -0.46160638  0.6284778  -0.38707048  0.1548561\n",
      "  0.10495966 -0.02089402  0.05490276 -0.40026447  0.32078347 -0.42050144\n",
      "  0.26828906  0.2650062   0.067035    0.11841341 -0.01867171  0.09910592\n",
      "  0.70613974 -0.04430321 -0.30474493 -0.47344017  0.16396135 -0.19581515\n",
      "  0.11617305  0.45195156 -0.02824962  0.36888537  0.09054059  0.30672282\n",
      " -0.43285945 -0.20884489 -0.59735817 -0.11812198 -0.00536526  0.20927288\n",
      "  0.1955856   0.11531454  0.01131231  0.02966101  0.10341604 -0.0827118\n",
      " -0.34656137 -0.2407804   0.07351422  0.01370372 -0.4112105   0.27754048\n",
      " -0.20136073  0.37504295  0.19595529 -0.20625554 -0.02654775 -0.17900413\n",
      "  0.03855534  0.27850956 -0.00880319 -0.05408399  0.1642144  -0.22453512\n",
      "  0.01445079  0.3805854   0.09779879 -0.06867129 -0.40554097 -0.19564044\n",
      " -0.29133293 -0.97188264  0.45413598  0.2991163  -0.15480487  0.37147328\n",
      "  0.21483876  0.7384618  -0.12490045 -0.18478097 -0.20191452 -0.9479552\n",
      " -0.15290998  0.4030631   0.31484646  0.0519453  -0.07191611  0.28736192\n",
      " -0.09456882  0.22530307  0.1116265   0.29077855 -0.15534607  0.00153\n",
      "  0.16142112 -0.29471835  0.15758388  0.21408355  0.25579843 -0.38483498\n",
      " -0.11217812 -0.20733504 -0.6897543  -0.3499575  -0.25854462 -0.53959787\n",
      " -0.39550322 -0.95158136 -0.5356994   0.19687334 -0.41466248  0.13533038\n",
      " -0.49898294  0.04309436 -0.16176552 -0.2291748  -0.19836873 -0.41270563\n",
      " -0.16529664  0.1667251   0.3897969   0.08069067 -0.13199677  0.15032417\n",
      " -0.12745123 -0.33819968 -0.40134126  0.34805673 -0.23859745 -0.20852725\n",
      " -0.25688323  0.23691836  0.13347206  0.08839326  0.27932268  0.35500112]\n"
     ]
    }
   ],
   "source": [
    "print(model_skipgram.wv['morning'])"
   ],
   "metadata": {
    "collapsed": false,
    "pycharm": {
     "name": "#%%\n"
    }
   }
  },
  {
   "cell_type": "code",
   "execution_count": 18,
   "outputs": [
    {
     "data": {
      "text/plain": "(9562854, 12451860)"
     },
     "execution_count": 18,
     "metadata": {},
     "output_type": "execute_result"
    }
   ],
   "source": [
    "model_100 = gensim.models.Word2Vec (documents, size=100, window=10, min_count=2, workers=10, sg=1)\n",
    "model_100.train(documents,total_examples=len(documents),epochs=10)"
   ],
   "metadata": {
    "collapsed": false,
    "pycharm": {
     "name": "#%%\n"
    }
   }
  },
  {
   "cell_type": "code",
   "execution_count": 19,
   "outputs": [],
   "source": [
    "model_100.save(\"word2vec100.model\")"
   ],
   "metadata": {
    "collapsed": false,
    "pycharm": {
     "name": "#%%\n"
    }
   }
  },
  {
   "cell_type": "code",
   "execution_count": 21,
   "outputs": [
    {
     "name": "stdout",
     "output_type": "stream",
     "text": [
      "100\n"
     ]
    }
   ],
   "source": [
    "print(model_100.wv['morning'])"
   ],
   "metadata": {
    "collapsed": false,
    "pycharm": {
     "name": "#%%\n"
    }
   }
  },
  {
   "cell_type": "code",
   "execution_count": 23,
   "outputs": [
    {
     "data": {
      "text/plain": "(9562520, 12451860)"
     },
     "execution_count": 23,
     "metadata": {},
     "output_type": "execute_result"
    }
   ],
   "source": [
    "model_50 = gensim.models.Word2Vec(documents, size=100, window=10, min_count=2, workers=10, sg=1)\n",
    "model_50.train(documents,total_examples=len(documents),epochs=10)"
   ],
   "metadata": {
    "collapsed": false,
    "pycharm": {
     "name": "#%%\n"
    }
   }
  },
  {
   "cell_type": "code",
   "execution_count": 24,
   "outputs": [],
   "source": [
    "model_50.save(\"word2vec50.model\")\n"
   ],
   "metadata": {
    "collapsed": false,
    "pycharm": {
     "name": "#%%\n"
    }
   }
  },
  {
   "cell_type": "code",
   "execution_count": 25,
   "outputs": [
    {
     "data": {
      "text/plain": "(131853, 3)"
     },
     "execution_count": 25,
     "metadata": {},
     "output_type": "execute_result"
    }
   ],
   "source": [
    "df.shape"
   ],
   "metadata": {
    "collapsed": false,
    "pycharm": {
     "name": "#%%\n"
    }
   }
  }
 ],
 "metadata": {
  "language_info": {
   "name": "python",
   "nbconvert_exporter": "python",
   "version": "3.9.4"
  },
  "orig_nbformat": 2,
  "kernelspec": {
   "name": "python3",
   "language": "python",
   "display_name": "Python 3"
  },
  "metadata": {
   "interpreter": {
    "hash": "753210d2ab280b800aa96e74482aff00ff2588c597cd9448926ae806e320dfa2"
   }
  }
 },
 "nbformat": 4,
 "nbformat_minor": 2
}