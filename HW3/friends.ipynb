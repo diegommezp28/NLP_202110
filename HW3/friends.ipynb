{
 "cells": [
  {
   "cell_type": "markdown",
   "metadata": {
    "id": "2aMtKhMsP0ae"
   },
   "source": [
    "# I. Using the Friends dataset build words embeddings using GENSIM and word2vec"
   ]
  },
  {
   "cell_type": "code",
   "execution_count": 1,
   "metadata": {
    "colab": {
     "base_uri": "https://localhost:8080/"
    },
    "id": "U185fMaZQ1hf",
    "outputId": "77e27740-2248-4545-8ed6-b96214a6de90"
   },
   "outputs": [
    {
     "name": "stdout",
     "output_type": "stream",
     "text": [
      "Drive already mounted at /content/drive; to attempt to forcibly remount, call drive.mount(\"/content/drive\", force_remount=True).\n"
     ]
    }
   ],
   "source": [
    "from google.colab import drive\n",
    "drive.mount('/content/drive')"
   ]
  },
  {
   "cell_type": "code",
   "execution_count": 2,
   "metadata": {
    "id": "CbxTJObAP0ai",
    "pycharm": {
     "name": "#%%\n"
    }
   },
   "outputs": [],
   "source": [
    "import gzip\n",
    "import gensim\n",
    "import logging\n",
    "import pandas as pd\n",
    "from gensim.utils import simple_preprocess\n",
    "import numpy as np\n",
    "import matplotlib.pyplot as plt\n",
    "from sklearn.manifold import TSNE\n",
    "import tensorflow as tf\n",
    "from tensorflow.keras import layers\n",
    "from tensorflow.keras import losses\n",
    "from tensorflow.keras import preprocessing\n",
    "from tensorflow.keras.layers.experimental.preprocessing import TextVectorization\n",
    "from sklearn.model_selection import train_test_split\n",
    "from sklearn.preprocessing import OneHotEncoder\n",
    "from keras.models import Sequential"
   ]
  },
  {
   "cell_type": "code",
   "execution_count": 3,
   "metadata": {
    "colab": {
     "base_uri": "https://localhost:8080/",
     "height": 686
    },
    "id": "nipceLOUP0ak",
    "outputId": "9d41e79d-783c-4ccf-8c34-0502fb3094a9",
    "pycharm": {
     "name": "#%%\n"
    }
   },
   "outputs": [
    {
     "name": "stdout",
     "output_type": "stream",
     "text": [
      "(46514, 2)\n"
     ]
    },
    {
     "data": {
      "text/html": [
       "<div>\n",
       "<style scoped>\n",
       "    .dataframe tbody tr th:only-of-type {\n",
       "        vertical-align: middle;\n",
       "    }\n",
       "\n",
       "    .dataframe tbody tr th {\n",
       "        vertical-align: top;\n",
       "    }\n",
       "\n",
       "    .dataframe thead th {\n",
       "        text-align: right;\n",
       "    }\n",
       "</style>\n",
       "<table border=\"1\" class=\"dataframe\">\n",
       "  <thead>\n",
       "    <tr style=\"text-align: right;\">\n",
       "      <th></th>\n",
       "      <th>raw_character_text</th>\n",
       "      <th>spoken_words</th>\n",
       "    </tr>\n",
       "  </thead>\n",
       "  <tbody>\n",
       "    <tr>\n",
       "      <th>0</th>\n",
       "      <td>Monica</td>\n",
       "      <td>There's nothing to tell! He's just some guy I ...</td>\n",
       "    </tr>\n",
       "    <tr>\n",
       "      <th>1</th>\n",
       "      <td>Joey</td>\n",
       "      <td>C'mon, you're going out with the guy! There's ...</td>\n",
       "    </tr>\n",
       "    <tr>\n",
       "      <th>2</th>\n",
       "      <td>Chandler</td>\n",
       "      <td>All right Joey, be nice.  So does he have a hu...</td>\n",
       "    </tr>\n",
       "    <tr>\n",
       "      <th>3</th>\n",
       "      <td>Phoebe</td>\n",
       "      <td>Wait, does he eat chalk?</td>\n",
       "    </tr>\n",
       "    <tr>\n",
       "      <th>4</th>\n",
       "      <td>Phoebe</td>\n",
       "      <td>Just, 'cause, I don't want her to go through w...</td>\n",
       "    </tr>\n",
       "    <tr>\n",
       "      <th>5</th>\n",
       "      <td>Monica</td>\n",
       "      <td>Okay, everybody relax. This is not even a date...</td>\n",
       "    </tr>\n",
       "    <tr>\n",
       "      <th>6</th>\n",
       "      <td>Chandler</td>\n",
       "      <td>Sounds like a date to me.</td>\n",
       "    </tr>\n",
       "    <tr>\n",
       "      <th>7</th>\n",
       "      <td>Chandler</td>\n",
       "      <td>Alright, so I'm back in high school, I'm stand...</td>\n",
       "    </tr>\n",
       "    <tr>\n",
       "      <th>8</th>\n",
       "      <td>Chandler</td>\n",
       "      <td>Then I look down, and I realize there's a phon...</td>\n",
       "    </tr>\n",
       "    <tr>\n",
       "      <th>9</th>\n",
       "      <td>Joey</td>\n",
       "      <td>Instead of...?</td>\n",
       "    </tr>\n",
       "    <tr>\n",
       "      <th>10</th>\n",
       "      <td>Chandler</td>\n",
       "      <td>That's right.</td>\n",
       "    </tr>\n",
       "    <tr>\n",
       "      <th>11</th>\n",
       "      <td>Joey</td>\n",
       "      <td>Never had that dream.</td>\n",
       "    </tr>\n",
       "    <tr>\n",
       "      <th>12</th>\n",
       "      <td>Phoebe</td>\n",
       "      <td>No.</td>\n",
       "    </tr>\n",
       "    <tr>\n",
       "      <th>13</th>\n",
       "      <td>Chandler</td>\n",
       "      <td>All of a sudden, the phone starts to ring. Now...</td>\n",
       "    </tr>\n",
       "    <tr>\n",
       "      <th>14</th>\n",
       "      <td>Monica</td>\n",
       "      <td>And they weren't looking at you before?!</td>\n",
       "    </tr>\n",
       "    <tr>\n",
       "      <th>15</th>\n",
       "      <td>Chandler</td>\n",
       "      <td>Finally, I figure I'd better answer it, and it...</td>\n",
       "    </tr>\n",
       "    <tr>\n",
       "      <th>16</th>\n",
       "      <td>Ross</td>\n",
       "      <td>(mortified) Hi.</td>\n",
       "    </tr>\n",
       "    <tr>\n",
       "      <th>17</th>\n",
       "      <td>Joey</td>\n",
       "      <td>This guy says hello, I wanna kill myself.</td>\n",
       "    </tr>\n",
       "    <tr>\n",
       "      <th>18</th>\n",
       "      <td>Monica</td>\n",
       "      <td>Are you okay, sweetie?</td>\n",
       "    </tr>\n",
       "    <tr>\n",
       "      <th>19</th>\n",
       "      <td>Ross</td>\n",
       "      <td>I just feel like someone reached down my throa...</td>\n",
       "    </tr>\n",
       "  </tbody>\n",
       "</table>\n",
       "</div>"
      ],
      "text/plain": [
       "   raw_character_text                                       spoken_words\n",
       "0              Monica  There's nothing to tell! He's just some guy I ...\n",
       "1                Joey  C'mon, you're going out with the guy! There's ...\n",
       "2            Chandler  All right Joey, be nice.  So does he have a hu...\n",
       "3              Phoebe                           Wait, does he eat chalk?\n",
       "4              Phoebe  Just, 'cause, I don't want her to go through w...\n",
       "5              Monica  Okay, everybody relax. This is not even a date...\n",
       "6            Chandler                          Sounds like a date to me.\n",
       "7            Chandler  Alright, so I'm back in high school, I'm stand...\n",
       "8            Chandler  Then I look down, and I realize there's a phon...\n",
       "9                Joey                                     Instead of...?\n",
       "10           Chandler                                      That's right.\n",
       "11               Joey                              Never had that dream.\n",
       "12             Phoebe                                                No.\n",
       "13           Chandler  All of a sudden, the phone starts to ring. Now...\n",
       "14             Monica           And they weren't looking at you before?!\n",
       "15           Chandler  Finally, I figure I'd better answer it, and it...\n",
       "16               Ross                                    (mortified) Hi.\n",
       "17               Joey          This guy says hello, I wanna kill myself.\n",
       "18             Monica                             Are you okay, sweetie?\n",
       "19               Ross  I just feel like someone reached down my throa..."
      ]
     },
     "execution_count": 3,
     "metadata": {
      "tags": []
     },
     "output_type": "execute_result"
    }
   ],
   "source": [
    "# TODO: Comentar ruta_dataset de abajo que es la ruta de colab, y la local para jupyter es la de arriba\n",
    "ruta_dataset = 'drive/MyDrive/docs/dialogs_friends_filter.csv'\n",
    "# ruta_dataset = 'drive/MyDrive/dialogs_friends_filter.csv'\n",
    "\n",
    "df = pd.read_csv(ruta_dataset).dropna()\n",
    "\n",
    "# imprima las primeras 5 filas\n",
    "df.head()\n",
    "\n",
    "print(df.shape)\n",
    "df.head(20) # returns (rows, columns)"
   ]
  },
  {
   "cell_type": "code",
   "execution_count": 4,
   "metadata": {
    "colab": {
     "base_uri": "https://localhost:8080/",
     "height": 359
    },
    "id": "eWTlnF5SP0al",
    "outputId": "0665d961-099f-4c6b-af53-f8c6f07abc28",
    "pycharm": {
     "name": "#%%\n"
    }
   },
   "outputs": [
    {
     "data": {
      "text/html": [
       "<div>\n",
       "<style scoped>\n",
       "    .dataframe tbody tr th:only-of-type {\n",
       "        vertical-align: middle;\n",
       "    }\n",
       "\n",
       "    .dataframe tbody tr th {\n",
       "        vertical-align: top;\n",
       "    }\n",
       "\n",
       "    .dataframe thead th {\n",
       "        text-align: right;\n",
       "    }\n",
       "</style>\n",
       "<table border=\"1\" class=\"dataframe\">\n",
       "  <thead>\n",
       "    <tr style=\"text-align: right;\">\n",
       "      <th></th>\n",
       "      <th>raw_character_text</th>\n",
       "      <th>spoken_words</th>\n",
       "      <th>proccesed</th>\n",
       "    </tr>\n",
       "  </thead>\n",
       "  <tbody>\n",
       "    <tr>\n",
       "      <th>0</th>\n",
       "      <td>Monica</td>\n",
       "      <td>There's nothing to tell! He's just some guy I ...</td>\n",
       "      <td>[there, nothing, to, tell, he, just, some, guy...</td>\n",
       "    </tr>\n",
       "    <tr>\n",
       "      <th>1</th>\n",
       "      <td>Joey</td>\n",
       "      <td>C'mon, you're going out with the guy! There's ...</td>\n",
       "      <td>[mon, you, re, going, out, with, the, guy, the...</td>\n",
       "    </tr>\n",
       "    <tr>\n",
       "      <th>2</th>\n",
       "      <td>Chandler</td>\n",
       "      <td>All right Joey, be nice.  So does he have a hu...</td>\n",
       "      <td>[all, right, joey, be, nice, so, does, he, hav...</td>\n",
       "    </tr>\n",
       "    <tr>\n",
       "      <th>3</th>\n",
       "      <td>Phoebe</td>\n",
       "      <td>Wait, does he eat chalk?</td>\n",
       "      <td>[wait, does, he, eat, chalk]</td>\n",
       "    </tr>\n",
       "    <tr>\n",
       "      <th>4</th>\n",
       "      <td>Phoebe</td>\n",
       "      <td>Just, 'cause, I don't want her to go through w...</td>\n",
       "      <td>[just, cause, don, want, her, to, go, through,...</td>\n",
       "    </tr>\n",
       "    <tr>\n",
       "      <th>5</th>\n",
       "      <td>Monica</td>\n",
       "      <td>Okay, everybody relax. This is not even a date...</td>\n",
       "      <td>[okay, everybody, relax, this, is, not, even, ...</td>\n",
       "    </tr>\n",
       "    <tr>\n",
       "      <th>6</th>\n",
       "      <td>Chandler</td>\n",
       "      <td>Sounds like a date to me.</td>\n",
       "      <td>[sounds, like, date, to, me]</td>\n",
       "    </tr>\n",
       "    <tr>\n",
       "      <th>7</th>\n",
       "      <td>Chandler</td>\n",
       "      <td>Alright, so I'm back in high school, I'm stand...</td>\n",
       "      <td>[alright, so, back, in, high, school, standing...</td>\n",
       "    </tr>\n",
       "    <tr>\n",
       "      <th>8</th>\n",
       "      <td>Chandler</td>\n",
       "      <td>Then I look down, and I realize there's a phon...</td>\n",
       "      <td>[then, look, down, and, realize, there, phone,...</td>\n",
       "    </tr>\n",
       "    <tr>\n",
       "      <th>9</th>\n",
       "      <td>Joey</td>\n",
       "      <td>Instead of...?</td>\n",
       "      <td>[instead, of]</td>\n",
       "    </tr>\n",
       "  </tbody>\n",
       "</table>\n",
       "</div>"
      ],
      "text/plain": [
       "  raw_character_text  ...                                          proccesed\n",
       "0             Monica  ...  [there, nothing, to, tell, he, just, some, guy...\n",
       "1               Joey  ...  [mon, you, re, going, out, with, the, guy, the...\n",
       "2           Chandler  ...  [all, right, joey, be, nice, so, does, he, hav...\n",
       "3             Phoebe  ...                       [wait, does, he, eat, chalk]\n",
       "4             Phoebe  ...  [just, cause, don, want, her, to, go, through,...\n",
       "5             Monica  ...  [okay, everybody, relax, this, is, not, even, ...\n",
       "6           Chandler  ...                       [sounds, like, date, to, me]\n",
       "7           Chandler  ...  [alright, so, back, in, high, school, standing...\n",
       "8           Chandler  ...  [then, look, down, and, realize, there, phone,...\n",
       "9               Joey  ...                                      [instead, of]\n",
       "\n",
       "[10 rows x 3 columns]"
      ]
     },
     "execution_count": 4,
     "metadata": {
      "tags": []
     },
     "output_type": "execute_result"
    }
   ],
   "source": [
    "def preproccess(line):\n",
    "    return simple_preprocess(line)\n",
    "\n",
    "df['proccesed'] = df['spoken_words'].apply(preproccess)\n",
    "df.head(10)"
   ]
  },
  {
   "cell_type": "code",
   "execution_count": 5,
   "metadata": {
    "id": "4w6Ag9UkP0am",
    "pycharm": {
     "name": "#%%\n"
    }
   },
   "outputs": [],
   "source": [
    "documents = df['proccesed'].to_numpy()"
   ]
  },
  {
   "cell_type": "markdown",
   "metadata": {
    "id": "4qUdbmPbP0am"
   },
   "source": [
    "### Generate 150 sized Word2vec embbedings"
   ]
  },
  {
   "cell_type": "code",
   "execution_count": 6,
   "metadata": {
    "colab": {
     "base_uri": "https://localhost:8080/"
    },
    "id": "n2da_C8IP0an",
    "outputId": "f069b540-77eb-4af2-b1d7-5f95b09a7b42",
    "pycharm": {
     "name": "#%%\n"
    }
   },
   "outputs": [
    {
     "data": {
      "text/plain": [
       "(3686114, 5213860)"
      ]
     },
     "execution_count": 6,
     "metadata": {
      "tags": []
     },
     "output_type": "execute_result"
    }
   ],
   "source": [
    "#TODO: Descomentar esta y comentar la otra, por alguna razon no es vector_size si no size en colab\n",
    "model_150 = gensim.models.Word2Vec(documents, vector_size=150, window=10, min_count=2, workers=10, sg=1)\n",
    "#model_150 = gensim.models.Word2Vec(documents, size=150, window=10, min_count=2, workers=10, sg=1)\n",
    "\n",
    "model_150.train(documents, total_examples=len(documents), epochs=10)"
   ]
  },
  {
   "cell_type": "code",
   "execution_count": 7,
   "metadata": {
    "id": "m88PR9rGP0ao",
    "pycharm": {
     "name": "#%%\n"
    }
   },
   "outputs": [],
   "source": [
    "model_150.save(\"Friends_150_5.model\")"
   ]
  },
  {
   "cell_type": "code",
   "execution_count": 8,
   "metadata": {
    "colab": {
     "base_uri": "https://localhost:8080/"
    },
    "id": "Gma3i9gRP0ao",
    "outputId": "5a1fe55b-774a-42d1-a936-8b8532345155",
    "pycharm": {
     "name": "#%%\n"
    }
   },
   "outputs": [
    {
     "name": "stdout",
     "output_type": "stream",
     "text": [
      "[ 0.22607931 -0.17272873  0.06488743 -0.2568457  -0.26758173  0.28254592\n",
      " -0.09741213 -0.27098307 -0.18296501 -0.11525666  0.20429523  0.11599481\n",
      " -0.2621406  -0.13764709  0.02311461 -0.23755874  0.5429118  -0.12309107\n",
      " -0.35519683  0.07987636 -0.48879868 -0.23643506  0.45918882 -0.20109405\n",
      " -0.04959606  0.03427742  0.22576055  0.11069165 -0.24931453 -0.12398552\n",
      " -0.16584608 -0.5896523  -0.354044   -0.37567312  0.07729181 -0.05626167\n",
      " -0.15733786 -0.48049042 -0.15559222  0.11047824 -0.324817    0.11386047\n",
      " -0.23533303 -0.44947717  0.16083187 -0.09072217 -0.04548325  0.7213528\n",
      "  0.03173406 -0.04247022 -0.10155164 -0.05884732 -0.22155997 -0.297781\n",
      " -0.24157554  0.56308776  0.16098613 -0.5975666  -0.19365577 -0.18770498\n",
      " -0.19002269 -0.34923616 -0.00253407  0.09875023  0.07272036 -0.74680096\n",
      "  0.31321245  0.17966749  0.10272843  0.01450513  0.7282284   0.34659567\n",
      " -0.76611185  0.34756958  0.0326685  -0.7459757   0.17605264  0.3000374\n",
      "  0.10917979 -0.46284026 -0.25417677 -0.17860892  0.49399412  0.14895837\n",
      "  0.433988    0.31394482  0.03132792  0.21164301  0.09446285 -0.2008254\n",
      "  0.36873186 -0.45379144 -0.69328576 -0.0369018   0.6309258  -0.03266785\n",
      "  0.43263248 -0.23771021  0.53006744 -0.39746657  0.556139    0.43450296\n",
      "  0.42954835  0.16837962  0.40616432 -0.22966817  0.01060072  0.31567916\n",
      " -0.11113757  0.23345076 -0.0674615   0.30139983  0.43796554  0.16665603\n",
      "  0.26135635  0.2800822  -0.11202102  0.17609678  0.23109107 -0.2976516\n",
      " -0.06922573 -0.32761234  0.5759625   0.25819314  0.31181568  0.46799582\n",
      "  0.4414331  -0.67432404  0.45255873  0.05892571 -0.05736142  0.19786091\n",
      "  0.31008664 -0.10680304 -0.10340776  0.17941312 -0.04850755 -0.1234839\n",
      "  0.76237226 -0.26360023  0.23703101  0.47821656  0.07877258 -0.16310318\n",
      " -0.12620668  0.2535365   0.33592114 -0.32948336  0.25152123  0.30939105]\n"
     ]
    }
   ],
   "source": [
    "print(model_150.wv['everybody'])"
   ]
  },
  {
   "cell_type": "markdown",
   "metadata": {
    "id": "LXqah5jfP0ap"
   },
   "source": [
    "### Generate 100 sized Word2vec embbedings"
   ]
  },
  {
   "cell_type": "code",
   "execution_count": 10,
   "metadata": {
    "colab": {
     "base_uri": "https://localhost:8080/"
    },
    "id": "RkYvHi01P0aq",
    "outputId": "aca346d5-1f32-4e92-9de9-f16d190cad4a",
    "pycharm": {
     "name": "#%%\n"
    }
   },
   "outputs": [
    {
     "data": {
      "text/plain": [
       "(3683958, 5213860)"
      ]
     },
     "execution_count": 10,
     "metadata": {
      "tags": []
     },
     "output_type": "execute_result"
    }
   ],
   "source": [
    "#TODO: Descomentar esta y comentar la otra, por alguna razon no es vector_size si no size en colab\n",
    "model_100 = gensim.models.Word2Vec (documents, vector_size=100, window=10, min_count=2, workers=10, sg=1)\n",
    "#model_100 = gensim.models.Word2Vec (documents, size=100, window=10, min_count=2, workers=10, sg=1)\n",
    "\n",
    "model_100.train(documents,total_examples=len(documents),epochs=10)"
   ]
  },
  {
   "cell_type": "code",
   "execution_count": 11,
   "metadata": {
    "id": "a9C5YOA8P0ar",
    "pycharm": {
     "name": "#%%\n"
    }
   },
   "outputs": [],
   "source": [
    "model_100.save(\"Friends_100_5.model\")"
   ]
  },
  {
   "cell_type": "code",
   "execution_count": 12,
   "metadata": {
    "colab": {
     "base_uri": "https://localhost:8080/"
    },
    "id": "CkSSa959P0ar",
    "outputId": "d972454b-d34a-45d5-eaf8-434b33124e37",
    "pycharm": {
     "name": "#%%\n"
    }
   },
   "outputs": [
    {
     "name": "stdout",
     "output_type": "stream",
     "text": [
      "[ 0.16898862 -0.5845441   0.24582508  0.19230062 -0.254306    0.22625785\n",
      " -0.1141877  -0.2831418  -0.39606783 -0.50044703  0.2616555  -0.12120627\n",
      "  0.36477318  0.35892326  0.11753351 -0.3404649   0.14056608  0.01440836\n",
      "  0.5243586  -0.1444913  -0.24938282  0.08404137  0.517771    0.46459872\n",
      " -0.31144422  0.21977155 -0.3379766   0.1950083  -0.38289472 -0.19981882\n",
      " -0.07487556  0.38925156 -0.45326045 -0.40886515 -0.02904515  0.1430384\n",
      "  0.14845051 -0.54371935 -0.08288455  0.06954743 -0.10758631  0.0762126\n",
      " -0.2497809  -0.29316244  0.15584607 -0.29144064  0.43269798 -0.3164192\n",
      " -0.1228588  -0.2017503  -0.10604768 -0.2600075  -0.04310344 -0.18127382\n",
      " -0.32654122 -0.14134164  0.20409234 -0.8667591  -0.54403865 -0.5747288\n",
      " -0.3892716  -0.5170524  -0.42599064 -0.28776345 -0.04551794 -0.29580763\n",
      "  0.38510782  0.5822988   0.25123137 -0.08215452  0.4925252  -0.17330101\n",
      " -0.21560794  0.549121    0.2156406  -0.6541475   0.11290346  0.25418887\n",
      "  0.21035206 -0.40719187  0.4814121  -0.40186208  0.03548548  0.26728317\n",
      "  0.43281814  0.08043041  0.13598686  0.6020342  -0.3700777  -0.642678\n",
      "  0.05928979  0.16893008 -0.70706296  0.03017228  0.786436    0.46058366\n",
      "  0.23938802  0.04226469  0.32476985 -0.5981067 ]\n"
     ]
    }
   ],
   "source": [
    "print(model_100.wv['everybody'])"
   ]
  },
  {
   "cell_type": "markdown",
   "metadata": {
    "id": "UvZRclsZP0as"
   },
   "source": [
    "### Generate 50 sized Word2vec embbedings"
   ]
  },
  {
   "cell_type": "code",
   "execution_count": 13,
   "metadata": {
    "colab": {
     "base_uri": "https://localhost:8080/"
    },
    "id": "bsCMi0l_P0as",
    "outputId": "0e359994-f60b-40e7-cd42-f6ca686cbaf8",
    "pycharm": {
     "name": "#%%\n"
    }
   },
   "outputs": [
    {
     "data": {
      "text/plain": [
       "(3685978, 5213860)"
      ]
     },
     "execution_count": 13,
     "metadata": {
      "tags": []
     },
     "output_type": "execute_result"
    }
   ],
   "source": [
    "#TODO: Descomentar esta y comentar la otra, por alguna razon no es vector_size si no size en colab\n",
    "model_50 = gensim.models.Word2Vec(documents, vector_size=50, window=10, min_count=2, workers=10, sg=1)\n",
    "#model_50 = gensim.models.Word2Vec(documents, size=50, window=10, min_count=2, workers=10, sg=1)\n",
    "\n",
    "model_50.train(documents, total_examples=len(documents),epochs=10)"
   ]
  },
  {
   "cell_type": "code",
   "execution_count": 14,
   "metadata": {
    "id": "kgSvp_zcP0at",
    "pycharm": {
     "name": "#%%\n"
    }
   },
   "outputs": [],
   "source": [
    "model_50.save(\"Friends_50_5.model\")"
   ]
  },
  {
   "cell_type": "code",
   "execution_count": 15,
   "metadata": {
    "colab": {
     "base_uri": "https://localhost:8080/"
    },
    "id": "GFvLvErzP0at",
    "outputId": "0ac9dd09-0800-4d14-a887-9f61cee3819d",
    "pycharm": {
     "name": "#%%\n"
    }
   },
   "outputs": [
    {
     "data": {
      "text/plain": [
       "(46514, 3)"
      ]
     },
     "execution_count": 15,
     "metadata": {
      "tags": []
     },
     "output_type": "execute_result"
    }
   ],
   "source": [
    "df.shape"
   ]
  },
  {
   "cell_type": "markdown",
   "metadata": {
    "id": "su0vI7lHP0au"
   },
   "source": [
    "## Load from disk the generated models"
   ]
  },
  {
   "cell_type": "code",
   "execution_count": 16,
   "metadata": {
    "id": "_k0MFOnOP0av",
    "pycharm": {
     "name": "#%%\n"
    }
   },
   "outputs": [],
   "source": [
    "model50 = gensim.models.Word2Vec.load(\"Friends_50_5.model\")\n",
    "model100 = gensim.models.Word2Vec.load(\"Friends_100_5.model\")\n",
    "model150 = gensim.models.Word2Vec.load(\"Friends_150_5.model\")"
   ]
  },
  {
   "cell_type": "code",
   "execution_count": 65,
   "metadata": {
    "colab": {
     "base_uri": "https://localhost:8080/"
    },
    "id": "LdoRT1SV34c8",
    "outputId": "a94839b9-3909-4bd1-f20f-47e944ac505d"
   },
   "outputs": [
    {
     "data": {
      "text/plain": [
       "8166"
      ]
     },
     "execution_count": 65,
     "metadata": {
      "tags": []
     },
     "output_type": "execute_result"
    }
   ],
   "source": [
    "len(model50.wv.vectors)"
   ]
  },
  {
   "cell_type": "code",
   "execution_count": 66,
   "metadata": {
    "colab": {
     "base_uri": "https://localhost:8080/"
    },
    "id": "54yJFwb83-R_",
    "outputId": "6e82c9a4-a20a-41a0-ebbc-c8e71287b217"
   },
   "outputs": [
    {
     "data": {
      "text/plain": [
       "8166"
      ]
     },
     "execution_count": 66,
     "metadata": {
      "tags": []
     },
     "output_type": "execute_result"
    }
   ],
   "source": [
    "len(model100.wv.vectors)"
   ]
  },
  {
   "cell_type": "code",
   "execution_count": 67,
   "metadata": {
    "colab": {
     "base_uri": "https://localhost:8080/"
    },
    "id": "-p1jc4PI4BBr",
    "outputId": "3c569cc2-22c5-449f-c8bd-ac4924f016bd"
   },
   "outputs": [
    {
     "data": {
      "text/plain": [
       "8166"
      ]
     },
     "execution_count": 67,
     "metadata": {
      "tags": []
     },
     "output_type": "execute_result"
    }
   ],
   "source": [
    "len(model150.wv.vectors)"
   ]
  },
  {
   "cell_type": "code",
   "execution_count": 17,
   "metadata": {
    "colab": {
     "base_uri": "https://localhost:8080/"
    },
    "id": "l_ILjR9QP0av",
    "outputId": "8aea26ee-e448-489c-d24b-422a66932bef",
    "pycharm": {
     "name": "#%%\n"
    }
   },
   "outputs": [
    {
     "data": {
      "text/plain": [
       "[('joey', 0.8493425250053406),\n",
       " ('monica', 0.8271433115005493),\n",
       " ('ross', 0.8136223554611206),\n",
       " ('pleased', 0.7701654434204102),\n",
       " ('voices', 0.7676452398300171),\n",
       " ('wonders', 0.7527520656585693),\n",
       " ('panics', 0.7470481395721436),\n",
       " ('rachel', 0.7415343523025513),\n",
       " ('trail', 0.7388892769813538),\n",
       " ('hence', 0.7339560389518738)]"
      ]
     },
     "execution_count": 17,
     "metadata": {
      "tags": []
     },
     "output_type": "execute_result"
    }
   ],
   "source": [
    "model50.wv.similar_by_word('chandler')"
   ]
  },
  {
   "cell_type": "code",
   "execution_count": 18,
   "metadata": {
    "id": "fMow7bhSP0aw",
    "pycharm": {
     "name": "#%%\n"
    }
   },
   "outputs": [],
   "source": [
    "def display_closestwords_tsnescatterplot(model, word, n):\n",
    "    \n",
    "    arr = np.empty((0,n), dtype='f')\n",
    "    word_labels = [word]\n",
    "\n",
    "    # get close words\n",
    "    close_words = model.wv.similar_by_word(word)\n",
    "    \n",
    "    # add the vector for each of the closest words to the array\n",
    "    arr = np.append(arr, np.array([model.wv[word]]), axis=0)\n",
    "    for wrd_score in close_words:\n",
    "        wrd_vector = model.wv[wrd_score[0]]\n",
    "        word_labels.append(wrd_score[0])\n",
    "        arr = np.append(arr, np.array([wrd_vector]), axis=0)\n",
    "        \n",
    "    # find tsne coords for 2 dimensions\n",
    "    tsne = TSNE(n_components=2, random_state=0)\n",
    "    np.set_printoptions(suppress=True)\n",
    "    Y = tsne.fit_transform(arr)\n",
    "\n",
    "    x_coords = Y[:, 0]\n",
    "    y_coords = Y[:, 1]\n",
    "    # display scatter plot\n",
    "    plt.scatter(x_coords, y_coords)\n",
    "\n",
    "    for label, x, y in zip(word_labels, x_coords, y_coords):\n",
    "        plt.annotate(label, xy=(x, y), xytext=(0, 0), textcoords='offset points')\n",
    "    plt.xlim(x_coords.min()+0.00005, x_coords.max()+0.00005)\n",
    "    plt.ylim(y_coords.min()+0.00005, y_coords.max()+0.00005)\n",
    "    plt.savefig(f'./{word}_{n}.jpg')\n",
    "    plt.show()"
   ]
  },
  {
   "cell_type": "markdown",
   "metadata": {
    "id": "IV-UwrngP0ax"
   },
   "source": [
    "# I. 2D Graphs and analysis\n",
    "***\n",
    "\n",
    "**Vector dimension:** 50"
   ]
  },
  {
   "cell_type": "code",
   "execution_count": 19,
   "metadata": {
    "colab": {
     "base_uri": "https://localhost:8080/",
     "height": 273
    },
    "id": "PuHYFh2VP0ay",
    "outputId": "2f865909-3f70-412e-df10-1e10d8fdfbdf",
    "pycharm": {
     "name": "#%%\n"
    }
   },
   "outputs": [
    {
     "data": {
      "image/png": "[encoded data removed]",
      "text/plain": [
       "<Figure size 432x288 with 1 Axes>"
      ]
     },
     "metadata": {
      "needs_background": "light",
      "tags": []
     },
     "output_type": "display_data"
    }
   ],
   "source": [
    "display_closestwords_tsnescatterplot(model50, 'chandler', 50)"
   ]
  },
  {
   "cell_type": "code",
   "execution_count": 20,
   "metadata": {
    "colab": {
     "base_uri": "https://localhost:8080/",
     "height": 273
    },
    "id": "IXbd_VtcP0az",
    "outputId": "5b97af90-58cf-498a-e78c-320a72472f57",
    "pycharm": {
     "name": "#%%\n"
    }
   },
   "outputs": [
    {
     "data": {
      "image/png": "[encoded data removed]",
      "text/plain": [
       "<Figure size 432x288 with 1 Axes>"
      ]
     },
     "metadata": {
      "needs_background": "light",
      "tags": []
     },
     "output_type": "display_data"
    }
   ],
   "source": [
    "display_closestwords_tsnescatterplot(model50, 'rachel', 50)"
   ]
  },
  {
   "cell_type": "markdown",
   "metadata": {
    "id": "rniZZHvUP0az"
   },
   "source": [
    "**Vector dimension:** 100"
   ]
  },
  {
   "cell_type": "code",
   "execution_count": 21,
   "metadata": {
    "colab": {
     "base_uri": "https://localhost:8080/",
     "height": 273
    },
    "id": "8St3qkA_P0a0",
    "outputId": "1c2e04a3-6e9d-4899-a968-f517c3ca383b",
    "pycharm": {
     "name": "#%%\n"
    }
   },
   "outputs": [
    {
     "data": {
      "image/png": "[encoded data removed]",
      "text/plain": [
       "<Figure size 432x288 with 1 Axes>"
      ]
     },
     "metadata": {
      "needs_background": "light",
      "tags": []
     },
     "output_type": "display_data"
    }
   ],
   "source": [
    "display_closestwords_tsnescatterplot(model100, 'chandler', 100)"
   ]
  },
  {
   "cell_type": "code",
   "execution_count": 22,
   "metadata": {
    "colab": {
     "base_uri": "https://localhost:8080/",
     "height": 273
    },
    "id": "CmyyRH4fP0a0",
    "outputId": "f9788545-61c2-4b98-ae1d-650aa180a0dc",
    "pycharm": {
     "name": "#%%\n"
    }
   },
   "outputs": [
    {
     "data": {
      "image/png": "[encoded data removed]",
      "text/plain": [
       "<Figure size 432x288 with 1 Axes>"
      ]
     },
     "metadata": {
      "needs_background": "light",
      "tags": []
     },
     "output_type": "display_data"
    }
   ],
   "source": [
    "display_closestwords_tsnescatterplot(model100, 'rachel', 100)"
   ]
  },
  {
   "cell_type": "markdown",
   "metadata": {
    "id": "JUp5D5O6P0a1"
   },
   "source": [
    "**Vector size:** 150"
   ]
  },
  {
   "cell_type": "code",
   "execution_count": 23,
   "metadata": {
    "colab": {
     "base_uri": "https://localhost:8080/",
     "height": 273
    },
    "id": "IQ-djw1sP0a1",
    "outputId": "629d755c-d29f-413f-92bb-2b57f2a5e648",
    "pycharm": {
     "name": "#%%\n"
    }
   },
   "outputs": [
    {
     "data": {
      "image/png": "[encoded data removed]",
      "text/plain": [
       "<Figure size 432x288 with 1 Axes>"
      ]
     },
     "metadata": {
      "needs_background": "light",
      "tags": []
     },
     "output_type": "display_data"
    }
   ],
   "source": [
    "display_closestwords_tsnescatterplot(model150, 'chandler', 150)"
   ]
  },
  {
   "cell_type": "code",
   "execution_count": 24,
   "metadata": {
    "colab": {
     "base_uri": "https://localhost:8080/",
     "height": 273
    },
    "id": "w8IwyxifP0a2",
    "outputId": "f3f553e1-d94d-44cf-8300-35eef59fc968",
    "pycharm": {
     "name": "#%%\n"
    }
   },
   "outputs": [
    {
     "data": {
      "image/png": "[encoded data removed]",
      "text/plain": [
       "<Figure size 432x288 with 1 Axes>"
      ]
     },
     "metadata": {
      "needs_background": "light",
      "tags": []
     },
     "output_type": "display_data"
    }
   ],
   "source": [
    "display_closestwords_tsnescatterplot(model150, 'rachel', 150)"
   ]
  },
  {
   "cell_type": "markdown",
   "metadata": {
    "id": "edqP3TmrP0a2"
   },
   "source": [
    "# III. Redes neuronales"
   ]
  },
  {
   "cell_type": "markdown",
   "metadata": {
    "id": "lZpnMlTOP0a3"
   },
   "source": [
    "## Preparacion de los datos"
   ]
  },
  {
   "cell_type": "code",
   "execution_count": 77,
   "metadata": {
    "id": "JwWIi9imP0a3",
    "pycharm": {
     "name": "#%%\n"
    }
   },
   "outputs": [],
   "source": [
    "'''\n",
    "Aquí se filtra el dataset para que solo queden los dialogos relevantes, los de ls personajes principales.\n",
    "'''\n",
    "# Dataset from - https://archive.ics.uci.edu/ml/datasets/SMS+Spam+Collection\n",
    "df = pd.read_csv(ruta_dataset).dropna() \n",
    "\n",
    "# Esto sirve para saber cuantas categorías hay, abajo se usa. Por favor no borrar.\n",
    "target_friends = ['Chandler', 'Joey', 'Monica', 'Phoebe', 'Rachel', 'Ross']"
   ]
  },
  {
   "cell_type": "code",
   "execution_count": 78,
   "metadata": {
    "colab": {
     "base_uri": "https://localhost:8080/"
    },
    "id": "0As2RmR1P0a3",
    "outputId": "b7a051e9-33f4-4653-c264-a860d71626f5",
    "pycharm": {
     "name": "#%%\n"
    }
   },
   "outputs": [
    {
     "name": "stdout",
     "output_type": "stream",
     "text": [
      "[array(['Chandler', 'Joey', 'Monica', 'Phoebe', 'Rachel', 'Ross'],\n",
      "      dtype=object)]\n"
     ]
    }
   ],
   "source": [
    "'''\n",
    "Se realiza un Encoding de los nombres de los personajes principales. \n",
    "La idea es que cada categoría de personaje este codificada por un vector\n",
    "1x6 binario. \n",
    "'''\n",
    "enc = OneHotEncoder(handle_unknown='ignore')\n",
    "enc.fit(df[['raw_character_text']])\n",
    "print(enc.categories_)"
   ]
  },
  {
   "cell_type": "code",
   "execution_count": 79,
   "metadata": {
    "id": "McwNh0VJP0a4",
    "pycharm": {
     "name": "#%%\n"
    }
   },
   "outputs": [],
   "source": [
    "'''\n",
    "Se dividen los datos en 60 training, 20 validación y 20 testing\n",
    "'''\n",
    "# df_yelp = df[df['source'] == 'yelp']\n",
    "sentences = df['spoken_words'].values\n",
    "\n",
    "y = enc.transform(df[['raw_character_text']]).toarray()\n",
    "sentences_train_val, sentences_test, y_train_val, y_test = train_test_split(sentences, y, test_size=0.20, random_state=1000)\n",
    "sentences_train, sentences_val, y_train, y_val = train_test_split(sentences_train_val, y_train_val, test_size=0.25, random_state=1000)\n",
    "\n",
    "# Once we have our handles, we format the datasets in a Keras-fit compatible\n",
    "# format: a tuple of the form (text_data, label).\n",
    "train_dataset = tf.data.Dataset.from_tensor_slices((sentences_train, y_train))\n",
    "test_dataset = tf.data.Dataset.from_tensor_slices((sentences_test, y_test))\n",
    "\n",
    "# We also create a dataset with only the textual data in it. This will be used\n",
    "# to build our vocabulary later on.\n",
    "text_dataset = tf.data.Dataset.from_tensor_slices((sentences_train))"
   ]
  },
  {
   "cell_type": "code",
   "execution_count": 80,
   "metadata": {
    "colab": {
     "base_uri": "https://localhost:8080/"
    },
    "id": "XpgEQq8z4XV2",
    "outputId": "f1edb125-4b98-4a55-f9bf-49458ce287df"
   },
   "outputs": [
    {
     "name": "stdout",
     "output_type": "stream",
     "text": [
      "46514\n",
      "27908\n",
      "9303\n",
      "9303\n"
     ]
    }
   ],
   "source": [
    "total = len(sentences)\n",
    "train = len(sentences_train)\n",
    "val = len(sentences_val)\n",
    "test = len(sentences_test)\n",
    "\n",
    "print(total)\n",
    "print(train)\n",
    "print(val)\n",
    "print(test)"
   ]
  },
  {
   "cell_type": "code",
   "execution_count": 81,
   "metadata": {
    "id": "2r1js2HvP0a5",
    "pycharm": {
     "name": "#%%\n"
    }
   },
   "outputs": [],
   "source": [
    "vectorize_layer = TextVectorization(\n",
    "    ngrams=None, max_tokens=None, vocabulary=None,\n",
    "    output_mode='binary', output_sequence_length=None, pad_to_max_tokens=True, \n",
    ")"
   ]
  },
  {
   "cell_type": "code",
   "execution_count": 82,
   "metadata": {
    "colab": {
     "base_uri": "https://localhost:8080/"
    },
    "id": "eK7H1MKgP0a6",
    "outputId": "9cdcbf30-90a7-421d-f96c-8df4e261be7e",
    "pycharm": {
     "name": "#%%\n"
    }
   },
   "outputs": [
    {
     "data": {
      "text/plain": [
       "14020"
      ]
     },
     "execution_count": 82,
     "metadata": {
      "tags": []
     },
     "output_type": "execute_result"
    }
   ],
   "source": [
    "vectorize_layer.adapt(text_dataset.batch(32))\n",
    "len(vectorize_layer.get_vocabulary())"
   ]
  },
  {
   "cell_type": "markdown",
   "metadata": {
    "id": "BjzxBzrSP0a6"
   },
   "source": [
    "# 3. Multinomial classification using Embbedings"
   ]
  },
  {
   "cell_type": "code",
   "execution_count": 30,
   "metadata": {
    "id": "M_khQJIkP0a7",
    "pycharm": {
     "name": "#%%\n"
    }
   },
   "outputs": [],
   "source": [
    "# Load pretrained models\n",
    "model_50 = gensim.models.Word2Vec.load(\"Friends_50_5.model\")\n",
    "model_100 = gensim.models.Word2Vec.load(\"Friends_100_5.model\")\n",
    "model_150 = gensim.models.Word2Vec.load(\"Friends_150_5.model\")"
   ]
  },
  {
   "cell_type": "code",
   "execution_count": 31,
   "metadata": {
    "id": "RthcM2OAP0a7",
    "pycharm": {
     "name": "#%%\n"
    }
   },
   "outputs": [],
   "source": [
    "# pretrained.wv.index_to_key\n",
    "\n",
    "def get_weight_matrix(embedding, vocab):\n",
    "    # total vocabulary size plus 0 for unknown words\n",
    "    vocab_size = len(vocab) \n",
    "    embedding_dim = len(embedding['chandler'])\n",
    "    hits = 0\n",
    "    misses = 0\n",
    "    # define weight matrix dimensions with all 0\n",
    "    weight_matrix = np.zeros((vocab_size, embedding_dim))\n",
    "    # step vocab, store vectors using the Tokenizer's integer mapping\n",
    "    for i in range(len(vocab)):\n",
    "        try:\n",
    "            weight_matrix[i] = embedding[vocab[i]]\n",
    "            hits += 1\n",
    "        except:\n",
    "            misses += 1\n",
    "    print(\"Converted %d words (%d misses)\" % (hits, misses))\n",
    "    return weight_matrix"
   ]
  },
  {
   "cell_type": "code",
   "execution_count": 83,
   "metadata": {
    "id": "Pv1U6TGoP0a8",
    "pycharm": {
     "name": "#%%\n"
    }
   },
   "outputs": [],
   "source": [
    "\n",
    "x_train = vectorize_layer(np.array([[s] for s in sentences_train])).numpy()\n",
    "x_val = vectorize_layer(np.array([[s] for s in sentences_val])).numpy()\n",
    "x_test = vectorize_layer(np.array([[s] for s in sentences_test])).numpy()\n",
    "\n",
    "\n",
    "y_train = np.array(y_train)\n",
    "y_val = np.array(y_val)\n",
    "y_test = np.array(y_test)"
   ]
  },
  {
   "cell_type": "code",
   "execution_count": 33,
   "metadata": {
    "colab": {
     "base_uri": "https://localhost:8080/"
    },
    "id": "ybHjxWlmP0a8",
    "outputId": "4e99fe90-0540-4511-d481-2a33f168b5b7",
    "pycharm": {
     "name": "#%%\n"
    }
   },
   "outputs": [
    {
     "name": "stdout",
     "output_type": "stream",
     "text": [
      "(27908, 14020)\n",
      "(9303, 14020)\n",
      "(27908, 6)\n",
      "(9303, 6)\n"
     ]
    }
   ],
   "source": [
    "print(x_train.shape)\n",
    "print(x_val.shape)\n",
    "# print(x_test.shape)\n",
    "print(y_train.shape)\n",
    "print(y_val.shape)\n",
    "# print(y_test.shape)"
   ]
  },
  {
   "cell_type": "code",
   "execution_count": 34,
   "metadata": {
    "id": "VjklNh3rP0a9",
    "pycharm": {
     "name": "#%%\n"
    }
   },
   "outputs": [],
   "source": [
    "def generatePreEmbbedingModel(model, embedding_dim, vectorize_layer, architecture_id = 1):\n",
    "    batch_size = 32\n",
    "    epochs = 10\n",
    "    weights = get_weight_matrix(model.wv, vectorize_layer.get_vocabulary())\n",
    "    num_tokens = len(vectorize_layer.get_vocabulary()) \n",
    "    embedding_layer = layers.Embedding(\n",
    "        num_tokens,\n",
    "        embedding_dim,\n",
    "        embeddings_initializer=tf.keras.initializers.Constant(weights),\n",
    "        trainable=False,\n",
    "    )\n",
    "\n",
    "    int_sequences_input = tf.keras.Input(shape=(None,), dtype='int64')\n",
    "    embedded_sequences = embedding_layer(int_sequences_input)\n",
    "    x = layers.GlobalAveragePooling1D()(embedded_sequences)\n",
    "\n",
    "    if architecture_id == 1:\n",
    "        x = layers.Dense(10, activation='relu')(x)\n",
    "    elif architecture_id == 2:\n",
    "        x = layers.Dense(80, activation='relu')(x)\n",
    "        x = layers.Dense(250, activation='relu')(x)\n",
    "    elif architecture_id == 3:\n",
    "        x = layers.Dense(80, activation='relu')(x)\n",
    "        x = layers.Dropout(0.3)(x)\n",
    "        x = layers.BatchNormalization()(x)\n",
    "        x = layers.Dense(250, activation='relu')(x)\n",
    "        x = layers.Dropout(0.5)(x)\n",
    "\n",
    "    preds = layers.Dense(len(target_friends), activation='softmax')(x)\n",
    "    modelRN = tf.keras.Model(int_sequences_input, preds)\n",
    "\n",
    "    return modelRN"
   ]
  },
  {
   "cell_type": "code",
   "execution_count": 35,
   "metadata": {
    "id": "XGF7eRy1P0a9",
    "pycharm": {
     "name": "#%%\n"
    }
   },
   "outputs": [],
   "source": [
    "#Parameters\n",
    "batch_size = 32\n",
    "epochs = 10"
   ]
  },
  {
   "cell_type": "markdown",
   "metadata": {
    "id": "CX4sI9v4P0a-"
   },
   "source": [
    "## Primera Arquitectura"
   ]
  },
  {
   "cell_type": "code",
   "execution_count": 36,
   "metadata": {
    "colab": {
     "base_uri": "https://localhost:8080/"
    },
    "id": "ce6X2b12P0a-",
    "outputId": "47f994ed-685b-4481-c0da-871d91992692",
    "pycharm": {
     "name": "#%%\n"
    }
   },
   "outputs": [
    {
     "name": "stdout",
     "output_type": "stream",
     "text": [
      "Converted 7452 words (6568 misses)\n",
      "Converted 7452 words (6568 misses)\n",
      "Converted 7452 words (6568 misses)\n"
     ]
    }
   ],
   "source": [
    "red_50_1 = generatePreEmbbedingModel(model_50, 50, vectorize_layer)\n",
    "red_100_1 = generatePreEmbbedingModel(model_100, 100, vectorize_layer)\n",
    "red_150_1 = generatePreEmbbedingModel(model_150, 150, vectorize_layer)"
   ]
  },
  {
   "cell_type": "code",
   "execution_count": 40,
   "metadata": {
    "id": "8I-kbjYEP0bA",
    "pycharm": {
     "name": "#%%\n"
    }
   },
   "outputs": [],
   "source": [
    "red_50_1.compile(loss='categorical_crossentropy',  optimizer='adam', metrics=['accuracy'])\n",
    "red_100_1.compile(loss='categorical_crossentropy',  optimizer='adam', metrics=['accuracy'])\n",
    "red_150_1.compile(loss='categorical_crossentropy',  optimizer='adam', metrics=['accuracy'])"
   ]
  },
  {
   "cell_type": "code",
   "execution_count": 112,
   "metadata": {
    "colab": {
     "base_uri": "https://localhost:8080/"
    },
    "id": "n21-thtWP0bB",
    "outputId": "f9a3a761-6216-4f9d-b9f3-b044f4c7a5e6",
    "pycharm": {
     "name": "#%%\n"
    }
   },
   "outputs": [
    {
     "name": "stdout",
     "output_type": "stream",
     "text": [
      "Epoch 1/10\n",
      "873/873 [==============================] - 59s 68ms/step - loss: 1.7892 - accuracy: 0.1771 - f1_score: 0.0000e+00 - precision: 0.0000e+00 - recall: 0.0000e+00 - val_loss: 1.7899 - val_accuracy: 0.1740 - val_f1_score: 0.0000e+00 - val_precision: 0.0000e+00 - val_recall: 0.0000e+00\n",
      "Epoch 2/10\n",
      "873/873 [==============================] - 58s 66ms/step - loss: 1.7892 - accuracy: 0.1787 - f1_score: 0.0000e+00 - precision: 0.0000e+00 - recall: 0.0000e+00 - val_loss: 1.7899 - val_accuracy: 0.1845 - val_f1_score: 0.0000e+00 - val_precision: 0.0000e+00 - val_recall: 0.0000e+00\n",
      "Epoch 3/10\n",
      "873/873 [==============================] - 58s 66ms/step - loss: 1.7892 - accuracy: 0.1811 - f1_score: 0.0000e+00 - precision: 0.0000e+00 - recall: 0.0000e+00 - val_loss: 1.7898 - val_accuracy: 0.1845 - val_f1_score: 0.0000e+00 - val_precision: 0.0000e+00 - val_recall: 0.0000e+00\n",
      "Epoch 4/10\n",
      "873/873 [==============================] - 56s 64ms/step - loss: 1.7892 - accuracy: 0.1821 - f1_score: 0.0000e+00 - precision: 0.0000e+00 - recall: 0.0000e+00 - val_loss: 1.7899 - val_accuracy: 0.1740 - val_f1_score: 0.0000e+00 - val_precision: 0.0000e+00 - val_recall: 0.0000e+00\n",
      "Epoch 5/10\n",
      "873/873 [==============================] - 56s 64ms/step - loss: 1.7892 - accuracy: 0.1783 - f1_score: 0.0000e+00 - precision: 0.0000e+00 - recall: 0.0000e+00 - val_loss: 1.7899 - val_accuracy: 0.1845 - val_f1_score: 0.0000e+00 - val_precision: 0.0000e+00 - val_recall: 0.0000e+00\n",
      "Epoch 6/10\n",
      "873/873 [==============================] - 57s 66ms/step - loss: 1.7892 - accuracy: 0.1806 - f1_score: 0.0000e+00 - precision: 0.0000e+00 - recall: 0.0000e+00 - val_loss: 1.7900 - val_accuracy: 0.1740 - val_f1_score: 0.0000e+00 - val_precision: 0.0000e+00 - val_recall: 0.0000e+00\n",
      "Epoch 7/10\n",
      "873/873 [==============================] - 60s 68ms/step - loss: 1.7892 - accuracy: 0.1789 - f1_score: 0.0000e+00 - precision: 0.0000e+00 - recall: 0.0000e+00 - val_loss: 1.7900 - val_accuracy: 0.1740 - val_f1_score: 0.0000e+00 - val_precision: 0.0000e+00 - val_recall: 0.0000e+00\n",
      "Epoch 8/10\n",
      "873/873 [==============================] - 62s 71ms/step - loss: 1.7892 - accuracy: 0.1791 - f1_score: 0.0000e+00 - precision: 0.0000e+00 - recall: 0.0000e+00 - val_loss: 1.7900 - val_accuracy: 0.1740 - val_f1_score: 0.0000e+00 - val_precision: 0.0000e+00 - val_recall: 0.0000e+00\n",
      "Epoch 9/10\n",
      "873/873 [==============================] - 61s 70ms/step - loss: 1.7892 - accuracy: 0.1816 - f1_score: 0.0000e+00 - precision: 0.0000e+00 - recall: 0.0000e+00 - val_loss: 1.7899 - val_accuracy: 0.1845 - val_f1_score: 0.0000e+00 - val_precision: 0.0000e+00 - val_recall: 0.0000e+00\n",
      "Epoch 10/10\n",
      "873/873 [==============================] - 59s 67ms/step - loss: 1.7892 - accuracy: 0.1823 - f1_score: 0.0000e+00 - precision: 0.0000e+00 - recall: 0.0000e+00 - val_loss: 1.7900 - val_accuracy: 0.1740 - val_f1_score: 0.0000e+00 - val_precision: 0.0000e+00 - val_recall: 0.0000e+00\n"
     ]
    },
    {
     "data": {
      "text/plain": [
       "<tensorflow.python.keras.callbacks.History at 0x7f1e8180fed0>"
      ]
     },
     "execution_count": 112,
     "metadata": {
      "tags": []
     },
     "output_type": "execute_result"
    }
   ],
   "source": [
    "red_50_1.fit(x_train, y_train, batch_size=batch_size, epochs=epochs, validation_data=(x_val, y_val))"
   ]
  },
  {
   "cell_type": "code",
   "execution_count": 42,
   "metadata": {
    "colab": {
     "base_uri": "https://localhost:8080/"
    },
    "id": "SxKOgtecP0bC",
    "outputId": "d013d74b-9a5b-43fb-8e9a-f4fd27f614e4",
    "pycharm": {
     "name": "#%%\n"
    }
   },
   "outputs": [
    {
     "name": "stdout",
     "output_type": "stream",
     "text": [
      "Epoch 1/10\n",
      "873/873 [==============================] - 91s 104ms/step - loss: 1.7903 - accuracy: 0.1778 - val_loss: 1.7898 - val_accuracy: 0.1845\n",
      "Epoch 2/10\n",
      "873/873 [==============================] - 90s 103ms/step - loss: 1.7891 - accuracy: 0.1825 - val_loss: 1.7898 - val_accuracy: 0.1845\n",
      "Epoch 3/10\n",
      "873/873 [==============================] - 90s 103ms/step - loss: 1.7893 - accuracy: 0.1799 - val_loss: 1.7899 - val_accuracy: 0.1845\n",
      "Epoch 4/10\n",
      "873/873 [==============================] - 90s 103ms/step - loss: 1.7891 - accuracy: 0.1824 - val_loss: 1.7899 - val_accuracy: 0.1845\n",
      "Epoch 5/10\n",
      "873/873 [==============================] - 90s 103ms/step - loss: 1.7890 - accuracy: 0.1844 - val_loss: 1.7899 - val_accuracy: 0.1740\n",
      "Epoch 6/10\n",
      "873/873 [==============================] - 90s 103ms/step - loss: 1.7892 - accuracy: 0.1772 - val_loss: 1.7899 - val_accuracy: 0.1845\n",
      "Epoch 7/10\n",
      "873/873 [==============================] - 90s 103ms/step - loss: 1.7888 - accuracy: 0.1804 - val_loss: 1.7899 - val_accuracy: 0.1845\n",
      "Epoch 8/10\n",
      "873/873 [==============================] - 90s 103ms/step - loss: 1.7890 - accuracy: 0.1819 - val_loss: 1.7899 - val_accuracy: 0.1845\n",
      "Epoch 9/10\n",
      "873/873 [==============================] - 90s 103ms/step - loss: 1.7896 - accuracy: 0.1793 - val_loss: 1.7899 - val_accuracy: 0.1845\n",
      "Epoch 10/10\n",
      "873/873 [==============================] - 89s 102ms/step - loss: 1.7891 - accuracy: 0.1777 - val_loss: 1.7897 - val_accuracy: 0.1845\n"
     ]
    },
    {
     "data": {
      "text/plain": [
       "<tensorflow.python.keras.callbacks.History at 0x7f1e9b65b7d0>"
      ]
     },
     "execution_count": 42,
     "metadata": {
      "tags": []
     },
     "output_type": "execute_result"
    }
   ],
   "source": [
    "red_100_1.fit(x_train, y_train, batch_size=batch_size, epochs=epochs, validation_data=(x_val, y_val))"
   ]
  },
  {
   "cell_type": "code",
   "execution_count": 43,
   "metadata": {
    "colab": {
     "base_uri": "https://localhost:8080/"
    },
    "id": "pfhiBLk0P0bD",
    "outputId": "31ac280a-acc2-4e39-b405-32c7ea28d9b3",
    "pycharm": {
     "is_executing": true,
     "name": "#%%\n"
    }
   },
   "outputs": [
    {
     "name": "stdout",
     "output_type": "stream",
     "text": [
      "Epoch 1/10\n",
      "873/873 [==============================] - 137s 157ms/step - loss: 1.7906 - accuracy: 0.1774 - val_loss: 1.7899 - val_accuracy: 0.1740\n",
      "Epoch 2/10\n",
      "873/873 [==============================] - 137s 157ms/step - loss: 1.7883 - accuracy: 0.1872 - val_loss: 1.7899 - val_accuracy: 0.1740\n",
      "Epoch 3/10\n",
      "873/873 [==============================] - 137s 157ms/step - loss: 1.7890 - accuracy: 0.1835 - val_loss: 1.7900 - val_accuracy: 0.1740\n",
      "Epoch 4/10\n",
      "873/873 [==============================] - 137s 157ms/step - loss: 1.7888 - accuracy: 0.1787 - val_loss: 1.7899 - val_accuracy: 0.1845\n",
      "Epoch 5/10\n",
      "873/873 [==============================] - 137s 157ms/step - loss: 1.7893 - accuracy: 0.1779 - val_loss: 1.7899 - val_accuracy: 0.1845\n",
      "Epoch 6/10\n",
      "873/873 [==============================] - 138s 159ms/step - loss: 1.7888 - accuracy: 0.1805 - val_loss: 1.7899 - val_accuracy: 0.1845\n",
      "Epoch 7/10\n",
      "873/873 [==============================] - 138s 158ms/step - loss: 1.7886 - accuracy: 0.1814 - val_loss: 1.7898 - val_accuracy: 0.1845\n",
      "Epoch 8/10\n",
      "873/873 [==============================] - 139s 159ms/step - loss: 1.7892 - accuracy: 0.1787 - val_loss: 1.7899 - val_accuracy: 0.1845\n",
      "Epoch 9/10\n",
      "873/873 [==============================] - 137s 157ms/step - loss: 1.7891 - accuracy: 0.1828 - val_loss: 1.7899 - val_accuracy: 0.1845\n",
      "Epoch 10/10\n",
      "873/873 [==============================] - 137s 157ms/step - loss: 1.7892 - accuracy: 0.1846 - val_loss: 1.7900 - val_accuracy: 0.1740\n"
     ]
    },
    {
     "data": {
      "text/plain": [
       "<tensorflow.python.keras.callbacks.History at 0x7f1e9b433390>"
      ]
     },
     "execution_count": 43,
     "metadata": {
      "tags": []
     },
     "output_type": "execute_result"
    }
   ],
   "source": [
    "red_150_1.fit(x_train, y_train, batch_size=batch_size, epochs=epochs, validation_data=(x_val, y_val))"
   ]
  },
  {
   "cell_type": "code",
   "execution_count": 37,
   "metadata": {
    "colab": {
     "base_uri": "https://localhost:8080/"
    },
    "id": "bdsyevYvP0a_",
    "outputId": "bdbccce1-1100-4cd5-eb1b-18f067a1f201",
    "pycharm": {
     "name": "#%%\n"
    }
   },
   "outputs": [
    {
     "name": "stdout",
     "output_type": "stream",
     "text": [
      "Model: \"model\"\n",
      "_________________________________________________________________\n",
      "Layer (type)                 Output Shape              Param #   \n",
      "=================================================================\n",
      "input_1 (InputLayer)         [(None, None)]            0         \n",
      "_________________________________________________________________\n",
      "embedding (Embedding)        (None, None, 50)          701000    \n",
      "_________________________________________________________________\n",
      "global_average_pooling1d (Gl (None, 50)                0         \n",
      "_________________________________________________________________\n",
      "dense (Dense)                (None, 10)                510       \n",
      "_________________________________________________________________\n",
      "dense_1 (Dense)              (None, 6)                 66        \n",
      "=================================================================\n",
      "Total params: 701,576\n",
      "Trainable params: 576\n",
      "Non-trainable params: 701,000\n",
      "_________________________________________________________________\n"
     ]
    }
   ],
   "source": [
    "red_50_1.summary()"
   ]
  },
  {
   "cell_type": "code",
   "execution_count": 47,
   "metadata": {
    "colab": {
     "base_uri": "https://localhost:8080/"
    },
    "id": "zpfJETtHP0a_",
    "outputId": "174298d1-2c55-4bdf-d922-e639855259d3",
    "pycharm": {
     "name": "#%%\n"
    }
   },
   "outputs": [
    {
     "name": "stdout",
     "output_type": "stream",
     "text": [
      "Model: \"model_1\"\n",
      "_________________________________________________________________\n",
      "Layer (type)                 Output Shape              Param #   \n",
      "=================================================================\n",
      "input_2 (InputLayer)         [(None, None)]            0         \n",
      "_________________________________________________________________\n",
      "embedding_1 (Embedding)      (None, None, 100)         1402000   \n",
      "_________________________________________________________________\n",
      "global_average_pooling1d_1 ( (None, 100)               0         \n",
      "_________________________________________________________________\n",
      "dense_2 (Dense)              (None, 10)                1010      \n",
      "_________________________________________________________________\n",
      "dense_3 (Dense)              (None, 6)                 66        \n",
      "=================================================================\n",
      "Total params: 1,403,076\n",
      "Trainable params: 1,076\n",
      "Non-trainable params: 1,402,000\n",
      "_________________________________________________________________\n"
     ]
    }
   ],
   "source": [
    "red_100_1.summary()"
   ]
  },
  {
   "cell_type": "code",
   "execution_count": 48,
   "metadata": {
    "colab": {
     "base_uri": "https://localhost:8080/"
    },
    "id": "Qa0JlIiEP0bA",
    "outputId": "962d5314-f092-4cf8-8776-10bbd42af015",
    "pycharm": {
     "name": "#%%\n"
    }
   },
   "outputs": [
    {
     "name": "stdout",
     "output_type": "stream",
     "text": [
      "Model: \"model_2\"\n",
      "_________________________________________________________________\n",
      "Layer (type)                 Output Shape              Param #   \n",
      "=================================================================\n",
      "input_3 (InputLayer)         [(None, None)]            0         \n",
      "_________________________________________________________________\n",
      "embedding_2 (Embedding)      (None, None, 150)         2103000   \n",
      "_________________________________________________________________\n",
      "global_average_pooling1d_2 ( (None, 150)               0         \n",
      "_________________________________________________________________\n",
      "dense_4 (Dense)              (None, 10)                1510      \n",
      "_________________________________________________________________\n",
      "dense_5 (Dense)              (None, 6)                 66        \n",
      "=================================================================\n",
      "Total params: 2,104,576\n",
      "Trainable params: 1,576\n",
      "Non-trainable params: 2,103,000\n",
      "_________________________________________________________________\n"
     ]
    }
   ],
   "source": [
    "red_150_1.summary()"
   ]
  },
  {
   "cell_type": "code",
   "execution_count": 110,
   "metadata": {
    "id": "Crxf0C2KPfu3"
   },
   "outputs": [],
   "source": [
    "from sklearn.metrics import classification_report\n",
    "from sklearn.metrics import confusion_matrix\n",
    "\n",
    "\n",
    "def get_metrics_by_class(model, x, y):\n",
    "  y_pred = model.predict(x, batch_size=64, verbose=1)\n",
    "  y_pred_bool = np.argmax(y_pred, axis=1)\n",
    "  y_label = np.argmax(y, axis=1)\n",
    "  #print(confusion_matrix(y_pred_bool, y_label))\n",
    "  print(classification_report(y_label, y_pred_bool))\n"
   ]
  },
  {
   "cell_type": "code",
   "execution_count": 114,
   "metadata": {
    "colab": {
     "base_uri": "https://localhost:8080/"
    },
    "id": "I8JQkZYhPibG",
    "outputId": "c42d3cbe-0cd5-467d-e05b-7ca60d8de3ce"
   },
   "outputs": [
    {
     "name": "stdout",
     "output_type": "stream",
     "text": [
      "146/146 [==============================] - 13s 92ms/step\n",
      "              precision    recall  f1-score   support\n",
      "\n",
      "           0       0.00      0.00      0.00      1563\n",
      "           1       0.00      0.00      0.00      1539\n",
      "           2       0.00      0.00      0.00      1476\n",
      "           3       0.00      0.00      0.00      1390\n",
      "           4       0.00      0.00      0.00      1715\n",
      "           5       0.17      1.00      0.30      1620\n",
      "\n",
      "    accuracy                           0.17      9303\n",
      "   macro avg       0.03      0.17      0.05      9303\n",
      "weighted avg       0.03      0.17      0.05      9303\n",
      "\n"
     ]
    },
    {
     "name": "stderr",
     "output_type": "stream",
     "text": [
      "/usr/local/lib/python3.7/dist-packages/sklearn/metrics/_classification.py:1272: UndefinedMetricWarning: Precision and F-score are ill-defined and being set to 0.0 in labels with no predicted samples. Use `zero_division` parameter to control this behavior.\n",
      "  _warn_prf(average, modifier, msg_start, len(result))\n"
     ]
    }
   ],
   "source": [
    "get_metrics_by_class(red_50_1, x_test, y_test)"
   ]
  },
  {
   "cell_type": "code",
   "execution_count": 115,
   "metadata": {
    "colab": {
     "base_uri": "https://localhost:8080/"
    },
    "id": "5m_YvkSvRZHo",
    "outputId": "3989e7bb-dfdd-493e-e166-ce2b05279e06"
   },
   "outputs": [
    {
     "name": "stdout",
     "output_type": "stream",
     "text": [
      "146/146 [==============================] - 22s 149ms/step\n",
      "              precision    recall  f1-score   support\n",
      "\n",
      "           0       0.00      0.00      0.00      1563\n",
      "           1       0.00      0.00      0.00      1539\n",
      "           2       0.00      0.00      0.00      1476\n",
      "           3       0.00      0.00      0.00      1390\n",
      "           4       0.00      0.00      0.00      1715\n",
      "           5       0.17      1.00      0.30      1620\n",
      "\n",
      "    accuracy                           0.17      9303\n",
      "   macro avg       0.03      0.17      0.05      9303\n",
      "weighted avg       0.03      0.17      0.05      9303\n",
      "\n"
     ]
    },
    {
     "name": "stderr",
     "output_type": "stream",
     "text": [
      "/usr/local/lib/python3.7/dist-packages/sklearn/metrics/_classification.py:1272: UndefinedMetricWarning: Precision and F-score are ill-defined and being set to 0.0 in labels with no predicted samples. Use `zero_division` parameter to control this behavior.\n",
      "  _warn_prf(average, modifier, msg_start, len(result))\n"
     ]
    }
   ],
   "source": [
    "get_metrics_by_class(red_100_1, x_test, y_test)"
   ]
  },
  {
   "cell_type": "code",
   "execution_count": 116,
   "metadata": {
    "colab": {
     "base_uri": "https://localhost:8080/"
    },
    "id": "XU8v6K0sRC0x",
    "outputId": "d899ff7e-a61c-4c49-f069-6e1ee2b9bb48"
   },
   "outputs": [
    {
     "name": "stdout",
     "output_type": "stream",
     "text": [
      "146/146 [==============================] - 34s 234ms/step\n",
      "              precision    recall  f1-score   support\n",
      "\n",
      "           0       0.00      0.00      0.00      1563\n",
      "           1       0.00      0.00      0.00      1539\n",
      "           2       0.00      0.00      0.00      1476\n",
      "           3       0.00      0.00      0.00      1390\n",
      "           4       0.00      0.00      0.00      1715\n",
      "           5       0.17      1.00      0.30      1620\n",
      "\n",
      "    accuracy                           0.17      9303\n",
      "   macro avg       0.03      0.17      0.05      9303\n",
      "weighted avg       0.03      0.17      0.05      9303\n",
      "\n"
     ]
    },
    {
     "name": "stderr",
     "output_type": "stream",
     "text": [
      "/usr/local/lib/python3.7/dist-packages/sklearn/metrics/_classification.py:1272: UndefinedMetricWarning: Precision and F-score are ill-defined and being set to 0.0 in labels with no predicted samples. Use `zero_division` parameter to control this behavior.\n",
      "  _warn_prf(average, modifier, msg_start, len(result))\n"
     ]
    }
   ],
   "source": [
    "get_metrics_by_class(red_150_1, x_test, y_test)"
   ]
  },
  {
   "cell_type": "markdown",
   "metadata": {
    "id": "PuulCYM-P0bG"
   },
   "source": [
    "## Segunda Arquitectura"
   ]
  },
  {
   "cell_type": "code",
   "execution_count": 49,
   "metadata": {
    "colab": {
     "base_uri": "https://localhost:8080/"
    },
    "id": "qqsatI5WP0bG",
    "outputId": "cc568cac-45f1-406d-c7f5-b35b8fa5d8ad",
    "pycharm": {
     "is_executing": true,
     "name": "#%%\n"
    }
   },
   "outputs": [
    {
     "name": "stdout",
     "output_type": "stream",
     "text": [
      "Converted 7452 words (6568 misses)\n",
      "Converted 7452 words (6568 misses)\n",
      "Converted 7452 words (6568 misses)\n"
     ]
    }
   ],
   "source": [
    "\n",
    "red_50_2 = generatePreEmbbedingModel(model_50, 50, vectorize_layer, 2)\n",
    "red_100_2 = generatePreEmbbedingModel(model_100, 100, vectorize_layer, 2)\n",
    "red_150_2 = generatePreEmbbedingModel(model_150, 150, vectorize_layer, 2)"
   ]
  },
  {
   "cell_type": "code",
   "execution_count": 50,
   "metadata": {
    "id": "SP6X08B0P0bI",
    "pycharm": {
     "is_executing": true,
     "name": "#%%\n"
    }
   },
   "outputs": [],
   "source": [
    "red_50_2.compile(loss='categorical_crossentropy',  optimizer='adam', metrics=['accuracy'])\n",
    "red_100_2.compile(loss='categorical_crossentropy',  optimizer='adam', metrics=['accuracy'])\n",
    "red_150_2.compile(loss='categorical_crossentropy',  optimizer='adam', metrics=['accuracy'])"
   ]
  },
  {
   "cell_type": "code",
   "execution_count": 51,
   "metadata": {
    "colab": {
     "base_uri": "https://localhost:8080/"
    },
    "id": "8UXbE-bnP0bI",
    "outputId": "8fec6c99-5bf4-473e-9b1a-48a8d0eb77d1",
    "pycharm": {
     "is_executing": true,
     "name": "#%%\n"
    }
   },
   "outputs": [
    {
     "name": "stdout",
     "output_type": "stream",
     "text": [
      "Epoch 1/10\n",
      "873/873 [==============================] - 58s 65ms/step - loss: 1.7904 - accuracy: 0.1774 - val_loss: 1.7898 - val_accuracy: 0.1845\n",
      "Epoch 2/10\n",
      "873/873 [==============================] - 57s 65ms/step - loss: 1.7885 - accuracy: 0.1809 - val_loss: 1.7898 - val_accuracy: 0.1845\n",
      "Epoch 3/10\n",
      "873/873 [==============================] - 57s 65ms/step - loss: 1.7895 - accuracy: 0.1823 - val_loss: 1.7900 - val_accuracy: 0.1740\n",
      "Epoch 4/10\n",
      "873/873 [==============================] - 57s 65ms/step - loss: 1.7890 - accuracy: 0.1840 - val_loss: 1.7898 - val_accuracy: 0.1845\n",
      "Epoch 5/10\n",
      "873/873 [==============================] - 57s 66ms/step - loss: 1.7898 - accuracy: 0.1777 - val_loss: 1.7900 - val_accuracy: 0.1845\n",
      "Epoch 6/10\n",
      "873/873 [==============================] - 58s 66ms/step - loss: 1.7896 - accuracy: 0.1786 - val_loss: 1.7899 - val_accuracy: 0.1845\n",
      "Epoch 7/10\n",
      "873/873 [==============================] - 57s 66ms/step - loss: 1.7897 - accuracy: 0.1800 - val_loss: 1.7900 - val_accuracy: 0.1845\n",
      "Epoch 8/10\n",
      "873/873 [==============================] - 56s 65ms/step - loss: 1.7896 - accuracy: 0.1785 - val_loss: 1.7898 - val_accuracy: 0.1845\n",
      "Epoch 9/10\n",
      "873/873 [==============================] - 56s 64ms/step - loss: 1.7894 - accuracy: 0.1800 - val_loss: 1.7899 - val_accuracy: 0.1845\n",
      "Epoch 10/10\n",
      "873/873 [==============================] - 56s 65ms/step - loss: 1.7884 - accuracy: 0.1830 - val_loss: 1.7899 - val_accuracy: 0.1740\n"
     ]
    },
    {
     "data": {
      "text/plain": [
       "<tensorflow.python.keras.callbacks.History at 0x7f1e8a7cf590>"
      ]
     },
     "execution_count": 51,
     "metadata": {
      "tags": []
     },
     "output_type": "execute_result"
    }
   ],
   "source": [
    "red_50_2.fit(x_train, y_train, batch_size=batch_size, epochs=epochs, validation_data=(x_val, y_val))"
   ]
  },
  {
   "cell_type": "code",
   "execution_count": 52,
   "metadata": {
    "colab": {
     "base_uri": "https://localhost:8080/"
    },
    "id": "43TJXKW7P0bI",
    "outputId": "dcb164bd-d560-4e8d-dfd6-ff5386201492",
    "pycharm": {
     "is_executing": true,
     "name": "#%%\n"
    }
   },
   "outputs": [
    {
     "name": "stdout",
     "output_type": "stream",
     "text": [
      "Epoch 1/10\n",
      "873/873 [==============================] - 91s 103ms/step - loss: 1.7905 - accuracy: 0.1810 - val_loss: 1.7900 - val_accuracy: 0.1740\n",
      "Epoch 2/10\n",
      "873/873 [==============================] - 90s 103ms/step - loss: 1.7896 - accuracy: 0.1822 - val_loss: 1.7898 - val_accuracy: 0.1845\n",
      "Epoch 3/10\n",
      "873/873 [==============================] - 90s 104ms/step - loss: 1.7898 - accuracy: 0.1789 - val_loss: 1.7899 - val_accuracy: 0.1845\n",
      "Epoch 4/10\n",
      "873/873 [==============================] - 90s 104ms/step - loss: 1.7890 - accuracy: 0.1767 - val_loss: 1.7897 - val_accuracy: 0.1845\n",
      "Epoch 5/10\n",
      "873/873 [==============================] - 92s 105ms/step - loss: 1.7888 - accuracy: 0.1815 - val_loss: 1.7898 - val_accuracy: 0.1845\n",
      "Epoch 6/10\n",
      "873/873 [==============================] - 92s 105ms/step - loss: 1.7899 - accuracy: 0.1780 - val_loss: 1.7900 - val_accuracy: 0.1845\n",
      "Epoch 7/10\n",
      "873/873 [==============================] - 92s 105ms/step - loss: 1.7890 - accuracy: 0.1855 - val_loss: 1.7900 - val_accuracy: 0.1740\n",
      "Epoch 8/10\n",
      "873/873 [==============================] - 91s 104ms/step - loss: 1.7894 - accuracy: 0.1815 - val_loss: 1.7899 - val_accuracy: 0.1845\n",
      "Epoch 9/10\n",
      "873/873 [==============================] - 90s 103ms/step - loss: 1.7891 - accuracy: 0.1828 - val_loss: 1.7899 - val_accuracy: 0.1740\n",
      "Epoch 10/10\n",
      "873/873 [==============================] - 90s 103ms/step - loss: 1.7902 - accuracy: 0.1770 - val_loss: 1.7899 - val_accuracy: 0.1845\n"
     ]
    },
    {
     "data": {
      "text/plain": [
       "<tensorflow.python.keras.callbacks.History at 0x7f1e8a5c7c90>"
      ]
     },
     "execution_count": 52,
     "metadata": {
      "tags": []
     },
     "output_type": "execute_result"
    }
   ],
   "source": [
    "red_100_2.fit(x_train, y_train, batch_size=batch_size, epochs=epochs, validation_data=(x_val, y_val))"
   ]
  },
  {
   "cell_type": "code",
   "execution_count": 53,
   "metadata": {
    "colab": {
     "base_uri": "https://localhost:8080/"
    },
    "id": "Im8_OtTvP0bJ",
    "outputId": "8609ba23-9fdc-409a-8475-bdf4fac86192",
    "pycharm": {
     "is_executing": true,
     "name": "#%%\n"
    }
   },
   "outputs": [
    {
     "name": "stdout",
     "output_type": "stream",
     "text": [
      "Epoch 1/10\n",
      "873/873 [==============================] - 139s 159ms/step - loss: 1.7905 - accuracy: 0.1778 - val_loss: 1.7899 - val_accuracy: 0.1845\n",
      "Epoch 2/10\n",
      "873/873 [==============================] - 139s 160ms/step - loss: 1.7892 - accuracy: 0.1813 - val_loss: 1.7900 - val_accuracy: 0.1740\n",
      "Epoch 3/10\n",
      "873/873 [==============================] - 140s 160ms/step - loss: 1.7885 - accuracy: 0.1824 - val_loss: 1.7899 - val_accuracy: 0.1845\n",
      "Epoch 4/10\n",
      "873/873 [==============================] - 140s 160ms/step - loss: 1.7886 - accuracy: 0.1810 - val_loss: 1.7898 - val_accuracy: 0.1845\n",
      "Epoch 5/10\n",
      "873/873 [==============================] - 140s 161ms/step - loss: 1.7890 - accuracy: 0.1811 - val_loss: 1.7899 - val_accuracy: 0.1845\n",
      "Epoch 6/10\n",
      "873/873 [==============================] - 143s 164ms/step - loss: 1.7887 - accuracy: 0.1803 - val_loss: 1.7899 - val_accuracy: 0.1740\n",
      "Epoch 7/10\n",
      "873/873 [==============================] - 139s 159ms/step - loss: 1.7886 - accuracy: 0.1808 - val_loss: 1.7898 - val_accuracy: 0.1845\n",
      "Epoch 8/10\n",
      "873/873 [==============================] - 140s 160ms/step - loss: 1.7894 - accuracy: 0.1832 - val_loss: 1.7899 - val_accuracy: 0.1845\n",
      "Epoch 9/10\n",
      "873/873 [==============================] - 142s 162ms/step - loss: 1.7897 - accuracy: 0.1841 - val_loss: 1.7900 - val_accuracy: 0.1740\n",
      "Epoch 10/10\n",
      "873/873 [==============================] - 141s 162ms/step - loss: 1.7881 - accuracy: 0.1837 - val_loss: 1.7899 - val_accuracy: 0.1845\n"
     ]
    },
    {
     "data": {
      "text/plain": [
       "<tensorflow.python.keras.callbacks.History at 0x7f1e8a549150>"
      ]
     },
     "execution_count": 53,
     "metadata": {
      "tags": []
     },
     "output_type": "execute_result"
    }
   ],
   "source": [
    "red_150_2.fit(x_train, y_train, batch_size=batch_size, epochs=epochs, validation_data=(x_val, y_val))"
   ]
  },
  {
   "cell_type": "code",
   "execution_count": 54,
   "metadata": {
    "colab": {
     "base_uri": "https://localhost:8080/"
    },
    "id": "piHa-SBTP0bG",
    "outputId": "e7265369-31d5-4830-b3fa-0d624da8d22c",
    "pycharm": {
     "is_executing": true,
     "name": "#%%\n"
    }
   },
   "outputs": [
    {
     "name": "stdout",
     "output_type": "stream",
     "text": [
      "Model: \"model_3\"\n",
      "_________________________________________________________________\n",
      "Layer (type)                 Output Shape              Param #   \n",
      "=================================================================\n",
      "input_4 (InputLayer)         [(None, None)]            0         \n",
      "_________________________________________________________________\n",
      "embedding_3 (Embedding)      (None, None, 50)          701000    \n",
      "_________________________________________________________________\n",
      "global_average_pooling1d_3 ( (None, 50)                0         \n",
      "_________________________________________________________________\n",
      "dense_6 (Dense)              (None, 80)                4080      \n",
      "_________________________________________________________________\n",
      "dense_7 (Dense)              (None, 250)               20250     \n",
      "_________________________________________________________________\n",
      "dense_8 (Dense)              (None, 6)                 1506      \n",
      "=================================================================\n",
      "Total params: 726,836\n",
      "Trainable params: 25,836\n",
      "Non-trainable params: 701,000\n",
      "_________________________________________________________________\n"
     ]
    }
   ],
   "source": [
    "red_50_2.summary()"
   ]
  },
  {
   "cell_type": "code",
   "execution_count": 55,
   "metadata": {
    "colab": {
     "base_uri": "https://localhost:8080/"
    },
    "id": "IJueVs6lP0bH",
    "outputId": "e52e63f1-fa16-4de2-92aa-1520e4615761",
    "pycharm": {
     "is_executing": true,
     "name": "#%%\n"
    }
   },
   "outputs": [
    {
     "name": "stdout",
     "output_type": "stream",
     "text": [
      "Model: \"model_4\"\n",
      "_________________________________________________________________\n",
      "Layer (type)                 Output Shape              Param #   \n",
      "=================================================================\n",
      "input_5 (InputLayer)         [(None, None)]            0         \n",
      "_________________________________________________________________\n",
      "embedding_4 (Embedding)      (None, None, 100)         1402000   \n",
      "_________________________________________________________________\n",
      "global_average_pooling1d_4 ( (None, 100)               0         \n",
      "_________________________________________________________________\n",
      "dense_9 (Dense)              (None, 80)                8080      \n",
      "_________________________________________________________________\n",
      "dense_10 (Dense)             (None, 250)               20250     \n",
      "_________________________________________________________________\n",
      "dense_11 (Dense)             (None, 6)                 1506      \n",
      "=================================================================\n",
      "Total params: 1,431,836\n",
      "Trainable params: 29,836\n",
      "Non-trainable params: 1,402,000\n",
      "_________________________________________________________________\n"
     ]
    }
   ],
   "source": [
    "red_100_2.summary()"
   ]
  },
  {
   "cell_type": "code",
   "execution_count": 56,
   "metadata": {
    "colab": {
     "base_uri": "https://localhost:8080/"
    },
    "id": "kDbQ2V3TP0bH",
    "outputId": "6131965b-f62b-47ee-8bb3-0ebca32476e9",
    "pycharm": {
     "is_executing": true,
     "name": "#%%\n"
    }
   },
   "outputs": [
    {
     "name": "stdout",
     "output_type": "stream",
     "text": [
      "Model: \"model_5\"\n",
      "_________________________________________________________________\n",
      "Layer (type)                 Output Shape              Param #   \n",
      "=================================================================\n",
      "input_6 (InputLayer)         [(None, None)]            0         \n",
      "_________________________________________________________________\n",
      "embedding_5 (Embedding)      (None, None, 150)         2103000   \n",
      "_________________________________________________________________\n",
      "global_average_pooling1d_5 ( (None, 150)               0         \n",
      "_________________________________________________________________\n",
      "dense_12 (Dense)             (None, 80)                12080     \n",
      "_________________________________________________________________\n",
      "dense_13 (Dense)             (None, 250)               20250     \n",
      "_________________________________________________________________\n",
      "dense_14 (Dense)             (None, 6)                 1506      \n",
      "=================================================================\n",
      "Total params: 2,136,836\n",
      "Trainable params: 33,836\n",
      "Non-trainable params: 2,103,000\n",
      "_________________________________________________________________\n"
     ]
    }
   ],
   "source": [
    "red_150_2.summary()"
   ]
  },
  {
   "cell_type": "code",
   "execution_count": 118,
   "metadata": {
    "colab": {
     "base_uri": "https://localhost:8080/"
    },
    "id": "sYjHap7sRefN",
    "outputId": "31ec17b4-1674-43d9-e978-9337c96b787f"
   },
   "outputs": [
    {
     "name": "stdout",
     "output_type": "stream",
     "text": [
      "146/146 [==============================] - 13s 91ms/step\n",
      "              precision    recall  f1-score   support\n",
      "\n",
      "           0       0.00      0.00      0.00      1563\n",
      "           1       0.00      0.00      0.00      1539\n",
      "           2       0.00      0.00      0.00      1476\n",
      "           3       0.00      0.00      0.00      1390\n",
      "           4       0.00      0.00      0.00      1715\n",
      "           5       0.17      1.00      0.30      1620\n",
      "\n",
      "    accuracy                           0.17      9303\n",
      "   macro avg       0.03      0.17      0.05      9303\n",
      "weighted avg       0.03      0.17      0.05      9303\n",
      "\n"
     ]
    },
    {
     "name": "stderr",
     "output_type": "stream",
     "text": [
      "/usr/local/lib/python3.7/dist-packages/sklearn/metrics/_classification.py:1272: UndefinedMetricWarning: Precision and F-score are ill-defined and being set to 0.0 in labels with no predicted samples. Use `zero_division` parameter to control this behavior.\n",
      "  _warn_prf(average, modifier, msg_start, len(result))\n"
     ]
    }
   ],
   "source": [
    "get_metrics_by_class(red_50_2, x_test, y_test)"
   ]
  },
  {
   "cell_type": "code",
   "execution_count": 119,
   "metadata": {
    "colab": {
     "base_uri": "https://localhost:8080/"
    },
    "id": "vXaX3XQhRfZ9",
    "outputId": "6ab480a1-aef5-4874-9a1f-eb0476b617a3"
   },
   "outputs": [
    {
     "name": "stdout",
     "output_type": "stream",
     "text": [
      "146/146 [==============================] - 22s 148ms/step\n",
      "              precision    recall  f1-score   support\n",
      "\n",
      "           0       0.00      0.00      0.00      1563\n",
      "           1       0.00      0.00      0.00      1539\n",
      "           2       0.00      0.00      0.00      1476\n",
      "           3       0.00      0.00      0.00      1390\n",
      "           4       0.18      1.00      0.31      1715\n",
      "           5       0.00      0.00      0.00      1620\n",
      "\n",
      "    accuracy                           0.18      9303\n",
      "   macro avg       0.03      0.17      0.05      9303\n",
      "weighted avg       0.03      0.18      0.06      9303\n",
      "\n"
     ]
    },
    {
     "name": "stderr",
     "output_type": "stream",
     "text": [
      "/usr/local/lib/python3.7/dist-packages/sklearn/metrics/_classification.py:1272: UndefinedMetricWarning: Precision and F-score are ill-defined and being set to 0.0 in labels with no predicted samples. Use `zero_division` parameter to control this behavior.\n",
      "  _warn_prf(average, modifier, msg_start, len(result))\n"
     ]
    }
   ],
   "source": [
    "get_metrics_by_class(red_100_2, x_test, y_test)"
   ]
  },
  {
   "cell_type": "code",
   "execution_count": 120,
   "metadata": {
    "colab": {
     "base_uri": "https://localhost:8080/"
    },
    "id": "qEXAo8yzRfz7",
    "outputId": "5194270c-47b3-4a01-f0ff-dfd1a702cc37"
   },
   "outputs": [
    {
     "name": "stdout",
     "output_type": "stream",
     "text": [
      "146/146 [==============================] - 34s 230ms/step\n",
      "              precision    recall  f1-score   support\n",
      "\n",
      "           0       0.00      0.00      0.00      1563\n",
      "           1       0.00      0.00      0.00      1539\n",
      "           2       0.00      0.00      0.00      1476\n",
      "           3       0.00      0.00      0.00      1390\n",
      "           4       0.18      1.00      0.31      1715\n",
      "           5       0.00      0.00      0.00      1620\n",
      "\n",
      "    accuracy                           0.18      9303\n",
      "   macro avg       0.03      0.17      0.05      9303\n",
      "weighted avg       0.03      0.18      0.06      9303\n",
      "\n"
     ]
    },
    {
     "name": "stderr",
     "output_type": "stream",
     "text": [
      "/usr/local/lib/python3.7/dist-packages/sklearn/metrics/_classification.py:1272: UndefinedMetricWarning: Precision and F-score are ill-defined and being set to 0.0 in labels with no predicted samples. Use `zero_division` parameter to control this behavior.\n",
      "  _warn_prf(average, modifier, msg_start, len(result))\n"
     ]
    }
   ],
   "source": [
    "get_metrics_by_class(red_150_2, x_test, y_test)"
   ]
  },
  {
   "cell_type": "markdown",
   "metadata": {
    "id": "WU0sZkQiP0bJ"
   },
   "source": [
    "## Tercer Arquitectura"
   ]
  },
  {
   "cell_type": "code",
   "execution_count": 57,
   "metadata": {
    "colab": {
     "base_uri": "https://localhost:8080/"
    },
    "id": "-NNvlKAJP0bK",
    "outputId": "e15f23cd-6bca-4d37-c304-d6d36b3372a9",
    "pycharm": {
     "is_executing": true,
     "name": "#%%\n"
    }
   },
   "outputs": [
    {
     "name": "stdout",
     "output_type": "stream",
     "text": [
      "Converted 7452 words (6568 misses)\n",
      "Converted 7452 words (6568 misses)\n",
      "Converted 7452 words (6568 misses)\n"
     ]
    }
   ],
   "source": [
    "red_50_3 = generatePreEmbbedingModel(model_50, 50, vectorize_layer, 3)\n",
    "red_100_3 = generatePreEmbbedingModel(model_100, 100, vectorize_layer, 3)\n",
    "red_150_3 = generatePreEmbbedingModel(model_150, 150, vectorize_layer, 3)"
   ]
  },
  {
   "cell_type": "code",
   "execution_count": 58,
   "metadata": {
    "id": "WIQ2Ur0UP0bM",
    "pycharm": {
     "is_executing": true,
     "name": "#%%\n"
    }
   },
   "outputs": [],
   "source": [
    "red_50_3.compile(loss='categorical_crossentropy',  optimizer='adam', metrics=['accuracy'])\n",
    "red_100_3.compile(loss='categorical_crossentropy',  optimizer='adam', metrics=['accuracy'])\n",
    "red_150_3.compile(loss='categorical_crossentropy',  optimizer='adam', metrics=['accuracy'])"
   ]
  },
  {
   "cell_type": "code",
   "execution_count": 59,
   "metadata": {
    "colab": {
     "base_uri": "https://localhost:8080/"
    },
    "id": "4qDnFKWdP0bN",
    "outputId": "94bfba7e-cadb-4bd0-a104-34ca90ab32c7",
    "pycharm": {
     "is_executing": true,
     "name": "#%%\n"
    }
   },
   "outputs": [
    {
     "name": "stdout",
     "output_type": "stream",
     "text": [
      "Epoch 1/10\n",
      "873/873 [==============================] - 61s 69ms/step - loss: 1.7904 - accuracy: 0.1806 - val_loss: 1.7898 - val_accuracy: 0.1845\n",
      "Epoch 2/10\n",
      "873/873 [==============================] - 59s 68ms/step - loss: 1.7899 - accuracy: 0.1786 - val_loss: 1.7900 - val_accuracy: 0.1845\n",
      "Epoch 3/10\n",
      "873/873 [==============================] - 61s 70ms/step - loss: 1.7892 - accuracy: 0.1838 - val_loss: 1.7899 - val_accuracy: 0.1845\n",
      "Epoch 4/10\n",
      "873/873 [==============================] - 60s 69ms/step - loss: 1.7892 - accuracy: 0.1805 - val_loss: 1.7899 - val_accuracy: 0.1845\n",
      "Epoch 5/10\n",
      "873/873 [==============================] - 59s 68ms/step - loss: 1.7885 - accuracy: 0.1836 - val_loss: 1.7899 - val_accuracy: 0.1740\n",
      "Epoch 6/10\n",
      "873/873 [==============================] - 58s 67ms/step - loss: 1.7896 - accuracy: 0.1756 - val_loss: 1.7899 - val_accuracy: 0.1845\n",
      "Epoch 7/10\n",
      "873/873 [==============================] - 59s 67ms/step - loss: 1.7888 - accuracy: 0.1833 - val_loss: 1.7898 - val_accuracy: 0.1845\n",
      "Epoch 8/10\n",
      "873/873 [==============================] - 60s 69ms/step - loss: 1.7885 - accuracy: 0.1840 - val_loss: 1.7898 - val_accuracy: 0.1845\n",
      "Epoch 9/10\n",
      "873/873 [==============================] - 59s 68ms/step - loss: 1.7884 - accuracy: 0.1811 - val_loss: 1.7899 - val_accuracy: 0.1845\n",
      "Epoch 10/10\n",
      "873/873 [==============================] - 58s 66ms/step - loss: 1.7895 - accuracy: 0.1820 - val_loss: 1.7898 - val_accuracy: 0.1845\n"
     ]
    },
    {
     "data": {
      "text/plain": [
       "<tensorflow.python.keras.callbacks.History at 0x7f1e8a2bb450>"
      ]
     },
     "execution_count": 59,
     "metadata": {
      "tags": []
     },
     "output_type": "execute_result"
    }
   ],
   "source": [
    "red_50_3.fit(x_train, y_train, batch_size=batch_size, epochs=epochs, validation_data=(x_val, y_val))"
   ]
  },
  {
   "cell_type": "code",
   "execution_count": 60,
   "metadata": {
    "colab": {
     "base_uri": "https://localhost:8080/"
    },
    "id": "CbE6VmdnP0bN",
    "outputId": "83318584-a564-448a-f920-3e92d7bcb91f",
    "pycharm": {
     "is_executing": true,
     "name": "#%%\n"
    }
   },
   "outputs": [
    {
     "name": "stdout",
     "output_type": "stream",
     "text": [
      "Epoch 1/10\n",
      "873/873 [==============================] - 91s 104ms/step - loss: 1.7906 - accuracy: 0.1788 - val_loss: 1.7898 - val_accuracy: 0.1845\n",
      "Epoch 2/10\n",
      "873/873 [==============================] - 90s 104ms/step - loss: 1.7894 - accuracy: 0.1818 - val_loss: 1.7899 - val_accuracy: 0.1845\n",
      "Epoch 3/10\n",
      "873/873 [==============================] - 90s 103ms/step - loss: 1.7893 - accuracy: 0.1778 - val_loss: 1.7898 - val_accuracy: 0.1845\n",
      "Epoch 4/10\n",
      "873/873 [==============================] - 91s 105ms/step - loss: 1.7894 - accuracy: 0.1824 - val_loss: 1.7899 - val_accuracy: 0.1845\n",
      "Epoch 5/10\n",
      "873/873 [==============================] - 91s 104ms/step - loss: 1.7893 - accuracy: 0.1778 - val_loss: 1.7899 - val_accuracy: 0.1845\n",
      "Epoch 6/10\n",
      "873/873 [==============================] - 90s 104ms/step - loss: 1.7892 - accuracy: 0.1795 - val_loss: 1.7898 - val_accuracy: 0.1845\n",
      "Epoch 7/10\n",
      "873/873 [==============================] - 91s 104ms/step - loss: 1.7893 - accuracy: 0.1787 - val_loss: 1.7898 - val_accuracy: 0.1845\n",
      "Epoch 8/10\n",
      "873/873 [==============================] - 91s 104ms/step - loss: 1.7893 - accuracy: 0.1819 - val_loss: 1.7898 - val_accuracy: 0.1845\n",
      "Epoch 9/10\n",
      "873/873 [==============================] - 91s 104ms/step - loss: 1.7890 - accuracy: 0.1782 - val_loss: 1.7899 - val_accuracy: 0.1845\n",
      "Epoch 10/10\n",
      "873/873 [==============================] - 90s 103ms/step - loss: 1.7893 - accuracy: 0.1734 - val_loss: 1.7898 - val_accuracy: 0.1845\n"
     ]
    },
    {
     "data": {
      "text/plain": [
       "<tensorflow.python.keras.callbacks.History at 0x7f1e850c03d0>"
      ]
     },
     "execution_count": 60,
     "metadata": {
      "tags": []
     },
     "output_type": "execute_result"
    }
   ],
   "source": [
    "red_100_3.fit(x_train, y_train, batch_size=batch_size, epochs=epochs, validation_data=(x_val, y_val))"
   ]
  },
  {
   "cell_type": "code",
   "execution_count": 61,
   "metadata": {
    "colab": {
     "base_uri": "https://localhost:8080/"
    },
    "id": "jrLyFaIVP0bN",
    "outputId": "94b5f8cf-d48d-4ada-daef-0e9350955ca8",
    "pycharm": {
     "is_executing": true,
     "name": "#%%\n"
    }
   },
   "outputs": [
    {
     "name": "stdout",
     "output_type": "stream",
     "text": [
      "Epoch 1/10\n",
      "873/873 [==============================] - 140s 159ms/step - loss: 1.7903 - accuracy: 0.1821 - val_loss: 1.7899 - val_accuracy: 0.1740\n",
      "Epoch 2/10\n",
      "873/873 [==============================] - 145s 166ms/step - loss: 1.7890 - accuracy: 0.1770 - val_loss: 1.7897 - val_accuracy: 0.1845\n",
      "Epoch 3/10\n",
      "873/873 [==============================] - 146s 167ms/step - loss: 1.7882 - accuracy: 0.1853 - val_loss: 1.7899 - val_accuracy: 0.1845\n",
      "Epoch 4/10\n",
      "873/873 [==============================] - 142s 163ms/step - loss: 1.7895 - accuracy: 0.1764 - val_loss: 1.7899 - val_accuracy: 0.1845\n",
      "Epoch 5/10\n",
      "873/873 [==============================] - 143s 164ms/step - loss: 1.7899 - accuracy: 0.1752 - val_loss: 1.7899 - val_accuracy: 0.1845\n",
      "Epoch 6/10\n",
      "873/873 [==============================] - 138s 158ms/step - loss: 1.7891 - accuracy: 0.1800 - val_loss: 1.7898 - val_accuracy: 0.1845\n",
      "Epoch 7/10\n",
      "873/873 [==============================] - 139s 159ms/step - loss: 1.7887 - accuracy: 0.1841 - val_loss: 1.7898 - val_accuracy: 0.1845\n",
      "Epoch 8/10\n",
      "873/873 [==============================] - 139s 159ms/step - loss: 1.7892 - accuracy: 0.1768 - val_loss: 1.7900 - val_accuracy: 0.1845\n",
      "Epoch 9/10\n",
      "873/873 [==============================] - 138s 158ms/step - loss: 1.7902 - accuracy: 0.1788 - val_loss: 1.7899 - val_accuracy: 0.1845\n",
      "Epoch 10/10\n",
      "873/873 [==============================] - 139s 159ms/step - loss: 1.7895 - accuracy: 0.1795 - val_loss: 1.7899 - val_accuracy: 0.1845\n"
     ]
    },
    {
     "data": {
      "text/plain": [
       "<tensorflow.python.keras.callbacks.History at 0x7f1e83e70310>"
      ]
     },
     "execution_count": 61,
     "metadata": {
      "tags": []
     },
     "output_type": "execute_result"
    }
   ],
   "source": [
    "red_150_3.fit(x_train, y_train, batch_size=batch_size, epochs=epochs, validation_data=(x_val, y_val))\n"
   ]
  },
  {
   "cell_type": "code",
   "execution_count": 62,
   "metadata": {
    "colab": {
     "base_uri": "https://localhost:8080/"
    },
    "id": "saJ_23h1P0bL",
    "outputId": "37401071-841d-4c04-c567-26f8fddee383",
    "pycharm": {
     "is_executing": true,
     "name": "#%%\n"
    }
   },
   "outputs": [
    {
     "name": "stdout",
     "output_type": "stream",
     "text": [
      "Model: \"model_6\"\n",
      "_________________________________________________________________\n",
      "Layer (type)                 Output Shape              Param #   \n",
      "=================================================================\n",
      "input_7 (InputLayer)         [(None, None)]            0         \n",
      "_________________________________________________________________\n",
      "embedding_6 (Embedding)      (None, None, 50)          701000    \n",
      "_________________________________________________________________\n",
      "global_average_pooling1d_6 ( (None, 50)                0         \n",
      "_________________________________________________________________\n",
      "dense_15 (Dense)             (None, 80)                4080      \n",
      "_________________________________________________________________\n",
      "dropout (Dropout)            (None, 80)                0         \n",
      "_________________________________________________________________\n",
      "batch_normalization (BatchNo (None, 80)                320       \n",
      "_________________________________________________________________\n",
      "dense_16 (Dense)             (None, 250)               20250     \n",
      "_________________________________________________________________\n",
      "dropout_1 (Dropout)          (None, 250)               0         \n",
      "_________________________________________________________________\n",
      "dense_17 (Dense)             (None, 6)                 1506      \n",
      "=================================================================\n",
      "Total params: 727,156\n",
      "Trainable params: 25,996\n",
      "Non-trainable params: 701,160\n",
      "_________________________________________________________________\n"
     ]
    }
   ],
   "source": [
    "red_50_3.summary()"
   ]
  },
  {
   "cell_type": "code",
   "execution_count": 63,
   "metadata": {
    "colab": {
     "base_uri": "https://localhost:8080/"
    },
    "id": "NqtWVpY9P0bL",
    "outputId": "87d67409-bdf5-421f-b441-e5c456595929",
    "pycharm": {
     "is_executing": true,
     "name": "#%%\n"
    }
   },
   "outputs": [
    {
     "name": "stdout",
     "output_type": "stream",
     "text": [
      "Model: \"model_7\"\n",
      "_________________________________________________________________\n",
      "Layer (type)                 Output Shape              Param #   \n",
      "=================================================================\n",
      "input_8 (InputLayer)         [(None, None)]            0         \n",
      "_________________________________________________________________\n",
      "embedding_7 (Embedding)      (None, None, 100)         1402000   \n",
      "_________________________________________________________________\n",
      "global_average_pooling1d_7 ( (None, 100)               0         \n",
      "_________________________________________________________________\n",
      "dense_18 (Dense)             (None, 80)                8080      \n",
      "_________________________________________________________________\n",
      "dropout_2 (Dropout)          (None, 80)                0         \n",
      "_________________________________________________________________\n",
      "batch_normalization_1 (Batch (None, 80)                320       \n",
      "_________________________________________________________________\n",
      "dense_19 (Dense)             (None, 250)               20250     \n",
      "_________________________________________________________________\n",
      "dropout_3 (Dropout)          (None, 250)               0         \n",
      "_________________________________________________________________\n",
      "dense_20 (Dense)             (None, 6)                 1506      \n",
      "=================================================================\n",
      "Total params: 1,432,156\n",
      "Trainable params: 29,996\n",
      "Non-trainable params: 1,402,160\n",
      "_________________________________________________________________\n"
     ]
    }
   ],
   "source": [
    "red_100_3.summary()"
   ]
  },
  {
   "cell_type": "code",
   "execution_count": 64,
   "metadata": {
    "colab": {
     "base_uri": "https://localhost:8080/"
    },
    "id": "u1pPIi8OP0bM",
    "outputId": "435df2e2-d2c1-451b-c472-38e942cecd3a",
    "pycharm": {
     "is_executing": true,
     "name": "#%%\n"
    }
   },
   "outputs": [
    {
     "name": "stdout",
     "output_type": "stream",
     "text": [
      "Model: \"model_8\"\n",
      "_________________________________________________________________\n",
      "Layer (type)                 Output Shape              Param #   \n",
      "=================================================================\n",
      "input_9 (InputLayer)         [(None, None)]            0         \n",
      "_________________________________________________________________\n",
      "embedding_8 (Embedding)      (None, None, 150)         2103000   \n",
      "_________________________________________________________________\n",
      "global_average_pooling1d_8 ( (None, 150)               0         \n",
      "_________________________________________________________________\n",
      "dense_21 (Dense)             (None, 80)                12080     \n",
      "_________________________________________________________________\n",
      "dropout_4 (Dropout)          (None, 80)                0         \n",
      "_________________________________________________________________\n",
      "batch_normalization_2 (Batch (None, 80)                320       \n",
      "_________________________________________________________________\n",
      "dense_22 (Dense)             (None, 250)               20250     \n",
      "_________________________________________________________________\n",
      "dropout_5 (Dropout)          (None, 250)               0         \n",
      "_________________________________________________________________\n",
      "dense_23 (Dense)             (None, 6)                 1506      \n",
      "=================================================================\n",
      "Total params: 2,137,156\n",
      "Trainable params: 33,996\n",
      "Non-trainable params: 2,103,160\n",
      "_________________________________________________________________\n"
     ]
    }
   ],
   "source": [
    "red_150_3.summary()"
   ]
  },
  {
   "cell_type": "code",
   "execution_count": 122,
   "metadata": {
    "colab": {
     "base_uri": "https://localhost:8080/"
    },
    "id": "reZy_ZpMRjnJ",
    "outputId": "6463a1d5-856e-4c33-f989-487d780bf252"
   },
   "outputs": [
    {
     "name": "stdout",
     "output_type": "stream",
     "text": [
      "146/146 [==============================] - 14s 93ms/step\n",
      "              precision    recall  f1-score   support\n",
      "\n",
      "           0       0.00      0.00      0.00      1563\n",
      "           1       0.00      0.00      0.00      1539\n",
      "           2       0.00      0.00      0.00      1476\n",
      "           3       0.00      0.00      0.00      1390\n",
      "           4       0.18      1.00      0.31      1715\n",
      "           5       0.00      0.00      0.00      1620\n",
      "\n",
      "    accuracy                           0.18      9303\n",
      "   macro avg       0.03      0.17      0.05      9303\n",
      "weighted avg       0.03      0.18      0.06      9303\n",
      "\n"
     ]
    },
    {
     "name": "stderr",
     "output_type": "stream",
     "text": [
      "/usr/local/lib/python3.7/dist-packages/sklearn/metrics/_classification.py:1272: UndefinedMetricWarning: Precision and F-score are ill-defined and being set to 0.0 in labels with no predicted samples. Use `zero_division` parameter to control this behavior.\n",
      "  _warn_prf(average, modifier, msg_start, len(result))\n"
     ]
    }
   ],
   "source": [
    "get_metrics_by_class(red_50_3, x_test, y_test)"
   ]
  },
  {
   "cell_type": "code",
   "execution_count": 123,
   "metadata": {
    "colab": {
     "base_uri": "https://localhost:8080/"
    },
    "id": "ZAsSNxJFRkdF",
    "outputId": "40a5c64c-1be3-454f-d600-56f9aa150817"
   },
   "outputs": [
    {
     "name": "stdout",
     "output_type": "stream",
     "text": [
      "146/146 [==============================] - 22s 151ms/step\n",
      "              precision    recall  f1-score   support\n",
      "\n",
      "           0       0.00      0.00      0.00      1563\n",
      "           1       0.00      0.00      0.00      1539\n",
      "           2       0.00      0.00      0.00      1476\n",
      "           3       0.00      0.00      0.00      1390\n",
      "           4       0.18      1.00      0.31      1715\n",
      "           5       0.00      0.00      0.00      1620\n",
      "\n",
      "    accuracy                           0.18      9303\n",
      "   macro avg       0.03      0.17      0.05      9303\n",
      "weighted avg       0.03      0.18      0.06      9303\n",
      "\n"
     ]
    },
    {
     "name": "stderr",
     "output_type": "stream",
     "text": [
      "/usr/local/lib/python3.7/dist-packages/sklearn/metrics/_classification.py:1272: UndefinedMetricWarning: Precision and F-score are ill-defined and being set to 0.0 in labels with no predicted samples. Use `zero_division` parameter to control this behavior.\n",
      "  _warn_prf(average, modifier, msg_start, len(result))\n"
     ]
    }
   ],
   "source": [
    "get_metrics_by_class(red_100_3, x_test, y_test)"
   ]
  },
  {
   "cell_type": "code",
   "execution_count": 124,
   "metadata": {
    "colab": {
     "base_uri": "https://localhost:8080/"
    },
    "id": "EKcxr--dRkyo",
    "outputId": "e8a7e353-d5c4-4064-f35e-98238f963f31"
   },
   "outputs": [
    {
     "name": "stdout",
     "output_type": "stream",
     "text": [
      "146/146 [==============================] - 36s 243ms/step\n",
      "              precision    recall  f1-score   support\n",
      "\n",
      "           0       0.00      0.00      0.00      1563\n",
      "           1       0.00      0.00      0.00      1539\n",
      "           2       0.00      0.00      0.00      1476\n",
      "           3       0.00      0.00      0.00      1390\n",
      "           4       0.18      1.00      0.31      1715\n",
      "           5       0.00      0.00      0.00      1620\n",
      "\n",
      "    accuracy                           0.18      9303\n",
      "   macro avg       0.03      0.17      0.05      9303\n",
      "weighted avg       0.03      0.18      0.06      9303\n",
      "\n"
     ]
    },
    {
     "name": "stderr",
     "output_type": "stream",
     "text": [
      "/usr/local/lib/python3.7/dist-packages/sklearn/metrics/_classification.py:1272: UndefinedMetricWarning: Precision and F-score are ill-defined and being set to 0.0 in labels with no predicted samples. Use `zero_division` parameter to control this behavior.\n",
      "  _warn_prf(average, modifier, msg_start, len(result))\n"
     ]
    }
   ],
   "source": [
    "get_metrics_by_class(red_150_3, x_test, y_test)"
   ]
  },
  {
   "cell_type": "markdown",
   "metadata": {},
   "source": [
    "## 4 Using trained in place embeddings\n"
   ]
  },
  {
   "cell_type": "markdown",
   "metadata": {},
   "source": [
    "## Preparacion de los datos"
   ]
  },
  {
   "cell_type": "code",
   "execution_count": null,
   "metadata": {},
   "outputs": [],
   "source": [
    "'''\n",
    "Aquí se filtra el dataset para que solo queden los dialogos relevantes, los de ls personajes principales.\n",
    "'''\n",
    "# Dataset from - https://archive.ics.uci.edu/ml/datasets/SMS+Spam+Collection\n",
    "ruta_dataset = 'docs/dialogs_friends_filter.csv'\n",
    "df_0 = pd.read_csv(ruta_dataset).dropna()\n",
    "target_friends = ['Chandler', 'Joey', 'Monica', 'Phoebe', 'Rachel', 'Ross']\n",
    "df = df_0.loc[df_0['raw_character_text'].isin(target_friends)]\n",
    "\n",
    "'''\n",
    "Se realiza un Encoding de los nombres de los personajes principales.\n",
    "La idea es que cada categoría de personaje este codificada por un vector\n",
    "1x6 binario.\n",
    "'''\n",
    "enc = OneHotEncoder(handle_unknown='ignore')\n",
    "enc.fit(df[['raw_character_text']])\n",
    "print(enc.categories_)\n",
    "\n",
    "'''\n",
    "Se dividen los datos en 60 training, 20 validación y 20 testing\n",
    "'''\n",
    "# df_yelp = df[df['source'] == 'yelp']\n",
    "sentences = df['spoken_words'].values\n",
    "y = enc.transform(df[['raw_character_text']]).toarray()\n",
    "sentences_train_val, sentences_test, y_train_val, y_test = train_test_split(sentences, y, test_size=0.20, random_state=1000)\n",
    "sentences_train, sentences_val, y_train, y_val = train_test_split(sentences_train_val, y_train_val, test_size=0.25, random_state=1000)\n",
    "# Once we have our handles, we format the datasets in a Keras-fit compatible\n",
    "# format: a tuple of the form (text_data, label).\n",
    "train_dataset = tf.data.Dataset.from_tensor_slices((sentences_train, y_train))\n",
    "test_dataset = tf.data.Dataset.from_tensor_slices((sentences_test, y_test))\n",
    "# We also create a dataset with only the textual data in it. This will be used\n",
    "# to build our vocabulary later on.\n",
    "text_dataset = tf.data.Dataset.from_tensor_slices((sentences_train))\n",
    "\n",
    "\n",
    "vectorize_layer = TextVectorization(\n",
    "    ngrams=None, max_tokens=None, vocabulary=None,\n",
    "    output_mode='binary', output_sequence_length=None, pad_to_max_tokens=True,\n",
    ")\n",
    "\n",
    "\n",
    "vectorize_layer.adapt(text_dataset.batch(32))\n",
    "len(vectorize_layer.get_vocabulary())\n",
    "\n",
    "\n",
    "\n",
    "x_train = vectorize_layer(np.array([[s] for s in sentences_train])).numpy()\n",
    "x_val = vectorize_layer(np.array([[s] for s in sentences_val])).numpy()\n",
    "y_train = np.array(y_train)\n",
    "y_val = np.array(y_val)\n",
    "\n"
   ]
  },
  {
   "cell_type": "code",
   "execution_count": null,
   "metadata": {},
   "outputs": [],
   "source": [
    "\n",
    "def generateInplaceEmbbedingModel( embedding_dim, vectorize_layer, architecture_id = 1):\n",
    "    batch_size = 32\n",
    "    epochs = 10\n",
    "    #weights = get_weight_matrix(model.wv, vectorize_layer.get_vocabulary())\n",
    "    model = Sequential()\n",
    "    model.add(vectorize_layer)\n",
    "    \n",
    "    num_tokens = len(vectorize_layer.get_vocabulary())\n",
    "    embedding_layer = layers.Embedding(\n",
    "        num_tokens,\n",
    "        embedding_dim,\n",
    "        name=\"embedding\"\n",
    "    )\n",
    "    model.add(embedding_layer)\n",
    "    \n",
    "    model.add(layers.GlobalAveragePooling1D())\n",
    "    \n",
    "    if architecture_id == 1:\n",
    "        model.add(layers.Dense(10, activation='relu'))\n",
    "    elif architecture_id == 2:\n",
    "        model.add(layers.Dense(80, activation='relu'))\n",
    "        model.add(layers.Dense(250, activation='relu'))\n",
    "    elif architecture_id == 3:\n",
    "        model.add(layers.Dense(80, activation='relu'))\n",
    "        model.add(layers.Dropout(0.3))\n",
    "        model.add(layers.BatchNormalization())\n",
    "        model.add(layers.Dense(250, activation='relu'))\n",
    "        model.add(layers.Dropout(0.5))\n",
    "\n",
    "    model.add(layers.Dense(len(enc.categories_[0]), activation='softmax'))\n",
    "    return model\n",
    "\n",
    "def generar_vectorize_layer(type_vectorize_layer, batches):\n",
    "    vect_layer = TextVectorization(\n",
    "        ngrams=None,\n",
    "        max_tokens=None, vocabulary=None,\n",
    "        output_mode=type_vectorize_layer, output_sequence_length=None, pad_to_max_tokens=True,\n",
    "    )\n",
    "    vect_layer.adapt(batches)\n",
    "    return vect_layer"
   ]
  },
  {
   "cell_type": "code",
   "execution_count": null,
   "metadata": {},
   "outputs": [],
   "source": [
    "batch_size=32\n",
    "vectorize_layer_bin = generar_vectorize_layer('binary', text_dataset.batch(batch_size))\n",
    "vectorize_layer_int = generar_vectorize_layer('int', text_dataset.batch(batch_size))\n",
    "vectorize_layer_tf_idf = generar_vectorize_layer('tf-idf', text_dataset.batch(batch_size))"
   ]
  },
  {
   "cell_type": "markdown",
   "metadata": {},
   "source": [
    "# Primera arquitectura"
   ]
  },
  {
   "cell_type": "code",
   "execution_count": null,
   "metadata": {},
   "outputs": [],
   "source": [
    "red_50bin_1 = generateInplaceEmbbedingModel( 50, vectorize_layer_bin, 1)\n",
    "red_100int_1 = generateInplaceEmbbedingModel( 100, vectorize_layer_int, 1)\n",
    "red_150tfidf_1 = generateInplaceEmbbedingModel( 150, vectorize_layer_tf_idf, 1)\n",
    "\n",
    "red_50bin_1.compile(loss='categorical_crossentropy',  optimizer='adam', metrics=['accuracy'])\n",
    "red_100int_1.compile(loss='categorical_crossentropy',  optimizer='adam', metrics=['accuracy'])\n",
    "red_150tfidf_1.compile(loss='categorical_crossentropy',  optimizer='adam', metrics=['accuracy'])"
   ]
  },
  {
   "cell_type": "code",
   "execution_count": null,
   "metadata": {},
   "outputs": [],
   "source": [
    "red_50bin_1.fit(\n",
    "    train_dataset.batch(batch_size),\n",
    "    validation_data=test_dataset.batch(batch_size),\n",
    "    epochs=5)"
   ]
  },
  {
   "cell_type": "code",
   "execution_count": null,
   "metadata": {},
   "outputs": [],
   "source": [
    "red_100int_1.fit(\n",
    "    train_dataset.batch(batch_size),\n",
    "    validation_data=test_dataset.batch(batch_size),\n",
    "    epochs=5)"
   ]
  },
  {
   "cell_type": "code",
   "execution_count": null,
   "metadata": {},
   "outputs": [],
   "source": [
    "red_150tfidf_1.fit(\n",
    "    train_dataset.batch(batch_size),\n",
    "    validation_data=test_dataset.batch(batch_size),\n",
    "    epochs=5)"
   ]
  },
  {
   "cell_type": "code",
   "execution_count": null,
   "metadata": {},
   "outputs": [],
   "source": [
    "red_50bin_1.summary()"
   ]
  },
  {
   "cell_type": "code",
   "execution_count": null,
   "metadata": {},
   "outputs": [],
   "source": [
    "red_100int_1.summary()"
   ]
  },
  {
   "cell_type": "code",
   "execution_count": null,
   "metadata": {},
   "outputs": [],
   "source": [
    "red_150tfidf_1.summary()"
   ]
  },
  {
   "cell_type": "code",
   "execution_count": null,
   "metadata": {},
   "outputs": [],
   "source": [
    "get_metrics_by_class(red_50bin_1, x_test, y_test)"
   ]
  },
  {
   "cell_type": "code",
   "execution_count": null,
   "metadata": {},
   "outputs": [],
   "source": [
    "get_metrics_by_class(red_100int_1, x_test, y_test)"
   ]
  },
  {
   "cell_type": "code",
   "execution_count": null,
   "metadata": {},
   "outputs": [],
   "source": [
    "get_metrics_by_class(red_150tfidf_1, x_test, y_test)"
   ]
  },
  {
   "cell_type": "markdown",
   "metadata": {},
   "source": [
    "# Segundo arquitectura"
   ]
  },
  {
   "cell_type": "code",
   "execution_count": null,
   "metadata": {},
   "outputs": [],
   "source": [
    "red_50bin_2 = generateInplaceEmbbedingModel( 50, vectorize_layer_bin, 2)\n",
    "red_100int_2 = generateInplaceEmbbedingModel( 100, vectorize_layer_int, 2)\n",
    "red_150tfidf_2 = generateInplaceEmbbedingModel( 150, vectorize_layer_tf_idf, 2)"
   ]
  },
  {
   "cell_type": "code",
   "execution_count": null,
   "metadata": {},
   "outputs": [],
   "source": [
    "red_50bin_2.compile(loss='categorical_crossentropy',  optimizer='adam', metrics=['accuracy'])\n",
    "red_100int_2.compile(loss='categorical_crossentropy',  optimizer='adam', metrics=['accuracy'])\n",
    "red_150tfidf_2.compile(loss='categorical_crossentropy',  optimizer='adam', metrics=['accuracy'])"
   ]
  },
  {
   "cell_type": "code",
   "execution_count": null,
   "metadata": {},
   "outputs": [],
   "source": [
    "red_50bin_2.fit(\n",
    "    train_dataset.batch(batch_size),\n",
    "    validation_data=test_dataset.batch(batch_size),\n",
    "    epochs=5)"
   ]
  },
  {
   "cell_type": "code",
   "execution_count": null,
   "metadata": {},
   "outputs": [],
   "source": [
    "red_100int_2.fit(\n",
    "    train_dataset.batch(batch_size),\n",
    "    validation_data=test_dataset.batch(batch_size),\n",
    "    epochs=5)"
   ]
  },
  {
   "cell_type": "code",
   "execution_count": null,
   "metadata": {},
   "outputs": [],
   "source": [
    "red_150tfidf_2.fit(\n",
    "    train_dataset.batch(batch_size),\n",
    "    validation_data=test_dataset.batch(batch_size),\n",
    "    epochs=5)"
   ]
  },
  {
   "cell_type": "code",
   "execution_count": null,
   "metadata": {},
   "outputs": [],
   "source": [
    "red_50bin_2.summary()"
   ]
  },
  {
   "cell_type": "code",
   "execution_count": null,
   "metadata": {},
   "outputs": [],
   "source": [
    "red_100int_2.summary()"
   ]
  },
  {
   "cell_type": "code",
   "execution_count": null,
   "metadata": {},
   "outputs": [],
   "source": [
    "red_150tfidf_2.summary()"
   ]
  },
  {
   "cell_type": "code",
   "execution_count": null,
   "metadata": {},
   "outputs": [],
   "source": [
    "get_metrics_by_class(red_50bin_2, x_test, y_test)"
   ]
  },
  {
   "cell_type": "code",
   "execution_count": null,
   "metadata": {},
   "outputs": [],
   "source": [
    "get_metrics_by_class(red_100int_2, x_test, y_test)"
   ]
  },
  {
   "cell_type": "code",
   "execution_count": null,
   "metadata": {},
   "outputs": [],
   "source": [
    "get_metrics_by_class(red_150tfidf_2, x_test, y_test)"
   ]
  },
  {
   "cell_type": "markdown",
   "metadata": {},
   "source": [
    "# Tercer arquitectura"
   ]
  },
  {
   "cell_type": "code",
   "execution_count": null,
   "metadata": {},
   "outputs": [],
   "source": [
    "red_50bin_3 = generateInplaceEmbbedingModel( 50, vectorize_layer_bin, 3)\n",
    "red_100int_3 = generateInplaceEmbbedingModel( 100, vectorize_layer_int, 3)\n",
    "red_150tfidf_3 = generateInplaceEmbbedingModel( 150, vectorize_layer_tf_idf, 3)"
   ]
  },
  {
   "cell_type": "code",
   "execution_count": null,
   "metadata": {},
   "outputs": [],
   "source": [
    "red_50bin_3.compile(loss='categorical_crossentropy',  optimizer='adam', metrics=['accuracy'])\n",
    "red_100int_3.compile(loss='categorical_crossentropy',  optimizer='adam', metrics=['accuracy'])\n",
    "red_150tfidf_3.compile(loss='categorical_crossentropy',  optimizer='adam', metrics=['accuracy'])"
   ]
  },
  {
   "cell_type": "code",
   "execution_count": null,
   "metadata": {},
   "outputs": [],
   "source": [
    "red_50bin_3.fit(\n",
    "    train_dataset.batch(batch_size),\n",
    "    validation_data=test_dataset.batch(batch_size),\n",
    "    epochs=5)\n"
   ]
  },
  {
   "cell_type": "code",
   "execution_count": null,
   "metadata": {},
   "outputs": [],
   "source": [
    "red_100int_3.fit(\n",
    "    train_dataset.batch(batch_size),\n",
    "    validation_data=test_dataset.batch(batch_size),\n",
    "    epochs=5)"
   ]
  },
  {
   "cell_type": "code",
   "execution_count": null,
   "metadata": {},
   "outputs": [],
   "source": [
    "red_150tfidf_3.fit(\n",
    "    train_dataset.batch(batch_size),\n",
    "    validation_data=test_dataset.batch(batch_size),\n",
    "    epochs=5)"
   ]
  },
  {
   "cell_type": "code",
   "execution_count": null,
   "metadata": {},
   "outputs": [],
   "source": [
    "red_50bin_3.summary()"
   ]
  },
  {
   "cell_type": "code",
   "execution_count": null,
   "metadata": {},
   "outputs": [],
   "source": [
    "red_100int_3.summary()"
   ]
  },
  {
   "cell_type": "code",
   "execution_count": null,
   "metadata": {},
   "outputs": [],
   "source": [
    "red_150tfidf_3.summary()"
   ]
  },
  {
   "cell_type": "code",
   "execution_count": null,
   "metadata": {},
   "outputs": [],
   "source": [
    "get_metrics_by_class(red_50bin_3, x_test, y_test)"
   ]
  },
  {
   "cell_type": "code",
   "execution_count": null,
   "metadata": {},
   "outputs": [],
   "source": [
    "get_metrics_by_class(red_100int_3, x_test, y_test)"
   ]
  },
  {
   "cell_type": "code",
   "execution_count": null,
   "metadata": {},
   "outputs": [],
   "source": [
    "get_metrics_by_class(red_150tfidf_3, x_test, y_test)"
   ]
  }
 ],
 "metadata": {
  "accelerator": "TPU",
  "colab": {
   "name": "friends.ipynb",
   "provenance": []
  },
  "kernelspec": {
   "display_name": "Python 3",
   "language": "python",
   "name": "python3"
  },
  "language_info": {
   "codemirror_mode": {
    "name": "ipython",
    "version": 3
   },
   "file_extension": ".py",
   "mimetype": "text/x-python",
   "name": "python",
   "nbconvert_exporter": "python",
   "pygments_lexer": "ipython3",
   "version": "3.7.10"
  }
 },
 "nbformat": 4,
 "nbformat_minor": 1
}
