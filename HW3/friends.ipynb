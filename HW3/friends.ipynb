{
  "cells": [
    {
      "cell_type": "markdown",
      "metadata": {
        "id": "5aiQGDVdvefU"
      },
      "source": [
        "# I. Using the Friends dataset build words embeddings using GENSIM and word2vec"
      ]
    },
    {
      "cell_type": "code",
      "execution_count": 61,
      "metadata": {
        "id": "vCCupn0Bh-_W"
      },
      "outputs": [],
      "source": [
        "import gzip\n",
        "import gensim\n",
        "import logging\n",
        "import pandas as pd\n",
        "from gensim.utils import simple_preprocess\n",
        "import numpy as np\n",
        "import matplotlib.pyplot as plt\n",
        "from sklearn.manifold import TSNE\n",
        "import tensorflow as tf\n",
        "from tensorflow.keras import layers\n",
        "from tensorflow.keras import losses\n",
        "from tensorflow.keras import preprocessing\n",
        "from tensorflow.keras.layers.experimental.preprocessing import TextVectorization\n",
        "from sklearn.model_selection import train_test_split\n",
        "from sklearn.preprocessing import OneHotEncoder\n",
        "from keras.models import Sequential"
      ]
    },
    {
      "cell_type": "code",
      "execution_count": 14,
      "metadata": {
        "colab": {
          "base_uri": "https://localhost:8080/",
          "height": 686
        },
        "id": "5NmOXzpkva5Z",
        "outputId": "5e8c4565-94d3-42a3-91b3-96e7925f04eb"
      },
      "outputs": [
        {
          "name": "stdout",
          "output_type": "stream",
          "text": [
            "(46514, 2)\n"
          ]
        },
        {
          "data": {
            "text/html": [
              "<div>\n",
              "<style scoped>\n",
              "    .dataframe tbody tr th:only-of-type {\n",
              "        vertical-align: middle;\n",
              "    }\n",
              "\n",
              "    .dataframe tbody tr th {\n",
              "        vertical-align: top;\n",
              "    }\n",
              "\n",
              "    .dataframe thead th {\n",
              "        text-align: right;\n",
              "    }\n",
              "</style>\n",
              "<table border=\"1\" class=\"dataframe\">\n",
              "  <thead>\n",
              "    <tr style=\"text-align: right;\">\n",
              "      <th></th>\n",
              "      <th>raw_character_text</th>\n",
              "      <th>spoken_words</th>\n",
              "    </tr>\n",
              "  </thead>\n",
              "  <tbody>\n",
              "    <tr>\n",
              "      <th>0</th>\n",
              "      <td>Monica</td>\n",
              "      <td>There's nothing to tell! He's just some guy I ...</td>\n",
              "    </tr>\n",
              "    <tr>\n",
              "      <th>1</th>\n",
              "      <td>Joey</td>\n",
              "      <td>C'mon, you're going out with the guy! There's ...</td>\n",
              "    </tr>\n",
              "    <tr>\n",
              "      <th>2</th>\n",
              "      <td>Chandler</td>\n",
              "      <td>All right Joey, be nice.  So does he have a hu...</td>\n",
              "    </tr>\n",
              "    <tr>\n",
              "      <th>3</th>\n",
              "      <td>Phoebe</td>\n",
              "      <td>Wait, does he eat chalk?</td>\n",
              "    </tr>\n",
              "    <tr>\n",
              "      <th>4</th>\n",
              "      <td>Phoebe</td>\n",
              "      <td>Just, 'cause, I don't want her to go through w...</td>\n",
              "    </tr>\n",
              "    <tr>\n",
              "      <th>5</th>\n",
              "      <td>Monica</td>\n",
              "      <td>Okay, everybody relax. This is not even a date...</td>\n",
              "    </tr>\n",
              "    <tr>\n",
              "      <th>6</th>\n",
              "      <td>Chandler</td>\n",
              "      <td>Sounds like a date to me.</td>\n",
              "    </tr>\n",
              "    <tr>\n",
              "      <th>7</th>\n",
              "      <td>Chandler</td>\n",
              "      <td>Alright, so I'm back in high school, I'm stand...</td>\n",
              "    </tr>\n",
              "    <tr>\n",
              "      <th>8</th>\n",
              "      <td>Chandler</td>\n",
              "      <td>Then I look down, and I realize there's a phon...</td>\n",
              "    </tr>\n",
              "    <tr>\n",
              "      <th>9</th>\n",
              "      <td>Joey</td>\n",
              "      <td>Instead of...?</td>\n",
              "    </tr>\n",
              "    <tr>\n",
              "      <th>10</th>\n",
              "      <td>Chandler</td>\n",
              "      <td>That's right.</td>\n",
              "    </tr>\n",
              "    <tr>\n",
              "      <th>11</th>\n",
              "      <td>Joey</td>\n",
              "      <td>Never had that dream.</td>\n",
              "    </tr>\n",
              "    <tr>\n",
              "      <th>12</th>\n",
              "      <td>Phoebe</td>\n",
              "      <td>No.</td>\n",
              "    </tr>\n",
              "    <tr>\n",
              "      <th>13</th>\n",
              "      <td>Chandler</td>\n",
              "      <td>All of a sudden, the phone starts to ring. Now...</td>\n",
              "    </tr>\n",
              "    <tr>\n",
              "      <th>14</th>\n",
              "      <td>Monica</td>\n",
              "      <td>And they weren't looking at you before?!</td>\n",
              "    </tr>\n",
              "    <tr>\n",
              "      <th>15</th>\n",
              "      <td>Chandler</td>\n",
              "      <td>Finally, I figure I'd better answer it, and it...</td>\n",
              "    </tr>\n",
              "    <tr>\n",
              "      <th>16</th>\n",
              "      <td>Ross</td>\n",
              "      <td>(mortified) Hi.</td>\n",
              "    </tr>\n",
              "    <tr>\n",
              "      <th>17</th>\n",
              "      <td>Joey</td>\n",
              "      <td>This guy says hello, I wanna kill myself.</td>\n",
              "    </tr>\n",
              "    <tr>\n",
              "      <th>18</th>\n",
              "      <td>Monica</td>\n",
              "      <td>Are you okay, sweetie?</td>\n",
              "    </tr>\n",
              "    <tr>\n",
              "      <th>19</th>\n",
              "      <td>Ross</td>\n",
              "      <td>I just feel like someone reached down my throa...</td>\n",
              "    </tr>\n",
              "  </tbody>\n",
              "</table>\n",
              "</div>"
            ],
            "text/plain": [
              "   raw_character_text                                       spoken_words\n",
              "0              Monica  There's nothing to tell! He's just some guy I ...\n",
              "1                Joey  C'mon, you're going out with the guy! There's ...\n",
              "2            Chandler  All right Joey, be nice.  So does he have a hu...\n",
              "3              Phoebe                           Wait, does he eat chalk?\n",
              "4              Phoebe  Just, 'cause, I don't want her to go through w...\n",
              "5              Monica  Okay, everybody relax. This is not even a date...\n",
              "6            Chandler                          Sounds like a date to me.\n",
              "7            Chandler  Alright, so I'm back in high school, I'm stand...\n",
              "8            Chandler  Then I look down, and I realize there's a phon...\n",
              "9                Joey                                     Instead of...?\n",
              "10           Chandler                                      That's right.\n",
              "11               Joey                              Never had that dream.\n",
              "12             Phoebe                                                No.\n",
              "13           Chandler  All of a sudden, the phone starts to ring. Now...\n",
              "14             Monica           And they weren't looking at you before?!\n",
              "15           Chandler  Finally, I figure I'd better answer it, and it...\n",
              "16               Ross                                    (mortified) Hi.\n",
              "17               Joey          This guy says hello, I wanna kill myself.\n",
              "18             Monica                             Are you okay, sweetie?\n",
              "19               Ross  I just feel like someone reached down my throa..."
            ]
          },
          "execution_count": 14,
          "metadata": {
            "tags": []
          },
          "output_type": "execute_result"
        }
      ],
      "source": [
        "# TODO: Comentar ruta_dataset de abajo que es la ruta de colab, y la local para jupyter es la de arriba\r\n",
        "ruta_dataset = 'docs/dialogs_friends_filter.csv'\r\n",
        "# ruta_dataset = 'drive/MyDrive/dialogs_friends_filter.csv'\r\n",
        "\r\n",
        "df = pd.read_csv(ruta_dataset).dropna()\r\n",
        "\r\n",
        "# imprima las primeras 5 filas\r\n",
        "df.head()\r\n",
        "\r\n",
        "print(df.shape)\r\n",
        "df.head(20) # returns (rows, columns)"
      ]
    },
    {
      "cell_type": "code",
      "execution_count": 15,
      "metadata": {
        "colab": {
          "base_uri": "https://localhost:8080/",
          "height": 359
        },
        "id": "3e0K4ScZh957",
        "outputId": "105ab74a-e37b-4f10-c2f8-b668bc2bf0b0"
      },
      "outputs": [
        {
          "data": {
            "text/html": [
              "<div>\n",
              "<style scoped>\n",
              "    .dataframe tbody tr th:only-of-type {\n",
              "        vertical-align: middle;\n",
              "    }\n",
              "\n",
              "    .dataframe tbody tr th {\n",
              "        vertical-align: top;\n",
              "    }\n",
              "\n",
              "    .dataframe thead th {\n",
              "        text-align: right;\n",
              "    }\n",
              "</style>\n",
              "<table border=\"1\" class=\"dataframe\">\n",
              "  <thead>\n",
              "    <tr style=\"text-align: right;\">\n",
              "      <th></th>\n",
              "      <th>raw_character_text</th>\n",
              "      <th>spoken_words</th>\n",
              "      <th>proccesed</th>\n",
              "    </tr>\n",
              "  </thead>\n",
              "  <tbody>\n",
              "    <tr>\n",
              "      <th>0</th>\n",
              "      <td>Monica</td>\n",
              "      <td>There's nothing to tell! He's just some guy I ...</td>\n",
              "      <td>[there, nothing, to, tell, he, just, some, guy...</td>\n",
              "    </tr>\n",
              "    <tr>\n",
              "      <th>1</th>\n",
              "      <td>Joey</td>\n",
              "      <td>C'mon, you're going out with the guy! There's ...</td>\n",
              "      <td>[mon, you, re, going, out, with, the, guy, the...</td>\n",
              "    </tr>\n",
              "    <tr>\n",
              "      <th>2</th>\n",
              "      <td>Chandler</td>\n",
              "      <td>All right Joey, be nice.  So does he have a hu...</td>\n",
              "      <td>[all, right, joey, be, nice, so, does, he, hav...</td>\n",
              "    </tr>\n",
              "    <tr>\n",
              "      <th>3</th>\n",
              "      <td>Phoebe</td>\n",
              "      <td>Wait, does he eat chalk?</td>\n",
              "      <td>[wait, does, he, eat, chalk]</td>\n",
              "    </tr>\n",
              "    <tr>\n",
              "      <th>4</th>\n",
              "      <td>Phoebe</td>\n",
              "      <td>Just, 'cause, I don't want her to go through w...</td>\n",
              "      <td>[just, cause, don, want, her, to, go, through,...</td>\n",
              "    </tr>\n",
              "    <tr>\n",
              "      <th>5</th>\n",
              "      <td>Monica</td>\n",
              "      <td>Okay, everybody relax. This is not even a date...</td>\n",
              "      <td>[okay, everybody, relax, this, is, not, even, ...</td>\n",
              "    </tr>\n",
              "    <tr>\n",
              "      <th>6</th>\n",
              "      <td>Chandler</td>\n",
              "      <td>Sounds like a date to me.</td>\n",
              "      <td>[sounds, like, date, to, me]</td>\n",
              "    </tr>\n",
              "    <tr>\n",
              "      <th>7</th>\n",
              "      <td>Chandler</td>\n",
              "      <td>Alright, so I'm back in high school, I'm stand...</td>\n",
              "      <td>[alright, so, back, in, high, school, standing...</td>\n",
              "    </tr>\n",
              "    <tr>\n",
              "      <th>8</th>\n",
              "      <td>Chandler</td>\n",
              "      <td>Then I look down, and I realize there's a phon...</td>\n",
              "      <td>[then, look, down, and, realize, there, phone,...</td>\n",
              "    </tr>\n",
              "    <tr>\n",
              "      <th>9</th>\n",
              "      <td>Joey</td>\n",
              "      <td>Instead of...?</td>\n",
              "      <td>[instead, of]</td>\n",
              "    </tr>\n",
              "  </tbody>\n",
              "</table>\n",
              "</div>"
            ],
            "text/plain": [
              "  raw_character_text  ...                                          proccesed\n",
              "0             Monica  ...  [there, nothing, to, tell, he, just, some, guy...\n",
              "1               Joey  ...  [mon, you, re, going, out, with, the, guy, the...\n",
              "2           Chandler  ...  [all, right, joey, be, nice, so, does, he, hav...\n",
              "3             Phoebe  ...                       [wait, does, he, eat, chalk]\n",
              "4             Phoebe  ...  [just, cause, don, want, her, to, go, through,...\n",
              "5             Monica  ...  [okay, everybody, relax, this, is, not, even, ...\n",
              "6           Chandler  ...                       [sounds, like, date, to, me]\n",
              "7           Chandler  ...  [alright, so, back, in, high, school, standing...\n",
              "8           Chandler  ...  [then, look, down, and, realize, there, phone,...\n",
              "9               Joey  ...                                      [instead, of]\n",
              "\n",
              "[10 rows x 3 columns]"
            ]
          },
          "execution_count": 15,
          "metadata": {
            "tags": []
          },
          "output_type": "execute_result"
        }
      ],
      "source": [
        "def preproccess(line):\n",
        "    return simple_preprocess(line)\n",
        "\n",
        "df['proccesed'] = df['spoken_words'].apply(preproccess)\n",
        "df.head(10)"
      ]
    },
    {
      "cell_type": "code",
      "execution_count": 16,
      "metadata": {
        "id": "3bYvK2jNiTij"
      },
      "outputs": [],
      "source": [
        "documents = df['proccesed'].to_numpy()"
      ]
    },
    {
      "cell_type": "markdown",
      "metadata": {
        "id": "b6H_KROCimDh"
      },
      "source": [
        "### Generate 150 sized Word2vec embbedings"
      ]
    },
    {
      "cell_type": "code",
      "execution_count": 17,
      "metadata": {
        "colab": {
          "base_uri": "https://localhost:8080/"
        },
        "id": "wH3tN41ziVoW",
        "outputId": "e3887c0e-65cf-49f3-a4e2-185843dcf2c9"
      },
      "outputs": [
        {
          "data": {
            "text/plain": [
              "(3685629, 5213860)"
            ]
          },
          "execution_count": 17,
          "metadata": {
            "tags": []
          },
          "output_type": "execute_result"
        }
      ],
      "source": [
        "#TODO: Descomentar esta y comentar la otra, por alguna razon no es vector_size si no size en colab\r\n",
        "model_150 = gensim.models.Word2Vec(documents, vector_size=150, window=10, min_count=2, workers=10, sg=1)\r\n",
        "# model_150 = gensim.models.Word2Vec(documents, size=150, window=10, min_count=2, workers=10, sg=1)\r\n",
        "\r\n",
        "model_150.train(documents, total_examples=len(documents), epochs=10)"
      ]
    },
    {
      "cell_type": "code",
      "execution_count": 18,
      "metadata": {
        "id": "93BLoyINiY0v"
      },
      "outputs": [],
      "source": [
        "model_150.save(\"Friends_150_5.model\")"
      ]
    },
    {
      "cell_type": "code",
      "execution_count": 19,
      "metadata": {
        "colab": {
          "base_uri": "https://localhost:8080/"
        },
        "id": "iB3hiyc9ic-v",
        "outputId": "ecb38f4b-0a85-4f4b-ba2f-fa84594a32da"
      },
      "outputs": [
        {
          "name": "stdout",
          "output_type": "stream",
          "text": [
            "[-0.07560975  0.12147306  0.04528654  0.02577557 -0.41615477 -0.10829998\n",
            " -0.1841865   0.4843759   0.54045784  0.20415445 -0.29947382  0.6447435\n",
            " -0.27400178  0.274366   -0.1458756   0.3167415  -0.29831713 -0.42664635\n",
            " -0.19284566 -0.00505481 -0.14758414  0.31462896 -0.10079949  0.07727164\n",
            "  0.25607666 -0.0863259   0.0679035  -0.33072963 -0.26807472 -0.02952423\n",
            " -0.388757   -0.10733836 -0.50364774 -0.11157288 -0.01629725 -0.50511897\n",
            " -0.62855035  0.04967217  0.14266819 -0.04706245 -0.14756328 -0.2053929\n",
            "  0.32907057  0.05850534  0.02248151 -0.08096796 -0.1876503  -0.04815659\n",
            " -0.08150055  0.31356448 -0.18257722 -0.04183808  0.12408423  0.13830298\n",
            "  0.11711352 -0.5680398   0.46689478 -0.6304176   0.3651878  -0.08744648\n",
            "  0.2537547   0.13305426  0.15472761  0.15701026 -0.1394557   0.14024164\n",
            " -0.32671282 -0.5123784  -0.84708506 -0.6257889  -0.05424089 -0.07767647\n",
            " -0.8314027   0.27456582  0.05162996  0.02622456 -0.11320598 -0.21453637\n",
            "  0.487357    0.10440467 -0.147015   -0.03115009 -0.27474627  0.12921816\n",
            "  0.06406905 -0.31146032 -0.24905242  0.6252031   0.23926035  0.68497616\n",
            "  0.00085065  0.07937343  0.0692871   0.27279046  0.04766287  0.4203993\n",
            "  0.00659971 -0.59005487 -0.14698045 -0.6988422   0.5249909   0.1550247\n",
            " -0.11337737 -0.11905502  0.05055371  0.15834151 -0.12317777 -0.20253362\n",
            " -0.40876654  0.46793425 -0.3182168   0.08963907  0.3441497  -0.06843957\n",
            " -0.32343748 -0.4446509  -0.29947844  0.7959573   0.2671174  -0.00777501\n",
            "  0.3098943  -0.04774221 -0.8220238   0.14580737 -0.31507504 -0.21315852\n",
            "  0.26170197 -0.10877574  0.0873782   0.26371333  0.1270618  -0.02363664\n",
            "  0.29361224 -0.36418754 -0.49801275  0.7434613   0.6083885   0.19846718\n",
            " -0.00329717  0.22405408 -0.11772249  0.54908687 -0.45938012 -0.12507844\n",
            "  0.12040131 -0.0661128  -0.11668073  0.3145669  -0.3151543  -0.39863232]\n"
          ]
        }
      ],
      "source": [
        "print(model_150.wv['everybody'])"
      ]
    },
    {
      "cell_type": "markdown",
      "metadata": {
        "id": "GbUUolu7io9I"
      },
      "source": [
        "### Generate 100 sized Word2vec embbedings"
      ]
    },
    {
      "cell_type": "code",
      "execution_count": 20,
      "metadata": {
        "colab": {
          "base_uri": "https://localhost:8080/"
        },
        "id": "2FHWuaXSismY",
        "outputId": "5226d414-ab03-41f0-9e6b-c4b07618dbf4"
      },
      "outputs": [
        {
          "data": {
            "text/plain": [
              "(3685650, 5213860)"
            ]
          },
          "execution_count": 20,
          "metadata": {
            "tags": []
          },
          "output_type": "execute_result"
        }
      ],
      "source": [
        "#TODO: Descomentar esta y comentar la otra, por alguna razon no es vector_size si no size en colab\r\n",
        "model_100 = gensim.models.Word2Vec (documents, vector_size=100, window=10, min_count=2, workers=10, sg=1)\r\n",
        "# model_100 = gensim.models.Word2Vec (documents, size=100, window=10, min_count=2, workers=10, sg=1)\r\n",
        "\r\n",
        "model_100.train(documents,total_examples=len(documents),epochs=10)"
      ]
    },
    {
      "cell_type": "code",
      "execution_count": 21,
      "metadata": {
        "id": "TZ6JU4o-iuf-"
      },
      "outputs": [],
      "source": [
        "model_100.save(\"Friends_100_5.model\")"
      ]
    },
    {
      "cell_type": "code",
      "execution_count": 22,
      "metadata": {
        "colab": {
          "base_uri": "https://localhost:8080/"
        },
        "id": "yc8-RRdIiwR5",
        "outputId": "01869721-a297-484c-dfa6-70e8e1ef51c4"
      },
      "outputs": [
        {
          "name": "stdout",
          "output_type": "stream",
          "text": [
            "[-0.10860322  0.07901331  0.23625615 -0.12618029 -0.8978105  -0.7328843\n",
            " -0.25744963  0.26594552  0.89588976  0.40621948 -0.26659623  0.20628645\n",
            "  0.32897004 -0.17215131 -0.47909477  0.25531554 -0.22895959 -0.33176327\n",
            " -0.30941704  0.3293525   0.26937646  0.22238494 -0.36717606 -0.14252885\n",
            "  0.45741293 -0.03946603 -0.3226859  -0.9503796  -0.05675234  0.13156196\n",
            "  0.03569867  0.41238064  0.2621025  -0.01679     0.34107888 -0.22627789\n",
            " -0.82335335  0.31070098  0.35341668  0.08576475  0.12158707 -0.39452848\n",
            "  0.35031837 -0.08514018 -0.07579467  0.38366568 -0.27193743  0.14963077\n",
            "  0.01485519  0.3617967   0.29921982  0.5060089  -0.43497926  0.08635636\n",
            " -0.25792113  0.2997669   0.12906188 -0.00582396  0.05084908  0.15829572\n",
            "  0.12199694  0.6457511   0.6392592   0.03990049 -0.21378937  0.19137782\n",
            " -0.36666903  0.40251553 -0.26363823 -0.4913858   0.38398662 -0.20648198\n",
            " -0.75312436 -0.3452203   0.41900074  0.03794694 -0.5482297  -0.14119475\n",
            "  0.3435098  -0.01493346 -0.31404975  0.24131742 -0.3492291   0.521064\n",
            "  0.21096733 -0.10137457 -0.27072024  0.09651756  0.14687729  0.7183717\n",
            "  0.02899896  0.1618545   0.47511965  0.61834913 -0.1479518   0.3501948\n",
            " -0.08363883 -0.59721756  0.53293544 -0.6679967 ]\n"
          ]
        }
      ],
      "source": [
        "print(model_100.wv['everybody'])"
      ]
    },
    {
      "cell_type": "markdown",
      "metadata": {
        "id": "XVN6eYcji0sG"
      },
      "source": [
        "### Generate 50 sized Word2vec embbedings"
      ]
    },
    {
      "cell_type": "code",
      "execution_count": 23,
      "metadata": {
        "colab": {
          "base_uri": "https://localhost:8080/"
        },
        "id": "jGTu2Cooi299",
        "outputId": "694b2b05-d87e-4ea9-c9c7-2dbe7e139976"
      },
      "outputs": [
        {
          "data": {
            "text/plain": [
              "(3684704, 5213860)"
            ]
          },
          "execution_count": 23,
          "metadata": {
            "tags": []
          },
          "output_type": "execute_result"
        }
      ],
      "source": [
        "#TODO: Descomentar esta y comentar la otra, por alguna razon no es vector_size si no size en colab\r\n",
        "model_50 = gensim.models.Word2Vec(documents, vector_size=50, window=10, min_count=2, workers=10, sg=1)\r\n",
        "# model_50 = gensim.models.Word2Vec(documents, size=50, window=10, min_count=2, workers=10, sg=1)\r\n",
        "\r\n",
        "model_50.train(documents, total_examples=len(documents),epochs=10)"
      ]
    },
    {
      "cell_type": "code",
      "execution_count": 24,
      "metadata": {
        "id": "bzEwoIi4i5WF"
      },
      "outputs": [],
      "source": [
        "model_50.save(\"Friends_50_5.model\")"
      ]
    },
    {
      "cell_type": "code",
      "execution_count": 25,
      "metadata": {
        "colab": {
          "base_uri": "https://localhost:8080/"
        },
        "id": "E6Pgssrgi7FJ",
        "outputId": "5f9c7c56-515c-4e83-a694-cba6072e969e"
      },
      "outputs": [
        {
          "data": {
            "text/plain": [
              "(46514, 3)"
            ]
          },
          "execution_count": 25,
          "metadata": {
            "tags": []
          },
          "output_type": "execute_result"
        }
      ],
      "source": [
        "df.shape"
      ]
    },
    {
      "cell_type": "markdown",
      "metadata": {
        "id": "SyiILD32vfyb"
      },
      "source": [
        "## Load from disk the generated models"
      ]
    },
    {
      "cell_type": "code",
      "execution_count": 28,
      "metadata": {
        "id": "0uaFd0S0vp36"
      },
      "outputs": [],
      "source": [
        "model50 = gensim.models.Word2Vec.load(\"Friends_50_5.model\")\n",
        "model100 = gensim.models.Word2Vec.load(\"Friends_100_5.model\")\n",
        "model150 = gensim.models.Word2Vec.load(\"Friends_150_5.model\")"
      ]
    },
    {
      "cell_type": "code",
      "execution_count": 36,
      "metadata": {
        "colab": {
          "base_uri": "https://localhost:8080/"
        },
        "id": "AHs2byIMvy9N",
        "outputId": "dbb47390-dd4b-474b-8b1e-55502bec40eb"
      },
      "outputs": [
        {
          "data": {
            "text/plain": [
              "[('ross', 0.8663024306297302),\n",
              " ('joey', 0.8629247546195984),\n",
              " ('monica', 0.8010052442550659),\n",
              " ('wonders', 0.7510892152786255),\n",
              " ('voices', 0.7479643821716309),\n",
              " ('pleased', 0.7438610792160034),\n",
              " ('rachel', 0.7412633895874023),\n",
              " ('trail', 0.7348557114601135),\n",
              " ('clunkers', 0.7320413589477539),\n",
              " ('approval', 0.7276598215103149)]"
            ]
          },
          "execution_count": 36,
          "metadata": {
            "tags": []
          },
          "output_type": "execute_result"
        }
      ],
      "source": [
        "model50.wv.similar_by_word('chandler')"
      ]
    },
    {
      "cell_type": "code",
      "execution_count": 33,
      "metadata": {
        "id": "yW-FjQ-Iv7xF"
      },
      "outputs": [],
      "source": [
        "def display_closestwords_tsnescatterplot(model, word, n):\n",
        "    \n",
        "    arr = np.empty((0,n), dtype='f')\n",
        "    word_labels = [word]\n",
        "\n",
        "    # get close words\n",
        "    close_words = model.wv.similar_by_word(word)\n",
        "    \n",
        "    # add the vector for each of the closest words to the array\n",
        "    arr = np.append(arr, np.array([model.wv[word]]), axis=0)\n",
        "    for wrd_score in close_words:\n",
        "        wrd_vector = model.wv[wrd_score[0]]\n",
        "        word_labels.append(wrd_score[0])\n",
        "        arr = np.append(arr, np.array([wrd_vector]), axis=0)\n",
        "        \n",
        "    # find tsne coords for 2 dimensions\n",
        "    tsne = TSNE(n_components=2, random_state=0)\n",
        "    np.set_printoptions(suppress=True)\n",
        "    Y = tsne.fit_transform(arr)\n",
        "\n",
        "    x_coords = Y[:, 0]\n",
        "    y_coords = Y[:, 1]\n",
        "    # display scatter plot\n",
        "    plt.scatter(x_coords, y_coords)\n",
        "\n",
        "    for label, x, y in zip(word_labels, x_coords, y_coords):\n",
        "        plt.annotate(label, xy=(x, y), xytext=(0, 0), textcoords='offset points')\n",
        "    plt.xlim(x_coords.min()+0.00005, x_coords.max()+0.00005)\n",
        "    plt.ylim(y_coords.min()+0.00005, y_coords.max()+0.00005)\n",
        "    plt.savefig(f'./{word}_{n}.jpg')\n",
        "    plt.show()"
      ]
    },
    {
      "cell_type": "markdown",
      "metadata": {
        "id": "76iRpQ36wC1K"
      },
      "source": [
        "# I. 2D Graphs and analysis\n",
        "***\n",
        "\n",
        "**Vector dimension:** 50"
      ]
    },
    {
      "cell_type": "code",
      "execution_count": 37,
      "metadata": {
        "colab": {
          "base_uri": "https://localhost:8080/",
          "height": 273
        },
        "id": "MoIhsjw8wDtY",
        "outputId": "7116f6b4-934c-40e1-8471-8052adc4b683"
      },
      "outputs": [
        {
          "data": {
            "image/png": "[encoded data removed]",
            "text/plain": [
              "<Figure size 432x288 with 1 Axes>"
            ]
          },
          "metadata": {
            "needs_background": "light",
            "tags": []
          },
          "output_type": "display_data"
        }
      ],
      "source": [
        "display_closestwords_tsnescatterplot(model50, 'chandler', 50)"
      ]
    },
    {
      "cell_type": "code",
      "execution_count": 41,
      "metadata": {
        "colab": {
          "base_uri": "https://localhost:8080/",
          "height": 273
        },
        "id": "Qy_JwJq3wLXn",
        "outputId": "47d904b1-e2e0-47cc-9303-b55dd80f48df"
      },
      "outputs": [
        {
          "data": {
            "image/png": "[encoded data removed]",
            "text/plain": [
              "<Figure size 432x288 with 1 Axes>"
            ]
          },
          "metadata": {
            "needs_background": "light",
            "tags": []
          },
          "output_type": "display_data"
        }
      ],
      "source": [
        "display_closestwords_tsnescatterplot(model50, 'rachel', 50)"
      ]
    },
    {
      "cell_type": "markdown",
      "metadata": {
        "id": "NomDRSBAwReH"
      },
      "source": [
        "**Vector dimension:** 100"
      ]
    },
    {
      "cell_type": "code",
      "execution_count": 42,
      "metadata": {
        "colab": {
          "base_uri": "https://localhost:8080/",
          "height": 273
        },
        "id": "RAFkM8IjwN3b",
        "outputId": "d3988ed5-f8f4-4d6b-ec39-314a02262275"
      },
      "outputs": [
        {
          "data": {
            "image/png": "[encoded data removed]",
            "text/plain": [
              "<Figure size 432x288 with 1 Axes>"
            ]
          },
          "metadata": {
            "needs_background": "light",
            "tags": []
          },
          "output_type": "display_data"
        }
      ],
      "source": [
        "display_closestwords_tsnescatterplot(model100, 'chandler', 100)"
      ]
    },
    {
      "cell_type": "code",
      "execution_count": 43,
      "metadata": {
        "colab": {
          "base_uri": "https://localhost:8080/",
          "height": 273
        },
        "id": "zp-EbDTqwQ22",
        "outputId": "05dee6a7-221f-4ee7-ef92-61a3c4439e25"
      },
      "outputs": [
        {
          "data": {
            "image/png": "[encoded data removed]",
            "text/plain": [
              "<Figure size 432x288 with 1 Axes>"
            ]
          },
          "metadata": {
            "needs_background": "light",
            "tags": []
          },
          "output_type": "display_data"
        }
      ],
      "source": [
        "display_closestwords_tsnescatterplot(model100, 'rachel', 100)"
      ]
    },
    {
      "cell_type": "markdown",
      "metadata": {
        "id": "UIlae8-twWPZ"
      },
      "source": [
        "**Vector size:** 150"
      ]
    },
    {
      "cell_type": "code",
      "execution_count": 44,
      "metadata": {
        "colab": {
          "base_uri": "https://localhost:8080/",
          "height": 273
        },
        "id": "O8SeTQZ6wYTu",
        "outputId": "41ea2ba9-6789-4678-8064-ac4def3da98c"
      },
      "outputs": [
        {
          "data": {
            "image/png": "[encoded data removed]",
            "text/plain": [
              "<Figure size 432x288 with 1 Axes>"
            ]
          },
          "metadata": {
            "needs_background": "light",
            "tags": []
          },
          "output_type": "display_data"
        }
      ],
      "source": [
        "display_closestwords_tsnescatterplot(model150, 'chandler', 150)"
      ]
    },
    {
      "cell_type": "code",
      "execution_count": 45,
      "metadata": {
        "colab": {
          "base_uri": "https://localhost:8080/",
          "height": 273
        },
        "id": "JfDxrAyGwZxx",
        "outputId": "a4bfd9a5-7d5d-4f8a-afb1-74003428f4ef"
      },
      "outputs": [
        {
          "data": {
            "image/png": "[encoded data removed]",
            "text/plain": [
              "<Figure size 432x288 with 1 Axes>"
            ]
          },
          "metadata": {
            "needs_background": "light",
            "tags": []
          },
          "output_type": "display_data"
        }
      ],
      "source": [
        "display_closestwords_tsnescatterplot(model150, 'rachel', 150)"
      ]
    },
    {
      "cell_type": "markdown",
      "metadata": {
        "id": "ZY4qdhZ4wrgY"
      },
      "source": [
        "# III. Redes neuronales"
      ]
    },
    {
      "cell_type": "markdown",
      "metadata": {
        "id": "GXSfDZZVw6h4"
      },
      "source": [
        "## Preparacion de los datos"
      ]
    },
    {
      "cell_type": "code",
      "execution_count": 78,
      "metadata": {
        "id": "6BQxhd7swsWu"
      },
      "outputs": [],
      "source": [
        "'''\n",
        "Aquí se filtra el dataset para que solo queden los dialogos relevantes, los de ls personajes principales.\n",
        "'''\n",
        "# Dataset from - https://archive.ics.uci.edu/ml/datasets/SMS+Spam+Collection\n",
        "df = pd.read_csv(ruta_dataset).dropna() \n",
        "\n",
        "# Esto sirve para saber cuantas categorías hay, abajo se usa. Por favor no borrar.\n",
        "target_friends = ['Chandler', 'Joey', 'Monica', 'Phoebe', 'Rachel', 'Ross']"
      ]
    },
    {
      "cell_type": "code",
      "execution_count": 53,
      "metadata": {
        "colab": {
          "base_uri": "https://localhost:8080/"
        },
        "id": "gQIYb32tx9HN",
        "outputId": "3619ca98-c3ce-40dd-d6c9-c8b851302c1d"
      },
      "outputs": [
        {
          "name": "stdout",
          "output_type": "stream",
          "text": [
            "[array(['Chandler', 'Joey', 'Monica', 'Phoebe', 'Rachel', 'Ross'],\n",
            "      dtype=object)]\n"
          ]
        }
      ],
      "source": [
        "'''\n",
        "Se realiza un Encoding de los nombres de los personajes principales. \n",
        "La idea es que cada categoría de personaje este codificada por un vector\n",
        "1x6 binario. \n",
        "'''\n",
        "enc = OneHotEncoder(handle_unknown='ignore')\n",
        "enc.fit(df[['raw_character_text']])\n",
        "print(enc.categories_)"
      ]
    },
    {
      "cell_type": "code",
      "execution_count": 54,
      "metadata": {
        "id": "wzhDElcxx_P5"
      },
      "outputs": [],
      "source": [
        "'''\n",
        "Se dividen los datos en 60 training, 20 validación y 20 testing\n",
        "'''\n",
        "# df_yelp = df[df['source'] == 'yelp']\n",
        "sentences = df['spoken_words'].values\n",
        "\n",
        "y = enc.transform(df[['raw_character_text']]).toarray()\n",
        "sentences_train_val, sentences_test, y_train_val, y_test = train_test_split(sentences, y, test_size=0.20, random_state=1000)\n",
        "sentences_train, sentences_val, y_train, y_val = train_test_split(sentences_train_val, y_train_val, test_size=0.25, random_state=1000)\n",
        "\n",
        "# Once we have our handles, we format the datasets in a Keras-fit compatible\n",
        "# format: a tuple of the form (text_data, label).\n",
        "train_dataset = tf.data.Dataset.from_tensor_slices((sentences_train, y_train))\n",
        "test_dataset = tf.data.Dataset.from_tensor_slices((sentences_test, y_test))\n",
        "\n",
        "# We also create a dataset with only the textual data in it. This will be used\n",
        "# to build our vocabulary later on.\n",
        "text_dataset = tf.data.Dataset.from_tensor_slices((sentences_train))"
      ]
    },
    {
      "cell_type": "code",
      "execution_count": 55,
      "metadata": {
        "id": "CSSG4lPlyCNZ"
      },
      "outputs": [],
      "source": [
        "vectorize_layer = TextVectorization(\n",
        "    ngrams=None, max_tokens=None, vocabulary=None,\n",
        "    output_mode='binary', output_sequence_length=None, pad_to_max_tokens=True, \n",
        ")"
      ]
    },
    {
      "cell_type": "code",
      "execution_count": 56,
      "metadata": {
        "colab": {
          "base_uri": "https://localhost:8080/"
        },
        "id": "c8EXsha5yEYm",
        "outputId": "f864f95a-b80d-4273-df7b-0374b9866d0f"
      },
      "outputs": [
        {
          "data": {
            "text/plain": [
              "14020"
            ]
          },
          "execution_count": 56,
          "metadata": {
            "tags": []
          },
          "output_type": "execute_result"
        }
      ],
      "source": [
        "vectorize_layer.adapt(text_dataset.batch(32))\n",
        "len(vectorize_layer.get_vocabulary())"
      ]
    },
    {
      "cell_type": "markdown",
      "metadata": {
        "id": "b6s1FhUHyG8G"
      },
      "source": [
        "## Prueba 1"
      ]
    },
    {
      "cell_type": "code",
      "execution_count": 57,
      "metadata": {
        "id": "85ftjGwvyH7H"
      },
      "outputs": [],
      "source": [
        "##LAYERS\n",
        "\n",
        "# Start by creating an explicit input layer. It needs to have a shape of  \n",
        "# (1,) (because we need to guarantee that there is exactly one doc\n",
        "text_input = tf.keras.Input(shape=(1,), dtype=tf.string, name='text') \n",
        "\n",
        "# The first layer in our model is the vectorization layer. After this layer,\n",
        "# we have a tensor of shape (batch_size, max_len) containing vocab indices.\n",
        "\n",
        "x = vectorize_layer(text_input) \n",
        "primera_capa = layers.Dense(10, activation='relu')(x)\n",
        "\n",
        "# We project onto a single unit output layer, and squash it with a sigmoid:\n",
        "predictions = layers.Dense( len(target_friends), activation='softmax', name='predictions')(primera_capa) \n",
        "model = tf.keras.Model(text_input, predictions)\n",
        "\n",
        "# Compile the model with binary crossentropy loss and an adam optimizer.\n",
        "# https://keras.io/api/losses/\n",
        "# https://keras.io/api/optimizers/\n",
        "# Ojo con las metricas ya que el entrenamiento es en batches\n",
        "# https://keras.io/api/models/model_training_apis/\n",
        "model.compile(loss='binary_crossentropy', optimizer='adam', metrics=['accuracy']) "
      ]
    },
    {
      "cell_type": "code",
      "execution_count": 58,
      "metadata": {
        "colab": {
          "base_uri": "https://localhost:8080/"
        },
        "id": "IQ8s963CyW2y",
        "outputId": "debbe5ef-315a-4ca7-838a-cd8263f9b293"
      },
      "outputs": [
        {
          "data": {
            "text/plain": [
              "14020"
            ]
          },
          "execution_count": 58,
          "metadata": {
            "tags": []
          },
          "output_type": "execute_result"
        }
      ],
      "source": [
        "# list(enc.get_feature_names())\n",
        "len(vectorize_layer.get_vocabulary())"
      ]
    },
    {
      "cell_type": "code",
      "execution_count": 59,
      "metadata": {
        "colab": {
          "base_uri": "https://localhost:8080/"
        },
        "id": "cxnGBiWHyaBb",
        "outputId": "f5b7449e-b5f7-41df-c7ef-1ce17e8f3cd5"
      },
      "outputs": [
        {
          "name": "stdout",
          "output_type": "stream",
          "text": [
            "Epoch 1/20\n",
            "873/873 [==============================] - 5s 5ms/step - loss: 0.5414 - accuracy: 0.1861 - val_loss: 0.4452 - val_accuracy: 0.2380\n",
            "Epoch 2/20\n",
            "873/873 [==============================] - 4s 5ms/step - loss: 0.4376 - accuracy: 0.2700 - val_loss: 0.4350 - val_accuracy: 0.2795\n",
            "Epoch 3/20\n",
            "873/873 [==============================] - 5s 5ms/step - loss: 0.4145 - accuracy: 0.3578 - val_loss: 0.4306 - val_accuracy: 0.2942\n",
            "Epoch 4/20\n",
            "873/873 [==============================] - 5s 5ms/step - loss: 0.3884 - accuracy: 0.4361 - val_loss: 0.4320 - val_accuracy: 0.2941\n",
            "Epoch 5/20\n",
            "873/873 [==============================] - 4s 5ms/step - loss: 0.3646 - accuracy: 0.4823 - val_loss: 0.4373 - val_accuracy: 0.2967\n",
            "Epoch 6/20\n",
            "873/873 [==============================] - 4s 5ms/step - loss: 0.3443 - accuracy: 0.5205 - val_loss: 0.4452 - val_accuracy: 0.2946\n",
            "Epoch 7/20\n",
            "873/873 [==============================] - 4s 5ms/step - loss: 0.3273 - accuracy: 0.5487 - val_loss: 0.4548 - val_accuracy: 0.2939\n",
            "Epoch 8/20\n",
            "873/873 [==============================] - 5s 6ms/step - loss: 0.3130 - accuracy: 0.5704 - val_loss: 0.4656 - val_accuracy: 0.2913\n",
            "Epoch 9/20\n",
            "873/873 [==============================] - 5s 5ms/step - loss: 0.3010 - accuracy: 0.5855 - val_loss: 0.4771 - val_accuracy: 0.2927\n",
            "Epoch 10/20\n",
            "873/873 [==============================] - 4s 5ms/step - loss: 0.2910 - accuracy: 0.5980 - val_loss: 0.4889 - val_accuracy: 0.2912\n",
            "Epoch 11/20\n",
            "873/873 [==============================] - 5s 5ms/step - loss: 0.2825 - accuracy: 0.6062 - val_loss: 0.5011 - val_accuracy: 0.2898\n",
            "Epoch 12/20\n",
            "873/873 [==============================] - 4s 5ms/step - loss: 0.2751 - accuracy: 0.6136 - val_loss: 0.5132 - val_accuracy: 0.2885\n",
            "Epoch 13/20\n",
            "873/873 [==============================] - 5s 5ms/step - loss: 0.2688 - accuracy: 0.6208 - val_loss: 0.5254 - val_accuracy: 0.2870\n",
            "Epoch 14/20\n",
            "873/873 [==============================] - 5s 5ms/step - loss: 0.2633 - accuracy: 0.6277 - val_loss: 0.5376 - val_accuracy: 0.2847\n",
            "Epoch 15/20\n",
            "873/873 [==============================] - 5s 5ms/step - loss: 0.2585 - accuracy: 0.6321 - val_loss: 0.5500 - val_accuracy: 0.2838\n",
            "Epoch 16/20\n",
            "873/873 [==============================] - 4s 5ms/step - loss: 0.2542 - accuracy: 0.6357 - val_loss: 0.5624 - val_accuracy: 0.2842\n",
            "Epoch 17/20\n",
            "873/873 [==============================] - 5s 5ms/step - loss: 0.2504 - accuracy: 0.6400 - val_loss: 0.5749 - val_accuracy: 0.2843\n",
            "Epoch 18/20\n",
            "873/873 [==============================] - 5s 5ms/step - loss: 0.2469 - accuracy: 0.6443 - val_loss: 0.5870 - val_accuracy: 0.2814\n",
            "Epoch 19/20\n",
            "873/873 [==============================] - 4s 5ms/step - loss: 0.2437 - accuracy: 0.6490 - val_loss: 0.5994 - val_accuracy: 0.2797\n",
            "Epoch 20/20\n",
            "873/873 [==============================] - 5s 6ms/step - loss: 0.2409 - accuracy: 0.6531 - val_loss: 0.6119 - val_accuracy: 0.2782\n"
          ]
        },
        {
          "data": {
            "text/plain": [
              "<tensorflow.python.keras.callbacks.History at 0x7f2f3c209ad0>"
            ]
          },
          "execution_count": 59,
          "metadata": {
            "tags": []
          },
          "output_type": "execute_result"
        }
      ],
      "source": [
        "batch_size = 32\n",
        "epochs = 20\n",
        "\n",
        "# Fit the model using the train and test datasets.\n",
        "model.fit(\n",
        "    train_dataset.batch(batch_size),\n",
        "    validation_data=test_dataset.batch(batch_size), \n",
        "    epochs=epochs)"
      ]
    },
    {
      "cell_type": "code",
      "execution_count": 60,
      "metadata": {
        "colab": {
          "base_uri": "https://localhost:8080/"
        },
        "id": "gh1JpAxJydVS",
        "outputId": "e8574473-ddab-4fd1-f203-3bd958194621"
      },
      "outputs": [
        {
          "name": "stdout",
          "output_type": "stream",
          "text": [
            "Model: \"model\"\n",
            "_________________________________________________________________\n",
            "Layer (type)                 Output Shape              Param #   \n",
            "=================================================================\n",
            "text (InputLayer)            [(None, 1)]               0         \n",
            "_________________________________________________________________\n",
            "text_vectorization (TextVect (None, 14020)             0         \n",
            "_________________________________________________________________\n",
            "dense (Dense)                (None, 10)                140210    \n",
            "_________________________________________________________________\n",
            "predictions (Dense)          (None, 6)                 66        \n",
            "=================================================================\n",
            "Total params: 140,276\n",
            "Trainable params: 140,276\n",
            "Non-trainable params: 0\n",
            "_________________________________________________________________\n"
          ]
        }
      ],
      "source": [
        "model.summary()"
      ]
    },
    {
      "cell_type": "markdown",
      "metadata": {
        "id": "fcTv-0elyhFo"
      },
      "source": [
        "# 3. Multinomial classification using Embbedings"
      ]
    },
    {
      "cell_type": "code",
      "execution_count": 79,
      "metadata": {
        "id": "5XeBuyJnyiKf"
      },
      "outputs": [],
      "source": [
        "# Load pretrained models\n",
        "model_50 = gensim.models.Word2Vec.load(\"Friends_50_5.model\")\n",
        "model_100 = gensim.models.Word2Vec.load(\"Friends_100_5.model\")\n",
        "model_150 = gensim.models.Word2Vec.load(\"Friends_150_5.model\")"
      ]
    },
    {
      "cell_type": "code",
      "execution_count": 80,
      "metadata": {
        "id": "VxdLzbn4ypdn"
      },
      "outputs": [],
      "source": [
        "# pretrained.wv.index_to_key\n",
        "\n",
        "def get_weight_matrix(embedding, vocab):\n",
        "    # total vocabulary size plus 0 for unknown words\n",
        "    vocab_size = len(vocab) \n",
        "    embedding_dim = len(embedding['chandler'])\n",
        "    hits = 0\n",
        "    misses = 0\n",
        "    # define weight matrix dimensions with all 0\n",
        "    weight_matrix = np.zeros((vocab_size, embedding_dim))\n",
        "    # step vocab, store vectors using the Tokenizer's integer mapping\n",
        "    for i in range(len(vocab)):\n",
        "        try:\n",
        "            weight_matrix[i] = embedding[vocab[i]]\n",
        "            hits += 1\n",
        "        except:\n",
        "            misses += 1\n",
        "    print(\"Converted %d words (%d misses)\" % (hits, misses))\n",
        "    return weight_matrix"
      ]
    },
    {
      "cell_type": "code",
      "execution_count": 81,
      "metadata": {
        "id": "Sw8E04i7yst3"
      },
      "outputs": [],
      "source": [
        "\n",
        "x_train = vectorize_layer(np.array([[s] for s in sentences_train])).numpy()\n",
        "x_val = vectorize_layer(np.array([[s] for s in sentences_val])).numpy()\n",
        "\n",
        "y_train = np.array(y_train)\n",
        "y_val = np.array(y_val)"
      ]
    },
    {
      "cell_type": "code",
      "execution_count": 82,
      "metadata": {
        "colab": {
          "base_uri": "https://localhost:8080/"
        },
        "id": "o-VPRcTNyuIY",
        "outputId": "7c3fabce-58cd-4115-a40b-eb6a62d27e8f"
      },
      "outputs": [
        {
          "name": "stdout",
          "output_type": "stream",
          "text": [
            "(27908, 14020)\n",
            "(9303, 14020)\n",
            "(27908, 6)\n",
            "(9303, 6)\n"
          ]
        }
      ],
      "source": [
        "print(x_train.shape)\n",
        "print(x_val.shape)\n",
        "# print(x_test.shape)\n",
        "print(y_train.shape)\n",
        "print(y_val.shape)\n",
        "# print(y_test.shape)"
      ]
    },
    {
      "cell_type": "code",
      "execution_count": 83,
      "metadata": {
        "id": "2YBVv-rayvlv"
      },
      "outputs": [],
      "source": [
        "def generatePreEmbbedingModel(model, embedding_dim, vectorize_layer, architecture_id = 1):\n",
        "    batch_size = 32\n",
        "    epochs = 10\n",
        "    weights = get_weight_matrix(model.wv, vectorize_layer.get_vocabulary())\n",
        "    num_tokens = len(vectorize_layer.get_vocabulary()) \n",
        "    embedding_layer = layers.Embedding(\n",
        "        num_tokens,\n",
        "        embedding_dim,\n",
        "        embeddings_initializer=tf.keras.initializers.Constant(weights),\n",
        "        trainable=False,\n",
        "    )\n",
        "\n",
        "    int_sequences_input = tf.keras.Input(shape=(None,), dtype='int64')\n",
        "    embedded_sequences = embedding_layer(int_sequences_input)\n",
        "    x = layers.GlobalAveragePooling1D()(embedded_sequences)\n",
        "\n",
        "    if architecture_id == 1:\n",
        "        x = layers.Dense(10, activation='relu')(x)\n",
        "    elif architecture_id == 2:\n",
        "        x = layers.SimpleRNN(5)(x)\n",
        "        x = layers.Dropout(0.3)(x)\n",
        "        x = layers.Dense(10, activation='relu')(x)\n",
        "    elif architecture_id == 3:\n",
        "        x = layers.Dense(80, activation='relu')(x)\n",
        "        x = layers.Dropout(0.3)(x)\n",
        "        x = layers.BatchNormalization()(x)\n",
        "        x = layers.Dense(250, activation='relu')(x)\n",
        "        x = layers.Dropout(0.5)(x)\n",
        "\n",
        "    preds = layers.Dense(len(target_friends), activation='softmax')(x)\n",
        "    modelRN = tf.keras.Model(int_sequences_input, preds)\n",
        "\n",
        "    return modelRN"
      ]
    },
    {
      "cell_type": "code",
      "execution_count": 84,
      "metadata": {
        "id": "jtRkU6ZiyxLl"
      },
      "outputs": [],
      "source": [
        "#Parameters\n",
        "batch_size = 32\n",
        "epochs = 10"
      ]
    },
    {
      "cell_type": "markdown",
      "metadata": {
        "id": "v50NSqKgzKdU"
      },
      "source": [
        "## Primera Arquitectura"
      ]
    },
    {
      "cell_type": "code",
      "execution_count": 85,
      "metadata": {
        "colab": {
          "base_uri": "https://localhost:8080/"
        },
        "id": "E4KkFsqryzm7",
        "outputId": "71023ebe-4a49-4a77-acec-d71e9250e817"
      },
      "outputs": [
        {
          "name": "stdout",
          "output_type": "stream",
          "text": [
            "Converted 7452 words (6568 misses)\n",
            "Converted 7452 words (6568 misses)\n",
            "Converted 7452 words (6568 misses)\n"
          ]
        }
      ],
      "source": [
        "red_50_1 = generatePreEmbbedingModel(model_50, 50, vectorize_layer)\n",
        "red_100_1 = generatePreEmbbedingModel(model_100, 100, vectorize_layer)\n",
        "red_150_1 = generatePreEmbbedingModel(model_150, 150, vectorize_layer)"
      ]
    },
    {
      "cell_type": "code",
      "execution_count": 86,
      "metadata": {
        "colab": {
          "base_uri": "https://localhost:8080/"
        },
        "id": "A8wkcMody17d",
        "outputId": "464dd06b-3d7c-4af8-b97f-845c47614cde"
      },
      "outputs": [
        {
          "name": "stdout",
          "output_type": "stream",
          "text": [
            "Model: \"model_1\"\n",
            "_________________________________________________________________\n",
            "Layer (type)                 Output Shape              Param #   \n",
            "=================================================================\n",
            "input_2 (InputLayer)         [(None, None)]            0         \n",
            "_________________________________________________________________\n",
            "embedding_1 (Embedding)      (None, None, 50)          701000    \n",
            "_________________________________________________________________\n",
            "global_average_pooling1d_1 ( (None, 50)                0         \n",
            "_________________________________________________________________\n",
            "dense_2 (Dense)              (None, 10)                510       \n",
            "_________________________________________________________________\n",
            "dense_3 (Dense)              (None, 6)                 66        \n",
            "=================================================================\n",
            "Total params: 701,576\n",
            "Trainable params: 576\n",
            "Non-trainable params: 701,000\n",
            "_________________________________________________________________\n"
          ]
        }
      ],
      "source": [
        "red_50_1.summary()"
      ]
    },
    {
      "cell_type": "code",
      "execution_count": 87,
      "metadata": {
        "colab": {
          "base_uri": "https://localhost:8080/"
        },
        "id": "_3joh6sNy4Fr",
        "outputId": "ffd2f5ed-2df8-49fe-fecb-60782eba2c31"
      },
      "outputs": [
        {
          "name": "stdout",
          "output_type": "stream",
          "text": [
            "Model: \"model_2\"\n",
            "_________________________________________________________________\n",
            "Layer (type)                 Output Shape              Param #   \n",
            "=================================================================\n",
            "input_3 (InputLayer)         [(None, None)]            0         \n",
            "_________________________________________________________________\n",
            "embedding_2 (Embedding)      (None, None, 100)         1402000   \n",
            "_________________________________________________________________\n",
            "global_average_pooling1d_2 ( (None, 100)               0         \n",
            "_________________________________________________________________\n",
            "dense_4 (Dense)              (None, 10)                1010      \n",
            "_________________________________________________________________\n",
            "dense_5 (Dense)              (None, 6)                 66        \n",
            "=================================================================\n",
            "Total params: 1,403,076\n",
            "Trainable params: 1,076\n",
            "Non-trainable params: 1,402,000\n",
            "_________________________________________________________________\n"
          ]
        }
      ],
      "source": [
        "red_100_1.summary()"
      ]
    },
    {
      "cell_type": "code",
      "execution_count": 88,
      "metadata": {
        "colab": {
          "base_uri": "https://localhost:8080/"
        },
        "id": "crB3st4Jy5-G",
        "outputId": "e62a618d-fd54-49e4-87d2-ae225a834828"
      },
      "outputs": [
        {
          "name": "stdout",
          "output_type": "stream",
          "text": [
            "Model: \"model_3\"\n",
            "_________________________________________________________________\n",
            "Layer (type)                 Output Shape              Param #   \n",
            "=================================================================\n",
            "input_4 (InputLayer)         [(None, None)]            0         \n",
            "_________________________________________________________________\n",
            "embedding_3 (Embedding)      (None, None, 150)         2103000   \n",
            "_________________________________________________________________\n",
            "global_average_pooling1d_3 ( (None, 150)               0         \n",
            "_________________________________________________________________\n",
            "dense_6 (Dense)              (None, 10)                1510      \n",
            "_________________________________________________________________\n",
            "dense_7 (Dense)              (None, 6)                 66        \n",
            "=================================================================\n",
            "Total params: 2,104,576\n",
            "Trainable params: 1,576\n",
            "Non-trainable params: 2,103,000\n",
            "_________________________________________________________________\n"
          ]
        }
      ],
      "source": [
        "red_150_1.summary()"
      ]
    },
    {
      "cell_type": "code",
      "execution_count": 89,
      "metadata": {
        "id": "J1m19T53y7-6"
      },
      "outputs": [],
      "source": [
        "red_50_1.compile(loss='categorical_crossentropy',  optimizer='adam', metrics=['accuracy'])\n",
        "red_100_1.compile(loss='categorical_crossentropy',  optimizer='adam', metrics=['accuracy'])\n",
        "red_150_1.compile(loss='categorical_crossentropy',  optimizer='adam', metrics=['accuracy'])"
      ]
    },
    {
      "cell_type": "code",
      "execution_count": 90,
      "metadata": {
        "colab": {
          "base_uri": "https://localhost:8080/"
        },
        "id": "Nj02DMU0y9XA",
        "outputId": "961a9823-e437-49ec-9f98-95327093ecc9"
      },
      "outputs": [
        {
          "name": "stdout",
          "output_type": "stream",
          "text": [
            "Epoch 1/10\n",
            "873/873 [==============================] - 62s 70ms/step - loss: 1.7903 - accuracy: 0.1761 - val_loss: 1.7897 - val_accuracy: 0.1845\n",
            "Epoch 2/10\n",
            "873/873 [==============================] - 63s 72ms/step - loss: 1.7885 - accuracy: 0.1847 - val_loss: 1.7898 - val_accuracy: 0.1845\n",
            "Epoch 3/10\n",
            "873/873 [==============================] - 59s 67ms/step - loss: 1.7890 - accuracy: 0.1850 - val_loss: 1.7899 - val_accuracy: 0.1845\n",
            "Epoch 4/10\n",
            "873/873 [==============================] - 59s 68ms/step - loss: 1.7891 - accuracy: 0.1829 - val_loss: 1.7898 - val_accuracy: 0.1845\n",
            "Epoch 5/10\n",
            "873/873 [==============================] - 62s 71ms/step - loss: 1.7894 - accuracy: 0.1774 - val_loss: 1.7898 - val_accuracy: 0.1845\n",
            "Epoch 6/10\n",
            "873/873 [==============================] - 64s 73ms/step - loss: 1.7887 - accuracy: 0.1821 - val_loss: 1.7898 - val_accuracy: 0.1845\n",
            "Epoch 7/10\n",
            "873/873 [==============================] - 61s 70ms/step - loss: 1.7895 - accuracy: 0.1764 - val_loss: 1.7898 - val_accuracy: 0.1845\n",
            "Epoch 8/10\n",
            "873/873 [==============================] - 60s 69ms/step - loss: 1.7893 - accuracy: 0.1819 - val_loss: 1.7900 - val_accuracy: 0.1845\n",
            "Epoch 9/10\n",
            "873/873 [==============================] - 60s 68ms/step - loss: 1.7893 - accuracy: 0.1766 - val_loss: 1.7898 - val_accuracy: 0.1845\n",
            "Epoch 10/10\n",
            "873/873 [==============================] - 57s 65ms/step - loss: 1.7893 - accuracy: 0.1814 - val_loss: 1.7900 - val_accuracy: 0.1740\n"
          ]
        },
        {
          "data": {
            "text/plain": [
              "<tensorflow.python.keras.callbacks.History at 0x7f2f34600350>"
            ]
          },
          "execution_count": 90,
          "metadata": {
            "tags": []
          },
          "output_type": "execute_result"
        }
      ],
      "source": [
        "red_50_1.fit(x_train, y_train, batch_size=batch_size, epochs=epochs, validation_data=(x_val, y_val))"
      ]
    },
    {
      "cell_type": "code",
      "execution_count": 91,
      "metadata": {
        "colab": {
          "base_uri": "https://localhost:8080/"
        },
        "id": "hazuQd1Fy-3t",
        "outputId": "47a3f146-5c67-4db8-dd62-ddd479f86e23"
      },
      "outputs": [
        {
          "name": "stdout",
          "output_type": "stream",
          "text": [
            "Epoch 1/10\n",
            "873/873 [==============================] - 96s 109ms/step - loss: 1.7905 - accuracy: 0.1730 - val_loss: 1.7898 - val_accuracy: 0.1845\n",
            "Epoch 2/10\n",
            "873/873 [==============================] - 94s 108ms/step - loss: 1.7898 - accuracy: 0.1759 - val_loss: 1.7899 - val_accuracy: 0.1845\n",
            "Epoch 3/10\n",
            "873/873 [==============================] - 92s 106ms/step - loss: 1.7887 - accuracy: 0.1851 - val_loss: 1.7899 - val_accuracy: 0.1845\n",
            "Epoch 4/10\n",
            "873/873 [==============================] - 97s 111ms/step - loss: 1.7895 - accuracy: 0.1797 - val_loss: 1.7899 - val_accuracy: 0.1845\n",
            "Epoch 5/10\n",
            "873/873 [==============================] - 94s 108ms/step - loss: 1.7891 - accuracy: 0.1817 - val_loss: 1.7899 - val_accuracy: 0.1845\n",
            "Epoch 6/10\n",
            "873/873 [==============================] - 97s 111ms/step - loss: 1.7900 - accuracy: 0.1777 - val_loss: 1.7899 - val_accuracy: 0.1845\n",
            "Epoch 7/10\n",
            "873/873 [==============================] - 99s 113ms/step - loss: 1.7891 - accuracy: 0.1806 - val_loss: 1.7899 - val_accuracy: 0.1845\n",
            "Epoch 8/10\n",
            "873/873 [==============================] - 94s 108ms/step - loss: 1.7896 - accuracy: 0.1808 - val_loss: 1.7900 - val_accuracy: 0.1740\n",
            "Epoch 9/10\n",
            "873/873 [==============================] - 95s 108ms/step - loss: 1.7887 - accuracy: 0.1781 - val_loss: 1.7898 - val_accuracy: 0.1845\n",
            "Epoch 10/10\n",
            "873/873 [==============================] - 96s 110ms/step - loss: 1.7898 - accuracy: 0.1776 - val_loss: 1.7900 - val_accuracy: 0.1845\n"
          ]
        },
        {
          "data": {
            "text/plain": [
              "<tensorflow.python.keras.callbacks.History at 0x7f2f34d8bad0>"
            ]
          },
          "execution_count": 91,
          "metadata": {
            "tags": []
          },
          "output_type": "execute_result"
        }
      ],
      "source": [
        "red_100_1.fit(x_train, y_train, batch_size=batch_size, epochs=epochs, validation_data=(x_val, y_val))"
      ]
    },
    {
      "cell_type": "code",
      "execution_count": 92,
      "metadata": {
        "colab": {
          "base_uri": "https://localhost:8080/"
        },
        "id": "wFYXYUGezAe_",
        "outputId": "12a2a54d-9aee-41c2-c31a-70d5650f817f"
      },
      "outputs": [
        {
          "name": "stdout",
          "output_type": "stream",
          "text": [
            "Epoch 1/10\n",
            "873/873 [==============================] - 157s 179ms/step - loss: 1.7905 - accuracy: 0.1796 - val_loss: 1.7899 - val_accuracy: 0.1740\n",
            "Epoch 2/10\n",
            "873/873 [==============================] - 159s 182ms/step - loss: 1.7895 - accuracy: 0.1761 - val_loss: 1.7898 - val_accuracy: 0.1845\n",
            "Epoch 3/10\n",
            "873/873 [==============================] - 156s 178ms/step - loss: 1.7896 - accuracy: 0.1809 - val_loss: 1.7899 - val_accuracy: 0.1845\n",
            "Epoch 4/10\n",
            "873/873 [==============================] - 153s 176ms/step - loss: 1.7886 - accuracy: 0.1807 - val_loss: 1.7899 - val_accuracy: 0.1845\n",
            "Epoch 5/10\n",
            "873/873 [==============================] - 153s 176ms/step - loss: 1.7894 - accuracy: 0.1799 - val_loss: 1.7899 - val_accuracy: 0.1845\n",
            "Epoch 6/10\n",
            "873/873 [==============================] - 153s 175ms/step - loss: 1.7889 - accuracy: 0.1826 - val_loss: 1.7899 - val_accuracy: 0.1845\n",
            "Epoch 7/10\n",
            "873/873 [==============================] - 153s 175ms/step - loss: 1.7890 - accuracy: 0.1783 - val_loss: 1.7899 - val_accuracy: 0.1845\n",
            "Epoch 8/10\n",
            "873/873 [==============================] - 152s 174ms/step - loss: 1.7887 - accuracy: 0.1799 - val_loss: 1.7898 - val_accuracy: 0.1845\n",
            "Epoch 9/10\n",
            "873/873 [==============================] - 153s 175ms/step - loss: 1.7889 - accuracy: 0.1822 - val_loss: 1.7898 - val_accuracy: 0.1845\n",
            "Epoch 10/10\n",
            "873/873 [==============================] - 151s 173ms/step - loss: 1.7892 - accuracy: 0.1832 - val_loss: 1.7899 - val_accuracy: 0.1845\n"
          ]
        },
        {
          "data": {
            "text/plain": [
              "<tensorflow.python.keras.callbacks.History at 0x7f2f342ac810>"
            ]
          },
          "execution_count": 92,
          "metadata": {
            "tags": []
          },
          "output_type": "execute_result"
        }
      ],
      "source": [
        "red_150_1.fit(x_train, y_train, batch_size=batch_size, epochs=epochs, validation_data=(x_val, y_val))"
      ]
    },
    {
      "cell_type": "code",
      "execution_count": 93,
      "metadata": {
        "id": "XhTrenf8z3-Y"
      },
      "outputs": [],
      "source": [
        "red_50_1.compile(loss='categorical_crossentropy',  optimizer='adam', metrics=['accuracy'])\n",
        "red_100_1.compile(loss='categorical_crossentropy',  optimizer='adam', metrics=['accuracy'])\n",
        "red_150_1.compile(loss='categorical_crossentropy',  optimizer='adam', metrics=['accuracy'])"
      ]
    },
    {
      "cell_type": "code",
      "execution_count": 94,
      "metadata": {
        "colab": {
          "base_uri": "https://localhost:8080/"
        },
        "id": "2tax2aQEz7Gr",
        "outputId": "29a43e09-9b31-4bad-ef04-e93ee0bd02f7"
      },
      "outputs": [
        {
          "name": "stdout",
          "output_type": "stream",
          "text": [
            "Epoch 1/10\n",
            "873/873 [==============================] - 66s 75ms/step - loss: 1.7893 - accuracy: 0.1809 - val_loss: 1.7898 - val_accuracy: 0.1845\n",
            "Epoch 2/10\n",
            "873/873 [==============================] - 67s 77ms/step - loss: 1.7894 - accuracy: 0.1842 - val_loss: 1.7899 - val_accuracy: 0.1845\n",
            "Epoch 3/10\n",
            "873/873 [==============================] - 64s 73ms/step - loss: 1.7895 - accuracy: 0.1830 - val_loss: 1.7900 - val_accuracy: 0.1740\n",
            "Epoch 4/10\n",
            "873/873 [==============================] - 60s 68ms/step - loss: 1.7891 - accuracy: 0.1802 - val_loss: 1.7899 - val_accuracy: 0.1845\n",
            "Epoch 5/10\n",
            "873/873 [==============================] - 58s 66ms/step - loss: 1.7891 - accuracy: 0.1777 - val_loss: 1.7899 - val_accuracy: 0.1845\n",
            "Epoch 6/10\n",
            "873/873 [==============================] - 53s 61ms/step - loss: 1.7896 - accuracy: 0.1811 - val_loss: 1.7900 - val_accuracy: 0.1845\n",
            "Epoch 7/10\n",
            "873/873 [==============================] - 57s 65ms/step - loss: 1.7893 - accuracy: 0.1821 - val_loss: 1.7899 - val_accuracy: 0.1845\n",
            "Epoch 8/10\n",
            "873/873 [==============================] - 55s 63ms/step - loss: 1.7894 - accuracy: 0.1828 - val_loss: 1.7900 - val_accuracy: 0.1845\n",
            "Epoch 9/10\n",
            "873/873 [==============================] - 57s 66ms/step - loss: 1.7886 - accuracy: 0.1817 - val_loss: 1.7898 - val_accuracy: 0.1845\n",
            "Epoch 10/10\n",
            "873/873 [==============================] - 57s 66ms/step - loss: 1.7895 - accuracy: 0.1838 - val_loss: 1.7900 - val_accuracy: 0.1740\n"
          ]
        },
        {
          "data": {
            "text/plain": [
              "<tensorflow.python.keras.callbacks.History at 0x7f2f345cbc50>"
            ]
          },
          "execution_count": 94,
          "metadata": {
            "tags": []
          },
          "output_type": "execute_result"
        }
      ],
      "source": [
        "red_50_1.fit(x_train, y_train, batch_size=batch_size, epochs=epochs, validation_data=(x_val, y_val))"
      ]
    },
    {
      "cell_type": "code",
      "execution_count": 95,
      "metadata": {
        "colab": {
          "base_uri": "https://localhost:8080/"
        },
        "id": "Y6eYSQlMz8l_",
        "outputId": "5b24ca68-7651-4a27-9321-8a0cfb1e9aa8"
      },
      "outputs": [
        {
          "name": "stdout",
          "output_type": "stream",
          "text": [
            "Epoch 1/10\n",
            "873/873 [==============================] - 91s 103ms/step - loss: 1.7897 - accuracy: 0.1769 - val_loss: 1.7900 - val_accuracy: 0.1740\n",
            "Epoch 2/10\n",
            "873/873 [==============================] - 93s 107ms/step - loss: 1.7892 - accuracy: 0.1757 - val_loss: 1.7899 - val_accuracy: 0.1845\n",
            "Epoch 3/10\n",
            "873/873 [==============================] - 104s 119ms/step - loss: 1.7890 - accuracy: 0.1825 - val_loss: 1.7899 - val_accuracy: 0.1740\n",
            "Epoch 4/10\n",
            "873/873 [==============================] - 110s 126ms/step - loss: 1.7883 - accuracy: 0.1846 - val_loss: 1.7898 - val_accuracy: 0.1845\n",
            "Epoch 5/10\n",
            "873/873 [==============================] - 108s 124ms/step - loss: 1.7891 - accuracy: 0.1804 - val_loss: 1.7899 - val_accuracy: 0.1845\n",
            "Epoch 6/10\n",
            "873/873 [==============================] - 101s 116ms/step - loss: 1.7889 - accuracy: 0.1820 - val_loss: 1.7898 - val_accuracy: 0.1845\n",
            "Epoch 7/10\n",
            "873/873 [==============================] - 115s 131ms/step - loss: 1.7890 - accuracy: 0.1774 - val_loss: 1.7898 - val_accuracy: 0.1845\n",
            "Epoch 8/10\n",
            "873/873 [==============================] - 121s 139ms/step - loss: 1.7892 - accuracy: 0.1802 - val_loss: 1.7899 - val_accuracy: 0.1845\n",
            "Epoch 9/10\n",
            "873/873 [==============================] - 118s 136ms/step - loss: 1.7897 - accuracy: 0.1749 - val_loss: 1.7899 - val_accuracy: 0.1845\n",
            "Epoch 10/10\n",
            "873/873 [==============================] - 116s 133ms/step - loss: 1.7891 - accuracy: 0.1828 - val_loss: 1.7897 - val_accuracy: 0.1845\n"
          ]
        },
        {
          "data": {
            "text/plain": [
              "<tensorflow.python.keras.callbacks.History at 0x7f2f350c98d0>"
            ]
          },
          "execution_count": 95,
          "metadata": {
            "tags": []
          },
          "output_type": "execute_result"
        }
      ],
      "source": [
        "red_100_1.fit(x_train, y_train, batch_size=batch_size, epochs=epochs, validation_data=(x_val, y_val))"
      ]
    },
    {
      "cell_type": "code",
      "execution_count": 96,
      "metadata": {
        "colab": {
          "base_uri": "https://localhost:8080/"
        },
        "id": "gIDKbF3Yz-GP",
        "outputId": "43d862f0-38b5-40f2-c58c-a55d5b40b848"
      },
      "outputs": [
        {
          "name": "stdout",
          "output_type": "stream",
          "text": [
            "Epoch 1/10\n",
            "873/873 [==============================] - 168s 192ms/step - loss: 1.7889 - accuracy: 0.1816 - val_loss: 1.7900 - val_accuracy: 0.1740\n",
            "Epoch 2/10\n",
            "873/873 [==============================] - 169s 194ms/step - loss: 1.7886 - accuracy: 0.1834 - val_loss: 1.7900 - val_accuracy: 0.1845\n",
            "Epoch 3/10\n",
            "873/873 [==============================] - 158s 181ms/step - loss: 1.7891 - accuracy: 0.1775 - val_loss: 1.7899 - val_accuracy: 0.1845\n",
            "Epoch 4/10\n",
            "873/873 [==============================] - 155s 178ms/step - loss: 1.7896 - accuracy: 0.1813 - val_loss: 1.7900 - val_accuracy: 0.1845\n",
            "Epoch 5/10\n",
            "873/873 [==============================] - 154s 176ms/step - loss: 1.7889 - accuracy: 0.1786 - val_loss: 1.7899 - val_accuracy: 0.1845\n",
            "Epoch 6/10\n",
            "873/873 [==============================] - 158s 181ms/step - loss: 1.7898 - accuracy: 0.1796 - val_loss: 1.7899 - val_accuracy: 0.1740\n",
            "Epoch 7/10\n",
            "873/873 [==============================] - 152s 175ms/step - loss: 1.7889 - accuracy: 0.1793 - val_loss: 1.7899 - val_accuracy: 0.1740\n",
            "Epoch 8/10\n",
            "873/873 [==============================] - 157s 179ms/step - loss: 1.7889 - accuracy: 0.1836 - val_loss: 1.7899 - val_accuracy: 0.1845\n",
            "Epoch 9/10\n",
            "873/873 [==============================] - 160s 183ms/step - loss: 1.7895 - accuracy: 0.1770 - val_loss: 1.7899 - val_accuracy: 0.1845\n",
            "Epoch 10/10\n",
            "873/873 [==============================] - 161s 184ms/step - loss: 1.7895 - accuracy: 0.1756 - val_loss: 1.7899 - val_accuracy: 0.1845\n"
          ]
        },
        {
          "data": {
            "text/plain": [
              "<tensorflow.python.keras.callbacks.History at 0x7f2f801d3190>"
            ]
          },
          "execution_count": 96,
          "metadata": {
            "tags": []
          },
          "output_type": "execute_result"
        }
      ],
      "source": [
        "red_150_1.fit(x_train, y_train, batch_size=batch_size, epochs=epochs, validation_data=(x_val, y_val))"
      ]
    },
    {
      "cell_type": "markdown",
      "metadata": {
        "id": "7pgwdWnAzQiB"
      },
      "source": [
        "## Segunda Arquitectura"
      ]
    },
    {
      "cell_type": "code",
      "execution_count": 97,
      "metadata": {
        "colab": {
          "base_uri": "https://localhost:8080/",
          "height": 357
        },
        "id": "Yv2vDMUtzSii",
        "outputId": "2335a937-6aaf-4c25-b905-2af8dec850e5"
      },
      "outputs": [
        {
          "name": "stdout",
          "output_type": "stream",
          "text": [
            "Converted 7452 words (6568 misses)\n"
          ]
        },
        {
          "ename": "ValueError",
          "evalue": "ignored",
          "output_type": "error",
          "traceback": [
            "\u001b[0;31m---------------------------------------------------------------------------\u001b[0m",
            "\u001b[0;31mValueError\u001b[0m                                Traceback (most recent call last)",
            "\u001b[0;32m<ipython-input-97-f6ad74cf72a0>\u001b[0m in \u001b[0;36m<module>\u001b[0;34m()\u001b[0m\n\u001b[0;32m----> 1\u001b[0;31m \u001b[0mred_50_2\u001b[0m \u001b[0;34m=\u001b[0m \u001b[0mgeneratePreEmbbedingModel\u001b[0m\u001b[0;34m(\u001b[0m\u001b[0mmodel_50\u001b[0m\u001b[0;34m,\u001b[0m \u001b[0;36m50\u001b[0m\u001b[0;34m,\u001b[0m \u001b[0mvectorize_layer\u001b[0m\u001b[0;34m,\u001b[0m \u001b[0;36m2\u001b[0m\u001b[0;34m)\u001b[0m\u001b[0;34m\u001b[0m\u001b[0;34m\u001b[0m\u001b[0m\n\u001b[0m\u001b[1;32m      2\u001b[0m \u001b[0mred_100_2\u001b[0m \u001b[0;34m=\u001b[0m \u001b[0mgeneratePreEmbbedingModel\u001b[0m\u001b[0;34m(\u001b[0m\u001b[0mmodel_100\u001b[0m\u001b[0;34m,\u001b[0m \u001b[0;36m100\u001b[0m\u001b[0;34m,\u001b[0m \u001b[0mvectorize_layer\u001b[0m\u001b[0;34m,\u001b[0m \u001b[0;36m2\u001b[0m\u001b[0;34m)\u001b[0m\u001b[0;34m\u001b[0m\u001b[0;34m\u001b[0m\u001b[0m\n\u001b[1;32m      3\u001b[0m \u001b[0mred_150_2\u001b[0m \u001b[0;34m=\u001b[0m \u001b[0mgeneratePreEmbbedingModel\u001b[0m\u001b[0;34m(\u001b[0m\u001b[0mmodel_150\u001b[0m\u001b[0;34m,\u001b[0m \u001b[0;36m150\u001b[0m\u001b[0;34m,\u001b[0m \u001b[0mvectorize_layer\u001b[0m\u001b[0;34m,\u001b[0m \u001b[0;36m2\u001b[0m\u001b[0;34m)\u001b[0m\u001b[0;34m\u001b[0m\u001b[0;34m\u001b[0m\u001b[0m\n",
            "\u001b[0;32m<ipython-input-83-6fd441d6525e>\u001b[0m in \u001b[0;36mgeneratePreEmbbedingModel\u001b[0;34m(model, embedding_dim, vectorize_layer, architecture_id)\u001b[0m\n\u001b[1;32m     18\u001b[0m         \u001b[0mx\u001b[0m \u001b[0;34m=\u001b[0m \u001b[0mlayers\u001b[0m\u001b[0;34m.\u001b[0m\u001b[0mDense\u001b[0m\u001b[0;34m(\u001b[0m\u001b[0;36m10\u001b[0m\u001b[0;34m,\u001b[0m \u001b[0mactivation\u001b[0m\u001b[0;34m=\u001b[0m\u001b[0;34m'relu'\u001b[0m\u001b[0;34m)\u001b[0m\u001b[0;34m(\u001b[0m\u001b[0mx\u001b[0m\u001b[0;34m)\u001b[0m\u001b[0;34m\u001b[0m\u001b[0;34m\u001b[0m\u001b[0m\n\u001b[1;32m     19\u001b[0m     \u001b[0;32melif\u001b[0m \u001b[0marchitecture_id\u001b[0m \u001b[0;34m==\u001b[0m \u001b[0;36m2\u001b[0m\u001b[0;34m:\u001b[0m\u001b[0;34m\u001b[0m\u001b[0;34m\u001b[0m\u001b[0m\n\u001b[0;32m---> 20\u001b[0;31m         \u001b[0mx\u001b[0m \u001b[0;34m=\u001b[0m \u001b[0mlayers\u001b[0m\u001b[0;34m.\u001b[0m\u001b[0mSimpleRNN\u001b[0m\u001b[0;34m(\u001b[0m\u001b[0;36m5\u001b[0m\u001b[0;34m)\u001b[0m\u001b[0;34m(\u001b[0m\u001b[0mx\u001b[0m\u001b[0;34m)\u001b[0m\u001b[0;34m\u001b[0m\u001b[0;34m\u001b[0m\u001b[0m\n\u001b[0m\u001b[1;32m     21\u001b[0m         \u001b[0mx\u001b[0m \u001b[0;34m=\u001b[0m \u001b[0mlayers\u001b[0m\u001b[0;34m.\u001b[0m\u001b[0mDropout\u001b[0m\u001b[0;34m(\u001b[0m\u001b[0;36m0.3\u001b[0m\u001b[0;34m)\u001b[0m\u001b[0;34m(\u001b[0m\u001b[0mx\u001b[0m\u001b[0;34m)\u001b[0m\u001b[0;34m\u001b[0m\u001b[0;34m\u001b[0m\u001b[0m\n\u001b[1;32m     22\u001b[0m         \u001b[0mx\u001b[0m \u001b[0;34m=\u001b[0m \u001b[0mlayers\u001b[0m\u001b[0;34m.\u001b[0m\u001b[0mDense\u001b[0m\u001b[0;34m(\u001b[0m\u001b[0;36m10\u001b[0m\u001b[0;34m,\u001b[0m \u001b[0mactivation\u001b[0m\u001b[0;34m=\u001b[0m\u001b[0;34m'relu'\u001b[0m\u001b[0;34m)\u001b[0m\u001b[0;34m(\u001b[0m\u001b[0mx\u001b[0m\u001b[0;34m)\u001b[0m\u001b[0;34m\u001b[0m\u001b[0;34m\u001b[0m\u001b[0m\n",
            "\u001b[0;32m/usr/local/lib/python3.7/dist-packages/tensorflow/python/keras/layers/recurrent.py\u001b[0m in \u001b[0;36m__call__\u001b[0;34m(self, inputs, initial_state, constants, **kwargs)\u001b[0m\n\u001b[1;32m    658\u001b[0m \u001b[0;34m\u001b[0m\u001b[0m\n\u001b[1;32m    659\u001b[0m     \u001b[0;32mif\u001b[0m \u001b[0minitial_state\u001b[0m \u001b[0;32mis\u001b[0m \u001b[0;32mNone\u001b[0m \u001b[0;32mand\u001b[0m \u001b[0mconstants\u001b[0m \u001b[0;32mis\u001b[0m \u001b[0;32mNone\u001b[0m\u001b[0;34m:\u001b[0m\u001b[0;34m\u001b[0m\u001b[0;34m\u001b[0m\u001b[0m\n\u001b[0;32m--> 660\u001b[0;31m       \u001b[0;32mreturn\u001b[0m \u001b[0msuper\u001b[0m\u001b[0;34m(\u001b[0m\u001b[0mRNN\u001b[0m\u001b[0;34m,\u001b[0m \u001b[0mself\u001b[0m\u001b[0;34m)\u001b[0m\u001b[0;34m.\u001b[0m\u001b[0m__call__\u001b[0m\u001b[0;34m(\u001b[0m\u001b[0minputs\u001b[0m\u001b[0;34m,\u001b[0m \u001b[0;34m**\u001b[0m\u001b[0mkwargs\u001b[0m\u001b[0;34m)\u001b[0m\u001b[0;34m\u001b[0m\u001b[0;34m\u001b[0m\u001b[0m\n\u001b[0m\u001b[1;32m    661\u001b[0m \u001b[0;34m\u001b[0m\u001b[0m\n\u001b[1;32m    662\u001b[0m     \u001b[0;31m# If any of `initial_state` or `constants` are specified and are Keras\u001b[0m\u001b[0;34m\u001b[0m\u001b[0;34m\u001b[0m\u001b[0;34m\u001b[0m\u001b[0m\n",
            "\u001b[0;32m/usr/local/lib/python3.7/dist-packages/tensorflow/python/keras/engine/base_layer.py\u001b[0m in \u001b[0;36m__call__\u001b[0;34m(self, *args, **kwargs)\u001b[0m\n\u001b[1;32m    950\u001b[0m     \u001b[0;32mif\u001b[0m \u001b[0m_in_functional_construction_mode\u001b[0m\u001b[0;34m(\u001b[0m\u001b[0mself\u001b[0m\u001b[0;34m,\u001b[0m \u001b[0minputs\u001b[0m\u001b[0;34m,\u001b[0m \u001b[0margs\u001b[0m\u001b[0;34m,\u001b[0m \u001b[0mkwargs\u001b[0m\u001b[0;34m,\u001b[0m \u001b[0minput_list\u001b[0m\u001b[0;34m)\u001b[0m\u001b[0;34m:\u001b[0m\u001b[0;34m\u001b[0m\u001b[0;34m\u001b[0m\u001b[0m\n\u001b[1;32m    951\u001b[0m       return self._functional_construction_call(inputs, args, kwargs,\n\u001b[0;32m--> 952\u001b[0;31m                                                 input_list)\n\u001b[0m\u001b[1;32m    953\u001b[0m \u001b[0;34m\u001b[0m\u001b[0m\n\u001b[1;32m    954\u001b[0m     \u001b[0;31m# Maintains info about the `Layer.call` stack.\u001b[0m\u001b[0;34m\u001b[0m\u001b[0;34m\u001b[0m\u001b[0;34m\u001b[0m\u001b[0m\n",
            "\u001b[0;32m/usr/local/lib/python3.7/dist-packages/tensorflow/python/keras/engine/base_layer.py\u001b[0m in \u001b[0;36m_functional_construction_call\u001b[0;34m(self, inputs, args, kwargs, input_list)\u001b[0m\n\u001b[1;32m   1089\u001b[0m         \u001b[0;31m# Check input assumptions set after layer building, e.g. input shape.\u001b[0m\u001b[0;34m\u001b[0m\u001b[0;34m\u001b[0m\u001b[0;34m\u001b[0m\u001b[0m\n\u001b[1;32m   1090\u001b[0m         outputs = self._keras_tensor_symbolic_call(\n\u001b[0;32m-> 1091\u001b[0;31m             inputs, input_masks, args, kwargs)\n\u001b[0m\u001b[1;32m   1092\u001b[0m \u001b[0;34m\u001b[0m\u001b[0m\n\u001b[1;32m   1093\u001b[0m         \u001b[0;32mif\u001b[0m \u001b[0moutputs\u001b[0m \u001b[0;32mis\u001b[0m \u001b[0;32mNone\u001b[0m\u001b[0;34m:\u001b[0m\u001b[0;34m\u001b[0m\u001b[0;34m\u001b[0m\u001b[0m\n",
            "\u001b[0;32m/usr/local/lib/python3.7/dist-packages/tensorflow/python/keras/engine/base_layer.py\u001b[0m in \u001b[0;36m_keras_tensor_symbolic_call\u001b[0;34m(self, inputs, input_masks, args, kwargs)\u001b[0m\n\u001b[1;32m    820\u001b[0m       \u001b[0;32mreturn\u001b[0m \u001b[0mnest\u001b[0m\u001b[0;34m.\u001b[0m\u001b[0mmap_structure\u001b[0m\u001b[0;34m(\u001b[0m\u001b[0mkeras_tensor\u001b[0m\u001b[0;34m.\u001b[0m\u001b[0mKerasTensor\u001b[0m\u001b[0;34m,\u001b[0m \u001b[0moutput_signature\u001b[0m\u001b[0;34m)\u001b[0m\u001b[0;34m\u001b[0m\u001b[0;34m\u001b[0m\u001b[0m\n\u001b[1;32m    821\u001b[0m     \u001b[0;32melse\u001b[0m\u001b[0;34m:\u001b[0m\u001b[0;34m\u001b[0m\u001b[0;34m\u001b[0m\u001b[0m\n\u001b[0;32m--> 822\u001b[0;31m       \u001b[0;32mreturn\u001b[0m \u001b[0mself\u001b[0m\u001b[0;34m.\u001b[0m\u001b[0m_infer_output_signature\u001b[0m\u001b[0;34m(\u001b[0m\u001b[0minputs\u001b[0m\u001b[0;34m,\u001b[0m \u001b[0margs\u001b[0m\u001b[0;34m,\u001b[0m \u001b[0mkwargs\u001b[0m\u001b[0;34m,\u001b[0m \u001b[0minput_masks\u001b[0m\u001b[0;34m)\u001b[0m\u001b[0;34m\u001b[0m\u001b[0;34m\u001b[0m\u001b[0m\n\u001b[0m\u001b[1;32m    823\u001b[0m \u001b[0;34m\u001b[0m\u001b[0m\n\u001b[1;32m    824\u001b[0m   \u001b[0;32mdef\u001b[0m \u001b[0m_infer_output_signature\u001b[0m\u001b[0;34m(\u001b[0m\u001b[0mself\u001b[0m\u001b[0;34m,\u001b[0m \u001b[0minputs\u001b[0m\u001b[0;34m,\u001b[0m \u001b[0margs\u001b[0m\u001b[0;34m,\u001b[0m \u001b[0mkwargs\u001b[0m\u001b[0;34m,\u001b[0m \u001b[0minput_masks\u001b[0m\u001b[0;34m)\u001b[0m\u001b[0;34m:\u001b[0m\u001b[0;34m\u001b[0m\u001b[0;34m\u001b[0m\u001b[0m\n",
            "\u001b[0;32m/usr/local/lib/python3.7/dist-packages/tensorflow/python/keras/engine/base_layer.py\u001b[0m in \u001b[0;36m_infer_output_signature\u001b[0;34m(self, inputs, args, kwargs, input_masks)\u001b[0m\n\u001b[1;32m    860\u001b[0m           \u001b[0;31m# overridden).\u001b[0m\u001b[0;34m\u001b[0m\u001b[0;34m\u001b[0m\u001b[0;34m\u001b[0m\u001b[0m\n\u001b[1;32m    861\u001b[0m           \u001b[0;31m# TODO(kaftan): do we maybe_build here, or have we already done it?\u001b[0m\u001b[0;34m\u001b[0m\u001b[0;34m\u001b[0m\u001b[0;34m\u001b[0m\u001b[0m\n\u001b[0;32m--> 862\u001b[0;31m           \u001b[0mself\u001b[0m\u001b[0;34m.\u001b[0m\u001b[0m_maybe_build\u001b[0m\u001b[0;34m(\u001b[0m\u001b[0minputs\u001b[0m\u001b[0;34m)\u001b[0m\u001b[0;34m\u001b[0m\u001b[0;34m\u001b[0m\u001b[0m\n\u001b[0m\u001b[1;32m    863\u001b[0m           \u001b[0moutputs\u001b[0m \u001b[0;34m=\u001b[0m \u001b[0mcall_fn\u001b[0m\u001b[0;34m(\u001b[0m\u001b[0minputs\u001b[0m\u001b[0;34m,\u001b[0m \u001b[0;34m*\u001b[0m\u001b[0margs\u001b[0m\u001b[0;34m,\u001b[0m \u001b[0;34m**\u001b[0m\u001b[0mkwargs\u001b[0m\u001b[0;34m)\u001b[0m\u001b[0;34m\u001b[0m\u001b[0;34m\u001b[0m\u001b[0m\n\u001b[1;32m    864\u001b[0m \u001b[0;34m\u001b[0m\u001b[0m\n",
            "\u001b[0;32m/usr/local/lib/python3.7/dist-packages/tensorflow/python/keras/engine/base_layer.py\u001b[0m in \u001b[0;36m_maybe_build\u001b[0;34m(self, inputs)\u001b[0m\n\u001b[1;32m   2683\u001b[0m     \u001b[0;32mif\u001b[0m \u001b[0;32mnot\u001b[0m \u001b[0mself\u001b[0m\u001b[0;34m.\u001b[0m\u001b[0mbuilt\u001b[0m\u001b[0;34m:\u001b[0m\u001b[0;34m\u001b[0m\u001b[0;34m\u001b[0m\u001b[0m\n\u001b[1;32m   2684\u001b[0m       input_spec.assert_input_compatibility(\n\u001b[0;32m-> 2685\u001b[0;31m           self.input_spec, inputs, self.name)\n\u001b[0m\u001b[1;32m   2686\u001b[0m       \u001b[0minput_list\u001b[0m \u001b[0;34m=\u001b[0m \u001b[0mnest\u001b[0m\u001b[0;34m.\u001b[0m\u001b[0mflatten\u001b[0m\u001b[0;34m(\u001b[0m\u001b[0minputs\u001b[0m\u001b[0;34m)\u001b[0m\u001b[0;34m\u001b[0m\u001b[0;34m\u001b[0m\u001b[0m\n\u001b[1;32m   2687\u001b[0m       \u001b[0;32mif\u001b[0m \u001b[0minput_list\u001b[0m \u001b[0;32mand\u001b[0m \u001b[0mself\u001b[0m\u001b[0;34m.\u001b[0m\u001b[0m_dtype_policy\u001b[0m\u001b[0;34m.\u001b[0m\u001b[0mcompute_dtype\u001b[0m \u001b[0;32mis\u001b[0m \u001b[0;32mNone\u001b[0m\u001b[0;34m:\u001b[0m\u001b[0;34m\u001b[0m\u001b[0;34m\u001b[0m\u001b[0m\n",
            "\u001b[0;32m/usr/local/lib/python3.7/dist-packages/tensorflow/python/keras/engine/input_spec.py\u001b[0m in \u001b[0;36massert_input_compatibility\u001b[0;34m(input_spec, inputs, layer_name)\u001b[0m\n\u001b[1;32m    221\u001b[0m                          \u001b[0;34m'expected ndim='\u001b[0m \u001b[0;34m+\u001b[0m \u001b[0mstr\u001b[0m\u001b[0;34m(\u001b[0m\u001b[0mspec\u001b[0m\u001b[0;34m.\u001b[0m\u001b[0mndim\u001b[0m\u001b[0;34m)\u001b[0m \u001b[0;34m+\u001b[0m \u001b[0;34m', found ndim='\u001b[0m \u001b[0;34m+\u001b[0m\u001b[0;34m\u001b[0m\u001b[0;34m\u001b[0m\u001b[0m\n\u001b[1;32m    222\u001b[0m                          \u001b[0mstr\u001b[0m\u001b[0;34m(\u001b[0m\u001b[0mndim\u001b[0m\u001b[0;34m)\u001b[0m \u001b[0;34m+\u001b[0m \u001b[0;34m'. Full shape received: '\u001b[0m \u001b[0;34m+\u001b[0m\u001b[0;34m\u001b[0m\u001b[0;34m\u001b[0m\u001b[0m\n\u001b[0;32m--> 223\u001b[0;31m                          str(tuple(shape)))\n\u001b[0m\u001b[1;32m    224\u001b[0m     \u001b[0;32mif\u001b[0m \u001b[0mspec\u001b[0m\u001b[0;34m.\u001b[0m\u001b[0mmax_ndim\u001b[0m \u001b[0;32mis\u001b[0m \u001b[0;32mnot\u001b[0m \u001b[0;32mNone\u001b[0m\u001b[0;34m:\u001b[0m\u001b[0;34m\u001b[0m\u001b[0;34m\u001b[0m\u001b[0m\n\u001b[1;32m    225\u001b[0m       \u001b[0mndim\u001b[0m \u001b[0;34m=\u001b[0m \u001b[0mx\u001b[0m\u001b[0;34m.\u001b[0m\u001b[0mshape\u001b[0m\u001b[0;34m.\u001b[0m\u001b[0mrank\u001b[0m\u001b[0;34m\u001b[0m\u001b[0;34m\u001b[0m\u001b[0m\n",
            "\u001b[0;31mValueError\u001b[0m: Input 0 of layer simple_rnn is incompatible with the layer: expected ndim=3, found ndim=2. Full shape received: (None, 50)"
          ]
        }
      ],
      "source": [
        "red_50_2 = generatePreEmbbedingModel(model_50, 50, vectorize_layer, 2)\n",
        "red_100_2 = generatePreEmbbedingModel(model_100, 100, vectorize_layer, 2)\n",
        "red_150_2 = generatePreEmbbedingModel(model_150, 150, vectorize_layer, 2)"
      ]
    },
    {
      "cell_type": "markdown",
      "metadata": {
        "id": "DGa3XhE00j7x"
      },
      "source": [
        "## Tercer Arquitectura"
      ]
    },
    {
      "cell_type": "code",
      "execution_count": 98,
      "metadata": {
        "colab": {
          "base_uri": "https://localhost:8080/"
        },
        "id": "q4dK5vSO0lls",
        "outputId": "0c7dc9b4-8895-44ae-bde4-38a0ddb5993b"
      },
      "outputs": [
        {
          "name": "stdout",
          "output_type": "stream",
          "text": [
            "Converted 7452 words (6568 misses)\n",
            "Converted 7452 words (6568 misses)\n",
            "Converted 7452 words (6568 misses)\n"
          ]
        }
      ],
      "source": [
        "red_50_3 = generatePreEmbbedingModel(model_50, 50, vectorize_layer, 3)\n",
        "red_100_3 = generatePreEmbbedingModel(model_100, 100, vectorize_layer, 3)\n",
        "red_150_3 = generatePreEmbbedingModel(model_150, 150, vectorize_layer, 3)"
      ]
    },
    {
      "cell_type": "code",
      "execution_count": 99,
      "metadata": {
        "colab": {
          "base_uri": "https://localhost:8080/"
        },
        "id": "u8NLkmIi1EEm",
        "outputId": "71134e1f-3239-4a6a-d074-48cbd0bcf69b"
      },
      "outputs": [
        {
          "name": "stdout",
          "output_type": "stream",
          "text": [
            "Model: \"model_4\"\n",
            "_________________________________________________________________\n",
            "Layer (type)                 Output Shape              Param #   \n",
            "=================================================================\n",
            "input_6 (InputLayer)         [(None, None)]            0         \n",
            "_________________________________________________________________\n",
            "embedding_5 (Embedding)      (None, None, 50)          701000    \n",
            "_________________________________________________________________\n",
            "global_average_pooling1d_5 ( (None, 50)                0         \n",
            "_________________________________________________________________\n",
            "dense_8 (Dense)              (None, 80)                4080      \n",
            "_________________________________________________________________\n",
            "dropout (Dropout)            (None, 80)                0         \n",
            "_________________________________________________________________\n",
            "batch_normalization (BatchNo (None, 80)                320       \n",
            "_________________________________________________________________\n",
            "dense_9 (Dense)              (None, 250)               20250     \n",
            "_________________________________________________________________\n",
            "dropout_1 (Dropout)          (None, 250)               0         \n",
            "_________________________________________________________________\n",
            "dense_10 (Dense)             (None, 6)                 1506      \n",
            "=================================================================\n",
            "Total params: 727,156\n",
            "Trainable params: 25,996\n",
            "Non-trainable params: 701,160\n",
            "_________________________________________________________________\n"
          ]
        }
      ],
      "source": [
        "red_50_3.summary()"
      ]
    },
    {
      "cell_type": "code",
      "execution_count": 100,
      "metadata": {
        "colab": {
          "base_uri": "https://localhost:8080/"
        },
        "id": "f9y5LSjn1F2n",
        "outputId": "b3fe17b8-fcdb-4ddf-cc5b-de6a3364d016"
      },
      "outputs": [
        {
          "name": "stdout",
          "output_type": "stream",
          "text": [
            "Model: \"model_5\"\n",
            "_________________________________________________________________\n",
            "Layer (type)                 Output Shape              Param #   \n",
            "=================================================================\n",
            "input_7 (InputLayer)         [(None, None)]            0         \n",
            "_________________________________________________________________\n",
            "embedding_6 (Embedding)      (None, None, 100)         1402000   \n",
            "_________________________________________________________________\n",
            "global_average_pooling1d_6 ( (None, 100)               0         \n",
            "_________________________________________________________________\n",
            "dense_11 (Dense)             (None, 80)                8080      \n",
            "_________________________________________________________________\n",
            "dropout_2 (Dropout)          (None, 80)                0         \n",
            "_________________________________________________________________\n",
            "batch_normalization_1 (Batch (None, 80)                320       \n",
            "_________________________________________________________________\n",
            "dense_12 (Dense)             (None, 250)               20250     \n",
            "_________________________________________________________________\n",
            "dropout_3 (Dropout)          (None, 250)               0         \n",
            "_________________________________________________________________\n",
            "dense_13 (Dense)             (None, 6)                 1506      \n",
            "=================================================================\n",
            "Total params: 1,432,156\n",
            "Trainable params: 29,996\n",
            "Non-trainable params: 1,402,160\n",
            "_________________________________________________________________\n"
          ]
        }
      ],
      "source": [
        "red_100_3.summary()"
      ]
    },
    {
      "cell_type": "code",
      "execution_count": 101,
      "metadata": {
        "colab": {
          "base_uri": "https://localhost:8080/"
        },
        "id": "SVNQc7sj1HV5",
        "outputId": "6a0f3b23-5bb3-4c9b-f7dc-fcdf2842617c"
      },
      "outputs": [
        {
          "name": "stdout",
          "output_type": "stream",
          "text": [
            "Model: \"model_6\"\n",
            "_________________________________________________________________\n",
            "Layer (type)                 Output Shape              Param #   \n",
            "=================================================================\n",
            "input_8 (InputLayer)         [(None, None)]            0         \n",
            "_________________________________________________________________\n",
            "embedding_7 (Embedding)      (None, None, 150)         2103000   \n",
            "_________________________________________________________________\n",
            "global_average_pooling1d_7 ( (None, 150)               0         \n",
            "_________________________________________________________________\n",
            "dense_14 (Dense)             (None, 80)                12080     \n",
            "_________________________________________________________________\n",
            "dropout_4 (Dropout)          (None, 80)                0         \n",
            "_________________________________________________________________\n",
            "batch_normalization_2 (Batch (None, 80)                320       \n",
            "_________________________________________________________________\n",
            "dense_15 (Dense)             (None, 250)               20250     \n",
            "_________________________________________________________________\n",
            "dropout_5 (Dropout)          (None, 250)               0         \n",
            "_________________________________________________________________\n",
            "dense_16 (Dense)             (None, 6)                 1506      \n",
            "=================================================================\n",
            "Total params: 2,137,156\n",
            "Trainable params: 33,996\n",
            "Non-trainable params: 2,103,160\n",
            "_________________________________________________________________\n"
          ]
        }
      ],
      "source": [
        "red_150_3.summary()"
      ]
    },
    {
      "cell_type": "code",
      "execution_count": 102,
      "metadata": {
        "id": "Zpj6k_EB1KBL"
      },
      "outputs": [],
      "source": [
        "red_50_3.compile(loss='categorical_crossentropy',  optimizer='adam', metrics=['accuracy'])\n",
        "red_100_3.compile(loss='categorical_crossentropy',  optimizer='adam', metrics=['accuracy'])\n",
        "red_150_3.compile(loss='categorical_crossentropy',  optimizer='adam', metrics=['accuracy'])"
      ]
    },
    {
      "cell_type": "code",
      "execution_count": 103,
      "metadata": {
        "colab": {
          "base_uri": "https://localhost:8080/"
        },
        "id": "-uFxJR4-1LV7",
        "outputId": "bcd745fb-5c63-4522-8999-b2c5c9fc45cf"
      },
      "outputs": [
        {
          "name": "stdout",
          "output_type": "stream",
          "text": [
            "Epoch 1/10\n",
            "873/873 [==============================] - 68s 77ms/step - loss: 1.7906 - accuracy: 0.1753 - val_loss: 1.7898 - val_accuracy: 0.1845\n",
            "Epoch 2/10\n",
            "873/873 [==============================] - 60s 69ms/step - loss: 1.7896 - accuracy: 0.1795 - val_loss: 1.7898 - val_accuracy: 0.1845\n",
            "Epoch 3/10\n",
            "873/873 [==============================] - 58s 67ms/step - loss: 1.7897 - accuracy: 0.1816 - val_loss: 1.7899 - val_accuracy: 0.1845\n",
            "Epoch 4/10\n",
            "873/873 [==============================] - 59s 67ms/step - loss: 1.7887 - accuracy: 0.1846 - val_loss: 1.7899 - val_accuracy: 0.1740\n",
            "Epoch 5/10\n",
            "873/873 [==============================] - 59s 68ms/step - loss: 1.7892 - accuracy: 0.1809 - val_loss: 1.7900 - val_accuracy: 0.1845\n",
            "Epoch 6/10\n",
            "873/873 [==============================] - 59s 68ms/step - loss: 1.7891 - accuracy: 0.1799 - val_loss: 1.7898 - val_accuracy: 0.1845\n",
            "Epoch 7/10\n",
            "873/873 [==============================] - 58s 66ms/step - loss: 1.7884 - accuracy: 0.1827 - val_loss: 1.7898 - val_accuracy: 0.1845\n",
            "Epoch 8/10\n",
            "873/873 [==============================] - 60s 69ms/step - loss: 1.7898 - accuracy: 0.1779 - val_loss: 1.7899 - val_accuracy: 0.1845\n",
            "Epoch 9/10\n",
            "873/873 [==============================] - 70s 80ms/step - loss: 1.7892 - accuracy: 0.1783 - val_loss: 1.7899 - val_accuracy: 0.1740\n",
            "Epoch 10/10\n",
            "873/873 [==============================] - 63s 72ms/step - loss: 1.7894 - accuracy: 0.1775 - val_loss: 1.7898 - val_accuracy: 0.1845\n"
          ]
        },
        {
          "data": {
            "text/plain": [
              "<tensorflow.python.keras.callbacks.History at 0x7f2f2ce2c850>"
            ]
          },
          "execution_count": 103,
          "metadata": {
            "tags": []
          },
          "output_type": "execute_result"
        }
      ],
      "source": [
        "red_50_3.fit(x_train, y_train, batch_size=batch_size, epochs=epochs, validation_data=(x_val, y_val))"
      ]
    },
    {
      "cell_type": "code",
      "execution_count": 104,
      "metadata": {
        "colab": {
          "base_uri": "https://localhost:8080/"
        },
        "id": "LZ9f1T9j1Mv1",
        "outputId": "67b60ea0-6915-48b7-bb3c-2d516ac60586"
      },
      "outputs": [
        {
          "name": "stdout",
          "output_type": "stream",
          "text": [
            "Epoch 1/10\n",
            "873/873 [==============================] - 95s 108ms/step - loss: 1.7901 - accuracy: 0.1790 - val_loss: 1.7898 - val_accuracy: 0.1845\n",
            "Epoch 2/10\n",
            "873/873 [==============================] - 94s 107ms/step - loss: 1.7898 - accuracy: 0.1810 - val_loss: 1.7898 - val_accuracy: 0.1845\n",
            "Epoch 3/10\n",
            "873/873 [==============================] - 89s 102ms/step - loss: 1.7887 - accuracy: 0.1850 - val_loss: 1.7899 - val_accuracy: 0.1845\n",
            "Epoch 4/10\n",
            "873/873 [==============================] - 89s 102ms/step - loss: 1.7893 - accuracy: 0.1788 - val_loss: 1.7898 - val_accuracy: 0.1845\n",
            "Epoch 5/10\n",
            "873/873 [==============================] - 93s 106ms/step - loss: 1.7891 - accuracy: 0.1848 - val_loss: 1.7899 - val_accuracy: 0.1845\n",
            "Epoch 6/10\n",
            "873/873 [==============================] - 104s 120ms/step - loss: 1.7892 - accuracy: 0.1789 - val_loss: 1.7899 - val_accuracy: 0.1845\n",
            "Epoch 7/10\n",
            "873/873 [==============================] - 104s 119ms/step - loss: 1.7891 - accuracy: 0.1834 - val_loss: 1.7899 - val_accuracy: 0.1845\n",
            "Epoch 8/10\n",
            "873/873 [==============================] - 99s 114ms/step - loss: 1.7896 - accuracy: 0.1847 - val_loss: 1.7900 - val_accuracy: 0.1740\n",
            "Epoch 9/10\n",
            "873/873 [==============================] - 93s 107ms/step - loss: 1.7891 - accuracy: 0.1773 - val_loss: 1.7899 - val_accuracy: 0.1845\n",
            "Epoch 10/10\n",
            "873/873 [==============================] - 93s 107ms/step - loss: 1.7892 - accuracy: 0.1811 - val_loss: 1.7900 - val_accuracy: 0.1845\n"
          ]
        },
        {
          "data": {
            "text/plain": [
              "<tensorflow.python.keras.callbacks.History at 0x7f2f2cdbcc90>"
            ]
          },
          "execution_count": 104,
          "metadata": {
            "tags": []
          },
          "output_type": "execute_result"
        }
      ],
      "source": [
        "red_100_3.fit(x_train, y_train, batch_size=batch_size, epochs=epochs, validation_data=(x_val, y_val))"
      ]
    },
    {
      "cell_type": "code",
      "execution_count": 105,
      "metadata": {
        "colab": {
          "base_uri": "https://localhost:8080/"
        },
        "id": "dxsr8WTV1N-W",
        "outputId": "5f8f2771-8645-4df3-8d5e-0e8231359d25"
      },
      "outputs": [
        {
          "name": "stdout",
          "output_type": "stream",
          "text": [
            "Epoch 1/10\n",
            "873/873 [==============================] - 166s 190ms/step - loss: 1.7904 - accuracy: 0.1813 - val_loss: 1.7899 - val_accuracy: 0.1740\n",
            "Epoch 2/10\n",
            "873/873 [==============================] - 171s 195ms/step - loss: 1.7891 - accuracy: 0.1839 - val_loss: 1.7898 - val_accuracy: 0.1845\n",
            "Epoch 3/10\n",
            "873/873 [==============================] - 173s 198ms/step - loss: 1.7890 - accuracy: 0.1798 - val_loss: 1.7899 - val_accuracy: 0.1845\n",
            "Epoch 4/10\n",
            "873/873 [==============================] - 168s 193ms/step - loss: 1.7890 - accuracy: 0.1840 - val_loss: 1.7900 - val_accuracy: 0.1740\n",
            "Epoch 5/10\n",
            "873/873 [==============================] - 161s 185ms/step - loss: 1.7891 - accuracy: 0.1786 - val_loss: 1.7899 - val_accuracy: 0.1740\n",
            "Epoch 6/10\n",
            "873/873 [==============================] - 158s 181ms/step - loss: 1.7898 - accuracy: 0.1774 - val_loss: 1.7900 - val_accuracy: 0.1740\n",
            "Epoch 7/10\n",
            "873/873 [==============================] - 152s 174ms/step - loss: 1.7899 - accuracy: 0.1777 - val_loss: 1.7899 - val_accuracy: 0.1845\n",
            "Epoch 8/10\n",
            "873/873 [==============================] - 145s 166ms/step - loss: 1.7893 - accuracy: 0.1803 - val_loss: 1.7899 - val_accuracy: 0.1845\n",
            "Epoch 9/10\n",
            "873/873 [==============================] - 148s 170ms/step - loss: 1.7891 - accuracy: 0.1837 - val_loss: 1.7898 - val_accuracy: 0.1845\n",
            "Epoch 10/10\n",
            "873/873 [==============================] - 151s 173ms/step - loss: 1.7894 - accuracy: 0.1784 - val_loss: 1.7899 - val_accuracy: 0.1740\n"
          ]
        },
        {
          "data": {
            "text/plain": [
              "<tensorflow.python.keras.callbacks.History at 0x7f2f2bb87150>"
            ]
          },
          "execution_count": 105,
          "metadata": {
            "tags": []
          },
          "output_type": "execute_result"
        }
      ],
      "source": [
        "red_150_3.fit(x_train, y_train, batch_size=batch_size, epochs=epochs, validation_data=(x_val, y_val))"
      ]
    },
    {
      "cell_type": "markdown",
      "metadata": {
        "id": "JDg7ZPY84alp"
      },
      "source": [
        "## 4.1 Red Feedforward\n",
        "\n",
        "### Using trained in place embeddings"
      ]
    },
    {
      "cell_type": "code",
      "execution_count": 106,
      "metadata": {
        "id": "xiuvc8YC4h-z"
      },
      "outputs": [],
      "source": [
        "#Parameters\n",
        "\n",
        "batch_size = 32\n",
        "epochs = 10"
      ]
    },
    {
      "cell_type": "code",
      "execution_count": 107,
      "metadata": {
        "colab": {
          "base_uri": "https://localhost:8080/",
          "height": 197
        },
        "id": "9xkezFFz4jTT",
        "outputId": "71cd99a1-c982-498f-e59c-21fe9cf2eb73"
      },
      "outputs": [
        {
          "ename": "NameError",
          "evalue": "ignored",
          "output_type": "error",
          "traceback": [
            "\u001b[0;31m---------------------------------------------------------------------------\u001b[0m",
            "\u001b[0;31mNameError\u001b[0m                                 Traceback (most recent call last)",
            "\u001b[0;32m<ipython-input-107-5ea0b8fb0c97>\u001b[0m in \u001b[0;36m<module>\u001b[0;34m()\u001b[0m\n\u001b[0;32m----> 1\u001b[0;31m \u001b[0mvocab_size\u001b[0m \u001b[0;34m=\u001b[0m \u001b[0mwm\u001b[0m\u001b[0;34m.\u001b[0m\u001b[0mshape\u001b[0m\u001b[0;34m[\u001b[0m\u001b[0;36m0\u001b[0m\u001b[0;34m]\u001b[0m\u001b[0;34m\u001b[0m\u001b[0;34m\u001b[0m\u001b[0m\n\u001b[0m\u001b[1;32m      2\u001b[0m \u001b[0membedding_dim\u001b[0m \u001b[0;34m=\u001b[0m \u001b[0;36m50\u001b[0m\u001b[0;34m\u001b[0m\u001b[0;34m\u001b[0m\u001b[0m\n\u001b[1;32m      3\u001b[0m \u001b[0mmax_dialog_length\u001b[0m \u001b[0;34m=\u001b[0m \u001b[0;36m200\u001b[0m\u001b[0;34m\u001b[0m\u001b[0;34m\u001b[0m\u001b[0m\n",
            "\u001b[0;31mNameError\u001b[0m: name 'wm' is not defined"
          ]
        }
      ],
      "source": [
        "vocab_size = wm.shape[0]\n",
        "embedding_dim = 50\n",
        "max_dialog_length = 200"
      ]
    },
    {
      "cell_type": "code",
      "execution_count": null,
      "metadata": {
        "id": "KueDNy1q4oAS"
      },
      "outputs": [],
      "source": [
        "embedding_dim = 5\n",
        "\n",
        "modelemb_inplace = Sequential([\n",
        "  vectorize_layer,\n",
        "  layers.Embedding(vocab_size, embedding_dim, weights=[wm], input_length=max_dialog_length, name=\"embedding\", trainable=False),\n",
        "  layers.GlobalAveragePooling1D(),\n",
        "  layers.Dense(10, activation='relu'),\n",
        "  layers.Dense(len(target_simpsons), activation='softmax')\n",
        "])"
      ]
    },
    {
      "cell_type": "code",
      "execution_count": null,
      "metadata": {
        "id": "3dVwfPyD40Ph"
      },
      "outputs": [],
      "source": [
        "modelemb_inplace.compile(loss='categorical_crossentropy',  optimizer='adam', metrics=['accuracy'])"
      ]
    },
    {
      "cell_type": "code",
      "execution_count": null,
      "metadata": {
        "id": "WflK40_u41n1"
      },
      "outputs": [],
      "source": [
        "modelemb_inplace.fit(\n",
        "    train_dataset.batch(batch_size),\n",
        "    validation_data=test_dataset.batch(batch_size),\n",
        "    epochs=epochs)"
      ]
    },
    {
      "cell_type": "code",
      "execution_count": null,
      "metadata": {
        "id": "cFiJDw5M428X"
      },
      "outputs": [],
      "source": [
        "modelemb_inplace.summary()"
      ]
    },
    {
      "cell_type": "markdown",
      "metadata": {
        "id": "QsISMe6i5W5k"
      },
      "source": [
        "### Output mode: binary"
      ]
    },
    {
      "cell_type": "code",
      "execution_count": null,
      "metadata": {
        "id": "lSx2kXCx5XkQ"
      },
      "outputs": [],
      "source": [
        "vectorize_layer_bin = TextVectorization(\n",
        "    ngrams=None,\n",
        "    max_tokens=None, vocabulary=None,\n",
        "    output_mode='binary', output_sequence_length=None, pad_to_max_tokens=True,\n",
        ")\n",
        "\n",
        "vectorize_layer_bin.adapt(text_dataset.batch(batch_size))"
      ]
    },
    {
      "cell_type": "code",
      "execution_count": null,
      "metadata": {
        "id": "wJGqkaBD5bCm"
      },
      "outputs": [],
      "source": [
        "vocab_size = len(vectorize_layer_bin.get_vocabulary())\n",
        "vocab_size"
      ]
    },
    {
      "cell_type": "code",
      "execution_count": null,
      "metadata": {
        "id": "_X-JpPgN5dNn"
      },
      "outputs": [],
      "source": [
        "embedding_dim = 5\n",
        "\n",
        "modelemb_bin = Sequential([\n",
        "  vectorize_layer_bin ,\n",
        "  layers.Embedding(vocab_size, embedding_dim, name=\"embedding\"),\n",
        "  layers.GlobalAveragePooling1D(),\n",
        "  layers.Dense(10, activation='relu'),\n",
        "  layers.Dense(len(target_simpsons), activation='softmax')\n",
        "])"
      ]
    },
    {
      "cell_type": "code",
      "execution_count": null,
      "metadata": {
        "id": "Gi2IS4tK5e_w"
      },
      "outputs": [],
      "source": [
        "modelemb_bin.compile(loss='categorical_crossentropy',  optimizer='adam', metrics=['accuracy'])"
      ]
    },
    {
      "cell_type": "code",
      "execution_count": null,
      "metadata": {
        "id": "WBi3eNSL5gUg"
      },
      "outputs": [],
      "source": [
        "modelemb_bin.fit(\n",
        "    train_dataset.batch(batch_size),\n",
        "    validation_data=test_dataset.batch(batch_size),\n",
        "    epochs=epochs)"
      ]
    },
    {
      "cell_type": "code",
      "execution_count": null,
      "metadata": {
        "id": "Jc2j5vKD5huo"
      },
      "outputs": [],
      "source": [
        "modelemb_bin.summary()"
      ]
    },
    {
      "cell_type": "markdown",
      "metadata": {
        "id": "yGI_btP25jzs"
      },
      "source": [
        "### Output mode: int"
      ]
    },
    {
      "cell_type": "code",
      "execution_count": null,
      "metadata": {
        "id": "nm-scLXz5k7h"
      },
      "outputs": [],
      "source": [
        "vectorize_layer_int = TextVectorization(\n",
        "    ngrams=None,\n",
        "    max_tokens=None, vocabulary=None,\n",
        "    output_mode='int', output_sequence_length=None, pad_to_max_tokens=True,\n",
        ")\n",
        "\n",
        "vectorize_layer_int.adapt(text_dataset.batch(batch_size))"
      ]
    },
    {
      "cell_type": "code",
      "execution_count": null,
      "metadata": {
        "id": "TRT_c3nH5m3q"
      },
      "outputs": [],
      "source": [
        "vocab_size = len(vectorize_layer_int.get_vocabulary())\n",
        "vocab_size"
      ]
    },
    {
      "cell_type": "code",
      "execution_count": null,
      "metadata": {
        "id": "VyARwlLM5ojC"
      },
      "outputs": [],
      "source": [
        "embedding_dim = 5\n",
        "\n",
        "modelemb_int = Sequential([\n",
        "  vectorize_layer_int,\n",
        "  layers.Embedding(vocab_size, embedding_dim, name=\"embedding\"),\n",
        "  layers.GlobalAveragePooling1D(),\n",
        "  layers.Dense(10, activation='relu'),\n",
        "  layers.Dense(len(target_simpsons), activation='softmax')\n",
        "])"
      ]
    },
    {
      "cell_type": "code",
      "execution_count": null,
      "metadata": {
        "id": "cK13cyVT5qQh"
      },
      "outputs": [],
      "source": [
        "modelemb_int.compile(loss='categorical_crossentropy',  optimizer='adam', metrics=['accuracy'])"
      ]
    },
    {
      "cell_type": "code",
      "execution_count": null,
      "metadata": {
        "id": "wkT0T7e95uWp"
      },
      "outputs": [],
      "source": [
        "modelemb_int.fit(\n",
        "    train_dataset.batch(batch_size),\n",
        "    validation_data=test_dataset.batch(batch_size),\n",
        "    epochs=epochs)"
      ]
    },
    {
      "cell_type": "code",
      "execution_count": null,
      "metadata": {
        "id": "1KKjp2xt5vq_"
      },
      "outputs": [],
      "source": [
        "modelemb_int.summary()"
      ]
    },
    {
      "cell_type": "markdown",
      "metadata": {
        "id": "0hj-nQF26HJh"
      },
      "source": [
        "### Output mode: tf-idf"
      ]
    },
    {
      "cell_type": "code",
      "execution_count": null,
      "metadata": {
        "id": "LQFxlgWE6KAH"
      },
      "outputs": [],
      "source": [
        "vectorize_layer_tf-idf = TextVectorization(\n",
        "    ngrams=None,\n",
        "    max_tokens=None, vocabulary=None,\n",
        "    output_mode='tf-idf', output_sequence_length=None, pad_to_max_tokens=True,\n",
        ")\n",
        "\n",
        "vectorize_layer_tf-idf.adapt(text_dataset.batch(batch_size))"
      ]
    },
    {
      "cell_type": "code",
      "execution_count": null,
      "metadata": {
        "id": "mbmccGbF6L6z"
      },
      "outputs": [],
      "source": [
        "vocab_size = len(vectorize_layer_tf-idf.get_vocabulary())\n",
        "vocab_size"
      ]
    },
    {
      "cell_type": "code",
      "execution_count": null,
      "metadata": {
        "id": "hp2CsZY46Nvz"
      },
      "outputs": [],
      "source": [
        "embedding_dim = 5\n",
        "\n",
        "modelemb_tf-idf = Sequential([\n",
        "  vectorize_layer_tf-idf,\n",
        "  layers.Embedding(vocab_size, embedding_dim, name=\"embedding\"),\n",
        "  layers.GlobalAveragePooling1D(),\n",
        "  layers.Dense(10, activation='relu'),\n",
        "  layers.Dense(len(target_simpsons), activation='softmax')\n",
        "])"
      ]
    },
    {
      "cell_type": "code",
      "execution_count": null,
      "metadata": {
        "id": "SuIDVpic6Q8y"
      },
      "outputs": [],
      "source": [
        "modelemb_tf-idf.compile(loss='categorical_crossentropy',  optimizer='adam', metrics=['accuracy'])"
      ]
    },
    {
      "cell_type": "code",
      "execution_count": null,
      "metadata": {
        "id": "2Gq8heqW6SoV"
      },
      "outputs": [],
      "source": [
        "modelemb_tf-idf.fit(\n",
        "    train_dataset.batch(batch_size),\n",
        "    validation_data=test_dataset.batch(batch_size),\n",
        "    epochs=epochs,)"
      ]
    },
    {
      "cell_type": "code",
      "execution_count": null,
      "metadata": {
        "id": "zfyWs_cd6WVC"
      },
      "outputs": [],
      "source": [
        "modelemb_tf-idf.summary()"
      ]
    }
  ],
  "metadata": {
    "language_info": {},
    "orig_nbformat": 3
  },
  "nbformat": 4,
  "nbformat_minor": 0
}