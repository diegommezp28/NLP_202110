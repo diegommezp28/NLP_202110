{
 "cells": [
  {
   "cell_type": "markdown",
   "source": [
    "# Using Pushshift Module to extract Submissions Data from Reddit via Python"
   ],
   "metadata": {
    "collapsed": false
   }
  },
  {
   "cell_type": "markdown",
   "source": [
    "# Import modules"
   ],
   "metadata": {
    "collapsed": false
   }
  },
  {
   "cell_type": "code",
   "execution_count": 10,
   "outputs": [],
   "source": [
    "import ciso8601\n",
    "import pandas as pd\n",
    "import requests #Pushshift accesses Reddit via an url so this is needed\n",
    "import json #JSON manipulation\n",
    "import csv #To Convert final table into a csv file to save to your machine\n",
    "import time\n",
    "import datetime"
   ],
   "metadata": {
    "collapsed": false,
    "pycharm": {
     "name": "#%%\n"
    }
   }
  },
  {
   "cell_type": "markdown",
   "source": [
    "# Pushshift URL Examples"
   ],
   "metadata": {
    "collapsed": false
   }
  },
  {
   "cell_type": "code",
   "execution_count": 40,
   "outputs": [],
   "source": [
    "#Adapted from this https://gist.github.com/dylankilkenny/3dbf6123527260165f8c5c3bc3ee331b\n",
    "#This function builds an Pushshift URL, accesses the webpage and stores JSON data in a nested list\n",
    "def getPushshiftData(query, after, before, sub):\n",
    "    #Build URL\n",
    "    url = 'https://api.pushshift.io/reddit/search/submission/?title='+str(query)+'&size=1000&after='+str(after)+'&before='+str(before)+'&subreddit='+str(sub)\n",
    "    #Print URL to show user\n",
    "    print(url)\n",
    "    #Request URL\n",
    "    r = requests.get(url)\n",
    "    #Load JSON data from webpage into data variable\n",
    "    data = json.loads(r.text)\n",
    "    #return the data element which contains all the submissions data\n",
    "    return data['data']"
   ],
   "metadata": {
    "collapsed": false,
    "pycharm": {
     "name": "#%%\n"
    }
   }
  },
  {
   "cell_type": "markdown",
   "source": [
    "# Extract key information from Submissions\n",
    "\n",
    "We want key data for further analysis including:\n",
    "* Submission Title\n",
    "* URL\n",
    "* Flair\n",
    "* Author\n",
    "* Submission post ID\n",
    "* Score\n",
    "* Upload Time\n",
    "* No. of Comments\n",
    "* Permalink.\n"
   ],
   "metadata": {
    "collapsed": false
   }
  },
  {
   "cell_type": "code",
   "execution_count": 41,
   "outputs": [],
   "source": [
    "#This function will be used to extract the key data points from each JSON result\n",
    "def collectSubData(subm):\n",
    "    #subData was created at the start to hold all the data which is then added to our global subStats dictionary.\n",
    "    subData = list() #list to store data points\n",
    "    title = subm['title']\n",
    "    selftext = subm['selftext']\n",
    "    sub_id = subm['id']\n",
    "    created = datetime.datetime.fromtimestamp(subm['created_utc']) #1520561700.0\n",
    "\n",
    "    #Put all data points into a tuple and append to subData\n",
    "    subData.append((sub_id,title,selftext,created))\n",
    "    #Create a dictionary entry of current submission data and store all data related to it\n",
    "    subStats[sub_id] = subData"
   ],
   "metadata": {
    "collapsed": false,
    "pycharm": {
     "name": "#%%\n"
    }
   }
  },
  {
   "cell_type": "markdown",
   "source": [
    "# Update your Search Settings here"
   ],
   "metadata": {
    "collapsed": false
   }
  },
  {
   "cell_type": "code",
   "execution_count": 42,
   "outputs": [],
   "source": [
    "#Create your timestamps and queries for your search URL\n",
    "#https://www.unixtimestamp.com/index.php > Use this to create your timestamps\n",
    "after = \"1577836800\" #int(time.mktime(ciso8601.parse_datetime(date_after).timetuple())) #Submissions after this timestamp\n",
    "before = \"1607040000\" #int(time.mktime(ciso8601.parse_datetime(date_after).timetuple())) #Submissions after this timestamp\n",
    "query = \"COVID\" #Keyword(s) to look for in submissions\n",
    "sub = \"COVID\" #Which Subreddit to search in\n",
    "\n",
    "#subCount tracks the no. of total submissions we collect\n",
    "subCount = 0\n",
    "#subStats is the dictionary where we will store our data.\n",
    "subStats = {}"
   ],
   "metadata": {
    "collapsed": false,
    "pycharm": {
     "name": "#%%\n"
    }
   }
  },
  {
   "cell_type": "code",
   "execution_count": 43,
   "outputs": [
    {
     "name": "stdout",
     "output_type": "stream",
     "text": [
      "https://api.pushshift.io/reddit/search/submission/?title=COVID&size=1000&after=1577836800&before=1607040000&subreddit=COVID\n",
      "100\n",
      "2020-03-26 20:59:00\n",
      "https://api.pushshift.io/reddit/search/submission/?title=COVID&size=1000&after=1585274340&before=1607040000&subreddit=COVID\n",
      "100\n",
      "2020-04-01 21:53:37\n",
      "https://api.pushshift.io/reddit/search/submission/?title=COVID&size=1000&after=1585796017&before=1607040000&subreddit=COVID\n",
      "100\n",
      "2020-04-08 04:55:42\n",
      "https://api.pushshift.io/reddit/search/submission/?title=COVID&size=1000&after=1586339742&before=1607040000&subreddit=COVID\n",
      "100\n",
      "2020-04-12 07:54:14\n",
      "https://api.pushshift.io/reddit/search/submission/?title=COVID&size=1000&after=1586696054&before=1607040000&subreddit=COVID\n",
      "100\n",
      "2020-04-17 12:47:55\n",
      "https://api.pushshift.io/reddit/search/submission/?title=COVID&size=1000&after=1587145675&before=1607040000&subreddit=COVID\n",
      "100\n",
      "2020-04-23 15:58:54\n",
      "https://api.pushshift.io/reddit/search/submission/?title=COVID&size=1000&after=1587675534&before=1607040000&subreddit=COVID\n",
      "100\n",
      "2020-04-29 09:02:01\n",
      "https://api.pushshift.io/reddit/search/submission/?title=COVID&size=1000&after=1588168921&before=1607040000&subreddit=COVID\n",
      "100\n",
      "2020-05-06 15:52:44\n",
      "https://api.pushshift.io/reddit/search/submission/?title=COVID&size=1000&after=1588798364&before=1607040000&subreddit=COVID\n",
      "100\n",
      "2020-05-13 22:07:09\n",
      "https://api.pushshift.io/reddit/search/submission/?title=COVID&size=1000&after=1589425629&before=1607040000&subreddit=COVID\n",
      "100\n",
      "2020-05-20 01:53:05\n",
      "https://api.pushshift.io/reddit/search/submission/?title=COVID&size=1000&after=1589957585&before=1607040000&subreddit=COVID\n",
      "100\n",
      "2020-05-28 14:07:09\n",
      "https://api.pushshift.io/reddit/search/submission/?title=COVID&size=1000&after=1590692829&before=1607040000&subreddit=COVID\n",
      "100\n",
      "2020-06-09 20:53:29\n",
      "https://api.pushshift.io/reddit/search/submission/?title=COVID&size=1000&after=1591754009&before=1607040000&subreddit=COVID\n",
      "100\n",
      "2020-06-22 12:22:22\n",
      "https://api.pushshift.io/reddit/search/submission/?title=COVID&size=1000&after=1592846542&before=1607040000&subreddit=COVID\n",
      "100\n",
      "2020-07-01 14:15:44\n",
      "https://api.pushshift.io/reddit/search/submission/?title=COVID&size=1000&after=1593630944&before=1607040000&subreddit=COVID\n",
      "100\n",
      "2020-07-09 00:34:40\n",
      "https://api.pushshift.io/reddit/search/submission/?title=COVID&size=1000&after=1594272880&before=1607040000&subreddit=COVID\n",
      "100\n",
      "2020-07-14 17:58:55\n",
      "https://api.pushshift.io/reddit/search/submission/?title=COVID&size=1000&after=1594767535&before=1607040000&subreddit=COVID\n",
      "100\n",
      "2020-07-20 20:15:58\n",
      "https://api.pushshift.io/reddit/search/submission/?title=COVID&size=1000&after=1595294158&before=1607040000&subreddit=COVID\n",
      "100\n",
      "2020-07-27 03:09:52\n",
      "https://api.pushshift.io/reddit/search/submission/?title=COVID&size=1000&after=1595837392&before=1607040000&subreddit=COVID\n",
      "100\n",
      "2020-08-03 18:50:36\n",
      "https://api.pushshift.io/reddit/search/submission/?title=COVID&size=1000&after=1596498636&before=1607040000&subreddit=COVID\n",
      "100\n",
      "2020-08-10 18:24:54\n",
      "https://api.pushshift.io/reddit/search/submission/?title=COVID&size=1000&after=1597101894&before=1607040000&subreddit=COVID\n",
      "100\n",
      "2020-08-19 09:14:10\n",
      "https://api.pushshift.io/reddit/search/submission/?title=COVID&size=1000&after=1597846450&before=1607040000&subreddit=COVID\n",
      "100\n",
      "2020-08-28 23:46:51\n",
      "https://api.pushshift.io/reddit/search/submission/?title=COVID&size=1000&after=1598676411&before=1607040000&subreddit=COVID\n",
      "100\n",
      "2020-09-07 04:57:05\n",
      "https://api.pushshift.io/reddit/search/submission/?title=COVID&size=1000&after=1599472625&before=1607040000&subreddit=COVID\n",
      "100\n",
      "2020-09-14 20:06:28\n",
      "https://api.pushshift.io/reddit/search/submission/?title=COVID&size=1000&after=1600131988&before=1607040000&subreddit=COVID\n",
      "100\n",
      "2020-09-23 13:06:01\n",
      "https://api.pushshift.io/reddit/search/submission/?title=COVID&size=1000&after=1600884361&before=1607040000&subreddit=COVID\n",
      "100\n",
      "2020-10-05 00:17:30\n",
      "https://api.pushshift.io/reddit/search/submission/?title=COVID&size=1000&after=1601875050&before=1607040000&subreddit=COVID\n",
      "100\n",
      "2020-10-13 18:18:43\n",
      "https://api.pushshift.io/reddit/search/submission/?title=COVID&size=1000&after=1602631123&before=1607040000&subreddit=COVID\n",
      "100\n",
      "2020-10-23 00:25:37\n",
      "https://api.pushshift.io/reddit/search/submission/?title=COVID&size=1000&after=1603430737&before=1607040000&subreddit=COVID\n",
      "100\n",
      "2020-10-31 23:29:14\n",
      "https://api.pushshift.io/reddit/search/submission/?title=COVID&size=1000&after=1604204954&before=1607040000&subreddit=COVID\n",
      "100\n",
      "2020-11-09 13:30:51\n",
      "https://api.pushshift.io/reddit/search/submission/?title=COVID&size=1000&after=1604946651&before=1607040000&subreddit=COVID\n",
      "100\n",
      "2020-11-16 12:51:29\n",
      "https://api.pushshift.io/reddit/search/submission/?title=COVID&size=1000&after=1605549089&before=1607040000&subreddit=COVID\n",
      "100\n",
      "2020-11-21 17:30:08\n",
      "https://api.pushshift.io/reddit/search/submission/?title=COVID&size=1000&after=1605997808&before=1607040000&subreddit=COVID\n",
      "100\n",
      "2020-11-28 00:03:00\n",
      "https://api.pushshift.io/reddit/search/submission/?title=COVID&size=1000&after=1606539780&before=1607040000&subreddit=COVID\n",
      "98\n",
      "2020-12-03 11:15:13\n",
      "https://api.pushshift.io/reddit/search/submission/?title=COVID&size=1000&after=1607012113&before=1607040000&subreddit=COVID\n",
      "0\n"
     ]
    }
   ],
   "source": [
    "# We need to run this function outside the loop first to get the updated after variable\n",
    "data = getPushshiftData(query, after, before, sub)\n",
    "# Will run until all posts have been gathered i.e. When the length of data variable = 0\n",
    "# from the 'after' date up until before date\n",
    "while len(data) > 0: #The length of data is the number submissions (data[0], data[1] etc), once it hits zero (after and before vars are the same) end\n",
    "    for submission in data:\n",
    "        collectSubData(submission)\n",
    "        subCount+=1\n",
    "    # Calls getPushshiftData() with the created date of the last submission\n",
    "    print(len(data))\n",
    "    print(str(datetime.datetime.fromtimestamp(data[-1]['created_utc'])))\n",
    "    #update after variable to last created date of submission\n",
    "    after = data[-1]['created_utc']\n",
    "    #data has changed due to the new after variable provided by above code\n",
    "    data = getPushshiftData(query, after, before, sub)\n",
    "\n",
    "print(len(data))"
   ],
   "metadata": {
    "collapsed": false,
    "pycharm": {
     "name": "#%%\n"
    }
   }
  },
  {
   "cell_type": "markdown",
   "source": [
    "# Check your Submission Extraction was successful"
   ],
   "metadata": {
    "collapsed": false
   }
  },
  {
   "cell_type": "code",
   "execution_count": 44,
   "outputs": [
    {
     "name": "stdout",
     "output_type": "stream",
     "text": [
      "3398 submissions have added to list\n",
      "1st entry is:\n",
      "Coronavirus disease named Covid-19\n",
      "Last entry is:\n",
      "Covid Help - Testing - How To Properly Quarantine?\n"
     ]
    }
   ],
   "source": [
    "num_submissions = len(subStats)\n",
    "print(str(num_submissions) + \" submissions have added to list\")\n",
    "print(\"1st entry is:\")\n",
    "print(list(subStats.values())[0][0][1])\n",
    "print(\"Last entry is:\")\n",
    "print(list(subStats.values())[-1][0][1])"
   ],
   "metadata": {
    "collapsed": false,
    "pycharm": {
     "name": "#%%\n"
    }
   }
  },
  {
   "cell_type": "markdown",
   "source": [
    "# Save data to CSV file"
   ],
   "metadata": {
    "collapsed": false
   }
  },
  {
   "cell_type": "code",
   "execution_count": 23,
   "outputs": [
    {
     "name": "stdout",
     "output_type": "stream",
     "text": [
      "40 submissions have been uploaded\n"
     ]
    }
   ],
   "source": [
    "def updateSubs_file():\n",
    "    upload_count = 0\n",
    "    ts = str(round(time.time() * 1000))\n",
    "    file = \"data/reddit_\" + str(num_submissions) +\"_\" + ts + \".csv\"\n",
    "    with open(file, 'w', newline='', encoding='utf-8') as file:\n",
    "        a = csv.writer(file, delimiter=',')\n",
    "        headers = [\"Post ID\",\"Title\",\"Text\",\"Publish Date\"]\n",
    "        a.writerow(headers)\n",
    "        for sub in subStats:\n",
    "            a.writerow(subStats[sub][0])\n",
    "            upload_count+=1\n",
    "\n",
    "        print(str(upload_count) + \" submissions have been uploaded\")\n",
    "updateSubs_file()"
   ],
   "metadata": {
    "collapsed": false,
    "pycharm": {
     "name": "#%%\n"
    }
   }
  },
  {
   "cell_type": "markdown",
   "source": [
    "# Comments\n",
    "\n"
   ],
   "metadata": {
    "collapsed": false,
    "pycharm": {
     "name": "#%% md\n"
    }
   }
  }
 ],
 "metadata": {
  "kernelspec": {
   "display_name": "Python 3",
   "language": "python",
   "name": "python3"
  },
  "language_info": {
   "codemirror_mode": {
    "name": "ipython",
    "version": 2
   },
   "file_extension": ".py",
   "mimetype": "text/x-python",
   "name": "python",
   "nbconvert_exporter": "python",
   "pygments_lexer": "ipython2",
   "version": "2.7.6"
  }
 },
 "nbformat": 4,
 "nbformat_minor": 0
}