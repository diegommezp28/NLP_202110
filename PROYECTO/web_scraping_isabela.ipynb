{
 "cells": [
  {
   "cell_type": "code",
   "execution_count": null,
   "metadata": {
    "collapsed": true
   },
   "outputs": [],
   "source": []
  },
  {
   "cell_type": "markdown",
   "source": [
    "# Web Scraping\n",
    "Isabela"
   ],
   "metadata": {
    "collapsed": false,
    "pycharm": {
     "name": "#%% md\n"
    }
   }
  },
  {
   "cell_type": "code",
   "execution_count": 16,
   "outputs": [],
   "source": [
    "import json\n",
    "import tweepy\n",
    "import pandas as pd\n",
    "import time\n",
    "\n"
   ],
   "metadata": {
    "collapsed": false,
    "pycharm": {
     "name": "#%%\n"
    }
   }
  },
  {
   "cell_type": "code",
   "execution_count": 11,
   "outputs": [],
   "source": [
    "with open('credentials/twitter_credentials') as f:\n",
    "  credentials = json.load(f)\n",
    "#print(credentials)"
   ],
   "metadata": {
    "collapsed": false,
    "pycharm": {
     "name": "#%%\n"
    }
   }
  },
  {
   "cell_type": "code",
   "execution_count": 12,
   "outputs": [],
   "source": [
    "consumer_key = credentials[\"API_key\"]\n",
    "consumer_secret = credentials[\"API_secret_key\"]\n",
    "access_token = credentials[\"access_token\"]\n",
    "access_token_secret = credentials[\"access_token_secret\"]\n",
    "auth = tweepy.OAuthHandler(consumer_key, consumer_secret)\n",
    "auth.set_access_token(access_token, access_token_secret)\n",
    "api = tweepy.API(auth,wait_on_rate_limit=True)\n"
   ],
   "metadata": {
    "collapsed": false,
    "pycharm": {
     "name": "#%%\n"
    }
   }
  },
  {
   "cell_type": "code",
   "execution_count": 28,
   "outputs": [],
   "source": [
    "text_query = 'COVID'\n",
    "count = 150\n",
    "try:\n",
    " # Creation of query method using parameters\n",
    " tweets = tweepy.Cursor(api.search,q=text_query + \"-filter:retweets\", lang=\"IT\", locale=\"IT\").items(count)\n",
    "\n",
    " # Pulling information from tweets iterable object\n",
    " tweets_list = [[tweet.created_at, tweet.id, tweet.text] for tweet in tweets]\n",
    "\n",
    " # Creation of dataframe from tweets list\n",
    " # Add or remove columns as you remove tweet information\n",
    " tweets_df = pd.DataFrame(tweets_list)\n",
    "\n",
    "except BaseException as e:\n",
    "    print('failed on_status,',str(e))\n",
    "    time.sleep(3)"
   ],
   "metadata": {
    "collapsed": false,
    "pycharm": {
     "name": "#%%\n"
    }
   }
  },
  {
   "cell_type": "code",
   "execution_count": 29,
   "outputs": [
    {
     "data": {
      "text/plain": "                    0                    1  \\\n0 2021-04-04 11:10:49  1378666361459597312   \n1 2021-04-02 15:04:47  1378000464147546112   \n2 2021-04-01 04:19:42  1377475736672423936   \n3 2021-03-30 10:28:01  1376843650873884674   \n4 2021-03-28 19:49:18  1376260126903037957   \n5 2021-03-28 19:43:22  1376258633508470789   \n6 2021-03-28 09:15:59  1376100746891038721   \n\n                                                   2  \n0  not saying there aren't any young people dying...  \n1  L’Azienda Careggi sta contattando direttamente...  \n2  i know y'all are enjoying pranking one another...  \n3  Tre tipi di aziende su cui puntare nell'Europa...  \n4  L'EU sul punto di votare il Pass Verde in proc...  \n5  L'EU sul punto di votare il Pass Verde in proc...  \n6  Positive COVID case has resulted in a suspensi...  ",
      "text/html": "<div>\n<style scoped>\n    .dataframe tbody tr th:only-of-type {\n        vertical-align: middle;\n    }\n\n    .dataframe tbody tr th {\n        vertical-align: top;\n    }\n\n    .dataframe thead th {\n        text-align: right;\n    }\n</style>\n<table border=\"1\" class=\"dataframe\">\n  <thead>\n    <tr style=\"text-align: right;\">\n      <th></th>\n      <th>0</th>\n      <th>1</th>\n      <th>2</th>\n    </tr>\n  </thead>\n  <tbody>\n    <tr>\n      <th>0</th>\n      <td>2021-04-04 11:10:49</td>\n      <td>1378666361459597312</td>\n      <td>not saying there aren't any young people dying...</td>\n    </tr>\n    <tr>\n      <th>1</th>\n      <td>2021-04-02 15:04:47</td>\n      <td>1378000464147546112</td>\n      <td>L’Azienda Careggi sta contattando direttamente...</td>\n    </tr>\n    <tr>\n      <th>2</th>\n      <td>2021-04-01 04:19:42</td>\n      <td>1377475736672423936</td>\n      <td>i know y'all are enjoying pranking one another...</td>\n    </tr>\n    <tr>\n      <th>3</th>\n      <td>2021-03-30 10:28:01</td>\n      <td>1376843650873884674</td>\n      <td>Tre tipi di aziende su cui puntare nell'Europa...</td>\n    </tr>\n    <tr>\n      <th>4</th>\n      <td>2021-03-28 19:49:18</td>\n      <td>1376260126903037957</td>\n      <td>L'EU sul punto di votare il Pass Verde in proc...</td>\n    </tr>\n    <tr>\n      <th>5</th>\n      <td>2021-03-28 19:43:22</td>\n      <td>1376258633508470789</td>\n      <td>L'EU sul punto di votare il Pass Verde in proc...</td>\n    </tr>\n    <tr>\n      <th>6</th>\n      <td>2021-03-28 09:15:59</td>\n      <td>1376100746891038721</td>\n      <td>Positive COVID case has resulted in a suspensi...</td>\n    </tr>\n  </tbody>\n</table>\n</div>"
     },
     "execution_count": 29,
     "metadata": {},
     "output_type": "execute_result"
    }
   ],
   "source": [
    "tweets_df"
   ],
   "metadata": {
    "collapsed": false,
    "pycharm": {
     "name": "#%%\n"
    }
   }
  },
  {
   "cell_type": "code",
   "execution_count": null,
   "outputs": [],
   "source": [
    "tweets_df"
   ],
   "metadata": {
    "collapsed": false,
    "pycharm": {
     "name": "#%%\n"
    }
   }
  }
 ],
 "metadata": {
  "kernelspec": {
   "display_name": "Python 3",
   "language": "python",
   "name": "python3"
  },
  "language_info": {
   "codemirror_mode": {
    "name": "ipython",
    "version": 2
   },
   "file_extension": ".py",
   "mimetype": "text/x-python",
   "name": "python",
   "nbconvert_exporter": "python",
   "pygments_lexer": "ipython2",
   "version": "2.7.6"
  }
 },
 "nbformat": 4,
 "nbformat_minor": 0
}