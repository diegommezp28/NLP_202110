{
 "cells": [
  {
   "cell_type": "code",
   "execution_count": null,
   "metadata": {
    "collapsed": true
   },
   "outputs": [],
   "source": []
  },
  {
   "cell_type": "code",
   "execution_count": null,
   "outputs": [],
   "source": [
    "## Punto 4 - Fine Tunning"
   ],
   "metadata": {
    "collapsed": false,
    "pycharm": {
     "name": "#%%\n"
    }
   }
  },
  {
   "cell_type": "code",
   "execution_count": 2,
   "outputs": [],
   "source": [
    "import json"
   ],
   "metadata": {
    "collapsed": false,
    "pycharm": {
     "name": "#%%\n"
    }
   }
  },
  {
   "cell_type": "code",
   "execution_count": 5,
   "outputs": [],
   "source": [
    "do_fine_tuning = False\n",
    "\n",
    "lang = \"italian\"\n",
    "\n",
    "#HPC calculated files\n",
    "input_encodings_file = f\"data_hpc/{lang}/train_encoding_{lang}.pkl\"\n",
    "output_model_file = f\"data_hpc/{lang}/model_post_tunning_{lang}.pkl\"\n",
    "\n",
    "#Models path\n",
    "model_folder_path = f'models/{lang}/qna_english_custom'\n",
    "\n",
    "#Dataset\n",
    "dataset_path = f\"qna_database/{lang}/{lang}.json\""
   ],
   "metadata": {
    "collapsed": false,
    "pycharm": {
     "name": "#%%\n"
    }
   }
  },
  {
   "cell_type": "code",
   "execution_count": 10,
   "outputs": [
    {
     "name": "stdout",
     "output_type": "stream",
     "text": [
      "Contextos 943, Preguntas 943, Respuestas 943\n"
     ]
    },
    {
     "data": {
      "text/plain": "\"Qual è la causa principale dell'infezione da HIV-1 nei bambini?\""
     },
     "execution_count": 10,
     "metadata": {},
     "output_type": "execute_result"
    }
   ],
   "source": [
    "contexts = []\n",
    "questions = []\n",
    "answers = []\n",
    "\n",
    "with open(dataset_path, \"r\") as file:\n",
    "    for line in file:\n",
    "        doc = json.loads(line)\n",
    "        #print(doc)\n",
    "        #print(doc[\"context\"])\n",
    "        contexts.append(doc[\"context\"])\n",
    "        answers.append(doc[\"answer\"])\n",
    "        questions.append(doc[\"question\"])\n",
    "\n",
    "print(f\"Contextos {str(len(contexts))}, Preguntas {str(len(questions))}, Respuestas {str(len(answers))}\")\n",
    "\n",
    "\n",
    "questions[2]"
   ],
   "metadata": {
    "collapsed": false,
    "pycharm": {
     "name": "#%%\n"
    }
   }
  }
 ],
 "metadata": {
  "kernelspec": {
   "display_name": "Python 3",
   "language": "python",
   "name": "python3"
  },
  "language_info": {
   "codemirror_mode": {
    "name": "ipython",
    "version": 2
   },
   "file_extension": ".py",
   "mimetype": "text/x-python",
   "name": "python",
   "nbconvert_exporter": "python",
   "pygments_lexer": "ipython2",
   "version": "2.7.6"
  }
 },
 "nbformat": 4,
 "nbformat_minor": 0
}