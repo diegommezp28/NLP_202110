{
 "cells": [
  {
   "cell_type": "markdown",
   "source": [
    "# Punto 4 - Italiano"
   ],
   "metadata": {
    "collapsed": false,
    "pycharm": {
     "name": "#%% md\n"
    }
   }
  },
  {
   "cell_type": "code",
   "execution_count": 19,
   "metadata": {
    "collapsed": true
   },
   "outputs": [],
   "source": [
    "from transformers import BertForQuestionAnswering, AutoTokenizer"
   ]
  },
  {
   "cell_type": "markdown",
   "source": [
    "## Descarga del modelo"
   ],
   "metadata": {
    "collapsed": false
   }
  },
  {
   "cell_type": "code",
   "execution_count": 20,
   "outputs": [],
   "source": [
    "modelname = 'mrm8488/bert-italian-finedtuned-squadv1-it-alfa'\n",
    "\n",
    "model = BertForQuestionAnswering.from_pretrained(modelname)\n",
    "tokenizer = AutoTokenizer.from_pretrained(modelname)\n"
   ],
   "metadata": {
    "collapsed": false,
    "pycharm": {
     "name": "#%%\n"
    }
   }
  },
  {
   "cell_type": "markdown",
   "source": [
    "## Creación del pipeline"
   ],
   "metadata": {
    "collapsed": false
   }
  },
  {
   "cell_type": "code",
   "execution_count": 21,
   "outputs": [],
   "source": [
    "from transformers import pipeline\n",
    "nlp = pipeline('question-answering', model=model, tokenizer=tokenizer)\n",
    "\n"
   ],
   "metadata": {
    "collapsed": false,
    "pycharm": {
     "name": "#%%\n"
    }
   }
  },
  {
   "cell_type": "markdown",
   "source": [
    "## Pruebas en Italiano"
   ],
   "metadata": {
    "collapsed": false
   }
  },
  {
   "cell_type": "code",
   "execution_count": 22,
   "outputs": [
    {
     "data": {
      "text/plain": "{'score': 0.4643324315547943,\n 'start': 605,\n 'end': 621,\n 'answer': 'variante inglese'}"
     },
     "execution_count": 22,
     "metadata": {},
     "output_type": "execute_result"
    }
   ],
   "source": [
    "context = \"L’incidenza sull’intero territorio nazionale continua a diminuire e ha raggiunto valori che, attraverso l’attivazione di intense attività di tracciamento sistematico, possono consentire una gestione basata sul contenimento ovvero sull’identificazione dei casi e sul tracciamento dei loro contatti. La pressione sui servizi ospedalieri si conferma al di sotto della soglia critica in tutte le Regioni/PA e la stima dell’indice di trasmissibilità Rt medio calcolato sui casi sintomatici è stabilmente al di sotto della soglia epidemica.La prevalente circolazione in Italia della variante B.1.1.7 (nota come variante inglese) e la presenza di altre varianti che possono eludere parzialmente la risposta immunitaria, richiede tuttavia di continuare a monitorare con attenzione la situazione e mantenere cautela e gradualità nella gestione dell’epidemia.\"\n",
    "\n",
    "nlp({\n",
    "    'question': \"¿Cual'è la variante prevalente?\",\n",
    "    'context': context\n",
    "})\n",
    "\n",
    "\n"
   ],
   "metadata": {
    "collapsed": false,
    "pycharm": {
     "name": "#%%\n"
    }
   }
  },
  {
   "cell_type": "code",
   "execution_count": 23,
   "outputs": [
    {
     "data": {
      "text/plain": "{'score': 0.9873538613319397,\n 'start': 168,\n 'end': 181,\n 'answer': '12 marzo 2021'}"
     },
     "execution_count": 23,
     "metadata": {},
     "output_type": "execute_result"
    }
   ],
   "source": [
    "context = \"Il Piano, elaborato da Ministero della Salute, Commissario Straordinario per l’Emergenza, Istituto Superiore di Sanità, Agenas e Aifa, è stato adottato con Decreto del 12 marzo 2021. Il 13 marzo 2021 è stato diffuso il Piano vaccinale del Commissario straordinario per l’esecuzione della campagna vaccinale nazionale. Elaborato in armonia con il Piano strategico nazionale del Ministero della Salute, fissa le linee operative per completare al più presto la campagna vaccinale.\"\n",
    "\n",
    "nlp({\n",
    "    'question': \"¿Quando si è adottato il Piano?\",\n",
    "    'context': context\n",
    "})\n",
    "\n",
    "\n"
   ],
   "metadata": {
    "collapsed": false,
    "pycharm": {
     "name": "#%%\n"
    }
   }
  }
 ],
 "metadata": {
  "kernelspec": {
   "display_name": "Python 3",
   "language": "python",
   "name": "python3"
  },
  "language_info": {
   "codemirror_mode": {
    "name": "ipython",
    "version": 2
   },
   "file_extension": ".py",
   "mimetype": "text/x-python",
   "name": "python",
   "nbconvert_exporter": "python",
   "pygments_lexer": "ipython2",
   "version": "2.7.6"
  }
 },
 "nbformat": 4,
 "nbformat_minor": 0
}