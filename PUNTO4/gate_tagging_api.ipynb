{
 "metadata": {
  "language_info": {
   "codemirror_mode": {
    "name": "ipython",
    "version": 3
   },
   "file_extension": ".py",
   "mimetype": "text/x-python",
   "name": "python",
   "nbconvert_exporter": "python",
   "pygments_lexer": "ipython3",
   "version": "3.7.10"
  },
  "orig_nbformat": 2,
  "kernelspec": {
   "name": "python3710jvsc74a57bd06c70104609522f67cb30e8200dfa6f77a5bec0e1b1538a23f62dccdf26f51f37",
   "display_name": "Python 3.7.10 64-bit ('TF-Keras': conda)"
  }
 },
 "nbformat": 4,
 "nbformat_minor": 2,
 "cells": [
  {
   "cell_type": "code",
   "execution_count": 112,
   "metadata": {},
   "outputs": [],
   "source": [
    "import requests\n",
    "import time\n",
    "import json\n",
    "import pandas as pd\n",
    "import unidecode\n",
    "import pickle5 as pk"
   ]
  },
  {
   "cell_type": "code",
   "execution_count": 9,
   "metadata": {},
   "outputs": [],
   "source": [
    "spanish_path = './datasets/es.json'"
   ]
  },
  {
   "cell_type": "code",
   "execution_count": 15,
   "metadata": {},
   "outputs": [
    {
     "output_type": "stream",
     "name": "stdout",
     "text": [
      "(98932, 8)\n"
     ]
    },
    {
     "output_type": "execute_result",
     "data": {
      "text/plain": [
       "0    Vacuna prioritaria para profesores; presupuest...\n",
       "1    Medio like y digo que tengo covid para no ir a...\n",
       "2    Colegio Los Alerces con 12 cursos en cuarenten...\n",
       "3    El candidato Mario Aguilar (ex presidente del ...\n",
       "4    Todas la Madres que protestan y desean que sus...\n",
       "5    Hace muchos meses lo dije y me sostengo: los c...\n",
       "6    Muy buena gestión organizada por la Federación...\n",
       "7    📺 Termina el estado de alarma pero el virus si...\n",
       "8    Les recomiendo este hilo, acerca de algunas me...\n",
       "9    Argentina: Escándalo por fiesta clandestina en...\n",
       "Name: text, dtype: object"
      ]
     },
     "metadata": {},
     "execution_count": 15
    }
   ],
   "source": [
    "file = open(spanish_path, 'r')\n",
    "data = []\n",
    "for line in file:\n",
    "    data.append(json.loads(line))\n",
    "\n",
    "text_raw_df = pd.json_normalize(data)\n",
    "\n",
    "print(text_raw_df.shape)\n",
    "text_raw_df['text'].head(10)"
   ]
  },
  {
   "cell_type": "code",
   "execution_count": 107,
   "metadata": {},
   "outputs": [
    {
     "output_type": "stream",
     "name": "stdout",
     "text": [
      "0.564272403717041\n"
     ]
    }
   ],
   "source": [
    "start_time = time.time()\n",
    "r = None\n",
    "for i in range(1):\n",
    "    headers = {'Content-Type': 'text/plain'}\n",
    "    r = requests.post('http://localhost:8080/', headers=headers, data=unidecode.unidecode('#PiñeraCuliao seguro que otro presidente hubiera podido llevar la pandemia, déjense de tirar mierda,          Viajen a cuba total en ese país serán felices , junto con Jadue, CHV, la Red , colegio médico y cuantas personas de izquierda, buenas para el veneno'))\n",
    "end_time = time.time()\n",
    "print(end_time-start_time)"
   ]
  },
  {
   "cell_type": "code",
   "execution_count": 83,
   "metadata": {},
   "outputs": [
    {
     "output_type": "execute_result",
     "data": {
      "text/plain": [
       "'#PiñeraCuliao seguro que otro presidente hubiera podido llevar la pandemia, déjense de tirar mierda,          Viajen a cuba total en ese país serán felices , junto con Jadue, CHV, la Red , colegio médico y cuantas personas de izquierda, buenas para el veneno'"
      ]
     },
     "metadata": {},
     "execution_count": 83
    }
   ],
   "source": [
    "b'#Pi\\xc3\\xb1eraCuliao seguro que otro presidente hubiera podido llevar la pandemia, d\\xc3\\xa9jense de tirar mierda,          Viajen a cuba total en ese pa\\xc3\\xads ser\\xc3\\xa1n felices , junto con Jadue, CHV, la Red , colegio m\\xc3\\xa9dico y cuantas personas de izquierda, buenas para el veneno'.decode('utf-8')"
   ]
  },
  {
   "cell_type": "code",
   "execution_count": 108,
   "metadata": {},
   "outputs": [
    {
     "output_type": "execute_result",
     "data": {
      "text/plain": [
       "{'text': '#PineraCuliao seguro que otro presidente hubiera podido llevar la pandemia, dejense de tirar mierda,          Viajen a cuba total en ese pais seran felices , junto con Jadue, CHV, la Red , colegio medico y cuantas personas de izquierda, buenas para el veneno',\n",
       " 'entities': {'MisinfoClass': [{'indices': [0, 258],\n",
       "    'class': 'Consp',\n",
       "    'top1 topic': 'read,click,please,link,vaccine,full,ecuador,migal,institute,kit',\n",
       "    'top2 topic': 'full,please,ecuadorian,patent,click,ecuador,straight,ecuadorians,virus,viruses',\n",
       "    'top3 topic': 'conspiracy,link,viruses,coronaviruses,flu,please,development,trump,different,infectious'}],\n",
       "  'Attention': [{'indices': [14, 20],\n",
       "    'score': '0.02009045',\n",
       "    'string': 'seguro'},\n",
       "   {'indices': [30, 40], 'score': '0.05594565', 'string': 'presidente'},\n",
       "   {'indices': [41, 48], 'score': '0.02138834', 'string': 'hubiera'},\n",
       "   {'indices': [49, 55], 'score': '0.020111157', 'string': 'podido'},\n",
       "   {'indices': [119, 123], 'score': '0.027299818', 'string': 'cuba'},\n",
       "   {'indices': [124, 129], 'score': '0.02669658', 'string': 'total'},\n",
       "   {'indices': [142, 147], 'score': '0.019352261', 'string': 'seran'},\n",
       "   {'indices': [175, 178], 'score': '0.023784352', 'string': 'chv'},\n",
       "   {'indices': [189, 196], 'score': '0.020119196', 'string': 'colegio'},\n",
       "   {'indices': [214, 222], 'score': '0.027161147', 'string': 'personas'},\n",
       "   {'indices': [237, 243], 'score': '0.019788746', 'string': 'buenas'}]}}"
      ]
     },
     "metadata": {},
     "execution_count": 108
    }
   ],
   "source": [
    "# print(r.json()['entities']['MisinfoClass'][0]['class'])\n",
    "r.json()"
   ]
  },
  {
   "cell_type": "code",
   "execution_count": 51,
   "metadata": {},
   "outputs": [],
   "source": [
    "i = 9\n",
    "df_slice = text_raw_df.iloc[i*100:(i+1)*100,:]\n",
    "tags = ['class']*df_slice.shape[0]\n"
   ]
  },
  {
   "cell_type": "code",
   "execution_count": 71,
   "metadata": {},
   "outputs": [
    {
     "output_type": "execute_result",
     "data": {
      "text/plain": [
       "        author_id                                               text lang  \\\n",
       "900  2.632682e+08  En modalidad híbrida, este martes los alumnos ...   es   \n",
       "901  1.201561e+18  Docentes y personal administrativo del Colegio...   es   \n",
       "902  8.754342e+07  @marcoporchile Toda la razón , obligando a los...   es   \n",
       "903  1.379482e+18  No me voy a ir al colegio por 10 días por unos...   es   \n",
       "904  4.724394e+09  El Colegio de Puebla A.C. Participó el día de ...   es   \n",
       "..            ...                                                ...  ...   \n",
       "995  3.774977e+08  Buen sábado a todos...que alguien le avise al ...   es   \n",
       "996  1.107380e+18  David García García (@OjodeThot) natural de Va...   es   \n",
       "997  1.242503e+08  Once nuevos brotes activos de Covid-19 en Sego...   es   \n",
       "998  5.255602e+08  Iniciamos con los colegios de Trabajo Social l...   es   \n",
       "999  1.743837e+08  Me parece absurdo que el sector de los restaur...   es   \n",
       "\n",
       "                                   context_annotations                   id  \\\n",
       "900  [{'domain': {'id': '123', 'name': 'Ongoing New...  1387047604085661715   \n",
       "901  [{'domain': {'id': '123', 'name': 'Ongoing New...  1379130083152134144   \n",
       "902  [{'domain': {'id': '123', 'name': 'Ongoing New...  1379206942682402820   \n",
       "903  [{'domain': {'id': '123', 'name': 'Ongoing New...  1387187668149227524   \n",
       "904  [{'domain': {'id': '123', 'name': 'Ongoing New...  1387187297972625411   \n",
       "..                                                 ...                  ...   \n",
       "995  [{'domain': {'id': '123', 'name': 'Ongoing New...  1391040839313412097   \n",
       "996  [{'domain': {'id': '123', 'name': 'Ongoing New...  1387043067862011912   \n",
       "997  [{'domain': {'id': '123', 'name': 'Ongoing New...  1387033804670390274   \n",
       "998  [{'domain': {'id': '123', 'name': 'Ongoing New...  1390618066309033985   \n",
       "999  [{'domain': {'id': '123', 'name': 'Ongoing New...  1379036449769672705   \n",
       "\n",
       "                   created_at    date_str       hashtag   tags  \n",
       "900  2021-04-27T14:14:53.000Z  2021-04-27  ['Saltillo']  class  \n",
       "901  2021-04-05T17:53:29.000Z  2021-04-05   ['COVID19']  class  \n",
       "902  2021-04-05T22:58:54.000Z  2021-04-05            []  class  \n",
       "903  2021-04-27T23:31:27.000Z  2021-04-27            []  class  \n",
       "904  2021-04-27T23:29:59.000Z  2021-04-27            []  class  \n",
       "..                        ...         ...           ...    ...  \n",
       "995  2021-05-08T14:42:35.000Z  2021-05-08            []  class  \n",
       "996  2021-04-27T13:56:52.000Z  2021-04-27            []  class  \n",
       "997  2021-04-27T13:20:03.000Z  2021-04-27            []  class  \n",
       "998  2021-05-07T10:42:38.000Z  2021-05-07            []  class  \n",
       "999  2021-04-05T11:41:25.000Z  2021-04-05            []  class  \n",
       "\n",
       "[100 rows x 9 columns]"
      ],
      "text/html": "<div>\n<style scoped>\n    .dataframe tbody tr th:only-of-type {\n        vertical-align: middle;\n    }\n\n    .dataframe tbody tr th {\n        vertical-align: top;\n    }\n\n    .dataframe thead th {\n        text-align: right;\n    }\n</style>\n<table border=\"1\" class=\"dataframe\">\n  <thead>\n    <tr style=\"text-align: right;\">\n      <th></th>\n      <th>author_id</th>\n      <th>text</th>\n      <th>lang</th>\n      <th>context_annotations</th>\n      <th>id</th>\n      <th>created_at</th>\n      <th>date_str</th>\n      <th>hashtag</th>\n      <th>tags</th>\n    </tr>\n  </thead>\n  <tbody>\n    <tr>\n      <th>900</th>\n      <td>2.632682e+08</td>\n      <td>En modalidad híbrida, este martes los alumnos ...</td>\n      <td>es</td>\n      <td>[{'domain': {'id': '123', 'name': 'Ongoing New...</td>\n      <td>1387047604085661715</td>\n      <td>2021-04-27T14:14:53.000Z</td>\n      <td>2021-04-27</td>\n      <td>['Saltillo']</td>\n      <td>class</td>\n    </tr>\n    <tr>\n      <th>901</th>\n      <td>1.201561e+18</td>\n      <td>Docentes y personal administrativo del Colegio...</td>\n      <td>es</td>\n      <td>[{'domain': {'id': '123', 'name': 'Ongoing New...</td>\n      <td>1379130083152134144</td>\n      <td>2021-04-05T17:53:29.000Z</td>\n      <td>2021-04-05</td>\n      <td>['COVID19']</td>\n      <td>class</td>\n    </tr>\n    <tr>\n      <th>902</th>\n      <td>8.754342e+07</td>\n      <td>@marcoporchile Toda la razón , obligando a los...</td>\n      <td>es</td>\n      <td>[{'domain': {'id': '123', 'name': 'Ongoing New...</td>\n      <td>1379206942682402820</td>\n      <td>2021-04-05T22:58:54.000Z</td>\n      <td>2021-04-05</td>\n      <td>[]</td>\n      <td>class</td>\n    </tr>\n    <tr>\n      <th>903</th>\n      <td>1.379482e+18</td>\n      <td>No me voy a ir al colegio por 10 días por unos...</td>\n      <td>es</td>\n      <td>[{'domain': {'id': '123', 'name': 'Ongoing New...</td>\n      <td>1387187668149227524</td>\n      <td>2021-04-27T23:31:27.000Z</td>\n      <td>2021-04-27</td>\n      <td>[]</td>\n      <td>class</td>\n    </tr>\n    <tr>\n      <th>904</th>\n      <td>4.724394e+09</td>\n      <td>El Colegio de Puebla A.C. Participó el día de ...</td>\n      <td>es</td>\n      <td>[{'domain': {'id': '123', 'name': 'Ongoing New...</td>\n      <td>1387187297972625411</td>\n      <td>2021-04-27T23:29:59.000Z</td>\n      <td>2021-04-27</td>\n      <td>[]</td>\n      <td>class</td>\n    </tr>\n    <tr>\n      <th>...</th>\n      <td>...</td>\n      <td>...</td>\n      <td>...</td>\n      <td>...</td>\n      <td>...</td>\n      <td>...</td>\n      <td>...</td>\n      <td>...</td>\n      <td>...</td>\n    </tr>\n    <tr>\n      <th>995</th>\n      <td>3.774977e+08</td>\n      <td>Buen sábado a todos...que alguien le avise al ...</td>\n      <td>es</td>\n      <td>[{'domain': {'id': '123', 'name': 'Ongoing New...</td>\n      <td>1391040839313412097</td>\n      <td>2021-05-08T14:42:35.000Z</td>\n      <td>2021-05-08</td>\n      <td>[]</td>\n      <td>class</td>\n    </tr>\n    <tr>\n      <th>996</th>\n      <td>1.107380e+18</td>\n      <td>David García García (@OjodeThot) natural de Va...</td>\n      <td>es</td>\n      <td>[{'domain': {'id': '123', 'name': 'Ongoing New...</td>\n      <td>1387043067862011912</td>\n      <td>2021-04-27T13:56:52.000Z</td>\n      <td>2021-04-27</td>\n      <td>[]</td>\n      <td>class</td>\n    </tr>\n    <tr>\n      <th>997</th>\n      <td>1.242503e+08</td>\n      <td>Once nuevos brotes activos de Covid-19 en Sego...</td>\n      <td>es</td>\n      <td>[{'domain': {'id': '123', 'name': 'Ongoing New...</td>\n      <td>1387033804670390274</td>\n      <td>2021-04-27T13:20:03.000Z</td>\n      <td>2021-04-27</td>\n      <td>[]</td>\n      <td>class</td>\n    </tr>\n    <tr>\n      <th>998</th>\n      <td>5.255602e+08</td>\n      <td>Iniciamos con los colegios de Trabajo Social l...</td>\n      <td>es</td>\n      <td>[{'domain': {'id': '123', 'name': 'Ongoing New...</td>\n      <td>1390618066309033985</td>\n      <td>2021-05-07T10:42:38.000Z</td>\n      <td>2021-05-07</td>\n      <td>[]</td>\n      <td>class</td>\n    </tr>\n    <tr>\n      <th>999</th>\n      <td>1.743837e+08</td>\n      <td>Me parece absurdo que el sector de los restaur...</td>\n      <td>es</td>\n      <td>[{'domain': {'id': '123', 'name': 'Ongoing New...</td>\n      <td>1379036449769672705</td>\n      <td>2021-04-05T11:41:25.000Z</td>\n      <td>2021-04-05</td>\n      <td>[]</td>\n      <td>class</td>\n    </tr>\n  </tbody>\n</table>\n<p>100 rows × 9 columns</p>\n</div>"
     },
     "metadata": {},
     "execution_count": 71
    }
   ],
   "source": [
    "index = list(range(i*100,(i+1)*100))\n",
    "final = pd.concat([pd.DataFrame(df_slice), pd.Series(tags, name='tags', index=index)], axis=1)\n",
    "final\n",
    "# pd.DataFrame(df_slice)\n",
    "# pd.Series(tags, index=list(range(900, 1000)))"
   ]
  },
  {
   "cell_type": "code",
   "execution_count": 109,
   "metadata": {},
   "outputs": [],
   "source": [
    "def pickleToJson(path):\n",
    "    df = None\n",
    "    with open(path, \"rb\") as output_file:\n",
    "        df = pk.load(output_file)\n",
    "    jsonFileName = path.replace(\".pkl\", \".json\")\n",
    "    df.to_json(jsonFileName, orient=\"records\", lines=True)"
   ]
  },
  {
   "cell_type": "code",
   "execution_count": 113,
   "metadata": {},
   "outputs": [],
   "source": [
    "pickleToJson('./datasets/all_data_en.pkl')"
   ]
  }
 ]
}