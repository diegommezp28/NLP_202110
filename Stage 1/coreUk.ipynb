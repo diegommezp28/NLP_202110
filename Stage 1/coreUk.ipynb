{
 "cells": [
  {
   "source": [
    "Import modules"
   ],
   "cell_type": "markdown",
   "metadata": {
    "collapsed": true
   }
  },
  {
   "cell_type": "code",
   "execution_count": 1,
   "metadata": {},
   "outputs": [],
   "source": [
    "import requests\n",
    "import datetime\n",
    "import re"
   ]
  },
  {
   "source": [
    "Defining endpoints"
   ],
   "cell_type": "markdown",
   "metadata": {}
  },
  {
   "cell_type": "code",
   "execution_count": 18,
   "metadata": {},
   "outputs": [
    {
     "output_type": "stream",
     "name": "stdout",
     "text": [
      "Path https://core.ac.uk:443/api-v2/search?apiKey=uLFsR2TgKOzkeX0iN5vWSopAVPrjJM9l\n"
     ]
    }
   ],
   "source": [
    "url = 'https://core.ac.uk:443/api-v2/search'\n",
    "apiKey = 'uLFsR2TgKOzkeX0iN5vWSopAVPrjJM9l'\n",
    "path = f'{url}?apiKey={apiKey}'\n",
    "print('Path', path)\n",
    "# Oavohb17gNZT02xLJD6iU8GrfyMCeKAk"
   ]
  },
  {
   "source": [
    "Querying"
   ],
   "cell_type": "markdown",
   "metadata": {}
  },
  {
   "cell_type": "code",
   "execution_count": 19,
   "metadata": {
    "tags": []
   },
   "outputs": [],
   "source": [
    "basic_queries = [\n",
    "    {\n",
    "        \"query\": \"title:coronavirus\",\n",
    "        \"page\": 1,\n",
    "        \"pageSize\": 10,\n",
    "    },\n",
    "    {\n",
    "        \"query\": \"title:covid\",\n",
    "        \"page\": 1,\n",
    "        \"pageSize\": 10\n",
    "    }  \n",
    "]\n",
    "r = requests.post(path, json=basic_queries)"
   ]
  },
  {
   "cell_type": "code",
   "execution_count": 24,
   "metadata": {
    "tags": []
   },
   "outputs": [
    {
     "output_type": "stream",
     "name": "stdout",
     "text": [
      "['id', 'authors', 'citations', 'contributors', 'datePublished', 'deleted', 'description', 'fullText', 'fullTextIdentifier', 'identifiers', 'journals', 'language', 'duplicateId', 'publisher', 'rawRecordXml', 'relations', 'repositories', 'repositoryDocument', 'similarities', 'subjects', 'title', 'topics', 'types', 'urls', 'year', 'doi', 'oai', 'downloadUrl', 'pdfHashValue', 'documentType', 'documentTypeConfidence', 'citationCount', 'estimatedCitationCount', 'acceptedDate', 'depositedDate', 'publishedDate', 'issn', 'attachmentCount', 'repositoryPublicReleaseDate', 'extendedMetadataAttributes', 'crossrefDocument', 'magDocument', 'orcidAuthors']\n<class 'dict'>\n2020-04-30T00:00:00\nTrue\n2020-04-30 00:00:00\nTime stamp:  1588222800.0\n"
     ]
    }
   ],
   "source": [
    "\n",
    "\n",
    "def getKeys(d):\n",
    "    return print(list(d.keys()))\n",
    "\n",
    "getKeys(r.json()[0]['data'][0]['_source'])\n",
    "print(type(r.json()[0]['data'][0]['_source']))\n",
    "print(r.json()[0]['data'][0]['_source']['datePublished'])\n",
    "print(r.json()[0]['data'][0]['_source']['description'] is None)\n",
    "date = r.json()[0]['data'][0]['_source']['datePublished']\n",
    "reg = r'\\d\\d\\d\\d-\\d?\\d-\\d?\\d'\n",
    "result = re.match(pattern=reg, string=date)\n",
    "output_date = datetime.datetime.strptime(result[0], \"%Y-%m-%d\")\n",
    "print(output_date)\n",
    "print('Time stamp: ', output_date.timestamp())\n"
   ]
  },
  {
   "source": [
    "## Query Result format\n",
    "\n",
    "***\n",
    "```\n",
    "YYY-MM-ddThh:mm:ss\n",
    "[ For each query one response object\n",
    "    {\n",
    "        \"status\": string.\n",
    "        \"totalHits\": #,\n",
    "        \"data\": [ List of retrieved resources\n",
    "        {\n",
    "            \"_index\": ,\n",
    "            \"_type\": [\"article\" or \"journal\" or \"repositories\"],\n",
    "            \"_id\": ,\n",
    "            \"_score\":,\n",
    "            \"_source\": { key:value con las siguientes keys\n",
    "            'id', 'authors', 'citations', 'contributors', 'datePublished', 'deleted', 'description',\n",
    "            'fullText', 'fullTextIdentifier', 'identifiers', 'journals', 'language', 'duplicateId',\n",
    "            'publisher', 'rawRecordXml', 'relations', 'repositories', 'repositoryDocument', 'similarities',\n",
    "             'subjects', 'title', 'topics', 'types', 'urls', 'year', 'doi', 'oai', 'downloadUrl', 'pdfHashValue',\n",
    "              'documentType', 'documentTypeConfidence', 'citationCount', 'estimatedCitationCount', 'acceptedDate',\n",
    "              'depositedDate', 'publishedDate', 'issn', 'crossrefDocument', 'magDocument'\n",
    "            }\n",
    "        },\n",
    "        {..}, \n",
    "        {..}, \n",
    "         .\n",
    "         .\n",
    "        ]\n",
    "    },\n",
    "\n",
    "    {\n",
    "\n",
    "    },\n",
    "    .\n",
    "    .\n",
    "    .\n",
    "]\n",
    "```"
   ],
   "cell_type": "markdown",
   "metadata": {}
  },
  {
   "cell_type": "code",
   "execution_count": 10,
   "metadata": {
    "tags": []
   },
   "outputs": [],
   "source": [
    "# Coger volumen\n",
    "#Cómo sé que tiene que ver con covid? Por lo pronto mira que incluya en el titulo palabras parecidas\n",
    "#Cuantos resultados pedir?? \n",
    "#---->  Get total hits\n",
    "# ---->  min(totalHits/10, 500 mil) 10% del total o maaximo 500mil. Ese es el número de resultados que sacaré de esa query\n",
    "# Empezar a pedor a lo bestia más resultados para esa query. De mil en mil? nop, de 100 en 100. Duro con el multiproccess. \n",
    " \n",
    "\n",
    "\n",
    "#Remover duplicados\n",
    "#categorizar por idioma"
   ]
  },
  {
   "source": [
    "## Getting the data asynchronously"
   ],
   "cell_type": "markdown",
   "metadata": {}
  },
  {
   "cell_type": "code",
   "execution_count": 1,
   "metadata": {},
   "outputs": [],
   "source": [
    "\n",
    "import multiprocessing as mp"
   ]
  },
  {
   "cell_type": "code",
   "execution_count": 38,
   "metadata": {},
   "outputs": [],
   "source": [
    "def processQueryResult(result):\n",
    "    pass\n",
    "\n",
    "def getQuery(query, startPage: int, endPage: int, pageSize: int, nroProcesses: int):\n",
    "    while startPage < endPage:\n",
    "        body = [\n",
    "            {\n",
    "                \"query\": query,\n",
    "                \"page\": startPage,\n",
    "                \"pageSize\": pageSize,\n",
    "            }\n",
    "        ] \n",
    "        r = requests.post(path, json=body)\n",
    "        final_json = processQueryResult(r[0][\"data\"])\n",
    "        startPage += nroProcesses\n",
    "\n",
    "\n",
    "        \n"
   ]
  },
  {
   "cell_type": "code",
   "execution_count": 6,
   "metadata": {},
   "outputs": [],
   "source": [
    "def double(n):\n",
    "    sleepTime = np.random.randint(0, 5)\n",
    "    # sleep(sleepTime)\n",
    "    return n*2\n",
    "\n",
    "def driver():\n",
    "    PROCESSES = 4\n",
    "    with mp.Pool(PROCESSES) as pool:\n",
    "        params = [(1,), (2,), (3,), (4,)]\n",
    "        results = [pool.apply_async(double, p) for  p in params]\n",
    "        for r in results:\n",
    "            print(r.get())"
   ]
  },
  {
   "cell_type": "code",
   "execution_count": 7,
   "metadata": {},
   "outputs": [],
   "source": [
    "# print(((2,)*2).get())\n",
    "driver()"
   ]
  },
  {
   "cell_type": "code",
   "execution_count": 4,
   "metadata": {
    "tags": []
   },
   "outputs": [
    {
     "output_type": "stream",
     "name": "stdout",
     "text": [
      "Path https://core.ac.uk:443/api-v2/search?apiKey=Oavohb17gNZT02xLJD6iU8GrfyMCeKAk\nc:\\Users\\diego\\Documents\\Git\\NLP_202110\\Stage 1\\datasets\\rawdata2.json\n"
     ]
    },
    {
     "output_type": "error",
     "ename": "KeyError",
     "evalue": "0",
     "traceback": [
      "\u001b[1;31m---------------------------------------------------------------------------\u001b[0m",
      "\u001b[1;31mRemoteTraceback\u001b[0m                           Traceback (most recent call last)",
      "\u001b[1;31mRemoteTraceback\u001b[0m: \n\"\"\"\nTraceback (most recent call last):\n  File \"C:\\Users\\diego\\anaconda3\\envs\\Prueba 1\\lib\\multiprocessing\\pool.py\", line 125, in worker\n    result = (True, func(*args, **kwds))\n  File \"c:\\Users\\diego\\Documents\\Git\\NLP_202110\\Stage 1\\coreUk.py\", line 68, in worker\n    print(r.json()[0]['data'])\nKeyError: 0\n\"\"\"",
      "\nThe above exception was the direct cause of the following exception:\n",
      "\u001b[1;31mKeyError\u001b[0m                                  Traceback (most recent call last)",
      "\u001b[1;32mc:\\Users\\diego\\Documents\\Git\\NLP_202110\\Stage 1\\coreUk.py\u001b[0m in \u001b[0;36m<module>\u001b[1;34m\u001b[0m\n\u001b[0;32m    114\u001b[0m \u001b[1;32mif\u001b[0m \u001b[0m__name__\u001b[0m \u001b[1;33m==\u001b[0m \u001b[1;34m\"__main__\"\u001b[0m\u001b[1;33m:\u001b[0m\u001b[1;33m\u001b[0m\u001b[1;33m\u001b[0m\u001b[0m\n\u001b[0;32m    115\u001b[0m     \u001b[0m__spec__\u001b[0m \u001b[1;33m=\u001b[0m \u001b[1;34m\"ModuleSpec(name='builtins', loader=<class '_frozen_importlib.BuiltinImporter'>)\"\u001b[0m\u001b[1;33m\u001b[0m\u001b[1;33m\u001b[0m\u001b[0m\n\u001b[1;32m--> 116\u001b[1;33m     \u001b[0mmain\u001b[0m\u001b[1;33m(\u001b[0m\u001b[1;33m)\u001b[0m\u001b[1;33m\u001b[0m\u001b[1;33m\u001b[0m\u001b[0m\n\u001b[0m",
      "\u001b[1;32mc:\\Users\\diego\\Documents\\Git\\NLP_202110\\Stage 1\\coreUk.py\u001b[0m in \u001b[0;36mmain\u001b[1;34m()\u001b[0m\n\u001b[0;32m    104\u001b[0m     \u001b[1;31m# collect results from the workers through the pool result queue\u001b[0m\u001b[1;33m\u001b[0m\u001b[1;33m\u001b[0m\u001b[1;33m\u001b[0m\u001b[0m\n\u001b[0;32m    105\u001b[0m     \u001b[1;32mfor\u001b[0m \u001b[0mjob\u001b[0m \u001b[1;32min\u001b[0m \u001b[0mjobs\u001b[0m\u001b[1;33m:\u001b[0m\u001b[1;33m\u001b[0m\u001b[1;33m\u001b[0m\u001b[0m\n\u001b[1;32m--> 106\u001b[1;33m         \u001b[0mjob\u001b[0m\u001b[1;33m.\u001b[0m\u001b[0mget\u001b[0m\u001b[1;33m(\u001b[0m\u001b[1;33m)\u001b[0m\u001b[1;33m\u001b[0m\u001b[1;33m\u001b[0m\u001b[0m\n\u001b[0m\u001b[0;32m    107\u001b[0m \u001b[1;33m\u001b[0m\u001b[0m\n\u001b[0;32m    108\u001b[0m     \u001b[1;31m#now we are done, kill the listener\u001b[0m\u001b[1;33m\u001b[0m\u001b[1;33m\u001b[0m\u001b[1;33m\u001b[0m\u001b[0m\n",
      "\u001b[1;32m~\\anaconda3\\envs\\Prueba 1\\lib\\multiprocessing\\pool.py\u001b[0m in \u001b[0;36mget\u001b[1;34m(self, timeout)\u001b[0m\n\u001b[0;32m    769\u001b[0m             \u001b[1;32mreturn\u001b[0m \u001b[0mself\u001b[0m\u001b[1;33m.\u001b[0m\u001b[0m_value\u001b[0m\u001b[1;33m\u001b[0m\u001b[1;33m\u001b[0m\u001b[0m\n\u001b[0;32m    770\u001b[0m         \u001b[1;32melse\u001b[0m\u001b[1;33m:\u001b[0m\u001b[1;33m\u001b[0m\u001b[1;33m\u001b[0m\u001b[0m\n\u001b[1;32m--> 771\u001b[1;33m             \u001b[1;32mraise\u001b[0m \u001b[0mself\u001b[0m\u001b[1;33m.\u001b[0m\u001b[0m_value\u001b[0m\u001b[1;33m\u001b[0m\u001b[1;33m\u001b[0m\u001b[0m\n\u001b[0m\u001b[0;32m    772\u001b[0m \u001b[1;33m\u001b[0m\u001b[0m\n\u001b[0;32m    773\u001b[0m     \u001b[1;32mdef\u001b[0m \u001b[0m_set\u001b[0m\u001b[1;33m(\u001b[0m\u001b[0mself\u001b[0m\u001b[1;33m,\u001b[0m \u001b[0mi\u001b[0m\u001b[1;33m,\u001b[0m \u001b[0mobj\u001b[0m\u001b[1;33m)\u001b[0m\u001b[1;33m:\u001b[0m\u001b[1;33m\u001b[0m\u001b[1;33m\u001b[0m\u001b[0m\n",
      "\u001b[1;31mKeyError\u001b[0m: 0"
     ]
    }
   ],
   "source": [
    "import os\n",
    "os.chdir(\"./\")\n",
    "%run coreUk.py"
   ]
  },
  {
   "cell_type": "code",
   "execution_count": 13,
   "metadata": {},
   "outputs": [
    {
     "output_type": "error",
     "ename": "TypeError",
     "evalue": "object of type 'NoneType' has no len()",
     "traceback": [
      "\u001b[1;31m---------------------------------------------------------------------------\u001b[0m",
      "\u001b[1;31mTypeError\u001b[0m                                 Traceback (most recent call last)",
      "\u001b[1;32m<ipython-input-13-286d39b5abc5>\u001b[0m in \u001b[0;36m<module>\u001b[1;34m\u001b[0m\n\u001b[1;32m----> 1\u001b[1;33m \u001b[0mprint\u001b[0m\u001b[1;33m(\u001b[0m\u001b[0mlen\u001b[0m\u001b[1;33m(\u001b[0m\u001b[1;32mNone\u001b[0m\u001b[1;33m)\u001b[0m\u001b[1;33m)\u001b[0m\u001b[1;33m\u001b[0m\u001b[1;33m\u001b[0m\u001b[0m\n\u001b[0m",
      "\u001b[1;31mTypeError\u001b[0m: object of type 'NoneType' has no len()"
     ]
    }
   ],
   "source": []
  }
 ],
 "metadata": {
  "kernelspec": {
   "name": "python385jvsc74a57bd0e521f3f79e4c8afd6250dbbf35d86c585e4936a8bc3a0ec6272bed964702e058",
   "display_name": "Python 3.8.5 64-bit ('Prueba 1': conda)"
  },
  "language_info": {
   "codemirror_mode": {
    "name": "ipython",
    "version": 2
   },
   "file_extension": ".py",
   "mimetype": "text/x-python",
   "name": "python",
   "nbconvert_exporter": "python",
   "pygments_lexer": "ipython2",
   "version": "3.8.5"
  }
 },
 "nbformat": 4,
 "nbformat_minor": 0
}