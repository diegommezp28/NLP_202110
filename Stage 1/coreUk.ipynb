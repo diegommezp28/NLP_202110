{
 "cells": [
  {
   "source": [
    "Import modules"
   ],
   "cell_type": "markdown",
   "metadata": {
    "collapsed": true
   }
  },
  {
   "cell_type": "code",
   "execution_count": 1,
   "metadata": {},
   "outputs": [],
   "source": [
    "import requests"
   ]
  },
  {
   "source": [
    "Defining endpoints"
   ],
   "cell_type": "markdown",
   "metadata": {}
  },
  {
   "cell_type": "code",
   "execution_count": 2,
   "metadata": {},
   "outputs": [
    {
     "output_type": "stream",
     "name": "stdout",
     "text": [
      "Path https://core.ac.uk:443/api-v2/search?apiKey=uLFsR2TgKOzkeX0iN5vWSopAVPrjJM9l\n"
     ]
    }
   ],
   "source": [
    "url = 'https://core.ac.uk:443/api-v2/search'\n",
    "apiKey = 'uLFsR2TgKOzkeX0iN5vWSopAVPrjJM9l'\n",
    "path = f'{url}?apiKey={apiKey}'\n",
    "print('Path', path)"
   ]
  },
  {
   "source": [
    "Querying"
   ],
   "cell_type": "markdown",
   "metadata": {}
  },
  {
   "cell_type": "code",
   "execution_count": 3,
   "metadata": {
    "tags": [
     "outputPrepend"
    ]
   },
   "outputs": [
    {
     "output_type": "stream",
     "name": "stdout",
     "text": [
      "median of 4 on a \\nscale ranging from 0-12) during the SARS-CoV-2 pandemic (3). However, the results have \\nto be interpreted with caution due to possible selection of healthcare workers responding \\nwith increased probability for relevant symptoms. Further research is needed with longer \\nfollow-up and more robust sampling confirming the results. Nevertheless, the surveys \\nindicate that a high percentage of healthcare workers were heavily burdened by the \\npandemic.(3,32\\u201334).  \\nPossible interventions to reduce SARS-CoV-2\\u2019s impact on healthcare workers\\u2019 \\nmental health \\nTo date, there is only very limited evidence concerning effective interventions to prevent or \\ntreat psychological strain in healthcare professionals before, during and after an \\nepidemic\\/pandemic. One study, using a pre-post design \\u2014 dealing with an Ebola outbreak \\n\\u2014showed evidence of effectively reducing mental health symptoms by offering wellbeing \\nscreening workshops (including psychological first aid) and targeted further therapy \\n(including targeted psychoeducation), if indicated (35).  \\nIn order to prevent healthcare workers bearing the high risks of both increased mental \\nhealth issues and moral concerns individual Swiss healthcare services and professional \\norganisations have adopted the WHO\\u2019s basic principles for the provision of mental health \\nsupport for healthcare workers (27). As these support measures vary in content and \\navailability between institutions, a comprehensive and coordinated mental health support \\nfor healthcare workers during and after the SARS-CoV-2 pandemic needs to be assured. \\n  6 \\n \\nAuthors: Dunja Nicca, Franziska Z\\u00fa\\u00f1iga, Antje Horsch, Suzannah Stuijfzand, Iren \\nBischofberger, Phil Larkin, Sabina De Geest, Suzanne Suggs, Marcel Tanner, Margarethe \\nWiedenmann, Manuela Eicher, Manuel Battegay, Sarah Tschudin-Sutter, Michael Simon \\n \\nRecommendations from the Task Force \\n1. During the disease outbreak or in case of another wave of infections \\n\\u25cf Cantons and the Federal Office of Public Health monitor infection, hospitalization,  \\nand death rates of health care workers. This enables the recognition of hotspots \\nwhere leadership support is particularly needed. \\n\\u25cf The cantons, the Federal Office of Public Health and healthcare providers work \\ntogether to provide enough PPE in all settings, especially in outbreak hotspots, \\nprioritizing the protection of healthcare workers and of vulnerable groups. \\n\\u25cf The cantons take the responsibility and provide financial means to ensure that all \\nHCWs have enough PPE. The canton may delegate the implementation to \\norganisations within the canton, jointly with several cantons or to a national \\norganisation. It is part of the cantonal responsibilities to coordinate and monitor \\nsuch efforts. \\n\\u25cf Infectious disease specialists and experts in infection prevention and -control from \\ncenters of expertise with the required knowledge develop appropriate prevention \\nstrategies for different organisations. In order to disseminate this know-how and \\nprovide expertise to smaller organizations and across settings, cantons need to \\nprovide additional ressources for additional staff, training and technology. Again \\ncantons may delegate the implementation to organisations within the canton or to \\na national organisation.   \\n\\u25cf Based on the recommendations of the centers of expertise healthcare providers \\nand higher education organisations educate and train staff about appropriate use \\nof PPE, infection control practices for SARS-CoV-2 and protecting mental health of \\nhealthcare workers. Uptake is supported via different media, videos and social \\nmedia links. In order to foster confidence, updated information should be provided \\nregularly about both pandemic and personal infection control procedures. Through \\neducational campaigns, the providers explain the potential impacts that healthcare \\nworkers may be experiencing on their mental health, addressing potential stigma \\nand encouraging anyone who needs help to come forward. Peer and social \\nsupport amongst healthcare colleagues is actively encouraged. This will require \\nadditional resources. \\n\\u25cf Healthcare providers ensure appropriate working hours and resting periods for \\nhealthcare workers and provide measures for self-distancing during an outbreak. \\n\\u25cf To facilitate assessment of mental health symptoms and psychological distress \\nlinked to the disease outbreak, healthcare providers in all settings and \\nindependently of the pandemic screen individuals against known risk factors (see \\nabove). The screening should include particularly symptoms of insomnia, \\nalcohol\\/drug misuse, PTSD, depression, anxiety, burnout, anger, and perceived \\nstress. These data are anonymously monitored on a cantonal level and at the \\nFederal Office of Public Health. \\n\\u25cf For those reporting mental health symptoms, interventions (a stepped programme \\nconsisting, e.g. of a workshop on psychological first aid, a workshop on \\npsychoeducation, and a brief CBT group program) should be made available. To \\n  7 \\n \\nincrease access, mental health specialists could train healthcare professionals to \\ndeliver the intervention to their peers within diverse healthcare contexts \\ncomplemented with online tools. \\n2. After the disease outbreak \\n\\u25cf Review of national, cantonal and institutional pandemic plans, PPE stocking \\nstrategies and plans for the provision of psychosocial support. The Federal Office \\nof Public Health, cantons, and healthcare providers work together to develop a \\nblueprint for workforce strategies under pandemic conditions. \\n\\u25cf In the months following the outbreak, healthcare workers\\u2019 perceived risks should \\nbe assessed, with tailored support provided in cases of continuing mental health \\nsymptoms. \\n3. Preparation before another disease outbreak  \\n\\u25cf Based on the recommendations of the centers of expertise, healthcare providers \\nand higher education institutions offer regular refresher courses in PPE use and \\ninfection control principles for staff at all levels. It will require additional resources \\nto organize and deliver such training courses. \\n\\u25cf Mental health is integrated as part of education and training in catastrophe \\npreparedness for all health care professions at all competency levels. \\n\\u25cf Healthcare providers plan for pandemics and build reserve staff capacity, including \\nplans for appropriate reallocation of staff. \\n\\u25cf A mental health crisis team to support health care workers is established to \\noversee planning for all settings and support executive management for healthcare \\nworkers\\u2019 psychosocial support. \\n\\u25cf Infectious disease specialists are trained for under-served settings, e.g. long-term \\ncare. \\n\\u25cf Infectious disease specialists prepare protocols for PPE use and infection control \\nin all settings and revise these protocols on a regular basis. \\nReferences \\n1.  Regional Office for Europe. Maintaining the delivery of essential health care \\nservices freeing up resources for the COVID-19 response while mobilizing the \\nhealth workforce for the COVID-19 response [Internet]. World Health Organisation; \\n2020 Apr [cited 2020 May 10]. Available from: \\nhttp:\\/\\/www.euro.who.int\\/__data\\/assets\\/pdf_file\\/0007\\/436354\\/strengthening-health-\\nsystems-response-COVID-19-technical-guidance-1.pdf?ua=1 \\n2.  Z\\u00fa\\u00f1iga F, Favez L. SHURP 2018 Infektionskontrolle - Resultate zu Handen \\nStrategie NOSO. University of Basel; 2020. \\n3.  Weilenmann S, Ernst J, Petry H, Sazpinar O, Pfaltz MC, Gehrke S, et al. Health \\nCare Workers Mental Health During the First Weeks of the SARS-CoV-2 Pandemic \\nin Switzerland: A Cross-Sectional Study. medRxiv. 2020 May 8; \\n4.  Dall\\u2019Ora C, Griffiths P, Ball J, Simon M, Aiken LH. Association of 12 h shifts and \\nnurses\\u2019 job satisfaction, burnout and intention to leave: findings from a cross-\\nsectional study of 12 European countries. BMJ Open. 2015 Aug 23;5(9):e008331. \\n5.  International Council of Nurses. ICN calls for data on healthcare worker infection \\nrates and deaths [Internet]. 2020 [cited 2020 May 10]. Available from: \\n  8 \\n \\nhttps:\\/\\/www.icn.ch\\/news\\/icn-calls-data-healthcare-worker-infection-rates-and-deaths \\n6.  Robert-Koch-Institut. T\\u00e4glicher Lagebericht des RKI zur Coronavirus-Krankheit-\\n2019 (COVID-19) 09.05.2020 [Internet]. 2020 [cited 2020 May 10]. Available from: \\nhttps:\\/\\/www.rki.de\\/DE\\/Content\\/InfAZ\\/N\\/Neuartiges_Coronavirus\\/Situationsberichte\\/2\\n020-05-09-de.pdf?__blob=publicationFile \\n7.  Hunter E, Price DA, Murphy E, van der Loeff IS, Baker KF, Lendrem D, et al. First \\nexperience of COVID-19 screening of health-care workers in England. Lancet. 2020 \\nMay 2;395(10234):e77\\u20138. \\n8.  Kim G, Wang M, Pan H, Neukirch J, Lei D, Hawken-Dennis E, et al. A Health \\nSystem Response to COVID-19 in Long Term Care and Post-Acute Care: A Three-\\nPhase Approach. J Am Geriatr Soc. 2020 Apr 28; \\n9.  Bae S-H, Fabry D. Assessing the relationships between nurse work hours\\/overtime \\nand nurse and patient outcomes: systematic literature review. Nurs Outlook. 2014 \\nApr;62(2):138\\u201356. \\n10.  Tsay S-F, Kao C-C, Wang H-H, Lin C-C. Nursing\\u2019s response to COVID-19: Lessons \\nlearned from SARS in Taiwan. Int J Nurs Stud. 2020 Apr 11;108:103587. \\n11.  Bagnasco A, Zanini M, Hayter M, Catania G, Sasso L. COVID 19 - a message from \\nItaly to the global nursing community. J Adv Nurs. 2020 Apr 30; \\n12.  Federal Department of Home Affairs FDHA, Federal Office of Public Health FOPH. \\nSwiss Influenza Pandemic Plan - Strategies and measures to prepare for an \\ninfluenza pandemic. Swiss Confederation; 2018. \\n13.  Peters A, Lotfinejad N, Simniceanu A, Pittet D. The economics of infection \\nprevention: why it is crucial to invest in hand hygiene and nurses during the novel \\ncoronavirus pandemic. J Infect. 2020 Apr 23; \\n14.  Houghton C, Meskell P, Delaney H, Smalle M, Glenton C, Booth A, et al. Barriers \\nand facilitators to healthcare workers\\u2019 adherence with infection prevention and \\ncontrol (IPC) guidelines for respiratory infectious diseases: a rapid qualitative \\nevidence synthesis. Cochrane Database Syst Rev. 2020 Apr 21;4:CD013582. \\n15.  Huang L, Lin G, Tang L, Yu L, Zhou Z. Special attention to nurses\\u2019 protection during \\nthe COVID-19 epidemic. Crit Care. 2020 Mar 27;24(1):120. \\n16.  Quigley DD, Dick A, Agarwal M, Jones KM, Mody L, Stone PW. COVID-19 \\nPreparedness in Nursing Homes in the Midst of the Pandemic. J Am Geriatr Soc. \\n2020 Apr 28; \\n17.  Wax RS. Preparing the intensive care unit for disaster. Crit Care Clin. 2019 \\nOct;35(4):551\\u201362. \\n18.  Liew MF, Siow WT, MacLaren G, See KC. Preparing for COVID-19: early \\nexperience from an intensive care unit in Singapore. Crit Care. 2020 Mar 9;24(1):83. \\n19.  Mascha EJ, Schober P, Schefold JC, Stueber F, Luedi MM. Staffing with disease-\\nbased epidemiologic indices may reduce shortage of intensive care unit staff during \\nthe COVID-19 pandemic. Anesth Analg. 2020 Apr 7; \\n20.  Bernstr\\u00f8m VH, Alves DE, Ellingsen D, Ingelsrud MH. Healthy working time \\narrangements for healthcare personnel and patients: a systematic literature review. \\nBMC Health Serv Res. 2019 Mar 27;19(1):193. \\n21.  Stuijfzand S, Deforges C, Sandoz V, Consuela-Thais S, Jaques C, Elmers J, et al. \\nPsychological impact of an epidemic\\/pandemic on the mental health of healthcare \\nprofessionals: a rapid review. (under review). 2020; DOI: 10.21203\\/rs.3.rs-30156\\/v1 \\n22.  Greenberg N, Docherty M, Gnanapragasam S, Wessely S. Managing mental health \\n  9 \\n \\nchallenges faced by healthcare workers during covid-19 pandemic. BMJ. 2020 Mar \\n26;368:m1211. \\n23.  Horsch A, Lalor J, Downe S. Moral and mental health challenges faced by maternity \\nstaff during the Covid-19 pandemic . Psychological Trauma: Theory, Research, \\nPractice, and Policy. 2020; DOI: 10.1037\\/tra0000629 . \\n24.  Williamson V, Stevelink SAM, Greenberg N. Occupational moral injury and mental \\nhealth: systematic review and meta-analysis. Br J Psychiatry. 2018;212(6):339\\u201346. \\n25.  Fernandez PR, Lord H, Halcomb PE, Moxham PL, Middleton DR, Alananzeh DI, et \\nal. Implications for COVID-19: a systematic review of nurses\\u2019 experiences of \\nworking in acute care hospital settings during a respiratory pandemic. Int J Nurs \\nStud. 2020 May;103637. \\n26.  Jun J, Tucker S, Melnyk BM. Clinician Mental Health and Well-Being During Global \\nHealthcare Crises: Evidence Learned From Prior Epidemics for COVID-19 \\nPandemic. Worldviews Evid Based Nurs. 2020 Apr 4; \\n27.  World Health Organization. Mental health and psychosocial considerations during \\nthe COVID-19 outbreak [Internet]. 2020 [cited 2020 May 10]. Available from: \\nhttps:\\/\\/www.who.int\\/docs\\/default-source\\/coronaviruse\\/mental-health-\\nconsiderations.pdf \\n28.  Vyas KJ, Delaney EM, Webb-Murphy JA, Johnston SL. Psychological Impact of \\nDeploying in Support of the U.S. Response to Ebola: A Systematic Review and \\nMeta-Analysis of Past Outbreaks. Mil Med. 2016;181(11):e1515\\u201331. \\n29.  Maunder RG, Lancee WJ, Balderson KE, Bennett JP, Borgundvaag B, Evans S, et \\nal. Long-term psychological and occupational effects of providing hospital \\nhealthcare during SARS outbreak. Emerging Infect Dis. 2006 Dec;12(12):1924\\u201332. \\n30.  Brooks SK, Dunn R, Aml\\u00f4t R, Rubin GJ, Greenberg N. A systematic, thematic \\nreview of social and occupational factors associated with psychological outcomes in \\nhealthcare employees during an infectious disease outbreak. J Occup Environ Med. \\n2018;60(3):248\\u201357. \\n31.  Park J-S, Lee E-H, Park N-R, Choi YH. Mental Health of Nurses Working at a \\nGovernment-designated Hospital During a MERS-CoV Outbreak: A Cross-sectional \\nStudy. Arch Psychiatr Nurs. 2018 Feb;32(1):2\\u20136. \\n32.  Li Z, Ge J, Yang M, Feng J, Qiao M, Jiang R, et al. Vicarious traumatization in the \\ngeneral public, members, and non-members of medical teams aiding in COVID-19 \\ncontrol. Brain Behav Immun. 2020 Mar 10; \\n33.  Lai J, Ma S, Wang Y, Cai Z, Hu J, Wei N, et al. Factors associated with mental \\nhealth outcomes among health care workers exposed to coronavirus disease 2019. \\nJAMA Netw Open. 2020 Mar 2;3(3):e203976. \\n34.  Zhang W-R, Wang K, Yin L, Zhao W-F, Xue Q, Peng M, et al. Mental Health and \\nPsychosocial Problems of Medical Health Workers during the COVID-19 Epidemic \\nin China. Psychother Psychosom. 2020 Apr 9;1\\u20139. \\n35.  Waterman S, Hunter ECM, Cole CL, Evans LJ, Greenberg N, Rubin GJ, et al. \\nTraining peers to treat Ebola centre workers with anxiety and depression in Sierra \\nLeone. Int J Soc Psychiatry. 2018;64(2):156\\u201365. \\n \\n\",\"fullTextIdentifier\":\"https:\\/\\/serval.unil.ch\\/resource\\/serval:BIB_AD4FB8CB57B9.P001\\/REF.pdf\",\"identifiers\":[\"oai:serval.unil.ch:BIB_AD4FB8CB57B9\",null],\"journals\":null,\"language\":{\"code\":\"en\",\"id\":9,\"name\":\"English\"},\"duplicateId\":null,\"publisher\":\"National COVID-19 Science Task Force\",\"rawRecordXml\":\"\\u003Crecord xmlns=\\u0022http:\\/\\/www.openarchives.org\\/OAI\\/2.0\\/\\u0022 \\u003E\\u003Cheader\\u003E\\u003Cidentifier\\u003E\\n\\n  \\n    oai:serval.unil.ch:BIB_AD4FB8CB57B9\\u003C\\/identifier\\u003E\\u003Cdatestamp\\u003E\\n    2021-01-02T02:25:26Z\\u003C\\/datestamp\\u003E\\u003CsetSpec\\u003E\\n    openaire\\u003C\\/setSpec\\u003E\\u003CsetSpec\\u003E\\n    documents\\u003C\\/setSpec\\u003E\\u003CsetSpec\\u003E\\n    urnserval\\u003C\\/setSpec\\u003E\\n  \\u003C\\/header\\u003E\\u003Cmetadata\\u003E\\u003Coai_dc:dc xmlns:dc=\\u0022http:\\/\\/purl.org\\/dc\\/elements\\/1.1\\/\\u0022 xmlns:xs=\\u0022http:\\/\\/www.w3.org\\/2001\\/XMLSchema\\u0022 xmlns:xsi=\\u0022http:\\/\\/www.w3.org\\/2001\\/XMLSchema-instance\\u0022 xmlns:oai_dc=\\u0022http:\\/\\/www.openarchives.org\\/OAI\\/2.0\\/oai_dc\\/\\u0022 xsi:schemaLocation=\\u0022http:\\/\\/www.openarchives.org\\/OAI\\/2.0\\/oai_dc\\/ http:\\/\\/www.openarchives.org\\/OAI\\/2.0\\/oai_dc.xsd\\u0022 \\u003E\\u003Cdc:identifier\\u003E\\n  \\n\\n   https:\\/\\/serval.unil.ch\\/notice\\/serval:BIB_AD4FB8CB57B9\\u003C\\/dc:identifier\\u003E\\u003Cdc:title\\u003E\\n   Protecting physical and mental health of healthcare workers\\u003C\\/dc:title\\u003E\\u003Cdc:creator\\u003E\\n   Nicca, Dunja\\u003C\\/dc:creator\\u003E\\u003Cdc:creator\\u003E\\n   Zuniga, Franziksa\\u003C\\/dc:creator\\u003E\\u003Cdc:creator\\u003E\\n   Horsch, Antje\\u003C\\/dc:creator\\u003E\\u003Cdc:creator\\u003E\\n   Stuijfzand, Suzannah\\u003C\\/dc:creator\\u003E\\u003Cdc:creator\\u003E\\n   Bischofberger, Ir\\u00e8ne\\u003C\\/dc:creator\\u003E\\u003Cdc:creator\\u003E\\n   Larkin, Philip\\u003C\\/dc:creator\\u003E\\u003Cdc:creator\\u003E\\n   De Geest, Sabina\\u003C\\/dc:creator\\u003E\\u003Cdc:creator\\u003E\\n   Suggs, Suzanne\\u003C\\/dc:creator\\u003E\\u003Cdc:creator\\u003E\\n   Wiedenmann, Margarethe\\u003C\\/dc:creator\\u003E\\u003Cdc:creator\\u003E\\n   Eicher, Manuela\\u003C\\/dc:creator\\u003E\\u003Cdc:creator\\u003E\\n   Simon, Michael\\u003C\\/dc:creator\\u003E\\u003Cdc:publisher\\u003E\\n   National COVID-19 Science Task Force\\u003C\\/dc:publisher\\u003E\\u003Cdc:type\\u003E\\n   info:eu-repo\\/semantics\\/report\\u003C\\/dc:type\\u003E\\u003Cdc:type\\u003E\\n   techreport\\u003C\\/dc:type\\u003E\\u003Cdc:date\\u003E\\n   2020-06-16\\u003C\\/dc:date\\u003E\\u003Cdc:language\\u003E\\n   eng\\u003C\\/dc:language\\u003E\\u003Cdc:identifier\\u003E\\n   https:\\/\\/serval.unil.ch\\/resource\\/serval:BIB_AD4FB8CB57B9.P001\\/REF.pdf\\u003C\\/dc:identifier\\u003E\\u003Cdc:identifier\\u003E\\n   http:\\/\\/nbn-resolving.org\\/urn\\/resolver.pl?urn=urn:nbn:ch:serval-BIB_AD4FB8CB57B99\\u003C\\/dc:identifier\\u003E\\u003Cdc:relation\\u003E\\n   info:eu-repo\\/semantics\\/altIdentifier\\/urn\\/urn:nbn:ch:serval-BIB_AD4FB8CB57B99\\u003C\\/dc:relation\\u003E\\u003Cdc:type\\u003E\\n   info:eu-repo\\/semantics\\/publishedVersion\\u003C\\/dc:type\\u003E\\u003Cdc:rights\\u003E\\n   info:eu-repo\\/semantics\\/openAccess\\u003C\\/dc:rights\\u003E\\u003Cdc:rights\\u003E\\n   Copying allowed only for non-profit organizations\\u003C\\/dc:rights\\u003E\\u003Cdc:rights\\u003E\\n   https:\\/\\/serval.unil.ch\\/disclaimer\\u003C\\/dc:rights\\u003E\\u003Cdc:format\\u003E\\n   application\\/pdf\\u003C\\/dc:format\\u003E\\n\\u003C\\/oai_dc:dc\\u003E\\n  \\u003C\\/metadata\\u003E\\n\\u003C\\/record\\u003E\",\"relations\":[\"info:eu-repo\\/semantics\\/altIdentifier\\/urn\\/urn:nbn:ch:serval-BIB_AD4FB8CB57B99\"],\"repositories\":[{\"id\":\"613\",\"openDoarId\":0,\"name\":\"Serveur acad\\u00e9mique lausannois\",\"urlHomepage\":null,\"urlOaipmh\":null,\"uriJournals\":null,\"physicalName\":\"noname\",\"source\":null,\"software\":null,\"metadataFormat\":null,\"description\":null,\"journal\":null,\"roarId\":0,\"baseId\":0,\"pdfStatus\":null,\"nrUpdates\":0,\"disabled\":false,\"lastUpdateTime\":null,\"repositoryLocation\":null}],\"repositoryDocument\":{\"pdfStatus\":1,\"textStatus\":1,\"metadataAdded\":1599231423000,\"metadataUpdated\":1609780215000,\"timestamp\":1609554326000,\"depositedDate\":1598660389000,\"indexed\":1,\"deletedStatus\":\"0\",\"pdfSize\":589039,\"tdmOnly\":false,\"pdfOrigin\":\"https:\\/\\/serval.unil.ch\\/resource\\/serval:BIB_AD4FB8CB57B9.P001\\/REF.pdf\"},\"similarities\":null,\"subjects\":[\"info:eu-repo\\/semantics\\/report\",\"techreport\",\"info:eu-repo\\/semantics\\/publishedVersion\"],\"title\":\"Protecting physical and mental health of healthcare workers\",\"topics\":[],\"types\":[],\"urls\":[\"https:\\/\\/serval.unil.ch\\/notice\\/serval:BIB_AD4FB8CB57B9\",\"http:\\/\\/nbn-resolving.org\\/urn\\/resolver.pl?urn=urn:nbn:ch:serval-BIB_AD4FB8CB57B99\",\"https:\\/\\/serval.unil.ch\\/resource\\/serval:BIB_AD4FB8CB57B9.P001\\/REF.pdf\"],\"year\":2020,\"doi\":null,\"oai\":\"oai:serval.unil.ch:BIB_AD4FB8CB57B9\",\"downloadUrl\":\"https:\\/\\/core.ac.uk\\/download\\/328892137.pdf\",\"pdfHashValue\":\"9cce3934411d81fa8aa4469d312a94273403be2c\",\"documentType\":null,\"documentTypeConfidence\":null,\"citationCount\":null,\"estimatedCitationCount\":null,\"acceptedDate\":null,\"depositedDate\":1598660389000,\"publishedDate\":1592265600000,\"issn\":null,\"attachmentCount\":0,\"repositoryPublicReleaseDate\":null,\"extendedMetadataAttributes\":null,\"crossrefDocument\":null,\"magDocument\":null,\"orcidAuthors\":null}}]}]\n"
     ]
    }
   ],
   "source": [
    "body = [    \n",
    "    {\n",
    "        \"query\": \"coronavirus\",\n",
    "        \"page\": 1,\n",
    "        \"pageSize\": 10 \n",
    "    },\n",
    "    {\n",
    "        \"query\": \"covid 19\",\n",
    "        \"page\": 1,\n",
    "        \"pageSize\": 10 \n",
    "    }]\n",
    "\n",
    "print(body)\n",
    "\n",
    "r = requests.post(path, json=body)\n",
    "print(r.text)"
   ]
  },
  {
   "cell_type": "code",
   "execution_count": 14,
   "metadata": {
    "tags": []
   },
   "outputs": [
    {
     "output_type": "stream",
     "name": "stdout",
     "text": [
      "['id', 'authors', 'citations', 'contributors', 'datePublished', 'deleted', 'description', 'fullText', 'fullTextIdentifier', 'identifiers', 'journals', 'language', 'duplicateId', 'publisher', 'rawRecordXml', 'relations', 'repositories', 'repositoryDocument', 'similarities', 'subjects', 'title', 'topics', 'types', 'urls', 'year', 'doi', 'oai', 'downloadUrl', 'pdfHashValue', 'documentType', 'documentTypeConfidence', 'citationCount', 'estimatedCitationCount', 'acceptedDate', 'depositedDate', 'publishedDate', 'issn', 'crossrefDocument', 'magDocument']\n<class 'dict'>\n"
     ]
    }
   ],
   "source": [
    "\n",
    "\n",
    "def getKeys(d):\n",
    "    return print(list(d.keys()))\n",
    "\n",
    "# print(r.json()[1]['data'][0]['_source']['description'])\n",
    "# print(r.json()[1])\n",
    "getKeys(r.json()[0]['data'][0]['_source'])\n",
    "print(type(r.json()[0]['data'][0]['_source']))"
   ]
  },
  {
   "source": [
    "```\n",
    "r.json()[0]['data'])\n",
    "r.json()[0]['data'][0]['_source'])\n",
    "r.json()[0]['data'][0]['_source']['description'])\n",
    "[ For each query one response object\n",
    "    {\n",
    "        \"status\": [].\n",
    "        \"totalHits\": #,\n",
    "        # \"data\": [ List of retrieved resources\n",
    "        {\n",
    "            \"_index\": ,\n",
    "            \"_type\": [\"article\" or \"journal\" or \"repositories\"],\n",
    "            \"_id\": ,\n",
    "            \"_score\":,\n",
    "            \"source\": { dict con keys as follow\n",
    "            'id', 'authors', 'citations', 'contributors', 'datePublished', 'deleted', 'description', 'fullText', 'fullTextIdentifier', 'identifiers', 'journals', 'language', 'duplicateId', 'publisher', 'rawRecordXml', 'relations', 'repositories', 'repositoryDocument', 'similarities', 'subjects', 'title', 'topics', 'types', 'urls', 'year', 'doi', 'oai', 'downloadUrl', 'pdfHashValue', 'documentType', 'documentTypeConfidence', 'citationCount', 'estimatedCitationCount', 'acceptedDate', 'depositedDate', 'publishedDate', 'issn', 'crossrefDocument', 'magDocument'\n",
    "\n",
    "            }\n",
    "\n",
    "        },\n",
    "        {..}, {..}, ..\n",
    "\n",
    "\n",
    "        ]\n",
    "\n",
    "\n",
    "\n",
    "    },\n",
    "\n",
    "    {\n",
    "\n",
    "    },\n",
    "    .\n",
    "    .\n",
    "    .\n",
    "]```"
   ],
   "cell_type": "markdown",
   "metadata": {}
  }
 ],
 "metadata": {
  "kernelspec": {
   "name": "python385jvsc74a57bd0e521f3f79e4c8afd6250dbbf35d86c585e4936a8bc3a0ec6272bed964702e058",
   "display_name": "Python 3.8.5 64-bit ('Prueba 1': conda)"
  },
  "language_info": {
   "codemirror_mode": {
    "name": "ipython",
    "version": 2
   },
   "file_extension": ".py",
   "mimetype": "text/x-python",
   "name": "python",
   "nbconvert_exporter": "python",
   "pygments_lexer": "ipython2",
   "version": "3.8.5-final"
  }
 },
 "nbformat": 4,
 "nbformat_minor": 0
}