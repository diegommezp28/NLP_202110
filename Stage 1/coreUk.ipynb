{
 "cells": [
  {
   "source": [
    "Import modules"
   ],
   "cell_type": "markdown",
   "metadata": {
    "collapsed": true
   }
  },
  {
   "cell_type": "code",
   "execution_count": 8,
   "metadata": {},
   "outputs": [],
   "source": [
    "import requests"
   ]
  },
  {
   "source": [
    "Defining endpoints"
   ],
   "cell_type": "markdown",
   "metadata": {}
  },
  {
   "cell_type": "code",
   "execution_count": 1,
   "metadata": {},
   "outputs": [
    {
     "output_type": "stream",
     "name": "stdout",
     "text": [
      "Path https://core.ac.uk:443/api-v2/search?apiKey=uLFsR2TgKOzkeX0iN5vWSopAVPrjJM9l\n"
     ]
    }
   ],
   "source": [
    "url = 'https://core.ac.uk:443/api-v2/search'\n",
    "apiKey = 'uLFsR2TgKOzkeX0iN5vWSopAVPrjJM9l'\n",
    "path = f'{url}?apiKey={apiKey}'\n",
    "print('Path', path)\n",
    "# Oavohb17gNZT02xLJD6iU8GrfyMCeKAk"
   ]
  },
  {
   "source": [
    "Querying"
   ],
   "cell_type": "markdown",
   "metadata": {}
  },
  {
   "cell_type": "code",
   "execution_count": 9,
   "metadata": {
    "tags": []
   },
   "outputs": [
    {
     "output_type": "stream",
     "name": "stdout",
     "text": [
      "[{'query': 'coronavirus', 'page': 1, 'pageSize': 1000}]\n"
     ]
    }
   ],
   "source": [
    "body = [    \n",
    "    {\n",
    "        \"query\": \"coronavirus\",\n",
    "        \"page\": 1,\n",
    "        \"pageSize\": 1000\n",
    "    }\n",
    "    # ,\n",
    "    # {\n",
    "    #     \"query\": \"covid 19\",\n",
    "    #     \"page\": 1,\n",
    "    #     \"pageSize\": 1\n",
    "    # }\n",
    "    ]\n",
    "\n",
    "print(body)\n",
    "\n",
    "r = requests.post(path, json=body)\n",
    "# print(r.text)"
   ]
  },
  {
   "cell_type": "code",
   "execution_count": 13,
   "metadata": {
    "tags": []
   },
   "outputs": [
    {
     "output_type": "stream",
     "name": "stdout",
     "text": [
      "['id', 'authors', 'citations', 'contributors', 'datePublished', 'deleted', 'description', 'fullText', 'fullTextIdentifier', 'identifiers', 'journals', 'language', 'duplicateId', 'publisher', 'rawRecordXml', 'relations', 'repositories', 'repositoryDocument', 'similarities', 'subjects', 'title', 'topics', 'types', 'urls', 'year', 'doi', 'oai', 'downloadUrl', 'pdfHashValue', 'documentType', 'documentTypeConfidence', 'citationCount', 'estimatedCitationCount', 'acceptedDate', 'depositedDate', 'publishedDate', 'issn', 'attachmentCount', 'repositoryPublicReleaseDate', 'extendedMetadataAttributes', 'crossrefDocument', 'magDocument', 'orcidAuthors']\n<class 'dict'>\n2020-04-30T00:00:00\n"
     ]
    }
   ],
   "source": [
    "\n",
    "\n",
    "def getKeys(d):\n",
    "    return print(list(d.keys()))\n",
    "\n",
    "# print(r.json()[1]['data'][0]['_source']['description'])\n",
    "# print(r.json()[1])\n",
    "getKeys(r.json()[0]['data'][0]['_source'])\n",
    "print(type(r.json()[0]['data'][0]['_source']))\n",
    "print(r.json()[0]['data'][0]['_source']['datePublished'])"
   ]
  },
  {
   "source": [
    "\n",
    "***\n",
    "```\n",
    "r.json()[0]['data'])\n",
    "r.json()[0]['data'][0]['_source'])\n",
    "r.json()[0]['data'][0]['_source']['description'])\n",
    "[ For each query one response object\n",
    "    {\n",
    "        \"status\": string.\n",
    "        \"totalHits\": #,\n",
    "        \"data\": [ List of retrieved resources\n",
    "        {\n",
    "            \"_index\": ,\n",
    "            \"_type\": [\"article\" or \"journal\" or \"repositories\"],\n",
    "            \"_id\": ,\n",
    "            \"_score\":,\n",
    "            \"source\": { key:value con las siguientes keys\n",
    "            'id', 'authors', 'citations', 'contributors', 'datePublished', 'deleted', 'description',\n",
    "            'fullText', 'fullTextIdentifier', 'identifiers', 'journals', 'language', 'duplicateId',\n",
    "            'publisher', 'rawRecordXml', 'relations', 'repositories', 'repositoryDocument', 'similarities',\n",
    "             'subjects', 'title', 'topics', 'types', 'urls', 'year', 'doi', 'oai', 'downloadUrl', 'pdfHashValue',\n",
    "              'documentType', 'documentTypeConfidence', 'citationCount', 'estimatedCitationCount', 'acceptedDate',\n",
    "              'depositedDate', 'publishedDate', 'issn', 'crossrefDocument', 'magDocument'\n",
    "            }\n",
    "        },\n",
    "        {..}, \n",
    "        {..}, \n",
    "         .\n",
    "         .\n",
    "        ]\n",
    "    },\n",
    "\n",
    "    {\n",
    "\n",
    "    },\n",
    "    .\n",
    "    .\n",
    "    .\n",
    "]\n",
    "```"
   ],
   "cell_type": "markdown",
   "metadata": {}
  },
  {
   "cell_type": "code",
   "execution_count": 10,
   "metadata": {
    "tags": []
   },
   "outputs": [],
   "source": [
    "\n",
    "# import json\n",
    "# print(json.dumps(r.json(), indent=2))\n",
    "basic_queries = [\n",
    "    {\n",
    "        \"query\": \"title:coronavirus\",\n",
    "        \"page\": 1,\n",
    "        \"pageSize\": 10,\n",
    "    },\n",
    "    {\n",
    "        \"query\": \"title:covid\",\n",
    "        \"page\": 1,\n",
    "        \"pageSize\": 10\n",
    "    }  \n",
    "]\n",
    "r = requests.post(path, json=basic_queries)"
   ]
  },
  {
   "cell_type": "code",
   "execution_count": 22,
   "metadata": {},
   "outputs": [
    {
     "output_type": "stream",
     "name": "stdout",
     "text": [
      "Sacred Heart University \nDigitalCommons@SHU \nUniversity Briefings Remembering COVID-19 Community Archive \nSummer 2020 \nReturn to Work Guidelines \nSHU Coronavirus Management Team \nSacred Heart University \nFollow this and additional works at: https://digitalcommons.sacredheart.edu/covid19-universitybriefings \n Part of the Higher Education Commons, and the Virus Diseases Commons \nSHU Coronavirus Management Team, \"Return to Work Guidelines\" (2020). University Briefings. 2. \nhttps://digitalcommons.sacredheart.edu/covid19-universitybriefings/2 \nThis News Article is brought to you for free and open access by the Remembering COVID-19 Community Archive at \nDigitalCommons@SHU. It has been accepted for inclusion in University Briefings by an authorized administrator of \nDigitalCommons@SHU. For more information, please contact ferribyp@sacredheart.edu, \nlysobeyb@sacredheart.edu. \nOUR WELLNESS AT SHU \nIS UP TO YOU\nReturn to Work Timeline, Guidelines and Requirements\nOur Goal and Commitment to the SHU Community:\nTo resume on-ground operations while promoting a safe and healthy work \nenvironment. To achieve this, there will be modifications to current infrastructure and \noperational procedures and new protocols instituted for social distancing and the \nquick identification and response to a possible outbreak.\nEmployee “Return to Work” Transition Timeline\nThe University will practice a phased “Return to Work” model to assist in a safe and \norganized transition from remote working to on-campus operations. During this \nuncertain time, and according to current state guidelines, those who can work from \nhome should do so. If your work permits and you are not directly supporting or \nservicing students or needed to support operational functions, you should continue to \nwork from home. Employees with health concerns specific to their own situation should \ncontact human resources. \nDivisional VPs and deans will develop schedules appropriate for their employees, \nencouraging and monitoring that no more than 50% of their work teams are reporting \nto work on the same day until further notice. One easy example of how to manage \nthis initiative is alternating work days. On one day, half the work team comes to \ncampus, while the other half of the team works remotely. The next day, the team that \nworked remotely on Day #1 comes into the office, and the other half of the team \nworks remotely. This will limit overcrowding of common workspaces, help with social \ndistancing and keep all employees safe. This plan also complies with current State of \nConnecticut guidelines for reopening. \nIt is critical that we all follow this procedure to assure a safe and secure work \nenvironment for all. Department heads will work with you to set schedules for remote \nand onsite work. The following dates will identify the employee groups that will be \npermitted (allowed access) to campus. It is imperative that all employees follow the \ntimelines below:  \n• June 1, 2020 – Senior leadership, employees deemed essential to begin business \noperations as identified by VPs or deans, and faculty/staff from the College of \nHealth Professions involved in the clinical programs that will begin in June\n• July 6, 2020 – Direct reports of senior leaders and any employee whose role \ndirectly impacts student support or operational needs with focus on preparations \nfor the 2020 fall semester\n• August 3, 2020 – All faculty teaching in the fall semester and staff required \nfor normal business preparations for the upcoming fall semester. Also, some \nfurloughed employees may be included in this timeframe depending on their role\n• August 24, 2020 – Anticipated date that most other employees will be permitted \n(given access) to work on campus.  \nOperational Guidelines\nUntil further notice, Sacred Heart University will continue to operate in a “COVID-19 \nAlert Status.” Working in conjunction with the Coronavirus Planning Team, human \nresources, public safety and campus operations, various segments of University \npersonnel will be involved in evaluating plans, monitoring conditions and adjusting  \nas circumstances dictate. Resumption of on-campus activities will be gradual and \nphased in, based on conditions and capacity, including plans for a potential resurgence \nof the virus.  \nThe following guidelines will shape our ongoing response.  The SHU community will \noperate with a focus on:\n• Hygiene\n• Physical distancing\n• Face covering and personal protective equipment\n• Symptom monitoring and assessment\n• Communication and compliance\n• Tracing and quick response\n• Mental health and stress-reduction programs\n• Training and awareness measures \nGeneral Information and Requirements\nEmployees who are ill should stay home and follow the University sick leave policy.\nEmployees should self-monitor their temperature daily prior to coming to campus. If an \nemployee has a temperature of 100.4 degrees Fahrenheit or higher, he or she should \nstay home and alert his or her supervisor.\nEmployees are required to use hand sanitizer at entry points of every building. \nDispensers will be located at all entry and exits in all buildings.\nEmployees must have their SHU-issued ID displayed while on campus.\nEmployees must follow CDC guidelines for preventing transmission of COVID-19. \nPosters outlining CDC hygiene requirements (i.e. wearing a mask or face covering, \nwashing of hands etc.) will be displayed throughout the campus.\nEmployees will have access to appropriate sanitizing offerings such as hand sanitizer, \ndisposable wipes, disinfecting products and no-touch disposal receptacles in or near \ntheir work stations.\nEmployees should clean their personal workspace at the beginning and end of each \nshift. Additionally, the University will provide rigorous disinfecting on a consistent basis.\nEmployees should avoid sharing of workspace, telephones, computers, desks, offices \nor other work tools or equipment. Any workspace activity that is shared such as copiers, \nvending/coffee machines should be cleaned by the employee after each use.\nShould there be a suspected or confirmed case of an employee with COVID-19, the \nUniversity will follow all CDC guidelines for cleaning and disinfection recommendations \nin addition to self-quarantining and contact tracing.\nAccess Control\nLimiting points of access to campus will assist us in ensuring processes are \neffectively followed for the wellness of students, faculty, staff, visitors, delivery \npersonnel and others who come to campus.\nAll employees must visually display their University ID at all times by wearing a lanyard \naround their neck.\nUntil further notice, requirements for entry onto campus facilities for visitors include:\n• Meetings, presentations and interviews that absolutely cannot be conducted \nvirtually\n• A sign-in process at the guard house that includes a temperature reading, a \nmask and instructions on University procedures and protocols\nSHU employees who have oversight for vendors/sub-contractors or other visitors will \nassure that they are in compliance with the requirements set forth within this document.\nSocial Distancing\nEmployees will be required to operate at least six feet apart at all times.\nEmployees should use teleconference options (WebEx/Teams) for group meetings. In-\nperson meetings should be avoided.\nEmployees should limit any necessary gatherings to a maximum of five people (per \ncurrent state regulations) with all participants wearing a mask and remaining at least six \nfeet apart.\nEmployees should socially distance in conference rooms, cafeterias, elevators, copy \nrooms, office/kitchen areas and other common spaces.\nEmployees should schedule all office meetings—no “pop-ins.”\nMasks/Face Coverings\nEmployees are required to wear a mask (except those with medical conditions) from \nthe time they enter the campus and arrive at their office space, and anytime they leave \ntheir workstation/office to move around in common areas (i.e. hallways, stairwells, \nrestrooms, etc.)\nEmployees who work in congregated setting areas (i.e. open space, mailroom, break \nroom, areas open to the public and shared offices) must wear a mask at all times.\nEmployees who work alone in segregated office space (i.e. cubicles with walls, private \noffices, etc.) may remove their masks when alone in these settings.\n\n"
     ]
    }
   ],
   "source": [
    "print(r.json()[0]['data'][10]['_source']['fullText'])"
   ]
  }
 ],
 "metadata": {
  "kernelspec": {
   "name": "python385jvsc74a57bd0e521f3f79e4c8afd6250dbbf35d86c585e4936a8bc3a0ec6272bed964702e058",
   "display_name": "Python 3.8.5 64-bit ('Prueba 1': conda)"
  },
  "language_info": {
   "codemirror_mode": {
    "name": "ipython",
    "version": 2
   },
   "file_extension": ".py",
   "mimetype": "text/x-python",
   "name": "python",
   "nbconvert_exporter": "python",
   "pygments_lexer": "ipython2",
   "version": "3.8.5"
  }
 },
 "nbformat": 4,
 "nbformat_minor": 0
}