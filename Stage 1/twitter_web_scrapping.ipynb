{
 "cells": [
  {
   "cell_type": "markdown",
   "source": [
    "# Web Scraping\n",
    "Isabela"
   ],
   "metadata": {
    "collapsed": false,
    "pycharm": {
     "name": "#%% md\n"
    }
   }
  },
  {
   "cell_type": "code",
   "execution_count": 12,
   "outputs": [],
   "source": [
    "import json\n",
    "import tweepy\n",
    "import pandas as pd\n",
    "import time\n",
    "from datetime import datetime\n"
   ],
   "metadata": {
    "collapsed": false,
    "pycharm": {
     "name": "#%%\n"
    }
   }
  },
  {
   "cell_type": "markdown",
   "source": [
    "## Twitter"
   ],
   "metadata": {
    "collapsed": false,
    "pycharm": {
     "name": "#%% md\n"
    }
   }
  },
  {
   "cell_type": "markdown",
   "source": [
    "### Authentication"
   ],
   "metadata": {
    "collapsed": false,
    "pycharm": {
     "name": "#%% md\n"
    }
   }
  },
  {
   "cell_type": "code",
   "execution_count": 13,
   "outputs": [],
   "source": [
    "with open('credentials/twitter_credentials.JSON') as f:\n",
    "  credentials = json.load(f)\n",
    "#print(credentials)"
   ],
   "metadata": {
    "collapsed": false,
    "pycharm": {
     "name": "#%%\n"
    }
   }
  },
  {
   "cell_type": "code",
   "execution_count": 14,
   "outputs": [],
   "source": [
    "consumer_key = credentials[\"API_key\"]\n",
    "consumer_secret = credentials[\"API_secret_key\"]\n",
    "access_token = credentials[\"access_token\"]\n",
    "access_token_secret = credentials[\"access_token_secret\"]\n",
    "auth = tweepy.OAuthHandler(consumer_key, consumer_secret)\n",
    "auth.set_access_token(access_token, access_token_secret)\n",
    "api = tweepy.API(auth,wait_on_rate_limit=True)"
   ],
   "metadata": {
    "collapsed": false,
    "pycharm": {
     "name": "#%%\n"
    }
   }
  },
  {
   "cell_type": "markdown",
   "source": [
    "First Approach"
   ],
   "metadata": {
    "collapsed": false
   }
  },
  {
   "cell_type": "code",
   "execution_count": 15,
   "outputs": [
    {
     "name": "stdout",
     "output_type": "stream",
     "text": [
      "failed on_status, \n"
     ]
    }
   ],
   "source": [
    "text_query = 'COVID'\n",
    "count = 150\n",
    "try:\n",
    " # Creation of query method using parameters\n",
    " tweets = tweepy.Cursor(api.search,q=text_query + \"-filter:retweets\", lang=\"IT\", locale=\"IT\").items(count)\n",
    "\n",
    " # Pulling information from tweets iterable object\n",
    " tweets_list = [[tweet.created_at, tweet.id, tweet.text] for tweet in tweets]\n",
    "\n",
    " # Creation of dataframe from tweets list\n",
    " # Add or remove columns as you remove tweet information\n",
    " tweets_df = pd.DataFrame(tweets_list)\n",
    "\n",
    "except BaseException as e:\n",
    "    print('failed on_status,',str(e))\n",
    "    time.sleep(3)"
   ],
   "metadata": {
    "collapsed": false,
    "pycharm": {
     "name": "#%%\n"
    }
   }
  },
  {
   "cell_type": "code",
   "execution_count": 16,
   "outputs": [
    {
     "ename": "NameError",
     "evalue": "name 'tweets_df' is not defined",
     "output_type": "error",
     "traceback": [
      "\u001B[0;31m---------------------------------------------------------------------------\u001B[0m",
      "\u001B[0;31mNameError\u001B[0m                                 Traceback (most recent call last)",
      "\u001B[0;32m<ipython-input-16-35282ea4fb1e>\u001B[0m in \u001B[0;36m<module>\u001B[0;34m\u001B[0m\n\u001B[0;32m----> 1\u001B[0;31m \u001B[0mtweets_df\u001B[0m\u001B[0;34m\u001B[0m\u001B[0;34m\u001B[0m\u001B[0m\n\u001B[0m\u001B[1;32m      2\u001B[0m \u001B[0;34m\u001B[0m\u001B[0m\n",
      "\u001B[0;31mNameError\u001B[0m: name 'tweets_df' is not defined"
     ]
    }
   ],
   "source": [
    "tweets_df"
   ],
   "metadata": {
    "collapsed": false,
    "pycharm": {
     "name": "#%%\n"
    }
   }
  },
  {
   "cell_type": "markdown",
   "source": [
    "Second Approach"
   ],
   "metadata": {
    "collapsed": false,
    "pycharm": {
     "name": "#%% md\n"
    }
   }
  },
  {
   "cell_type": "code",
   "execution_count": 17,
   "outputs": [
    {
     "name": "stdout",
     "output_type": "stream",
     "text": [
      "Downloading max 500000 tweets\n",
      "Downloaded 100 tweets\n",
      "Downloaded 200 tweets\n",
      "Downloaded 300 tweets\n",
      "Downloaded 400 tweets\n",
      "Downloaded 500 tweets\n",
      "Downloaded 600 tweets\n",
      "Downloaded 700 tweets\n",
      "Downloaded 800 tweets\n",
      "Downloaded 900 tweets\n",
      "Downloaded 1000 tweets\n",
      "Downloaded 1100 tweets\n",
      "Downloaded 1200 tweets\n",
      "Downloaded 1300 tweets\n",
      "Downloaded 1400 tweets\n",
      "Downloaded 1500 tweets\n",
      "Downloaded 1600 tweets\n",
      "Downloaded 1700 tweets\n",
      "Downloaded 1800 tweets\n",
      "Downloaded 1900 tweets\n",
      "Downloaded 2000 tweets\n",
      "Downloaded 2100 tweets\n",
      "Downloaded 2200 tweets\n",
      "Downloaded 2300 tweets\n",
      "Downloaded 2400 tweets\n",
      "Downloaded 2500 tweets\n",
      "Downloaded 2600 tweets\n",
      "Downloaded 2700 tweets\n",
      "Downloaded 2800 tweets\n",
      "Downloaded 2900 tweets\n",
      "Downloaded 3000 tweets\n",
      "Downloaded 3100 tweets\n",
      "Downloaded 3200 tweets\n",
      "Downloaded 3300 tweets\n",
      "Downloaded 3400 tweets\n",
      "Downloaded 3500 tweets\n",
      "Downloaded 3600 tweets\n",
      "Downloaded 3700 tweets\n",
      "Downloaded 3800 tweets\n",
      "Downloaded 3900 tweets\n",
      "Downloaded 4000 tweets\n",
      "Downloaded 4100 tweets\n",
      "Downloaded 4200 tweets\n",
      "Downloaded 4300 tweets\n",
      "Downloaded 4400 tweets\n",
      "Downloaded 4500 tweets\n",
      "Downloaded 4600 tweets\n",
      "Downloaded 4700 tweets\n",
      "Downloaded 4800 tweets\n",
      "Downloaded 4900 tweets\n",
      "Downloaded 5000 tweets\n",
      "Downloaded 5100 tweets\n",
      "Downloaded 5200 tweets\n",
      "Downloaded 5300 tweets\n",
      "Downloaded 5400 tweets\n",
      "Downloaded 5500 tweets\n",
      "Downloaded 5600 tweets\n",
      "Downloaded 5700 tweets\n",
      "Downloaded 5800 tweets\n",
      "Downloaded 5900 tweets\n",
      "Downloaded 6000 tweets\n",
      "Downloaded 6100 tweets\n",
      "Downloaded 6200 tweets\n",
      "Downloaded 6300 tweets\n",
      "Downloaded 6400 tweets\n",
      "Downloaded 6500 tweets\n",
      "Downloaded 6600 tweets\n",
      "Downloaded 6700 tweets\n",
      "Downloaded 6800 tweets\n",
      "Downloaded 6900 tweets\n",
      "Downloaded 7000 tweets\n",
      "Downloaded 7100 tweets\n",
      "Downloaded 7200 tweets\n",
      "Downloaded 7300 tweets\n",
      "Downloaded 7400 tweets\n",
      "Downloaded 7500 tweets\n",
      "Downloaded 7600 tweets\n",
      "Downloaded 7700 tweets\n",
      "Downloaded 7800 tweets\n",
      "Downloaded 7900 tweets\n",
      "Downloaded 8000 tweets\n",
      "Downloaded 8100 tweets\n",
      "Downloaded 8200 tweets\n",
      "Downloaded 8300 tweets\n",
      "Downloaded 8400 tweets\n",
      "Downloaded 8500 tweets\n",
      "Downloaded 8600 tweets\n",
      "Downloaded 8700 tweets\n",
      "Downloaded 8800 tweets\n",
      "Downloaded 8900 tweets\n",
      "Downloaded 9000 tweets\n",
      "Downloaded 9100 tweets\n",
      "Downloaded 9200 tweets\n",
      "Downloaded 9300 tweets\n",
      "Downloaded 9400 tweets\n",
      "Downloaded 9500 tweets\n",
      "Downloaded 9600 tweets\n",
      "Downloaded 9700 tweets\n",
      "Downloaded 9800 tweets\n",
      "Downloaded 9900 tweets\n",
      "Downloaded 10000 tweets\n",
      "Downloaded 10100 tweets\n",
      "Downloaded 10200 tweets\n",
      "Downloaded 10300 tweets\n",
      "Downloaded 10400 tweets\n",
      "Downloaded 10500 tweets\n",
      "Downloaded 10600 tweets\n",
      "Downloaded 10700 tweets\n",
      "Downloaded 10800 tweets\n",
      "Downloaded 10900 tweets\n",
      "Downloaded 11000 tweets\n",
      "Downloaded 11100 tweets\n",
      "Downloaded 11200 tweets\n",
      "Downloaded 11300 tweets\n",
      "Downloaded 11400 tweets\n",
      "Downloaded 11500 tweets\n",
      "Downloaded 11600 tweets\n",
      "Downloaded 11700 tweets\n",
      "Downloaded 11800 tweets\n",
      "Downloaded 11900 tweets\n",
      "Downloaded 12000 tweets\n",
      "Downloaded 12100 tweets\n",
      "Downloaded 12200 tweets\n",
      "Downloaded 12300 tweets\n",
      "Downloaded 12400 tweets\n",
      "Downloaded 12500 tweets\n",
      "Downloaded 12600 tweets\n",
      "Downloaded 12700 tweets\n",
      "Downloaded 12800 tweets\n",
      "Downloaded 12900 tweets\n",
      "Downloaded 13000 tweets\n",
      "Downloaded 13100 tweets\n",
      "Downloaded 13200 tweets\n",
      "Downloaded 13300 tweets\n",
      "Downloaded 13400 tweets\n",
      "Downloaded 13500 tweets\n",
      "Downloaded 13600 tweets\n",
      "Downloaded 13700 tweets\n",
      "Downloaded 13800 tweets\n",
      "Downloaded 13900 tweets\n",
      "Downloaded 14000 tweets\n",
      "Downloaded 14100 tweets\n",
      "Downloaded 14200 tweets\n",
      "Downloaded 14300 tweets\n",
      "Downloaded 14400 tweets\n",
      "Downloaded 14500 tweets\n",
      "Downloaded 14600 tweets\n",
      "Downloaded 14700 tweets\n",
      "Downloaded 14800 tweets\n",
      "Downloaded 14900 tweets\n",
      "Downloaded 15000 tweets\n",
      "Downloaded 15100 tweets\n",
      "Downloaded 15200 tweets\n",
      "Downloaded 15300 tweets\n",
      "Downloaded 15400 tweets\n",
      "Downloaded 15500 tweets\n",
      "Downloaded 15600 tweets\n",
      "Downloaded 15700 tweets\n",
      "Downloaded 15800 tweets\n",
      "Downloaded 15900 tweets\n",
      "Downloaded 16000 tweets\n",
      "Downloaded 16100 tweets\n",
      "Downloaded 16200 tweets\n",
      "Downloaded 16300 tweets\n",
      "Downloaded 16400 tweets\n",
      "Downloaded 16500 tweets\n",
      "Downloaded 16600 tweets\n",
      "Downloaded 16700 tweets\n",
      "Downloaded 16800 tweets\n",
      "Downloaded 16900 tweets\n",
      "Downloaded 17000 tweets\n",
      "Downloaded 17100 tweets\n",
      "Downloaded 17200 tweets\n",
      "Downloaded 17300 tweets\n",
      "Downloaded 17400 tweets\n",
      "Downloaded 17500 tweets\n",
      "Downloaded 17600 tweets\n",
      "Downloaded 17700 tweets\n",
      "Downloaded 17800 tweets\n",
      "Downloaded 17900 tweets\n",
      "Downloaded 18000 tweets\n",
      "Error : Failed to send request: HTTPSConnectionPool(host='api.twitter.com', port=443): Read timed out. (read timeout=60)\n",
      "Downloaded 18000 tweets, Saved to data/tweets_1619132495.127046.JSON\n"
     ]
    }
   ],
   "source": [
    "searchQuery = 'covid'  # this is what we're searching for\n",
    "maxTweets = 500000 # Some arbitrary large number\n",
    "tweetsPerQry = 100  # this is the max the API permits\n",
    "now = datetime.now()\n",
    "\n",
    "ts = datetime.timestamp(now)\n",
    "fName = 'data/tweets_'+ str(ts) +'.JSON' # We'll store the tweets in a JSON file.\n",
    "\n",
    "\n",
    "# If results from a specific ID onwards are reqd, set since_id to that ID.\n",
    "# else default to no lower limit, go as far back as API allows\n",
    "sinceId = None\n",
    "\n",
    "\n",
    "places = []\n",
    "time = []\n",
    "tweets = []\n",
    "\n",
    "# If results only below a specific ID are, set max_id to that ID.\n",
    "# else default to no upper limit, start from the most recent tweet matching the search query.\n",
    "max_id = -1\n",
    "\n",
    "tweetCount = 0\n",
    "print(\"Downloading max {0} tweets\".format(maxTweets))\n",
    "\n",
    "id = 0\n",
    "\n",
    "with open(fName, 'w') as f:\n",
    "    while tweetCount < maxTweets:\n",
    "        try:\n",
    "            if (max_id <= 0):\n",
    "                if (not sinceId):\n",
    "                    new_tweets = api.search(q=searchQuery, count=tweetsPerQry)\n",
    "                else:\n",
    "                    new_tweets = api.search(q=searchQuery, count=tweetsPerQry,\n",
    "                                            since_id=sinceId)\n",
    "            else:\n",
    "                if (not sinceId):\n",
    "                    new_tweets = api.search(q=searchQuery, count=tweetsPerQry,\n",
    "                                            max_id=str(max_id - 1))\n",
    "                else:\n",
    "                    new_tweets = api.search(q=searchQuery, count=tweetsPerQry,\n",
    "                                            max_id=str(max_id - 1),\n",
    "                                            since_id=sinceId)\n",
    "            if not new_tweets:\n",
    "\n",
    "                print(\"No more tweets found\")\n",
    "                break\n",
    "            for tweet in new_tweets:\n",
    "                tweet_d = {}\n",
    "                tweet_d['id'] = id\n",
    "                tweet_d['internal_id'] = tweet.id\n",
    "                tweet_d[\"publication_date\"] = int(datetime.timestamp(tweet.created_at))\n",
    "                tweet_d['source'] = \"Twitter\"\n",
    "                tweet_d['author'] = tweet.user.id\n",
    "                tweet_d['title'] = tweet.text\n",
    "                tweet_d['text'] = \"\"\n",
    "                tweet_d['location'] = tweet.user.location\n",
    "                id +=1\n",
    "                json.dump(tweet_d,f)\n",
    "\n",
    "            tweetCount += len(new_tweets)\n",
    "            print(\"Downloaded {0} tweets\".format(tweetCount))\n",
    "            max_id = new_tweets[-1].id\n",
    "\n",
    "        except tweepy.TweepError as e:\n",
    "            # Just exit if any error\n",
    "            print(\"Error : \" + str(e))\n",
    "            break\n",
    "\n",
    "print (\"Downloaded {0} tweets, Saved to {1}\".format(tweetCount, fName))\n",
    "\n"
   ],
   "metadata": {
    "collapsed": false,
    "pycharm": {
     "name": "#%%\n"
    }
   }
  },
  {
   "cell_type": "code",
   "source": [
    "print(ts)"
   ],
   "metadata": {
    "collapsed": false,
    "pycharm": {
     "name": "#%%\n"
    }
   },
   "execution_count": null,
   "outputs": []
  }
 ],
 "metadata": {
  "kernelspec": {
   "display_name": "Python 3",
   "language": "python",
   "name": "python3"
  },
  "language_info": {
   "codemirror_mode": {
    "name": "ipython",
    "version": 2
   },
   "file_extension": ".py",
   "mimetype": "text/x-python",
   "name": "python",
   "nbconvert_exporter": "python",
   "pygments_lexer": "ipython2",
   "version": "2.7.6"
  }
 },
 "nbformat": 4,
 "nbformat_minor": 0
}