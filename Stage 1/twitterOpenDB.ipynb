{
 "metadata": {
  "language_info": {
   "codemirror_mode": {
    "name": "ipython",
    "version": 3
   },
   "file_extension": ".py",
   "mimetype": "text/x-python",
   "name": "python",
   "nbconvert_exporter": "python",
   "pygments_lexer": "ipython3",
   "version": "3.7.10"
  },
  "orig_nbformat": 2,
  "kernelspec": {
   "name": "python3710jvsc74a57bd06c70104609522f67cb30e8200dfa6f77a5bec0e1b1538a23f62dccdf26f51f37",
   "display_name": "Python 3.7.10 64-bit ('TF-Keras': conda)"
  }
 },
 "nbformat": 4,
 "nbformat_minor": 2,
 "cells": [
  {
   "source": [
    "A big part of the following code was based on the Panacealab's tutorial for accesing their\n",
    "open source covid-19 related tweets database. \n",
    "\n",
    "[Original Repo](https://github.com/thepanacealab/covid19_twitter/blob/master/COVID_19_dataset_Tutorial.ipynb)"
   ],
   "cell_type": "markdown",
   "metadata": {}
  },
  {
   "source": [
    "## Required packages\n",
    "***"
   ],
   "cell_type": "markdown",
   "metadata": {}
  },
  {
   "cell_type": "code",
   "execution_count": 13,
   "metadata": {},
   "outputs": [
    {
     "output_type": "stream",
     "name": "stdout",
     "text": [
      "Requirement already satisfied: wget in c:\\users\\diego\\anaconda3\\envs\\tf-keras\\lib\\site-packages (3.2)\nNote: you may need to restart the kernel to use updated packages.\n"
     ]
    }
   ],
   "source": [
    "from IPython.display import clear_output\n",
    "'''\n",
    "Required Packages\n",
    "--------------------------\n",
    "twarc #Twarc\n",
    "tweepy # Tweepy 3.8.0\n",
    "argparse #Argparse\n",
    "xtract #Xtract \n",
    "wget #Wget 3.2\n",
    "'''\n",
    "# UNCOMMENT THE FOLLOWING LINES IF YOU DON'T HAVE THE PACKAGES INSTALLED\n",
    "# %pip install twarc\n",
    "# %pip install tweepy==3.8.0\n",
    "# %pip install argparse\n",
    "# %pip install xtract\n",
    "# %pip install wget\n",
    "\n",
    "# clear_output()"
   ]
  },
  {
   "source": [
    "## DataSet Import"
   ],
   "cell_type": "markdown",
   "metadata": {}
  },
  {
   "cell_type": "code",
   "execution_count": 1,
   "metadata": {},
   "outputs": [],
   "source": [
    "import gzip\n",
    "import shutil\n",
    "import os\n",
    "import wget\n",
    "import csv\n",
    "import linecache\n",
    "from shutil import copyfile\n",
    "import ipywidgets as widgets\n",
    "import numpy as np\n",
    "import pandas as pd"
   ]
  },
  {
   "cell_type": "code",
   "execution_count": 2,
   "metadata": {},
   "outputs": [],
   "source": [
    "# dataset_URL = \"https://github.com/thepanacealab/covid19_twitter/blob/master/dailies/2021-01-20/2021-01-20_clean-dataset.tsv.gz?raw=true\" \n",
    "#@param {type:\"string\"}\n",
    "\n",
    "full_dataset_path = 'datasets/full_dataset_clean.tsv.gz'\n",
    "uncompressed_path = 'datasets/full_dataset_clean.tsv'\n",
    "#Downloads the dataset (compressed in a GZ format)\n",
    "#!wget dataset_URL -O clean-dataset.tsv.gz\n",
    "# wget.download(dataset_URL, out='clean-dataset.tsv.gz')\n",
    "\n",
    "#Unzips the dataset and gets the TSV dataset\n",
    "with gzip.open(full_dataset_path, 'rb') as f_in:\n",
    "    with open(uncompressed_path, 'wb') as f_out:\n",
    "        shutil.copyfileobj(f_in, f_out)\n",
    "\n",
    "#Deletes the compressed GZ file\n",
    "# os.unlink(\"clean-dataset.tsv.gz\")\n",
    "\n",
    "#Gets all possible languages from the dataset\n",
    "df = pd.read_csv(uncompressed_path,sep=\"\\t\")\n",
    "# lang_list = df.lang.unique()\n",
    "# lang_list= sorted(np.append(lang_list,'all'))\n",
    "# lang_picker = widgets.Dropdown(options=lang_list, value=\"all\")\n",
    "# lang_picker"
   ]
  },
  {
   "source": [
    "## Filter by Language"
   ],
   "cell_type": "markdown",
   "metadata": {}
  },
  {
   "cell_type": "code",
   "execution_count": 9,
   "metadata": {},
   "outputs": [],
   "source": [
    "# df.loc[df['lang'] == 'en'].sample(n = 1000000).to_csv('datasets/clean_en.csv')\n",
    "# df.loc[df['lang'] == 'es'].sample(n = 1000000).to_csv('datasets/clean_es.csv')\n",
    "# df.loc[df['lang'] == 'it'].sample(n = 1000000).to_csv('datasets/clean_it.csv')"
   ]
  },
  {
   "cell_type": "code",
   "execution_count": 12,
   "metadata": {},
   "outputs": [
    {
     "output_type": "stream",
     "name": "stdout",
     "text": [
      "\u001b[1mShowing first 5 tweets from the filtered dataset\u001b[0m\n['1351757736208424963\\t2021-01-20\\t05:05:33\\tit\\tNULL\\n', '1351757850041843715\\t2021-01-20\\t05:06:00\\tit\\tNULL\\n', '1351758300082130944\\t2021-01-20\\t05:07:47\\tit\\tNULL\\n', '1351758646972133378\\t2021-01-20\\t05:09:10\\tit\\tNULL\\n', '1351758778790797314\\t2021-01-20\\t05:09:41\\tit\\tNULL\\n']\n"
     ]
    }
   ],
   "source": [
    "#Creates a new clean dataset with the specified language (if specified)\n",
    "filtered_language = lang_picker.value\n",
    "\n",
    "#If no language specified, it will get all records from the dataset\n",
    "if filtered_language == \"\":\n",
    "  copyfile(f'clean-dataset.tsv', f'clean-dataset-filtered_{lang_picker.value}.tsv')\n",
    "\n",
    "#If language specified, it will create another tsv file with the filtered records\n",
    "else:\n",
    "  filtered_tw = list()\n",
    "  current_line = 1\n",
    "  with open(\"clean-dataset.tsv\") as tsvfile:\n",
    "    tsvreader = csv.reader(tsvfile, delimiter=\"\\t\")\n",
    "\n",
    "    if current_line == 1:\n",
    "      filtered_tw.append(linecache.getline(\"clean-dataset.tsv\", current_line))\n",
    "\n",
    "      for line in tsvreader:\n",
    "        if line[3] == filtered_language:\n",
    "          filtered_tw.append(linecache.getline(\"clean-dataset.tsv\", current_line))\n",
    "        current_line += 1\n",
    "\n",
    "  print('\\033[1mShowing first 5 tweets from the filtered dataset\\033[0m')\n",
    "  print(filtered_tw[1:(6 if len(filtered_tw) > 6 else len(filtered_tw))])\n",
    "\n",
    "  with open(f'clean-dataset-filtered_{lang_picker.value}.tsv', 'w') as f_output:\n",
    "      for item in filtered_tw:\n",
    "          f_output.write(item)"
   ]
  },
  {
   "source": [
    "###  Generate Twitter Authentication file"
   ],
   "cell_type": "markdown",
   "metadata": {}
  },
  {
   "cell_type": "code",
   "execution_count": 10,
   "metadata": {},
   "outputs": [],
   "source": [
    "import json\n",
    "import tweepy\n",
    "from tweepy import OAuthHandler\n"
   ]
  },
  {
   "cell_type": "code",
   "execution_count": 8,
   "metadata": {},
   "outputs": [],
   "source": [
    "# Authenticate\n",
    "CONSUMER_KEY = input(\"Enter consumer Key\") #@param {type:\"string\"}\n",
    "CONSUMER_SECRET_KEY = input(\"Enter consumer Secret\") #@param {type:\"string\"}\n",
    "ACCESS_TOKEN_KEY = input(\"Enter access token\") #@param {type:\"string\"}\n",
    "ACCESS_TOKEN_SECRET_KEY = input(\"Enter access token secret\") #@param {type:\"string\"}\n",
    "\n",
    "#Creates a JSON Files with the API credentials\n",
    "with open('api_keys.json', 'w') as outfile:\n",
    "    json.dump({\n",
    "    \"consumer_key\":CONSUMER_KEY,\n",
    "    \"consumer_secret\":CONSUMER_SECRET_KEY,\n",
    "    \"access_token\":ACCESS_TOKEN_KEY,\n",
    "    \"access_token_secret\": ACCESS_TOKEN_SECRET_KEY\n",
    "     }, outfile)\n"
   ]
  },
  {
   "cell_type": "code",
   "execution_count": 10,
   "metadata": {},
   "outputs": [
    {
     "output_type": "stream",
     "name": "stdout",
     "text": [
      "Authentication Succesful\n"
     ]
    }
   ],
   "source": [
    "# The lines below are just to test if the twitter credentials are correct\n",
    "# Authenticate\n",
    "auth = tweepy.AppAuthHandler(CONSUMER_KEY, CONSUMER_SECRET_KEY)\n",
    "\n",
    "api = tweepy.API(auth, wait_on_rate_limit=True,\n",
    "\t\t\t\t   wait_on_rate_limit_notify=True)\n",
    "\n",
    "if (not api):\n",
    "   print (\"Can't Authenticate\")\n",
    "else: \n",
    "    print(\"Authentication Succesful\")"
   ]
  },
  {
   "source": [
    "### Hydrating the tweet"
   ],
   "cell_type": "markdown",
   "metadata": {}
  },
  {
   "cell_type": "code",
   "execution_count": 9,
   "metadata": {},
   "outputs": [
    {
     "output_type": "execute_result",
     "data": {
      "text/plain": [
       "'get_metadata.py'"
      ]
     },
     "metadata": {},
     "execution_count": 9
    }
   ],
   "source": [
    "## Te following code downloadss a Mining tool (SMMT provided by the panacealab team to help with the hydration of tweet ids\n",
    "'''\n",
    "WARNING!\n",
    "If you already have get_metadata.py downloaded the is no need to run this cell again\n",
    "'''\n",
    "from IPython.display import clear_output\n",
    "import wget\n",
    "import wget\n",
    "# url = 'https://raw.githubusercontent.com/thepanacealab/SMMT/master/data_acquisition/get_metadata.py'\n",
    "# url = 'https://www.dropbox.com/s/u9jg4rldnnj1q4q/clean_it.csv?dl=1'\n",
    "url = 'https://www.dropbox.com/s/nrqilln3boszsk2/api_keys.json?dl=1'\n",
    "path = 'get_metadata.py'\n",
    "path = 'clean_it.csv'\n",
    "path = 'api_keys.json'\n",
    "wget.download(url,out = path)\n"
   ]
  },
  {
   "cell_type": "code",
   "execution_count": 13,
   "metadata": {},
   "outputs": [
    {
     "output_type": "stream",
     "name": "stdout",
     "text": [
      "^C\n"
     ]
    }
   ],
   "source": [
    "!python get_metadata.py -i \"clean-dataset-filtered.tsv\" -o \"./datasets/hydrated_tweets\" -k api_keys.json\n",
    "# python3 get_metadata.py -i \"clean_it.csv\" -o \"hydrated_tweets_it\" -k api_keys.json\n",
    "\n",
    "# clear_output()"
   ]
  },
  {
   "cell_type": "code",
   "execution_count": null,
   "metadata": {},
   "outputs": [],
   "source": [
    "!python get_metadata.py -i clean-dataset-filtered.tsv -o hydrated_tweets -k api_keys.json"
   ]
  },
  {
   "cell_type": "code",
   "execution_count": 13,
   "metadata": {},
   "outputs": [],
   "source": [
    "df = pd.read_csv(f'clean-dataset-filtered_{lang_picker.value}.tsv', sep='\\t',  header=0)"
   ]
  },
  {
   "cell_type": "code",
   "execution_count": 14,
   "metadata": {},
   "outputs": [
    {
     "output_type": "execute_result",
     "data": {
      "text/plain": [
       "(5427, 5)"
      ]
     },
     "metadata": {},
     "execution_count": 14
    }
   ],
   "source": [
    "df.shape"
   ]
  },
  {
   "source": [
    "Needed files, only uncomment and run this cell once if you don't have the scripts already in your machine"
   ],
   "cell_type": "markdown",
   "metadata": {}
  },
  {
   "cell_type": "code",
   "execution_count": 12,
   "metadata": {},
   "outputs": [
    {
     "output_type": "execute_result",
     "data": {
      "text/plain": [
       "'fields.py'"
      ]
     },
     "metadata": {},
     "execution_count": 12
    }
   ],
   "source": [
    "# wget.download('https://raw.githubusercontent.com/thepanacealab/SMMT/master/data_preprocessing/parse_json_lite.py',out = 'parse_json_lite.py')\n",
    "# wget.download('https://raw.githubusercontent.com/thepanacealab/SMMT/master/data_preprocessing/fields.py', out = 'fields.py')"
   ]
  },
  {
   "source": [
    "### Clean and reformat hydrated files"
   ],
   "cell_type": "markdown",
   "metadata": {}
  },
  {
   "cell_type": "code",
   "execution_count": 17,
   "metadata": {},
   "outputs": [
    {
     "output_type": "stream",
     "name": "stderr",
     "text": [
      "Traceback (most recent call last):\n  File \"c:\\Users\\diego\\Documents\\Git\\NLP_202110\\Stage 1\\parse_json_lite.py\", line 26, in <module>\n    from emot.emo_unicode import UNICODE_EMO, EMOTICONS\nModuleNotFoundError: No module named 'emot'\n"
     ]
    }
   ],
   "source": [
    "!python parse_json_lite.py \"./datasets/italian/hydrated_tweets_it_short.json\" p"
   ]
  },
  {
   "cell_type": "code",
   "execution_count": 16,
   "metadata": {},
   "outputs": [
    {
     "output_type": "stream",
     "name": "stdout",
     "text": [
      "Collecting emot\n",
      "  Downloading emot-2.1-py3-none-any.whl (27 kB)\n",
      "Installing collected packages: emot\n",
      "Successfully installed emot-2.1\n",
      "Note: you may need to restart the kernel to use updated packages.\n",
      "Collecting emoji\n",
      "  Downloading emoji-1.2.0-py3-none-any.whl (131 kB)\n",
      "Installing collected packages: emoji\n",
      "Successfully installed emoji-1.2.0\n",
      "Note: you may need to restart the kernel to use updated packages.\n"
     ]
    }
   ],
   "source": [
    "# %pip install emot --upgrade\n",
    "# %pip install emoji --upgrade"
   ]
  },
  {
   "source": [
    "# Italian"
   ],
   "cell_type": "markdown",
   "metadata": {}
  },
  {
   "source": [
    "## Reading italian tweets"
   ],
   "cell_type": "markdown",
   "metadata": {}
  },
  {
   "cell_type": "code",
   "execution_count": 92,
   "metadata": {},
   "outputs": [
    {
     "output_type": "stream",
     "name": "stdout",
     "text": [
      "(879887, 8)\n"
     ]
    },
    {
     "output_type": "execute_result",
     "data": {
      "text/plain": [
       "                            created_at  \\\n",
       "0       Fri Nov 06 20:32:15 +0000 2020   \n",
       "1       Thu Jul 30 08:01:22 +0000 2020   \n",
       "2       Tue Nov 10 15:54:51 +0000 2020   \n",
       "3       Mon Jun 22 18:30:22 +0000 2020   \n",
       "4       Thu Mar 26 10:10:20 +0000 2020   \n",
       "...                                ...   \n",
       "879882  Fri Apr 17 09:11:49 +0000 2020   \n",
       "879883  Sun Nov 15 19:29:01 +0000 2020   \n",
       "879884  Thu Jun 04 09:05:28 +0000 2020   \n",
       "879885  Tue Feb 16 08:13:17 +0000 2021   \n",
       "879886  Sat Nov 21 18:08:48 +0000 2020   \n",
       "\n",
       "                                                     text  \\\n",
       "0       Il prof. #Galli è molto preoccupato da quanto ...   \n",
       "1       Il COVID-19 coincide con un momento cruciale n...   \n",
       "2       Muoviamoci #vaccinoCovid #coronavirus #COVID19...   \n",
       "3       @mosllerdd @Cartabellotta Si sarebbero potute ...   \n",
       "4       @morzo6 @CNN Purtroppo sì. State a casa. Disin...   \n",
       "...                                                   ...   \n",
       "879882  La scelta delle #CaseRiposo è stata fatta perc...   \n",
       "879883         E sì, proprio vero https://t.co/gVubUUdQFk   \n",
       "879884  @IamEluruSreenu anna di notification vacchindi...   \n",
       "879885  Poco fa entra da me un cliente, ricercatore un...   \n",
       "879886  Coronavirus - Altri due beneventani morti oggi...   \n",
       "\n",
       "       in_reply_to_screen_name  retweet_count  favorite_count  \\\n",
       "0                         None              0               1   \n",
       "1                         None              1               1   \n",
       "2                         None              0               1   \n",
       "3                    mosllerdd              0               7   \n",
       "4                       morzo6              1               2   \n",
       "...                        ...            ...             ...   \n",
       "879882                    None             36              46   \n",
       "879883                    None              1               1   \n",
       "879884          IamEluruSreenu              0               0   \n",
       "879885                    None              0               0   \n",
       "879886                    None              0               0   \n",
       "\n",
       "                     source               id_str  is_retweet  \n",
       "0                iLMeteo.it  1324811856859533313       False  \n",
       "1            Hootsuite Inc.  1288746494368124928       False  \n",
       "2        Twitter for iPhone  1326191597785059329       False  \n",
       "3           Twitter Web App  1275134048722132993       False  \n",
       "4        Twitter for iPhone  1243118079091118080       False  \n",
       "...                     ...                  ...         ...  \n",
       "879882   Twitter Web Client  1251075883982630913       False  \n",
       "879883  Twitter for Android  1328057436436115456       False  \n",
       "879884  Twitter for Android  1268468904164237319       False  \n",
       "879885      Twitter Web App  1361589453001744384       False  \n",
       "879886          IlVaglio.it  1330211577245687815       False  \n",
       "\n",
       "[879887 rows x 8 columns]"
      ],
      "text/html": "<div>\n<style scoped>\n    .dataframe tbody tr th:only-of-type {\n        vertical-align: middle;\n    }\n\n    .dataframe tbody tr th {\n        vertical-align: top;\n    }\n\n    .dataframe thead th {\n        text-align: right;\n    }\n</style>\n<table border=\"1\" class=\"dataframe\">\n  <thead>\n    <tr style=\"text-align: right;\">\n      <th></th>\n      <th>created_at</th>\n      <th>text</th>\n      <th>in_reply_to_screen_name</th>\n      <th>retweet_count</th>\n      <th>favorite_count</th>\n      <th>source</th>\n      <th>id_str</th>\n      <th>is_retweet</th>\n    </tr>\n  </thead>\n  <tbody>\n    <tr>\n      <th>0</th>\n      <td>Fri Nov 06 20:32:15 +0000 2020</td>\n      <td>Il prof. #Galli è molto preoccupato da quanto ...</td>\n      <td>None</td>\n      <td>0</td>\n      <td>1</td>\n      <td>iLMeteo.it</td>\n      <td>1324811856859533313</td>\n      <td>False</td>\n    </tr>\n    <tr>\n      <th>1</th>\n      <td>Thu Jul 30 08:01:22 +0000 2020</td>\n      <td>Il COVID-19 coincide con un momento cruciale n...</td>\n      <td>None</td>\n      <td>1</td>\n      <td>1</td>\n      <td>Hootsuite Inc.</td>\n      <td>1288746494368124928</td>\n      <td>False</td>\n    </tr>\n    <tr>\n      <th>2</th>\n      <td>Tue Nov 10 15:54:51 +0000 2020</td>\n      <td>Muoviamoci #vaccinoCovid #coronavirus #COVID19...</td>\n      <td>None</td>\n      <td>0</td>\n      <td>1</td>\n      <td>Twitter for iPhone</td>\n      <td>1326191597785059329</td>\n      <td>False</td>\n    </tr>\n    <tr>\n      <th>3</th>\n      <td>Mon Jun 22 18:30:22 +0000 2020</td>\n      <td>@mosllerdd @Cartabellotta Si sarebbero potute ...</td>\n      <td>mosllerdd</td>\n      <td>0</td>\n      <td>7</td>\n      <td>Twitter Web App</td>\n      <td>1275134048722132993</td>\n      <td>False</td>\n    </tr>\n    <tr>\n      <th>4</th>\n      <td>Thu Mar 26 10:10:20 +0000 2020</td>\n      <td>@morzo6 @CNN Purtroppo sì. State a casa. Disin...</td>\n      <td>morzo6</td>\n      <td>1</td>\n      <td>2</td>\n      <td>Twitter for iPhone</td>\n      <td>1243118079091118080</td>\n      <td>False</td>\n    </tr>\n    <tr>\n      <th>...</th>\n      <td>...</td>\n      <td>...</td>\n      <td>...</td>\n      <td>...</td>\n      <td>...</td>\n      <td>...</td>\n      <td>...</td>\n      <td>...</td>\n    </tr>\n    <tr>\n      <th>879882</th>\n      <td>Fri Apr 17 09:11:49 +0000 2020</td>\n      <td>La scelta delle #CaseRiposo è stata fatta perc...</td>\n      <td>None</td>\n      <td>36</td>\n      <td>46</td>\n      <td>Twitter Web Client</td>\n      <td>1251075883982630913</td>\n      <td>False</td>\n    </tr>\n    <tr>\n      <th>879883</th>\n      <td>Sun Nov 15 19:29:01 +0000 2020</td>\n      <td>E sì, proprio vero https://t.co/gVubUUdQFk</td>\n      <td>None</td>\n      <td>1</td>\n      <td>1</td>\n      <td>Twitter for Android</td>\n      <td>1328057436436115456</td>\n      <td>False</td>\n    </tr>\n    <tr>\n      <th>879884</th>\n      <td>Thu Jun 04 09:05:28 +0000 2020</td>\n      <td>@IamEluruSreenu anna di notification vacchindi...</td>\n      <td>IamEluruSreenu</td>\n      <td>0</td>\n      <td>0</td>\n      <td>Twitter for Android</td>\n      <td>1268468904164237319</td>\n      <td>False</td>\n    </tr>\n    <tr>\n      <th>879885</th>\n      <td>Tue Feb 16 08:13:17 +0000 2021</td>\n      <td>Poco fa entra da me un cliente, ricercatore un...</td>\n      <td>None</td>\n      <td>0</td>\n      <td>0</td>\n      <td>Twitter Web App</td>\n      <td>1361589453001744384</td>\n      <td>False</td>\n    </tr>\n    <tr>\n      <th>879886</th>\n      <td>Sat Nov 21 18:08:48 +0000 2020</td>\n      <td>Coronavirus - Altri due beneventani morti oggi...</td>\n      <td>None</td>\n      <td>0</td>\n      <td>0</td>\n      <td>IlVaglio.it</td>\n      <td>1330211577245687815</td>\n      <td>False</td>\n    </tr>\n  </tbody>\n</table>\n<p>879887 rows × 8 columns</p>\n</div>"
     },
     "metadata": {},
     "execution_count": 92
    }
   ],
   "source": [
    "\n",
    "import json\n",
    "file = open('./datasets/italian/hydrated_tweets_it_short.json', 'r')\n",
    "data = []\n",
    "for line in file:\n",
    "    data.append(json.loads(line))\n",
    "\n",
    "italian_raw = pd.json_normalize(data)\n",
    "print(italian_raw.shape)\n",
    "italian_raw"
   ]
  },
  {
   "source": [
    "### Preproccess functions"
   ],
   "cell_type": "markdown",
   "metadata": {}
  },
  {
   "cell_type": "code",
   "execution_count": 93,
   "metadata": {},
   "outputs": [],
   "source": [
    "from emot.emo_unicode import UNICODE_EMO, EMOTICONS\n",
    "import emoji\n",
    "import re\n",
    "\n",
    "def remove_emoticons(text):\n",
    "    emoticon_pattern = re.compile(u'(' + u'|'.join(k for k in EMOTICONS) + u')')\n",
    "    return emoticon_pattern.sub(r'', text)\n",
    "\n",
    "def remove_emoji(text):\n",
    "    emoji_pattern = re.compile(\"[\"\n",
    "                           u\"\\U0001F600-\\U0001F64F\"  # emoticons\n",
    "                           u\"\\U0001F300-\\U0001F5FF\"  # symbols & pictographs\n",
    "                           u\"\\U0001F680-\\U0001F6FF\"  # transport & map symbols\n",
    "                           u\"\\U0001F1E0-\\U0001F1FF\"  # flags (iOS)\n",
    "                           u\"\\U00002702-\\U000027B0\"\n",
    "                           u\"\\U000024C2-\\U0001F251\"\n",
    "                           \"]+\", flags=re.UNICODE)\n",
    "    return emoji_pattern.sub(r'', text)\n",
    "\n",
    "def remove_urls(text):\n",
    "    result = re.sub(r\"http\\S+\", \"\", text)\n",
    "    return(result)\n",
    "\n",
    "def remove_twitter_urls(text):\n",
    "    clean = re.sub(r\"pic.twitter\\S+\", \"\",text)\n",
    "    return(clean)\n",
    "\n",
    "def give_emoji_free_text(text):\n",
    "    return emoji.get_emoji_regexp().sub(r'', text)"
   ]
  },
  {
   "source": [
    "## Preproccess\n",
    "\n",
    "Here we remove blank characters, urls information, emojis, etc "
   ],
   "cell_type": "markdown",
   "metadata": {}
  },
  {
   "cell_type": "code",
   "execution_count": 94,
   "metadata": {},
   "outputs": [
    {
     "output_type": "stream",
     "name": "stdout",
     "text": [
      "Blank space removed\n",
      "Special character removed\n",
      "urls removed\n",
      "Twitter urls removed\n",
      "Emoticons removed\n",
      "Emojis removed\n"
     ]
    },
    {
     "output_type": "execute_result",
     "data": {
      "text/plain": [
       "                            created_at  \\\n",
       "0       Fri Nov 06 20:32:15 +0000 2020   \n",
       "1       Thu Jul 30 08:01:22 +0000 2020   \n",
       "2       Tue Nov 10 15:54:51 +0000 2020   \n",
       "3       Mon Jun 22 18:30:22 +0000 2020   \n",
       "4       Thu Mar 26 10:10:20 +0000 2020   \n",
       "...                                ...   \n",
       "879882  Fri Apr 17 09:11:49 +0000 2020   \n",
       "879883  Sun Nov 15 19:29:01 +0000 2020   \n",
       "879884  Thu Jun 04 09:05:28 +0000 2020   \n",
       "879885  Tue Feb 16 08:13:17 +0000 2021   \n",
       "879886  Sat Nov 21 18:08:48 +0000 2020   \n",
       "\n",
       "                                                     text  \\\n",
       "0       Il prof. #Galli è molto preoccupato da quanto ...   \n",
       "1       Il COVID-19 coincide con un momento cruciale n...   \n",
       "2       Muoviamoci #vaccinoCovid #coronavirus #COVID19...   \n",
       "3       @mosllerdd @Cartabellotta Si sarebbero potute ...   \n",
       "4       @morzo6 @CNN Purtroppo sì. State a casa. Disin...   \n",
       "...                                                   ...   \n",
       "879882  La scelta delle #CaseRiposo è stata fatta perc...   \n",
       "879883                                E sì, proprio vero    \n",
       "879884  @IamEluruSreenu anna di notification vacchindi...   \n",
       "879885  Poco fa entra da me un cliente, ricercatore un...   \n",
       "879886  Coronavirus - Altri due beneventani morti oggi...   \n",
       "\n",
       "       in_reply_to_screen_name  retweet_count  favorite_count  \\\n",
       "0                         None              0               1   \n",
       "1                         None              1               1   \n",
       "2                         None              0               1   \n",
       "3                    mosllerdd              0               7   \n",
       "4                       morzo6              1               2   \n",
       "...                        ...            ...             ...   \n",
       "879882                    None             36              46   \n",
       "879883                    None              1               1   \n",
       "879884          IamEluruSreenu              0               0   \n",
       "879885                    None              0               0   \n",
       "879886                    None              0               0   \n",
       "\n",
       "                     source               id_str  is_retweet  \n",
       "0                iLMeteo.it  1324811856859533313       False  \n",
       "1            Hootsuite Inc.  1288746494368124928       False  \n",
       "2        Twitter for iPhone  1326191597785059329       False  \n",
       "3           Twitter Web App  1275134048722132993       False  \n",
       "4        Twitter for iPhone  1243118079091118080       False  \n",
       "...                     ...                  ...         ...  \n",
       "879882   Twitter Web Client  1251075883982630913       False  \n",
       "879883  Twitter for Android  1328057436436115456       False  \n",
       "879884  Twitter for Android  1268468904164237319       False  \n",
       "879885      Twitter Web App  1361589453001744384       False  \n",
       "879886          IlVaglio.it  1330211577245687815       False  \n",
       "\n",
       "[879887 rows x 8 columns]"
      ],
      "text/html": "<div>\n<style scoped>\n    .dataframe tbody tr th:only-of-type {\n        vertical-align: middle;\n    }\n\n    .dataframe tbody tr th {\n        vertical-align: top;\n    }\n\n    .dataframe thead th {\n        text-align: right;\n    }\n</style>\n<table border=\"1\" class=\"dataframe\">\n  <thead>\n    <tr style=\"text-align: right;\">\n      <th></th>\n      <th>created_at</th>\n      <th>text</th>\n      <th>in_reply_to_screen_name</th>\n      <th>retweet_count</th>\n      <th>favorite_count</th>\n      <th>source</th>\n      <th>id_str</th>\n      <th>is_retweet</th>\n    </tr>\n  </thead>\n  <tbody>\n    <tr>\n      <th>0</th>\n      <td>Fri Nov 06 20:32:15 +0000 2020</td>\n      <td>Il prof. #Galli è molto preoccupato da quanto ...</td>\n      <td>None</td>\n      <td>0</td>\n      <td>1</td>\n      <td>iLMeteo.it</td>\n      <td>1324811856859533313</td>\n      <td>False</td>\n    </tr>\n    <tr>\n      <th>1</th>\n      <td>Thu Jul 30 08:01:22 +0000 2020</td>\n      <td>Il COVID-19 coincide con un momento cruciale n...</td>\n      <td>None</td>\n      <td>1</td>\n      <td>1</td>\n      <td>Hootsuite Inc.</td>\n      <td>1288746494368124928</td>\n      <td>False</td>\n    </tr>\n    <tr>\n      <th>2</th>\n      <td>Tue Nov 10 15:54:51 +0000 2020</td>\n      <td>Muoviamoci #vaccinoCovid #coronavirus #COVID19...</td>\n      <td>None</td>\n      <td>0</td>\n      <td>1</td>\n      <td>Twitter for iPhone</td>\n      <td>1326191597785059329</td>\n      <td>False</td>\n    </tr>\n    <tr>\n      <th>3</th>\n      <td>Mon Jun 22 18:30:22 +0000 2020</td>\n      <td>@mosllerdd @Cartabellotta Si sarebbero potute ...</td>\n      <td>mosllerdd</td>\n      <td>0</td>\n      <td>7</td>\n      <td>Twitter Web App</td>\n      <td>1275134048722132993</td>\n      <td>False</td>\n    </tr>\n    <tr>\n      <th>4</th>\n      <td>Thu Mar 26 10:10:20 +0000 2020</td>\n      <td>@morzo6 @CNN Purtroppo sì. State a casa. Disin...</td>\n      <td>morzo6</td>\n      <td>1</td>\n      <td>2</td>\n      <td>Twitter for iPhone</td>\n      <td>1243118079091118080</td>\n      <td>False</td>\n    </tr>\n    <tr>\n      <th>...</th>\n      <td>...</td>\n      <td>...</td>\n      <td>...</td>\n      <td>...</td>\n      <td>...</td>\n      <td>...</td>\n      <td>...</td>\n      <td>...</td>\n    </tr>\n    <tr>\n      <th>879882</th>\n      <td>Fri Apr 17 09:11:49 +0000 2020</td>\n      <td>La scelta delle #CaseRiposo è stata fatta perc...</td>\n      <td>None</td>\n      <td>36</td>\n      <td>46</td>\n      <td>Twitter Web Client</td>\n      <td>1251075883982630913</td>\n      <td>False</td>\n    </tr>\n    <tr>\n      <th>879883</th>\n      <td>Sun Nov 15 19:29:01 +0000 2020</td>\n      <td>E sì, proprio vero</td>\n      <td>None</td>\n      <td>1</td>\n      <td>1</td>\n      <td>Twitter for Android</td>\n      <td>1328057436436115456</td>\n      <td>False</td>\n    </tr>\n    <tr>\n      <th>879884</th>\n      <td>Thu Jun 04 09:05:28 +0000 2020</td>\n      <td>@IamEluruSreenu anna di notification vacchindi...</td>\n      <td>IamEluruSreenu</td>\n      <td>0</td>\n      <td>0</td>\n      <td>Twitter for Android</td>\n      <td>1268468904164237319</td>\n      <td>False</td>\n    </tr>\n    <tr>\n      <th>879885</th>\n      <td>Tue Feb 16 08:13:17 +0000 2021</td>\n      <td>Poco fa entra da me un cliente, ricercatore un...</td>\n      <td>None</td>\n      <td>0</td>\n      <td>0</td>\n      <td>Twitter Web App</td>\n      <td>1361589453001744384</td>\n      <td>False</td>\n    </tr>\n    <tr>\n      <th>879886</th>\n      <td>Sat Nov 21 18:08:48 +0000 2020</td>\n      <td>Coronavirus - Altri due beneventani morti oggi...</td>\n      <td>None</td>\n      <td>0</td>\n      <td>0</td>\n      <td>IlVaglio.it</td>\n      <td>1330211577245687815</td>\n      <td>False</td>\n    </tr>\n  </tbody>\n</table>\n<p>879887 rows × 8 columns</p>\n</div>"
     },
     "metadata": {},
     "execution_count": 94
    }
   ],
   "source": [
    "def preproccess(data):\n",
    "    data['text'] = data['text'].str.replace('\\n','')\n",
    "    print('Blank space removed')\n",
    "    data['text'] = data['text'].str.replace('\\r','')\n",
    "    print('Special character removed')\n",
    "    data['text'] = data['text'].apply(lambda x : remove_urls(x))\n",
    "    print('urls removed')\n",
    "    data['text'] = data['text'].apply(lambda x : remove_twitter_urls(x))\n",
    "    print('Twitter urls removed')\n",
    "    data['text'] = data['text'].apply(lambda x : remove_emoticons(x))\n",
    "    print('Emoticons removed')\n",
    "    data['text'] = data['text'].apply(lambda x : remove_emoji(x))\n",
    "    print('Emojis removed')\n",
    "\n",
    "preproccess(italian_raw)\n",
    "italian_raw"
   ]
  },
  {
   "source": [
    "### Parse date time column\n",
    "Here we format string column to date column"
   ],
   "cell_type": "markdown",
   "metadata": {}
  },
  {
   "cell_type": "code",
   "execution_count": 133,
   "metadata": {},
   "outputs": [
    {
     "output_type": "stream",
     "name": "stdout",
     "text": [
      "datetime64[ns, UTC]\n(879887, 9)\n"
     ]
    },
    {
     "output_type": "execute_result",
     "data": {
      "text/plain": [
       "                      created_at  \\\n",
       "0      2020-11-06 20:32:15+00:00   \n",
       "1      2020-07-30 08:01:22+00:00   \n",
       "2      2020-11-10 15:54:51+00:00   \n",
       "3      2020-06-22 18:30:22+00:00   \n",
       "4      2020-03-26 10:10:20+00:00   \n",
       "...                          ...   \n",
       "879882 2020-04-17 09:11:49+00:00   \n",
       "879883 2020-11-15 19:29:01+00:00   \n",
       "879884 2020-06-04 09:05:28+00:00   \n",
       "879885 2021-02-16 08:13:17+00:00   \n",
       "879886 2020-11-21 18:08:48+00:00   \n",
       "\n",
       "                                                     text  \\\n",
       "0       Il prof. #Galli è molto preoccupato da quanto ...   \n",
       "1       Il COVID-19 coincide con un momento cruciale n...   \n",
       "2       Muoviamoci #vaccinoCovid #coronavirus #COVID19...   \n",
       "3       @mosllerdd @Cartabellotta Si sarebbero potute ...   \n",
       "4       @morzo6 @CNN Purtroppo sì. State a casa. Disin...   \n",
       "...                                                   ...   \n",
       "879882  La scelta delle #CaseRiposo è stata fatta perc...   \n",
       "879883                                E sì, proprio vero    \n",
       "879884  @IamEluruSreenu anna di notification vacchindi...   \n",
       "879885  Poco fa entra da me un cliente, ricercatore un...   \n",
       "879886  Coronavirus - Altri due beneventani morti oggi...   \n",
       "\n",
       "       in_reply_to_screen_name  retweet_count  favorite_count  \\\n",
       "0                         None              0               1   \n",
       "1                         None              1               1   \n",
       "2                         None              0               1   \n",
       "3                    mosllerdd              0               7   \n",
       "4                       morzo6              1               2   \n",
       "...                        ...            ...             ...   \n",
       "879882                    None             36              46   \n",
       "879883                    None              1               1   \n",
       "879884          IamEluruSreenu              0               0   \n",
       "879885                    None              0               0   \n",
       "879886                    None              0               0   \n",
       "\n",
       "                     source               id_str  is_retweet  publication_date  \n",
       "0                iLMeteo.it  1324811856859533313       False      1.604695e+09  \n",
       "1            Hootsuite Inc.  1288746494368124928       False      1.596096e+09  \n",
       "2        Twitter for iPhone  1326191597785059329       False      1.605024e+09  \n",
       "3           Twitter Web App  1275134048722132993       False      1.592851e+09  \n",
       "4        Twitter for iPhone  1243118079091118080       False      1.585217e+09  \n",
       "...                     ...                  ...         ...               ...  \n",
       "879882   Twitter Web Client  1251075883982630913       False      1.587115e+09  \n",
       "879883  Twitter for Android  1328057436436115456       False      1.605469e+09  \n",
       "879884  Twitter for Android  1268468904164237319       False      1.591262e+09  \n",
       "879885      Twitter Web App  1361589453001744384       False      1.613463e+09  \n",
       "879886          IlVaglio.it  1330211577245687815       False      1.605982e+09  \n",
       "\n",
       "[879887 rows x 9 columns]"
      ],
      "text/html": "<div>\n<style scoped>\n    .dataframe tbody tr th:only-of-type {\n        vertical-align: middle;\n    }\n\n    .dataframe tbody tr th {\n        vertical-align: top;\n    }\n\n    .dataframe thead th {\n        text-align: right;\n    }\n</style>\n<table border=\"1\" class=\"dataframe\">\n  <thead>\n    <tr style=\"text-align: right;\">\n      <th></th>\n      <th>created_at</th>\n      <th>text</th>\n      <th>in_reply_to_screen_name</th>\n      <th>retweet_count</th>\n      <th>favorite_count</th>\n      <th>source</th>\n      <th>id_str</th>\n      <th>is_retweet</th>\n      <th>publication_date</th>\n    </tr>\n  </thead>\n  <tbody>\n    <tr>\n      <th>0</th>\n      <td>2020-11-06 20:32:15+00:00</td>\n      <td>Il prof. #Galli è molto preoccupato da quanto ...</td>\n      <td>None</td>\n      <td>0</td>\n      <td>1</td>\n      <td>iLMeteo.it</td>\n      <td>1324811856859533313</td>\n      <td>False</td>\n      <td>1.604695e+09</td>\n    </tr>\n    <tr>\n      <th>1</th>\n      <td>2020-07-30 08:01:22+00:00</td>\n      <td>Il COVID-19 coincide con un momento cruciale n...</td>\n      <td>None</td>\n      <td>1</td>\n      <td>1</td>\n      <td>Hootsuite Inc.</td>\n      <td>1288746494368124928</td>\n      <td>False</td>\n      <td>1.596096e+09</td>\n    </tr>\n    <tr>\n      <th>2</th>\n      <td>2020-11-10 15:54:51+00:00</td>\n      <td>Muoviamoci #vaccinoCovid #coronavirus #COVID19...</td>\n      <td>None</td>\n      <td>0</td>\n      <td>1</td>\n      <td>Twitter for iPhone</td>\n      <td>1326191597785059329</td>\n      <td>False</td>\n      <td>1.605024e+09</td>\n    </tr>\n    <tr>\n      <th>3</th>\n      <td>2020-06-22 18:30:22+00:00</td>\n      <td>@mosllerdd @Cartabellotta Si sarebbero potute ...</td>\n      <td>mosllerdd</td>\n      <td>0</td>\n      <td>7</td>\n      <td>Twitter Web App</td>\n      <td>1275134048722132993</td>\n      <td>False</td>\n      <td>1.592851e+09</td>\n    </tr>\n    <tr>\n      <th>4</th>\n      <td>2020-03-26 10:10:20+00:00</td>\n      <td>@morzo6 @CNN Purtroppo sì. State a casa. Disin...</td>\n      <td>morzo6</td>\n      <td>1</td>\n      <td>2</td>\n      <td>Twitter for iPhone</td>\n      <td>1243118079091118080</td>\n      <td>False</td>\n      <td>1.585217e+09</td>\n    </tr>\n    <tr>\n      <th>...</th>\n      <td>...</td>\n      <td>...</td>\n      <td>...</td>\n      <td>...</td>\n      <td>...</td>\n      <td>...</td>\n      <td>...</td>\n      <td>...</td>\n      <td>...</td>\n    </tr>\n    <tr>\n      <th>879882</th>\n      <td>2020-04-17 09:11:49+00:00</td>\n      <td>La scelta delle #CaseRiposo è stata fatta perc...</td>\n      <td>None</td>\n      <td>36</td>\n      <td>46</td>\n      <td>Twitter Web Client</td>\n      <td>1251075883982630913</td>\n      <td>False</td>\n      <td>1.587115e+09</td>\n    </tr>\n    <tr>\n      <th>879883</th>\n      <td>2020-11-15 19:29:01+00:00</td>\n      <td>E sì, proprio vero</td>\n      <td>None</td>\n      <td>1</td>\n      <td>1</td>\n      <td>Twitter for Android</td>\n      <td>1328057436436115456</td>\n      <td>False</td>\n      <td>1.605469e+09</td>\n    </tr>\n    <tr>\n      <th>879884</th>\n      <td>2020-06-04 09:05:28+00:00</td>\n      <td>@IamEluruSreenu anna di notification vacchindi...</td>\n      <td>IamEluruSreenu</td>\n      <td>0</td>\n      <td>0</td>\n      <td>Twitter for Android</td>\n      <td>1268468904164237319</td>\n      <td>False</td>\n      <td>1.591262e+09</td>\n    </tr>\n    <tr>\n      <th>879885</th>\n      <td>2021-02-16 08:13:17+00:00</td>\n      <td>Poco fa entra da me un cliente, ricercatore un...</td>\n      <td>None</td>\n      <td>0</td>\n      <td>0</td>\n      <td>Twitter Web App</td>\n      <td>1361589453001744384</td>\n      <td>False</td>\n      <td>1.613463e+09</td>\n    </tr>\n    <tr>\n      <th>879886</th>\n      <td>2020-11-21 18:08:48+00:00</td>\n      <td>Coronavirus - Altri due beneventani morti oggi...</td>\n      <td>None</td>\n      <td>0</td>\n      <td>0</td>\n      <td>IlVaglio.it</td>\n      <td>1330211577245687815</td>\n      <td>False</td>\n      <td>1.605982e+09</td>\n    </tr>\n  </tbody>\n</table>\n<p>879887 rows × 9 columns</p>\n</div>"
     },
     "metadata": {},
     "execution_count": 133
    }
   ],
   "source": [
    "italian_raw['created_at'] = pd.to_datetime(italian_raw['created_at'], format='%a %b %d %H:%M:%S %z %Y',)\n",
    "italian_raw['publication_date'] = pd.to_datetime(italian_raw['created_at'], unit='ms').astype(np.int64) / int(1e9) #Seconds since epoch\n",
    "print(italian_raw['created_at'].dtypes)\n",
    "print(italian_raw.shape)\n",
    "italian_raw"
   ]
  },
  {
   "source": [
    "## Write italian json"
   ],
   "cell_type": "markdown",
   "metadata": {}
  },
  {
   "cell_type": "code",
   "execution_count": 153,
   "metadata": {},
   "outputs": [
    {
     "output_type": "stream",
     "name": "stdout",
     "text": [
      "Vanilla json wrote\n",
      "Compressed json wrote\n"
     ]
    }
   ],
   "source": [
    "italian_raw['source'] = 'twitter'\n",
    "italian_raw['author'] = 'nn'\n",
    "italian_raw['id'] = italian_raw['id_str']\n",
    "columns = ['id', 'publication_date', 'source', 'text']\n",
    "italian_raw[columns].to_json(path_or_buf='./datasets/italian/italianV1.json', orient='records', lines=True)\n",
    "print('Vanilla json wrote')\n",
    "# Compressedd version\n",
    "italian_raw[columns].to_json(path_or_buf='./datasets/italian/italianV1.json.gz', orient='records', lines=True, compression='gzip')\n",
    "print('Compressed json wrote')"
   ]
  },
  {
   "source": [
    "# Spanish"
   ],
   "cell_type": "markdown",
   "metadata": {}
  },
  {
   "source": [
    "Reading spanish tweets"
   ],
   "cell_type": "markdown",
   "metadata": {}
  },
  {
   "cell_type": "code",
   "execution_count": 154,
   "metadata": {},
   "outputs": [
    {
     "output_type": "stream",
     "name": "stdout",
     "text": [
      "(886351, 8)\n"
     ]
    },
    {
     "output_type": "execute_result",
     "data": {
      "text/plain": [
       "                            created_at  \\\n",
       "0       Fri Sep 11 12:08:19 +0000 2020   \n",
       "1       Wed Sep 23 17:40:08 +0000 2020   \n",
       "2       Thu Apr 30 18:39:13 +0000 2020   \n",
       "3       Wed Mar 03 08:09:07 +0000 2021   \n",
       "4       Thu Jul 02 13:56:34 +0000 2020   \n",
       "...                                ...   \n",
       "886346  Fri Mar 06 22:47:29 +0000 2020   \n",
       "886347  Sat Apr 10 08:20:02 +0000 2021   \n",
       "886348  Tue Feb 25 14:35:22 +0000 2020   \n",
       "886349  Thu Apr 01 11:21:29 +0000 2021   \n",
       "886350  Wed May 20 06:57:01 +0000 2020   \n",
       "\n",
       "                                                     text  \\\n",
       "0       ORACIÓN DIARIA\\nViernes 11 de Septiembre 2020\\...   \n",
       "1       Se pudrió todo. Acá la FIFA debe castigar a la...   \n",
       "2       ☣️😷 Última  Publicación  en la Prensaldia -  😉...   \n",
       "3       Australia = 0 positivos por coronavirus.\\n¿Vac...   \n",
       "4       coronavirus esto ya es personal https://t.co/O...   \n",
       "...                                                   ...   \n",
       "886346  La gente pillando coronavirus\\nY tú sin pillar...   \n",
       "886347  📝 El martes 27 de abril, no te pierdas el prim...   \n",
       "886348  Italia registra el primer caso de coronavirus ...   \n",
       "886349  Colombia registra 8.646 casos nuevos y 167 mue...   \n",
       "886350  Lo máximo que ha conseguido la ultraderecha co...   \n",
       "\n",
       "       in_reply_to_screen_name  retweet_count  favorite_count  \\\n",
       "0                         None              4              19   \n",
       "1                         None              1               5   \n",
       "2                         None              0               0   \n",
       "3                         None              0               0   \n",
       "4                         None              0               0   \n",
       "...                        ...            ...             ...   \n",
       "886346                    None              0               4   \n",
       "886347                    None              0               3   \n",
       "886348                    None              1               5   \n",
       "886349                    None              0               0   \n",
       "886350                    None              1               1   \n",
       "\n",
       "                     source               id_str  is_retweet  \n",
       "0       Twitter for Android  1304391319972790274       False  \n",
       "1       Twitter for Android  1308823479077175297       False  \n",
       "2                 Instagram  1255929719893221377       False  \n",
       "3       Twitter for Android  1367024221319286784       False  \n",
       "4       Twitter for Android  1278689023087849480       False  \n",
       "...                     ...                  ...         ...  \n",
       "886346  Twitter for Android  1236060862122799104       False  \n",
       "886347       Hootsuite Inc.  1380797710693982208       False  \n",
       "886348   Twitter Web Client  1232313141091946496       False  \n",
       "886349   Twitter for iPhone  1377581882553069569       False  \n",
       "886350        Comitium5 BAB  1263000762730319877       False  \n",
       "\n",
       "[886351 rows x 8 columns]"
      ],
      "text/html": "<div>\n<style scoped>\n    .dataframe tbody tr th:only-of-type {\n        vertical-align: middle;\n    }\n\n    .dataframe tbody tr th {\n        vertical-align: top;\n    }\n\n    .dataframe thead th {\n        text-align: right;\n    }\n</style>\n<table border=\"1\" class=\"dataframe\">\n  <thead>\n    <tr style=\"text-align: right;\">\n      <th></th>\n      <th>created_at</th>\n      <th>text</th>\n      <th>in_reply_to_screen_name</th>\n      <th>retweet_count</th>\n      <th>favorite_count</th>\n      <th>source</th>\n      <th>id_str</th>\n      <th>is_retweet</th>\n    </tr>\n  </thead>\n  <tbody>\n    <tr>\n      <th>0</th>\n      <td>Fri Sep 11 12:08:19 +0000 2020</td>\n      <td>ORACIÓN DIARIA\\nViernes 11 de Septiembre 2020\\...</td>\n      <td>None</td>\n      <td>4</td>\n      <td>19</td>\n      <td>Twitter for Android</td>\n      <td>1304391319972790274</td>\n      <td>False</td>\n    </tr>\n    <tr>\n      <th>1</th>\n      <td>Wed Sep 23 17:40:08 +0000 2020</td>\n      <td>Se pudrió todo. Acá la FIFA debe castigar a la...</td>\n      <td>None</td>\n      <td>1</td>\n      <td>5</td>\n      <td>Twitter for Android</td>\n      <td>1308823479077175297</td>\n      <td>False</td>\n    </tr>\n    <tr>\n      <th>2</th>\n      <td>Thu Apr 30 18:39:13 +0000 2020</td>\n      <td>☣️😷 Última  Publicación  en la Prensaldia -  😉...</td>\n      <td>None</td>\n      <td>0</td>\n      <td>0</td>\n      <td>Instagram</td>\n      <td>1255929719893221377</td>\n      <td>False</td>\n    </tr>\n    <tr>\n      <th>3</th>\n      <td>Wed Mar 03 08:09:07 +0000 2021</td>\n      <td>Australia = 0 positivos por coronavirus.\\n¿Vac...</td>\n      <td>None</td>\n      <td>0</td>\n      <td>0</td>\n      <td>Twitter for Android</td>\n      <td>1367024221319286784</td>\n      <td>False</td>\n    </tr>\n    <tr>\n      <th>4</th>\n      <td>Thu Jul 02 13:56:34 +0000 2020</td>\n      <td>coronavirus esto ya es personal https://t.co/O...</td>\n      <td>None</td>\n      <td>0</td>\n      <td>0</td>\n      <td>Twitter for Android</td>\n      <td>1278689023087849480</td>\n      <td>False</td>\n    </tr>\n    <tr>\n      <th>...</th>\n      <td>...</td>\n      <td>...</td>\n      <td>...</td>\n      <td>...</td>\n      <td>...</td>\n      <td>...</td>\n      <td>...</td>\n      <td>...</td>\n    </tr>\n    <tr>\n      <th>886346</th>\n      <td>Fri Mar 06 22:47:29 +0000 2020</td>\n      <td>La gente pillando coronavirus\\nY tú sin pillar...</td>\n      <td>None</td>\n      <td>0</td>\n      <td>4</td>\n      <td>Twitter for Android</td>\n      <td>1236060862122799104</td>\n      <td>False</td>\n    </tr>\n    <tr>\n      <th>886347</th>\n      <td>Sat Apr 10 08:20:02 +0000 2021</td>\n      <td>📝 El martes 27 de abril, no te pierdas el prim...</td>\n      <td>None</td>\n      <td>0</td>\n      <td>3</td>\n      <td>Hootsuite Inc.</td>\n      <td>1380797710693982208</td>\n      <td>False</td>\n    </tr>\n    <tr>\n      <th>886348</th>\n      <td>Tue Feb 25 14:35:22 +0000 2020</td>\n      <td>Italia registra el primer caso de coronavirus ...</td>\n      <td>None</td>\n      <td>1</td>\n      <td>5</td>\n      <td>Twitter Web Client</td>\n      <td>1232313141091946496</td>\n      <td>False</td>\n    </tr>\n    <tr>\n      <th>886349</th>\n      <td>Thu Apr 01 11:21:29 +0000 2021</td>\n      <td>Colombia registra 8.646 casos nuevos y 167 mue...</td>\n      <td>None</td>\n      <td>0</td>\n      <td>0</td>\n      <td>Twitter for iPhone</td>\n      <td>1377581882553069569</td>\n      <td>False</td>\n    </tr>\n    <tr>\n      <th>886350</th>\n      <td>Wed May 20 06:57:01 +0000 2020</td>\n      <td>Lo máximo que ha conseguido la ultraderecha co...</td>\n      <td>None</td>\n      <td>1</td>\n      <td>1</td>\n      <td>Comitium5 BAB</td>\n      <td>1263000762730319877</td>\n      <td>False</td>\n    </tr>\n  </tbody>\n</table>\n<p>886351 rows × 8 columns</p>\n</div>"
     },
     "metadata": {},
     "execution_count": 154
    }
   ],
   "source": [
    "import json\n",
    "file = open('./datasets/spanish/hydrated_tweets_es_short.json', 'r')\n",
    "data = []\n",
    "for line in file:\n",
    "    data.append(json.loads(line))\n",
    "\n",
    "spanish_raw = pd.json_normalize(data)\n",
    "print(spanish_raw.shape)\n",
    "spanish_raw"
   ]
  },
  {
   "source": [
    "## Spanish Preproccess\n",
    "\n",
    "Here we remove blank characters, urls information, emojis, etc "
   ],
   "cell_type": "markdown",
   "metadata": {}
  },
  {
   "cell_type": "code",
   "execution_count": 155,
   "metadata": {},
   "outputs": [
    {
     "output_type": "stream",
     "name": "stdout",
     "text": [
      "Blank space removed\n",
      "Special character removed\n",
      "urls removed\n",
      "Twitter urls removed\n",
      "Emoticons removed\n",
      "Emojis removed\n"
     ]
    },
    {
     "output_type": "execute_result",
     "data": {
      "text/plain": [
       "                            created_at  \\\n",
       "0       Fri Sep 11 12:08:19 +0000 2020   \n",
       "1       Wed Sep 23 17:40:08 +0000 2020   \n",
       "2       Thu Apr 30 18:39:13 +0000 2020   \n",
       "3       Wed Mar 03 08:09:07 +0000 2021   \n",
       "4       Thu Jul 02 13:56:34 +0000 2020   \n",
       "...                                ...   \n",
       "886346  Fri Mar 06 22:47:29 +0000 2020   \n",
       "886347  Sat Apr 10 08:20:02 +0000 2021   \n",
       "886348  Tue Feb 25 14:35:22 +0000 2020   \n",
       "886349  Thu Apr 01 11:21:29 +0000 2021   \n",
       "886350  Wed May 20 06:57:01 +0000 2020   \n",
       "\n",
       "                                                     text  \\\n",
       "0       ORACIÓN DIARIAViernes 11 de Septiembre 2020#or...   \n",
       "1       Se pudrió todo. Acá la FIFA debe castigar a la...   \n",
       "2        Última  Publicación  en la Prensaldia -   @ca...   \n",
       "3       Australia = 0 positivos por coronavirus.¿Vacun...   \n",
       "4                        coronavirus esto ya es personal    \n",
       "...                                                   ...   \n",
       "886346  La gente pillando coronavirusY tú sin pillarme...   \n",
       "886347   El martes 27 de abril, no te pierdas el prime...   \n",
       "886348  Italia registra el primer caso de coronavirus ...   \n",
       "886349  Colombia registra 8.646 casos nuevos y 167 mue...   \n",
       "886350  Lo máximo que ha conseguido la ultraderecha co...   \n",
       "\n",
       "       in_reply_to_screen_name  retweet_count  favorite_count  \\\n",
       "0                         None              4              19   \n",
       "1                         None              1               5   \n",
       "2                         None              0               0   \n",
       "3                         None              0               0   \n",
       "4                         None              0               0   \n",
       "...                        ...            ...             ...   \n",
       "886346                    None              0               4   \n",
       "886347                    None              0               3   \n",
       "886348                    None              1               5   \n",
       "886349                    None              0               0   \n",
       "886350                    None              1               1   \n",
       "\n",
       "                     source               id_str  is_retweet  \n",
       "0       Twitter for Android  1304391319972790274       False  \n",
       "1       Twitter for Android  1308823479077175297       False  \n",
       "2                 Instagram  1255929719893221377       False  \n",
       "3       Twitter for Android  1367024221319286784       False  \n",
       "4       Twitter for Android  1278689023087849480       False  \n",
       "...                     ...                  ...         ...  \n",
       "886346  Twitter for Android  1236060862122799104       False  \n",
       "886347       Hootsuite Inc.  1380797710693982208       False  \n",
       "886348   Twitter Web Client  1232313141091946496       False  \n",
       "886349   Twitter for iPhone  1377581882553069569       False  \n",
       "886350        Comitium5 BAB  1263000762730319877       False  \n",
       "\n",
       "[886351 rows x 8 columns]"
      ],
      "text/html": "<div>\n<style scoped>\n    .dataframe tbody tr th:only-of-type {\n        vertical-align: middle;\n    }\n\n    .dataframe tbody tr th {\n        vertical-align: top;\n    }\n\n    .dataframe thead th {\n        text-align: right;\n    }\n</style>\n<table border=\"1\" class=\"dataframe\">\n  <thead>\n    <tr style=\"text-align: right;\">\n      <th></th>\n      <th>created_at</th>\n      <th>text</th>\n      <th>in_reply_to_screen_name</th>\n      <th>retweet_count</th>\n      <th>favorite_count</th>\n      <th>source</th>\n      <th>id_str</th>\n      <th>is_retweet</th>\n    </tr>\n  </thead>\n  <tbody>\n    <tr>\n      <th>0</th>\n      <td>Fri Sep 11 12:08:19 +0000 2020</td>\n      <td>ORACIÓN DIARIAViernes 11 de Septiembre 2020#or...</td>\n      <td>None</td>\n      <td>4</td>\n      <td>19</td>\n      <td>Twitter for Android</td>\n      <td>1304391319972790274</td>\n      <td>False</td>\n    </tr>\n    <tr>\n      <th>1</th>\n      <td>Wed Sep 23 17:40:08 +0000 2020</td>\n      <td>Se pudrió todo. Acá la FIFA debe castigar a la...</td>\n      <td>None</td>\n      <td>1</td>\n      <td>5</td>\n      <td>Twitter for Android</td>\n      <td>1308823479077175297</td>\n      <td>False</td>\n    </tr>\n    <tr>\n      <th>2</th>\n      <td>Thu Apr 30 18:39:13 +0000 2020</td>\n      <td>Última  Publicación  en la Prensaldia -   @ca...</td>\n      <td>None</td>\n      <td>0</td>\n      <td>0</td>\n      <td>Instagram</td>\n      <td>1255929719893221377</td>\n      <td>False</td>\n    </tr>\n    <tr>\n      <th>3</th>\n      <td>Wed Mar 03 08:09:07 +0000 2021</td>\n      <td>Australia = 0 positivos por coronavirus.¿Vacun...</td>\n      <td>None</td>\n      <td>0</td>\n      <td>0</td>\n      <td>Twitter for Android</td>\n      <td>1367024221319286784</td>\n      <td>False</td>\n    </tr>\n    <tr>\n      <th>4</th>\n      <td>Thu Jul 02 13:56:34 +0000 2020</td>\n      <td>coronavirus esto ya es personal</td>\n      <td>None</td>\n      <td>0</td>\n      <td>0</td>\n      <td>Twitter for Android</td>\n      <td>1278689023087849480</td>\n      <td>False</td>\n    </tr>\n    <tr>\n      <th>...</th>\n      <td>...</td>\n      <td>...</td>\n      <td>...</td>\n      <td>...</td>\n      <td>...</td>\n      <td>...</td>\n      <td>...</td>\n      <td>...</td>\n    </tr>\n    <tr>\n      <th>886346</th>\n      <td>Fri Mar 06 22:47:29 +0000 2020</td>\n      <td>La gente pillando coronavirusY tú sin pillarme...</td>\n      <td>None</td>\n      <td>0</td>\n      <td>4</td>\n      <td>Twitter for Android</td>\n      <td>1236060862122799104</td>\n      <td>False</td>\n    </tr>\n    <tr>\n      <th>886347</th>\n      <td>Sat Apr 10 08:20:02 +0000 2021</td>\n      <td>El martes 27 de abril, no te pierdas el prime...</td>\n      <td>None</td>\n      <td>0</td>\n      <td>3</td>\n      <td>Hootsuite Inc.</td>\n      <td>1380797710693982208</td>\n      <td>False</td>\n    </tr>\n    <tr>\n      <th>886348</th>\n      <td>Tue Feb 25 14:35:22 +0000 2020</td>\n      <td>Italia registra el primer caso de coronavirus ...</td>\n      <td>None</td>\n      <td>1</td>\n      <td>5</td>\n      <td>Twitter Web Client</td>\n      <td>1232313141091946496</td>\n      <td>False</td>\n    </tr>\n    <tr>\n      <th>886349</th>\n      <td>Thu Apr 01 11:21:29 +0000 2021</td>\n      <td>Colombia registra 8.646 casos nuevos y 167 mue...</td>\n      <td>None</td>\n      <td>0</td>\n      <td>0</td>\n      <td>Twitter for iPhone</td>\n      <td>1377581882553069569</td>\n      <td>False</td>\n    </tr>\n    <tr>\n      <th>886350</th>\n      <td>Wed May 20 06:57:01 +0000 2020</td>\n      <td>Lo máximo que ha conseguido la ultraderecha co...</td>\n      <td>None</td>\n      <td>1</td>\n      <td>1</td>\n      <td>Comitium5 BAB</td>\n      <td>1263000762730319877</td>\n      <td>False</td>\n    </tr>\n  </tbody>\n</table>\n<p>886351 rows × 8 columns</p>\n</div>"
     },
     "metadata": {},
     "execution_count": 155
    }
   ],
   "source": [
    "preproccess(spanish_raw)\n",
    "spanish_raw"
   ]
  },
  {
   "source": [
    "### Spanish Parse date time column\n",
    "Here we format string column to date column"
   ],
   "cell_type": "markdown",
   "metadata": {}
  },
  {
   "cell_type": "code",
   "execution_count": 156,
   "metadata": {},
   "outputs": [
    {
     "output_type": "stream",
     "name": "stdout",
     "text": [
      "datetime64[ns, UTC]\n(886351, 9)\n"
     ]
    },
    {
     "output_type": "execute_result",
     "data": {
      "text/plain": [
       "                      created_at  \\\n",
       "0      2020-09-11 12:08:19+00:00   \n",
       "1      2020-09-23 17:40:08+00:00   \n",
       "2      2020-04-30 18:39:13+00:00   \n",
       "3      2021-03-03 08:09:07+00:00   \n",
       "4      2020-07-02 13:56:34+00:00   \n",
       "...                          ...   \n",
       "886346 2020-03-06 22:47:29+00:00   \n",
       "886347 2021-04-10 08:20:02+00:00   \n",
       "886348 2020-02-25 14:35:22+00:00   \n",
       "886349 2021-04-01 11:21:29+00:00   \n",
       "886350 2020-05-20 06:57:01+00:00   \n",
       "\n",
       "                                                     text  \\\n",
       "0       ORACIÓN DIARIAViernes 11 de Septiembre 2020#or...   \n",
       "1       Se pudrió todo. Acá la FIFA debe castigar a la...   \n",
       "2        Última  Publicación  en la Prensaldia -   @ca...   \n",
       "3       Australia = 0 positivos por coronavirus.¿Vacun...   \n",
       "4                        coronavirus esto ya es personal    \n",
       "...                                                   ...   \n",
       "886346  La gente pillando coronavirusY tú sin pillarme...   \n",
       "886347   El martes 27 de abril, no te pierdas el prime...   \n",
       "886348  Italia registra el primer caso de coronavirus ...   \n",
       "886349  Colombia registra 8.646 casos nuevos y 167 mue...   \n",
       "886350  Lo máximo que ha conseguido la ultraderecha co...   \n",
       "\n",
       "       in_reply_to_screen_name  retweet_count  favorite_count  \\\n",
       "0                         None              4              19   \n",
       "1                         None              1               5   \n",
       "2                         None              0               0   \n",
       "3                         None              0               0   \n",
       "4                         None              0               0   \n",
       "...                        ...            ...             ...   \n",
       "886346                    None              0               4   \n",
       "886347                    None              0               3   \n",
       "886348                    None              1               5   \n",
       "886349                    None              0               0   \n",
       "886350                    None              1               1   \n",
       "\n",
       "                     source               id_str  is_retweet  publication_date  \n",
       "0       Twitter for Android  1304391319972790274       False      1.599826e+09  \n",
       "1       Twitter for Android  1308823479077175297       False      1.600883e+09  \n",
       "2                 Instagram  1255929719893221377       False      1.588272e+09  \n",
       "3       Twitter for Android  1367024221319286784       False      1.614759e+09  \n",
       "4       Twitter for Android  1278689023087849480       False      1.593698e+09  \n",
       "...                     ...                  ...         ...               ...  \n",
       "886346  Twitter for Android  1236060862122799104       False      1.583535e+09  \n",
       "886347       Hootsuite Inc.  1380797710693982208       False      1.618043e+09  \n",
       "886348   Twitter Web Client  1232313141091946496       False      1.582641e+09  \n",
       "886349   Twitter for iPhone  1377581882553069569       False      1.617276e+09  \n",
       "886350        Comitium5 BAB  1263000762730319877       False      1.589958e+09  \n",
       "\n",
       "[886351 rows x 9 columns]"
      ],
      "text/html": "<div>\n<style scoped>\n    .dataframe tbody tr th:only-of-type {\n        vertical-align: middle;\n    }\n\n    .dataframe tbody tr th {\n        vertical-align: top;\n    }\n\n    .dataframe thead th {\n        text-align: right;\n    }\n</style>\n<table border=\"1\" class=\"dataframe\">\n  <thead>\n    <tr style=\"text-align: right;\">\n      <th></th>\n      <th>created_at</th>\n      <th>text</th>\n      <th>in_reply_to_screen_name</th>\n      <th>retweet_count</th>\n      <th>favorite_count</th>\n      <th>source</th>\n      <th>id_str</th>\n      <th>is_retweet</th>\n      <th>publication_date</th>\n    </tr>\n  </thead>\n  <tbody>\n    <tr>\n      <th>0</th>\n      <td>2020-09-11 12:08:19+00:00</td>\n      <td>ORACIÓN DIARIAViernes 11 de Septiembre 2020#or...</td>\n      <td>None</td>\n      <td>4</td>\n      <td>19</td>\n      <td>Twitter for Android</td>\n      <td>1304391319972790274</td>\n      <td>False</td>\n      <td>1.599826e+09</td>\n    </tr>\n    <tr>\n      <th>1</th>\n      <td>2020-09-23 17:40:08+00:00</td>\n      <td>Se pudrió todo. Acá la FIFA debe castigar a la...</td>\n      <td>None</td>\n      <td>1</td>\n      <td>5</td>\n      <td>Twitter for Android</td>\n      <td>1308823479077175297</td>\n      <td>False</td>\n      <td>1.600883e+09</td>\n    </tr>\n    <tr>\n      <th>2</th>\n      <td>2020-04-30 18:39:13+00:00</td>\n      <td>Última  Publicación  en la Prensaldia -   @ca...</td>\n      <td>None</td>\n      <td>0</td>\n      <td>0</td>\n      <td>Instagram</td>\n      <td>1255929719893221377</td>\n      <td>False</td>\n      <td>1.588272e+09</td>\n    </tr>\n    <tr>\n      <th>3</th>\n      <td>2021-03-03 08:09:07+00:00</td>\n      <td>Australia = 0 positivos por coronavirus.¿Vacun...</td>\n      <td>None</td>\n      <td>0</td>\n      <td>0</td>\n      <td>Twitter for Android</td>\n      <td>1367024221319286784</td>\n      <td>False</td>\n      <td>1.614759e+09</td>\n    </tr>\n    <tr>\n      <th>4</th>\n      <td>2020-07-02 13:56:34+00:00</td>\n      <td>coronavirus esto ya es personal</td>\n      <td>None</td>\n      <td>0</td>\n      <td>0</td>\n      <td>Twitter for Android</td>\n      <td>1278689023087849480</td>\n      <td>False</td>\n      <td>1.593698e+09</td>\n    </tr>\n    <tr>\n      <th>...</th>\n      <td>...</td>\n      <td>...</td>\n      <td>...</td>\n      <td>...</td>\n      <td>...</td>\n      <td>...</td>\n      <td>...</td>\n      <td>...</td>\n      <td>...</td>\n    </tr>\n    <tr>\n      <th>886346</th>\n      <td>2020-03-06 22:47:29+00:00</td>\n      <td>La gente pillando coronavirusY tú sin pillarme...</td>\n      <td>None</td>\n      <td>0</td>\n      <td>4</td>\n      <td>Twitter for Android</td>\n      <td>1236060862122799104</td>\n      <td>False</td>\n      <td>1.583535e+09</td>\n    </tr>\n    <tr>\n      <th>886347</th>\n      <td>2021-04-10 08:20:02+00:00</td>\n      <td>El martes 27 de abril, no te pierdas el prime...</td>\n      <td>None</td>\n      <td>0</td>\n      <td>3</td>\n      <td>Hootsuite Inc.</td>\n      <td>1380797710693982208</td>\n      <td>False</td>\n      <td>1.618043e+09</td>\n    </tr>\n    <tr>\n      <th>886348</th>\n      <td>2020-02-25 14:35:22+00:00</td>\n      <td>Italia registra el primer caso de coronavirus ...</td>\n      <td>None</td>\n      <td>1</td>\n      <td>5</td>\n      <td>Twitter Web Client</td>\n      <td>1232313141091946496</td>\n      <td>False</td>\n      <td>1.582641e+09</td>\n    </tr>\n    <tr>\n      <th>886349</th>\n      <td>2021-04-01 11:21:29+00:00</td>\n      <td>Colombia registra 8.646 casos nuevos y 167 mue...</td>\n      <td>None</td>\n      <td>0</td>\n      <td>0</td>\n      <td>Twitter for iPhone</td>\n      <td>1377581882553069569</td>\n      <td>False</td>\n      <td>1.617276e+09</td>\n    </tr>\n    <tr>\n      <th>886350</th>\n      <td>2020-05-20 06:57:01+00:00</td>\n      <td>Lo máximo que ha conseguido la ultraderecha co...</td>\n      <td>None</td>\n      <td>1</td>\n      <td>1</td>\n      <td>Comitium5 BAB</td>\n      <td>1263000762730319877</td>\n      <td>False</td>\n      <td>1.589958e+09</td>\n    </tr>\n  </tbody>\n</table>\n<p>886351 rows × 9 columns</p>\n</div>"
     },
     "metadata": {},
     "execution_count": 156
    }
   ],
   "source": [
    "spanish_raw['created_at'] = pd.to_datetime(spanish_raw['created_at'], format='%a %b %d %H:%M:%S %z %Y',)\n",
    "spanish_raw['publication_date'] = pd.to_datetime(spanish_raw['created_at'], unit='ms').astype(np.int64) / int(1e9) #Seconds since epoch\n",
    "print(spanish_raw['created_at'].dtypes)\n",
    "print(spanish_raw.shape)\n",
    "spanish_raw"
   ]
  },
  {
   "source": [
    "## Write Spanish json"
   ],
   "cell_type": "markdown",
   "metadata": {}
  },
  {
   "cell_type": "code",
   "execution_count": 157,
   "metadata": {},
   "outputs": [
    {
     "output_type": "stream",
     "name": "stdout",
     "text": [
      "Vanilla json wrote\n",
      "Compressed json wrote\n"
     ]
    }
   ],
   "source": [
    "spanish_raw['source'] = 'twitter'\n",
    "spanish_raw['author'] = 'nn'\n",
    "spanish_raw['id'] = spanish_raw['id_str']\n",
    "columns = ['id', 'publication_date', 'source', 'text']\n",
    "spanish_raw[columns].to_json(path_or_buf='./datasets/spanish/spanishV1.json', orient='records', lines=True)\n",
    "print('Vanilla json wrote')\n",
    "# Compressedd version\n",
    "spanish_raw[columns].to_json(path_or_buf='./datasets/spanish/spanishV1.json.gz', orient='records', lines=True, compression='gzip')\n",
    "print('Compressed json wrote')"
   ]
  },
  {
   "source": [
    "# English\n",
    "Reading english tweets"
   ],
   "cell_type": "markdown",
   "metadata": {}
  },
  {
   "cell_type": "code",
   "execution_count": 158,
   "metadata": {},
   "outputs": [
    {
     "output_type": "stream",
     "name": "stdout",
     "text": [
      "(817046, 8)\n"
     ]
    },
    {
     "output_type": "execute_result",
     "data": {
      "text/plain": [
       "                            created_at  \\\n",
       "0       Wed Aug 19 03:42:33 +0000 2020   \n",
       "1       Fri Aug 21 09:18:49 +0000 2020   \n",
       "2       Tue Apr 21 04:14:45 +0000 2020   \n",
       "3       Sat Apr 10 00:52:03 +0000 2021   \n",
       "4       Mon Mar 08 16:16:03 +0000 2021   \n",
       "...                                ...   \n",
       "817041  Tue Jun 09 18:31:56 +0000 2020   \n",
       "817042  Fri Jul 17 03:38:52 +0000 2020   \n",
       "817043  Sat Sep 26 12:37:28 +0000 2020   \n",
       "817044  Fri Jul 03 14:40:28 +0000 2020   \n",
       "817045  Sun Jun 21 09:57:58 +0000 2020   \n",
       "\n",
       "                                                     text  \\\n",
       "0       Info Source:\\nhttps://t.co/CUnx24XUTw https://...   \n",
       "1       #PostponeJEE_NEETSept \\n#ProtestAgainstExamsIn...   \n",
       "2       Coronavirus-spreader Chris Cuomo got a lecture...   \n",
       "3       Any military member that refuses to get vaccin...   \n",
       "4       #Covid19 is staying around for a while. \\n\\nht...   \n",
       "...                                                   ...   \n",
       "817041  Children receiving free school meals, from sin...   \n",
       "817042  L.A. County reports highest number of coronavi...   \n",
       "817043  Progress ?\\nCovid19 Political Development http...   \n",
       "817044  @WeeklyEconPod @AyeishaTS @JCWI_UK @ZoeJardini...   \n",
       "817045  @mskathleenquinn @Babak_Javid_Lab @UCSF @Bob_W...   \n",
       "\n",
       "       in_reply_to_screen_name  retweet_count  favorite_count  \\\n",
       "0                         None              0               0   \n",
       "1                         None              3               0   \n",
       "2                         None              0               4   \n",
       "3                         None              2              24   \n",
       "4                         None              0               0   \n",
       "...                        ...            ...             ...   \n",
       "817041                    None              2               8   \n",
       "817042                    None              4               5   \n",
       "817043                    None              0               0   \n",
       "817044                     NEF              2               4   \n",
       "817045         mskathleenquinn              0               1   \n",
       "\n",
       "                     source               id_str  is_retweet  \n",
       "0             PromoRepublic  1295929115770593287       False  \n",
       "1       Twitter for Android  1296738518216011777       False  \n",
       "2        Twitter Web Client  1252450676015198210       False  \n",
       "3       Twitter for Android  1380684968880406528       False  \n",
       "4                    Buffer  1368958702150156290       False  \n",
       "...                     ...                  ...         ...  \n",
       "817041      Twitter Web App  1270423398120935426       False  \n",
       "817042           SocialFlow  1283969389117792258       False  \n",
       "817043  Twitter for Android  1309834472053903360       False  \n",
       "817044            TweetDeck  1279062456468492289       False  \n",
       "817045   Twitter for iPhone  1274642711623188480       False  \n",
       "\n",
       "[817046 rows x 8 columns]"
      ],
      "text/html": "<div>\n<style scoped>\n    .dataframe tbody tr th:only-of-type {\n        vertical-align: middle;\n    }\n\n    .dataframe tbody tr th {\n        vertical-align: top;\n    }\n\n    .dataframe thead th {\n        text-align: right;\n    }\n</style>\n<table border=\"1\" class=\"dataframe\">\n  <thead>\n    <tr style=\"text-align: right;\">\n      <th></th>\n      <th>created_at</th>\n      <th>text</th>\n      <th>in_reply_to_screen_name</th>\n      <th>retweet_count</th>\n      <th>favorite_count</th>\n      <th>source</th>\n      <th>id_str</th>\n      <th>is_retweet</th>\n    </tr>\n  </thead>\n  <tbody>\n    <tr>\n      <th>0</th>\n      <td>Wed Aug 19 03:42:33 +0000 2020</td>\n      <td>Info Source:\\nhttps://t.co/CUnx24XUTw https://...</td>\n      <td>None</td>\n      <td>0</td>\n      <td>0</td>\n      <td>PromoRepublic</td>\n      <td>1295929115770593287</td>\n      <td>False</td>\n    </tr>\n    <tr>\n      <th>1</th>\n      <td>Fri Aug 21 09:18:49 +0000 2020</td>\n      <td>#PostponeJEE_NEETSept \\n#ProtestAgainstExamsIn...</td>\n      <td>None</td>\n      <td>3</td>\n      <td>0</td>\n      <td>Twitter for Android</td>\n      <td>1296738518216011777</td>\n      <td>False</td>\n    </tr>\n    <tr>\n      <th>2</th>\n      <td>Tue Apr 21 04:14:45 +0000 2020</td>\n      <td>Coronavirus-spreader Chris Cuomo got a lecture...</td>\n      <td>None</td>\n      <td>0</td>\n      <td>4</td>\n      <td>Twitter Web Client</td>\n      <td>1252450676015198210</td>\n      <td>False</td>\n    </tr>\n    <tr>\n      <th>3</th>\n      <td>Sat Apr 10 00:52:03 +0000 2021</td>\n      <td>Any military member that refuses to get vaccin...</td>\n      <td>None</td>\n      <td>2</td>\n      <td>24</td>\n      <td>Twitter for Android</td>\n      <td>1380684968880406528</td>\n      <td>False</td>\n    </tr>\n    <tr>\n      <th>4</th>\n      <td>Mon Mar 08 16:16:03 +0000 2021</td>\n      <td>#Covid19 is staying around for a while. \\n\\nht...</td>\n      <td>None</td>\n      <td>0</td>\n      <td>0</td>\n      <td>Buffer</td>\n      <td>1368958702150156290</td>\n      <td>False</td>\n    </tr>\n    <tr>\n      <th>...</th>\n      <td>...</td>\n      <td>...</td>\n      <td>...</td>\n      <td>...</td>\n      <td>...</td>\n      <td>...</td>\n      <td>...</td>\n      <td>...</td>\n    </tr>\n    <tr>\n      <th>817041</th>\n      <td>Tue Jun 09 18:31:56 +0000 2020</td>\n      <td>Children receiving free school meals, from sin...</td>\n      <td>None</td>\n      <td>2</td>\n      <td>8</td>\n      <td>Twitter Web App</td>\n      <td>1270423398120935426</td>\n      <td>False</td>\n    </tr>\n    <tr>\n      <th>817042</th>\n      <td>Fri Jul 17 03:38:52 +0000 2020</td>\n      <td>L.A. County reports highest number of coronavi...</td>\n      <td>None</td>\n      <td>4</td>\n      <td>5</td>\n      <td>SocialFlow</td>\n      <td>1283969389117792258</td>\n      <td>False</td>\n    </tr>\n    <tr>\n      <th>817043</th>\n      <td>Sat Sep 26 12:37:28 +0000 2020</td>\n      <td>Progress ?\\nCovid19 Political Development http...</td>\n      <td>None</td>\n      <td>0</td>\n      <td>0</td>\n      <td>Twitter for Android</td>\n      <td>1309834472053903360</td>\n      <td>False</td>\n    </tr>\n    <tr>\n      <th>817044</th>\n      <td>Fri Jul 03 14:40:28 +0000 2020</td>\n      <td>@WeeklyEconPod @AyeishaTS @JCWI_UK @ZoeJardini...</td>\n      <td>NEF</td>\n      <td>2</td>\n      <td>4</td>\n      <td>TweetDeck</td>\n      <td>1279062456468492289</td>\n      <td>False</td>\n    </tr>\n    <tr>\n      <th>817045</th>\n      <td>Sun Jun 21 09:57:58 +0000 2020</td>\n      <td>@mskathleenquinn @Babak_Javid_Lab @UCSF @Bob_W...</td>\n      <td>mskathleenquinn</td>\n      <td>0</td>\n      <td>1</td>\n      <td>Twitter for iPhone</td>\n      <td>1274642711623188480</td>\n      <td>False</td>\n    </tr>\n  </tbody>\n</table>\n<p>817046 rows × 8 columns</p>\n</div>"
     },
     "metadata": {},
     "execution_count": 158
    }
   ],
   "source": [
    "import json\n",
    "file = open('./datasets/english/hydrated_tweets_en_short.json', 'r')\n",
    "data = []\n",
    "for line in file:\n",
    "    data.append(json.loads(line))\n",
    "\n",
    "english_raw = pd.json_normalize(data)\n",
    "print(english_raw.shape)\n",
    "english_raw"
   ]
  },
  {
   "source": [
    "## English Preproccess\n",
    "\n",
    "Here we remove blank characters, urls information, emojis, etc "
   ],
   "cell_type": "markdown",
   "metadata": {}
  },
  {
   "cell_type": "code",
   "execution_count": 159,
   "metadata": {},
   "outputs": [
    {
     "output_type": "stream",
     "name": "stdout",
     "text": [
      "Blank space removed\n",
      "Special character removed\n",
      "urls removed\n",
      "Twitter urls removed\n",
      "Emoticons removed\n",
      "Emojis removed\n"
     ]
    },
    {
     "output_type": "execute_result",
     "data": {
      "text/plain": [
       "                            created_at  \\\n",
       "0       Wed Aug 19 03:42:33 +0000 2020   \n",
       "1       Fri Aug 21 09:18:49 +0000 2020   \n",
       "2       Tue Apr 21 04:14:45 +0000 2020   \n",
       "3       Sat Apr 10 00:52:03 +0000 2021   \n",
       "4       Mon Mar 08 16:16:03 +0000 2021   \n",
       "...                                ...   \n",
       "817041  Tue Jun 09 18:31:56 +0000 2020   \n",
       "817042  Fri Jul 17 03:38:52 +0000 2020   \n",
       "817043  Sat Sep 26 12:37:28 +0000 2020   \n",
       "817044  Fri Jul 03 14:40:28 +0000 2020   \n",
       "817045  Sun Jun 21 09:57:58 +0000 2020   \n",
       "\n",
       "                                                     text  \\\n",
       "0                                           Info Source:    \n",
       "1       #PostponeJEE_NEETSept #ProtestAgainstExamsInCO...   \n",
       "2       Coronavirus-spreader Chris Cuomo got a lecture...   \n",
       "3       Any military member that refuses to get vaccin...   \n",
       "4       #Covid19 is staying around for a while.  your ...   \n",
       "...                                                   ...   \n",
       "817041  Children receiving free school meals, from sin...   \n",
       "817042  L.A. County reports highest number of coronavi...   \n",
       "817043           Progress ?Covid19 Political Development    \n",
       "817044  @WeeklyEconPod @AyeishaTS @JCWI_UK @ZoeJardini...   \n",
       "817045  @mskathleenquinn @Babak_Javid_Lab @UCSF @Bob_W...   \n",
       "\n",
       "       in_reply_to_screen_name  retweet_count  favorite_count  \\\n",
       "0                         None              0               0   \n",
       "1                         None              3               0   \n",
       "2                         None              0               4   \n",
       "3                         None              2              24   \n",
       "4                         None              0               0   \n",
       "...                        ...            ...             ...   \n",
       "817041                    None              2               8   \n",
       "817042                    None              4               5   \n",
       "817043                    None              0               0   \n",
       "817044                     NEF              2               4   \n",
       "817045         mskathleenquinn              0               1   \n",
       "\n",
       "                     source               id_str  is_retweet  \n",
       "0             PromoRepublic  1295929115770593287       False  \n",
       "1       Twitter for Android  1296738518216011777       False  \n",
       "2        Twitter Web Client  1252450676015198210       False  \n",
       "3       Twitter for Android  1380684968880406528       False  \n",
       "4                    Buffer  1368958702150156290       False  \n",
       "...                     ...                  ...         ...  \n",
       "817041      Twitter Web App  1270423398120935426       False  \n",
       "817042           SocialFlow  1283969389117792258       False  \n",
       "817043  Twitter for Android  1309834472053903360       False  \n",
       "817044            TweetDeck  1279062456468492289       False  \n",
       "817045   Twitter for iPhone  1274642711623188480       False  \n",
       "\n",
       "[817046 rows x 8 columns]"
      ],
      "text/html": "<div>\n<style scoped>\n    .dataframe tbody tr th:only-of-type {\n        vertical-align: middle;\n    }\n\n    .dataframe tbody tr th {\n        vertical-align: top;\n    }\n\n    .dataframe thead th {\n        text-align: right;\n    }\n</style>\n<table border=\"1\" class=\"dataframe\">\n  <thead>\n    <tr style=\"text-align: right;\">\n      <th></th>\n      <th>created_at</th>\n      <th>text</th>\n      <th>in_reply_to_screen_name</th>\n      <th>retweet_count</th>\n      <th>favorite_count</th>\n      <th>source</th>\n      <th>id_str</th>\n      <th>is_retweet</th>\n    </tr>\n  </thead>\n  <tbody>\n    <tr>\n      <th>0</th>\n      <td>Wed Aug 19 03:42:33 +0000 2020</td>\n      <td>Info Source:</td>\n      <td>None</td>\n      <td>0</td>\n      <td>0</td>\n      <td>PromoRepublic</td>\n      <td>1295929115770593287</td>\n      <td>False</td>\n    </tr>\n    <tr>\n      <th>1</th>\n      <td>Fri Aug 21 09:18:49 +0000 2020</td>\n      <td>#PostponeJEE_NEETSept #ProtestAgainstExamsInCO...</td>\n      <td>None</td>\n      <td>3</td>\n      <td>0</td>\n      <td>Twitter for Android</td>\n      <td>1296738518216011777</td>\n      <td>False</td>\n    </tr>\n    <tr>\n      <th>2</th>\n      <td>Tue Apr 21 04:14:45 +0000 2020</td>\n      <td>Coronavirus-spreader Chris Cuomo got a lecture...</td>\n      <td>None</td>\n      <td>0</td>\n      <td>4</td>\n      <td>Twitter Web Client</td>\n      <td>1252450676015198210</td>\n      <td>False</td>\n    </tr>\n    <tr>\n      <th>3</th>\n      <td>Sat Apr 10 00:52:03 +0000 2021</td>\n      <td>Any military member that refuses to get vaccin...</td>\n      <td>None</td>\n      <td>2</td>\n      <td>24</td>\n      <td>Twitter for Android</td>\n      <td>1380684968880406528</td>\n      <td>False</td>\n    </tr>\n    <tr>\n      <th>4</th>\n      <td>Mon Mar 08 16:16:03 +0000 2021</td>\n      <td>#Covid19 is staying around for a while.  your ...</td>\n      <td>None</td>\n      <td>0</td>\n      <td>0</td>\n      <td>Buffer</td>\n      <td>1368958702150156290</td>\n      <td>False</td>\n    </tr>\n    <tr>\n      <th>...</th>\n      <td>...</td>\n      <td>...</td>\n      <td>...</td>\n      <td>...</td>\n      <td>...</td>\n      <td>...</td>\n      <td>...</td>\n      <td>...</td>\n    </tr>\n    <tr>\n      <th>817041</th>\n      <td>Tue Jun 09 18:31:56 +0000 2020</td>\n      <td>Children receiving free school meals, from sin...</td>\n      <td>None</td>\n      <td>2</td>\n      <td>8</td>\n      <td>Twitter Web App</td>\n      <td>1270423398120935426</td>\n      <td>False</td>\n    </tr>\n    <tr>\n      <th>817042</th>\n      <td>Fri Jul 17 03:38:52 +0000 2020</td>\n      <td>L.A. County reports highest number of coronavi...</td>\n      <td>None</td>\n      <td>4</td>\n      <td>5</td>\n      <td>SocialFlow</td>\n      <td>1283969389117792258</td>\n      <td>False</td>\n    </tr>\n    <tr>\n      <th>817043</th>\n      <td>Sat Sep 26 12:37:28 +0000 2020</td>\n      <td>Progress ?Covid19 Political Development</td>\n      <td>None</td>\n      <td>0</td>\n      <td>0</td>\n      <td>Twitter for Android</td>\n      <td>1309834472053903360</td>\n      <td>False</td>\n    </tr>\n    <tr>\n      <th>817044</th>\n      <td>Fri Jul 03 14:40:28 +0000 2020</td>\n      <td>@WeeklyEconPod @AyeishaTS @JCWI_UK @ZoeJardini...</td>\n      <td>NEF</td>\n      <td>2</td>\n      <td>4</td>\n      <td>TweetDeck</td>\n      <td>1279062456468492289</td>\n      <td>False</td>\n    </tr>\n    <tr>\n      <th>817045</th>\n      <td>Sun Jun 21 09:57:58 +0000 2020</td>\n      <td>@mskathleenquinn @Babak_Javid_Lab @UCSF @Bob_W...</td>\n      <td>mskathleenquinn</td>\n      <td>0</td>\n      <td>1</td>\n      <td>Twitter for iPhone</td>\n      <td>1274642711623188480</td>\n      <td>False</td>\n    </tr>\n  </tbody>\n</table>\n<p>817046 rows × 8 columns</p>\n</div>"
     },
     "metadata": {},
     "execution_count": 159
    }
   ],
   "source": [
    "preproccess(english_raw)\n",
    "english_raw"
   ]
  },
  {
   "source": [
    "### English Parse date time column\n",
    "Here we format string column to date column"
   ],
   "cell_type": "markdown",
   "metadata": {}
  },
  {
   "cell_type": "code",
   "execution_count": 160,
   "metadata": {},
   "outputs": [
    {
     "output_type": "stream",
     "name": "stdout",
     "text": [
      "datetime64[ns, UTC]\n(817046, 9)\n"
     ]
    },
    {
     "output_type": "execute_result",
     "data": {
      "text/plain": [
       "                      created_at  \\\n",
       "0      2020-08-19 03:42:33+00:00   \n",
       "1      2020-08-21 09:18:49+00:00   \n",
       "2      2020-04-21 04:14:45+00:00   \n",
       "3      2021-04-10 00:52:03+00:00   \n",
       "4      2021-03-08 16:16:03+00:00   \n",
       "...                          ...   \n",
       "817041 2020-06-09 18:31:56+00:00   \n",
       "817042 2020-07-17 03:38:52+00:00   \n",
       "817043 2020-09-26 12:37:28+00:00   \n",
       "817044 2020-07-03 14:40:28+00:00   \n",
       "817045 2020-06-21 09:57:58+00:00   \n",
       "\n",
       "                                                     text  \\\n",
       "0                                           Info Source:    \n",
       "1       #PostponeJEE_NEETSept #ProtestAgainstExamsInCO...   \n",
       "2       Coronavirus-spreader Chris Cuomo got a lecture...   \n",
       "3       Any military member that refuses to get vaccin...   \n",
       "4       #Covid19 is staying around for a while.  your ...   \n",
       "...                                                   ...   \n",
       "817041  Children receiving free school meals, from sin...   \n",
       "817042  L.A. County reports highest number of coronavi...   \n",
       "817043           Progress ?Covid19 Political Development    \n",
       "817044  @WeeklyEconPod @AyeishaTS @JCWI_UK @ZoeJardini...   \n",
       "817045  @mskathleenquinn @Babak_Javid_Lab @UCSF @Bob_W...   \n",
       "\n",
       "       in_reply_to_screen_name  retweet_count  favorite_count  \\\n",
       "0                         None              0               0   \n",
       "1                         None              3               0   \n",
       "2                         None              0               4   \n",
       "3                         None              2              24   \n",
       "4                         None              0               0   \n",
       "...                        ...            ...             ...   \n",
       "817041                    None              2               8   \n",
       "817042                    None              4               5   \n",
       "817043                    None              0               0   \n",
       "817044                     NEF              2               4   \n",
       "817045         mskathleenquinn              0               1   \n",
       "\n",
       "                     source               id_str  is_retweet  publication_date  \n",
       "0             PromoRepublic  1295929115770593287       False      1.597809e+09  \n",
       "1       Twitter for Android  1296738518216011777       False      1.598002e+09  \n",
       "2        Twitter Web Client  1252450676015198210       False      1.587442e+09  \n",
       "3       Twitter for Android  1380684968880406528       False      1.618016e+09  \n",
       "4                    Buffer  1368958702150156290       False      1.615220e+09  \n",
       "...                     ...                  ...         ...               ...  \n",
       "817041      Twitter Web App  1270423398120935426       False      1.591728e+09  \n",
       "817042           SocialFlow  1283969389117792258       False      1.594957e+09  \n",
       "817043  Twitter for Android  1309834472053903360       False      1.601124e+09  \n",
       "817044            TweetDeck  1279062456468492289       False      1.593787e+09  \n",
       "817045   Twitter for iPhone  1274642711623188480       False      1.592733e+09  \n",
       "\n",
       "[817046 rows x 9 columns]"
      ],
      "text/html": "<div>\n<style scoped>\n    .dataframe tbody tr th:only-of-type {\n        vertical-align: middle;\n    }\n\n    .dataframe tbody tr th {\n        vertical-align: top;\n    }\n\n    .dataframe thead th {\n        text-align: right;\n    }\n</style>\n<table border=\"1\" class=\"dataframe\">\n  <thead>\n    <tr style=\"text-align: right;\">\n      <th></th>\n      <th>created_at</th>\n      <th>text</th>\n      <th>in_reply_to_screen_name</th>\n      <th>retweet_count</th>\n      <th>favorite_count</th>\n      <th>source</th>\n      <th>id_str</th>\n      <th>is_retweet</th>\n      <th>publication_date</th>\n    </tr>\n  </thead>\n  <tbody>\n    <tr>\n      <th>0</th>\n      <td>2020-08-19 03:42:33+00:00</td>\n      <td>Info Source:</td>\n      <td>None</td>\n      <td>0</td>\n      <td>0</td>\n      <td>PromoRepublic</td>\n      <td>1295929115770593287</td>\n      <td>False</td>\n      <td>1.597809e+09</td>\n    </tr>\n    <tr>\n      <th>1</th>\n      <td>2020-08-21 09:18:49+00:00</td>\n      <td>#PostponeJEE_NEETSept #ProtestAgainstExamsInCO...</td>\n      <td>None</td>\n      <td>3</td>\n      <td>0</td>\n      <td>Twitter for Android</td>\n      <td>1296738518216011777</td>\n      <td>False</td>\n      <td>1.598002e+09</td>\n    </tr>\n    <tr>\n      <th>2</th>\n      <td>2020-04-21 04:14:45+00:00</td>\n      <td>Coronavirus-spreader Chris Cuomo got a lecture...</td>\n      <td>None</td>\n      <td>0</td>\n      <td>4</td>\n      <td>Twitter Web Client</td>\n      <td>1252450676015198210</td>\n      <td>False</td>\n      <td>1.587442e+09</td>\n    </tr>\n    <tr>\n      <th>3</th>\n      <td>2021-04-10 00:52:03+00:00</td>\n      <td>Any military member that refuses to get vaccin...</td>\n      <td>None</td>\n      <td>2</td>\n      <td>24</td>\n      <td>Twitter for Android</td>\n      <td>1380684968880406528</td>\n      <td>False</td>\n      <td>1.618016e+09</td>\n    </tr>\n    <tr>\n      <th>4</th>\n      <td>2021-03-08 16:16:03+00:00</td>\n      <td>#Covid19 is staying around for a while.  your ...</td>\n      <td>None</td>\n      <td>0</td>\n      <td>0</td>\n      <td>Buffer</td>\n      <td>1368958702150156290</td>\n      <td>False</td>\n      <td>1.615220e+09</td>\n    </tr>\n    <tr>\n      <th>...</th>\n      <td>...</td>\n      <td>...</td>\n      <td>...</td>\n      <td>...</td>\n      <td>...</td>\n      <td>...</td>\n      <td>...</td>\n      <td>...</td>\n      <td>...</td>\n    </tr>\n    <tr>\n      <th>817041</th>\n      <td>2020-06-09 18:31:56+00:00</td>\n      <td>Children receiving free school meals, from sin...</td>\n      <td>None</td>\n      <td>2</td>\n      <td>8</td>\n      <td>Twitter Web App</td>\n      <td>1270423398120935426</td>\n      <td>False</td>\n      <td>1.591728e+09</td>\n    </tr>\n    <tr>\n      <th>817042</th>\n      <td>2020-07-17 03:38:52+00:00</td>\n      <td>L.A. County reports highest number of coronavi...</td>\n      <td>None</td>\n      <td>4</td>\n      <td>5</td>\n      <td>SocialFlow</td>\n      <td>1283969389117792258</td>\n      <td>False</td>\n      <td>1.594957e+09</td>\n    </tr>\n    <tr>\n      <th>817043</th>\n      <td>2020-09-26 12:37:28+00:00</td>\n      <td>Progress ?Covid19 Political Development</td>\n      <td>None</td>\n      <td>0</td>\n      <td>0</td>\n      <td>Twitter for Android</td>\n      <td>1309834472053903360</td>\n      <td>False</td>\n      <td>1.601124e+09</td>\n    </tr>\n    <tr>\n      <th>817044</th>\n      <td>2020-07-03 14:40:28+00:00</td>\n      <td>@WeeklyEconPod @AyeishaTS @JCWI_UK @ZoeJardini...</td>\n      <td>NEF</td>\n      <td>2</td>\n      <td>4</td>\n      <td>TweetDeck</td>\n      <td>1279062456468492289</td>\n      <td>False</td>\n      <td>1.593787e+09</td>\n    </tr>\n    <tr>\n      <th>817045</th>\n      <td>2020-06-21 09:57:58+00:00</td>\n      <td>@mskathleenquinn @Babak_Javid_Lab @UCSF @Bob_W...</td>\n      <td>mskathleenquinn</td>\n      <td>0</td>\n      <td>1</td>\n      <td>Twitter for iPhone</td>\n      <td>1274642711623188480</td>\n      <td>False</td>\n      <td>1.592733e+09</td>\n    </tr>\n  </tbody>\n</table>\n<p>817046 rows × 9 columns</p>\n</div>"
     },
     "metadata": {},
     "execution_count": 160
    }
   ],
   "source": [
    "english_raw['created_at'] = pd.to_datetime(english_raw['created_at'], format='%a %b %d %H:%M:%S %z %Y',)\n",
    "english_raw['publication_date'] = pd.to_datetime(english_raw['created_at'], unit='ms').astype(np.int64) / int(1e9) #Seconds since epoch\n",
    "print(english_raw['created_at'].dtypes)\n",
    "print(english_raw.shape)\n",
    "english_raw"
   ]
  },
  {
   "source": [
    "## Write English Json"
   ],
   "cell_type": "markdown",
   "metadata": {}
  },
  {
   "cell_type": "code",
   "execution_count": 161,
   "metadata": {},
   "outputs": [
    {
     "output_type": "stream",
     "name": "stdout",
     "text": [
      "Vanilla json wrote\n",
      "Compressed json wrote\n"
     ]
    }
   ],
   "source": [
    "english_raw['source'] = 'twitter'\n",
    "english_raw['author'] = 'nn'\n",
    "english_raw['id'] = english_raw['id_str']\n",
    "columns = ['id', 'publication_date', 'source', 'text']\n",
    "english_raw[columns].to_json(path_or_buf='./datasets/english/englishV1.json', orient='records', lines=True)\n",
    "print('Vanilla json wrote')\n",
    "# Compressedd version\n",
    "english_raw[columns].to_json(path_or_buf='./datasets/english/englishV1.json.gz', orient='records', lines=True, compression='gzip')\n",
    "print('Compressed json wrote')"
   ]
  }
 ]
}