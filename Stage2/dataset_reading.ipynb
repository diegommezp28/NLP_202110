{
 "cells": [
  {
   "cell_type": "code",
   "execution_count": 5,
   "metadata": {
    "collapsed": true
   },
   "outputs": [],
   "source": [
    "import json\n",
    "import pandas as pd"
   ]
  },
  {
   "cell_type": "code",
   "execution_count": 6,
   "outputs": [],
   "source": [
    "italian_path = './datasets/italian/italianV1.json'\n",
    "spanish_path = './datasets/spanish/spanishV1.json'\n",
    "english_path = './datasets/english/englishV1.json'\n"
   ],
   "metadata": {
    "collapsed": false,
    "pycharm": {
     "name": "#%%\n"
    }
   }
  },
  {
   "cell_type": "code",
   "execution_count": 7,
   "outputs": [
    {
     "name": "stdout",
     "output_type": "stream",
     "text": [
      "(817046, 4)\n"
     ]
    },
    {
     "data": {
      "text/plain": "                         id  publication_date   source  \\\n0       1295929115770593287      1.597809e+09  twitter   \n1       1296738518216011777      1.598002e+09  twitter   \n2       1252450676015198210      1.587442e+09  twitter   \n3       1380684968880406528      1.618016e+09  twitter   \n4       1368958702150156290      1.615220e+09  twitter   \n...                     ...               ...      ...   \n817041  1270423398120935426      1.591728e+09  twitter   \n817042  1283969389117792258      1.594957e+09  twitter   \n817043  1309834472053903360      1.601124e+09  twitter   \n817044  1279062456468492289      1.593787e+09  twitter   \n817045  1274642711623188480      1.592733e+09  twitter   \n\n                                                     text  \n0                                           Info Source:   \n1       #PostponeJEE_NEETSept #ProtestAgainstExamsInCO...  \n2       Coronavirus-spreader Chris Cuomo got a lecture...  \n3       Any military member that refuses to get vaccin...  \n4       #Covid19 is staying around for a while.  your ...  \n...                                                   ...  \n817041  Children receiving free school meals, from sin...  \n817042  L.A. County reports highest number of coronavi...  \n817043           Progress ?Covid19 Political Development   \n817044  @WeeklyEconPod @AyeishaTS @JCWI_UK @ZoeJardini...  \n817045  @mskathleenquinn @Babak_Javid_Lab @UCSF @Bob_W...  \n\n[817046 rows x 4 columns]",
      "text/html": "<div>\n<style scoped>\n    .dataframe tbody tr th:only-of-type {\n        vertical-align: middle;\n    }\n\n    .dataframe tbody tr th {\n        vertical-align: top;\n    }\n\n    .dataframe thead th {\n        text-align: right;\n    }\n</style>\n<table border=\"1\" class=\"dataframe\">\n  <thead>\n    <tr style=\"text-align: right;\">\n      <th></th>\n      <th>id</th>\n      <th>publication_date</th>\n      <th>source</th>\n      <th>text</th>\n    </tr>\n  </thead>\n  <tbody>\n    <tr>\n      <th>0</th>\n      <td>1295929115770593287</td>\n      <td>1.597809e+09</td>\n      <td>twitter</td>\n      <td>Info Source:</td>\n    </tr>\n    <tr>\n      <th>1</th>\n      <td>1296738518216011777</td>\n      <td>1.598002e+09</td>\n      <td>twitter</td>\n      <td>#PostponeJEE_NEETSept #ProtestAgainstExamsInCO...</td>\n    </tr>\n    <tr>\n      <th>2</th>\n      <td>1252450676015198210</td>\n      <td>1.587442e+09</td>\n      <td>twitter</td>\n      <td>Coronavirus-spreader Chris Cuomo got a lecture...</td>\n    </tr>\n    <tr>\n      <th>3</th>\n      <td>1380684968880406528</td>\n      <td>1.618016e+09</td>\n      <td>twitter</td>\n      <td>Any military member that refuses to get vaccin...</td>\n    </tr>\n    <tr>\n      <th>4</th>\n      <td>1368958702150156290</td>\n      <td>1.615220e+09</td>\n      <td>twitter</td>\n      <td>#Covid19 is staying around for a while.  your ...</td>\n    </tr>\n    <tr>\n      <th>...</th>\n      <td>...</td>\n      <td>...</td>\n      <td>...</td>\n      <td>...</td>\n    </tr>\n    <tr>\n      <th>817041</th>\n      <td>1270423398120935426</td>\n      <td>1.591728e+09</td>\n      <td>twitter</td>\n      <td>Children receiving free school meals, from sin...</td>\n    </tr>\n    <tr>\n      <th>817042</th>\n      <td>1283969389117792258</td>\n      <td>1.594957e+09</td>\n      <td>twitter</td>\n      <td>L.A. County reports highest number of coronavi...</td>\n    </tr>\n    <tr>\n      <th>817043</th>\n      <td>1309834472053903360</td>\n      <td>1.601124e+09</td>\n      <td>twitter</td>\n      <td>Progress ?Covid19 Political Development</td>\n    </tr>\n    <tr>\n      <th>817044</th>\n      <td>1279062456468492289</td>\n      <td>1.593787e+09</td>\n      <td>twitter</td>\n      <td>@WeeklyEconPod @AyeishaTS @JCWI_UK @ZoeJardini...</td>\n    </tr>\n    <tr>\n      <th>817045</th>\n      <td>1274642711623188480</td>\n      <td>1.592733e+09</td>\n      <td>twitter</td>\n      <td>@mskathleenquinn @Babak_Javid_Lab @UCSF @Bob_W...</td>\n    </tr>\n  </tbody>\n</table>\n<p>817046 rows × 4 columns</p>\n</div>"
     },
     "execution_count": 7,
     "metadata": {},
     "output_type": "execute_result"
    }
   ],
   "source": [
    "file = open(english_path, 'r')\n",
    "data = []\n",
    "for line in file:\n",
    "    data.append(json.loads(line))\n",
    "\n",
    "english_raw = pd.json_normalize(data)\n",
    "print(english_raw.shape)\n",
    "english_raw"
   ],
   "metadata": {
    "collapsed": false,
    "pycharm": {
     "name": "#%%\n"
    }
   }
  },
  {
   "cell_type": "code",
   "execution_count": 8,
   "outputs": [
    {
     "name": "stdout",
     "output_type": "stream",
     "text": [
      "(886351, 4)\n"
     ]
    },
    {
     "data": {
      "text/plain": "                         id  publication_date   source  \\\n0       1304391319972790274      1.599826e+09  twitter   \n1       1308823479077175297      1.600883e+09  twitter   \n2       1255929719893221377      1.588272e+09  twitter   \n3       1367024221319286784      1.614759e+09  twitter   \n4       1278689023087849480      1.593698e+09  twitter   \n...                     ...               ...      ...   \n886346  1236060862122799104      1.583535e+09  twitter   \n886347  1380797710693982208      1.618043e+09  twitter   \n886348  1232313141091946496      1.582641e+09  twitter   \n886349  1377581882553069569      1.617276e+09  twitter   \n886350  1263000762730319877      1.589958e+09  twitter   \n\n                                                     text  \n0       ORACIÓN DIARIAViernes 11 de Septiembre 2020#or...  \n1       Se pudrió todo. Acá la FIFA debe castigar a la...  \n2        Última  Publicación  en la Prensaldia -   @ca...  \n3       Australia = 0 positivos por coronavirus.¿Vacun...  \n4                        coronavirus esto ya es personal   \n...                                                   ...  \n886346  La gente pillando coronavirusY tú sin pillarme...  \n886347   El martes 27 de abril, no te pierdas el prime...  \n886348  Italia registra el primer caso de coronavirus ...  \n886349  Colombia registra 8.646 casos nuevos y 167 mue...  \n886350  Lo máximo que ha conseguido la ultraderecha co...  \n\n[886351 rows x 4 columns]",
      "text/html": "<div>\n<style scoped>\n    .dataframe tbody tr th:only-of-type {\n        vertical-align: middle;\n    }\n\n    .dataframe tbody tr th {\n        vertical-align: top;\n    }\n\n    .dataframe thead th {\n        text-align: right;\n    }\n</style>\n<table border=\"1\" class=\"dataframe\">\n  <thead>\n    <tr style=\"text-align: right;\">\n      <th></th>\n      <th>id</th>\n      <th>publication_date</th>\n      <th>source</th>\n      <th>text</th>\n    </tr>\n  </thead>\n  <tbody>\n    <tr>\n      <th>0</th>\n      <td>1304391319972790274</td>\n      <td>1.599826e+09</td>\n      <td>twitter</td>\n      <td>ORACIÓN DIARIAViernes 11 de Septiembre 2020#or...</td>\n    </tr>\n    <tr>\n      <th>1</th>\n      <td>1308823479077175297</td>\n      <td>1.600883e+09</td>\n      <td>twitter</td>\n      <td>Se pudrió todo. Acá la FIFA debe castigar a la...</td>\n    </tr>\n    <tr>\n      <th>2</th>\n      <td>1255929719893221377</td>\n      <td>1.588272e+09</td>\n      <td>twitter</td>\n      <td>Última  Publicación  en la Prensaldia -   @ca...</td>\n    </tr>\n    <tr>\n      <th>3</th>\n      <td>1367024221319286784</td>\n      <td>1.614759e+09</td>\n      <td>twitter</td>\n      <td>Australia = 0 positivos por coronavirus.¿Vacun...</td>\n    </tr>\n    <tr>\n      <th>4</th>\n      <td>1278689023087849480</td>\n      <td>1.593698e+09</td>\n      <td>twitter</td>\n      <td>coronavirus esto ya es personal</td>\n    </tr>\n    <tr>\n      <th>...</th>\n      <td>...</td>\n      <td>...</td>\n      <td>...</td>\n      <td>...</td>\n    </tr>\n    <tr>\n      <th>886346</th>\n      <td>1236060862122799104</td>\n      <td>1.583535e+09</td>\n      <td>twitter</td>\n      <td>La gente pillando coronavirusY tú sin pillarme...</td>\n    </tr>\n    <tr>\n      <th>886347</th>\n      <td>1380797710693982208</td>\n      <td>1.618043e+09</td>\n      <td>twitter</td>\n      <td>El martes 27 de abril, no te pierdas el prime...</td>\n    </tr>\n    <tr>\n      <th>886348</th>\n      <td>1232313141091946496</td>\n      <td>1.582641e+09</td>\n      <td>twitter</td>\n      <td>Italia registra el primer caso de coronavirus ...</td>\n    </tr>\n    <tr>\n      <th>886349</th>\n      <td>1377581882553069569</td>\n      <td>1.617276e+09</td>\n      <td>twitter</td>\n      <td>Colombia registra 8.646 casos nuevos y 167 mue...</td>\n    </tr>\n    <tr>\n      <th>886350</th>\n      <td>1263000762730319877</td>\n      <td>1.589958e+09</td>\n      <td>twitter</td>\n      <td>Lo máximo que ha conseguido la ultraderecha co...</td>\n    </tr>\n  </tbody>\n</table>\n<p>886351 rows × 4 columns</p>\n</div>"
     },
     "execution_count": 8,
     "metadata": {},
     "output_type": "execute_result"
    }
   ],
   "source": [
    "file = open(spanish_path, 'r')\n",
    "data = []\n",
    "for line in file:\n",
    "    data.append(json.loads(line))\n",
    "\n",
    "spanish_raw = pd.json_normalize(data)\n",
    "print(spanish_raw.shape)\n",
    "spanish_raw"
   ],
   "metadata": {
    "collapsed": false,
    "pycharm": {
     "name": "#%%\n"
    }
   }
  },
  {
   "cell_type": "code",
   "execution_count": 9,
   "outputs": [
    {
     "name": "stdout",
     "output_type": "stream",
     "text": [
      "(879887, 4)\n"
     ]
    },
    {
     "data": {
      "text/plain": "                         id  publication_date   source  \\\n0       1324811856859533313      1.604695e+09  twitter   \n1       1288746494368124928      1.596096e+09  twitter   \n2       1326191597785059329      1.605024e+09  twitter   \n3       1275134048722132993      1.592851e+09  twitter   \n4       1243118079091118080      1.585217e+09  twitter   \n...                     ...               ...      ...   \n879882  1251075883982630913      1.587115e+09  twitter   \n879883  1328057436436115456      1.605469e+09  twitter   \n879884  1268468904164237319      1.591262e+09  twitter   \n879885  1361589453001744384      1.613463e+09  twitter   \n879886  1330211577245687815      1.605982e+09  twitter   \n\n                                                     text  \n0       Il prof. #Galli è molto preoccupato da quanto ...  \n1       Il COVID-19 coincide con un momento cruciale n...  \n2       Muoviamoci #vaccinoCovid #coronavirus #COVID19...  \n3       @mosllerdd @Cartabellotta Si sarebbero potute ...  \n4       @morzo6 @CNN Purtroppo sì. State a casa. Disin...  \n...                                                   ...  \n879882  La scelta delle #CaseRiposo è stata fatta perc...  \n879883                                E sì, proprio vero   \n879884  @IamEluruSreenu anna di notification vacchindi...  \n879885  Poco fa entra da me un cliente, ricercatore un...  \n879886  Coronavirus - Altri due beneventani morti oggi...  \n\n[879887 rows x 4 columns]",
      "text/html": "<div>\n<style scoped>\n    .dataframe tbody tr th:only-of-type {\n        vertical-align: middle;\n    }\n\n    .dataframe tbody tr th {\n        vertical-align: top;\n    }\n\n    .dataframe thead th {\n        text-align: right;\n    }\n</style>\n<table border=\"1\" class=\"dataframe\">\n  <thead>\n    <tr style=\"text-align: right;\">\n      <th></th>\n      <th>id</th>\n      <th>publication_date</th>\n      <th>source</th>\n      <th>text</th>\n    </tr>\n  </thead>\n  <tbody>\n    <tr>\n      <th>0</th>\n      <td>1324811856859533313</td>\n      <td>1.604695e+09</td>\n      <td>twitter</td>\n      <td>Il prof. #Galli è molto preoccupato da quanto ...</td>\n    </tr>\n    <tr>\n      <th>1</th>\n      <td>1288746494368124928</td>\n      <td>1.596096e+09</td>\n      <td>twitter</td>\n      <td>Il COVID-19 coincide con un momento cruciale n...</td>\n    </tr>\n    <tr>\n      <th>2</th>\n      <td>1326191597785059329</td>\n      <td>1.605024e+09</td>\n      <td>twitter</td>\n      <td>Muoviamoci #vaccinoCovid #coronavirus #COVID19...</td>\n    </tr>\n    <tr>\n      <th>3</th>\n      <td>1275134048722132993</td>\n      <td>1.592851e+09</td>\n      <td>twitter</td>\n      <td>@mosllerdd @Cartabellotta Si sarebbero potute ...</td>\n    </tr>\n    <tr>\n      <th>4</th>\n      <td>1243118079091118080</td>\n      <td>1.585217e+09</td>\n      <td>twitter</td>\n      <td>@morzo6 @CNN Purtroppo sì. State a casa. Disin...</td>\n    </tr>\n    <tr>\n      <th>...</th>\n      <td>...</td>\n      <td>...</td>\n      <td>...</td>\n      <td>...</td>\n    </tr>\n    <tr>\n      <th>879882</th>\n      <td>1251075883982630913</td>\n      <td>1.587115e+09</td>\n      <td>twitter</td>\n      <td>La scelta delle #CaseRiposo è stata fatta perc...</td>\n    </tr>\n    <tr>\n      <th>879883</th>\n      <td>1328057436436115456</td>\n      <td>1.605469e+09</td>\n      <td>twitter</td>\n      <td>E sì, proprio vero</td>\n    </tr>\n    <tr>\n      <th>879884</th>\n      <td>1268468904164237319</td>\n      <td>1.591262e+09</td>\n      <td>twitter</td>\n      <td>@IamEluruSreenu anna di notification vacchindi...</td>\n    </tr>\n    <tr>\n      <th>879885</th>\n      <td>1361589453001744384</td>\n      <td>1.613463e+09</td>\n      <td>twitter</td>\n      <td>Poco fa entra da me un cliente, ricercatore un...</td>\n    </tr>\n    <tr>\n      <th>879886</th>\n      <td>1330211577245687815</td>\n      <td>1.605982e+09</td>\n      <td>twitter</td>\n      <td>Coronavirus - Altri due beneventani morti oggi...</td>\n    </tr>\n  </tbody>\n</table>\n<p>879887 rows × 4 columns</p>\n</div>"
     },
     "execution_count": 9,
     "metadata": {},
     "output_type": "execute_result"
    }
   ],
   "source": [
    "file = open(italian_path, 'r')\n",
    "data = []\n",
    "for line in file:\n",
    "    data.append(json.loads(line))\n",
    "\n",
    "italian_raw = pd.json_normalize(data)\n",
    "print(italian_raw.shape)\n",
    "italian_raw\n"
   ],
   "metadata": {
    "collapsed": false,
    "pycharm": {
     "name": "#%%\n"
    }
   }
  }
 ],
 "metadata": {
  "kernelspec": {
   "display_name": "Python 3",
   "language": "python",
   "name": "python3"
  },
  "language_info": {
   "codemirror_mode": {
    "name": "ipython",
    "version": 2
   },
   "file_extension": ".py",
   "mimetype": "text/x-python",
   "name": "python",
   "nbconvert_exporter": "python",
   "pygments_lexer": "ipython2",
   "version": "2.7.6"
  }
 },
 "nbformat": 4,
 "nbformat_minor": 0
}