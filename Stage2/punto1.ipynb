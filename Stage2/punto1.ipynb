{
  "nbformat": 4,
  "nbformat_minor": 0,
  "metadata": {
    "kernelspec": {
      "display_name": "Python 3",
      "language": "python",
      "name": "python3"
    },
    "language_info": {
      "codemirror_mode": {
        "name": "ipython",
        "version": 2
      },
      "file_extension": ".py",
      "mimetype": "text/x-python",
      "name": "python",
      "nbconvert_exporter": "python",
      "pygments_lexer": "ipython2",
      "version": "2.7.6"
    },
    "colab": {
      "name": "punto1.ipynb",
      "provenance": []
    },
    "widgets": {
      "application/vnd.jupyter.widget-state+json": {
        "4323fd9e1a5a4915acfb53806b8bf980": {
          "model_module": "@jupyter-widgets/controls",
          "model_name": "HBoxModel",
          "state": {
            "_view_name": "HBoxView",
            "_dom_classes": [],
            "_model_name": "HBoxModel",
            "_view_module": "@jupyter-widgets/controls",
            "_model_module_version": "1.5.0",
            "_view_count": null,
            "_view_module_version": "1.5.0",
            "box_style": "",
            "layout": "IPY_MODEL_91d5ec5ef6f44f1ca2a645573c8e4355",
            "_model_module": "@jupyter-widgets/controls",
            "children": [
              "IPY_MODEL_975b4aaea7e849a1a6336c744eb4f2b3",
              "IPY_MODEL_6e60526c19f8412dabb3ed04b671ae64"
            ]
          }
        },
        "91d5ec5ef6f44f1ca2a645573c8e4355": {
          "model_module": "@jupyter-widgets/base",
          "model_name": "LayoutModel",
          "state": {
            "_view_name": "LayoutView",
            "grid_template_rows": null,
            "right": null,
            "justify_content": null,
            "_view_module": "@jupyter-widgets/base",
            "overflow": null,
            "_model_module_version": "1.2.0",
            "_view_count": null,
            "flex_flow": null,
            "width": null,
            "min_width": null,
            "border": null,
            "align_items": null,
            "bottom": null,
            "_model_module": "@jupyter-widgets/base",
            "top": null,
            "grid_column": null,
            "overflow_y": null,
            "overflow_x": null,
            "grid_auto_flow": null,
            "grid_area": null,
            "grid_template_columns": null,
            "flex": null,
            "_model_name": "LayoutModel",
            "justify_items": null,
            "grid_row": null,
            "max_height": null,
            "align_content": null,
            "visibility": null,
            "align_self": null,
            "height": null,
            "min_height": null,
            "padding": null,
            "grid_auto_rows": null,
            "grid_gap": null,
            "max_width": null,
            "order": null,
            "_view_module_version": "1.2.0",
            "grid_template_areas": null,
            "object_position": null,
            "object_fit": null,
            "grid_auto_columns": null,
            "margin": null,
            "display": null,
            "left": null
          }
        },
        "975b4aaea7e849a1a6336c744eb4f2b3": {
          "model_module": "@jupyter-widgets/controls",
          "model_name": "FloatProgressModel",
          "state": {
            "_view_name": "ProgressView",
            "style": "IPY_MODEL_2a54875bccb043f1a327beed5f93ecd7",
            "_dom_classes": [],
            "description": "Batches: 100%",
            "_model_name": "FloatProgressModel",
            "bar_style": "success",
            "max": 313,
            "_view_module": "@jupyter-widgets/controls",
            "_model_module_version": "1.5.0",
            "value": 313,
            "_view_count": null,
            "_view_module_version": "1.5.0",
            "orientation": "horizontal",
            "min": 0,
            "description_tooltip": null,
            "_model_module": "@jupyter-widgets/controls",
            "layout": "IPY_MODEL_c0098c88a5c34e31b801150ea5e880f7"
          }
        },
        "6e60526c19f8412dabb3ed04b671ae64": {
          "model_module": "@jupyter-widgets/controls",
          "model_name": "HTMLModel",
          "state": {
            "_view_name": "HTMLView",
            "style": "IPY_MODEL_747412526a8a43329c2ef6565e5eb73e",
            "_dom_classes": [],
            "description": "",
            "_model_name": "HTMLModel",
            "placeholder": "​",
            "_view_module": "@jupyter-widgets/controls",
            "_model_module_version": "1.5.0",
            "value": " 313/313 [34:30&lt;00:00,  6.62s/it]",
            "_view_count": null,
            "_view_module_version": "1.5.0",
            "description_tooltip": null,
            "_model_module": "@jupyter-widgets/controls",
            "layout": "IPY_MODEL_707c6b1a71f448fb9589cd4fe0db4577"
          }
        },
        "2a54875bccb043f1a327beed5f93ecd7": {
          "model_module": "@jupyter-widgets/controls",
          "model_name": "ProgressStyleModel",
          "state": {
            "_view_name": "StyleView",
            "_model_name": "ProgressStyleModel",
            "description_width": "initial",
            "_view_module": "@jupyter-widgets/base",
            "_model_module_version": "1.5.0",
            "_view_count": null,
            "_view_module_version": "1.2.0",
            "bar_color": null,
            "_model_module": "@jupyter-widgets/controls"
          }
        },
        "c0098c88a5c34e31b801150ea5e880f7": {
          "model_module": "@jupyter-widgets/base",
          "model_name": "LayoutModel",
          "state": {
            "_view_name": "LayoutView",
            "grid_template_rows": null,
            "right": null,
            "justify_content": null,
            "_view_module": "@jupyter-widgets/base",
            "overflow": null,
            "_model_module_version": "1.2.0",
            "_view_count": null,
            "flex_flow": null,
            "width": null,
            "min_width": null,
            "border": null,
            "align_items": null,
            "bottom": null,
            "_model_module": "@jupyter-widgets/base",
            "top": null,
            "grid_column": null,
            "overflow_y": null,
            "overflow_x": null,
            "grid_auto_flow": null,
            "grid_area": null,
            "grid_template_columns": null,
            "flex": null,
            "_model_name": "LayoutModel",
            "justify_items": null,
            "grid_row": null,
            "max_height": null,
            "align_content": null,
            "visibility": null,
            "align_self": null,
            "height": null,
            "min_height": null,
            "padding": null,
            "grid_auto_rows": null,
            "grid_gap": null,
            "max_width": null,
            "order": null,
            "_view_module_version": "1.2.0",
            "grid_template_areas": null,
            "object_position": null,
            "object_fit": null,
            "grid_auto_columns": null,
            "margin": null,
            "display": null,
            "left": null
          }
        },
        "747412526a8a43329c2ef6565e5eb73e": {
          "model_module": "@jupyter-widgets/controls",
          "model_name": "DescriptionStyleModel",
          "state": {
            "_view_name": "StyleView",
            "_model_name": "DescriptionStyleModel",
            "description_width": "",
            "_view_module": "@jupyter-widgets/base",
            "_model_module_version": "1.5.0",
            "_view_count": null,
            "_view_module_version": "1.2.0",
            "_model_module": "@jupyter-widgets/controls"
          }
        },
        "707c6b1a71f448fb9589cd4fe0db4577": {
          "model_module": "@jupyter-widgets/base",
          "model_name": "LayoutModel",
          "state": {
            "_view_name": "LayoutView",
            "grid_template_rows": null,
            "right": null,
            "justify_content": null,
            "_view_module": "@jupyter-widgets/base",
            "overflow": null,
            "_model_module_version": "1.2.0",
            "_view_count": null,
            "flex_flow": null,
            "width": null,
            "min_width": null,
            "border": null,
            "align_items": null,
            "bottom": null,
            "_model_module": "@jupyter-widgets/base",
            "top": null,
            "grid_column": null,
            "overflow_y": null,
            "overflow_x": null,
            "grid_auto_flow": null,
            "grid_area": null,
            "grid_template_columns": null,
            "flex": null,
            "_model_name": "LayoutModel",
            "justify_items": null,
            "grid_row": null,
            "max_height": null,
            "align_content": null,
            "visibility": null,
            "align_self": null,
            "height": null,
            "min_height": null,
            "padding": null,
            "grid_auto_rows": null,
            "grid_gap": null,
            "max_width": null,
            "order": null,
            "_view_module_version": "1.2.0",
            "grid_template_areas": null,
            "object_position": null,
            "object_fit": null,
            "grid_auto_columns": null,
            "margin": null,
            "display": null,
            "left": null
          }
        }
      }
    }
  },
  "cells": [
    {
      "cell_type": "code",
      "metadata": {
        "colab": {
          "base_uri": "https://localhost:8080/"
        },
        "id": "ioExyG3g1vao",
        "outputId": "7b0bdf70-af28-40a3-883e-b25fa62a574c"
      },
      "source": [
        "from google.colab import drive\n",
        "drive.mount('/content/drive')"
      ],
      "execution_count": 5,
      "outputs": [
        {
          "output_type": "stream",
          "text": [
            "Mounted at /content/drive\n"
          ],
          "name": "stdout"
        }
      ]
    },
    {
      "cell_type": "code",
      "metadata": {
        "id": "fsOp2ujR43KV"
      },
      "source": [
        "!pip install sentence_transformers\n",
        "!pip install umap-learn\n",
        "!pip install hdbscan"
      ],
      "execution_count": null,
      "outputs": []
    },
    {
      "cell_type": "markdown",
      "metadata": {
        "collapsed": true,
        "pycharm": {
          "name": "#%% md\n"
        },
        "id": "Z4IMbH5t1Lxo"
      },
      "source": [
        "# Punto 1"
      ]
    },
    {
      "cell_type": "code",
      "metadata": {
        "pycharm": {
          "name": "#%%\n"
        },
        "id": "QJHMgjrD1Lx7"
      },
      "source": [
        "import json\n",
        "import pandas as pd\n",
        "import gensim\n",
        "from gensim.utils import simple_preprocess\n",
        "from gensim.parsing.preprocessing import STOPWORDS\n",
        "from nltk.stem import WordNetLemmatizer, SnowballStemmer\n",
        "from nltk.stem.porter import *\n",
        "import numpy as np\n",
        "import nltk\n",
        "import ssl\n",
        "from sklearn.feature_extraction.text import CountVectorizer"
      ],
      "execution_count": 3,
      "outputs": []
    },
    {
      "cell_type": "code",
      "metadata": {
        "pycharm": {
          "name": "#%%\n"
        },
        "id": "PTFOm8nq1LyB"
      },
      "source": [
        "prefix = './drive/MyDrive/'\n",
        "italian_path = prefix + 'datasets/italian/italianV1.json'\n",
        "spanish_path = prefix + 'datasets/spanish/spanishV1.json'\n",
        "english_path = prefix + 'datasets/english/englishV1.json'\n"
      ],
      "execution_count": 1,
      "outputs": []
    },
    {
      "cell_type": "code",
      "metadata": {
        "pycharm": {
          "name": "#%%\n"
        },
        "colab": {
          "base_uri": "https://localhost:8080/",
          "height": 376
        },
        "id": "bRNkx5PV1LyD",
        "outputId": "abdfd6cc-0f79-4c2d-91b0-b175aee13a0f"
      },
      "source": [
        "# VSCode\n",
        "# english_path\n",
        "file = open('./englishSmall.json', 'r')\n",
        "data = []\n",
        "for line in file:\n",
        "    data.append(json.loads(line))\n",
        "english_raw = pd.json_normalize(data)\n",
        "\n",
        "print(english_raw.shape)\n",
        "english_raw.head(10)"
      ],
      "execution_count": 81,
      "outputs": [
        {
          "output_type": "stream",
          "text": [
            "(10000, 4)\n"
          ],
          "name": "stdout"
        },
        {
          "output_type": "execute_result",
          "data": {
            "text/html": [
              "<div>\n",
              "<style scoped>\n",
              "    .dataframe tbody tr th:only-of-type {\n",
              "        vertical-align: middle;\n",
              "    }\n",
              "\n",
              "    .dataframe tbody tr th {\n",
              "        vertical-align: top;\n",
              "    }\n",
              "\n",
              "    .dataframe thead th {\n",
              "        text-align: right;\n",
              "    }\n",
              "</style>\n",
              "<table border=\"1\" class=\"dataframe\">\n",
              "  <thead>\n",
              "    <tr style=\"text-align: right;\">\n",
              "      <th></th>\n",
              "      <th>id</th>\n",
              "      <th>publication_date</th>\n",
              "      <th>source</th>\n",
              "      <th>text</th>\n",
              "    </tr>\n",
              "  </thead>\n",
              "  <tbody>\n",
              "    <tr>\n",
              "      <th>0</th>\n",
              "      <td>1295929115770593287</td>\n",
              "      <td>1.597809e+09</td>\n",
              "      <td>twitter</td>\n",
              "      <td>Info Source:</td>\n",
              "    </tr>\n",
              "    <tr>\n",
              "      <th>1</th>\n",
              "      <td>1296738518216011777</td>\n",
              "      <td>1.598002e+09</td>\n",
              "      <td>twitter</td>\n",
              "      <td>#PostponeJEE_NEETSept #ProtestAgainstExamsInCO...</td>\n",
              "    </tr>\n",
              "    <tr>\n",
              "      <th>2</th>\n",
              "      <td>1252450676015198210</td>\n",
              "      <td>1.587442e+09</td>\n",
              "      <td>twitter</td>\n",
              "      <td>Coronavirus-spreader Chris Cuomo got a lecture...</td>\n",
              "    </tr>\n",
              "    <tr>\n",
              "      <th>3</th>\n",
              "      <td>1380684968880406528</td>\n",
              "      <td>1.618016e+09</td>\n",
              "      <td>twitter</td>\n",
              "      <td>Any military member that refuses to get vaccin...</td>\n",
              "    </tr>\n",
              "    <tr>\n",
              "      <th>4</th>\n",
              "      <td>1368958702150156290</td>\n",
              "      <td>1.615220e+09</td>\n",
              "      <td>twitter</td>\n",
              "      <td>#Covid19 is staying around for a while.  your ...</td>\n",
              "    </tr>\n",
              "    <tr>\n",
              "      <th>5</th>\n",
              "      <td>1317169175203401735</td>\n",
              "      <td>1.602873e+09</td>\n",
              "      <td>twitter</td>\n",
              "      <td>LIES!!!   LIES!!!</td>\n",
              "    </tr>\n",
              "    <tr>\n",
              "      <th>6</th>\n",
              "      <td>1288154256449708032</td>\n",
              "      <td>1.595955e+09</td>\n",
              "      <td>twitter</td>\n",
              "      <td>@GregMannarino Deborah BirxWhite House \"Expert\"</td>\n",
              "    </tr>\n",
              "    <tr>\n",
              "      <th>7</th>\n",
              "      <td>1283867253222502400</td>\n",
              "      <td>1.594933e+09</td>\n",
              "      <td>twitter</td>\n",
              "      <td>Kayleigh McEnany: ‘Science Should Not Stand in...</td>\n",
              "    </tr>\n",
              "    <tr>\n",
              "      <th>8</th>\n",
              "      <td>1286909343909240832</td>\n",
              "      <td>1.595658e+09</td>\n",
              "      <td>twitter</td>\n",
              "      <td>Amazing effort from the guys! Please donate if...</td>\n",
              "    </tr>\n",
              "    <tr>\n",
              "      <th>9</th>\n",
              "      <td>1235895985009811461</td>\n",
              "      <td>1.583496e+09</td>\n",
              "      <td>twitter</td>\n",
              "      <td>@SulaiOdus They said it was suspended due to c...</td>\n",
              "    </tr>\n",
              "  </tbody>\n",
              "</table>\n",
              "</div>"
            ],
            "text/plain": [
              "                    id  ...                                               text\n",
              "0  1295929115770593287  ...                                      Info Source: \n",
              "1  1296738518216011777  ...  #PostponeJEE_NEETSept #ProtestAgainstExamsInCO...\n",
              "2  1252450676015198210  ...  Coronavirus-spreader Chris Cuomo got a lecture...\n",
              "3  1380684968880406528  ...  Any military member that refuses to get vaccin...\n",
              "4  1368958702150156290  ...  #Covid19 is staying around for a while.  your ...\n",
              "5  1317169175203401735  ...                                 LIES!!!   LIES!!! \n",
              "6  1288154256449708032  ...  @GregMannarino Deborah BirxWhite House \"Expert\"  \n",
              "7  1283867253222502400  ...  Kayleigh McEnany: ‘Science Should Not Stand in...\n",
              "8  1286909343909240832  ...  Amazing effort from the guys! Please donate if...\n",
              "9  1235895985009811461  ...  @SulaiOdus They said it was suspended due to c...\n",
              "\n",
              "[10 rows x 4 columns]"
            ]
          },
          "metadata": {
            "tags": []
          },
          "execution_count": 81
        }
      ]
    },
    {
      "cell_type": "code",
      "metadata": {
        "pycharm": {
          "name": "#%%\n"
        },
        "colab": {
          "base_uri": "https://localhost:8080/",
          "height": 35
        },
        "id": "2WwXPgeN1LyE",
        "outputId": "5faaa66b-d09e-420c-b7de-3b9be2a09831"
      },
      "source": [
        "'''\n",
        "Turn text to Numpy Array\n",
        "'''\n",
        "texts_column = english_raw.loc[:,'text']\n",
        "raw_texts = texts_column.values\n",
        "raw_texts[0]"
      ],
      "execution_count": 82,
      "outputs": [
        {
          "output_type": "execute_result",
          "data": {
            "application/vnd.google.colaboratory.intrinsic+json": {
              "type": "string"
            },
            "text/plain": [
              "'Info Source: '"
            ]
          },
          "metadata": {
            "tags": []
          },
          "execution_count": 82
        }
      ]
    },
    {
      "cell_type": "code",
      "metadata": {
        "pycharm": {
          "name": "#%%\n"
        },
        "colab": {
          "base_uri": "https://localhost:8080/",
          "height": 66,
          "referenced_widgets": [
            "4323fd9e1a5a4915acfb53806b8bf980",
            "91d5ec5ef6f44f1ca2a645573c8e4355",
            "975b4aaea7e849a1a6336c744eb4f2b3",
            "6e60526c19f8412dabb3ed04b671ae64",
            "2a54875bccb043f1a327beed5f93ecd7",
            "c0098c88a5c34e31b801150ea5e880f7",
            "747412526a8a43329c2ef6565e5eb73e",
            "707c6b1a71f448fb9589cd4fe0db4577"
          ]
        },
        "id": "0Bh4fYx21LyF",
        "outputId": "8999988c-d84f-42ce-fa11-8f0ff33f1715"
      },
      "source": [
        "from sentence_transformers import SentenceTransformer\n",
        "model = SentenceTransformer('distilbert-base-nli-mean-tokens')\n",
        "embeddings = model.encode(raw_texts, show_progress_bar=True)"
      ],
      "execution_count": 83,
      "outputs": [
        {
          "output_type": "display_data",
          "data": {
            "application/vnd.jupyter.widget-view+json": {
              "model_id": "4323fd9e1a5a4915acfb53806b8bf980",
              "version_minor": 0,
              "version_major": 2
            },
            "text/plain": [
              "HBox(children=(FloatProgress(value=0.0, description='Batches', max=313.0, style=ProgressStyle(description_widt…"
            ]
          },
          "metadata": {
            "tags": []
          }
        },
        {
          "output_type": "stream",
          "text": [
            "\n"
          ],
          "name": "stdout"
        }
      ]
    },
    {
      "cell_type": "markdown",
      "metadata": {
        "id": "szUDb_mv5vMe"
      },
      "source": [
        "### UMAP para reducir la dimensionalidad de los embeddings\n",
        "#### Esto permite una mejor clasificación para el clustering"
      ]
    },
    {
      "cell_type": "code",
      "metadata": {
        "id": "GZ7YDShA5sKT"
      },
      "source": [
        "import umap.umap_ as umap\n",
        "umap_embeddings = umap.UMAP(n_neighbors=30, \n",
        "                            n_components=5, \n",
        "                            metric='cosine').fit_transform(embeddings)"
      ],
      "execution_count": 90,
      "outputs": []
    },
    {
      "cell_type": "markdown",
      "metadata": {
        "id": "uXvWb6HZ7S14"
      },
      "source": [
        "### HDBSCAN para el clustering"
      ]
    },
    {
      "cell_type": "code",
      "metadata": {
        "id": "124AEH7K7WlB"
      },
      "source": [
        "import hdbscan\n",
        "cluster = hdbscan.HDBSCAN(min_cluster_size=30,\n",
        "                          metric='euclidean',                      \n",
        "                          cluster_selection_method='eom').fit(umap_embeddings)"
      ],
      "execution_count": 91,
      "outputs": []
    },
    {
      "cell_type": "markdown",
      "metadata": {
        "id": "HGUa2hoj8pQE"
      },
      "source": [
        "### Visualisación de los clusters"
      ]
    },
    {
      "cell_type": "code",
      "metadata": {
        "id": "Qi5pUaui81tl"
      },
      "source": [
        "import matplotlib.pyplot as plt\n",
        "\n",
        "# Prepare data\n",
        "umap_data = umap.UMAP(n_neighbors=30, n_components=2, min_dist=0.0, metric='cosine').fit_transform(embeddings)\n",
        "result = pd.DataFrame(umap_data, columns=['x', 'y'])\n",
        "result['labels'] = cluster.labels_\n",
        "\n",
        "# Visualize clusters\n",
        "fig, ax = plt.subplots(figsize=(20, 10))\n",
        "outliers = result.loc[result.labels == -1, :]\n",
        "clustered = result.loc[result.labels != -1, :]\n",
        "plt.scatter(outliers.x, outliers.y, color='#BDBDBD', s=0.05)\n",
        "plt.scatter(clustered.x, clustered.y, c=clustered.labels, s=0.05, cmap='hsv_r')\n",
        "plt.colorbar()"
      ],
      "execution_count": null,
      "outputs": []
    },
    {
      "cell_type": "markdown",
      "metadata": {
        "id": "u717wQ0vJbJp"
      },
      "source": [
        "### c-TF-IDF"
      ]
    },
    {
      "cell_type": "code",
      "metadata": {
        "id": "nDfFX3yIJdSn"
      },
      "source": [
        "docs_df = pd.DataFrame(raw_texts, columns=[\"Doc\"])\n",
        "docs_df['Topic'] = cluster.labels_\n",
        "docs_df['Doc_ID'] = range(len(docs_df))\n",
        "docs_per_topic = docs_df.groupby(['Topic'], as_index = False).agg({'Doc': ' '.join})"
      ],
      "execution_count": null,
      "outputs": []
    },
    {
      "cell_type": "code",
      "metadata": {
        "id": "Hl16gWjdKpH_"
      },
      "source": [
        "def c_tf_idf(documents, m, ngram_range=(1, 1)):\n",
        "    count = CountVectorizer(ngram_range=ngram_range, stop_words=\"english\").fit(documents)\n",
        "    t = count.transform(documents).toarray()\n",
        "    w = t.sum(axis=1)\n",
        "    tf = np.divide(t.T, w)\n",
        "    sum_t = t.sum(axis=0)\n",
        "    idf = np.log(np.divide(m, sum_t)).reshape(-1, 1)\n",
        "    tf_idf = np.multiply(tf, idf)\n",
        "\n",
        "    return tf_idf, count\n",
        "  \n",
        "tf_idf, count = c_tf_idf(docs_per_topic.Doc.values, m=len(raw_texts))"
      ],
      "execution_count": null,
      "outputs": []
    },
    {
      "cell_type": "code",
      "metadata": {
        "id": "5kZNLwB2Kq_O"
      },
      "source": [
        "\n",
        "def extract_top_n_words_per_topic(tf_idf, count, docs_per_topic, n=20):\n",
        "    words = count.get_feature_names()\n",
        "    labels = list(docs_per_topic.Topic)\n",
        "    tf_idf_transposed = tf_idf.T\n",
        "    indices = tf_idf_transposed.argsort()[:, -n:]\n",
        "    top_n_words = {label: [(words[j], tf_idf_transposed[i][j]) for j in indices[i]][::-1] for i, label in enumerate(labels)}\n",
        "    return top_n_words\n",
        "\n",
        "def extract_topic_sizes(df):\n",
        "    topic_sizes = (df.groupby(['Topic'])\n",
        "                     .Doc\n",
        "                     .count()\n",
        "                     .reset_index()\n",
        "                     .rename({\"Topic\": \"Topic\", \"Doc\": \"Size\"}, axis='columns')\n",
        "                     .sort_values(\"Size\", ascending=False))\n",
        "    return topic_sizes\n",
        "\n",
        "top_n_words = extract_top_n_words_per_topic(tf_idf, count, docs_per_topic, n=20)\n",
        "topic_sizes = extract_topic_sizes(docs_df); topic_sizes.head(10)"
      ],
      "execution_count": null,
      "outputs": []
    },
    {
      "cell_type": "code",
      "metadata": {
        "id": "-PNIDEy_K8Yh"
      },
      "source": [
        "for topic in topic_sizes   ['Topic']:\n",
        "  if topic == -1:\n",
        "    continue\n",
        "  print(str(top_n_words[topic][:10]) + '\\n')"
      ],
      "execution_count": null,
      "outputs": []
    },
    {
      "cell_type": "markdown",
      "metadata": {
        "id": "TKYR-r0MDnBw"
      },
      "source": [
        "### Modelo a comparar escrito por Diegol (TODO: No se si se debe tocar)"
      ]
    },
    {
      "cell_type": "code",
      "metadata": {
        "id": "gX3BVQbqDtrP"
      },
      "source": [
        "try:\n",
        "     _create_unverified_https_context = ssl._create_unverified_context\n",
        "except AttributeError:\n",
        "     pass\n",
        "else:\n",
        "    ssl._create_default_https_context = _create_unverified_https_context\n",
        "\n",
        "nltk.download('stopwords')\n",
        "nltk.download('punkt')\n",
        "nltk.download('wordnet')#%% md\n",
        "\n",
        "## Reading Files"
      ],
      "execution_count": null,
      "outputs": []
    },
    {
      "cell_type": "code",
      "metadata": {
        "pycharm": {
          "name": "#%%\n"
        },
        "id": "D2qa-3Hz1LyG"
      },
      "source": [
        "stemmer = SnowballStemmer(\"english\")\n",
        "'''\n",
        "Write a function to perform the pre processing steps on the entire dataset\n",
        "'''\n",
        "def lemmatize_stemming(text):\n",
        "    return stemmer.stem(WordNetLemmatizer().lemmatize(text, pos='v'))\n",
        "\n",
        "# Tokenize and lemmatize\n",
        "def preprocess(text):\n",
        "    result=[]\n",
        "    for token in gensim.utils.simple_preprocess(text) :\n",
        "        if token not in gensim.parsing.preprocessing.STOPWORDS and len(token) > 3:\n",
        "            result.append(lemmatize_stemming(token))\n",
        "\n",
        "    return result"
      ],
      "execution_count": null,
      "outputs": []
    },
    {
      "cell_type": "code",
      "metadata": {
        "pycharm": {
          "name": "#%%\n"
        },
        "id": "lecNC9Br1LyH"
      },
      "source": [
        "processed_docs = []\n",
        "\n",
        "for doc in raw_texts:\n",
        "    processed_docs.append(preprocess(doc))"
      ],
      "execution_count": null,
      "outputs": []
    },
    {
      "cell_type": "code",
      "metadata": {
        "pycharm": {
          "name": "#%%\n"
        },
        "id": "y_fgTDjD1LyI",
        "outputId": "1c59e263-d324-4781-c0a9-54a8eeb5caae"
      },
      "source": [
        "'''\n",
        "Preview 'processed_docs'\n",
        "'''\n",
        "print(processed_docs[:10])"
      ],
      "execution_count": null,
      "outputs": [
        {
          "output_type": "stream",
          "text": [
            "[['info', 'sourc'], ['work'], ['coronavirus', 'spreader', 'chris', 'cuomo', 'lectur', 'break', 'quarantin', 'upset'], ['militari', 'member', 'refus', 'vaccin', 'baffl', 'shit', 'pump'], ['covid', 'stay', 'busi', 'covidsaf'], ['lie', 'lie'], ['gregmannarino', 'deborah', 'birxwhit', 'hous', 'expert'], ['kayleigh', 'mcenani', 'scienc', 'stand', 'reopen', 'school'], ['amaz', 'effort', 'guy', 'donat'], ['sulaiodus', 'say', 'suspend', 'coronavirus', 'media']]\n"
          ],
          "name": "stdout"
        }
      ]
    },
    {
      "cell_type": "code",
      "metadata": {
        "pycharm": {
          "name": "#%%\n"
        },
        "id": "dLkayGud1LyK"
      },
      "source": [
        "'''\n",
        "Create a dictionary from 'processed_docs' containing the number of times a word appears\n",
        "in the training set using gensim.corpora.Dictionary and call it 'dictionary'\n",
        "'''\n",
        "dictionary = gensim.corpora.Dictionary(processed_docs)"
      ],
      "execution_count": null,
      "outputs": []
    },
    {
      "cell_type": "code",
      "metadata": {
        "pycharm": {
          "name": "#%%\n"
        },
        "id": "blAVexnb1LyL"
      },
      "source": [
        "'''\n",
        "OPTIONAL STEP\n",
        "Remove very rare and very common words:\n",
        "\n",
        "- words appearing less than 15 times\n",
        "- words appearing in more than 10% of all documents\n",
        "'''\n",
        "dictionary.filter_extremes(no_below=15, no_above=0.1, keep_n= 100000)"
      ],
      "execution_count": null,
      "outputs": []
    },
    {
      "cell_type": "code",
      "metadata": {
        "pycharm": {
          "name": "#%%\n"
        },
        "id": "D_LIKtZo1LyM"
      },
      "source": [
        "'''\n",
        "Create the Bag-of-words model for each document i.e for each document we create a dictionary reporting how many\n",
        "words and how many times those words appear. Save this to 'bow_corpus'\n",
        "'''\n",
        "bow_corpus = [dictionary.doc2bow(doc) for doc in processed_docs]"
      ],
      "execution_count": null,
      "outputs": []
    },
    {
      "cell_type": "code",
      "metadata": {
        "pycharm": {
          "name": "#%%\n"
        },
        "id": "Ff1_i_u11LyN"
      },
      "source": [
        "# LDA multicore\n",
        "'''\n",
        "Train your lda model using gensim.models.LdaMulticore and save it to 'lda_model'\n",
        "'''\n",
        "# TODO\n",
        "lda_model =  gensim.models.LdaMulticore(bow_corpus,\n",
        "                                   num_topics = 8,\n",
        "                                   id2word = dictionary,\n",
        "                                   passes = 10,\n",
        "                                   workers = 2)"
      ],
      "execution_count": null,
      "outputs": []
    },
    {
      "cell_type": "code",
      "metadata": {
        "pycharm": {
          "name": "#%%\n"
        },
        "id": "TpzaLJYT1LyO",
        "outputId": "ec3bc767-e799-4eb2-d3ab-8771acb37029"
      },
      "source": [
        "'''\n",
        "For each topic, we will explore the words occuring in that topic and its relative weight\n",
        "'''\n",
        "for idx, topic in lda_model.print_topics(-1):\n",
        "    print(\"Topic: {} \\nWords: {}\".format(idx, topic ))\n",
        "    print(\"\\n\")"
      ],
      "execution_count": null,
      "outputs": [
        {
          "output_type": "stream",
          "text": [
            "Topic: 0 \n",
            "Words: 0.022*\"vaccin\" + 0.013*\"patient\" + 0.012*\"hous\" + 0.012*\"studi\" + 0.010*\"hospit\" + 0.010*\"research\" + 0.009*\"expert\" + 0.009*\"say\" + 0.009*\"doctor\" + 0.008*\"post\"\n",
            "\n",
            "\n",
            "Topic: 1 \n",
            "Words: 0.028*\"mask\" + 0.019*\"pandem\" + 0.016*\"china\" + 0.014*\"face\" + 0.014*\"wear\" + 0.012*\"govern\" + 0.009*\"market\" + 0.008*\"sign\" + 0.007*\"world\" + 0.007*\"wuhan\"\n",
            "\n",
            "\n",
            "Topic: 2 \n",
            "Words: 0.068*\"peopl\" + 0.039*\"like\" + 0.019*\"look\" + 0.018*\"think\" + 0.013*\"right\" + 0.011*\"kill\" + 0.011*\"fuck\" + 0.011*\"get\" + 0.009*\"long\" + 0.009*\"go\"\n",
            "\n",
            "\n",
            "Topic: 3 \n",
            "Words: 0.040*\"vaccin\" + 0.020*\"health\" + 0.017*\"help\" + 0.012*\"home\" + 0.012*\"pandem\" + 0.011*\"stay\" + 0.011*\"busi\" + 0.010*\"work\" + 0.010*\"worker\" + 0.009*\"care\"\n",
            "\n",
            "\n",
            "Topic: 4 \n",
            "Words: 0.067*\"case\" + 0.046*\"test\" + 0.041*\"death\" + 0.028*\"report\" + 0.022*\"posit\" + 0.020*\"updat\" + 0.014*\"number\" + 0.013*\"state\" + 0.010*\"news\" + 0.010*\"infect\"\n",
            "\n",
            "\n",
            "Topic: 5 \n",
            "Words: 0.029*\"know\" + 0.020*\"good\" + 0.019*\"come\" + 0.018*\"year\" + 0.016*\"go\" + 0.011*\"time\" + 0.010*\"hope\" + 0.010*\"great\" + 0.009*\"love\" + 0.009*\"school\"\n",
            "\n",
            "\n",
            "Topic: 6 \n",
            "Words: 0.028*\"spread\" + 0.027*\"thank\" + 0.019*\"read\" + 0.014*\"check\" + 0.014*\"social\" + 0.013*\"latest\" + 0.011*\"nurs\" + 0.010*\"share\" + 0.010*\"articl\" + 0.009*\"symptom\"\n",
            "\n",
            "\n",
            "Topic: 7 \n",
            "Words: 0.070*\"trump\" + 0.030*\"realdonaldtrump\" + 0.020*\"presid\" + 0.019*\"american\" + 0.018*\"say\" + 0.017*\"state\" + 0.011*\"america\" + 0.011*\"biden\" + 0.010*\"respons\" + 0.009*\"vote\"\n",
            "\n",
            "\n"
          ],
          "name": "stdout"
        }
      ]
    }
  ]
}