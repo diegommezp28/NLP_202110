{
 "cells": [
  {
   "cell_type": "markdown",
   "metadata": {
    "collapsed": true,
    "pycharm": {
     "name": "#%% md\n"
    }
   },
   "source": [
    "# Punto 1 - LDA Approach"
   ]
  },
  {
   "cell_type": "code",
   "execution_count": 6,
   "metadata": {
    "pycharm": {
     "name": "#%%\n"
    }
   },
   "outputs": [],
   "source": [
    "import json\n",
    "import os\n",
    "import pandas as pd\n",
    "import gensim\n",
    "from gensim.utils import simple_preprocess\n",
    "from gensim.parsing.preprocessing import STOPWORDS\n",
    "from nltk.stem import WordNetLemmatizer, SnowballStemmer\n",
    "from nltk.stem.porter import *\n",
    "import numpy as np\n",
    "import nltk\n",
    "import ssl\n",
    "from sklearn.feature_extraction.text import CountVectorizer\n",
    "import pickle as pk"
   ]
  },
  {
   "cell_type": "code",
   "execution_count": 7,
   "metadata": {
    "pycharm": {
     "name": "#%%\n"
    }
   },
   "outputs": [],
   "source": [
    "italian_path = 'datasets/italian/italian_out_hash.json'\n",
    "spanish_path = 'datasets/spanish/spanish_out_hash.json'\n",
    "english_path = 'datasets/english/english_out_hash.json'"
   ]
  },
  {
   "cell_type": "code",
   "execution_count": 8,
   "metadata": {
    "pycharm": {
     "name": "#%%\n"
    }
   },
   "outputs": [
    {
     "name": "stderr",
     "output_type": "stream",
     "text": [
      "[nltk_data] Downloading package stopwords to\n",
      "[nltk_data]     /Users/isabelasarmiento/nltk_data...\n",
      "[nltk_data]   Package stopwords is already up-to-date!\n",
      "[nltk_data] Downloading package punkt to\n",
      "[nltk_data]     /Users/isabelasarmiento/nltk_data...\n",
      "[nltk_data]   Package punkt is already up-to-date!\n",
      "[nltk_data] Downloading package wordnet to\n",
      "[nltk_data]     /Users/isabelasarmiento/nltk_data...\n",
      "[nltk_data]   Package wordnet is already up-to-date!\n"
     ]
    },
    {
     "data": {
      "text/plain": "True"
     },
     "execution_count": 8,
     "metadata": {},
     "output_type": "execute_result"
    }
   ],
   "source": [
    "try:\n",
    "     _create_unverified_https_context = ssl._create_unverified_context\n",
    "except AttributeError:\n",
    "     pass\n",
    "else:\n",
    "    ssl._create_default_https_context = _create_unverified_https_context\n",
    "\n",
    "nltk.download('stopwords')\n",
    "nltk.download('punkt')\n",
    "nltk.download('wordnet')#%% md"
   ]
  },
  {
   "cell_type": "markdown",
   "metadata": {
    "pycharm": {
     "name": "#%% md\n"
    }
   },
   "source": [
    "## English"
   ]
  },
  {
   "cell_type": "code",
   "execution_count": null,
   "metadata": {
    "pycharm": {
     "name": "#%%\n"
    }
   },
   "outputs": [],
   "source": [
    "# english_path\n",
    "file = open(english_path, 'r')\n",
    "data = []\n",
    "for line in file:\n",
    "    data.append(json.loads(line))\n",
    "english_raw = pd.json_normalize(data)\n",
    "\n",
    "print(english_raw.shape)\n",
    "english_raw.head(10)"
   ]
  },
  {
   "cell_type": "code",
   "execution_count": null,
   "metadata": {
    "pycharm": {
     "name": "#%%\n"
    }
   },
   "outputs": [],
   "source": [
    "'''\n",
    "Turn text to Numpy Array\n",
    "'''\n",
    "texts_column = english_raw.loc[:,'text']\n",
    "raw_texts = texts_column.values\n",
    "raw_texts[0]\n",
    "\n",
    "\n",
    "## Reading Files"
   ]
  },
  {
   "cell_type": "code",
   "execution_count": null,
   "metadata": {
    "pycharm": {
     "name": "#%%\n"
    }
   },
   "outputs": [],
   "source": [
    "stemmer = SnowballStemmer(\"english\")\n",
    "'''\n",
    "Write a function to perform the pre processing steps on the entire dataset\n",
    "'''\n",
    "def lemmatize_stemming(text):\n",
    "    return stemmer.stem(WordNetLemmatizer().lemmatize(text, pos='v'))\n",
    "\n",
    "# Tokenize and lemmatize\n",
    "def preprocess(text):\n",
    "    result=[]\n",
    "    for token in gensim.utils.simple_preprocess(text) :\n",
    "        if token not in gensim.parsing.preprocessing.STOPWORDS and len(token) > 3:\n",
    "            result.append(lemmatize_stemming(token))\n",
    "\n",
    "    return result"
   ]
  },
  {
   "cell_type": "code",
   "execution_count": null,
   "metadata": {
    "pycharm": {
     "name": "#%%\n"
    }
   },
   "outputs": [],
   "source": [
    "processed_docs = []\n",
    "\n",
    "for doc in raw_texts:\n",
    "    processed_docs.append(preprocess(doc))"
   ]
  },
  {
   "cell_type": "code",
   "execution_count": null,
   "metadata": {
    "pycharm": {
     "name": "#%%\n"
    }
   },
   "outputs": [],
   "source": [
    "'''\n",
    "Preview 'processed_docs'\n",
    "'''\n",
    "print(processed_docs[:10])"
   ]
  },
  {
   "cell_type": "code",
   "execution_count": null,
   "metadata": {
    "pycharm": {
     "name": "#%%\n"
    }
   },
   "outputs": [],
   "source": [
    "'''\n",
    "Create a dictionary from 'processed_docs' containing the number of times a word appears\n",
    "in the training set using gensim.corpora.Dictionary and call it 'dictionary'\n",
    "'''\n",
    "dictionary = gensim.corpora.Dictionary(processed_docs)"
   ]
  },
  {
   "cell_type": "code",
   "execution_count": null,
   "metadata": {
    "pycharm": {
     "name": "#%%\n"
    }
   },
   "outputs": [],
   "source": [
    "'''\n",
    "OPTIONAL STEP\n",
    "Remove very rare and very common words:\n",
    "\n",
    "- words appearing less than 15 times\n",
    "- words appearing in more than 10% of all documents\n",
    "'''\n",
    "dictionary.filter_extremes(no_below=15, no_above=0.1, keep_n= 100000)"
   ]
  },
  {
   "cell_type": "code",
   "execution_count": null,
   "metadata": {
    "pycharm": {
     "name": "#%%\n"
    }
   },
   "outputs": [],
   "source": [
    "'''\n",
    "Create the Bag-of-words model for each document i.e for each document we create a dictionary reporting how many\n",
    "words and how many times those words appear. Save this to 'bow_corpus'\n",
    "'''\n",
    "bow_corpus = [dictionary.doc2bow(doc) for doc in processed_docs]\n"
   ]
  },
  {
   "cell_type": "code",
   "execution_count": null,
   "outputs": [],
   "source": [
    "# LDA multicore\n",
    "'''\n",
    "Train your lda model using gensim.models.LdaMulticore and save it to 'lda_model'\n",
    "'''\n",
    "# TODO\n",
    "lda_model =  gensim.models.LdaMulticore(bow_corpus,\n",
    "                                   num_topics = 8,\n",
    "                                   id2word = dictionary,\n",
    "                                   passes = 10,\n",
    "                                   workers = 2)"
   ],
   "metadata": {
    "collapsed": false,
    "pycharm": {
     "name": "#%%\n"
    }
   }
  },
  {
   "cell_type": "code",
   "execution_count": null,
   "outputs": [],
   "source": [
    "with open(\"results_punto1/eng_lda\", \"wb\") as output_file:\n",
    "    pk.dump(lda_model, output_file)\n",
    "\n",
    "with open(\"results_punto1/eng_lda\", \"rb\") as output_file:\n",
    "    lda_model = pk.load(output_file)"
   ],
   "metadata": {
    "collapsed": false,
    "pycharm": {
     "name": "#%%\n"
    }
   }
  },
  {
   "cell_type": "code",
   "execution_count": 5,
   "metadata": {
    "pycharm": {
     "name": "#%%\n"
    }
   },
   "outputs": [
    {
     "name": "stdout",
     "output_type": "stream",
     "text": [
      "Topic: 0 \n",
      "Words: 0.040*\"mask\" + 0.030*\"spread\" + 0.020*\"wear\" + 0.019*\"face\" + 0.015*\"social\" + 0.012*\"hous\" + 0.011*\"question\" + 0.011*\"white\" + 0.010*\"hand\" + 0.010*\"stop\"\n",
      "\n",
      "\n",
      "Topic: 1 \n",
      "Words: 0.047*\"trump\" + 0.023*\"peopl\" + 0.021*\"realdonaldtrump\" + 0.017*\"know\" + 0.014*\"think\" + 0.013*\"presid\" + 0.013*\"say\" + 0.012*\"go\" + 0.012*\"american\" + 0.010*\"die\"\n",
      "\n",
      "\n",
      "Topic: 2 \n",
      "Words: 0.024*\"like\" + 0.018*\"thank\" + 0.018*\"good\" + 0.016*\"virus\" + 0.014*\"time\" + 0.014*\"look\" + 0.014*\"peopl\" + 0.012*\"come\" + 0.011*\"news\" + 0.009*\"hope\"\n",
      "\n",
      "\n",
      "Topic: 3 \n",
      "Words: 0.018*\"pandem\" + 0.015*\"school\" + 0.013*\"work\" + 0.010*\"stay\" + 0.009*\"home\" + 0.009*\"chang\" + 0.008*\"student\" + 0.008*\"communiti\" + 0.008*\"impact\" + 0.008*\"safe\"\n",
      "\n",
      "\n",
      "Topic: 4 \n",
      "Words: 0.018*\"pandem\" + 0.013*\"busi\" + 0.011*\"help\" + 0.010*\"govern\" + 0.009*\"crisi\" + 0.009*\"support\" + 0.009*\"need\" + 0.008*\"economi\" + 0.008*\"relief\" + 0.008*\"fund\"\n",
      "\n",
      "\n",
      "Topic: 5 \n",
      "Words: 0.073*\"vaccin\" + 0.020*\"health\" + 0.014*\"patient\" + 0.012*\"say\" + 0.011*\"studi\" + 0.010*\"hospit\" + 0.010*\"effect\" + 0.010*\"medic\" + 0.008*\"expert\" + 0.008*\"develop\"\n",
      "\n",
      "\n",
      "Topic: 6 \n",
      "Words: 0.083*\"case\" + 0.050*\"death\" + 0.033*\"report\" + 0.024*\"state\" + 0.024*\"updat\" + 0.018*\"number\" + 0.013*\"total\" + 0.013*\"confirm\" + 0.012*\"record\" + 0.012*\"daili\"\n",
      "\n",
      "\n",
      "Topic: 7 \n",
      "Words: 0.074*\"test\" + 0.035*\"posit\" + 0.012*\"home\" + 0.010*\"lockdown\" + 0.010*\"quarantin\" + 0.010*\"travel\" + 0.010*\"nurs\" + 0.009*\"south\" + 0.009*\"news\" + 0.008*\"close\"\n",
      "\n",
      "\n"
     ]
    }
   ],
   "source": [
    "'''\n",
    "For each topic, we will explore the words occuring in that topic and its relative weight\n",
    "'''\n",
    "for idx, topic in lda_model.print_topics(-1):\n",
    "    print(\"Topic: {} \\nWords: {}\".format(idx, topic ))\n",
    "    print(\"\\n\")"
   ]
  },
  {
   "cell_type": "markdown",
   "metadata": {
    "pycharm": {
     "name": "#%% md\n"
    }
   },
   "source": [
    "## Spanish"
   ]
  },
  {
   "cell_type": "code",
   "execution_count": 4,
   "metadata": {
    "pycharm": {
     "name": "#%%\n"
    }
   },
   "outputs": [
    {
     "name": "stdout",
     "output_type": "stream",
     "text": [
      "(886351, 4)\n"
     ]
    },
    {
     "data": {
      "text/html": [
       "<div>\n",
       "<style scoped>\n",
       "    .dataframe tbody tr th:only-of-type {\n",
       "        vertical-align: middle;\n",
       "    }\n",
       "\n",
       "    .dataframe tbody tr th {\n",
       "        vertical-align: top;\n",
       "    }\n",
       "\n",
       "    .dataframe thead th {\n",
       "        text-align: right;\n",
       "    }\n",
       "</style>\n",
       "<table border=\"1\" class=\"dataframe\">\n",
       "  <thead>\n",
       "    <tr style=\"text-align: right;\">\n",
       "      <th></th>\n",
       "      <th>id</th>\n",
       "      <th>publication_date</th>\n",
       "      <th>source</th>\n",
       "      <th>text</th>\n",
       "    </tr>\n",
       "  </thead>\n",
       "  <tbody>\n",
       "    <tr>\n",
       "      <th>0</th>\n",
       "      <td>1304391319972790274</td>\n",
       "      <td>1.599826e+09</td>\n",
       "      <td>twitter</td>\n",
       "      <td>ORACIÓN DIARIAViernes 11 de Septiembre 2020#or...</td>\n",
       "    </tr>\n",
       "    <tr>\n",
       "      <th>1</th>\n",
       "      <td>1308823479077175297</td>\n",
       "      <td>1.600883e+09</td>\n",
       "      <td>twitter</td>\n",
       "      <td>Se pudrió todo. Acá la FIFA debe castigar a la...</td>\n",
       "    </tr>\n",
       "    <tr>\n",
       "      <th>2</th>\n",
       "      <td>1255929719893221377</td>\n",
       "      <td>1.588272e+09</td>\n",
       "      <td>twitter</td>\n",
       "      <td>Última  Publicación  en la Prensaldia -   @ca...</td>\n",
       "    </tr>\n",
       "    <tr>\n",
       "      <th>3</th>\n",
       "      <td>1367024221319286784</td>\n",
       "      <td>1.614759e+09</td>\n",
       "      <td>twitter</td>\n",
       "      <td>Australia = 0 positivos por coronavirus.¿Vacun...</td>\n",
       "    </tr>\n",
       "    <tr>\n",
       "      <th>4</th>\n",
       "      <td>1278689023087849480</td>\n",
       "      <td>1.593698e+09</td>\n",
       "      <td>twitter</td>\n",
       "      <td>coronavirus esto ya es personal</td>\n",
       "    </tr>\n",
       "    <tr>\n",
       "      <th>5</th>\n",
       "      <td>1374234992969015297</td>\n",
       "      <td>1.616478e+09</td>\n",
       "      <td>twitter</td>\n",
       "      <td>#LadyZopilota, zopiloteando en la noticia.</td>\n",
       "    </tr>\n",
       "    <tr>\n",
       "      <th>6</th>\n",
       "      <td>1296604758732570625</td>\n",
       "      <td>1.597970e+09</td>\n",
       "      <td>twitter</td>\n",
       "      <td>La noticia que esperaban los mercados. Gracias...</td>\n",
       "    </tr>\n",
       "    <tr>\n",
       "      <th>7</th>\n",
       "      <td>1344926278592438272</td>\n",
       "      <td>1.609490e+09</td>\n",
       "      <td>twitter</td>\n",
       "      <td>No caigamos en la trampa.En México ya iniciaro...</td>\n",
       "    </tr>\n",
       "    <tr>\n",
       "      <th>8</th>\n",
       "      <td>1311046706809786372</td>\n",
       "      <td>1.601413e+09</td>\n",
       "      <td>twitter</td>\n",
       "      <td>El coronavirus se ha confirmado ya en más de 2...</td>\n",
       "    </tr>\n",
       "    <tr>\n",
       "      <th>9</th>\n",
       "      <td>1257004539875667971</td>\n",
       "      <td>1.588528e+09</td>\n",
       "      <td>twitter</td>\n",
       "      <td>@JaimeChincha @RPPNoticias Mi padre acaba de m...</td>\n",
       "    </tr>\n",
       "  </tbody>\n",
       "</table>\n",
       "</div>"
      ],
      "text/plain": [
       "                    id  publication_date   source  \\\n",
       "0  1304391319972790274      1.599826e+09  twitter   \n",
       "1  1308823479077175297      1.600883e+09  twitter   \n",
       "2  1255929719893221377      1.588272e+09  twitter   \n",
       "3  1367024221319286784      1.614759e+09  twitter   \n",
       "4  1278689023087849480      1.593698e+09  twitter   \n",
       "5  1374234992969015297      1.616478e+09  twitter   \n",
       "6  1296604758732570625      1.597970e+09  twitter   \n",
       "7  1344926278592438272      1.609490e+09  twitter   \n",
       "8  1311046706809786372      1.601413e+09  twitter   \n",
       "9  1257004539875667971      1.588528e+09  twitter   \n",
       "\n",
       "                                                text  \n",
       "0  ORACIÓN DIARIAViernes 11 de Septiembre 2020#or...  \n",
       "1  Se pudrió todo. Acá la FIFA debe castigar a la...  \n",
       "2   Última  Publicación  en la Prensaldia -   @ca...  \n",
       "3  Australia = 0 positivos por coronavirus.¿Vacun...  \n",
       "4                   coronavirus esto ya es personal   \n",
       "5        #LadyZopilota, zopiloteando en la noticia.   \n",
       "6  La noticia que esperaban los mercados. Gracias...  \n",
       "7  No caigamos en la trampa.En México ya iniciaro...  \n",
       "8  El coronavirus se ha confirmado ya en más de 2...  \n",
       "9  @JaimeChincha @RPPNoticias Mi padre acaba de m...  "
      ]
     },
     "execution_count": 4,
     "metadata": {},
     "output_type": "execute_result"
    }
   ],
   "source": [
    "# spanish_path\n",
    "file = open(spanish_path, 'r')\n",
    "data = []\n",
    "for line in file:\n",
    "    data.append(json.loads(line))\n",
    "text_raw = pd.json_normalize(data)\n",
    "\n",
    "print(text_raw.shape)\n",
    "text_raw.head(10)"
   ]
  },
  {
   "cell_type": "code",
   "execution_count": 5,
   "metadata": {
    "pycharm": {
     "name": "#%%\n"
    }
   },
   "outputs": [
    {
     "data": {
      "text/plain": [
       "'ORACIÓN DIARIAViernes 11 de Septiembre 2020#oraciondiaria #11DeSeptiembre #BuenosDias #BuenosDiasATodos… '"
      ]
     },
     "execution_count": 5,
     "metadata": {},
     "output_type": "execute_result"
    }
   ],
   "source": [
    "'''\n",
    "Turn text to Numpy Array\n",
    "'''\n",
    "texts_column = text_raw.loc[:,'text']\n",
    "raw_texts = texts_column.values\n",
    "raw_texts[0]"
   ]
  },
  {
   "cell_type": "code",
   "execution_count": 7,
   "metadata": {
    "pycharm": {
     "name": "#%%\n"
    }
   },
   "outputs": [],
   "source": [
    "stemmer = SnowballStemmer(\"spanish\")\n",
    "'''\n",
    "Write a function to perform the pre processing steps on the entire dataset\n",
    "'''\n",
    "def lemmatize_stemming(text):\n",
    "    return stemmer.stem(WordNetLemmatizer().lemmatize(text, pos='v'))\n",
    "\n",
    "# Tokenize and lemmatize\n",
    "def preprocess(text):\n",
    "    result=[]\n",
    "    for token in gensim.utils.simple_preprocess(text) :\n",
    "        if token not in gensim.parsing.preprocessing.STOPWORDS and len(token) > 3:\n",
    "            result.append(lemmatize_stemming(token))\n",
    "\n",
    "    return result"
   ]
  },
  {
   "cell_type": "code",
   "execution_count": 8,
   "metadata": {
    "pycharm": {
     "name": "#%%\n"
    }
   },
   "outputs": [],
   "source": [
    "processed_docs = []\n",
    "\n",
    "for doc in raw_texts:\n",
    "    processed_docs.append(preprocess(doc))"
   ]
  },
  {
   "cell_type": "code",
   "execution_count": 9,
   "metadata": {
    "pycharm": {
     "name": "#%%\n"
    }
   },
   "outputs": [
    {
     "name": "stdout",
     "output_type": "stream",
     "text": [
      "[['oracion', 'diariaviern', 'septiembr', 'oraciondiari', 'deseptiembr', 'buenosdi'], ['pudr', 'tod', 'fif', 'deb', 'castig', 'conmebol', 'flameng'], ['ultim', 'public', 'prensaldi', 'carlosarthurfot', 'quedateencas', 'yaquedamen', 'yomequedoencas'], ['australi', 'posit', 'coronavirus', 'vacun', 'magi', 'cangur', 'cerr', 'fronter', 'durant', 'confin'], ['coronavirus', 'esto', 'personal'], ['ladyzopilot', 'zopilot', 'notici'], ['notici', 'esper', 'merc', 'graci', 'lanacion'], ['caig', 'tramp', 'mexic', 'inici', 'escane', 'codig', 'par', 'entrar', 'tiend', 'cuid'], ['coronavirus', 'confirm', 'person', 'navarr', 'confin', 'restriccion', 'viruschin'], ['jaimechinch', 'rppnotici', 'padr', 'acab', 'mor', 'caus', 'coronavirus', 'sol', 'dig', 'aprovech', 'cad', 'minut']]\n"
     ]
    }
   ],
   "source": [
    "'''\n",
    "Preview 'processed_docs'\n",
    "'''\n",
    "print(processed_docs[:10])"
   ]
  },
  {
   "cell_type": "code",
   "execution_count": 10,
   "metadata": {
    "pycharm": {
     "name": "#%%\n"
    }
   },
   "outputs": [],
   "source": [
    "'''\n",
    "Create a dictionary from 'processed_docs' containing the number of times a word appears\n",
    "in the training set using gensim.corpora.Dictionary and call it 'dictionary'\n",
    "'''\n",
    "dictionary = gensim.corpora.Dictionary(processed_docs)"
   ]
  },
  {
   "cell_type": "code",
   "execution_count": null,
   "metadata": {
    "pycharm": {
     "name": "#%%\n"
    }
   },
   "outputs": [],
   "source": [
    "'''\n",
    "OPTIONAL STEP\n",
    "Remove very rare and very common words:\n",
    "\n",
    "- words appearing less than 15 times\n",
    "- words appearing in more than 10% of all documents\n",
    "'''\n",
    "dictionary.filter_extremes(no_below=15, no_above=0.1, keep_n= 100000)"
   ]
  },
  {
   "cell_type": "code",
   "execution_count": 11,
   "metadata": {
    "pycharm": {
     "name": "#%%\n"
    }
   },
   "outputs": [],
   "source": [
    "'''\n",
    "Create the Bag-of-words model for each document i.e for each document we create a dictionary reporting how many\n",
    "words and how many times those words appear. Save this to 'bow_corpus'\n",
    "'''\n",
    "bow_corpus = [dictionary.doc2bow(doc) for doc in processed_docs]"
   ]
  },
  {
   "cell_type": "code",
   "execution_count": 12,
   "metadata": {
    "pycharm": {
     "name": "#%%\n"
    }
   },
   "outputs": [],
   "source": [
    "# LDA multicore\n",
    "'''\n",
    "Train your lda model using gensim.models.LdaMulticore and save it to 'lda_model'\n",
    "'''\n",
    "# TODO\n",
    "\n",
    "num_topics = 8\n",
    "\n",
    "lda_model =  gensim.models.LdaMulticore(bow_corpus,\n",
    "                                   num_topics = num_topics,\n",
    "                                   id2word = dictionary,\n",
    "                                   passes = 10,\n",
    "                                   workers = 2)"
   ]
  },
  {
   "cell_type": "code",
   "execution_count": 13,
   "metadata": {
    "pycharm": {
     "name": "#%%\n"
    }
   },
   "outputs": [
    {
     "name": "stdout",
     "output_type": "stream",
     "text": [
      "Topic: 0 \n",
      "Words: 0.046*\"coronavirus\" + 0.020*\"com\" + 0.018*\"per\" + 0.016*\"hac\" + 0.015*\"par\" + 0.015*\"esta\" + 0.014*\"tod\" + 0.013*\"esto\" + 0.012*\"tien\" + 0.012*\"pas\"\n",
      "\n",
      "\n",
      "Topic: 1 \n",
      "Words: 0.059*\"par\" + 0.051*\"cov\" + 0.016*\"med\" + 0.016*\"salud\" + 0.011*\"ante\" + 0.010*\"coronavirus\" + 0.009*\"trabaj\" + 0.009*\"prueb\" + 0.009*\"sanitari\" + 0.008*\"com\"\n",
      "\n",
      "\n",
      "Topic: 2 \n",
      "Words: 0.085*\"coronavirus\" + 0.027*\"cov\" + 0.015*\"chin\" + 0.015*\"pandemi\" + 0.012*\"nuev\" + 0.011*\"estad\" + 0.010*\"unid\" + 0.009*\"españ\" + 0.008*\"crisis\" + 0.008*\"mund\"\n",
      "\n",
      "\n",
      "Topic: 3 \n",
      "Words: 0.057*\"cov\" + 0.024*\"coronavirus\" + 0.022*\"pacient\" + 0.020*\"hospital\" + 0.020*\"posit\" + 0.015*\"medic\" + 0.010*\"president\" + 0.009*\"sintom\" + 0.009*\"mur\" + 0.008*\"años\"\n",
      "\n",
      "\n",
      "Topic: 4 \n",
      "Words: 0.072*\"vacun\" + 0.068*\"cov\" + 0.064*\"contr\" + 0.033*\"par\" + 0.022*\"coronavirus\" + 0.010*\"millon\" + 0.009*\"primer\" + 0.008*\"luch\" + 0.008*\"recib\" + 0.007*\"investig\"\n",
      "\n",
      "\n",
      "Topic: 5 \n",
      "Words: 0.029*\"tod\" + 0.024*\"cov\" + 0.021*\"esta\" + 0.013*\"nuestr\" + 0.013*\"graci\" + 0.012*\"par\" + 0.012*\"este\" + 0.011*\"coronavirus\" + 0.011*\"vid\" + 0.010*\"com\"\n",
      "\n",
      "\n",
      "Topic: 6 \n",
      "Words: 0.030*\"coronavirus\" + 0.018*\"cov\" + 0.014*\"buen\" + 0.013*\"niñ\" + 0.010*\"despues\" + 0.008*\"mes\" + 0.008*\"clas\" + 0.008*\"estudi\" + 0.007*\"social\" + 0.007*\"llev\"\n",
      "\n",
      "\n",
      "Topic: 7 \n",
      "Words: 0.077*\"cas\" + 0.075*\"cov\" + 0.057*\"coronavirus\" + 0.042*\"nuev\" + 0.034*\"muert\" + 0.025*\"contagi\" + 0.018*\"confirm\" + 0.016*\"fallec\" + 0.016*\"ultim\" + 0.014*\"registr\"\n",
      "\n",
      "\n"
     ]
    }
   ],
   "source": [
    "with open(\"results_punto1/es_lda\", \"wb\") as output_file:\n",
    "    pk.dump(lda_model, output_file)\n",
    "\n",
    "with open(\"results_punto1/es_lda\", \"rb\") as output_file:\n",
    "    lda_model = pk.load(output_file)"
   ]
  },
  {
   "cell_type": "code",
   "execution_count": null,
   "outputs": [],
   "source": [
    "'''\n",
    "For each topic, we will explore the words occuring in that topic and its relative weight\n",
    "'''\n",
    "for idx, topic in lda_model.print_topics(-1):\n",
    "    print(\"Topic: {} \\nWords: {}\".format(idx, topic ))\n",
    "    print(\"\\n\")"
   ],
   "metadata": {
    "collapsed": false,
    "pycharm": {
     "name": "#%%\n"
    }
   }
  },
  {
   "cell_type": "code",
   "execution_count": 17,
   "metadata": {
    "pycharm": {
     "name": "#%%\n"
    }
   },
   "outputs": [
    {
     "name": "stderr",
     "output_type": "stream",
     "text": [
      "/Users/isabelasarmiento/pythonProject/venv/lib/python3.8/site-packages/ipykernel/ipkernel.py:283: DeprecationWarning: `should_run_async` will not call `transform_cell` automatically in the future. Please pass the result to `transformed_cell` argument and any exception that happen during thetransform in `preprocessing_exc_tuple` in IPython 7.17 and above.\n",
      "  and should_run_async(code)\n"
     ]
    }
   ],
   "source": [
    "import pickle\n",
    "\n",
    "'''\n",
    "Guardarlo en  una variable especifica\n",
    "'''\n",
    "def savePickle(file,obj):\n",
    "    outfile = open(file,'wb')\n",
    "    pickle.dump(obj,outfile)\n",
    "    outfile.close()"
   ]
  },
  {
   "cell_type": "code",
   "execution_count": 18,
   "metadata": {
    "pycharm": {
     "name": "#%%\n"
    }
   },
   "outputs": [
    {
     "name": "stderr",
     "output_type": "stream",
     "text": [
      "/Users/isabelasarmiento/pythonProject/venv/lib/python3.8/site-packages/ipykernel/ipkernel.py:283: DeprecationWarning: `should_run_async` will not call `transform_cell` automatically in the future. Please pass the result to `transformed_cell` argument and any exception that happen during thetransform in `preprocessing_exc_tuple` in IPython 7.17 and above.\n",
      "  and should_run_async(code)\n"
     ]
    }
   ],
   "source": [
    "'''\n",
    "Guardarlo en  una variable especifica\n",
    "'''\n",
    "\n",
    "ita_lda_model = lda_model\n",
    "savePickle(\"results_punto1/italian_lda\", ita_lda_model )\n",
    "\n",
    "ita_bow_corpus = bow_corpus\n",
    "savePickle(\"results_punto1/ita_bow_corpus\", ita_bow_corpus )\n",
    "\n",
    "ita_dictionary = dictionary\n",
    "savePickle(\"results_punto1/ita_dictionary\", ita_dictionary )"
   ]
  },
  {
   "cell_type": "markdown",
   "metadata": {
    "pycharm": {
     "name": "#%% md\n"
    }
   },
   "source": [
    "###  Graphical Representantion"
   ]
  },
  {
   "cell_type": "code",
   "execution_count": 30,
   "metadata": {
    "pycharm": {
     "name": "#%%\n"
    }
   },
   "outputs": [
    {
     "name": "stderr",
     "output_type": "stream",
     "text": [
      "/Users/isabelasarmiento/pythonProject/venv/lib/python3.8/site-packages/ipykernel/ipkernel.py:283: DeprecationWarning: `should_run_async` will not call `transform_cell` automatically in the future. Please pass the result to `transformed_cell` argument and any exception that happen during thetransform in `preprocessing_exc_tuple` in IPython 7.17 and above.\n",
      "  and should_run_async(code)\n"
     ]
    },
    {
     "data": {
      "text/html": [
       "\n",
       "<link rel=\"stylesheet\" type=\"text/css\" href=\"https://cdn.jsdelivr.net/gh/bmabey/pyLDAvis@3.3.1/pyLDAvis/js/ldavis.v1.0.0.css\">\n",
       "\n",
       "\n",
       "<div id=\"ldavis_el2138140490750205504914238712\"></div>\n",
       "<script type=\"text/javascript\">\n",
       "\n",
       "var ldavis_el2138140490750205504914238712_data = {\"mdsDat\": {\"x\": [0.27282315793956297, -0.20122278174325828, 0.015425260572028332, -0.06447471996307656, 0.25147721521583627, -0.09756654841540277, -0.1664452723692317, -0.010016311236458403], \"y\": [-0.005767570991903477, 0.01771223612896876, 0.15292937205358345, -0.02495759291712259, 0.07377853579990291, 0.09224307303087428, 0.07318740738149793, -0.37912546048580126], \"topics\": [1, 2, 3, 4, 5, 6, 7, 8], \"cluster\": [1, 1, 1, 1, 1, 1, 1, 1], \"Freq\": [18.636956475347834, 16.281979083413916, 15.32187449405823, 12.161658900675192, 11.189589516344185, 10.76550719790178, 8.94207429661705, 6.700360035641813]}, \"tinfo\": {\"Term\": [\"cas\", \"vacun\", \"contr\", \"par\", \"cov\", \"nuev\", \"muert\", \"coronavirus\", \"tod\", \"posit\", \"contagi\", \"confirm\", \"per\", \"pacient\", \"med\", \"ultim\", \"esta\", \"hospital\", \"fallec\", \"registr\", \"com\", \"esto\", \"salud\", \"hor\", \"report\", \"mexic\", \"hac\", \"chin\", \"medic\", \"cuand\", \"esto\", \"cuand\", \"gent\", \"porqu\", \"quier\", \"teng\", \"nad\", \"dec\", \"mat\", \"parec\", \"cos\", \"verd\", \"poc\", \"pues\", \"algo\", \"pens\", \"mir\", \"estoy\", \"clar\", \"pregunt\", \"put\", \"nadi\", \"mied\", \"mor\", \"algui\", \"culp\", \"mierd\", \"dig\", \"vay\", \"fuer\", \"dic\", \"pas\", \"per\", \"sab\", \"hac\", \"cre\", \"ten\", \"com\", \"tien\", \"sal\", \"bien\", \"ahor\", \"pued\", \"coronavirus\", \"esta\", \"tod\", \"sol\", \"par\", \"este\", \"dej\", \"much\", \"cas\", \"muert\", \"confirm\", \"ultim\", \"registr\", \"hor\", \"report\", \"super\", \"sum\", \"total\", \"cifr\", \"diari\", \"numer\", \"actualiz\", \"provinci\", \"oficial\", \"acumul\", \"sospech\", \"defuncion\", \"may\", \"deces\", \"juni\", \"doming\", \"epidemiolog\", \"viern\", \"secret\", \"increment\", \"elev\", \"map\", \"cordob\", \"nuev\", \"fallec\", \"mexic\", \"contagi\", \"dat\", \"inform\", \"cov\", \"posit\", \"record\", \"coronavirus\", \"colombi\", \"aument\", \"activ\", \"venezuel\", \"este\", \"argentin\", \"salud\", \"person\", \"pais\", \"millon\", \"med\", \"sanitari\", \"evit\", \"realiz\", \"prevencion\", \"propag\", \"sistem\", \"servici\", \"protocol\", \"sector\", \"preven\", \"recomend\", \"organiz\", \"madur\", \"fren\", \"manten\", \"accion\", \"necesari\", \"proteccion\", \"latin\", \"consej\", \"reunion\", \"oper\", \"prevent\", \"transport\", \"toqu\", \"guardi\", \"conten\", \"espaci\", \"contingent\", \"emergent\", \"frent\", \"par\", \"prueb\", \"salud\", \"centr\", \"trabaj\", \"ante\", \"tom\", \"personal\", \"import\", \"public\", \"cov\", \"segur\", \"atencion\", \"deb\", \"gobiern\", \"sobr\", \"com\", \"ayud\", \"pandemi\", \"contagi\", \"coronavirus\", \"nuestr\", \"tod\", \"esta\", \"inform\", \"crisis\", \"unid\", \"mundial\", \"confin\", \"brot\", \"europ\", \"suspend\", \"wuh\", \"restriccion\", \"rein\", \"grav\", \"cep\", \"variant\", \"alarm\", \"rebrot\", \"youtub\", \"mortal\", \"sanchez\", \"plen\", \"cancel\", \"deport\", \"adviert\", \"futbol\", \"infeccion\", \"provoc\", \"epidemi\", \"principal\", \"uruguay\", \"vuel\", \"amenaz\", \"jugador\", \"chin\", \"estad\", \"coronavirus\", \"espa\\u00f1\", \"crisis\", \"madr\", \"econom\", \"pandemi\", \"nivel\", \"alert\", \"afect\", \"cuarenten\", \"mund\", \"cov\", \"tras\", \"nuev\", \"ante\", \"pais\", \"riesg\", \"contagi\", \"virus\", \"com\", \"esta\", \"sobr\", \"graci\", \"vid\", \"dios\", \"siempr\", \"perd\", \"exist\", \"salv\", \"interes\", \"tip\", \"hlgatell\", \"ejempl\", \"grip\", \"histori\", \"esos\", \"articul\", \"eres\", \"pront\", \"vecin\", \"trist\", \"cag\", \"pendej\", \"lad\", \"jajajaj\", \"amor\", \"demas\", \"mental\", \"pen\", \"anim\", \"feliz\", \"camin\", \"moment\", \"nuestr\", \"cuid\", \"gran\", \"lopezobrador_\", \"tod\", \"esta\", \"estos\", \"much\", \"tiemp\", \"famili\", \"derech\", \"este\", \"mejor\", \"viv\", \"cov\", \"pandemi\", \"com\", \"par\", \"estam\", \"coronavirus\", \"pais\", \"deb\", \"hac\", \"per\", \"esper\", \"vacun\", \"contr\", \"luch\", \"investig\", \"dosis\", \"desarroll\", \"tratamient\", \"clinic\", \"comenz\", \"pfiz\", \"laboratori\", \"adult\", \"excelent\", \"medicament\", \"rus\", \"ensay\", \"fond\", \"astrazenec\", \"produc\", \"proyect\", \"autoriz\", \"digital\", \"voluntari\", \"banc\", \"anticuerp\", \"tecnolog\", \"israel\", \"acces\", \"prob\", \"aprueb\", \"recib\", \"efect\", \"millon\", \"internacional\", \"primer\", \"cov\", \"aplic\", \"par\", \"inmun\", \"inici\", \"cientif\", \"rusi\", \"coronavirus\", \"campa\\u00f1\", \"mayor\", \"lleg\", \"mexic\", \"prueb\", \"sobr\", \"gobiern\", \"chin\", \"pais\", \"este\", \"prim\", \"estudi\", \"pacient\", \"hospital\", \"sintom\", \"mur\", \"hombr\", \"lopez\", \"dad\", \"cam\", \"denunci\", \"general\", \"director\", \"muj\", \"enfermer\", \"intern\", \"doctor\", \"diput\", \"jef\", \"luis\", \"ocup\", \"dieron\", \"jos\", \"albert\", \"nombr\", \"juan\", \"secretari\", \"carl\", \"mar\", \"complic\", \"carcel\", \"gatell\", \"medic\", \"posit\", \"muer\", \"enferm\", \"a\\u00f1os\", \"president\", \"cov\", \"encuentr\", \"tras\", \"coronavirus\", \"victim\", \"person\", \"tien\", \"alta\", \"fallec\", \"present\", \"recuper\", \"ni\\u00f1\", \"clas\", \"air\", \"cost\", \"ric\", \"febrer\", \"joven\", \"evident\", \"cab\", \"barri\", \"entrev\", \"dentr\", \"mit\", \"maldit\", \"transmit\", \"preci\", \"cient\", \"caid\", \"larg\", \"red\", \"fern\", \"laboral\", \"simon\", \"compa\\u00f1er\", \"caden\", \"navid\", \"romp\", \"curs\", \"increibl\", \"esencial\", \"despues\", \"mes\", \"buen\", \"social\", \"marz\", \"estudi\", \"sant\", \"llev\", \"puert\", \"coronavirus\", \"cov\", \"dias\", \"seman\", \"notici\", \"regres\", \"pas\"], \"Freq\": [90403.0, 55953.0, 49690.0, 121333.0, 285646.0, 59379.0, 39386.0, 268512.0, 48651.0, 28003.0, 41385.0, 21502.0, 27608.0, 14379.0, 18057.0, 18616.0, 47345.0, 12813.0, 21794.0, 16730.0, 47638.0, 17518.0, 28981.0, 15664.0, 15433.0, 20711.0, 30226.0, 16465.0, 14058.0, 14565.0, 17517.80740010797, 14564.20954022339, 12726.95160688776, 12323.221864886844, 9777.234013617488, 7796.951011218397, 7192.500843117244, 7136.995265456545, 6789.09149582151, 5967.507218007587, 5589.0468942038615, 5505.690663960452, 5282.432901361099, 4967.415092535344, 4929.159715402262, 4415.521187800013, 4350.039429090522, 4167.132699263981, 4030.0084404662794, 4010.038936628634, 3975.0105699794526, 3866.19199904614, 3814.6717201161387, 3780.956722423801, 3755.1880120887686, 3339.191640898614, 3270.1540619640105, 3058.8328721406783, 2945.1232952653286, 2898.5806659816835, 11833.770955849797, 15865.205277421335, 23690.769904489258, 11801.7751188518, 21735.07065068483, 11106.487441807645, 12669.866495797236, 26590.05275847753, 16390.284825677776, 8564.844242474313, 7211.328083730677, 10438.768046137162, 12665.51561050119, 61722.54644017075, 19462.37013289533, 19395.29668570397, 9956.936796392216, 20117.54987820757, 10647.602436979323, 7083.327905666625, 6794.204721048367, 90402.63438254579, 39386.07568296835, 21501.25930254161, 18615.512871417577, 16729.116082537115, 15663.638109434034, 15432.207466835596, 9700.603332260613, 9221.665225602885, 9099.541938782026, 9086.30941101706, 8183.634713893679, 7771.682092657462, 5008.494605056704, 4619.064890764444, 3506.913925989931, 3432.171572981927, 3225.2003313696796, 3143.0684238324075, 3100.8042779894113, 2944.589492777415, 2804.997461331487, 2784.1556446879727, 2779.977969197256, 2768.672133198719, 2266.9043900499905, 2153.4859325715333, 1950.0640677994893, 1641.8741178035884, 1510.1407886983416, 49089.88871598401, 18620.479357825105, 16479.468454927213, 28785.16925975813, 7187.582448316509, 13168.6953449275, 88052.24033361691, 15221.533687823703, 4563.587549422653, 66477.11325889739, 5360.631016480518, 6171.164321043213, 5715.830639093186, 6638.619606167049, 11145.038377100786, 6885.824288818162, 9118.226165606831, 8467.479214359615, 8369.767950858559, 6170.198252305609, 18056.1893313151, 9499.829569718777, 8048.880842597786, 7884.608524371853, 4775.012976623828, 4692.11453475503, 3945.989098593191, 3826.6740393554683, 3554.7330612534283, 3335.093904463348, 3308.2128678535055, 3302.7264818475005, 3098.1315837888123, 2962.042204250832, 2875.267266310446, 2863.3897479418515, 2858.055818487013, 2709.5672373230022, 2368.843500383679, 2322.606375054165, 2195.569327442495, 2132.319460265059, 2077.6021634777303, 1961.1176715017452, 1927.9515815413847, 1849.958525292424, 1766.6797107342031, 1736.510352864877, 1720.2160785286706, 1669.097012578364, 4520.944005990442, 5272.50048258677, 65362.06224483177, 9769.981553467467, 17516.287131670204, 4581.829771706809, 9844.591483542774, 11556.254749551015, 6096.327001484873, 4649.7541617266015, 6015.131460858178, 6802.664608775779, 56377.72132821146, 5162.710242469223, 4690.855423003044, 7045.774643790034, 7054.735501785644, 7209.249063359947, 8333.34068150131, 4633.048510931743, 6585.75506482532, 7111.419103738772, 10863.457333839659, 5331.554207394163, 6261.866118347725, 5606.629897171781, 5143.058977368134, 4705.913518127315, 9132.754930328136, 6019.813440946616, 5514.872906905514, 4976.724348807777, 4132.660088843068, 3972.205213272299, 3649.57160610489, 3592.2625453826504, 3429.966259658716, 3401.597886143797, 3284.245309264227, 3257.6695345001363, 3145.902202332983, 3023.1177298966722, 2766.5942860545592, 2696.6239543277757, 2666.607179079766, 2545.4344998247934, 2402.047751366231, 2392.1915089493227, 2374.132103607988, 2259.516422733625, 2182.856081554863, 2165.527220201839, 2101.846237666184, 2093.762255915797, 2045.5744192436066, 1975.435484797917, 1926.4508019825744, 1916.6388965894557, 13127.004999942588, 9295.747592058746, 73820.3538647725, 8046.273315035035, 6816.979705545889, 6247.353080842677, 5653.005921425866, 12786.569060819487, 3417.3761719492472, 3768.3374764629607, 4425.498809262257, 5649.537871289819, 6813.361560347656, 24003.667680220802, 5112.416793211276, 10289.174336413129, 5992.164628854482, 6427.546067233488, 3992.4985537939256, 5488.492784512458, 3997.3540680414035, 4550.381155094846, 4365.484376565487, 4072.295434334529, 10209.977408330727, 8786.780180894111, 5742.094052515247, 5342.422771837289, 5015.4337625860335, 4116.340202831554, 3455.084900345416, 3413.634882983286, 3166.949364548941, 2906.6447150883077, 2591.684650201143, 2579.5816044110425, 2450.0803804681013, 2437.140512513568, 2342.072125439416, 2313.1467460714266, 2148.7938999278535, 2041.19844223699, 1778.667943123869, 1682.9502329480667, 1654.342965762442, 1590.1789900802146, 1575.9268158110203, 1564.340328067636, 1452.5066804836079, 1391.9163209206224, 1389.9515103824872, 1385.4708067314727, 1353.9821916728758, 1341.2304777179709, 5323.610740121115, 10366.523033019817, 5694.449455338409, 4613.201865964851, 3162.8371096550304, 22993.75632271893, 16615.58760532466, 4692.884102402085, 7091.46155917089, 5952.2007867235325, 3987.794438184586, 2485.5380999385447, 9664.570703419688, 4795.993616947166, 4212.926546390026, 19486.31876489768, 7207.797804009071, 8156.721204508421, 10031.384738155628, 3505.7927307136133, 8827.752281483441, 4600.268921628404, 3913.9254211928487, 4118.037424886877, 3917.3108833124625, 3479.906258311273, 55952.15994000932, 49689.932374231576, 6458.910557472361, 5085.534756650933, 4794.265033915433, 3993.494466730588, 3202.770451869188, 2915.9464599607827, 2793.1898111971245, 2783.6154849998425, 2741.55585402522, 2528.831576667863, 2516.1653665625663, 2364.824904588505, 2350.087416716718, 2110.872387888481, 2004.9099221034667, 1991.101043594527, 1956.5576034476496, 1936.701602044434, 1700.614103625538, 1671.4151182179946, 1668.6807795202583, 1615.0471976501867, 1608.255098884747, 1583.9965745348331, 1582.3876210885815, 1503.1990984238769, 1359.2983133226928, 1340.8806842545812, 6128.70657377756, 4123.993787628401, 7833.042856266392, 3744.278613918992, 6813.681821829073, 52536.899613533926, 3629.270038274539, 25821.97989810818, 2453.2816976310187, 3895.7074720150304, 3351.488735601708, 2572.099948096568, 17273.418863269577, 2509.565002766384, 3483.4942111969967, 3988.7776064540085, 4231.732277330532, 3615.9069210650196, 4160.843628424258, 3556.9476078704524, 3337.411248102972, 3544.5440656713977, 3182.77024416515, 2917.636968281282, 2899.6124409083577, 14378.239941275453, 12812.193249059364, 5745.8965291662125, 5600.736286113643, 3641.0287412553203, 3471.046759997333, 3303.2543339529984, 3276.92852893028, 2918.8960254120398, 2899.6571894294398, 2842.2888090965416, 2761.8052336601386, 2547.7154237784343, 2518.9207240297637, 2495.6929257930883, 2338.0738115053427, 2100.181822730247, 2053.001409010579, 2000.7587890969107, 1933.4433500492382, 1929.585683347518, 1866.1205835732453, 1849.8358975186404, 1837.646645737789, 1831.8152091094878, 1755.652722831239, 1705.1327962696587, 1661.8172271406781, 1574.7741079638802, 1524.4506761127725, 9857.405087103793, 12781.40608696493, 4143.004835646218, 3454.5839725727337, 5360.611375712386, 6172.062751074368, 36732.131392529314, 2728.2136105305403, 4442.286317969286, 15267.767009404106, 2637.744096147458, 4342.426330345082, 4309.292297637132, 2343.6727144389824, 3173.2442218801816, 2441.7983446415274, 2452.1445238907395, 6359.06225198336, 3824.0992446255486, 3097.3189295855273, 2930.870001041283, 2481.8322784519855, 2291.5474334232977, 2051.5187101105234, 1944.461914982883, 1908.5056763237462, 1849.7107742250105, 1838.9590417907373, 1815.04861145519, 1793.9252232527238, 1763.9778263669405, 1702.4262479300844, 1697.1594072424573, 1633.549901904296, 1609.7933174598238, 1602.206126653922, 1530.1130232785376, 1516.2741763904985, 1489.8664675593946, 1426.942153498674, 1414.686361781148, 1408.0446565024822, 1358.9559398535876, 1340.6768517961032, 1304.2681515869572, 1288.5964880635781, 1264.6653283108064, 4801.641639064375, 4002.4434971294236, 6633.590104000758, 3589.9666398767886, 2624.586698752527, 3776.635826337943, 2474.750661324549, 3362.722476497116, 1932.860836696933, 14260.50698917306, 8457.769855666897, 3114.202087482037, 2904.3242454965557, 2590.1798999927287, 1777.1185961235883, 1835.329713012926], \"Total\": [90403.0, 55953.0, 49690.0, 121333.0, 285646.0, 59379.0, 39386.0, 268512.0, 48651.0, 28003.0, 41385.0, 21502.0, 27608.0, 14379.0, 18057.0, 18616.0, 47345.0, 12813.0, 21794.0, 16730.0, 47638.0, 17518.0, 28981.0, 15664.0, 15433.0, 20711.0, 30226.0, 16465.0, 14058.0, 14565.0, 17518.726360684082, 14565.128642523254, 12727.870504983597, 12324.140834644737, 9778.153017374245, 7797.869987411052, 7193.419699462487, 7137.914246334168, 6790.010419127737, 5968.4262887425075, 5589.965786554992, 5506.609717807069, 5283.352071762307, 4968.334127538913, 4930.078613269012, 4416.440131392619, 4350.958569532766, 4168.051596745439, 4030.927528245802, 4010.95804256965, 3975.9293010565702, 3867.1109447953745, 3815.5907500756757, 3781.8756747801085, 3756.106924234264, 3340.1106775616877, 3271.072796084571, 3059.7517552678996, 2946.0421967652815, 2899.4999113203476, 12646.878265849675, 17701.312467244275, 27608.868487473188, 14539.552997567793, 30226.874633915108, 14084.598389610412, 17967.47443143067, 47638.391729558265, 26757.42181462399, 11429.410539037946, 9075.48179081491, 15308.65313222315, 22225.726525402904, 268512.91604101047, 47345.85427854656, 48651.57951809625, 16313.224533983259, 121333.50609728646, 34640.54666101901, 11671.945755905528, 13886.454012847185, 90403.5560125357, 39386.99737580372, 21502.18083993904, 18616.4345194981, 16730.037536559288, 15664.559779696227, 15433.128863811286, 9701.525054931455, 9222.586807853895, 9100.463662697248, 9087.231004361422, 8184.556496461529, 7772.6038305674765, 5009.416135861495, 4619.986754471974, 3507.8358608402878, 3433.09288482698, 3226.1221341210494, 3143.9897206306177, 3101.726351180071, 2945.510811169786, 2805.9192869309336, 2785.0775975029037, 2780.899909367933, 2769.594240345109, 2267.826296831391, 2154.4079516521538, 1950.985673777967, 1642.7959006712224, 1511.0627231955953, 59379.856367321525, 21794.50972082943, 20711.991698939626, 41385.74708576514, 9225.481137553646, 21780.120088646738, 285646.87501349224, 28003.72609608021, 5476.731409685616, 268512.91604101047, 7053.471022018427, 9067.220685172257, 8272.821768589225, 10895.940421166952, 34640.54666101901, 13478.991612486228, 28981.76059478149, 24877.39746312648, 25174.49442407305, 14004.031894190992, 18057.1066220448, 9500.746989296305, 8049.798096568842, 7885.52596241569, 4775.930056544465, 4693.032021740621, 3946.9065285934294, 3827.59149531611, 3555.650399546336, 3336.0113701903983, 3309.1300542990657, 3303.6437497975276, 3099.049153675133, 2962.9598811364567, 2876.1847146232603, 2864.307150599213, 2858.973268275632, 2710.4846019302495, 2369.7608002431734, 2323.5238632280134, 2196.4866914680097, 2133.2369634722936, 2078.519695029202, 1962.0348237160854, 1928.8688924320654, 1850.8759691395644, 1767.5970604356514, 1737.4278201340303, 1721.1335315188205, 1670.014264964134, 4979.165686975667, 6249.488595747603, 121333.50609728646, 13386.675059854719, 28981.76059478149, 5594.99662402301, 15675.11718695199, 20590.114993064537, 8884.506715442914, 6181.043646070926, 9332.475813027248, 11271.204398331882, 285646.87501349224, 8522.44053456395, 7322.748396985179, 18663.73000803431, 21429.033816011575, 26285.746128772138, 47638.391729558265, 8731.247559444355, 30647.603556477567, 41385.74708576514, 268512.91604101047, 15698.863303508677, 48651.57951809625, 47345.85427854656, 21780.120088646738, 11523.684911655975, 9133.671304925447, 6020.729856482158, 5515.789348173861, 4977.6406228639125, 4133.576424948088, 3973.121588515972, 3650.487855332456, 3593.178842959232, 3430.882442309161, 3402.5145317033807, 3285.161445390796, 3258.5857120253118, 3146.8185275824467, 3024.0340108925147, 2767.510732735216, 2697.540314623108, 2667.5235907325955, 2546.351074058124, 2402.9640705076204, 2393.107955589864, 2375.048427803014, 2260.432776361587, 2183.77259811138, 2166.44360184932, 2102.7626601970987, 2094.6788901425098, 2046.4909933153738, 1976.3517826400457, 1927.3671969061843, 1917.5554720810878, 16465.201641617456, 15647.164629093786, 268512.91604101047, 14315.359918054977, 11523.684911655975, 10206.341175498745, 8953.767537088592, 30647.603556477567, 4369.882357233362, 5387.674954461883, 7204.275531348632, 12255.68927972248, 18052.8643046758, 285646.87501349224, 11150.359483262293, 59379.856367321525, 20590.114993064537, 25174.49442407305, 6890.180893372185, 41385.74708576514, 11059.977481867616, 47638.391729558265, 47345.85427854656, 26285.746128772138, 10210.890801227642, 8787.693546537805, 5743.0073384913985, 5343.336198839935, 5016.347313885534, 4117.253724190893, 3455.9983453946684, 3414.5483525890336, 3167.862901413606, 2907.5582393700124, 2592.5981352576555, 2580.4952205771647, 2450.9938853093045, 2438.0540049353654, 2342.9856120508607, 2314.060203910692, 2149.7073607983793, 2042.112149262293, 1779.5813451074036, 1683.8636609134924, 1655.25631813857, 1591.0923981651206, 1576.8401331509576, 1565.2536014171433, 1453.4201465713052, 1392.8299667524836, 1390.8648789701185, 1386.3842822146646, 1354.8955353243448, 1342.1440785700195, 5797.614707276638, 15698.863303508677, 7977.366556787209, 6181.08955154379, 3889.9306614651528, 48651.57951809625, 47345.85427854656, 7627.979841883208, 13886.454012847185, 11124.365960766401, 6669.610368959077, 3191.219354301421, 34640.54666101901, 10154.333607982298, 8651.369700581887, 285646.87501349224, 30647.603556477567, 47638.391729558265, 121333.50609728646, 7388.765998879805, 268512.91604101047, 25174.49442407305, 18663.73000803431, 30226.874633915108, 27608.868487473188, 10726.352658856382, 55953.073530513415, 49690.84602682038, 6459.824389485797, 5086.448698155996, 4795.178484671402, 3994.408179243482, 3203.684274114851, 2916.8603944383954, 2794.1037307487795, 2784.5289179659335, 2742.4697008019907, 2529.745391292443, 2517.079405027998, 2365.7386282795383, 2351.0009636429063, 2111.785846200168, 2005.8237878395068, 1992.0145104675737, 1957.4714145373596, 1937.6155035203105, 1701.5277760868248, 1672.3291411979649, 1669.5945827148942, 1615.9612325641508, 1609.1687557228095, 1584.9104536341138, 1583.3014026263525, 1504.113122204009, 1360.2119868928764, 1341.7944089664368, 7507.189536763987, 5797.568446837551, 14004.031894190992, 5227.141204354562, 12761.39024113454, 285646.87501349224, 5340.757471275823, 121333.50609728646, 3079.609818193708, 6706.366898253509, 5302.692806329404, 3402.780104354221, 268512.91604101047, 3727.540706395596, 10406.909041545887, 16239.122498997534, 20711.991698939626, 13386.675059854719, 26285.746128772138, 21429.033816011575, 16465.201641617456, 25174.49442407305, 34640.54666101901, 9468.976768029539, 8422.497407660581, 14379.149314061322, 12813.102611659284, 5746.805927938011, 5601.645636076752, 3641.938176847039, 3471.9560124711256, 3304.1637965417513, 3277.837899529182, 2919.8055747645235, 2900.5666403641385, 2843.198197667441, 2762.7146655247825, 2548.624754151913, 2519.82999952154, 2496.6023747203762, 2338.983243545769, 2101.0912262160573, 2053.910788916314, 2001.6681687198777, 1934.3527478380017, 1930.4950099262953, 1867.0299391524732, 1850.745503274974, 1838.5560113872662, 1832.72458709688, 1756.5621127828142, 1706.0422985601404, 1662.726670922278, 1575.683559668455, 1525.3599787798046, 14058.308540064705, 28003.72609608021, 6179.342483284878, 5068.6720551463795, 10352.423919937315, 13171.649128570485, 285646.87501349224, 4024.6896826783354, 11150.359483262293, 268512.91604101047, 4228.733206721395, 24877.39746312648, 26757.42181462399, 3562.1576109432417, 21794.50972082943, 5975.59740448467, 9700.193954408278, 6359.965274108274, 3825.0022209313493, 3098.2218830533525, 2931.7730974597594, 2482.735270279303, 2292.4505246796084, 2052.421890023493, 1945.3651384813666, 1909.4086993883811, 1850.613893527199, 1839.8622081777116, 1815.9517916257882, 1794.8283567519024, 1764.8808149999718, 1703.3292373732388, 1698.0625069886576, 1634.45318987138, 1610.6964915417636, 1603.1091214538706, 1531.0160423049804, 1517.1772749580714, 1490.7696624165035, 1427.845136996174, 1415.5896680469111, 1408.9477431693801, 1359.858986615584, 1341.579992376511, 1305.171218640018, 1289.4995444391473, 1265.5686049433448, 7488.64944714929, 6954.84264174264, 15801.382830446095, 7009.520549774417, 4338.343846838032, 8422.497407660581, 4100.967276757579, 7754.376289134211, 2678.0515681450674, 268512.91604101047, 285646.87501349224, 13214.814156662163, 10831.536015529899, 12537.201236657724, 3018.9443969141885, 17701.312467244275], \"Category\": [\"Default\", \"Default\", \"Default\", \"Default\", \"Default\", \"Default\", \"Default\", \"Default\", \"Default\", \"Default\", \"Default\", \"Default\", \"Default\", \"Default\", \"Default\", \"Default\", \"Default\", \"Default\", \"Default\", \"Default\", \"Default\", \"Default\", \"Default\", \"Default\", \"Default\", \"Default\", \"Default\", \"Default\", \"Default\", \"Default\", \"Topic1\", \"Topic1\", \"Topic1\", \"Topic1\", \"Topic1\", \"Topic1\", \"Topic1\", \"Topic1\", \"Topic1\", \"Topic1\", \"Topic1\", \"Topic1\", \"Topic1\", \"Topic1\", \"Topic1\", \"Topic1\", \"Topic1\", \"Topic1\", \"Topic1\", \"Topic1\", \"Topic1\", \"Topic1\", \"Topic1\", \"Topic1\", \"Topic1\", \"Topic1\", \"Topic1\", \"Topic1\", \"Topic1\", \"Topic1\", \"Topic1\", \"Topic1\", \"Topic1\", \"Topic1\", \"Topic1\", \"Topic1\", \"Topic1\", \"Topic1\", \"Topic1\", \"Topic1\", \"Topic1\", \"Topic1\", \"Topic1\", \"Topic1\", \"Topic1\", \"Topic1\", \"Topic1\", \"Topic1\", \"Topic1\", \"Topic1\", \"Topic1\", \"Topic2\", \"Topic2\", \"Topic2\", \"Topic2\", \"Topic2\", \"Topic2\", \"Topic2\", \"Topic2\", \"Topic2\", \"Topic2\", \"Topic2\", \"Topic2\", \"Topic2\", \"Topic2\", \"Topic2\", \"Topic2\", \"Topic2\", \"Topic2\", \"Topic2\", \"Topic2\", \"Topic2\", \"Topic2\", \"Topic2\", \"Topic2\", \"Topic2\", \"Topic2\", \"Topic2\", \"Topic2\", \"Topic2\", \"Topic2\", \"Topic2\", \"Topic2\", \"Topic2\", \"Topic2\", \"Topic2\", \"Topic2\", \"Topic2\", \"Topic2\", \"Topic2\", \"Topic2\", \"Topic2\", \"Topic2\", \"Topic2\", \"Topic2\", \"Topic2\", \"Topic2\", \"Topic2\", \"Topic2\", \"Topic2\", \"Topic2\", \"Topic3\", \"Topic3\", \"Topic3\", \"Topic3\", \"Topic3\", \"Topic3\", \"Topic3\", \"Topic3\", \"Topic3\", \"Topic3\", \"Topic3\", \"Topic3\", \"Topic3\", \"Topic3\", \"Topic3\", \"Topic3\", \"Topic3\", \"Topic3\", \"Topic3\", \"Topic3\", \"Topic3\", \"Topic3\", \"Topic3\", \"Topic3\", \"Topic3\", \"Topic3\", \"Topic3\", \"Topic3\", \"Topic3\", \"Topic3\", \"Topic3\", \"Topic3\", \"Topic3\", \"Topic3\", \"Topic3\", \"Topic3\", \"Topic3\", \"Topic3\", \"Topic3\", \"Topic3\", \"Topic3\", \"Topic3\", \"Topic3\", \"Topic3\", \"Topic3\", \"Topic3\", \"Topic3\", \"Topic3\", \"Topic3\", \"Topic3\", \"Topic3\", \"Topic3\", \"Topic3\", \"Topic3\", \"Topic3\", \"Topic3\", \"Topic3\", \"Topic3\", \"Topic4\", \"Topic4\", \"Topic4\", \"Topic4\", \"Topic4\", \"Topic4\", \"Topic4\", \"Topic4\", \"Topic4\", \"Topic4\", \"Topic4\", \"Topic4\", \"Topic4\", \"Topic4\", \"Topic4\", \"Topic4\", \"Topic4\", \"Topic4\", \"Topic4\", \"Topic4\", \"Topic4\", \"Topic4\", \"Topic4\", \"Topic4\", \"Topic4\", \"Topic4\", \"Topic4\", \"Topic4\", \"Topic4\", \"Topic4\", \"Topic4\", \"Topic4\", \"Topic4\", \"Topic4\", \"Topic4\", \"Topic4\", \"Topic4\", \"Topic4\", \"Topic4\", \"Topic4\", \"Topic4\", \"Topic4\", \"Topic4\", \"Topic4\", \"Topic4\", \"Topic4\", \"Topic4\", \"Topic4\", \"Topic4\", \"Topic4\", \"Topic4\", \"Topic4\", \"Topic4\", \"Topic4\", \"Topic5\", \"Topic5\", \"Topic5\", \"Topic5\", \"Topic5\", \"Topic5\", \"Topic5\", \"Topic5\", \"Topic5\", \"Topic5\", \"Topic5\", \"Topic5\", \"Topic5\", \"Topic5\", \"Topic5\", \"Topic5\", \"Topic5\", \"Topic5\", \"Topic5\", \"Topic5\", \"Topic5\", \"Topic5\", \"Topic5\", \"Topic5\", \"Topic5\", \"Topic5\", \"Topic5\", \"Topic5\", \"Topic5\", \"Topic5\", \"Topic5\", \"Topic5\", \"Topic5\", \"Topic5\", \"Topic5\", \"Topic5\", \"Topic5\", \"Topic5\", \"Topic5\", \"Topic5\", \"Topic5\", \"Topic5\", \"Topic5\", \"Topic5\", \"Topic5\", \"Topic5\", \"Topic5\", \"Topic5\", \"Topic5\", \"Topic5\", \"Topic5\", \"Topic5\", \"Topic5\", \"Topic5\", \"Topic5\", \"Topic5\", \"Topic6\", \"Topic6\", \"Topic6\", \"Topic6\", \"Topic6\", \"Topic6\", \"Topic6\", \"Topic6\", \"Topic6\", \"Topic6\", \"Topic6\", \"Topic6\", \"Topic6\", \"Topic6\", \"Topic6\", \"Topic6\", \"Topic6\", \"Topic6\", \"Topic6\", \"Topic6\", \"Topic6\", \"Topic6\", \"Topic6\", \"Topic6\", \"Topic6\", \"Topic6\", \"Topic6\", \"Topic6\", \"Topic6\", \"Topic6\", \"Topic6\", \"Topic6\", \"Topic6\", \"Topic6\", \"Topic6\", \"Topic6\", \"Topic6\", \"Topic6\", \"Topic6\", \"Topic6\", \"Topic6\", \"Topic6\", \"Topic6\", \"Topic6\", \"Topic6\", \"Topic6\", \"Topic6\", \"Topic6\", \"Topic6\", \"Topic6\", \"Topic6\", \"Topic6\", \"Topic6\", \"Topic6\", \"Topic6\", \"Topic7\", \"Topic7\", \"Topic7\", \"Topic7\", \"Topic7\", \"Topic7\", \"Topic7\", \"Topic7\", \"Topic7\", \"Topic7\", \"Topic7\", \"Topic7\", \"Topic7\", \"Topic7\", \"Topic7\", \"Topic7\", \"Topic7\", \"Topic7\", \"Topic7\", \"Topic7\", \"Topic7\", \"Topic7\", \"Topic7\", \"Topic7\", \"Topic7\", \"Topic7\", \"Topic7\", \"Topic7\", \"Topic7\", \"Topic7\", \"Topic7\", \"Topic7\", \"Topic7\", \"Topic7\", \"Topic7\", \"Topic7\", \"Topic7\", \"Topic7\", \"Topic7\", \"Topic7\", \"Topic7\", \"Topic7\", \"Topic7\", \"Topic7\", \"Topic7\", \"Topic7\", \"Topic7\", \"Topic8\", \"Topic8\", \"Topic8\", \"Topic8\", \"Topic8\", \"Topic8\", \"Topic8\", \"Topic8\", \"Topic8\", \"Topic8\", \"Topic8\", \"Topic8\", \"Topic8\", \"Topic8\", \"Topic8\", \"Topic8\", \"Topic8\", \"Topic8\", \"Topic8\", \"Topic8\", \"Topic8\", \"Topic8\", \"Topic8\", \"Topic8\", \"Topic8\", \"Topic8\", \"Topic8\", \"Topic8\", \"Topic8\", \"Topic8\", \"Topic8\", \"Topic8\", \"Topic8\", \"Topic8\", \"Topic8\", \"Topic8\", \"Topic8\", \"Topic8\", \"Topic8\", \"Topic8\", \"Topic8\", \"Topic8\", \"Topic8\", \"Topic8\", \"Topic8\", \"Topic8\"], \"logprob\": [30.0, 29.0, 28.0, 27.0, 26.0, 25.0, 24.0, 23.0, 22.0, 21.0, 20.0, 19.0, 18.0, 17.0, 16.0, 15.0, 14.0, 13.0, 12.0, 11.0, 10.0, 9.0, 8.0, 7.0, 6.0, 5.0, 4.0, 3.0, 2.0, 1.0, -4.3362, -4.5208, -4.6557, -4.6879, -4.9193, -5.1456, -5.2263, -5.2341, -5.2841, -5.4131, -5.4786, -5.4936, -5.535, -5.5965, -5.6042, -5.7143, -5.7292, -5.7722, -5.8056, -5.8106, -5.8194, -5.8471, -5.8605, -5.8694, -5.8762, -5.9937, -6.0145, -6.0813, -6.1192, -6.1352, -4.7284, -4.4353, -4.0343, -4.7311, -4.1205, -4.7919, -4.6602, -3.9188, -4.4027, -5.0517, -5.2237, -4.8539, -4.6605, -3.0767, -4.2309, -4.2344, -4.9011, -4.1978, -4.834, -5.2416, -5.2833, -2.56, -3.3909, -3.9962, -4.1403, -4.2471, -4.313, -4.3278, -4.7921, -4.8427, -4.8561, -4.8575, -4.9622, -5.0138, -5.4532, -5.5341, -5.8096, -5.8311, -5.8933, -5.9191, -5.9326, -5.9843, -6.0329, -6.0404, -6.0419, -6.0459, -6.2459, -6.2972, -6.3964, -6.5685, -6.6521, -3.1706, -4.14, -4.2622, -3.7044, -5.0919, -4.4865, -2.5864, -4.3416, -5.5462, -2.8674, -5.3852, -5.2444, -5.3211, -5.1714, -4.6533, -5.1348, -4.854, -4.9281, -4.9397, -5.2446, -4.11, -4.7522, -4.918, -4.9386, -5.4401, -5.4576, -5.6308, -5.6615, -5.7352, -5.799, -5.8071, -5.8088, -5.8727, -5.9176, -5.9474, -5.9515, -5.9534, -6.0067, -6.1411, -6.1608, -6.2171, -6.2463, -6.2723, -6.33, -6.3471, -6.3884, -6.4344, -6.4516, -6.4611, -6.4912, -5.4948, -5.341, -2.8236, -4.7242, -4.1404, -5.4814, -4.7166, -4.5563, -5.1958, -5.4667, -5.2092, -5.0862, -2.9714, -5.3621, -5.4579, -5.0511, -5.0498, -5.0282, -4.8833, -5.4703, -5.1186, -5.0418, -4.6181, -5.3299, -5.169, -5.2796, -5.3659, -5.4547, -4.5607, -4.9775, -5.0651, -5.1678, -5.3536, -5.3932, -5.4779, -5.4937, -5.54, -5.5483, -5.5834, -5.5915, -5.6264, -5.6662, -5.7549, -5.7805, -5.7917, -5.8382, -5.8962, -5.9003, -5.9079, -5.9574, -5.9919, -5.9999, -6.0297, -6.0336, -6.0568, -6.0917, -6.1168, -6.122, -4.1979, -4.543, -2.4709, -4.6873, -4.8531, -4.9404, -5.0403, -4.2241, -5.5437, -5.4459, -5.2851, -5.041, -4.8536, -3.5943, -5.1409, -4.4414, -4.9821, -4.9119, -5.3881, -5.0699, -5.3869, -5.2573, -5.2988, -5.3683, -4.3659, -4.516, -4.9414, -5.0135, -5.0767, -5.2743, -5.4494, -5.4614, -5.5365, -5.6222, -5.7369, -5.7416, -5.7931, -5.7984, -5.8382, -5.8506, -5.9243, -5.9757, -6.1134, -6.1687, -6.1858, -6.2254, -6.2344, -6.2418, -6.3159, -6.3585, -6.36, -6.3632, -6.3862, -6.3956, -5.0171, -4.3506, -4.9497, -5.1603, -5.5378, -3.554, -3.8789, -5.1432, -4.7303, -4.9055, -5.306, -5.7787, -4.4208, -5.1214, -5.2511, -3.7195, -4.7141, -4.5904, -4.3835, -5.4348, -4.5113, -5.1631, -5.3247, -5.2738, -5.3238, -5.4422, -2.6261, -2.7448, -4.7851, -5.0242, -5.0832, -5.2659, -5.4866, -5.5804, -5.6234, -5.6268, -5.6421, -5.7228, -5.7278, -5.7899, -5.7961, -5.9035, -5.955, -5.9619, -5.9794, -5.9896, -6.1196, -6.1369, -6.1385, -6.1712, -6.1754, -6.1906, -6.1916, -6.243, -6.3436, -6.3573, -4.8376, -5.2338, -4.5922, -5.3304, -4.7317, -2.6891, -5.3616, -3.3994, -5.7532, -5.2907, -5.4412, -5.7059, -3.8014, -5.7305, -5.4025, -5.2671, -5.208, -5.3652, -5.2249, -5.3817, -5.4454, -5.3852, -5.4928, -5.5798, -5.586, -3.7993, -3.9146, -4.7165, -4.7421, -5.1727, -5.2205, -5.2701, -5.2781, -5.3938, -5.4004, -5.4204, -5.4491, -5.5298, -5.5412, -5.5504, -5.6157, -5.723, -5.7457, -5.7715, -5.8057, -5.8077, -5.8411, -5.8499, -5.8565, -5.8597, -5.9022, -5.9314, -5.9571, -6.0109, -6.0434, -4.1768, -3.917, -5.0436, -5.2253, -4.7859, -4.645, -2.8614, -5.4614, -4.9738, -3.7393, -5.4951, -4.9966, -5.0042, -5.6133, -5.3102, -5.5723, -5.568, -4.3265, -4.8351, -5.0459, -5.1011, -5.2674, -5.3472, -5.4578, -5.5114, -5.5301, -5.5614, -5.5672, -5.5803, -5.592, -5.6088, -5.6443, -5.6474, -5.6856, -5.7003, -5.705, -5.7511, -5.7601, -5.7777, -5.8209, -5.8295, -5.8342, -5.8697, -5.8832, -5.9108, -5.9228, -5.9416, -4.6074, -4.7895, -4.2843, -4.8983, -5.2115, -4.8476, -5.2703, -4.9636, -5.5174, -3.5189, -4.0413, -5.0404, -5.1102, -5.2247, -5.6014, -5.5692], \"loglift\": [30.0, 29.0, 28.0, 27.0, 26.0, 25.0, 24.0, 23.0, 22.0, 21.0, 20.0, 19.0, 18.0, 17.0, 16.0, 15.0, 14.0, 13.0, 12.0, 11.0, 10.0, 9.0, 8.0, 7.0, 6.0, 5.0, 4.0, 3.0, 2.0, 1.0, 1.68, 1.68, 1.68, 1.6799, 1.6799, 1.6799, 1.6799, 1.6799, 1.6799, 1.6799, 1.6799, 1.6799, 1.6798, 1.6798, 1.6798, 1.6798, 1.6798, 1.6798, 1.6798, 1.6798, 1.6798, 1.6798, 1.6798, 1.6798, 1.6798, 1.6797, 1.6797, 1.6797, 1.6797, 1.6797, 1.6136, 1.5705, 1.527, 1.4714, 1.3502, 1.4425, 1.3307, 1.0969, 1.1899, 1.3915, 1.4501, 1.2971, 1.1177, 0.2098, 0.791, 0.7604, 1.1863, -0.1169, 0.5003, 1.1806, 0.9652, 1.8151, 1.8151, 1.8151, 1.8151, 1.8151, 1.8151, 1.8151, 1.815, 1.815, 1.815, 1.815, 1.815, 1.815, 1.8149, 1.8149, 1.8148, 1.8148, 1.8148, 1.8148, 1.8148, 1.8148, 1.8148, 1.8148, 1.8148, 1.8148, 1.8147, 1.8147, 1.8146, 1.8145, 1.8145, 1.6248, 1.6577, 1.5865, 1.452, 1.5655, 1.312, 0.6383, 1.2055, 1.6327, 0.4191, 1.5407, 1.4303, 1.4454, 1.3196, 0.6811, 1.1434, 0.6587, 0.7374, 0.7139, 0.9955, 1.8758, 1.8758, 1.8758, 1.8758, 1.8757, 1.8757, 1.8757, 1.8756, 1.8756, 1.8756, 1.8756, 1.8756, 1.8756, 1.8756, 1.8756, 1.8756, 1.8756, 1.8756, 1.8755, 1.8755, 1.8755, 1.8755, 1.8754, 1.8754, 1.8754, 1.8754, 1.8754, 1.8754, 1.8754, 1.8753, 1.7793, 1.7059, 1.2573, 1.5609, 1.3724, 1.6761, 1.4107, 1.2983, 1.4993, 1.5912, 1.4367, 1.371, 0.2532, 1.3746, 1.4305, 0.9017, 0.7648, 0.5822, 0.1325, 1.2422, 0.3382, 0.1147, -1.3316, 0.7959, -0.1743, -0.2576, 0.4325, 0.9803, 2.1068, 2.1067, 2.1067, 2.1067, 2.1067, 2.1067, 2.1066, 2.1066, 2.1066, 2.1066, 2.1066, 2.1066, 2.1066, 2.1066, 2.1066, 2.1065, 2.1065, 2.1065, 2.1065, 2.1065, 2.1065, 2.1065, 2.1065, 2.1065, 2.1064, 2.1064, 2.1064, 2.1064, 2.1064, 2.1064, 1.8803, 1.5861, 0.8156, 1.5308, 1.5819, 1.616, 1.647, 1.2327, 1.861, 1.7494, 1.6196, 1.3325, 1.1325, -0.3697, 1.3271, 0.354, 0.8725, 0.7416, 1.5612, 0.0866, 1.0892, -0.2415, -0.2769, 0.2421, 2.1901, 2.1901, 2.19, 2.19, 2.19, 2.19, 2.1899, 2.1899, 2.1899, 2.1899, 2.1898, 2.1898, 2.1898, 2.1898, 2.1898, 2.1898, 2.1898, 2.1897, 2.1897, 2.1896, 2.1896, 2.1896, 2.1896, 2.1896, 2.1896, 2.1895, 2.1895, 2.1895, 2.1895, 2.1895, 2.1049, 1.7752, 1.8531, 1.8976, 1.9833, 1.4407, 1.143, 1.7044, 1.5182, 1.5648, 1.6759, 1.9403, 0.9136, 1.4401, 1.4706, -0.4949, 0.7428, 0.4254, -0.3026, 1.4446, -1.2248, 0.4905, 0.6281, 0.1968, 0.2375, 1.0645, 2.2288, 2.2288, 2.2287, 2.2286, 2.2286, 2.2286, 2.2285, 2.2285, 2.2285, 2.2285, 2.2285, 2.2285, 2.2285, 2.2284, 2.2284, 2.2284, 2.2284, 2.2284, 2.2284, 2.2284, 2.2283, 2.2283, 2.2283, 2.2283, 2.2283, 2.2282, 2.2282, 2.2282, 2.2282, 2.2281, 2.0259, 1.8882, 1.6478, 1.8952, 1.6013, 0.5356, 1.8425, 0.6815, 2.0014, 1.6856, 1.77, 1.949, -0.5149, 1.8332, 1.1344, 0.8249, 0.6407, 0.9199, 0.3855, 0.433, 0.6328, 0.2684, -0.1584, 1.0516, 1.1625, 2.4143, 2.4143, 2.4142, 2.4142, 2.4142, 2.4141, 2.4141, 2.4141, 2.4141, 2.4141, 2.4141, 2.4141, 2.414, 2.414, 2.414, 2.414, 2.414, 2.414, 2.4139, 2.4139, 2.4139, 2.4139, 2.4139, 2.4139, 2.4139, 2.4139, 2.4139, 2.4139, 2.4138, 2.4138, 2.0594, 1.6301, 2.0146, 2.031, 1.7563, 1.6564, 0.3633, 2.0256, 1.4941, -0.4528, 1.9424, 0.6689, 0.5884, 1.9958, 0.4875, 1.5195, 1.0392, 2.7029, 2.7028, 2.7027, 2.7027, 2.7026, 2.7026, 2.7026, 2.7025, 2.7025, 2.7025, 2.7025, 2.7025, 2.7025, 2.7025, 2.7025, 2.7025, 2.7025, 2.7024, 2.7024, 2.7024, 2.7024, 2.7024, 2.7024, 2.7024, 2.7024, 2.7023, 2.7023, 2.7023, 2.7023, 2.7023, 2.2586, 2.1505, 1.8351, 2.0339, 2.2004, 1.9009, 2.1979, 1.8675, 2.3769, -0.2324, -0.8167, 1.2576, 1.3867, 1.126, 2.1731, 0.4366]}, \"token.table\": {\"Topic\": [6, 3, 2, 3, 2, 2, 6, 4, 3, 4, 5, 1, 2, 5, 7, 8, 4, 7, 2, 3, 4, 1, 1, 2, 7, 4, 5, 5, 1, 3, 4, 6, 3, 6, 6, 1, 2, 4, 6, 7, 5, 6, 2, 3, 7, 2, 4, 6, 3, 5, 6, 1, 6, 7, 8, 6, 8, 1, 5, 4, 1, 5, 8, 8, 8, 5, 8, 7, 5, 3, 6, 4, 7, 7, 2, 3, 7, 4, 4, 6, 8, 4, 6, 8, 2, 1, 8, 6, 2, 6, 1, 3, 4, 5, 6, 6, 8, 7, 4, 2, 3, 2, 3, 4, 3, 3, 6, 2, 1, 2, 3, 4, 5, 6, 7, 8, 1, 8, 2, 3, 4, 5, 6, 7, 8, 1, 5, 6, 3, 4, 1, 1, 3, 4, 8, 3, 5, 1, 8, 7, 2, 5, 1, 3, 4, 5, 1, 2, 2, 1, 4, 5, 8, 5, 8, 7, 4, 3, 5, 6, 1, 8, 2, 1, 2, 4, 5, 7, 8, 1, 6, 7, 1, 6, 5, 7, 7, 7, 2, 6, 3, 4, 3, 6, 5, 2, 3, 6, 3, 4, 7, 1, 7, 7, 6, 8, 4, 2, 5, 8, 5, 3, 1, 2, 4, 6, 1, 5, 6, 8, 1, 3, 4, 5, 6, 2, 3, 4, 7, 1, 3, 5, 1, 2, 5, 6, 1, 1, 2, 5, 1, 4, 6, 8, 4, 8, 3, 6, 5, 2, 7, 3, 5, 7, 8, 5, 8, 6, 3, 3, 6, 1, 4, 7, 7, 1, 1, 2, 3, 4, 5, 6, 5, 4, 5, 4, 5, 3, 1, 3, 5, 5, 5, 7, 2, 7, 1, 2, 3, 8, 2, 4, 2, 3, 6, 7, 2, 3, 6, 1, 6, 5, 7, 2, 6, 6, 6, 5, 7, 7, 8, 7, 4, 2, 8, 6, 5, 8, 3, 1, 2, 4, 6, 1, 5, 8, 7, 5, 7, 6, 7, 1, 4, 3, 8, 3, 2, 7, 2, 8, 1, 2, 2, 3, 4, 5, 6, 7, 3, 3, 7, 6, 1, 3, 5, 8, 5, 1, 4, 8, 2, 6, 1, 1, 2, 6, 1, 8, 2, 5, 1, 4, 1, 5, 1, 7, 2, 7, 1, 2, 4, 5, 6, 4, 7, 1, 1, 8, 3, 2, 3, 4, 8, 7, 1, 2, 4, 5, 6, 8, 3, 5, 2, 4, 2, 7, 2, 3, 3, 7, 1, 2, 4, 5, 6, 2, 3, 4, 5, 8, 1, 3, 5, 6, 1, 1, 8, 5, 5, 1, 1, 5, 5, 1, 2, 3, 4, 5, 6, 7, 8, 3, 7, 6, 4, 1, 1, 2, 7, 8, 1, 2, 3, 6, 7, 3, 5, 6, 7, 3, 3, 3, 2, 4, 6, 1, 2, 4, 6, 7, 4, 6, 6, 5, 3, 3, 3, 2, 4, 6, 3, 6, 2, 3, 6, 7, 8, 1, 3, 4, 5, 6, 8, 4, 8, 1, 1, 1, 3, 4, 6, 7, 3, 2, 5, 2, 5, 7, 8, 2, 3, 4, 8, 4, 2, 4, 3, 8, 3, 4, 8, 6, 2, 6, 1, 2, 5, 1, 3, 7, 2, 3, 7, 5, 4, 3, 2, 8, 2, 7, 3, 1, 3, 6, 1, 2, 4, 6, 8, 3, 5, 8, 7, 3, 1, 2, 3, 4, 5, 6, 7, 8, 3, 8, 1, 2, 5, 6, 2, 2, 2, 4, 6, 1, 3, 5, 7, 1, 1, 3, 5, 8, 1, 2, 4, 5, 6, 7, 5, 1, 3, 5, 1, 3, 3, 2, 1, 3, 5, 7, 8, 3, 2, 4, 7, 6, 5, 2, 4, 4, 6, 4, 1, 5, 2, 3, 6, 1, 2, 7, 5, 2, 1, 4, 5, 1, 2, 4, 5, 6, 4, 4, 4], \"Freq\": [0.9992599478140461, 0.9996595741952428, 0.6909371626623061, 0.3089635038077072, 0.9997173052062182, 0.9996816617366194, 0.9997053492833672, 0.9995585657156542, 0.22764259818544083, 0.6142185957137657, 0.15796175410672664, 0.6819019223857762, 0.12411281277258117, 0.11163620896228485, 0.08230639162813277, 0.9996056179642795, 0.999739887262239, 0.9994483542385288, 0.12639960757766572, 0.17410107475455278, 0.6993740401654103, 0.9997812178357341, 0.9997053001268089, 0.3419275992331736, 0.6580281548461075, 0.9992906401497448, 0.999199106511553, 0.9990015162228663, 0.1476922300348645, 0.5612401875313693, 0.2910134305718211, 0.9992736897738954, 0.3203665414882187, 0.6794916300764148, 0.9994079503080888, 0.06254177050003423, 0.5108690767060922, 0.18436097235182095, 0.1519401494472955, 0.09028865326042901, 0.9995793349964288, 0.9994907113064475, 0.17302246797413273, 0.6406064698237227, 0.18626886054989508, 0.680583412962642, 0.31928196086968863, 0.9996898222325594, 0.5306229113832203, 0.27143887329553895, 0.19790986204839295, 0.180537429152275, 0.15880338872463354, 0.5178497365892704, 0.14276849667579586, 0.9994051635987421, 0.9996682757384746, 0.7945583679423047, 0.20527835799147326, 0.9998712998963867, 0.3740178985229454, 0.20612120059039482, 0.41983667323201695, 0.999785954998261, 0.9993273397299688, 0.9994870956992896, 0.999567583622724, 0.9997443743239096, 0.9991475739540285, 0.32648872161527576, 0.6733662212443239, 0.9995987994496245, 0.9995661821409123, 0.9996799926522816, 0.9999938496607852, 0.8189459811872724, 0.1808758910871933, 0.9996464571345723, 0.7972571660962952, 0.20266985322338213, 0.9997227269191995, 0.2728802238501975, 0.631943075412586, 0.09504604894298518, 0.9998645347124079, 0.9997698970672872, 0.9997379816079937, 0.9997050272134944, 0.7600513255480692, 0.23988189569620091, 0.5581632593927738, 0.17492194210304565, 0.09551120083629638, 0.17122744290586145, 0.0001469403089789175, 0.9996049786066877, 0.9995834470537464, 0.9995629642953434, 0.9998568929804902, 0.9999450827826336, 0.9997784227558035, 0.695529307235842, 0.1718224389006105, 0.13260603919090852, 0.9997537623554357, 0.999392660897926, 0.9999829741916666, 0.9992967047765245, 0.22986976161166464, 0.24757468273834116, 0.04045615443817561, 0.27492159814288164, 0.03287737562185531, 0.0643283766556759, 0.05686132430839227, 0.05311103916439495, 0.9998272285391595, 0.9997363037881651, 0.30825472883552796, 0.19736956687286372, 0.08403382672702508, 0.06821709496762252, 0.18392289429918834, 0.12859233974908704, 0.02960998610469831, 0.7885208859197865, 0.11154027658742884, 0.09982535256647036, 0.40837631678387665, 0.5915642480908813, 0.9999225106381856, 0.3061435317398126, 0.1264718747859034, 0.46101038228409946, 0.10639956433601164, 0.2860593134031751, 0.7137693823477997, 0.9996674728268291, 0.9991026321885658, 0.9996477787986875, 0.779146354843241, 0.22080149204447438, 0.2689173063390563, 0.3775236781161568, 0.14380833835704865, 0.20971156346106123, 0.9998719168789906, 0.9998265797674722, 0.9996852023325257, 0.606839694779792, 0.09484279854881121, 0.20347935551348387, 0.09475712303070027, 0.9997109255900324, 0.9994758717548685, 0.9997240998607969, 0.9995370223113939, 0.2209186902334795, 0.7790125729367801, 0.9996474623573025, 0.3586761563558676, 0.641237119441875, 0.9999320065220676, 0.32289519545371886, 0.2563032638860431, 0.07098094523918169, 0.04071188543569269, 0.07340247002346081, 0.23564463057016183, 0.9357249869286172, 0.06420556780345084, 0.9993006715866516, 0.9997543084119144, 0.9992052155492472, 0.9998245973873919, 0.9995796277940503, 0.9995785739916324, 0.9997587222032328, 0.9996130816951492, 0.9997542354940137, 0.36855993706901935, 0.6313543406821717, 0.28856925370369463, 0.7113326971153835, 0.9997692911795618, 0.9994947816423182, 0.9079834422513552, 0.09178244483717525, 0.131190238659252, 0.1905736989614513, 0.6778162330728019, 0.3182293078839597, 0.6816381021321022, 0.9997548661681579, 0.9996278759981359, 0.9995313735051031, 0.9996373056210598, 0.9996763963474911, 0.9995418425549601, 0.9995507118767614, 0.9995676859769178, 0.9993414040816344, 0.07711996109909894, 0.2849386968507469, 0.56205362953202, 0.07586257042900493, 0.44143616666290314, 0.324434606121838, 0.18776186687625912, 0.046334482540963645, 0.4110602775377243, 0.11842641949203679, 0.09219392207646523, 0.3509494179204001, 0.027351919608023478, 0.20054751607619142, 0.1519764159430157, 0.594101245839476, 0.053364300804212825, 0.40345031909955503, 0.12194187772851363, 0.4745041324263804, 0.3073854493174667, 0.3217327979567211, 0.27900829899073215, 0.09188654068158307, 0.9999585380427134, 0.32551213446665234, 0.059124435217261455, 0.615234976662102, 0.9997477006411676, 0.20730193379601955, 0.3443159266944196, 0.4484418121120079, 0.9998605505526379, 0.9992982610542552, 0.9999008550824172, 0.9995711676692274, 0.9996954950374987, 0.8543436048118354, 0.1455871244934454, 0.20376002867047516, 0.5979359781735504, 0.19821247822102145, 0.9998034746334726, 0.9993390373641386, 0.9992240359926932, 0.9995893019892869, 0.9995880950840059, 0.8437490394954806, 0.1561727787877089, 0.9998275870544449, 0.999808542697614, 0.9991084210948733, 0.9998046449420424, 0.9999316063921883, 0.2179286308517848, 0.03999247037258663, 0.32922622926324235, 0.15530331551921622, 0.09155802435357639, 0.1659897515931046, 0.9999127596950175, 0.2535151751051117, 0.7463085531332994, 0.999848778984311, 0.9998080908760397, 0.9996622191510636, 0.7190621016310079, 0.1446725820304761, 0.13623638070009159, 0.9995944970261813, 0.999808004062497, 0.9997423962732253, 0.9999642645753153, 0.9999139465520022, 0.29274118194728005, 0.06268433068783266, 0.6445235027133563, 0.9996126059591867, 0.9993464786225497, 0.9996462094487091, 0.604633948132571, 0.2361327659841911, 0.08452662301709038, 0.07470114918457689, 0.19951189970659758, 0.21949291208379046, 0.5809404792652497, 0.20327250429639476, 0.7965294776981731, 0.9998394069925477, 0.9996706128898786, 0.2835201771028098, 0.7162615000492036, 0.9999117855732708, 0.9991780449229731, 0.9994672046117454, 0.9994806383452361, 0.9997435839389638, 0.9997944428357817, 0.9996975825681554, 0.9997103228098612, 0.9996723758465843, 0.9994837147307815, 0.9998287307233136, 0.999313428832681, 0.9993081435074957, 0.9997745393381562, 0.34891047840483813, 0.2561098975795485, 0.14933072893253307, 0.24564135163376266, 0.3979688223699236, 0.16829206519531764, 0.43369058639988756, 0.9997246472974624, 0.8131250336499951, 0.18663571749285376, 0.9998723820593113, 0.9995565586776073, 0.3877981278444366, 0.6120704660546225, 0.9996760397794895, 0.9995009209729713, 0.9995436416101746, 0.9995155206615154, 0.9993890546787615, 0.3948511368568692, 0.6050696055162181, 0.999851190342081, 0.9997658235776361, 0.1653709082235195, 0.11059960218783901, 0.27078164983955716, 0.056116566183925264, 0.3346815068811844, 0.06236241687220462, 0.9999387154283372, 0.2987557136073974, 0.7011512069114563, 0.99968778111381, 0.3504907498018657, 0.1542198691176515, 0.4723106591879033, 0.022945868138194634, 0.9994041148077688, 0.26398871902297455, 0.16046373117082768, 0.5754263908115165, 0.7956260430928842, 0.20432607648334766, 0.9998451746755954, 0.9996720353989507, 0.44058739987298773, 0.5593389146199534, 0.9997796877360593, 0.999538475783054, 0.08158527668393235, 0.9183086956982154, 0.9997684549003163, 0.9997997010016203, 0.4892537716046491, 0.5106415211140075, 0.32948489349916765, 0.6704596825967837, 0.9999746775364924, 0.9997413176490136, 0.09078891705708379, 0.2687662144972365, 0.37739163630867106, 0.18390433473430032, 0.07910102108451231, 0.9998787760787221, 0.9998847417136503, 0.9999416550847827, 0.9997127196992189, 0.9993683266985485, 0.9998212120703787, 0.21693947857218585, 0.0009153564496716703, 0.7819432471320243, 0.9998482265127762, 0.9995971875800024, 0.12076060449386353, 0.2593082729257268, 0.09084962253534383, 0.1753979982047595, 0.1470025059988048, 0.20658518206017604, 0.3396424248632259, 0.6603662825500868, 0.8267113294503633, 0.17327424870064756, 0.9999223129622146, 0.999666194062373, 0.9997617160912177, 0.9997499686770134, 0.9996614594918933, 0.999920070788875, 0.08866116484411521, 0.33247936816543205, 0.2553377991119949, 0.18272462288661737, 0.14081712785501274, 0.09322099180561068, 0.21489445293375986, 0.417226749113876, 0.23518967761107518, 0.03948106408288027, 0.16580745621798137, 0.5386970351585495, 0.08267295920680838, 0.21281837829111816, 0.9999285760229105, 0.8962612252259647, 0.10366462958018566, 0.9993781718244558, 0.9992410129326782, 0.9999003424976848, 0.8580938407797908, 0.14187470239054664, 0.9997314153504074, 0.14137330905344628, 0.3403491065554534, 0.08489634026752303, 0.017525949032500023, 0.11480300558903683, 0.10238209216921457, 0.17453594197044747, 0.024118278485091772, 0.7523001399538479, 0.24769279876760025, 0.9998100511858502, 0.9994694077843826, 0.9997440882712448, 0.9999074308984258, 0.5435705215717948, 0.4564035498757791, 0.9993742827579758, 0.9997611437069444, 0.14793499965987675, 0.28934345521711186, 0.15395950190846902, 0.40866206919617537, 0.2080984676440041, 0.24066842117165013, 0.08267757433940914, 0.4685821752275787, 0.9996585041142165, 0.9998052616907172, 0.9994725762746017, 0.4666818926961607, 0.22515632388056453, 0.3081642369059509, 0.1249080209820687, 0.14128554694521323, 0.12161684351579086, 0.5339543632194581, 0.07828300687646589, 0.9996758977494333, 0.999108972053948, 0.9997591716875871, 0.9996709501901149, 0.9997800948862399, 0.9996789548366674, 0.9998170800069606, 0.9997864161686137, 0.9997952396042337, 0.9996823397009406, 0.7298302197010249, 0.2701193525526004, 0.11090207894597295, 0.6035734744555632, 0.11303139886173565, 0.09271413799883339, 0.07984949684110053, 0.5698801335255965, 0.10564334071672989, 0.04746751467468059, 0.15527051482684617, 0.044992904904910515, 0.07680288867268224, 0.2778139184658517, 0.721793419885069, 0.9997314738693764, 0.9997662682139938, 0.9998820822938447, 0.9999333002746809, 0.9996580690267404, 0.8164173782991947, 0.1835573743345228, 0.999805139462278, 0.8333437699589489, 0.1665226814641896, 0.5850398483445768, 0.16216170598167742, 0.2527784507737273, 0.9993363607716019, 0.9999379836084037, 0.09208516734662535, 0.31898566962158353, 0.5886163394782491, 0.9997427943615093, 0.9999268545075177, 0.9996719219914305, 0.999420147178455, 0.9997038466855065, 0.4204534024334089, 0.57937520970458, 0.9995676796167156, 0.9995742393736176, 0.24391820057309208, 0.7558525444264973, 0.8117168390234737, 0.11637221586406689, 0.07187291109807914, 0.7493824787153849, 0.16772518525363606, 0.08285641650244828, 0.31461166654043105, 0.6043801218602973, 0.08098196768703572, 0.9997111267729631, 0.9998037165502811, 0.9999213757300193, 0.39624798013136125, 0.6035161543539195, 0.9996356436855214, 0.9996046393975497, 0.9996968325109933, 0.31563728594999624, 0.6058123819181526, 0.078498641003921, 0.15381013344841804, 0.3268234528255702, 0.132298872287865, 0.11881971293404203, 0.2681060189280948, 0.9998454654011971, 0.999749931729876, 0.9994081031799065, 0.9998597607178462, 0.9997703192140828, 0.06870643850673004, 0.17153783567377948, 0.27425510254430613, 0.15491285581362388, 0.09822814187396288, 0.15829872127713382, 0.01826084744364918, 0.05577167156747853, 0.48776517248530377, 0.5121605642650601, 0.610363694759295, 0.1292816141656476, 0.1959146699257514, 0.06442625722527057, 0.9996521724614263, 0.9999363727481106, 0.9999458791346224, 0.9997177059672139, 0.9994255488491314, 0.7051631017120721, 0.052762006347517314, 0.1834425874698492, 0.058605899455628406, 0.9998884326857903, 0.1879657687795038, 0.15560437386768106, 0.5350417292088028, 0.12135523091933531, 0.6125403304380475, 0.040250514696874753, 0.04084847963201867, 0.08737762614790452, 0.057927853092066724, 0.1610394315959455, 0.9997276077152136, 0.3986509830125024, 0.12871113460295386, 0.47262597078574275, 0.31369214850788274, 0.6861382623982968, 0.9995267272609457, 0.9999490506512159, 0.09556547374631044, 0.6280654799949441, 0.16886636115252587, 0.10749520912051609, 0.9992196239317253, 0.9995495326636898, 0.14304471549946354, 0.4584605552559609, 0.39837280642546524, 0.999786410252602, 0.9996733247912483, 0.9999766593598981, 0.9999265021804447, 0.9997600803927418, 0.9999808137346945, 0.9998202557560016, 0.9996462383443028, 0.9994553926616152, 0.6093094990775441, 0.2313705749622667, 0.15932539394466283, 0.9998892752821946, 0.37599912840865946, 0.6238274847434236, 0.9999210775234557, 0.9997854413702727, 0.4509050771736185, 0.36139314085882357, 0.18761340187191866, 0.29740955352155873, 0.10033093371811619, 0.11512627878253885, 0.4869749121594741, 0.9996438759917828, 0.9993160212407934, 0.999866358867146, 0.9998154541085695], \"Term\": [\"acces\", \"accion\", \"activ\", \"activ\", \"actualiz\", \"acumul\", \"adult\", \"adviert\", \"afect\", \"afect\", \"afect\", \"ahor\", \"ahor\", \"ahor\", \"ahor\", \"air\", \"alarm\", \"albert\", \"alert\", \"alert\", \"alert\", \"algo\", \"algui\", \"alta\", \"alta\", \"amenaz\", \"amor\", \"anim\", \"ante\", \"ante\", \"ante\", \"anticuerp\", \"aplic\", \"aplic\", \"aprueb\", \"argentin\", \"argentin\", \"argentin\", \"argentin\", \"argentin\", \"articul\", \"astrazenec\", \"atencion\", \"atencion\", \"atencion\", \"aument\", \"aument\", \"autoriz\", \"ayud\", \"ayud\", \"ayud\", \"a\\u00f1os\", \"a\\u00f1os\", \"a\\u00f1os\", \"a\\u00f1os\", \"banc\", \"barri\", \"bien\", \"bien\", \"brot\", \"buen\", \"buen\", \"buen\", \"cab\", \"caden\", \"cag\", \"caid\", \"cam\", \"camin\", \"campa\\u00f1\", \"campa\\u00f1\", \"cancel\", \"carcel\", \"carl\", \"cas\", \"centr\", \"centr\", \"cep\", \"chin\", \"chin\", \"cient\", \"cientif\", \"cientif\", \"cientif\", \"cifr\", \"clar\", \"clas\", \"clinic\", \"colombi\", \"colombi\", \"com\", \"com\", \"com\", \"com\", \"com\", \"comenz\", \"compa\\u00f1er\", \"complic\", \"confin\", \"confirm\", \"consej\", \"contagi\", \"contagi\", \"contagi\", \"conten\", \"contingent\", \"contr\", \"cordob\", \"coronavirus\", \"coronavirus\", \"coronavirus\", \"coronavirus\", \"coronavirus\", \"coronavirus\", \"coronavirus\", \"coronavirus\", \"cos\", \"cost\", \"cov\", \"cov\", \"cov\", \"cov\", \"cov\", \"cov\", \"cov\", \"cre\", \"cre\", \"cre\", \"crisis\", \"crisis\", \"cuand\", \"cuarenten\", \"cuarenten\", \"cuarenten\", \"cuarenten\", \"cuid\", \"cuid\", \"culp\", \"curs\", \"dad\", \"dat\", \"dat\", \"deb\", \"deb\", \"deb\", \"deb\", \"dec\", \"deces\", \"defuncion\", \"dej\", \"dej\", \"dej\", \"dej\", \"demas\", \"dentr\", \"denunci\", \"deport\", \"derech\", \"derech\", \"desarroll\", \"despues\", \"despues\", \"diari\", \"dias\", \"dias\", \"dias\", \"dias\", \"dias\", \"dias\", \"dic\", \"dic\", \"dieron\", \"dig\", \"digital\", \"dios\", \"diput\", \"director\", \"doctor\", \"doming\", \"dosis\", \"econom\", \"econom\", \"efect\", \"efect\", \"ejempl\", \"elev\", \"emergent\", \"emergent\", \"encuentr\", \"encuentr\", \"encuentr\", \"enferm\", \"enferm\", \"enfermer\", \"ensay\", \"entrev\", \"epidemi\", \"epidemiolog\", \"eres\", \"esencial\", \"esos\", \"espaci\", \"espa\\u00f1\", \"espa\\u00f1\", \"espa\\u00f1\", \"espa\\u00f1\", \"esper\", \"esper\", \"esper\", \"esper\", \"esta\", \"esta\", \"esta\", \"esta\", \"esta\", \"estad\", \"estad\", \"estad\", \"estad\", \"estam\", \"estam\", \"estam\", \"este\", \"este\", \"este\", \"este\", \"esto\", \"estos\", \"estos\", \"estos\", \"estoy\", \"estudi\", \"estudi\", \"estudi\", \"europ\", \"evident\", \"evit\", \"excelent\", \"exist\", \"fallec\", \"fallec\", \"famili\", \"famili\", \"famili\", \"febrer\", \"feliz\", \"fern\", \"fond\", \"fren\", \"frent\", \"frent\", \"fuer\", \"futbol\", \"gatell\", \"general\", \"gent\", \"gobiern\", \"gobiern\", \"gobiern\", \"gobiern\", \"gobiern\", \"gobiern\", \"graci\", \"gran\", \"gran\", \"grav\", \"grip\", \"guardi\", \"hac\", \"hac\", \"hac\", \"histori\", \"hlgatell\", \"hombr\", \"hor\", \"hospital\", \"import\", \"import\", \"import\", \"increibl\", \"increment\", \"infeccion\", \"inform\", \"inform\", \"inform\", \"inform\", \"inici\", \"inici\", \"inici\", \"inmun\", \"inmun\", \"interes\", \"intern\", \"internacional\", \"internacional\", \"investig\", \"israel\", \"jajajaj\", \"jef\", \"jos\", \"joven\", \"juan\", \"jugador\", \"juni\", \"laboral\", \"laboratori\", \"lad\", \"larg\", \"latin\", \"lleg\", \"lleg\", \"lleg\", \"lleg\", \"llev\", \"llev\", \"llev\", \"lopez\", \"lopezobrador_\", \"lopezobrador_\", \"luch\", \"luis\", \"madr\", \"madr\", \"madur\", \"maldit\", \"manten\", \"map\", \"mar\", \"marz\", \"marz\", \"mat\", \"may\", \"mayor\", \"mayor\", \"mayor\", \"mayor\", \"mayor\", \"mayor\", \"med\", \"medic\", \"medic\", \"medicament\", \"mejor\", \"mejor\", \"mejor\", \"mejor\", \"mental\", \"mes\", \"mes\", \"mes\", \"mexic\", \"mexic\", \"mied\", \"mierd\", \"millon\", \"millon\", \"mir\", \"mit\", \"moment\", \"moment\", \"mor\", \"mortal\", \"much\", \"much\", \"muer\", \"muer\", \"muert\", \"muj\", \"mund\", \"mund\", \"mund\", \"mund\", \"mund\", \"mundial\", \"mur\", \"nad\", \"nadi\", \"navid\", \"necesari\", \"nivel\", \"nivel\", \"nivel\", \"ni\\u00f1\", \"nombr\", \"notici\", \"notici\", \"notici\", \"notici\", \"notici\", \"notici\", \"nuestr\", \"nuestr\", \"nuev\", \"nuev\", \"numer\", \"ocup\", \"oficial\", \"oper\", \"organiz\", \"pacient\", \"pais\", \"pais\", \"pais\", \"pais\", \"pais\", \"pandemi\", \"pandemi\", \"pandemi\", \"pandemi\", \"pandemi\", \"par\", \"par\", \"par\", \"par\", \"parec\", \"pas\", \"pas\", \"pen\", \"pendej\", \"pens\", \"per\", \"per\", \"perd\", \"person\", \"person\", \"person\", \"person\", \"person\", \"person\", \"person\", \"person\", \"personal\", \"personal\", \"pfiz\", \"plen\", \"poc\", \"porqu\", \"posit\", \"posit\", \"preci\", \"pregunt\", \"present\", \"present\", \"present\", \"present\", \"president\", \"president\", \"president\", \"president\", \"preven\", \"prevencion\", \"prevent\", \"prim\", \"prim\", \"prim\", \"primer\", \"primer\", \"primer\", \"primer\", \"primer\", \"principal\", \"prob\", \"produc\", \"pront\", \"propag\", \"proteccion\", \"protocol\", \"provinci\", \"provoc\", \"proyect\", \"prueb\", \"prueb\", \"public\", \"public\", \"public\", \"public\", \"public\", \"pued\", \"pued\", \"pued\", \"pued\", \"pued\", \"pued\", \"puert\", \"puert\", \"pues\", \"put\", \"quier\", \"realiz\", \"rebrot\", \"recib\", \"recib\", \"recomend\", \"record\", \"record\", \"recuper\", \"recuper\", \"recuper\", \"red\", \"registr\", \"regres\", \"regres\", \"regres\", \"rein\", \"report\", \"restriccion\", \"reunion\", \"ric\", \"riesg\", \"riesg\", \"romp\", \"rus\", \"rusi\", \"rusi\", \"sab\", \"sab\", \"sab\", \"sal\", \"sal\", \"sal\", \"salud\", \"salud\", \"salud\", \"salv\", \"sanchez\", \"sanitari\", \"sant\", \"sant\", \"secret\", \"secretari\", \"sector\", \"segur\", \"segur\", \"segur\", \"seman\", \"seman\", \"seman\", \"seman\", \"seman\", \"servici\", \"siempr\", \"simon\", \"sintom\", \"sistem\", \"sobr\", \"sobr\", \"sobr\", \"sobr\", \"sobr\", \"sobr\", \"sobr\", \"sobr\", \"social\", \"social\", \"sol\", \"sol\", \"sol\", \"sol\", \"sospech\", \"sum\", \"super\", \"suspend\", \"tecnolog\", \"ten\", \"ten\", \"ten\", \"ten\", \"teng\", \"tiemp\", \"tiemp\", \"tiemp\", \"tiemp\", \"tien\", \"tien\", \"tien\", \"tien\", \"tien\", \"tien\", \"tip\", \"tod\", \"tod\", \"tod\", \"tom\", \"tom\", \"toqu\", \"total\", \"trabaj\", \"trabaj\", \"trabaj\", \"trabaj\", \"transmit\", \"transport\", \"tras\", \"tras\", \"tras\", \"tratamient\", \"trist\", \"ultim\", \"unid\", \"uruguay\", \"vacun\", \"variant\", \"vay\", \"vecin\", \"venezuel\", \"venezuel\", \"venezuel\", \"verd\", \"victim\", \"victim\", \"vid\", \"viern\", \"virus\", \"virus\", \"virus\", \"viv\", \"viv\", \"viv\", \"viv\", \"voluntari\", \"vuel\", \"wuh\", \"youtub\"]}, \"R\": 30, \"lambda.step\": 0.01, \"plot.opts\": {\"xlab\": \"PC1\", \"ylab\": \"PC2\"}, \"topic.order\": [1, 8, 2, 3, 6, 5, 4, 7]};\n",
       "\n",
       "function LDAvis_load_lib(url, callback){\n",
       "  var s = document.createElement('script');\n",
       "  s.src = url;\n",
       "  s.async = true;\n",
       "  s.onreadystatechange = s.onload = callback;\n",
       "  s.onerror = function(){console.warn(\"failed to load library \" + url);};\n",
       "  document.getElementsByTagName(\"head\")[0].appendChild(s);\n",
       "}\n",
       "\n",
       "if(typeof(LDAvis) !== \"undefined\"){\n",
       "   // already loaded: just create the visualization\n",
       "   !function(LDAvis){\n",
       "       new LDAvis(\"#\" + \"ldavis_el2138140490750205504914238712\", ldavis_el2138140490750205504914238712_data);\n",
       "   }(LDAvis);\n",
       "}else if(typeof define === \"function\" && define.amd){\n",
       "   // require.js is available: use it to load d3/LDAvis\n",
       "   require.config({paths: {d3: \"https://d3js.org/d3.v5\"}});\n",
       "   require([\"d3\"], function(d3){\n",
       "      window.d3 = d3;\n",
       "      LDAvis_load_lib(\"https://cdn.jsdelivr.net/gh/bmabey/pyLDAvis@3.3.1/pyLDAvis/js/ldavis.v3.0.0.js\", function(){\n",
       "        new LDAvis(\"#\" + \"ldavis_el2138140490750205504914238712\", ldavis_el2138140490750205504914238712_data);\n",
       "      });\n",
       "    });\n",
       "}else{\n",
       "    // require.js not available: dynamically load d3 & LDAvis\n",
       "    LDAvis_load_lib(\"https://d3js.org/d3.v5.js\", function(){\n",
       "         LDAvis_load_lib(\"https://cdn.jsdelivr.net/gh/bmabey/pyLDAvis@3.3.1/pyLDAvis/js/ldavis.v3.0.0.js\", function(){\n",
       "                 new LDAvis(\"#\" + \"ldavis_el2138140490750205504914238712\", ldavis_el2138140490750205504914238712_data);\n",
       "            })\n",
       "         });\n",
       "}\n",
       "</script>"
      ],
      "text/plain": [
       "PreparedData(topic_coordinates=              x         y  topics  cluster       Freq\n",
       "topic                                                \n",
       "0      0.272823 -0.005768       1        1  18.636956\n",
       "7     -0.201223  0.017712       2        1  16.281979\n",
       "1      0.015425  0.152929       3        1  15.321874\n",
       "2     -0.064475 -0.024958       4        1  12.161659\n",
       "5      0.251477  0.073779       5        1  11.189590\n",
       "4     -0.097567  0.092243       6        1  10.765507\n",
       "3     -0.166445  0.073187       7        1   8.942074\n",
       "6     -0.010016 -0.379125       8        1   6.700360, topic_info=        Term           Freq          Total Category  logprob  loglift\n",
       "101      cas   90403.000000   90403.000000  Default  30.0000  30.0000\n",
       "29     vacun   55953.000000   55953.000000  Default  29.0000  29.0000\n",
       "135    contr   49690.000000   49690.000000  Default  28.0000  28.0000\n",
       "46       par  121333.000000  121333.000000  Default  27.0000  27.0000\n",
       "102      cov  285646.000000  285646.000000  Default  26.0000  26.0000\n",
       "...      ...            ...            ...      ...      ...      ...\n",
       "220     dias    3114.202087   13214.814157   Topic8  -5.0404   1.2576\n",
       "267    seman    2904.324245   10831.536016   Topic8  -5.1102   1.3867\n",
       "33    notici    2590.179900   12537.201237   Topic8  -5.2247   1.1260\n",
       "1041  regres    1777.118596    3018.944397   Topic8  -5.6014   2.1731\n",
       "407      pas    1835.329713   17701.312467   Topic8  -5.5692   0.4366\n",
       "\n",
       "[447 rows x 6 columns], token_table=      Topic      Freq       Term\n",
       "term                            \n",
       "1906      6  0.999260      acces\n",
       "318       3  0.999660     accion\n",
       "65        2  0.690937      activ\n",
       "65        3  0.308964      activ\n",
       "502       2  0.999717   actualiz\n",
       "...     ...       ...        ...\n",
       "227       5  0.486975        viv\n",
       "4037      6  0.999644  voluntari\n",
       "1643      4  0.999316       vuel\n",
       "214       4  0.999866        wuh\n",
       "1384      4  0.999815     youtub\n",
       "\n",
       "[623 rows x 3 columns], R=30, lambda_step=0.01, plot_opts={'xlab': 'PC1', 'ylab': 'PC2'}, topic_order=[1, 8, 2, 3, 6, 5, 4, 7])"
      ]
     },
     "execution_count": 30,
     "metadata": {},
     "output_type": "execute_result"
    }
   ],
   "source": [
    "import pickle\n",
    "import pyLDAvis\n",
    "import os\n",
    "import pyLDAvis.gensim_models\n",
    "#import pyLDAvis.gensim\n",
    "\n",
    "# Visualize the topics\n",
    "pyLDAvis.enable_notebook()\n",
    "num_topics = 8\n",
    "\n",
    "LDAvis_data_filepath = os.path.join('./results_punto1/ldavis_tuned_'+str(num_topics))\n",
    "\n",
    "# # this is a bit time consuming - make the if statement True\n",
    "# # if you want to execute visualization prep yourself\n",
    "if 1 == 1:\n",
    "    LDAvis_prepared = pyLDAvis.gensim_models.prepare(lda_model, bow_corpus, dictionary)\n",
    "    with open(LDAvis_data_filepath, 'wb') as f:\n",
    "        pickle.dump(LDAvis_prepared, f)\n",
    "\n",
    "# load the pre-prepared pyLDAvis data from disk\n",
    "with open(LDAvis_data_filepath, 'rb') as f:\n",
    "    LDAvis_prepared = pickle.load(f)\n",
    "\n",
    "pyLDAvis.save_html(LDAvis_prepared, './results_punto1/ldavis_tuned_'+ str(num_topics) +'.html')\n",
    "\n",
    "LDAvis_prepared"
   ]
  },
  {
   "cell_type": "markdown",
   "metadata": {},
   "source": [
    "## Italian"
   ]
  },
  {
   "cell_type": "code",
   "execution_count": null,
   "metadata": {
    "pycharm": {
     "name": "#%%\n"
    }
   },
   "outputs": [],
   "source": [
    "# spanish_path\n",
    "file = open(italian_path, 'r')\n",
    "data = []\n",
    "for line in file:\n",
    "    data.append(json.loads(line))\n",
    "text_raw = pd.json_normalize(data)\n",
    "\n",
    "print(text_raw.shape)\n",
    "text_raw.head(10)"
   ]
  },
  {
   "cell_type": "code",
   "execution_count": null,
   "metadata": {
    "pycharm": {
     "name": "#%%\n"
    }
   },
   "outputs": [],
   "source": [
    "'''\n",
    "Turn text to Numpy Array\n",
    "'''\n",
    "texts_column = text_raw.loc[:,'text']\n",
    "raw_texts = texts_column.values\n",
    "raw_texts[0]"
   ]
  },
  {
   "cell_type": "code",
   "execution_count": null,
   "metadata": {
    "pycharm": {
     "name": "#%%\n"
    }
   },
   "outputs": [],
   "source": [
    "stemmer = SnowballStemmer(\"italian\")\n",
    "'''\n",
    "Write a function to perform the pre processing steps on the entire dataset\n",
    "'''\n",
    "def lemmatize_stemming(text):\n",
    "    return stemmer.stem(WordNetLemmatizer().lemmatize(text, pos='v'))\n",
    "\n",
    "# Tokenize and lemmatize\n",
    "def preprocess(text):\n",
    "    result=[]\n",
    "    for token in gensim.utils.simple_preprocess(text) :\n",
    "        if token not in gensim.parsing.preprocessing.STOPWORDS and len(token) > 3:\n",
    "            result.append(lemmatize_stemming(token))\n",
    "\n",
    "    return result"
   ]
  },
  {
   "cell_type": "code",
   "execution_count": null,
   "metadata": {
    "pycharm": {
     "name": "#%%\n"
    }
   },
   "outputs": [],
   "source": [
    "processed_docs = []\n",
    "\n",
    "for doc in raw_texts:\n",
    "    processed_docs.append(preprocess(doc))"
   ]
  },
  {
   "cell_type": "code",
   "execution_count": null,
   "metadata": {
    "pycharm": {
     "name": "#%%\n"
    }
   },
   "outputs": [],
   "source": [
    "'''\n",
    "Preview 'processed_docs'\n",
    "'''\n",
    "print(processed_docs[:10])"
   ]
  },
  {
   "cell_type": "code",
   "execution_count": null,
   "metadata": {
    "pycharm": {
     "name": "#%%\n"
    }
   },
   "outputs": [],
   "source": [
    "'''\n",
    "Create a dictionary from 'processed_docs' containing the number of times a word appears\n",
    "in the training set using gensim.corpora.Dictionary and call it 'dictionary'\n",
    "'''\n",
    "dictionary = gensim.corpora.Dictionary(processed_docs)"
   ]
  },
  {
   "cell_type": "code",
   "execution_count": null,
   "metadata": {
    "pycharm": {
     "name": "#%%\n"
    }
   },
   "outputs": [],
   "source": [
    "'''\n",
    "OPTIONAL STEP\n",
    "Remove very rare and very common words:\n",
    "\n",
    "- words appearing less than 15 times\n",
    "- words appearing in more than 10% of all documents\n",
    "'''\n",
    "dictionary.filter_extremes(no_below=15, no_above=0.1, keep_n= 100000)"
   ]
  },
  {
   "cell_type": "code",
   "execution_count": null,
   "metadata": {
    "pycharm": {
     "name": "#%%\n"
    }
   },
   "outputs": [],
   "source": [
    "'''\n",
    "Create the Bag-of-words model for each document i.e for each document we create a dictionary reporting how many\n",
    "words and how many times those words appear. Save this to 'bow_corpus'\n",
    "'''\n",
    "bow_corpus = [dictionary.doc2bow(doc) for doc in processed_docs]"
   ]
  },
  {
   "cell_type": "code",
   "execution_count": null,
   "metadata": {
    "pycharm": {
     "name": "#%%\n"
    }
   },
   "outputs": [],
   "source": [
    "# LDA multicore\n",
    "'''\n",
    "Train your lda model using gensim.models.LdaMulticore and save it to 'lda_model'\n",
    "'''\n",
    "# TODO\n",
    "lda_model =  gensim.models.LdaMulticore(bow_corpus,\n",
    "                                   num_topics = 8,\n",
    "                                   id2word = dictionary,\n",
    "                                   passes = 10,\n",
    "                                   workers = 2)"
   ]
  },
  {
   "cell_type": "code",
   "execution_count": 2,
   "metadata": {},
   "outputs": [],
   "source": [
    "with open(\"results_punto1/ita_lda\", \"wb\") as output_file:\n",
    "    pk.dump(lda_model, output_file)\n",
    "\n",
    "with open(\"results_punto1/ita_lda\", \"rb\") as output_file:\n",
    "    lda_model = pk.load(output_file)"
   ]
  },
  {
   "cell_type": "code",
   "execution_count": 4,
   "metadata": {
    "pycharm": {
     "name": "#%%\n"
    }
   },
   "outputs": [
    {
     "output_type": "stream",
     "name": "stdout",
     "text": [
      "Topic: 0 \nWords: 0.046*\"coronavirus\" + 0.020*\"com\" + 0.018*\"per\" + 0.016*\"hac\" + 0.015*\"par\" + 0.015*\"esta\" + 0.014*\"tod\" + 0.013*\"esto\" + 0.012*\"tien\" + 0.012*\"pas\"\n\n\nTopic: 1 \nWords: 0.059*\"par\" + 0.051*\"cov\" + 0.016*\"med\" + 0.016*\"salud\" + 0.011*\"ante\" + 0.010*\"coronavirus\" + 0.009*\"trabaj\" + 0.009*\"prueb\" + 0.009*\"sanitari\" + 0.008*\"com\"\n\n\nTopic: 2 \nWords: 0.085*\"coronavirus\" + 0.027*\"cov\" + 0.015*\"chin\" + 0.015*\"pandemi\" + 0.012*\"nuev\" + 0.011*\"estad\" + 0.010*\"unid\" + 0.009*\"españ\" + 0.008*\"crisis\" + 0.008*\"mund\"\n\n\nTopic: 3 \nWords: 0.057*\"cov\" + 0.024*\"coronavirus\" + 0.022*\"pacient\" + 0.020*\"hospital\" + 0.020*\"posit\" + 0.015*\"medic\" + 0.010*\"president\" + 0.009*\"sintom\" + 0.009*\"mur\" + 0.008*\"años\"\n\n\nTopic: 4 \nWords: 0.072*\"vacun\" + 0.068*\"cov\" + 0.064*\"contr\" + 0.033*\"par\" + 0.022*\"coronavirus\" + 0.010*\"millon\" + 0.009*\"primer\" + 0.008*\"luch\" + 0.008*\"recib\" + 0.007*\"investig\"\n\n\nTopic: 5 \nWords: 0.029*\"tod\" + 0.024*\"cov\" + 0.021*\"esta\" + 0.013*\"nuestr\" + 0.013*\"graci\" + 0.012*\"par\" + 0.012*\"este\" + 0.011*\"coronavirus\" + 0.011*\"vid\" + 0.010*\"com\"\n\n\nTopic: 6 \nWords: 0.030*\"coronavirus\" + 0.018*\"cov\" + 0.014*\"buen\" + 0.013*\"niñ\" + 0.010*\"despues\" + 0.008*\"mes\" + 0.008*\"clas\" + 0.008*\"estudi\" + 0.007*\"social\" + 0.007*\"llev\"\n\n\nTopic: 7 \nWords: 0.077*\"cas\" + 0.075*\"cov\" + 0.057*\"coronavirus\" + 0.042*\"nuev\" + 0.034*\"muert\" + 0.025*\"contagi\" + 0.018*\"confirm\" + 0.016*\"fallec\" + 0.016*\"ultim\" + 0.014*\"registr\"\n\n\n"
     ]
    }
   ],
   "source": [
    "'''\n",
    "For each topic, we will explore the words occuring in that topic and its relative weight\n",
    "'''\n",
    "for idx, topic in lda_model.print_topics(-1):\n",
    "    print(\"Topic: {} \\nWords: {}\".format(idx, topic ))\n",
    "    print(\"\\n\")"
   ]
  }
 ],
 "metadata": {
  "kernelspec": {
   "name": "python3",
   "language": "python",
   "display_name": "Python 3"
  },
  "language_info": {
   "codemirror_mode": {
    "name": "ipython",
    "version": 3
   },
   "file_extension": ".py",
   "mimetype": "text/x-python",
   "name": "python",
   "nbconvert_exporter": "python",
   "pygments_lexer": "ipython3",
   "version": "3.7.10"
  }
 },
 "nbformat": 4,
 "nbformat_minor": 1
}