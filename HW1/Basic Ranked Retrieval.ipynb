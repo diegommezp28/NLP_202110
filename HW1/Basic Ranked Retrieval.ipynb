{
 "cells": [
  {
   "cell_type": "code",
   "execution_count": 73,
   "metadata": {
    "collapsed": true,
    "pycharm": {
     "name": "#%%\n"
    }
   },
   "outputs": [
    {
     "name": "stderr",
     "output_type": "stream",
     "text": [
      "[nltk_data] Downloading package stopwords to\n",
      "[nltk_data]     /Users/isabelasarmiento/nltk_data...\n",
      "[nltk_data]   Package stopwords is already up-to-date!\n",
      "[nltk_data] Downloading package punkt to\n",
      "[nltk_data]     /Users/isabelasarmiento/nltk_data...\n",
      "[nltk_data]   Package punkt is already up-to-date!\n",
      "[nltk_data] Downloading package wordnet to\n",
      "[nltk_data]     /Users/isabelasarmiento/nltk_data...\n",
      "[nltk_data]   Package wordnet is already up-to-date!\n"
     ]
    },
    {
     "data": {
      "text/plain": "True"
     },
     "execution_count": 73,
     "metadata": {},
     "output_type": "execute_result"
    }
   ],
   "source": [
    "# Basic Ranked Retrieval (RRI)\n",
    "import pickle\n",
    "import numpy as np\n",
    "import pandas as pd\n",
    "from xml.dom import minidom\n",
    "from xml.etree import cElementTree as ElementTree\n",
    "import os\n",
    "import nltk\n",
    "import ssl\n",
    "import math\n",
    "import csv\n",
    "\n",
    "try:\n",
    "     _create_unverified_https_context = ssl._create_unverified_context\n",
    "except AttributeError:\n",
    "     pass\n",
    "else:\n",
    "    ssl._create_default_https_context = _create_unverified_https_context\n",
    "\n",
    "nltk.download('stopwords')\n",
    "nltk.download('punkt')\n",
    "nltk.download('wordnet')"
   ]
  },
  {
   "cell_type": "code",
   "execution_count": 74,
   "outputs": [],
   "source": [
    "def indexReader():\n",
    "    \"\"\"\n",
    "    Reads the inverted index created in the distributed_inverted_index.ipynb notebook\n",
    "    The path from where it reads the file is docs/inverted_index.pkl\n",
    "    :return: the inverted index, represented in a dictionary where the keys are the terms\n",
    "    and the values is also a dictionary that contains the frecuency of documents\n",
    "    that contain the term, and the posting. The posting is an array itself\n",
    "    that contains the document id, and the term's frequency in that document.\n",
    "    {'term': {'freq': df, 'posting':[[doc1, tf1],[doc2, tf2],...,[docn, tfn]}}\n",
    "    \"\"\"\n",
    "    with open('docs/inverted_index.pkl', 'rb') as index:\n",
    "        return pickle.load(index)\n",
    "\n",
    "invertedIndex = indexReader()\n"
   ],
   "metadata": {
    "collapsed": false,
    "pycharm": {
     "name": "#%%\n"
    }
   }
  },
  {
   "cell_type": "code",
   "execution_count": 75,
   "outputs": [
    {
     "name": "stdout",
     "output_type": "stream",
     "text": [
      "('d001', 'William Beaumont and the Human Digestion William Beaumont and the Human Digestion.  William Beaumont: Physiology of digestion Image Source.  On November 21, 1785, US-American surgeon William Beaumont was born. He became best known as “Father of Gastric Physiology” following his research on human digestion. William Beaumont was born in Lebanon, Connecticut and became a physician. He served as a surgeon’s mate in the Army during the War of 1812. He opened a private practice in Plattsburgh, New York, but rejoined the Army as a surgeon in 1819. Beaumont was stationed at Fort Mackinac on Mackinac Island in Michigan in the early 1820s when it existed to protect the interests of the American Fur Company. The fort became the refuge for a wounded 19-year-old French-Canadian fur trader named Alexis St. Martin when a shotgun went off by accident in the American Fur Company store at close range June 6th, 1822. St. Martin’s wound was quite serious because his stomach was perforated and several ribs were broken. Nobody really expected that the young man would survive but he really did. The skin around St. Martin’s wound fused to the hole in his stomach, leaving a permanent opening – a gastric fistula. [1] Beaumont quickly noticed that there was much research potential. Back then, not too much was known about the digestive system. In order to gain more information, Beaumont performed numerous experiments on St. Martin over a period of eight years. The experiments must have been really uncomfortable for the man, who was inserted bits of different foods tied to strings through the hole in his stomach, pulling them out periodically to observe digestion. Beaumont also removed gastric juice, examining it to better understand its nature. Beaumont became the “Father of Gastric Physiology” and his findings were published in the book “Experiments and Observations on the Gastric Juice and the Physiology of Digestion” in 1833. The work is now considered as the basis of much of the early knowledge on digestion. William Beaumont discovered that hydrochloric acid is the main chemical responsible for breaking down food and he suggested that another important digestive chemical, which is now known as pepsin. He suggested that digestion is a chemical process, not merely a mechanical one caused by stomach muscle movement. Also, Beaumont gave insights on how emotions, temperature, and physical activity can affect digestion. Beaumont’s famous patient, St. Martin, outlived the scientist even though his wound never completely healed. He had several children and died at the age of 83. [2] At yovisto, you may be interested in a video lecture on The Digestive System.')\n"
     ]
    }
   ],
   "source": [
    "## Imports\n",
    "def documentReader():\n",
    "    \"\"\"\n",
    "    This method reads the documents\n",
    "    :return: Dictionary of documents {dXXX: content of document dXXX}\n",
    "    \"\"\"\n",
    "    documents_path = os.path.join(os.getcwd(), 'docs/docs-raw-texts')\n",
    "    documentos = {}\n",
    "    documents_paths = os.listdir(documents_path)\n",
    "    documents_paths.sort()\n",
    "    #print(documents_paths)\n",
    "    for filename in documents_paths:\n",
    "        file_path = os.path.join(documents_path, filename)\n",
    "        #print(filename)\n",
    "        xmldoc = minidom.parse(file_path)\n",
    "        id = xmldoc.getElementsByTagName('public')[0].attributes['publicId'].value\n",
    "        title = xmldoc.getElementsByTagName('fileDesc')[0].attributes['title'].value\n",
    "        data = next(ElementTree.parse(file_path).iter('raw')).text\n",
    "        documentos[id] = (title + ' ' + data).replace(u'\\xa0', u' ').replace('\\n', ' ')\n",
    "    return documentos\n",
    "\n",
    "documentos = documentReader()\n",
    "print(list(documentos.items())[0])"
   ],
   "metadata": {
    "collapsed": false,
    "pycharm": {
     "name": "#%%\n"
    }
   }
  },
  {
   "cell_type": "code",
   "execution_count": 98,
   "outputs": [
    {
     "name": "stdout",
     "output_type": "stream",
     "text": [
      "('q01', 'Fabrication of music instruments')\n"
     ]
    }
   ],
   "source": [
    "def queries_reader():\n",
    "    \"\"\"\n",
    "    This method reads the queries\n",
    "    :return: Dictionary of queries {qYY: content of query qYY}\n",
    "    \"\"\"\n",
    "    queries_path = os.path.join(os.getcwd(), 'docs/queries-raw-texts')\n",
    "    queries = {}\n",
    "    queries_paths = os.listdir(queries_path)\n",
    "    queries_paths.sort()\n",
    "    #print(documents_paths)\n",
    "    queries_index = []\n",
    "    for filename in queries_paths:\n",
    "        file_path = os.path.join(queries_path, filename)\n",
    "        #print(filename)\n",
    "        xmldoc = minidom.parse(file_path)\n",
    "        id = xmldoc.getElementsByTagName('public')[0].attributes['publicId'].value\n",
    "        query = next(ElementTree.parse(file_path).iter('raw')).text\n",
    "        queries[id] = query.replace(u'\\xa0', u' ').replace('\\n', ' ')\n",
    "        queries_index.append(id)\n",
    "    return queries, queries_index\n",
    "\n",
    "queries, queries_index = queries_reader()\n",
    "print(list(queries.items())[0])"
   ],
   "metadata": {
    "collapsed": false,
    "pycharm": {
     "name": "#%%\n"
    }
   }
  },
  {
   "cell_type": "code",
   "execution_count": 77,
   "outputs": [
    {
     "name": "stdout",
     "output_type": "stream",
     "text": [
      "('q01', ['Fabrication', 'music', 'instrument'])\n"
     ]
    }
   ],
   "source": [
    "def queries_tokenization(queries):\n",
    "    \"\"\"\n",
    "    Queries tokenization using nltk. The returned dictionary,\n",
    "    :param queries in a dictionary, {qYY: content of query qYY}\n",
    "    :return: Dictionary of tokenized queries {qYY: [\"term1\",\"term2\",...,\"termn\"]}\n",
    "    \"\"\"\n",
    "    nltk_stop_words_en = set(nltk.corpus.stopwords.words(\"english\"))\n",
    "    wordnet_lemmatizer = nltk.stem.WordNetLemmatizer()\n",
    "    #print(\"items\", queries.items())\n",
    "    tokenized_queries = {}\n",
    "    for key,doc in queries.items():\n",
    "        word_tok = nltk.word_tokenize(doc)\n",
    "        word_tok_sw = [token for token in word_tok if token not in nltk_stop_words_en]\n",
    "        nltk_lemmaList = [wordnet_lemmatizer.lemmatize(word) for word in word_tok_sw]\n",
    "        #print(nltk_lemmaList)\n",
    "        tokenized_queries[key] = nltk_lemmaList\n",
    "\n",
    "    return tokenized_queries\n",
    "\n",
    "\n",
    "\n",
    "tokenized_queries = queries_tokenization(queries)\n",
    "print(list(tokenized_queries.items())[0])"
   ],
   "metadata": {
    "collapsed": false,
    "pycharm": {
     "name": "#%%\n"
    }
   }
  },
  {
   "cell_type": "code",
   "execution_count": 101,
   "outputs": [
    {
     "name": "stdout",
     "output_type": "stream",
     "text": [
      "('q01', {'d254': 1.3322084124448144, 'd016': 1.280133266247014, 'd085': 0.7608038472948082, 'd185': 0.7210322829593981, 'd209': 0.7210322829593981, 'd060': 0.6881765238016224, 'd100': 0.6881765238016224, 'd153': 0.6881765238016224, 'd186': 0.6553207646438466, 'd006': 0.571404565150006, 'd215': 0.571404565150006, 'd099': 0.5193294189522057, 'd243': 0.5193294189522057, 'd004': 0.36051614147969907, 'd039': 0.36051614147969907, 'd065': 0.36051614147969907, 'd094': 0.36051614147969907, 'd130': 0.36051614147969907, 'd136': 0.36051614147969907, 'd152': 0.36051614147969907, 'd162': 0.36051614147969907, 'd164': 0.36051614147969907, 'd184': 0.36051614147969907, 'd195': 0.36051614147969907, 'd312': 0.36051614147969907, 'd316': 0.36051614147969907, 'd028': 0.3276603823219233, 'd038': 0.3276603823219233, 'd074': 0.3276603823219233, 'd082': 0.3276603823219233, 'd116': 0.3276603823219233, 'd170': 0.3276603823219233, 'd172': 0.3276603823219233, 'd212': 0.3276603823219233, 'd229': 0.3276603823219233, 'd234': 0.3276603823219233, 'd255': 0.3276603823219233, 'd265': 0.3276603823219233, 'd281': 0.3276603823219233, 'd284': 0.3276603823219233, 'd299': 0.3276603823219233, 'd315': 0.3276603823219233, 'd317': 0.3276603823219233, 'd329': 0.3276603823219233})\n"
     ]
    }
   ],
   "source": [
    "def basic_ranked_retrieval(queries,invertedIndex,documents,N):\n",
    "    \"\"\"\n",
    "    Computes the score for all the queries\n",
    "    :param queries: tokenized queries in a dictorionary {qYY: [\"term1\",\"term2\",...,\"termn\"]}\n",
    "    :param invertedIndex: inverted index in a dictionary {'term': {'freq': df, 'posting':[[doc1, tf1],[doc2, tf2],...,[docn, tfn]}}\n",
    "    :param documents: tokenized documents in a dictionary {dXXX: content of document dXXX}\n",
    "    :param N: total number of documents\n",
    "    :return: a dictionary with the scores for all the queries for each document\n",
    "    {'qYY': {'dXXX': score1, 'dXXX': score2, ..., 'dXXX': score3 } }\n",
    "    \"\"\"\n",
    "    scores= {}\n",
    "    query_scores_template = {}\n",
    "    for key, doc in documents.items():\n",
    "        query_scores_template[key] = 0\n",
    "\n",
    "    for query,tokens in queries.items():\n",
    "        query_scores = query_scores_template.copy()\n",
    "        for token in tokens:\n",
    "            if token in invertedIndex:\n",
    "                df = invertedIndex[token][\"freq\"]\n",
    "                idf = math.log10( N / df )\n",
    "                for docs in invertedIndex[token][\"posting\"]:\n",
    "                    tf = docs[1]\n",
    "                    tf_w = math.log10(1 + tf)\n",
    "                    #if docs[0] not in query_scores:\n",
    "                    #    query_scores[docs[0]] = 0\n",
    "                    docId = \"d{0:0=3d}\".format(docs[0])\n",
    "                    query_scores[docId] += tf_w*idf\n",
    "        clean_query_scores = { k : v for k,v in query_scores.items() if v != 0}\n",
    "        clean_query_scores = dict(sorted(clean_query_scores.items(), key=lambda item: item[1], reverse=True))\n",
    "        scores[query] = clean_query_scores#query_scores\n",
    "\n",
    "    return scores\n",
    "\n",
    "RRI = basic_ranked_retrieval(tokenized_queries,invertedIndex, documentos, len(documentos))\n",
    "print(list(RRI.items())[0])"
   ],
   "metadata": {
    "collapsed": false,
    "pycharm": {
     "name": "#%% Método\n"
    }
   }
  },
  {
   "cell_type": "code",
   "execution_count": 79,
   "outputs": [
    {
     "name": "stdout",
     "output_type": "stream",
     "text": [
      "Archivo escrito\n"
     ]
    }
   ],
   "source": [
    "def writeScoreFile(RRI):\n",
    "    \"\"\"\n",
    "    Writes the RRI-queries_results.tsv that contains the score of each query\n",
    "    :param RRI: Dictionary with the scores, {'qYY': {'dXXX': score1, 'dXXX': score2, ..., 'dXXX': score3 } }\n",
    "    :return: none\n",
    "    \"\"\"\n",
    "    file_path = os.path.join(os.getcwd(), 'docs/answer_files/RRI-queries_results.tsv')\n",
    "    with open(file_path, 'wt') as out_file:\n",
    "        tsv_writer = csv.writer(out_file, delimiter='\\t')\n",
    "        for query_id,scores in RRI.items():\n",
    "            scores_list = \"\"\n",
    "            for doc,score in scores.items():\n",
    "                scores_list+= doc +\":\"+str(round(score,4))+\",\"\n",
    "            tsv_writer.writerow([query_id,scores_list[:-1]])\n",
    "\n",
    "\n",
    "writeScoreFile(RRI)\n",
    "print(\"Archivo escrito\")"
   ],
   "metadata": {
    "collapsed": false,
    "pycharm": {
     "name": "#%%\n"
    }
   }
  },
  {
   "cell_type": "code",
   "execution_count": 80,
   "outputs": [
    {
     "name": "stdout",
     "output_type": "stream",
     "text": [
      "0.0\n"
     ]
    }
   ],
   "source": [
    "def score(query, document_id, invertedIndex, N):\n",
    "    \"\"\"\n",
    "    Computes to score for a query, document pair\n",
    "    :param query: tokenized query in a document,  {qYY: [\"term1\",\"term2\",...,\"termn\"]}\n",
    "    :param document_id: id of the document in \"dxxx\" notation\n",
    "    :param invertedIndex: inverted index in a dictionary, {'term': {'freq': df, 'posting':[[doc1, tf1],[doc2, tf2],...,[docn, tfn]}}\n",
    "    :param N: the amount of documents\n",
    "    :return: the score of the query (decimal)\n",
    "    \"\"\"\n",
    "    score = 0\n",
    "\n",
    "    tokens = query[1]\n",
    "    for token in tokens:\n",
    "        token_in_index = invertedIndex.get(token, \"unknown_token\")\n",
    "        if token_in_index != \"unknown_token\":\n",
    "            token_posting = token_in_index[\"posting\"]\n",
    "            tf = 0\n",
    "            tf_w = 0\n",
    "            for doc_freq_pair in token_posting:\n",
    "                if doc_freq_pair[0] == document_id:\n",
    "                    tf = doc_freq_pair[1]\n",
    "                    tf_w = math.log10(1 + tf)\n",
    "                    break\n",
    "            df = token_in_index[\"freq\"]\n",
    "            idf = math.log10( N / df )\n",
    "            score += tf_w*idf\n",
    "    return  score\n",
    "\n",
    "\n",
    "query1 = list(tokenized_queries.items())[3]\n",
    "\n",
    "scoreQ1 = score(query1, 'd001', invertedIndex, len(documentos))\n",
    "print(scoreQ1)"
   ],
   "metadata": {
    "collapsed": false,
    "pycharm": {
     "name": "#%%\n"
    }
   }
  },
  {
   "cell_type": "code",
   "execution_count": 81,
   "outputs": [
    {
     "name": "stdout",
     "output_type": "stream",
     "text": [
      "{'q01': {'d016': 5, 'd186': 4, 'd254': 5}, 'q02': {'d136': 2, 'd139': 2, 'd143': 4, 'd147': 2, 'd149': 2, 'd164': 4, 'd228': 4, 'd283': 4, 'd291': 4, 'd293': 4, 'd318': 2}, 'q03': {'d105': 2, 'd147': 3, 'd152': 3, 'd283': 4, 'd291': 4, 'd318': 2}, 'q04': {'d010': 3, 'd019': 2, 'd049': 2, 'd270': 3, 'd275': 3, 'd286': 2, 'd330': 2}, 'q06': {'d026': 4, 'd069': 2, 'd233': 3, 'd257': 2, 'd297': 3, 'd329': 5}, 'q07': {'d004': 3, 'd077': 3, 'd179': 3, 'd266': 2}, 'q08': {'d005': 4, 'd028': 3, 'd081': 2, 'd108': 3, 'd110': 4, 'd117': 3, 'd121': 2, 'd180': 2, 'd205': 2, 'd251': 5, 'd271': 3, 'd292': 2}, 'q09': {'d177': 2, 'd198': 3, 'd199': 5, 'd205': 3, 'd217': 2, 'd223': 2}, 'q10': {'d052': 2, 'd065': 3, 'd068': 2, 'd076': 3, 'd100': 2, 'd199': 4, 'd215': 2, 'd231': 4}, 'q12': {'d239': 4, 'd250': 4, 'd258': 3, 'd277': 4}, 'q13': {'d049': 4, 'd056': 4, 'd239': 2, 'd258': 2, 'd277': 2}, 'q14': {'d002': 2, 'd005': 3, 'd041': 3, 'd081': 4, 'd091': 4, 'd093': 3, 'd117': 2, 'd130': 3, 'd142': 2, 'd180': 3, 'd280': 3, 'd314': 3}, 'q16': {'d132': 3, 'd229': 2}, 'q17': {'d091': 2, 'd121': 4, 'd271': 4, 'd280': 2}, 'q18': {'d192': 4, 'd194': 3, 'd201': 3, 'd207': 2, 'd210': 3, 'd216': 2, 'd222': 2}, 'q19': {'d077': 2, 'd179': 5}, 'q22': {'d011': 3, 'd049': 2, 'd132': 2, 'd250': 2, 'd258': 2, 'd277': 2, 'd331': 2}, 'q23': {'d194': 2, 'd202': 2, 'd205': 2, 'd211': 3, 'd215': 2, 'd216': 2, 'd219': 5, 'd276': 4}, 'q24': {'d060': 2, 'd098': 2, 'd129': 3, 'd196': 2, 'd221': 2}, 'q25': {'d020': 3, 'd023': 2, 'd166': 3, 'd167': 3}, 'q26': {'d152': 5}, 'q27': {'d017': 2, 'd051': 2, 'd054': 5, 'd103': 5, 'd107': 2, 'd143': 2, 'd158': 2, 'd293': 4}, 'q28': {'d094': 3, 'd136': 5, 'd316': 3}, 'q29': {'d001': 3, 'd037': 5, 'd046': 3, 'd062': 4, 'd093': 2, 'd113': 4, 'd120': 3, 'd130': 3, 'd133': 4, 'd261': 3, 'd294': 2, 'd314': 4}, 'q32': {'d025': 5, 'd031': 2, 'd067': 3, 'd090': 4, 'd139': 3}, 'q34': {'d248': 5}, 'q36': {'d020': 3, 'd023': 3, 'd150': 3, 'd167': 2, 'd247': 4, 'd257': 4, 'd265': 4, 'd277': 4, 'd321': 3, 'd328': 3}, 'q37': {'d116': 3, 'd169': 5, 'd256': 2}, 'q38': {'d015': 2, 'd039': 3, 'd229': 2, 'd235': 4, 'd250': 2, 'd263': 2, 'd294': 4, 'd317': 2}, 'q40': {'d042': 5, 'd047': 5, 'd098': 3, 'd112': 3, 'd122': 3, 'd242': 4, 'd252': 2, 'd262': 3, 'd307': 3}, 'q41': {'d121': 3, 'd128': 3, 'd150': 5, 'd174': 3, 'd268': 2, 'd291': 4, 'd318': 5}, 'q42': {'d014': 2, 'd298': 5, 'd314': 2}, 'q44': {'d003': 2, 'd029': 4, 'd085': 2, 'd105': 2, 'd126': 2, 'd148': 2, 'd164': 2, 'd170': 2, 'd185': 3, 'd254': 2}, 'q45': {'d085': 4, 'd105': 5, 'd126': 3, 'd148': 2, 'd164': 3, 'd170': 3, 'd185': 3, 'd254': 2}, 'q46': {'d002': 2, 'd005': 2, 'd093': 2, 'd121': 3, 'd133': 3, 'd314': 2}}\n"
     ]
    }
   ],
   "source": [
    "def read_judgemnts_file():\n",
    "    \"\"\"\n",
    "    Reads the judgments file\n",
    "    :return: the query scores in a dictionary\n",
    "    {'qXX': {'dYYY': score }}\n",
    "    \"\"\"\n",
    "    document_path = os.path.join(os.getcwd(), 'docs/relevance-judgments.tsv')\n",
    "    tsv_file = open(document_path)\n",
    "    read_tsv = csv.reader(tsv_file, delimiter=\"\\t\")\n",
    "    relevance = {}\n",
    "    for row in read_tsv:\n",
    "        documents = row[1].split(',')\n",
    "        query_relevance = {pair.split(':')[0] : int(pair.split(':')[1]) for pair in documents }\n",
    "        query_relevance = dict(sorted(query_relevance.items(), key=lambda item: item[0]))\n",
    "        relevance[row[0]] = query_relevance\n",
    "    return relevance\n",
    "\n",
    "relevance = read_judgemnts_file()\n",
    "print(relevance)\n"
   ],
   "metadata": {
    "collapsed": false,
    "pycharm": {
     "name": "#%%\n"
    }
   }
  },
  {
   "cell_type": "code",
   "execution_count": 82,
   "outputs": [],
   "source": [
    "def precision_at_k(relevance: list, k: int):\n",
    "    \"\"\"\n",
    "    DocString\n",
    "    :return: Nothing\n",
    "    \"\"\"\n",
    "    if k == 0:\n",
    "        return 0\n",
    "    l = np.array(relevance[:k]).sum()/k\n",
    "    return l\n",
    "\n",
    "def recall_at_k(relevance: list, nr_relevant: int, k: int):\n",
    "    \"\"\"\n",
    "    :param relevance:\n",
    "    :param nr_relevant:\n",
    "    :param k:\n",
    "    :return:\n",
    "    \"\"\"\n",
    "    l = np.array(relevance[:k]).sum()/nr_relevant\n",
    "    return l\n",
    "\n",
    "def average_precision(relevance,R):\n",
    "\n",
    "    length = len(relevance)\n",
    "    sum = 0\n",
    "    for i in range(length):\n",
    "        if relevance[i]:\n",
    "            sum += precision_at_k(relevance, i+1)\n",
    "    return sum / R if R!=0 else 0\n",
    "\n",
    "def mean_avg_precision(l):\n",
    "    \"\"\"\n",
    "    DocString\n",
    "    :return: Nothing\n",
    "    \"\"\"\n",
    "    average = 0\n",
    "    i = 1\n",
    "    for lista,R in l:\n",
    "        print(i)\n",
    "        i+=1\n",
    "        print(\"lista\", lista)\n",
    "        print(\"R:\", R)\n",
    "        print(\"Encontró todos\", R==np.array(lista).sum())\n",
    "        print(\"precisionav\", average_precision(lista,R))\n",
    "        average+= average_precision(lista,R)\n",
    "    print(average)\n",
    "    mean = average / len(l)\n",
    "    return mean\n",
    "\n",
    "#l = [1,0,1,1,1,1,1,0,1,0,1,0,0,1,0,0,0,0,0,1]\n",
    "#print(type(l))\n",
    "#prueba = average_precision(l)\n",
    "#print(prueba)\n",
    "\n",
    "def dcg_at_k(relevance, k: int):\n",
    "    \"\"\"\n",
    "    DocString\n",
    "    :return: Nothing\n",
    "    \"\"\"\n",
    "    sum = 0\n",
    "    i =  0\n",
    "    for rel_i in relevance[: k]:\n",
    "        i+= 1\n",
    "        sum += rel_i/np.log2(max(i, 2))\n",
    "\n",
    "    return sum\n",
    "\n",
    "def ndcg_at_k(relevance, rel_sorted, k):\n",
    "    \"\"\"\n",
    "    DocString\n",
    "    :return: Nothing\n",
    "    \"\"\"\n",
    "    #rel_sorted = sorted(relevance, reverse=True)\n",
    "    max = dcg_at_k(rel_sorted, k)\n",
    "    real = dcg_at_k(relevance, k)\n",
    "\n",
    "    return real/ max if max != 0 else 0"
   ],
   "metadata": {
    "collapsed": false,
    "pycharm": {
     "name": "#%%\n"
    }
   }
  },
  {
   "cell_type": "code",
   "execution_count": 83,
   "outputs": [],
   "source": [
    "def make_binary_score(query_tuple,relevance):\n",
    "    \n",
    "    query = query_tuple[0]\n",
    "    ranking = query_tuple[1]\n",
    "    binary_score = []\n",
    "    M = len(relevance[query])\n",
    "    i=1;\n",
    "    for document, score in ranking.items():\n",
    "        if i>M:\n",
    "            break\n",
    "        if document in relevance[query]:\n",
    "            binary_score.append(1)\n",
    "        else:\n",
    "            binary_score.append(0)\n",
    "        i += 1\n",
    "    #print(binary_score)\n",
    "    return binary_score, M"
   ],
   "metadata": {
    "collapsed": false,
    "pycharm": {
     "name": "#%%\n"
    }
   }
  },
  {
   "cell_type": "code",
   "execution_count": 84,
   "outputs": [],
   "source": [
    "def make_binary_score_extended(query_tuple,relevance):\n",
    "    query = query_tuple[0]\n",
    "    ranking = query_tuple[1]\n",
    "    binary_score = []\n",
    "    M = len(relevance[query])\n",
    "    i=0;\n",
    "    for document, score in ranking.items():\n",
    "        if i==M:\n",
    "            break\n",
    "        if document in relevance[query]:\n",
    "            binary_score.append(1)\n",
    "            i += 1\n",
    "        else:\n",
    "            binary_score.append(0)\n",
    "    #print(binary_score)\n",
    "    return binary_score, M\n"
   ],
   "metadata": {
    "collapsed": false,
    "pycharm": {
     "name": "#%%\n"
    }
   }
  },
  {
   "cell_type": "code",
   "execution_count": 85,
   "outputs": [
    {
     "name": "stdout",
     "output_type": "stream",
     "text": [
      "{'q01': 0.6666666666666666, 'q02': 0.5454545454545454, 'q03': 1.0, 'q04': 0.8571428571428571, 'q06': 0.8333333333333334, 'q07': 0.25, 'q08': 0.75, 'q09': 0.8333333333333334, 'q10': 0.5, 'q12': 0.75, 'q13': 0.6, 'q14': 0.4166666666666667, 'q16': 0.5, 'q17': 0.75, 'q18': 0.8571428571428571, 'q19': 0.5, 'q22': 0.5714285714285714, 'q23': 0.25, 'q24': 0.0, 'q25': 0.75, 'q26': 1.0, 'q27': 0.5, 'q28': 0.6666666666666666, 'q29': 0.4166666666666667, 'q32': 1.0, 'q34': 1.0, 'q36': 0.4, 'q37': 0.3333333333333333, 'q38': 0.375, 'q40': 0.7777777777777778, 'q41': 0.8571428571428571, 'q42': 0.6666666666666666, 'q44': 0.7, 'q45': 0.75, 'q46': 0.5}\n"
     ]
    }
   ],
   "source": [
    "def precision_for_RRI(RRI,relevance):\n",
    "    \"\"\"\n",
    "    DocString\n",
    "    :return: Nothing\n",
    "    \"\"\"\n",
    "    precisions = {}\n",
    "    for query in RRI.items():\n",
    "        binary_score, M = make_binary_score(query,relevance)\n",
    "        precisions[query[0]] = precision_at_k(binary_score,M)\n",
    "    return precisions\n",
    "\n",
    "precisions = precision_for_RRI(RRI,relevance)\n",
    "print(precisions)"
   ],
   "metadata": {
    "collapsed": false,
    "pycharm": {
     "name": "#%%\n"
    }
   }
  },
  {
   "cell_type": "code",
   "execution_count": 86,
   "outputs": [
    {
     "name": "stdout",
     "output_type": "stream",
     "text": [
      "{'q01': 0.6666666666666666, 'q02': 0.5454545454545454, 'q03': 1.0, 'q04': 0.8571428571428571, 'q06': 0.8333333333333334, 'q07': 0.25, 'q08': 0.75, 'q09': 0.8333333333333334, 'q10': 0.5, 'q12': 0.75, 'q13': 0.6, 'q14': 0.4166666666666667, 'q16': 0.5, 'q17': 0.75, 'q18': 0.8571428571428571, 'q19': 0.5, 'q22': 0.5714285714285714, 'q23': 0.25, 'q24': 0.0, 'q25': 0.75, 'q26': 1.0, 'q27': 0.5, 'q28': 0.6666666666666666, 'q29': 0.4166666666666667, 'q32': 1.0, 'q34': 1.0, 'q36': 0.4, 'q37': 0.3333333333333333, 'q38': 0.375, 'q40': 0.7777777777777778, 'q41': 0.8571428571428571, 'q42': 0.6666666666666666, 'q44': 0.7, 'q45': 0.75, 'q46': 0.5}\n"
     ]
    }
   ],
   "source": [
    "def recall_for_RRI(RRI,relevance):\n",
    "    \"\"\"\n",
    "    DocString\n",
    "    :return: Nothing\n",
    "    \"\"\"\n",
    "    recalls = {}\n",
    "    for query in RRI.items():\n",
    "        binary_score, M = make_binary_score(query,relevance)\n",
    "        recalls[query[0]] = recall_at_k(binary_score,M,M)\n",
    "    return recalls\n",
    "\n",
    "recalls = recall_for_RRI(RRI,relevance)\n",
    "print(recalls)\n",
    "\n"
   ],
   "metadata": {
    "collapsed": false,
    "pycharm": {
     "name": "#%%\n"
    }
   }
  },
  {
   "cell_type": "code",
   "execution_count": 87,
   "outputs": [
    {
     "name": "stdout",
     "output_type": "stream",
     "text": [
      "[([1, 1, 0, 0, 0, 0, 0, 0, 1], 3), ([1, 1, 1, 1, 1, 0, 1, 0, 0, 0, 0, 0, 0, 0, 0, 1, 1, 0, 0, 0, 0, 1, 0, 0, 0, 0, 0, 0, 0, 1, 0, 0, 0, 0, 0, 0, 0, 0, 0, 0, 0, 0, 0, 0, 0, 0, 0, 0, 0, 0, 0, 0, 0, 0, 0, 0, 0, 0, 0, 0, 0, 0, 0, 0, 0, 0, 0, 0, 0, 0, 0, 0, 0, 0, 0, 0, 0, 0, 0, 0, 0, 0, 0, 0, 0, 0, 0, 0, 0, 0, 0, 0, 0, 0, 0, 0, 0, 0, 0, 0, 0, 1], 11), ([1, 1, 1, 1, 1, 1], 6), ([1, 1, 1, 1, 1, 1, 0, 0, 0, 0, 0, 0, 0, 1], 7), ([1, 1, 1, 1, 1, 0, 1], 6), ([1, 0, 0, 0, 0, 0, 0, 0, 0, 0, 0, 0, 0, 0, 0, 0, 0, 0, 0, 0, 0, 0, 0, 0], 4), ([1, 1, 1, 1, 1, 1, 1, 0, 0, 1, 1, 0, 1, 0, 0, 0, 0, 0, 0, 0, 0, 0, 0, 0, 0, 0, 0, 0, 1, 0, 0, 0, 0, 0, 0, 0, 0, 0, 0, 0, 0, 0, 0, 0, 0, 0, 0, 0, 0, 0, 0, 0, 0, 0, 0, 0, 0, 0, 0, 0, 0, 0, 0, 0, 0, 0, 0, 0, 0, 0, 0, 0, 0, 0, 0, 0, 0, 0, 0, 0, 0, 0, 0, 0, 0, 0, 0, 0, 0, 0, 0, 0, 0, 0, 0, 0], 12), ([1, 1, 1, 1, 0, 1, 1], 6), ([1, 0, 1, 0, 1, 0, 1, 0, 0, 0, 0, 0, 0, 0, 0, 0, 0, 0, 0, 1, 0, 0, 0, 0, 0, 0, 0, 0, 0, 0, 0, 0, 0, 0, 0, 0, 0, 0, 0, 0, 0, 0, 0, 0, 0, 0, 0, 0, 0, 0, 0, 0, 0, 0, 0, 0, 0, 0, 0, 0, 0, 0, 0, 0, 0, 0, 0, 0, 0, 0, 0, 0, 0, 0, 0, 0, 0, 0, 0, 0, 0, 0, 0, 0, 0, 0, 0, 0, 0, 0, 1, 0, 0, 0, 0, 0, 0, 0, 0, 0, 0, 0, 0, 0, 0, 0, 0, 0, 0, 0, 0, 0, 0, 0, 0, 0, 0, 0, 0, 0, 0, 0, 0, 0, 0, 0, 0, 0, 0, 0, 0, 1, 0, 0, 0, 0, 0, 0, 0, 0, 0, 0, 0, 0, 0, 0, 0, 0, 0, 0, 0, 0, 0, 1], 8), ([1, 1, 1, 0, 0, 0, 0, 0, 0, 0, 0, 0, 0, 0, 0, 0, 0, 0, 0, 0, 0, 1], 4), ([1, 1, 1, 0, 0, 0, 0, 0, 0, 0, 0, 0, 0, 0, 0, 0, 0, 0, 0, 0, 0, 0, 0, 0, 0, 0, 0, 0, 0, 1, 1], 5), ([0, 1, 1, 0, 1, 0, 0, 0, 0, 0, 1, 1, 0, 0, 0, 1, 0, 0, 0, 1, 1, 1, 1, 1, 0, 0, 0, 0, 0, 0, 0, 0, 1], 12), ([0, 1, 0, 0, 1], 2), ([1, 1, 0, 1, 0, 0, 0, 0, 0, 0, 0, 0, 0, 0, 0, 0, 0, 0, 0, 0], 4), ([1, 1, 1, 1, 0, 1, 1, 0, 0, 0, 0, 0, 0, 0, 0, 0, 0], 7), ([1, 0, 0, 0, 0, 0, 0, 0, 0, 0, 0, 0, 0, 0, 0, 0, 0, 0, 0, 0, 0, 0, 0, 0, 0, 0, 0, 0, 0, 0, 0, 0, 0, 0, 0, 0, 0, 0, 0, 0, 0, 0, 0, 0, 0, 0, 0, 0, 0, 0, 0, 0, 0, 0, 0, 0, 0, 0, 0, 0], 2), ([1, 0, 1, 1, 1, 0, 0, 0, 0, 0, 0, 0, 0, 0, 0, 0, 0, 1, 0, 0, 0, 0, 0, 0, 0, 0, 1, 0, 0, 0, 0, 0, 0, 0, 0, 0, 0, 0, 0, 0, 0, 0, 0, 0, 0, 0, 0, 0, 0, 0, 0, 0, 0, 0, 0, 0, 0, 0, 0, 0, 0, 0, 0, 0, 0, 0, 0, 0, 0, 0, 0, 0, 0, 0, 0, 0, 0, 0, 0, 0, 0, 0, 0, 0, 0, 0, 0, 0, 0, 0, 0, 0, 0, 0, 0, 0, 0, 0, 0, 0, 0, 0, 0, 0, 0, 0, 0, 0, 0, 0, 0, 0, 0, 0, 0, 0, 0, 0, 0, 0, 0, 0, 0, 1], 7), ([1, 1, 0, 0, 0, 0, 0, 0, 0, 0, 0, 0, 0, 0, 0, 0, 0, 0, 0, 0, 0, 0, 0, 0, 0, 0, 0, 0, 0, 0, 0, 0, 0, 0, 0, 0, 0, 0, 0, 0, 0, 0, 0, 0, 0, 1, 0, 0, 0, 0, 0, 0, 0, 0, 0, 0, 0, 0, 0, 0, 0, 0, 0, 0, 0, 0, 1, 0, 0, 0, 0, 0, 0, 0, 0, 0, 0, 0, 0, 0, 0, 0, 0, 0, 0, 0, 0, 0, 0, 0, 0, 0, 0, 0, 0, 0, 0, 0, 0, 0, 0, 0, 0, 0, 0, 0, 0, 0, 0, 0, 0, 0, 0, 0, 0, 0, 0, 0, 0, 1, 0, 0, 1, 0, 1, 0, 0, 1], 8), ([0, 0], 5), ([1, 0, 1, 1, 0, 0, 0, 1], 4), ([1], 1), ([1, 1, 0, 1, 0, 0, 0, 1, 0, 0, 1, 0, 0, 0, 0, 0, 0, 0, 0, 0, 1, 0, 0, 0, 0, 0, 1, 0, 0, 0, 0, 0, 0, 0, 0, 0, 0, 0, 0, 0, 0, 0, 0, 0, 0, 0, 0, 0, 0, 0, 0, 0, 0, 0, 0, 0, 0, 0, 0, 0, 0, 0, 0, 0, 0, 0], 8), ([1, 1, 0, 0, 0, 0, 0, 0, 0, 1], 3), ([1, 1, 1, 1, 1, 0, 0, 0, 0, 0, 0, 0, 0, 0, 0, 0, 0, 0, 0, 1, 0, 0, 0, 0, 0, 0, 1, 0, 0, 0, 0, 0, 0, 0, 0, 0, 0, 0, 0, 0, 0, 0, 0, 0, 0, 0, 0, 0, 0, 0, 0, 0, 0, 0, 0, 0, 0, 0, 0, 0, 0, 0, 0, 0, 0, 0, 0, 0, 0, 0, 0], 12), ([1, 1, 1, 1, 1], 5), ([1], 1), ([1, 1, 0, 1, 0, 1, 0, 0, 0, 0, 0, 0, 0, 0, 0, 0, 0, 0, 0, 0, 0, 0, 0, 0, 0, 1, 0, 0, 0, 0, 0, 0, 0, 0, 0, 0, 0, 0, 0, 0, 0, 0, 0, 0, 0, 0, 0, 0, 1, 0, 1, 0, 0, 0, 0, 0, 0, 0, 0, 0, 0, 0, 0, 0, 0, 0, 0, 0, 0, 0, 0, 0, 0, 0, 0, 0, 0, 0, 1, 0, 0, 0, 0, 0, 0, 0, 0, 1], 10), ([1, 0, 0, 1, 0, 0, 0, 0, 0], 3), ([1, 0, 1, 0, 0, 0, 0, 1, 0, 0, 0, 0, 0, 1, 1, 0, 0, 0, 0, 0, 0, 0, 0, 0, 1, 0, 0, 0, 0, 0, 0, 0, 0, 0, 0, 0, 0, 0, 0, 0, 0, 0, 0, 0, 0, 0, 0, 0, 0, 0, 0, 0, 0, 0, 0, 0, 0, 0, 0, 0, 0, 0, 0, 0, 0, 0, 0, 0, 0, 0, 0, 0, 0, 0, 0, 0, 0, 0, 0, 0, 0, 0, 0, 1, 0, 0, 0, 0, 0, 0, 1], 8), ([1, 1, 1, 1, 0, 0, 1, 1, 1, 1, 0, 0, 0, 0, 1], 9), ([1, 1, 1, 1, 1, 1], 7), ([1, 1, 0, 0, 0, 0, 0, 0, 0, 0, 0, 0, 0, 0, 0, 0, 0, 0, 0, 0, 0, 0, 0, 0, 0, 0, 0, 1], 3), ([1, 1, 1, 1, 0, 1, 0, 0, 1, 1, 1, 0, 0, 0, 0, 1, 0, 1], 10), ([1, 1, 1, 1, 1, 1, 0, 0, 0, 0, 1, 0, 0, 0, 0, 0, 0, 0, 0, 0, 1], 8), ([1, 1, 1, 0, 0, 0, 0, 0, 0, 0, 0, 0, 0, 1, 0, 0, 0, 0, 0, 1, 0, 0, 0, 0, 0, 0, 1], 6)]\n",
      "1\n",
      "lista [1, 1, 0, 0, 0, 0, 0, 0, 1]\n",
      "R: 3\n",
      "Encontró todos True\n",
      "precisionav 0.7777777777777778\n",
      "2\n",
      "lista [1, 1, 1, 1, 1, 0, 1, 0, 0, 0, 0, 0, 0, 0, 0, 1, 1, 0, 0, 0, 0, 1, 0, 0, 0, 0, 0, 0, 0, 1, 0, 0, 0, 0, 0, 0, 0, 0, 0, 0, 0, 0, 0, 0, 0, 0, 0, 0, 0, 0, 0, 0, 0, 0, 0, 0, 0, 0, 0, 0, 0, 0, 0, 0, 0, 0, 0, 0, 0, 0, 0, 0, 0, 0, 0, 0, 0, 0, 0, 0, 0, 0, 0, 0, 0, 0, 0, 0, 0, 0, 0, 0, 0, 0, 0, 0, 0, 0, 0, 0, 0, 1]\n",
      "R: 11\n",
      "Encontró todos True\n",
      "precisionav 0.6923180429196472\n",
      "3\n",
      "lista [1, 1, 1, 1, 1, 1]\n",
      "R: 6\n",
      "Encontró todos True\n",
      "precisionav 1.0\n",
      "4\n",
      "lista [1, 1, 1, 1, 1, 1, 0, 0, 0, 0, 0, 0, 0, 1]\n",
      "R: 7\n",
      "Encontró todos True\n",
      "precisionav 0.9285714285714286\n",
      "5\n",
      "lista [1, 1, 1, 1, 1, 0, 1]\n",
      "R: 6\n",
      "Encontró todos True\n",
      "precisionav 0.9761904761904762\n",
      "6\n",
      "lista [1, 0, 0, 0, 0, 0, 0, 0, 0, 0, 0, 0, 0, 0, 0, 0, 0, 0, 0, 0, 0, 0, 0, 0]\n",
      "R: 4\n",
      "Encontró todos False\n",
      "precisionav 0.25\n",
      "7\n",
      "lista [1, 1, 1, 1, 1, 1, 1, 0, 0, 1, 1, 0, 1, 0, 0, 0, 0, 0, 0, 0, 0, 0, 0, 0, 0, 0, 0, 0, 1, 0, 0, 0, 0, 0, 0, 0, 0, 0, 0, 0, 0, 0, 0, 0, 0, 0, 0, 0, 0, 0, 0, 0, 0, 0, 0, 0, 0, 0, 0, 0, 0, 0, 0, 0, 0, 0, 0, 0, 0, 0, 0, 0, 0, 0, 0, 0, 0, 0, 0, 0, 0, 0, 0, 0, 0, 0, 0, 0, 0, 0, 0, 0, 0, 0, 0, 0]\n",
      "R: 12\n",
      "Encontró todos False\n",
      "precisionav 0.813893577686681\n",
      "8\n",
      "lista [1, 1, 1, 1, 0, 1, 1]\n",
      "R: 6\n",
      "Encontró todos True\n",
      "precisionav 0.9484126984126983\n",
      "9\n",
      "lista [1, 0, 1, 0, 1, 0, 1, 0, 0, 0, 0, 0, 0, 0, 0, 0, 0, 0, 0, 1, 0, 0, 0, 0, 0, 0, 0, 0, 0, 0, 0, 0, 0, 0, 0, 0, 0, 0, 0, 0, 0, 0, 0, 0, 0, 0, 0, 0, 0, 0, 0, 0, 0, 0, 0, 0, 0, 0, 0, 0, 0, 0, 0, 0, 0, 0, 0, 0, 0, 0, 0, 0, 0, 0, 0, 0, 0, 0, 0, 0, 0, 0, 0, 0, 0, 0, 0, 0, 0, 0, 1, 0, 0, 0, 0, 0, 0, 0, 0, 0, 0, 0, 0, 0, 0, 0, 0, 0, 0, 0, 0, 0, 0, 0, 0, 0, 0, 0, 0, 0, 0, 0, 0, 0, 0, 0, 0, 0, 0, 0, 0, 1, 0, 0, 0, 0, 0, 0, 0, 0, 0, 0, 0, 0, 0, 0, 0, 0, 0, 0, 0, 0, 0, 1]\n",
      "R: 8\n",
      "Encontró todos True\n",
      "precisionav 0.4073759573759574\n",
      "10\n",
      "lista [1, 1, 1, 0, 0, 0, 0, 0, 0, 0, 0, 0, 0, 0, 0, 0, 0, 0, 0, 0, 0, 1]\n",
      "R: 4\n",
      "Encontró todos True\n",
      "precisionav 0.7954545454545454\n",
      "11\n",
      "lista [1, 1, 1, 0, 0, 0, 0, 0, 0, 0, 0, 0, 0, 0, 0, 0, 0, 0, 0, 0, 0, 0, 0, 0, 0, 0, 0, 0, 0, 1, 1]\n",
      "R: 5\n",
      "Encontró todos True\n",
      "precisionav 0.6589247311827957\n",
      "12\n",
      "lista [0, 1, 1, 0, 1, 0, 0, 0, 0, 0, 1, 1, 0, 0, 0, 1, 0, 0, 0, 1, 1, 1, 1, 1, 0, 0, 0, 0, 0, 0, 0, 0, 1]\n",
      "R: 12\n",
      "Encontró todos True\n",
      "precisionav 0.443230441056528\n",
      "13\n",
      "lista [0, 1, 0, 0, 1]\n",
      "R: 2\n",
      "Encontró todos True\n",
      "precisionav 0.45\n",
      "14\n",
      "lista [1, 1, 0, 1, 0, 0, 0, 0, 0, 0, 0, 0, 0, 0, 0, 0, 0, 0, 0, 0]\n",
      "R: 4\n",
      "Encontró todos False\n",
      "precisionav 0.6875\n",
      "15\n",
      "lista [1, 1, 1, 1, 0, 1, 1, 0, 0, 0, 0, 0, 0, 0, 0, 0, 0]\n",
      "R: 7\n",
      "Encontró todos False\n",
      "precisionav 0.8129251700680271\n",
      "16\n",
      "lista [1, 0, 0, 0, 0, 0, 0, 0, 0, 0, 0, 0, 0, 0, 0, 0, 0, 0, 0, 0, 0, 0, 0, 0, 0, 0, 0, 0, 0, 0, 0, 0, 0, 0, 0, 0, 0, 0, 0, 0, 0, 0, 0, 0, 0, 0, 0, 0, 0, 0, 0, 0, 0, 0, 0, 0, 0, 0, 0, 0]\n",
      "R: 2\n",
      "Encontró todos False\n",
      "precisionav 0.5\n",
      "17\n",
      "lista [1, 0, 1, 1, 1, 0, 0, 0, 0, 0, 0, 0, 0, 0, 0, 0, 0, 1, 0, 0, 0, 0, 0, 0, 0, 0, 1, 0, 0, 0, 0, 0, 0, 0, 0, 0, 0, 0, 0, 0, 0, 0, 0, 0, 0, 0, 0, 0, 0, 0, 0, 0, 0, 0, 0, 0, 0, 0, 0, 0, 0, 0, 0, 0, 0, 0, 0, 0, 0, 0, 0, 0, 0, 0, 0, 0, 0, 0, 0, 0, 0, 0, 0, 0, 0, 0, 0, 0, 0, 0, 0, 0, 0, 0, 0, 0, 0, 0, 0, 0, 0, 0, 0, 0, 0, 0, 0, 0, 0, 0, 0, 0, 0, 0, 0, 0, 0, 0, 0, 0, 0, 0, 0, 1]\n",
      "R: 7\n",
      "Encontró todos True\n",
      "precisionav 0.5390168970814132\n",
      "18\n",
      "lista [1, 1, 0, 0, 0, 0, 0, 0, 0, 0, 0, 0, 0, 0, 0, 0, 0, 0, 0, 0, 0, 0, 0, 0, 0, 0, 0, 0, 0, 0, 0, 0, 0, 0, 0, 0, 0, 0, 0, 0, 0, 0, 0, 0, 0, 1, 0, 0, 0, 0, 0, 0, 0, 0, 0, 0, 0, 0, 0, 0, 0, 0, 0, 0, 0, 0, 1, 0, 0, 0, 0, 0, 0, 0, 0, 0, 0, 0, 0, 0, 0, 0, 0, 0, 0, 0, 0, 0, 0, 0, 0, 0, 0, 0, 0, 0, 0, 0, 0, 0, 0, 0, 0, 0, 0, 0, 0, 0, 0, 0, 0, 0, 0, 0, 0, 0, 0, 0, 0, 1, 0, 0, 1, 0, 1, 0, 0, 1]\n",
      "R: 8\n",
      "Encontró todos True\n",
      "precisionav 0.29173325478915074\n",
      "19\n",
      "lista [0, 0]\n",
      "R: 5\n",
      "Encontró todos False\n",
      "precisionav 0.0\n",
      "20\n",
      "lista [1, 0, 1, 1, 0, 0, 0, 1]\n",
      "R: 4\n",
      "Encontró todos True\n",
      "precisionav 0.7291666666666666\n",
      "21\n",
      "lista [1]\n",
      "R: 1\n",
      "Encontró todos True\n",
      "precisionav 1.0\n",
      "22\n",
      "lista [1, 1, 0, 1, 0, 0, 0, 1, 0, 0, 1, 0, 0, 0, 0, 0, 0, 0, 0, 0, 1, 0, 0, 0, 0, 0, 1, 0, 0, 0, 0, 0, 0, 0, 0, 0, 0, 0, 0, 0, 0, 0, 0, 0, 0, 0, 0, 0, 0, 0, 0, 0, 0, 0, 0, 0, 0, 0, 0, 0, 0, 0, 0, 0, 0, 0]\n",
      "R: 8\n",
      "Encontró todos False\n",
      "precisionav 0.5311898749398749\n",
      "23\n",
      "lista [1, 1, 0, 0, 0, 0, 0, 0, 0, 1]\n",
      "R: 3\n",
      "Encontró todos True\n",
      "precisionav 0.7666666666666666\n",
      "24\n",
      "lista [1, 1, 1, 1, 1, 0, 0, 0, 0, 0, 0, 0, 0, 0, 0, 0, 0, 0, 0, 1, 0, 0, 0, 0, 0, 0, 1, 0, 0, 0, 0, 0, 0, 0, 0, 0, 0, 0, 0, 0, 0, 0, 0, 0, 0, 0, 0, 0, 0, 0, 0, 0, 0, 0, 0, 0, 0, 0, 0, 0, 0, 0, 0, 0, 0, 0, 0, 0, 0, 0, 0]\n",
      "R: 12\n",
      "Encontró todos False\n",
      "precisionav 0.46327160493827163\n",
      "25\n",
      "lista [1, 1, 1, 1, 1]\n",
      "R: 5\n",
      "Encontró todos True\n",
      "precisionav 1.0\n",
      "26\n",
      "lista [1]\n",
      "R: 1\n",
      "Encontró todos True\n",
      "precisionav 1.0\n",
      "27\n",
      "lista [1, 1, 0, 1, 0, 1, 0, 0, 0, 0, 0, 0, 0, 0, 0, 0, 0, 0, 0, 0, 0, 0, 0, 0, 0, 1, 0, 0, 0, 0, 0, 0, 0, 0, 0, 0, 0, 0, 0, 0, 0, 0, 0, 0, 0, 0, 0, 0, 1, 0, 1, 0, 0, 0, 0, 0, 0, 0, 0, 0, 0, 0, 0, 0, 0, 0, 0, 0, 0, 0, 0, 0, 0, 0, 0, 0, 0, 0, 1, 0, 0, 0, 0, 0, 0, 0, 0, 1]\n",
      "R: 10\n",
      "Encontró todos False\n",
      "precisionav 0.4072216790584518\n",
      "28\n",
      "lista [1, 0, 0, 1, 0, 0, 0, 0, 0]\n",
      "R: 3\n",
      "Encontró todos False\n",
      "precisionav 0.5\n",
      "29\n",
      "lista [1, 0, 1, 0, 0, 0, 0, 1, 0, 0, 0, 0, 0, 1, 1, 0, 0, 0, 0, 0, 0, 0, 0, 0, 1, 0, 0, 0, 0, 0, 0, 0, 0, 0, 0, 0, 0, 0, 0, 0, 0, 0, 0, 0, 0, 0, 0, 0, 0, 0, 0, 0, 0, 0, 0, 0, 0, 0, 0, 0, 0, 0, 0, 0, 0, 0, 0, 0, 0, 0, 0, 0, 0, 0, 0, 0, 0, 0, 0, 0, 0, 0, 0, 1, 0, 0, 0, 0, 0, 0, 1]\n",
      "R: 8\n",
      "Encontró todos True\n",
      "precisionav 0.3839949633699634\n",
      "30\n",
      "lista [1, 1, 1, 1, 0, 0, 1, 1, 1, 1, 0, 0, 0, 0, 1]\n",
      "R: 9\n",
      "Encontró todos True\n",
      "precisionav 0.8491181657848323\n",
      "31\n",
      "lista [1, 1, 1, 1, 1, 1]\n",
      "R: 7\n",
      "Encontró todos False\n",
      "precisionav 0.8571428571428571\n",
      "32\n",
      "lista [1, 1, 0, 0, 0, 0, 0, 0, 0, 0, 0, 0, 0, 0, 0, 0, 0, 0, 0, 0, 0, 0, 0, 0, 0, 0, 0, 1]\n",
      "R: 3\n",
      "Encontró todos True\n",
      "precisionav 0.7023809523809524\n",
      "33\n",
      "lista [1, 1, 1, 1, 0, 1, 0, 0, 1, 1, 1, 0, 0, 0, 0, 1, 0, 1]\n",
      "R: 10\n",
      "Encontró todos True\n",
      "precisionav 0.8045328282828283\n",
      "34\n",
      "lista [1, 1, 1, 1, 1, 1, 0, 0, 0, 0, 1, 0, 0, 0, 0, 0, 0, 0, 0, 0, 1]\n",
      "R: 8\n",
      "Encontró todos True\n",
      "precisionav 0.8771645021645023\n",
      "35\n",
      "lista [1, 1, 1, 0, 0, 0, 0, 0, 0, 0, 0, 0, 0, 1, 0, 0, 0, 0, 0, 1, 0, 0, 0, 0, 0, 0, 1]\n",
      "R: 6\n",
      "Encontró todos True\n",
      "precisionav 0.6263227513227513\n",
      "23.47149851128574\n",
      "0.6706142431795926\n"
     ]
    }
   ],
   "source": [
    "def map_for_RRI(RRI,relevance):\n",
    "    \"\"\"\n",
    "    DocString\n",
    "    :return: Nothing\n",
    "    \"\"\"\n",
    "    precisions = []\n",
    "    for query in RRI.items():\n",
    "        binary_score, M = make_binary_score_extended(query,relevance)\n",
    "        precisions.append((binary_score,M))\n",
    "    print(precisions)\n",
    "    map = mean_avg_precision(precisions)\n",
    "    return map\n",
    "\n",
    "map = map_for_RRI(RRI,relevance)\n",
    "print(map)"
   ],
   "metadata": {
    "collapsed": false,
    "pycharm": {
     "name": "#%%\n"
    }
   }
  },
  {
   "cell_type": "code",
   "execution_count": 88,
   "outputs": [
    {
     "name": "stdout",
     "output_type": "stream",
     "text": [
      "([5, 5, 0], [5, 5, 4], 3)\n"
     ]
    }
   ],
   "source": [
    "def make_non_binary_score(query_tuple,relevance):\n",
    "    query = query_tuple[0]\n",
    "    ranking = query_tuple[1]\n",
    "    non_binary_score = []\n",
    "    M = len(relevance[query])\n",
    "    i=1;\n",
    "    for document, score in ranking.items():\n",
    "        if i>M:\n",
    "            break\n",
    "        if document in relevance[query]:\n",
    "            non_binary_score.append(relevance[query][document])\n",
    "        else:\n",
    "            non_binary_score.append(0)\n",
    "        i += 1\n",
    "    rel_sorted = [rel for doc,rel in relevance[query].items() ]\n",
    "    rel_sorted = sorted(rel_sorted, reverse=True)\n",
    "    return non_binary_score, rel_sorted, M\n",
    "\n",
    "query1 = list(RRI.items())[0]\n",
    "prueba = make_non_binary_score(query1,relevance)\n",
    "print(prueba)"
   ],
   "metadata": {
    "collapsed": false,
    "pycharm": {
     "name": "#%%\n"
    }
   }
  },
  {
   "cell_type": "code",
   "execution_count": 89,
   "outputs": [
    {
     "name": "stdout",
     "output_type": "stream",
     "text": [
      "{'q01': 0.7984848580994974, 'q02': 0.6372452055109703, 'q03': 0.9125990044855482, 'q04': 0.8375872815409342, 'q06': 0.9135933534799239, 'q07': 0.3373519727104165, 'q08': 0.8723596292045686, 'q09': 0.8233822119089756, 'q10': 0.474468013427548, 'q12': 0.7920776427801035, 'q13': 0.8326604750636971, 'q14': 0.45808996246537376, 'q16': 0.6, 'q17': 0.8770340301127121, 'q18': 0.923510185194647, 'q19': 0.7142857142857143, 'q22': 0.5988077017638601, 'q23': 0.6037460821441866, 'q24': 0.0, 'q25': 0.6626480272895834, 'q26': 1.0, 'q27': 0.7659193871914459, 'q28': 0.8086698088039842, 'q29': 0.6466281557910287, 'q32': 0.9947696772861268, 'q34': 1.0, 'q36': 0.5403756309698909, 'q37': 0.539848396117854, 'q38': 0.3732229932956358, 'q40': 0.7624284400989726, 'q41': 0.7698204997888964, 'q42': 0.8472668887613066, 'q44': 0.797139952349211, 'q45': 0.8922521020745832, 'q46': 0.7337495705923308}\n",
      "0.7183435101311293\n"
     ]
    }
   ],
   "source": [
    "def ndcg_for_RRI(RRI,relevance):\n",
    "    \"\"\"\n",
    "    DocString\n",
    "    :return: Nothing\n",
    "    \"\"\"\n",
    "    ndcgs = {}\n",
    "    for query in RRI.items():\n",
    "        non_binary_score, rel_sorted, M  = make_non_binary_score(query,relevance)\n",
    "        #print(non_binary_score)\n",
    "        ndcgs[query[0]] = ndcg_at_k(non_binary_score, rel_sorted, M)\n",
    "    return ndcgs\n",
    "\n",
    "ndcg = ndcg_for_RRI(RRI,relevance)\n",
    "print(ndcg)\n",
    "\n",
    "av_ndgc = 0\n",
    "for key,val in ndcg.items():\n",
    "    av_ndgc += val\n",
    "print(av_ndgc/len(ndcg))"
   ],
   "metadata": {
    "collapsed": false,
    "pycharm": {
     "name": "#%%\n"
    }
   }
  },
  {
   "cell_type": "code",
   "execution_count": 90,
   "outputs": [
    {
     "data": {
      "text/plain": "['d254', 'd016', 'd085', 'd185', 'd209']"
     },
     "execution_count": 90,
     "metadata": {},
     "output_type": "execute_result"
    }
   ],
   "source": [
    "def RRI_simplifier(RRI):\n",
    "    result = {}\n",
    "    for qid,scores in RRI.items():\n",
    "        docs = []\n",
    "        for k,v in scores.items():\n",
    "            docs.append(k)\n",
    "        result[qid]=docs\n",
    "    return result\n",
    "\n",
    "\n",
    "results = RRI_simplifier(RRI)\n",
    "results['q01'][:5]\n"
   ],
   "metadata": {
    "collapsed": false,
    "pycharm": {
     "name": "#%%\n"
    }
   }
  },
  {
   "cell_type": "markdown",
   "source": [
    "## Evaluation"
   ],
   "metadata": {
    "collapsed": false
   }
  },
  {
   "cell_type": "code",
   "execution_count": 91,
   "outputs": [
    {
     "name": "stdout",
     "output_type": "stream",
     "text": [
      "{'d136': '2', 'd139': '2', 'd143': '4', 'd147': '2', 'd149': '2', 'd164': '4', 'd228': '4', 'd283': '4', 'd291': '4', 'd293': '4', 'd318': '2'}\n"
     ]
    }
   ],
   "source": [
    "def read_judgemnts_file():\n",
    "    \"\"\"\n",
    "    DocString\n",
    "    :return: Nothing\n",
    "    \"\"\"\n",
    "    document_path = os.path.join(os.getcwd(), 'docs/relevance-judgments.tsv')\n",
    "    tsv_file = open(document_path)\n",
    "    read_tsv = csv.reader(tsv_file, delimiter=\"\\t\")\n",
    "    relevance = {}\n",
    "    for row in read_tsv:\n",
    "        documents = row[1].split(',')\n",
    "        query_relevance = {pair.split(':')[0] : pair.split(':')[1] for pair in documents }\n",
    "        query_relevance = dict(sorted(query_relevance.items(), key=lambda item: item[0]))\n",
    "        relevance[row[0]] = query_relevance\n",
    "    return relevance\n",
    "\n",
    "\n",
    "relevance = read_judgemnts_file()\n",
    "print(relevance['q02'])"
   ],
   "metadata": {
    "collapsed": false,
    "pycharm": {
     "name": "#%%\n"
    }
   }
  },
  {
   "cell_type": "code",
   "execution_count": 92,
   "outputs": [
    {
     "data": {
      "text/plain": "[0, 1, 1, 1, 0, 0, 0, 1, 0, 1, 1]"
     },
     "execution_count": 92,
     "metadata": {},
     "output_type": "execute_result"
    }
   ],
   "source": [
    "def make_binary_result(results, relevant_res):\n",
    "    bin_relevant = {}\n",
    "    rel_scale_repr = {}\n",
    "    map_relevant_docs = {}\n",
    "    for query, relevant_docs in relevant_res.items():\n",
    "        bin_repr = []\n",
    "        scaled_repr = []\n",
    "        map_repr = []\n",
    "        i = 0\n",
    "        M = len(relevant_docs)\n",
    "        for doc_id, rel_scale in relevant_docs.items():\n",
    "            bin = 1 if doc_id in results[query][:M] else 0\n",
    "            bin_repr.append(bin)\n",
    "            scaled_repr.append(bin * int(rel_scale))\n",
    "            if i < M:\n",
    "                i += 1\n",
    "                map_repr.append(bin)\n",
    "        bin_relevant[query] = bin_repr\n",
    "        rel_scale_repr[query] = scaled_repr\n",
    "        map_relevant_docs[query] = [map_repr, M]\n",
    "    return bin_relevant, rel_scale_repr, map_relevant_docs\n",
    "\n",
    "bin_results, scaled_results, map_relevant_docs = make_binary_result(results, relevance)\n",
    "bin_results['q02']"
   ],
   "metadata": {
    "collapsed": false,
    "pycharm": {
     "name": "#%%\n"
    }
   }
  },
  {
   "cell_type": "code",
   "execution_count": 93,
   "outputs": [
    {
     "data": {
      "text/plain": "[0, 2, 4, 2, 0, 0, 0, 4, 0, 4, 2]"
     },
     "execution_count": 93,
     "metadata": {},
     "output_type": "execute_result"
    }
   ],
   "source": [
    "scaled_results['q02']"
   ],
   "metadata": {
    "collapsed": false,
    "pycharm": {
     "name": "#%%\n"
    }
   }
  },
  {
   "cell_type": "markdown",
   "source": [
    "### Definition of IR metrics functions"
   ],
   "metadata": {
    "collapsed": false
   }
  },
  {
   "cell_type": "code",
   "execution_count": 94,
   "outputs": [
    {
     "data": {
      "text/plain": "0.35468253968253965"
     },
     "execution_count": 94,
     "metadata": {},
     "output_type": "execute_result"
    }
   ],
   "source": [
    "def precision_at_k(relevance: list, k: int):\n",
    "    \"\"\"\n",
    "    DocString\n",
    "    :return: Nothing\n",
    "    \"\"\"\n",
    "    if k == 0:\n",
    "        return 0\n",
    "    l = np.array(relevance[:k]).sum()/k\n",
    "    return l\n",
    "\n",
    "def recall_at_k(relevance: list, nr_relevant: int, k: int):\n",
    "    \"\"\"\n",
    "    DocString\n",
    "    :return: Nothing\n",
    "    \"\"\"\n",
    "    l = np.array(relevance[:k]).sum()/nr_relevant\n",
    "    return l\n",
    "\n",
    "def average_precision(relevance):\n",
    "    \"\"\"\n",
    "    DocString\n",
    "    :return: Nothing\n",
    "    \"\"\"\n",
    "\n",
    "    length = len(relevance[0])\n",
    "    sum = 0\n",
    "    for i in range(length):\n",
    "        if relevance[0][i]:\n",
    "            sum += precision_at_k(relevance[0], i+1)\n",
    "    if np.array(relevance[0]).sum()==0:\n",
    "        return 0\n",
    "    else:\n",
    "        return sum / relevance[1]\n",
    "\n",
    "def mean_avg_precision(l):\n",
    "    \"\"\"\n",
    "    DocString\n",
    "    :return: Nothing\n",
    "    \"\"\"\n",
    "    mean = np.array([ average_precision(lista) for lista in l]).mean()\n",
    "    return mean\n",
    "\n",
    "mean_avg_precision([[[0, 0, 0, 0, 0, 0, 1], 1], [[0, 0, 0, 1, 1], 2], [[0, 1, 0, 1, 1, 1, 1], 5]])"
   ],
   "metadata": {
    "collapsed": false,
    "pycharm": {
     "name": "#%%\n"
    }
   }
  },
  {
   "cell_type": "code",
   "execution_count": 95,
   "outputs": [
    {
     "data": {
      "text/plain": "0.7424602308163405"
     },
     "execution_count": 95,
     "metadata": {},
     "output_type": "execute_result"
    }
   ],
   "source": [
    "def dcg_at_k(relevance, k: int):\n",
    "    \"\"\"\n",
    "    DocString\n",
    "    :return: Nothing\n",
    "    \"\"\"\n",
    "\n",
    "    sum = 0\n",
    "    i =  0\n",
    "    for rel_i in relevance[: k]:\n",
    "        i+= 1\n",
    "        sum += rel_i/np.log2(max(i, 2))\n",
    "\n",
    "    return sum\n",
    "\n",
    "dcg_at_k([4, 4, 3, 0, 0, 1, 3, 3, 3, 0], 6)\n",
    "\n",
    "def ndcg_at_k(relevance, k):\n",
    "    \"\"\"\n",
    "    DocString\n",
    "    :return: Nothing\n",
    "    \"\"\"\n",
    "    rel_sorted = sorted(relevance, reverse=True)\n",
    "    max = dcg_at_k(rel_sorted, k)\n",
    "    real = dcg_at_k(relevance, k)\n",
    "\n",
    "    return real/ max\n",
    "\n",
    "\n",
    "ndcg_at_k([4, 4, 3, 0, 0, 1, 3, 3, 3, 0], 6)"
   ],
   "metadata": {
    "collapsed": false,
    "pycharm": {
     "name": "#%%\n"
    }
   }
  },
  {
   "cell_type": "code",
   "execution_count": 96,
   "outputs": [
    {
     "name": "stdout",
     "output_type": "stream",
     "text": [
      "0.6666666666666666\n"
     ]
    }
   ],
   "source": [
    "print(recall_at_k(bin_results['q01'], 3, 3))\n"
   ],
   "metadata": {
    "collapsed": false,
    "pycharm": {
     "name": "#%%\n"
    }
   }
  },
  {
   "cell_type": "markdown",
   "source": [
    "## Compute Evaluation Metrics for each query"
   ],
   "metadata": {
    "collapsed": false
   }
  },
  {
   "cell_type": "code",
   "execution_count": 99,
   "outputs": [
    {
     "name": "stderr",
     "output_type": "stream",
     "text": [
      "<ipython-input-95-b9586156bffd>:26: RuntimeWarning: invalid value encountered in double_scalars\n",
      "  return real/ max\n"
     ]
    },
    {
     "data": {
      "text/plain": "          P@M       R@M    NDCG@M\nq01  0.666667  0.666667  0.815465\nq02  0.545455  0.545455  0.656543\nq03  1.000000  1.000000  0.874220\nq04  0.857143  0.857143  0.933486\nq06  0.833333  0.833333  0.763466\nq07  0.250000  0.250000  1.000000\nq08  0.750000  0.750000  0.842140\nq09  0.833333  0.833333  0.894663\nq10  0.500000  0.500000  0.642423\nq12  0.750000  0.750000  0.797833",
      "text/html": "<div>\n<style scoped>\n    .dataframe tbody tr th:only-of-type {\n        vertical-align: middle;\n    }\n\n    .dataframe tbody tr th {\n        vertical-align: top;\n    }\n\n    .dataframe thead th {\n        text-align: right;\n    }\n</style>\n<table border=\"1\" class=\"dataframe\">\n  <thead>\n    <tr style=\"text-align: right;\">\n      <th></th>\n      <th>P@M</th>\n      <th>R@M</th>\n      <th>NDCG@M</th>\n    </tr>\n  </thead>\n  <tbody>\n    <tr>\n      <th>q01</th>\n      <td>0.666667</td>\n      <td>0.666667</td>\n      <td>0.815465</td>\n    </tr>\n    <tr>\n      <th>q02</th>\n      <td>0.545455</td>\n      <td>0.545455</td>\n      <td>0.656543</td>\n    </tr>\n    <tr>\n      <th>q03</th>\n      <td>1.000000</td>\n      <td>1.000000</td>\n      <td>0.874220</td>\n    </tr>\n    <tr>\n      <th>q04</th>\n      <td>0.857143</td>\n      <td>0.857143</td>\n      <td>0.933486</td>\n    </tr>\n    <tr>\n      <th>q06</th>\n      <td>0.833333</td>\n      <td>0.833333</td>\n      <td>0.763466</td>\n    </tr>\n    <tr>\n      <th>q07</th>\n      <td>0.250000</td>\n      <td>0.250000</td>\n      <td>1.000000</td>\n    </tr>\n    <tr>\n      <th>q08</th>\n      <td>0.750000</td>\n      <td>0.750000</td>\n      <td>0.842140</td>\n    </tr>\n    <tr>\n      <th>q09</th>\n      <td>0.833333</td>\n      <td>0.833333</td>\n      <td>0.894663</td>\n    </tr>\n    <tr>\n      <th>q10</th>\n      <td>0.500000</td>\n      <td>0.500000</td>\n      <td>0.642423</td>\n    </tr>\n    <tr>\n      <th>q12</th>\n      <td>0.750000</td>\n      <td>0.750000</td>\n      <td>0.797833</td>\n    </tr>\n  </tbody>\n</table>\n</div>"
     },
     "execution_count": 99,
     "metadata": {},
     "output_type": "execute_result"
    }
   ],
   "source": [
    "def evaluation_metric(bin_queries, query_index, scaled_results):\n",
    "    \"\"\"\n",
    "\n",
    "    :param bin_queries: Diccionario con valores {query Key: vector}, donde el vector corresponde a una lista\n",
    "    con la representación binaria de un de los resultados encontrados para una query con relación a los dados\n",
    "    en el archivo de evaluación. Ej, para q01, los relevantes son: d186,d254,d016. El RRDV devuelve d254, d016,\n",
    "    d153. Por ende, la representación binaria de q01, en el orden del archivo de evaluación es: [0, 1, 1]\n",
    "    :param query_index: Lista con los ids de las queries. ['qo1', 'qo2', ...]\n",
    "    :param scaled_results:\n",
    "    :return:\n",
    "    \"\"\"\n",
    "    COLUMNS = ['P@M', 'R@M', 'NDCG@M']\n",
    "    records = []\n",
    "    for query, bin_vec in bin_queries.items():\n",
    "        scaled = scaled_results[query]\n",
    "        M = len(bin_vec)\n",
    "        pm = precision_at_k(bin_vec, M)\n",
    "        rm = recall_at_k(bin_vec, M, M)\n",
    "        ndcg = ndcg_at_k(scaled, M)\n",
    "        records.append([pm, rm, ndcg])\n",
    "\n",
    "    return pd.DataFrame.from_records(records, index=query_index, columns=COLUMNS)\n",
    "\n",
    "metrics = evaluation_metric(bin_results, queries_index, scaled_results)\n",
    "metrics.head(10)"
   ],
   "metadata": {
    "collapsed": false,
    "pycharm": {
     "name": "#%%\n"
    }
   }
  },
  {
   "cell_type": "markdown",
   "source": [
    "### MAP"
   ],
   "metadata": {
    "collapsed": false
   }
  },
  {
   "cell_type": "code",
   "execution_count": 100,
   "outputs": [
    {
     "name": "stdout",
     "output_type": "stream",
     "text": [
      "MAP resultante de todas las queries: 0.5325207871333413\n"
     ]
    }
   ],
   "source": [
    "def overall_map(map_relevant_docs):\n",
    "    matrix = [vector for key, vector in map_relevant_docs.items() ]\n",
    "    return mean_avg_precision(matrix)\n",
    "\n",
    "print(f'MAP resultante de todas las queries: {overall_map(map_relevant_docs)}')\n"
   ],
   "metadata": {
    "collapsed": false,
    "pycharm": {
     "name": "#%%\n"
    }
   }
  }
 ],
 "metadata": {
  "kernelspec": {
   "display_name": "Python 3",
   "language": "python",
   "name": "python3"
  },
  "language_info": {
   "codemirror_mode": {
    "name": "ipython",
    "version": 2
   },
   "file_extension": ".py",
   "mimetype": "text/x-python",
   "name": "python",
   "nbconvert_exporter": "python",
   "pygments_lexer": "ipython2",
   "version": "2.7.6"
  }
 },
 "nbformat": 4,
 "nbformat_minor": 0
}