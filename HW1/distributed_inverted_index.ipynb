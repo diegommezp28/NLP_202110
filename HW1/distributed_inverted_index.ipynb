{
 "cells": [
  {
   "cell_type": "code",
   "execution_count": 1,
   "metadata": {
    "ExecuteTime": {
     "end_time": "2021-03-03T18:12:55.849087Z",
     "start_time": "2021-03-03T18:12:54.976153Z"
    }
   },
   "outputs": [],
   "source": [
    "import pandas as pd\n",
    "import numpy as np\n",
    "import findspark\n",
    "import glob\n",
    "import os\n",
    "import re\n",
    "import nltk\n",
    "# nltk.download('stopwords')\n",
    "# nltk.download('punkt')\n",
    "# nltk.download('wordnet')"
   ]
  },
  {
   "cell_type": "code",
   "execution_count": 2,
   "metadata": {
    "ExecuteTime": {
     "end_time": "2021-03-03T18:12:57.930700Z",
     "start_time": "2021-03-03T18:12:55.851716Z"
    }
   },
   "outputs": [],
   "source": [
    "import spacy"
   ]
  },
  {
   "cell_type": "markdown",
   "metadata": {},
   "source": [
    "# Inicialización de SPARK"
   ]
  },
  {
   "cell_type": "code",
   "execution_count": 3,
   "metadata": {
    "ExecuteTime": {
     "end_time": "2021-03-03T18:13:03.169462Z",
     "start_time": "2021-03-03T18:12:58.888979Z"
    }
   },
   "outputs": [],
   "source": [
    "import findspark\n",
    "localizacion_spark = '/opt/spark-2.4.5'\n",
    "findspark.init(localizacion_spark)\n",
    "\n",
    "import pyspark\n",
    "from pyspark import SparkConf\n",
    "from pyspark.sql import SparkSession\n",
    "\n",
    "# numero de cores: 4, memoria ram que se le permite a spark usar: 7GB\n",
    "spark_configurations = SparkConf()\\\n",
    "    .setMaster('local[4]')\\\n",
    "    .setAppName('Tarea_1')\\\n",
    "    .set(\"spark.driver.memory\", \"7g\")\n",
    "\n",
    "sc = pyspark.SparkContext(conf = spark_configurations)\n",
    "\n",
    "\n",
    "spark = SparkSession\\\n",
    "    .builder\\\n",
    "    .master('local[4]')\\\n",
    "    .appName(\"Tarea_1\") \\\n",
    "    .getOrCreate()"
   ]
  },
  {
   "cell_type": "markdown",
   "metadata": {},
   "source": [
    "# Lectura de datos"
   ]
  },
  {
   "cell_type": "code",
   "execution_count": 5,
   "metadata": {
    "ExecuteTime": {
     "end_time": "2021-03-03T18:13:55.087460Z",
     "start_time": "2021-03-03T18:13:48.126404Z"
    }
   },
   "outputs": [
    {
     "name": "stdout",
     "output_type": "stream",
     "text": [
      "('d223', 'Well, I Didn’t Know it was Hard – Happy Birthday Ivan Sutherland.Ivan Sutherland’s Sketchpad (1963) Happy Birthday 74th Ivan Sutherland! The American computer scientist and Internet pioneer has received the Turing Award from the Association for Computing Machinery in 1988 for his invention of Sketchpad, an early predecessor to the sort of graphical user interface that has become ubiquitous in personal computers today. Sketchpad could accept constraints and specified relationships among segments and arcs, including the diameter of arcs. It could draw both horizontal and vertical lines and combine them into figures and shapes. Figures could be copied, moved, rotated, or resized, retaining their basic properties. Sketchpad also had the first window-drawing program and clipping algorithm, which allowed zooming. When asked, “How could you possibly have done the first interactive graphics program, the first non-procedural programming language, the first object oriented software system, all in one year?” Ivan replied: “Well, I didn’t know it was hard.” (Alan Kay, Doing with Images Makes Symbols, 1987) In 1968 he co-founded Evans and Sutherland with his friend and colleague David C. Evans. The company has done pioneering work in the field of real-time hardware, accelerated 3D computer graphics, and printer languages. At yovisto, you might watch Ivan Sutherland together with his brother Bert reminiscing about their collective 100 plus years with computers and electronics in an interview from 2004.')\n"
     ]
    }
   ],
   "source": [
    "def documentReaderSpark(data_path:str, sparkContext):\n",
    "    \"\"\"\n",
    "    DocString\n",
    "    :return: Nothing\n",
    "    \"\"\"\n",
    "    documents = sc\\\n",
    "        .wholeTextFiles(data_path,\n",
    "                        minPartitions=None, \n",
    "                        use_unicode=True)\\\n",
    "        .map(lambda s: (re.search('<public publicId=\"(.*?)\" uri=\"(.*?)\" />',s[1]).group(1),\n",
    "                        s[1].replace(\"\\n\",\"\")\\\n",
    "                            .replace(\"\\xa0\",\" \"))\n",
    "            )\\\n",
    "        .map(lambda s: (s[0],re.search('<raw><!\\[CDATA\\[(.*?)\\]\\]></raw>',s[1]).group(1)))\n",
    "    print(documents.collect()[0])\n",
    "    return documents\n",
    "documents_path = os.path.join('docs', 'docs-raw-texts')\n",
    "documents = documentReaderSpark(documents_path, sc)"
   ]
  },
  {
   "cell_type": "code",
   "execution_count": 6,
   "metadata": {
    "ExecuteTime": {
     "end_time": "2021-03-03T18:14:10.584368Z",
     "start_time": "2021-03-03T18:14:04.618390Z"
    }
   },
   "outputs": [
    {
     "name": "stdout",
     "output_type": "stream",
     "text": [
      "[(('Well', 'd223'), 1), (('I', 'd223'), 1), (('Didn', 'd223'), 1), (('Know', 'd223'), 1), (('Hard', 'd223'), 1), (('Happy', 'd223'), 1), (('Birthday', 'd223'), 1), (('Ivan', 'd223'), 1), (('Sutherland', 'd223'), 1), (('Sketchpad', 'd223'), 1), (('1963', 'd223'), 1), (('Happy', 'd223'), 1), (('Birthday', 'd223'), 1), (('74th', 'd223'), 1), (('Ivan', 'd223'), 1), (('Sutherland', 'd223'), 1), (('The', 'd223'), 1), (('American', 'd223'), 1), (('computer', 'd223'), 1), (('scientist', 'd223'), 1), (('Internet', 'd223'), 1), (('pioneer', 'd223'), 1), (('received', 'd223'), 1), (('Turing', 'd223'), 1), (('Award', 'd223'), 1), (('Association', 'd223'), 1), (('Computing', 'd223'), 1), (('Machinery', 'd223'), 1), (('1988', 'd223'), 1), (('invention', 'd223'), 1), (('Sketchpad', 'd223'), 1), (('early', 'd223'), 1), (('predecessor', 'd223'), 1), (('sort', 'd223'), 1), (('graphical', 'd223'), 1), (('user', 'd223'), 1), (('interface', 'd223'), 1), (('become', 'd223'), 1), (('ubiquitous', 'd223'), 1), (('personal', 'd223'), 1), (('computer', 'd223'), 1), (('today', 'd223'), 1), (('Sketchpad', 'd223'), 1), (('could', 'd223'), 1), (('accept', 'd223'), 1), (('constraint', 'd223'), 1), (('specified', 'd223'), 1), (('relationship', 'd223'), 1), (('among', 'd223'), 1), (('segment', 'd223'), 1), (('arc', 'd223'), 1), (('including', 'd223'), 1), (('diameter', 'd223'), 1), (('arc', 'd223'), 1), (('It', 'd223'), 1), (('could', 'd223'), 1), (('draw', 'd223'), 1), (('horizontal', 'd223'), 1), (('vertical', 'd223'), 1), (('line', 'd223'), 1), (('combine', 'd223'), 1), (('figure', 'd223'), 1), (('shape', 'd223'), 1), (('Figures', 'd223'), 1), (('could', 'd223'), 1), (('copied', 'd223'), 1), (('moved', 'd223'), 1), (('rotated', 'd223'), 1), (('resized', 'd223'), 1), (('retaining', 'd223'), 1), (('basic', 'd223'), 1), (('property', 'd223'), 1), (('Sketchpad', 'd223'), 1), (('also', 'd223'), 1), (('first', 'd223'), 1), (('program', 'd223'), 1), (('clipping', 'd223'), 1), (('algorithm', 'd223'), 1), (('allowed', 'd223'), 1), (('zooming', 'd223'), 1), (('When', 'd223'), 1), (('asked', 'd223'), 1), (('How', 'd223'), 1), (('could', 'd223'), 1), (('possibly', 'd223'), 1), (('done', 'd223'), 1), (('first', 'd223'), 1), (('interactive', 'd223'), 1), (('graphic', 'd223'), 1), (('program', 'd223'), 1), (('first', 'd223'), 1), (('programming', 'd223'), 1), (('language', 'd223'), 1), (('first', 'd223'), 1), (('object', 'd223'), 1), (('oriented', 'd223'), 1), (('software', 'd223'), 1), (('system', 'd223'), 1), (('one', 'd223'), 1), (('year', 'd223'), 1), (('Ivan', 'd223'), 1), (('replied', 'd223'), 1), (('Well', 'd223'), 1), (('I', 'd223'), 1), (('know', 'd223'), 1), (('Alan', 'd223'), 1), (('Kay', 'd223'), 1), (('Doing', 'd223'), 1), (('Images', 'd223'), 1), (('Makes', 'd223'), 1), (('Symbols', 'd223'), 1), (('1987', 'd223'), 1), (('In', 'd223'), 1), (('1968', 'd223'), 1), (('Evans', 'd223'), 1), (('Sutherland', 'd223'), 1), (('friend', 'd223'), 1), (('colleague', 'd223'), 1), (('David', 'd223'), 1), (('Evans', 'd223'), 1), (('The', 'd223'), 1), (('company', 'd223'), 1), (('done', 'd223'), 1), (('pioneering', 'd223'), 1), (('work', 'd223'), 1), (('field', 'd223'), 1), (('hardware', 'd223'), 1), (('accelerated', 'd223'), 1), (('3D', 'd223'), 1), (('computer', 'd223'), 1), (('graphic', 'd223'), 1), (('printer', 'd223'), 1), (('language', 'd223'), 1), (('At', 'd223'), 1), (('yovisto', 'd223'), 1), (('might', 'd223'), 1), (('watch', 'd223'), 1), (('Ivan', 'd223'), 1), (('Sutherland', 'd223'), 1), (('together', 'd223'), 1), (('brother', 'd223'), 1), (('Bert', 'd223'), 1), (('reminiscing', 'd223'), 1), (('collective', 'd223'), 1), (('100', 'd223'), 1), (('plus', 'd223'), 1), (('year', 'd223'), 1), (('computer', 'd223'), 1), (('electronics', 'd223'), 1), (('interview', 'd223'), 1), (('2004', 'd223'), 1)]\n"
     ]
    }
   ],
   "source": [
    "def tokenizationSpark(documents_rdd, use_spacy=False):\n",
    "    \"\"\"\n",
    "    :param documentos:\n",
    "    :return:\n",
    "    \"\"\"\n",
    "    if use_spacy:\n",
    "        nlp_spacy_en = spacy.load('en_core_web_sm')\n",
    "        nltk_lemmaList = documents_rdd\\\n",
    "            .map(lambda s : (s[0], nlp_spacy_en(s[1])))\\\n",
    "            .flatMap(lambda s : [(lemma,s[0]) for lemma in [token.lemma_ for token in s[1]]\n",
    "                                 if nlp_spacy_en.vocab[lemma].is_stop == False\n",
    "                                 and nlp_spacy_en.vocab[lemma].is_punct == False])\\\n",
    "            .map(lambda t : ((t[0], t[1]),1))\n",
    "    else:\n",
    "        nltk_stop_words_en = set(nltk.corpus.stopwords.words(\"english\"))\n",
    "        p_stemmer = nltk.stem.porter.PorterStemmer()\n",
    "        wordnet_lemmatizer = nltk.stem.WordNetLemmatizer()\n",
    "\n",
    "        nltk_lemmaList = documents_rdd\\\n",
    "            .map(lambda s : (s[0], [word for word in nltk.word_tokenize(s[1]) \n",
    "                                    if word.isalnum()]))\\\n",
    "            .flatMap(lambda s : [(token,s[0]) for token in s[1] \n",
    "                                 if token not in nltk_stop_words_en])\\\n",
    "            .map(lambda s : ((wordnet_lemmatizer.lemmatize(s[0]), s[1]),1))\n",
    "    \n",
    "    print(nltk_lemmaList.filter(lambda x : 'd223'==x[0][1]).collect())\n",
    "    return nltk_lemmaList\n",
    "tokenized_docs = tokenizationSpark(documents)\n"
   ]
  },
  {
   "cell_type": "code",
   "execution_count": 7,
   "metadata": {
    "ExecuteTime": {
     "end_time": "2021-03-03T18:14:16.751611Z",
     "start_time": "2021-03-03T18:14:10.589312Z"
    }
   },
   "outputs": [
    {
     "name": "stdout",
     "output_type": "stream",
     "text": [
      "[('program', [['d020', 1], ['d048', 1], ['d071', 1], ['d089', 1], ['d110', 1], ['d123', 1], ['d124', 1], ['d142', 1], ['d182', 2], ['d193', 1], ['d194', 3], ['d195', 4], ['d198', 1], ['d199', 1], ['d200', 1], ['d201', 12], ['d203', 1], ['d206', 1], ['d207', 2], ['d208', 4], ['d209', 1], ['d210', 4], ['d214', 1], ['d215', 1], ['d219', 1], ['d223', 2], ['d241', 1], ['d249', 1], ['d251', 1], ['d253', 1], ['d266', 1], ['d276', 1], ['d280', 1], ['d301', 1], ['d303', 1], ['d304', 1], ['d315', 1], ['d319', 1], ['d322', 1]])]\n"
     ]
    }
   ],
   "source": [
    "def makeInvertedIndexSpark(tokenized_documents_rdd):\n",
    "    \"\"\"\n",
    "    :param documentos:\n",
    "    :return:\n",
    "    \"\"\"\n",
    "    inverted_index = tokenized_documents_rdd\\\n",
    "        .reduceByKey(lambda a, b : a+b )\\\n",
    "        .map(lambda s : (s[0][0], [[s[0][1],s[1]]]))\\\n",
    "        .reduceByKey(lambda a, b : sorted(a+b) )\n",
    "    print(inverted_index.filter(lambda x : 'program'==x[0]).collect())\n",
    "    return inverted_index\n",
    "inverted_index = makeInvertedIndexSpark(tokenized_docs)"
   ]
  },
  {
   "cell_type": "code",
   "execution_count": 8,
   "metadata": {
    "ExecuteTime": {
     "end_time": "2021-03-03T18:14:30.759536Z",
     "start_time": "2021-03-03T18:14:30.208150Z"
    }
   },
   "outputs": [],
   "source": [
    "# se termina la sesion de spark\n",
    "sc.stop()"
   ]
  },
  {
   "cell_type": "code",
   "execution_count": null,
   "metadata": {},
   "outputs": [],
   "source": []
  }
 ],
 "metadata": {
  "hide_input": false,
  "kernelspec": {
   "display_name": "Python 3",
   "language": "python",
   "name": "python3"
  },
  "language_info": {
   "codemirror_mode": {
    "name": "ipython",
    "version": 3
   },
   "file_extension": ".py",
   "mimetype": "text/x-python",
   "name": "python",
   "nbconvert_exporter": "python",
   "pygments_lexer": "ipython3",
   "version": "3.6.8"
  },
  "latex_envs": {
   "LaTeX_envs_menu_present": true,
   "autoclose": false,
   "autocomplete": true,
   "bibliofile": "biblio.bib",
   "cite_by": "apalike",
   "current_citInitial": 1,
   "eqLabelWithNumbers": true,
   "eqNumInitial": 1,
   "hotkeys": {
    "equation": "Ctrl-E",
    "itemize": "Ctrl-I"
   },
   "labels_anchors": false,
   "latex_user_defs": false,
   "report_style_numbering": false,
   "user_envs_cfg": false
  },
  "toc": {
   "base_numbering": 1,
   "nav_menu": {},
   "number_sections": true,
   "sideBar": true,
   "skip_h1_title": false,
   "title_cell": "Table of Contents",
   "title_sidebar": "Contents",
   "toc_cell": false,
   "toc_position": {},
   "toc_section_display": true,
   "toc_window_display": true
  },
  "varInspector": {
   "cols": {
    "lenName": 16,
    "lenType": 16,
    "lenVar": 40
   },
   "kernels_config": {
    "python": {
     "delete_cmd_postfix": "",
     "delete_cmd_prefix": "del ",
     "library": "var_list.py",
     "varRefreshCmd": "print(var_dic_list())"
    },
    "r": {
     "delete_cmd_postfix": ") ",
     "delete_cmd_prefix": "rm(",
     "library": "var_list.r",
     "varRefreshCmd": "cat(var_dic_list()) "
    }
   },
   "types_to_exclude": [
    "module",
    "function",
    "builtin_function_or_method",
    "instance",
    "_Feature"
   ],
   "window_display": false
  }
 },
 "nbformat": 4,
 "nbformat_minor": 2
}
