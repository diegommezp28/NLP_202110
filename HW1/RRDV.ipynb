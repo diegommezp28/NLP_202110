{
 "cells": [
  {
   "cell_type": "code",
   "execution_count": 61,
   "metadata": {
    "collapsed": true
   },
   "outputs": [
    {
     "name": "stderr",
     "output_type": "stream",
     "text": [
      "[nltk_data] Downloading package stopwords to\n",
      "[nltk_data]     C:\\Users\\diego\\AppData\\Roaming\\nltk_data...\n",
      "[nltk_data]   Package stopwords is already up-to-date!\n",
      "[nltk_data] Downloading package punkt to\n",
      "[nltk_data]     C:\\Users\\diego\\AppData\\Roaming\\nltk_data...\n",
      "[nltk_data]   Package punkt is already up-to-date!\n",
      "[nltk_data] Downloading package wordnet to\n",
      "[nltk_data]     C:\\Users\\diego\\AppData\\Roaming\\nltk_data...\n",
      "[nltk_data]   Unzipping corpora\\wordnet.zip.\n"
     ]
    },
    {
     "data": {
      "text/plain": "True"
     },
     "execution_count": 61,
     "metadata": {},
     "output_type": "execute_result"
    }
   ],
   "source": [
    "import numpy as np\n",
    "import pandas as pd\n",
    "from xml.dom import minidom\n",
    "from xml.etree import cElementTree as ElementTree\n",
    "import os\n",
    "import nltk\n",
    "nltk.download('stopwords')\n",
    "nltk.download('punkt')\n",
    "nltk.download('wordnet')\n",
    "# Ranked Retrieval and Document Vectorization"
   ]
  },
  {
   "cell_type": "code",
   "execution_count": 54,
   "outputs": [
    {
     "name": "stdout",
     "output_type": "stream",
     "text": [
      "[('d001', 'William Beaumont and the Human Digestion William Beaumont and the Human Digestion.  William Beaumont: Physiology of digestion Image Source.  On November 21, 1785, US-American surgeon William Beaumont was born. He became best known as “Father of Gastric Physiology” following his research on human digestion. William Beaumont was born in Lebanon, Connecticut and became a physician. He served as a surgeon’s mate in the Army during the War of 1812. He opened a private practice in Plattsburgh, New York, but rejoined the Army as a surgeon in 1819. Beaumont was stationed at Fort Mackinac on Mackinac Island in Michigan in the early 1820s when it existed to protect the interests of the American Fur Company. The fort became the refuge for a wounded 19-year-old French-Canadian fur trader named Alexis St. Martin when a shotgun went off by accident in the American Fur Company store at close range June 6th, 1822. St. Martin’s wound was quite serious because his stomach was perforated and several ribs were broken. Nobody really expected that the young man would survive but he really did. The skin around St. Martin’s wound fused to the hole in his stomach, leaving a permanent opening – a gastric fistula. [1] Beaumont quickly noticed that there was much research potential. Back then, not too much was known about the digestive system. In order to gain more information, Beaumont performed numerous experiments on St. Martin over a period of eight years. The experiments must have been really uncomfortable for the man, who was inserted bits of different foods tied to strings through the hole in his stomach, pulling them out periodically to observe digestion. Beaumont also removed gastric juice, examining it to better understand its nature. Beaumont became the “Father of Gastric Physiology” and his findings were published in the book “Experiments and Observations on the Gastric Juice and the Physiology of Digestion” in 1833. The work is now considered as the basis of much of the early knowledge on digestion. William Beaumont discovered that hydrochloric acid is the main chemical responsible for breaking down food and he suggested that another important digestive chemical, which is now known as pepsin. He suggested that digestion is a chemical process, not merely a mechanical one caused by stomach muscle movement. Also, Beaumont gave insights on how emotions, temperature, and physical activity can affect digestion. Beaumont’s famous patient, St. Martin, outlived the scientist even though his wound never completely healed. He had several children and died at the age of 83. [2] At yovisto, you may be interested in a video lecture on The Digestive System.'), ('d002', 'Selma Lagerlöf and the wonderful Adventures of Niels Holgersson Selma Lagerlöf and the wonderful Adventures of Niels Holgersson.  Cover of The Wonderful Adventures of Nils.  On November 20, 1858, Swedish author and Nobel Laureate Selma Lagerlöf was born. She is best known for her children’s book ‘The Wonderful Adventures of Nils‘. Moreover, she was the first female writer to win the Nobel Prize in literature. Selma Lagerlöf attended a teachers college in Stockholm and became a teacher at the girls’ secondary school in Landskrona. Lagerlöf had been writing poetry for a long time, but never published anything until 1890. She received the first prize in a literary competition and began publishing excerpts from the book which was to be her first, best, and most popular work. Gösta Berlings Saga was published in 1891, but went unnoticed until its Danish translation received wide critical acclaim and paved the way for the book‘s lasting success in Sweden and elsewhere. She received financial support from the royal family and the Swedish Academy, which enabled her to give up teaching completely and focus on writing. Lagerlöf traveled to Italy and published ‘The Miracles of Antichrist‘ in 1897, followed by ‘Jerusalem‘ in 1900. However, to her most famous books belongs the book ‘Nils Holgerssons underbara resa genom Sverige‘, published in 1906. [1] The book starts out with the young Nils Holgersson, who takes delight in hurting the animals at his family’s farm. The boy catches a tomte while his family is out at church and Nils, who refuses to let the tomte free is turned into a tomte as well. The shrunken boy is now able to talk to the farm animals, who are delighted to see Nils being so tiny and they seek revenge. Meanwhile, wild geese are flying over the farm and a white farm goose attempts to join them. Nils holds on to the bird’s neck as it successfully takes off and joins the wild birds. Those are not too pleased to be joined by a boy and a domestic goose, but they take both on several adventures across Sweden. The goose and Nils have to accomplish several tasks in order to be accepted by the group. Also, Nils learns that the tomte might change him back to regular size, if he did good. [2] The story around Nils’ adventures became so well known in Sweden, that a picture of Nils Holgersson, on the back of a goose flying over the plains of Scania, was printed on the reverse side of the Swedish 20 krona banknote. Several film adaptations have been produced all over the world and even a very successful anime series was produced. At yovisto, you may be interested in the video ‘Pixar – a Human Story of Computer Animation‘')]\n"
     ]
    }
   ],
   "source": [
    "def documentReader():\n",
    "    \"\"\"\n",
    "    DocString\n",
    "    :return: Nothing\n",
    "    \"\"\"\n",
    "    documents_path = os.path.join(os.getcwd(), 'docs/docs-raw-texts')\n",
    "    documentos = {}\n",
    "    for filename in os.listdir(documents_path):\n",
    "        file_path = os.path.join(documents_path, filename)\n",
    "        xmldoc = minidom.parse(file_path)\n",
    "        id = xmldoc.getElementsByTagName('public')[0].attributes['publicId'].value\n",
    "        title = xmldoc.getElementsByTagName('fileDesc')[0].attributes['title'].value\n",
    "        data = next(ElementTree.parse(file_path).iter('raw')).text\n",
    "        documentos[id] = (title + ' ' + data).replace(u'\\xa0', u' ').replace('\\n', ' ')\n",
    "\n",
    "    return documentos\n",
    "documentos = documentReader()\n",
    "print(list(documentos.items())[0])"
   ],
   "metadata": {
    "collapsed": false,
    "pycharm": {
     "name": "#%%\n"
    }
   }
  },
  {
   "cell_type": "code",
   "execution_count": 64,
   "outputs": [
    {
     "name": "stdout",
     "output_type": "stream",
     "text": [
      "('d001', ['william', 'beaumont', 'human', 'digest', 'william', 'beaumont', 'human', 'digest', '.', 'william', 'beaumont', ':', 'physiolog', 'digest', 'imag', 'sourc', '.', 'On', 'novemb', '21', ',', '1785', ',', 'us-american', 'surgeon', 'william', 'beaumont', 'born', '.', 'He', 'becam', 'best', 'known', '“', 'father', 'gastric', 'physiolog', '”', 'follow', 'research', 'human', 'digest', '.', 'william', 'beaumont', 'born', 'lebanon', ',', 'connecticut', 'becam', 'physician', '.', 'He', 'serv', 'surgeon', '’', 'mate', 'armi', 'war', '1812', '.', 'He', 'open', 'privat', 'practic', 'plattsburgh', ',', 'new', 'york', ',', 'rejoin', 'armi', 'surgeon', '1819', '.', 'beaumont', 'station', 'fort', 'mackinac', 'mackinac', 'island', 'michigan', 'earli', '1820', 'exist', 'protect', 'interest', 'american', 'fur', 'compani', '.', 'the', 'fort', 'becam', 'refug', 'wound', '19-year-old', 'french-canadian', 'fur', 'trader', 'name', 'alexi', 'st.', 'martin', 'shotgun', 'went', 'accid', 'american', 'fur', 'compani', 'store', 'close', 'rang', 'june', '6th', ',', '1822', '.', 'st.', 'martin', '’', 'wound', 'quit', 'seriou', 'stomach', 'perfor', 'sever', 'rib', 'broken', '.', 'nobodi', 'realli', 'expect', 'young', 'man', 'would', 'surviv', 'realli', '.', 'the', 'skin', 'around', 'st.', 'martin', '’', 'wound', 'fuse', 'hole', 'stomach', ',', 'leav', 'perman', 'open', '–', 'gastric', 'fistula', '.', '[', '1', ']', 'beaumont', 'quickli', 'notic', 'much', 'research', 'potenti', '.', 'back', ',', 'much', 'known', 'digest', 'system', '.', 'In', 'order', 'gain', 'inform', ',', 'beaumont', 'perform', 'numer', 'experi', 'st.', 'martin', 'period', 'eight', 'year', '.', 'the', 'experi', 'must', 'realli', 'uncomfort', 'man', ',', 'insert', 'bit', 'differ', 'food', 'tie', 'string', 'hole', 'stomach', ',', 'pull', 'period', 'observ', 'digest', '.', 'beaumont', 'also', 'remov', 'gastric', 'juic', ',', 'examin', 'better', 'understand', 'natur', '.', 'beaumont', 'becam', '“', 'father', 'gastric', 'physiolog', '”', 'find', 'publish', 'book', '“', 'experi', 'observ', 'gastric', 'juic', 'physiolog', 'digest', '”', '1833', '.', 'the', 'work', 'consid', 'basi', 'much', 'earli', 'knowledg', 'digest', '.', 'william', 'beaumont', 'discov', 'hydrochlor', 'acid', 'main', 'chemic', 'respons', 'break', 'food', 'suggest', 'anoth', 'import', 'digest', 'chemic', ',', 'known', 'pepsin', '.', 'He', 'suggest', 'digest', 'chemic', 'process', ',', 'mere', 'mechan', 'one', 'caus', 'stomach', 'muscl', 'movement', '.', 'also', ',', 'beaumont', 'gave', 'insight', 'emot', ',', 'temperatur', ',', 'physic', 'activ', 'affect', 'digest', '.', 'beaumont', '’', 'famou', 'patient', ',', 'st.', 'martin', ',', 'outliv', 'scientist', 'even', 'though', 'wound', 'never', 'complet', 'heal', '.', 'He', 'sever', 'child', 'die', 'age', '83', '.', '[', '2', ']', 'At', 'yovisto', ',', 'may', 'interest', 'video', 'lectur', 'the', 'digest', 'system', '.'])\n"
     ]
    }
   ],
   "source": [
    "def tokenization(documentos):\n",
    "    \"\"\"\n",
    "    :param documentos:\n",
    "    :return:\n",
    "    \"\"\"\n",
    "    nltk_stop_words_en = set(nltk.corpus.stopwords.words(\"english\"))\n",
    "    p_stemmer = nltk.stem.porter.PorterStemmer()\n",
    "    wordnet_lemmatizer = nltk.stem.WordNetLemmatizer()\n",
    "\n",
    "    word_tok = {key: nltk.word_tokenize(doc) for key, doc in documentos.items()}\n",
    "    word_tok_sw = {key: [token for token in doc if token not in nltk_stop_words_en] for key, doc in word_tok.items()}\n",
    "    nltk_stemedList_en = {key: [p_stemmer.stem(word) for word in doc] for key, doc in word_tok_sw.items()}\n",
    "    nltk_lemmaList = {key: [wordnet_lemmatizer.lemmatize(word) for word in doc] for key, doc in nltk_stemedList_en.items()}\n",
    "\n",
    "    return nltk_lemmaList\n",
    "tokens = tokenization(documentos)\n",
    "print(list(tokens.items())[0])"
   ],
   "metadata": {
    "collapsed": false,
    "pycharm": {
     "name": "#%%\n"
    }
   }
  },
  {
   "cell_type": "code",
   "execution_count": 63,
   "outputs": [
    {
     "name": "stdout",
     "output_type": "stream",
     "text": [
      "('d001', ['william', 'beaumont', 'human', 'digest', 'william', 'beaumont', 'human', 'digest', '.', 'william', 'beaumont', ':', 'physiolog', 'digest', 'imag', 'sourc', '.', 'On', 'novemb', '21', ',', '1785', ',', 'us-american', 'surgeon', 'william', 'beaumont', 'born', '.', 'He', 'becam', 'best', 'known', '“', 'father', 'gastric', 'physiolog', '”', 'follow', 'research', 'human', 'digest', '.', 'william', 'beaumont', 'born', 'lebanon', ',', 'connecticut', 'becam', 'physician', '.', 'He', 'serv', 'surgeon', '’', 'mate', 'armi', 'war', '1812', '.', 'He', 'open', 'privat', 'practic', 'plattsburgh', ',', 'new', 'york', ',', 'rejoin', 'armi', 'surgeon', '1819', '.', 'beaumont', 'station', 'fort', 'mackinac', 'mackinac', 'island', 'michigan', 'earli', '1820', 'exist', 'protect', 'interest', 'american', 'fur', 'compani', '.', 'the', 'fort', 'becam', 'refug', 'wound', '19-year-old', 'french-canadian', 'fur', 'trader', 'name', 'alexi', 'st.', 'martin', 'shotgun', 'went', 'accid', 'american', 'fur', 'compani', 'store', 'close', 'rang', 'june', '6th', ',', '1822', '.', 'st.', 'martin', '’', 'wound', 'quit', 'seriou', 'stomach', 'perfor', 'sever', 'rib', 'broken', '.', 'nobodi', 'realli', 'expect', 'young', 'man', 'would', 'surviv', 'realli', '.', 'the', 'skin', 'around', 'st.', 'martin', '’', 'wound', 'fuse', 'hole', 'stomach', ',', 'leav', 'perman', 'open', '–', 'gastric', 'fistula', '.', '[', '1', ']', 'beaumont', 'quickli', 'notic', 'much', 'research', 'potenti', '.', 'back', ',', 'much', 'known', 'digest', 'system', '.', 'In', 'order', 'gain', 'inform', ',', 'beaumont', 'perform', 'numer', 'experi', 'st.', 'martin', 'period', 'eight', 'year', '.', 'the', 'experi', 'must', 'realli', 'uncomfort', 'man', ',', 'insert', 'bit', 'differ', 'food', 'tie', 'string', 'hole', 'stomach', ',', 'pull', 'period', 'observ', 'digest', '.', 'beaumont', 'also', 'remov', 'gastric', 'juic', ',', 'examin', 'better', 'understand', 'natur', '.', 'beaumont', 'becam', '“', 'father', 'gastric', 'physiolog', '”', 'find', 'publish', 'book', '“', 'experi', 'observ', 'gastric', 'juic', 'physiolog', 'digest', '”', '1833', '.', 'the', 'work', 'consid', 'basi', 'much', 'earli', 'knowledg', 'digest', '.', 'william', 'beaumont', 'discov', 'hydrochlor', 'acid', 'main', 'chemic', 'respons', 'break', 'food', 'suggest', 'anoth', 'import', 'digest', 'chemic', ',', 'known', 'pepsin', '.', 'He', 'suggest', 'digest', 'chemic', 'process', ',', 'mere', 'mechan', 'one', 'caus', 'stomach', 'muscl', 'movement', '.', 'also', ',', 'beaumont', 'gave', 'insight', 'emot', ',', 'temperatur', ',', 'physic', 'activ', 'affect', 'digest', '.', 'beaumont', '’', 'famou', 'patient', ',', 'st.', 'martin', ',', 'outliv', 'scientist', 'even', 'though', 'wound', 'never', 'complet', 'heal', '.', 'He', 'sever', 'child', 'die', 'age', '83', '.', '[', '2', ']', 'At', 'yovisto', ',', 'may', 'interest', 'video', 'lectur', 'the', 'digest', 'system', '.'])\n"
     ]
    }
   ],
   "source": [],
   "metadata": {
    "collapsed": false,
    "pycharm": {
     "name": "#%%\n"
    }
   }
  }
 ],
 "metadata": {
  "kernelspec": {
   "display_name": "Python 3",
   "language": "python",
   "name": "python3"
  },
  "language_info": {
   "codemirror_mode": {
    "name": "ipython",
    "version": 2
   },
   "file_extension": ".py",
   "mimetype": "text/x-python",
   "name": "python",
   "nbconvert_exporter": "python",
   "pygments_lexer": "ipython2",
   "version": "2.7.6"
  }
 },
 "nbformat": 4,
 "nbformat_minor": 0
}