{
 "cells": [
  {
   "cell_type": "code",
   "execution_count": 2,
   "metadata": {},
   "outputs": [],
   "source": [
    "from gensim.parsing.porter import PorterStemmer\n",
    "from gensim.parsing.preprocessing import remove_stopwords\n",
    "from gensim import corpora\n",
    "from gensim import models\n",
    "from gensim import similarities\n",
    "from smart_open import smart_open\n",
    "import nltk\n",
    "from xml.dom import minidom\n",
    "from xml.etree import cElementTree as ElementTree\n",
    "import os\n",
    "import csv\n",
    "import numpy as np\n",
    "import pandas as pd\n",
    "\n",
    "# Gensim Corpus and Tf.idf Model"
   ]
  },
  {
   "cell_type": "markdown",
   "metadata": {},
   "source": [
    "# Gensim Corpus and Tf.Idf Model"
   ]
  },
  {
   "cell_type": "markdown",
   "metadata": {},
   "source": [
    "## Document Reader"
   ]
  },
  {
   "cell_type": "code",
   "execution_count": 8,
   "metadata": {
    "pycharm": {
     "name": "#%%\n"
    }
   },
   "outputs": [
    {
     "name": "stdout",
     "output_type": "stream",
     "text": [
      "('d038', 'Evangelista Torricelli and the Barometer Evangelista Torricelli and the Barometer.  Evangelista Torricelli (1608-1647). On October 15, 1608, Italian physicist and mathematician Evangelista Torricelli was born, best known for his invention of the barometer, but is also known for his advances in Optics. Evangelista Torricelli was born in Rome, the firstborn child of Gaspare Ruberti, a poor textile worker, and Giacoma Torricelli. His family was from Faenza in the Province of Ravenna, then part of the Papal States. His parents sent Evangelista to be educated in Faenza, under the care of his uncle, Jacobo, a Camaldolese monk, who after a basic education took Torricelli into a Jesuit College in 1624, to study mathematics and philosophy. Then Torricelli went to Rome to study science under the Benedictine monk Benedetto Castelli, a student of Galileo Galilei. While in Rome, Torricelli became also the student of the mathematician, Bonaventura Cavalieri, with whom he became great friends. In 1641, Castelli sent Torricelli’s monograph of the path of projectiles to Galileo, by that time a prisoner in his villa at Arcetri. Although Galileo promptly invited Torricelli to visit, he did not accept until just three months before Galileo’s death. The reason for this was that Torricelli’s mother died. For the last three months of Galileo’s life, Torricelli acted as his amanuensis. After Galileo’s death in 1642, Grand Duke Ferdinando II de’ Medici asked Torricelli to succeed Galileo as the grand-ducal mathematician and chair of mathematics at the University of Pisa. In this role he solved some of the great mathematical problems of the day, such as finding a cycloid’s area and center of gravity. Torricelli’s chief invention was the mercury barometer. “This instrument is named from two Greek words, signifying two measures of weight, since by it a column of air is weighed against a column of mercury.” The barometer arose from the need to solve a practical problem. Pump makers of the Grand Duke of Tuscany attempted to raise water to a height of 12 meters or more, but found that 10 meters was the limit with a suction pump. Torricelli employed mercury, fourteen times more dense than water. In 1643 he created a tube approximately one meter long, sealed at the top, filled it with mercury, and set it vertically into a basin of mercury. The column of mercury fell to about 76 cm, leaving a Torricellian vacuum above. As we now know, the column’s height fluctuated with changing atmospheric pressure; this was the first barometer. The torr, a unit of pressure used in vacuum measurements, is named after Torricelli. “Noi viviamo sommersi nel fondo d’un pelago d’aria. (We live submerged at the bottom of an ocean of air.)”, Evangelista Torricelli in a letter to Michelangelo Ricci, 11 June 1644 In 1644 the French scientist Marin Mersenne visited Torricelli and took back to his friend Blaise Pascal the idea of the mercury barometer. If, Pascal thought, air was indeed pressing downward upon us as Torricelli contended, the total weight of the air, and hence its pressure, should decrease as altitude increases. With the help of his brother-in-law, Pascal showed that barometric pressure did indeed decrease as one ascended a mountain. Pascal’s observational evidence showed beyond any doubt that Torricelli’s theory was correct.[2] Torricelli died in Florence on 25 October 1647, a few days after having contracted typhoid fever, and was buried at the Basilica of San Lorenzo. The asteroid 7437 Torricelli and a crater on the Moon were named in his honor.   At yovisto, you can learn more about Toricelli’s mercury barometer and the physics behind in the lecture of MIT Prof. Donald Sadoway on ‘Solid State Chemistry‘.')\n"
     ]
    }
   ],
   "source": [
    "\n",
    "def documentReader(path, queries = False):\n",
    "    \"\"\"\n",
    "    This method reads the documents\n",
    "    :return: Dictionary of documents {dXXX: content of document dXXX}\n",
    "    \"\"\"\n",
    "    documents_path = os.path.join(os.getcwd(), path)\n",
    "    documentos = {}\n",
    "    for filename in os.listdir(documents_path):\n",
    "        file_path = os.path.join(documents_path, filename)\n",
    "        xmldoc = minidom.parse(file_path)\n",
    "        id = xmldoc.getElementsByTagName('public')[0].attributes['publicId'].value\n",
    "        title = '' if queries else xmldoc.getElementsByTagName('fileDesc')[0].attributes['title'].value\n",
    "        data = next(ElementTree.parse(file_path).iter('raw')).text\n",
    "        documentos[id] = (title + ' ' + data).replace(u'\\xa0', u' ').replace('\\n', ' ')\n",
    "    return documentos\n",
    "\n",
    "documentos = documentReader('docs/docs-raw-texts')\n",
    "NRO_DOCS = len(documentos)\n",
    "DOCS_IDs = list(documentos.keys())\n",
    "\n",
    "print(list(documentos.items())[0])"
   ]
  },
  {
   "cell_type": "markdown",
   "metadata": {
    "pycharm": {
     "name": "#%% md\n"
    }
   },
   "source": [
    "### Tokenize"
   ]
  },
  {
   "cell_type": "code",
   "execution_count": 9,
   "metadata": {
    "pycharm": {
     "name": "#%%\n"
    }
   },
   "outputs": [
    {
     "data": {
      "text/plain": "['evangelista', 'torricelli', 'baromet', 'evangelista', 'torricelli']"
     },
     "execution_count": 9,
     "metadata": {},
     "output_type": "execute_result"
    }
   ],
   "source": [
    "p = PorterStemmer()\n",
    "def process(text):\n",
    "    \"\"\"\n",
    "    Tokenizes the text with gensim. Removes stopwords and uses a\n",
    "    stemmer.\n",
    "    :param text: the text to be tokenized\n",
    "    :return: the tokenized token\n",
    "    \"\"\"\n",
    "    doc_nor = text.lower()\n",
    "    doc_sw = remove_stopwords(doc_nor)\n",
    "    doc_stem = p.stem_sentence(doc_sw)\n",
    "    return nltk.word_tokenize(doc_stem)\n",
    "\n",
    "docDict = []\n",
    "\n",
    "\"\"\"\n",
    "Tokenizes each document in the document lists, returns\n",
    "an array of tokenized documents.\n",
    "\"\"\"\n",
    "for key, doc in documentos.items():\n",
    "    docDict.append(process(doc))\n",
    "\n",
    "docDict[0][:5]"
   ]
  },
  {
   "cell_type": "code",
   "execution_count": 6,
   "metadata": {
    "pycharm": {
     "name": "#%%\n"
    }
   },
   "outputs": [
    {
     "name": "stdout",
     "output_type": "stream",
     "text": [
      "76\n"
     ]
    }
   ],
   "source": [
    "\"\"\"\n",
    "Creates the dictionary with the gensim corpora object\n",
    "\"\"\"\n",
    "dictionary = corpora.Dictionary(docDict)\n",
    "dictionary.save('docs/midict.dict')\n",
    "print(dictionary.token2id['information'])"
   ]
  },
  {
   "cell_type": "code",
   "execution_count": 7,
   "metadata": {
    "pycharm": {
     "name": "#%%\n"
    }
   },
   "outputs": [],
   "source": [
    "##  Market Matrix format\n",
    "# Builds the corpus from big file and saves it in a file\n",
    "class MyCorpus():\n",
    "    def __init__(self, documents):\n",
    "        self.documents = documents\n",
    "    def __iter__(self):\n",
    "        for key, doc in self.documents.items():\n",
    "            yield dictionary.doc2bow(process(doc))\n",
    "\n",
    "corpus_memory_friendly = MyCorpus(documentos)\n",
    "corpora.MmCorpus.serialize(\"docs/corpus.mm\",corpus_memory_friendly)"
   ]
  },
  {
   "cell_type": "markdown",
   "metadata": {
    "pycharm": {
     "name": "#%% md\n"
    }
   },
   "source": [
    "#### Read Market Matrix format from disk"
   ]
  },
  {
   "cell_type": "code",
   "execution_count": 8,
   "metadata": {
    "pycharm": {
     "name": "#%%\n"
    }
   },
   "outputs": [
    {
     "name": "stdout",
     "output_type": "stream",
     "text": [
      "[(0, 20.0), (1, 21.0), (2, 1.0), (3, 1.0), (4, 1.0), (5, 1.0), (6, 1.0), (7, 1.0), (8, 1.0), (9, 1.0)]\n"
     ]
    }
   ],
   "source": [
    "corpus = corpora.MmCorpus(\"docs/corpus.mm\")\n",
    "for doc in corpus:\n",
    "    print(doc[:10])\n",
    "    break"
   ]
  },
  {
   "cell_type": "markdown",
   "metadata": {
    "pycharm": {
     "name": "#%% md\n"
    }
   },
   "source": [
    "#### Build tf.idf model from corpus"
   ]
  },
  {
   "cell_type": "code",
   "execution_count": 4,
   "metadata": {
    "pycharm": {
     "name": "#%%\n"
    }
   },
   "outputs": [],
   "source": [
    "dictionary = corpora.Dictionary.load('docs/midict.dict')\n",
    "corpus = corpora.MmCorpus('docs/corpus.mm')\n",
    "tfidf = models.TfidfModel(corpus)"
   ]
  },
  {
   "cell_type": "code",
   "execution_count": 10,
   "metadata": {
    "pycharm": {
     "name": "#%%\n"
    }
   },
   "outputs": [
    {
     "name": "stdout",
     "output_type": "stream",
     "text": [
      "[(241, 1), (5809, 1)]\n",
      "[(241, 0.2642196547502339), (5809, 0.9644625311766483)]\n"
     ]
    }
   ],
   "source": [
    "#Test to verify correct reading\n",
    "query = \"Machine learning\"\n",
    "query_doc_bow = dictionary.doc2bow(process(query)) # Important: Same corpus preprocess\n",
    "print(query_doc_bow)\n",
    "print(tfidf[query_doc_bow])"
   ]
  },
  {
   "cell_type": "markdown",
   "metadata": {
    "pycharm": {
     "name": "#%% md\n"
    }
   },
   "source": [
    "#### Make similarity matrix"
   ]
  },
  {
   "cell_type": "code",
   "execution_count": 7,
   "metadata": {
    "pycharm": {
     "name": "#%%\n"
    }
   },
   "outputs": [
    {
     "name": "stdout",
     "output_type": "stream",
     "text": [
      "Finished\n"
     ]
    }
   ],
   "source": [
    "index = similarities.MatrixSimilarity(tfidf[corpus])\n",
    "index.save('docs/similmatrix.index')\n",
    "print('Finished')"
   ]
  },
  {
   "cell_type": "markdown",
   "metadata": {
    "pycharm": {
     "name": "#%% md\n"
    }
   },
   "source": [
    "## Querying and validating"
   ]
  },
  {
   "cell_type": "code",
   "execution_count": 11,
   "metadata": {
    "pycharm": {
     "name": "#%%\n"
    }
   },
   "outputs": [
    {
     "name": "stdout",
     "output_type": "stream",
     "text": [
      "[(0, 0.0), (1, 0.0017983386), (2, 0.0008260712), (3, 0.0), (4, 0.0), (5, 0.0012694553), (6, 0.0), (7, 0.0), (8, 0.0), (9, 0.0)]\n"
     ]
    }
   ],
   "source": [
    "index = similarities.MatrixSimilarity.load('docs/similmatrix.index')\n",
    "sims = index[tfidf[query_doc_bow]]\n",
    "print(list(enumerate(sims))[:10])\n"
   ]
  },
  {
   "cell_type": "markdown",
   "metadata": {
    "pycharm": {
     "name": "#%% md\n"
    }
   },
   "source": [
    "### Read and proccess queries"
   ]
  },
  {
   "cell_type": "code",
   "execution_count": 21,
   "metadata": {
    "pycharm": {
     "name": "#%%\n"
    }
   },
   "outputs": [],
   "source": [
    "def queries_reader():\n",
    "    \"\"\"\n",
    "    This method reads the queries\n",
    "    :return: Dictionary of queries {qYY: content of query qYY}\n",
    "    \"\"\"\n",
    "    queries_path = os.path.join(os.getcwd(), 'docs/queries-raw-texts')\n",
    "    queries = {}\n",
    "    queries_paths = os.listdir(queries_path)\n",
    "    queries_paths.sort()\n",
    "    #print(documents_paths)\n",
    "    query_index = []\n",
    "    for filename in queries_paths:\n",
    "        file_path = os.path.join(queries_path, filename)\n",
    "        #print(filename)\n",
    "        xmldoc = minidom.parse(file_path)\n",
    "        id = xmldoc.getElementsByTagName('public')[0].attributes['publicId'].value\n",
    "        query = next(ElementTree.parse(file_path).iter('raw')).text\n",
    "        queries[id] = query.replace(u'\\xa0', u' ').replace('\\n', ' ')\n",
    "        query_index.append(id)\n",
    "    return queries, query_index\n",
    "\n",
    "queries, queries_index = queries_reader()"
   ]
  },
  {
   "cell_type": "code",
   "execution_count": 36,
   "outputs": [
    {
     "name": "stdout",
     "output_type": "stream",
     "text": [
      "['d016', 'd259', 'd254', 'd186', 'd085']\n",
      "{'d016': [0.100114144], 'd259': [0.06638642], 'd254': [0.055155866], 'd186': [0.052965295], 'd085': [0.04709238], 'd209': [0.044292763], 'd215': [0.03718164], 'd170': [0.036258996], 'd153': [0.033940088], 'd008': [0.031806577], 'd185': [0.027609846], 'd154': [0.026912354], 'd163': [0.02665534], 'd315': [0.026525343], 'd296': [0.022428086], 'd060': [0.021881476], 'd089': [0.021261038], 'd243': [0.018887497], 'd004': [0.018473046], 'd006': [0.017725928], 'd162': [0.016389195], 'd100': [0.016175305], 'd094': [0.015298158], 'd179': [0.014570268], 'd145': [0.014499774], 'd059': [0.013883657], 'd039': [0.013354013], 'd329': [0.013237038], 'd299': [0.013219445], 'd273': [0.01198006], 'd312': [0.011684334], 'd028': [0.011585966], 'd311': [0.011324928], 'd082': [0.011294986], 'd281': [0.010670208], 'd255': [0.01047928], 'd065': [0.010155121], 'd074': [0.010065283], 'd317': [0.009968324], 'd265': [0.009937078], 'd229': [0.009809831], 'd275': [0.009756998], 'd130': [0.009707921], 'd021': [0.008822619], 'd077': [0.008401218], 'd152': [0.008381128], 'd195': [0.007949628], 'd052': [0.0077086757], 'd316': [0.0074780704], 'd038': [0.007282117], 'd164': [0.00722505], 'd024': [0.00712119], 'd123': [0.0069381567], 'd136': [0.006715196], 'd184': [0.00568996]}\n"
     ]
    }
   ],
   "source": [
    "def queries_evaluation(queries):\n",
    "    \"\"\"\n",
    "     Queries tokenization using gensim and queries evaluation with\n",
    "    created index and tfidf model.\n",
    "    :param queries in a dictionary, {qYY: content of query qYY}\n",
    "    :return: tuple with: Dictionary of queries en the ranked relevant documents\n",
    "    {'qXX': ['dYYY', 'dZZZ',...]}\n",
    "    Dictionary of ranked document for each query with the score\n",
    "    {'qYY': {'dXXX': [score1], 'dXXX': [score2], ..., 'dXXX': [score3] } }\n",
    "    \"\"\"\n",
    "    queries_rank = {}\n",
    "    results_with_scores= {}\n",
    "    for idq, query in queries.items():\n",
    "        query_doc_bow = dictionary.doc2bow(process(query))\n",
    "        sims = index[tfidf[query_doc_bow]]\n",
    "        sorted_vals = sorted(list(enumerate(sims)), key=lambda x: x[1], reverse=True)\n",
    "        #print(sorted_vals)\n",
    "        clean_query_scores = [ \"d{0:0=3d}\".format(id+1) for id,v in sorted_vals if v != 0]\n",
    "        queries_rank[idq] = clean_query_scores\n",
    "        results_with_scores[idq] = {\"d{0:0=3d}\".format(doc+1): [score] for doc,score in sorted_vals if score != 0}\n",
    "    return results, results_with_scores\n",
    "\n",
    "results, results_with_scores = queries_evaluation(queries)\n",
    "print(results['q01'][:5])\n",
    "print(results_with_scores['q01'])"
   ],
   "metadata": {
    "collapsed": false,
    "pycharm": {
     "name": "#%%\n"
    }
   }
  },
  {
   "cell_type": "code",
   "execution_count": 37,
   "outputs": [
    {
     "name": "stdout",
     "output_type": "stream",
     "text": [
      "Archivo escrito\n"
     ]
    }
   ],
   "source": [
    "def writeScoreFile(G_scores):\n",
    "    \"\"\"\n",
    "    Writes the GENSIM-queries_results.tsv that contains the score of each query\n",
    "    :param G_scores: Dictionary with the scores, {'qYY': {'dXXX': [score1], 'dXXX': [score2], ..., 'dXXX': [score3] } }\n",
    "    \"\"\"\n",
    "    file_path = os.path.join(os.getcwd(), 'docs/answer_files/GENSIM-queries_results.tsv')\n",
    "    with open(file_path, 'wt') as out_file:\n",
    "        tsv_writer = csv.writer(out_file, delimiter='\\t')\n",
    "        for query_id, scores in G_scores.items():\n",
    "            scores_list = \"\"\n",
    "            for doc, score in scores.items():\n",
    "                scores_list+= doc +\":\"+str(round(score[0],4))+\",\"\n",
    "            tsv_writer.writerow([query_id,scores_list[:-1]])\n",
    "\n",
    "\n",
    "writeScoreFile(results_with_scores)\n",
    "print(\"Archivo escrito\")"
   ],
   "metadata": {
    "collapsed": false,
    "pycharm": {
     "name": "#%%\n"
    }
   }
  },
  {
   "cell_type": "markdown",
   "source": [
    "## Evaluation"
   ],
   "metadata": {
    "collapsed": false,
    "pycharm": {
     "name": "#%% md\n"
    }
   }
  },
  {
   "cell_type": "code",
   "execution_count": 14,
   "outputs": [
    {
     "name": "stdout",
     "output_type": "stream",
     "text": [
      "{'d016': '5', 'd186': '4', 'd254': '5'}\n"
     ]
    }
   ],
   "source": [
    "def read_judgemnts_file():\n",
    "    \"\"\"\n",
    "    Lee el archivo de relevancia de los jueces\n",
    "    :return: Diccionario con pares key: value, donde el key es el id de cada query y el value\n",
    "    es otro doccionario con las ids de los docs relevantes para esa query ordenados en forma creciente.\n",
    "    \"\"\"\n",
    "    document_path = os.path.join(os.getcwd(), 'docs/relevance-judgments.tsv')\n",
    "    tsv_file = open(document_path)\n",
    "    read_tsv = csv.reader(tsv_file, delimiter=\"\\t\")\n",
    "    relevance = {}\n",
    "    for row in read_tsv:\n",
    "        documents = row[1].split(',')\n",
    "        query_relevance = {pair.split(':')[0] : pair.split(':')[1] for pair in documents }\n",
    "        query_relevance = dict(sorted(query_relevance.items(), key=lambda item: item[0]))\n",
    "        relevance[row[0]] = query_relevance\n",
    "    return relevance\n",
    "\n",
    "\n",
    "relevance = read_judgemnts_file()\n",
    "print(relevance['q01'])"
   ],
   "metadata": {
    "collapsed": false,
    "pycharm": {
     "name": "#%%\n"
    }
   }
  },
  {
   "cell_type": "code",
   "source": [
    "def make_binary_result(results, relevant_res):\n",
    "    \"\"\"\n",
    "    Este método toma los resultados crudos obtenidos para las queries (Para cada query la lista de documentos ordenaos\n",
    "    por relevancia), devuelve 3 representaciones de estos resultados. La primera es la representacion binaria at K.\n",
    "    Que es del mismo tamaño que el número de documentos relevantes. La segunda es esta misma lista pero con la escala\n",
    "    dada por el archivo de evaluación. La tercera está destinada al cálculo del MAP, tiene la representación binaria\n",
    "    hasta que salgan todos los documentos relevantes o simplemente de todos los documentos, además en su segundo\n",
    "    componente tiene el número de documentos relevantes que deberían salir en los resultados según el archivo de\n",
    "    evaluación.\n",
    "    :param results: Diccionario con resultados crudos de cada query. Ej: {'q01': ['d254', 'd016', 'd153', ...]}\n",
    "    :param relevant_res: Las 3 representaciones antes mencionadas\n",
    "    :return:\n",
    "    \"\"\"\n",
    "    bin_relevant = {}\n",
    "    rel_scale_repr = {}\n",
    "    map_relevant_docs = {}\n",
    "    for query, relevant_docs in relevant_res.items():\n",
    "        bin_repr = []\n",
    "        scaled_repr = []\n",
    "        map_repr = []\n",
    "        M = len(relevant_docs)\n",
    "        for doc_id, rel_scale in relevant_docs.items():\n",
    "            bin = 1 if doc_id in results[query][:M] else 0\n",
    "            bin_repr.append(bin)\n",
    "            scaled_repr.append(bin * int(rel_scale))\n",
    "        i = 0\n",
    "        for doc_id in results[query]:\n",
    "            if i < M:\n",
    "                map_bin = 1 if doc_id in relevant_res[query] else 0\n",
    "                i += map_bin\n",
    "                map_repr.append(map_bin)\n",
    "        bin_relevant[query] = bin_repr\n",
    "        rel_scale_repr[query] = scaled_repr\n",
    "        map_relevant_docs[query] = [map_repr, M]\n",
    "    return bin_relevant, rel_scale_repr, map_relevant_docs\n",
    "\n",
    "bin_results, scaled_results, map_relevant_docs = make_binary_result(results, relevance)\n",
    "print(bin_results['q01'])\n",
    "print(scaled_results['q01'])"
   ],
   "metadata": {
    "collapsed": false,
    "pycharm": {
     "name": "#%%\n"
    }
   },
   "execution_count": 17,
   "outputs": [
    {
     "name": "stdout",
     "output_type": "stream",
     "text": [
      "[1, 0, 1]\n",
      "[5, 0, 5]\n"
     ]
    }
   ]
  },
  {
   "cell_type": "code",
   "execution_count": 38,
   "outputs": [
    {
     "data": {
      "text/plain": "0.35468253968253965"
     },
     "execution_count": 38,
     "metadata": {},
     "output_type": "execute_result"
    }
   ],
   "source": [
    "print('Primeros 5 documentos devueltos como relevantes para q01: \\n', results['q01'][:5])\n",
    "print('Documentos relevantes para q01 según jueces: \\n' , relevance['q01'])\n",
    "print('Representación binaria de q01, hasta el último doc relevante: \\n' ,map_relevant_docs['q01'])"
   ],
   "metadata": {
    "collapsed": false,
    "pycharm": {
     "name": "#%%\n"
    }
   }
  },
  {
   "cell_type": "markdown",
   "source": [
    "### Definition of IR metrics functions"
   ],
   "metadata": {
    "collapsed": false,
    "pycharm": {
     "name": "#%% md\n"
    }
   }
  },
  {
   "cell_type": "code",
   "execution_count": 18,
   "outputs": [
    {
     "data": {
      "text/plain": "0.35468253968253965"
     },
     "execution_count": 18,
     "metadata": {},
     "output_type": "execute_result"
    }
   ],
   "source": [
    "def precision_at_k(relevance: list, k: int):\n",
    "    \"\"\"\n",
    "    DocString\n",
    "    :return: Nothing\n",
    "    \"\"\"\n",
    "    if k == 0:\n",
    "        return 0\n",
    "    l = np.array(relevance[:k]).sum()/k\n",
    "    return l\n",
    "\n",
    "def recall_at_k(relevance: list, nr_relevant: int, k: int):\n",
    "    \"\"\"\n",
    "    DocString\n",
    "    :return: Nothing\n",
    "    \"\"\"\n",
    "    l = np.array(relevance[:k]).sum()/nr_relevant\n",
    "    return l\n",
    "\n",
    "def average_precision(relevance):\n",
    "    \"\"\"\n",
    "    DocString\n",
    "    :return: Nothing\n",
    "    \"\"\"\n",
    "\n",
    "    length = len(relevance[0])\n",
    "    sum = 0\n",
    "    for i in range(length):\n",
    "        if relevance[0][i]:\n",
    "            sum += precision_at_k(relevance[0], i+1)\n",
    "    if np.array(relevance[0]).sum()==0:\n",
    "        return 0\n",
    "    else:\n",
    "        return sum / relevance[1]\n",
    "\n",
    "def mean_avg_precision(l):\n",
    "    \"\"\"\n",
    "    DocString\n",
    "    :return: Nothing\n",
    "    \"\"\"\n",
    "    mean = np.array([ average_precision(lista) for lista in l]).mean()\n",
    "    return mean\n",
    "\n",
    "mean_avg_precision([[[0, 0, 0, 0, 0, 0, 1], 1], [[0, 0, 0, 1, 1], 2], [[0, 1, 0, 1, 1, 1, 1], 5]])"
   ],
   "metadata": {
    "collapsed": false,
    "pycharm": {
     "name": "#%%\n"
    }
   }
  },
  {
   "cell_type": "code",
   "source": [
    "def dcg_at_k(relevance, k: int):\n",
    "    \"\"\"\n",
    "    Calcula el DCG at K de un vector binario representando los resultados relevantes para una query.\n",
    "    :param relevance: Vector binario\n",
    "    :return: DCG at K de nuestra query\n",
    "    \"\"\"\n",
    "\n",
    "    sum = 0\n",
    "    i =  0\n",
    "    for rel_i in relevance[: k]:\n",
    "        i+= 1\n",
    "        sum += rel_i/np.log2(max(i, 2))\n",
    "\n",
    "    return sum\n",
    "\n",
    "dcg_at_k([4, 4, 3, 0, 0, 1, 3, 3, 3, 0], 6)\n",
    "\n",
    "def ndcg_at_k(relevance, k):\n",
    "    \"\"\"\n",
    "    Calcula el ndcg at k de un vector binario\n",
    "    :return: NDCG at K.\n",
    "    \"\"\"\n",
    "    rel_sorted = sorted(relevance, reverse=True)\n",
    "    max = dcg_at_k(rel_sorted, k)\n",
    "    real = dcg_at_k(relevance, k)\n",
    "\n",
    "    return real/ max\n",
    "\n",
    "\n",
    "ndcg_at_k([4, 4, 3, 0, 0, 1, 3, 3, 3, 0], 6)"
   ],
   "metadata": {
    "collapsed": false,
    "pycharm": {
     "name": "#%%\n"
    }
   },
   "execution_count": 19,
   "outputs": [
    {
     "data": {
      "text/plain": "0.7424602308163405"
     },
     "execution_count": 19,
     "metadata": {},
     "output_type": "execute_result"
    }
   ]
  },
  {
   "cell_type": "code",
   "execution_count": 42,
   "outputs": [
    {
     "name": "stderr",
     "output_type": "stream",
     "text": [
      "<ipython-input-39-b9586156bffd>:26: RuntimeWarning: invalid value encountered in double_scalars\n",
      "  return real/ max\n"
     ]
    },
    {
     "data": {
      "text/plain": "          P@M       R@M    NDCG@M\nq01  0.666667  0.666667  0.815465\nq02  0.363636  0.363636  0.428656\nq03  0.500000  0.500000  0.567635\nq04  0.714286  0.714286  0.928210\nq06  0.666667  0.666667  0.691704\nq07  0.500000  0.500000  0.800000\nq08  0.666667  0.666667  0.837297\nq09  0.833333  0.833333  0.880115\nq10  0.375000  0.375000  0.577633\nq12  1.000000  1.000000  0.989111",
      "text/html": "<div>\n<style scoped>\n    .dataframe tbody tr th:only-of-type {\n        vertical-align: middle;\n    }\n\n    .dataframe tbody tr th {\n        vertical-align: top;\n    }\n\n    .dataframe thead th {\n        text-align: right;\n    }\n</style>\n<table border=\"1\" class=\"dataframe\">\n  <thead>\n    <tr style=\"text-align: right;\">\n      <th></th>\n      <th>P@M</th>\n      <th>R@M</th>\n      <th>NDCG@M</th>\n    </tr>\n  </thead>\n  <tbody>\n    <tr>\n      <th>q01</th>\n      <td>0.666667</td>\n      <td>0.666667</td>\n      <td>0.815465</td>\n    </tr>\n    <tr>\n      <th>q02</th>\n      <td>0.363636</td>\n      <td>0.363636</td>\n      <td>0.428656</td>\n    </tr>\n    <tr>\n      <th>q03</th>\n      <td>0.500000</td>\n      <td>0.500000</td>\n      <td>0.567635</td>\n    </tr>\n    <tr>\n      <th>q04</th>\n      <td>0.714286</td>\n      <td>0.714286</td>\n      <td>0.928210</td>\n    </tr>\n    <tr>\n      <th>q06</th>\n      <td>0.666667</td>\n      <td>0.666667</td>\n      <td>0.691704</td>\n    </tr>\n    <tr>\n      <th>q07</th>\n      <td>0.500000</td>\n      <td>0.500000</td>\n      <td>0.800000</td>\n    </tr>\n    <tr>\n      <th>q08</th>\n      <td>0.666667</td>\n      <td>0.666667</td>\n      <td>0.837297</td>\n    </tr>\n    <tr>\n      <th>q09</th>\n      <td>0.833333</td>\n      <td>0.833333</td>\n      <td>0.880115</td>\n    </tr>\n    <tr>\n      <th>q10</th>\n      <td>0.375000</td>\n      <td>0.375000</td>\n      <td>0.577633</td>\n    </tr>\n    <tr>\n      <th>q12</th>\n      <td>1.000000</td>\n      <td>1.000000</td>\n      <td>0.989111</td>\n    </tr>\n  </tbody>\n</table>\n</div>"
     },
     "execution_count": 42,
     "metadata": {},
     "output_type": "execute_result"
    }
   ],
   "source": [
    "print(recall_at_k(bin_results['q01'], 3, 3))\n"
   ],
   "metadata": {
    "collapsed": false,
    "pycharm": {
     "name": "#%%\n"
    }
   }
  },
  {
   "cell_type": "markdown",
   "source": [
    "## Compute Evaluation Metrics for each query"
   ],
   "metadata": {
    "collapsed": false
   }
  },
  {
   "cell_type": "code",
   "execution_count": 39,
   "outputs": [
    {
     "name": "stderr",
     "output_type": "stream",
     "text": [
      "<ipython-input-19-d58954e71302>:27: RuntimeWarning: invalid value encountered in double_scalars\n",
      "  return real/ max\n"
     ]
    },
    {
     "data": {
      "text/plain": "          P@M       R@M      DCG@M    NDCG@M\nq01  0.666667  0.666667   8.154649  0.815465\nq02  0.363636  0.363636   4.398806  0.428656\nq03  0.500000  0.500000   5.615495  0.567635\nq04  0.714286  0.714286   9.053889  0.928210\nq06  0.666667  0.666667   8.226294  0.691704\nq07  0.500000  0.500000   4.000000  0.800000\nq08  0.666667  0.666667  14.112967  0.837297\nq09  0.833333  0.833333   9.789707  0.880115\nq10  0.375000  0.375000   4.194686  0.577633\nq12  1.000000  1.000000  11.892789  0.989111\nq13  0.600000  0.600000   9.000000  0.971727\nq14  0.583333  0.583333  10.391558  0.733301\nq16  0.000000  0.000000   0.000000       NaN\nq17  0.500000  0.500000   6.523719  0.815465\nq18  0.714286  0.714286  11.184819  0.993840\nq19  0.500000  0.500000   5.000000  1.000000\nq22  0.571429  0.571429   6.635059  0.913686\nq23  0.250000  0.250000   3.114369  0.346041\nq24  0.000000  0.000000   0.000000       NaN\nq25  0.500000  0.500000   4.892789  0.815465\nq26  1.000000  1.000000   5.000000  1.000000\nq27  0.375000  0.375000   7.654649  0.679697\nq28  0.666667  0.666667   6.892789  0.861599\nq29  0.750000  0.750000  17.789543  0.915948\nq32  0.800000  0.800000  10.184819  0.821834\nq34  0.000000  0.000000   0.000000       NaN\nq36  0.700000  0.700000  11.867463  0.739640\nq37  0.666667  0.666667   8.000000  1.000000\nq38  0.375000  0.375000   3.460394  0.476516\nq40  0.666667  0.666667  14.551598  0.941332\nq41  0.571429  0.571429   8.516002  0.781802\nq42  0.333333  0.333333   5.000000  1.000000\nq44  0.600000  0.600000   8.522729  0.782123\nq45  0.875000  0.875000  15.080666  0.969332\nq46  0.333333  0.333333   2.792030  0.465338",
      "text/html": "<div>\n<style scoped>\n    .dataframe tbody tr th:only-of-type {\n        vertical-align: middle;\n    }\n\n    .dataframe tbody tr th {\n        vertical-align: top;\n    }\n\n    .dataframe thead th {\n        text-align: right;\n    }\n</style>\n<table border=\"1\" class=\"dataframe\">\n  <thead>\n    <tr style=\"text-align: right;\">\n      <th></th>\n      <th>P@M</th>\n      <th>R@M</th>\n      <th>DCG@M</th>\n      <th>NDCG@M</th>\n    </tr>\n  </thead>\n  <tbody>\n    <tr>\n      <th>q01</th>\n      <td>0.666667</td>\n      <td>0.666667</td>\n      <td>8.154649</td>\n      <td>0.815465</td>\n    </tr>\n    <tr>\n      <th>q02</th>\n      <td>0.363636</td>\n      <td>0.363636</td>\n      <td>4.398806</td>\n      <td>0.428656</td>\n    </tr>\n    <tr>\n      <th>q03</th>\n      <td>0.500000</td>\n      <td>0.500000</td>\n      <td>5.615495</td>\n      <td>0.567635</td>\n    </tr>\n    <tr>\n      <th>q04</th>\n      <td>0.714286</td>\n      <td>0.714286</td>\n      <td>9.053889</td>\n      <td>0.928210</td>\n    </tr>\n    <tr>\n      <th>q06</th>\n      <td>0.666667</td>\n      <td>0.666667</td>\n      <td>8.226294</td>\n      <td>0.691704</td>\n    </tr>\n    <tr>\n      <th>q07</th>\n      <td>0.500000</td>\n      <td>0.500000</td>\n      <td>4.000000</td>\n      <td>0.800000</td>\n    </tr>\n    <tr>\n      <th>q08</th>\n      <td>0.666667</td>\n      <td>0.666667</td>\n      <td>14.112967</td>\n      <td>0.837297</td>\n    </tr>\n    <tr>\n      <th>q09</th>\n      <td>0.833333</td>\n      <td>0.833333</td>\n      <td>9.789707</td>\n      <td>0.880115</td>\n    </tr>\n    <tr>\n      <th>q10</th>\n      <td>0.375000</td>\n      <td>0.375000</td>\n      <td>4.194686</td>\n      <td>0.577633</td>\n    </tr>\n    <tr>\n      <th>q12</th>\n      <td>1.000000</td>\n      <td>1.000000</td>\n      <td>11.892789</td>\n      <td>0.989111</td>\n    </tr>\n    <tr>\n      <th>q13</th>\n      <td>0.600000</td>\n      <td>0.600000</td>\n      <td>9.000000</td>\n      <td>0.971727</td>\n    </tr>\n    <tr>\n      <th>q14</th>\n      <td>0.583333</td>\n      <td>0.583333</td>\n      <td>10.391558</td>\n      <td>0.733301</td>\n    </tr>\n    <tr>\n      <th>q16</th>\n      <td>0.000000</td>\n      <td>0.000000</td>\n      <td>0.000000</td>\n      <td>NaN</td>\n    </tr>\n    <tr>\n      <th>q17</th>\n      <td>0.500000</td>\n      <td>0.500000</td>\n      <td>6.523719</td>\n      <td>0.815465</td>\n    </tr>\n    <tr>\n      <th>q18</th>\n      <td>0.714286</td>\n      <td>0.714286</td>\n      <td>11.184819</td>\n      <td>0.993840</td>\n    </tr>\n    <tr>\n      <th>q19</th>\n      <td>0.500000</td>\n      <td>0.500000</td>\n      <td>5.000000</td>\n      <td>1.000000</td>\n    </tr>\n    <tr>\n      <th>q22</th>\n      <td>0.571429</td>\n      <td>0.571429</td>\n      <td>6.635059</td>\n      <td>0.913686</td>\n    </tr>\n    <tr>\n      <th>q23</th>\n      <td>0.250000</td>\n      <td>0.250000</td>\n      <td>3.114369</td>\n      <td>0.346041</td>\n    </tr>\n    <tr>\n      <th>q24</th>\n      <td>0.000000</td>\n      <td>0.000000</td>\n      <td>0.000000</td>\n      <td>NaN</td>\n    </tr>\n    <tr>\n      <th>q25</th>\n      <td>0.500000</td>\n      <td>0.500000</td>\n      <td>4.892789</td>\n      <td>0.815465</td>\n    </tr>\n    <tr>\n      <th>q26</th>\n      <td>1.000000</td>\n      <td>1.000000</td>\n      <td>5.000000</td>\n      <td>1.000000</td>\n    </tr>\n    <tr>\n      <th>q27</th>\n      <td>0.375000</td>\n      <td>0.375000</td>\n      <td>7.654649</td>\n      <td>0.679697</td>\n    </tr>\n    <tr>\n      <th>q28</th>\n      <td>0.666667</td>\n      <td>0.666667</td>\n      <td>6.892789</td>\n      <td>0.861599</td>\n    </tr>\n    <tr>\n      <th>q29</th>\n      <td>0.750000</td>\n      <td>0.750000</td>\n      <td>17.789543</td>\n      <td>0.915948</td>\n    </tr>\n    <tr>\n      <th>q32</th>\n      <td>0.800000</td>\n      <td>0.800000</td>\n      <td>10.184819</td>\n      <td>0.821834</td>\n    </tr>\n    <tr>\n      <th>q34</th>\n      <td>0.000000</td>\n      <td>0.000000</td>\n      <td>0.000000</td>\n      <td>NaN</td>\n    </tr>\n    <tr>\n      <th>q36</th>\n      <td>0.700000</td>\n      <td>0.700000</td>\n      <td>11.867463</td>\n      <td>0.739640</td>\n    </tr>\n    <tr>\n      <th>q37</th>\n      <td>0.666667</td>\n      <td>0.666667</td>\n      <td>8.000000</td>\n      <td>1.000000</td>\n    </tr>\n    <tr>\n      <th>q38</th>\n      <td>0.375000</td>\n      <td>0.375000</td>\n      <td>3.460394</td>\n      <td>0.476516</td>\n    </tr>\n    <tr>\n      <th>q40</th>\n      <td>0.666667</td>\n      <td>0.666667</td>\n      <td>14.551598</td>\n      <td>0.941332</td>\n    </tr>\n    <tr>\n      <th>q41</th>\n      <td>0.571429</td>\n      <td>0.571429</td>\n      <td>8.516002</td>\n      <td>0.781802</td>\n    </tr>\n    <tr>\n      <th>q42</th>\n      <td>0.333333</td>\n      <td>0.333333</td>\n      <td>5.000000</td>\n      <td>1.000000</td>\n    </tr>\n    <tr>\n      <th>q44</th>\n      <td>0.600000</td>\n      <td>0.600000</td>\n      <td>8.522729</td>\n      <td>0.782123</td>\n    </tr>\n    <tr>\n      <th>q45</th>\n      <td>0.875000</td>\n      <td>0.875000</td>\n      <td>15.080666</td>\n      <td>0.969332</td>\n    </tr>\n    <tr>\n      <th>q46</th>\n      <td>0.333333</td>\n      <td>0.333333</td>\n      <td>2.792030</td>\n      <td>0.465338</td>\n    </tr>\n  </tbody>\n</table>\n</div>"
     },
     "execution_count": 39,
     "metadata": {},
     "output_type": "execute_result"
    }
   ],
   "source": [
    "def evaluation_metric(bin_queries, query_index, scaled_results):\n",
    "    \"\"\"\n",
    "\n",
    "    :param bin_queries: Diccionario con valores {query Key: vector}, donde el vector corresponde a una lista\n",
    "    con la representación binaria de un de los resultados encontrados para una query con relación a los dados\n",
    "    en el archivo de evaluación. Ej, para q01, los relevantes son: d186,d254,d016. El RRDV devuelve d254, d016,\n",
    "    d153. Por ende, la representación binaria de q01, en el orden del archivo de evaluación es: [0, 1, 1]\n",
    "    :param query_index: Lista con los ids de las queries. ['qo1', 'qo2', ...]\n",
    "    :param scaled_results: Representación escalada de los resultados de las queries usando la escala dada en el\n",
    "    archivo de evaluación. Ej, q01 pasa de [0, 1, 1] a [0, 5, 5]\n",
    "    :return: Un dataframe con el cálculo del P@M, r@M y NDCG@M para cada query\n",
    "    \"\"\"\n",
    "    COLUMNS = ['P@M', 'R@M', 'DCG@M','NDCG@M']\n",
    "    records = []\n",
    "    for query, bin_vec in bin_queries.items():\n",
    "        scaled = scaled_results[query]\n",
    "        M = len(bin_vec)\n",
    "        pm = precision_at_k(bin_vec, M)\n",
    "        rm = recall_at_k(bin_vec, M, M)\n",
    "        dcg = dcg_at_k(scaled, M)\n",
    "        ndcg = ndcg_at_k(scaled, M)\n",
    "        records.append([pm, rm,dcg, ndcg])\n",
    "\n",
    "    return pd.DataFrame.from_records(records, index=query_index, columns=COLUMNS)\n",
    "\n",
    "metrics = evaluation_metric(bin_results, queries_index, scaled_results)\n",
    "metrics"
   ],
   "metadata": {
    "collapsed": false,
    "pycharm": {
     "name": "#%%\n"
    }
   }
  },
  {
   "cell_type": "markdown",
   "source": [
    "### MAP"
   ],
   "metadata": {
    "collapsed": false
   }
  },
  {
   "cell_type": "code",
   "execution_count": 23,
   "outputs": [
    {
     "name": "stdout",
     "output_type": "stream",
     "text": [
      "MAP resultante de todas las queries: 0.5774482690591958\n"
     ]
    }
   ],
   "source": [
    "def overall_map(map_relevant_docs):\n",
    "    \"\"\"\n",
    "    Función que calcula el MAP de los resultados de las queries.\n",
    "    :param map_relevant_docs: Vector binario de las queries asegurandose de que aparezcan todos los documentos relevantes\n",
    "    :return: El Mean average precision de los resultados de las queries.\n",
    "    \"\"\"\n",
    "    matrix = [vector for key, vector in map_relevant_docs.items() ]\n",
    "    return mean_avg_precision(matrix)\n",
    "\n",
    "print(f'MAP resultante de todas las queries: {overall_map(map_relevant_docs)}')"
   ],
   "metadata": {
    "collapsed": false,
    "pycharm": {
     "name": "#%%\n"
    }
   }
  }
 ],
 "metadata": {
  "kernelspec": {
   "display_name": "Python 3",
   "language": "python",
   "name": "python3"
  },
  "language_info": {
   "codemirror_mode": {
    "name": "ipython",
    "version": 3
   },
   "file_extension": ".py",
   "mimetype": "text/x-python",
   "name": "python",
   "nbconvert_exporter": "python",
   "pygments_lexer": "ipython3",
   "version": "3.8.5"
  }
 },
 "nbformat": 4,
 "nbformat_minor": 1
}