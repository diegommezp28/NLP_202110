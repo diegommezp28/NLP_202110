{
 "cells": [
  {
   "cell_type": "code",
   "execution_count": 1,
   "metadata": {},
   "outputs": [],
   "source": [
    "from gensim.parsing.porter import PorterStemmer\n",
    "from gensim.parsing.preprocessing import remove_stopwords\n",
    "from gensim import corpora\n",
    "from gensim import models\n",
    "from gensim import similarities\n",
    "from smart_open import smart_open\n",
    "import nltk\n",
    "from xml.dom import minidom\n",
    "from xml.etree import cElementTree as ElementTree\n",
    "import os\n",
    "\n",
    "\n",
    "\n",
    "# Gensim Corpus and Tf.idf Model"
   ]
  },
  {
   "cell_type": "markdown",
   "metadata": {},
   "source": [
    "# Gensim Corpus and Tf.Idf Model"
   ]
  },
  {
   "cell_type": "markdown",
   "metadata": {},
   "source": [
    "## Document Reader"
   ]
  },
  {
   "cell_type": "code",
   "execution_count": 9,
   "metadata": {
    "pycharm": {
     "name": "#%%\n"
    }
   },
   "outputs": [
    {
     "name": "stdout",
     "output_type": "stream",
     "text": [
      "('d038', 'Evangelista Torricelli and the Barometer Evangelista Torricelli and the Barometer.  Evangelista Torricelli (1608-1647). On October 15, 1608, Italian physicist and mathematician Evangelista Torricelli was born, best known for his invention of the barometer, but is also known for his advances in Optics. Evangelista Torricelli was born in Rome, the firstborn child of Gaspare Ruberti, a poor textile worker, and Giacoma Torricelli. His family was from Faenza in the Province of Ravenna, then part of the Papal States. His parents sent Evangelista to be educated in Faenza, under the care of his uncle, Jacobo, a Camaldolese monk, who after a basic education took Torricelli into a Jesuit College in 1624, to study mathematics and philosophy. Then Torricelli went to Rome to study science under the Benedictine monk Benedetto Castelli, a student of Galileo Galilei. While in Rome, Torricelli became also the student of the mathematician, Bonaventura Cavalieri, with whom he became great friends. In 1641, Castelli sent Torricelli’s monograph of the path of projectiles to Galileo, by that time a prisoner in his villa at Arcetri. Although Galileo promptly invited Torricelli to visit, he did not accept until just three months before Galileo’s death. The reason for this was that Torricelli’s mother died. For the last three months of Galileo’s life, Torricelli acted as his amanuensis. After Galileo’s death in 1642, Grand Duke Ferdinando II de’ Medici asked Torricelli to succeed Galileo as the grand-ducal mathematician and chair of mathematics at the University of Pisa. In this role he solved some of the great mathematical problems of the day, such as finding a cycloid’s area and center of gravity. Torricelli’s chief invention was the mercury barometer. “This instrument is named from two Greek words, signifying two measures of weight, since by it a column of air is weighed against a column of mercury.” The barometer arose from the need to solve a practical problem. Pump makers of the Grand Duke of Tuscany attempted to raise water to a height of 12 meters or more, but found that 10 meters was the limit with a suction pump. Torricelli employed mercury, fourteen times more dense than water. In 1643 he created a tube approximately one meter long, sealed at the top, filled it with mercury, and set it vertically into a basin of mercury. The column of mercury fell to about 76 cm, leaving a Torricellian vacuum above. As we now know, the column’s height fluctuated with changing atmospheric pressure; this was the first barometer. The torr, a unit of pressure used in vacuum measurements, is named after Torricelli. “Noi viviamo sommersi nel fondo d’un pelago d’aria. (We live submerged at the bottom of an ocean of air.)”, Evangelista Torricelli in a letter to Michelangelo Ricci, 11 June 1644 In 1644 the French scientist Marin Mersenne visited Torricelli and took back to his friend Blaise Pascal the idea of the mercury barometer. If, Pascal thought, air was indeed pressing downward upon us as Torricelli contended, the total weight of the air, and hence its pressure, should decrease as altitude increases. With the help of his brother-in-law, Pascal showed that barometric pressure did indeed decrease as one ascended a mountain. Pascal’s observational evidence showed beyond any doubt that Torricelli’s theory was correct.[2] Torricelli died in Florence on 25 October 1647, a few days after having contracted typhoid fever, and was buried at the Basilica of San Lorenzo. The asteroid 7437 Torricelli and a crater on the Moon were named in his honor.   At yovisto, you can learn more about Toricelli’s mercury barometer and the physics behind in the lecture of MIT Prof. Donald Sadoway on ‘Solid State Chemistry‘.')\n"
     ]
    }
   ],
   "source": [
    "\n",
    "def documentReader(path, queries = False):\n",
    "    \"\"\"\n",
    "    DocString\n",
    "    :return: Nothing\n",
    "    \"\"\"\n",
    "    documents_path = os.path.join(os.getcwd(), path)\n",
    "    documentos = {}\n",
    "    for filename in os.listdir(documents_path):\n",
    "        file_path = os.path.join(documents_path, filename)\n",
    "        xmldoc = minidom.parse(file_path)\n",
    "        id = xmldoc.getElementsByTagName('public')[0].attributes['publicId'].value\n",
    "        title = '' if queries else xmldoc.getElementsByTagName('fileDesc')[0].attributes['title'].value\n",
    "        data = next(ElementTree.parse(file_path).iter('raw')).text\n",
    "        documentos[id] = (title + ' ' + data).replace(u'\\xa0', u' ').replace('\\n', ' ')\n",
    "\n",
    "    return documentos\n",
    "documentos = documentReader('docs/docs-raw-texts')\n",
    "NRO_DOCS = len(documentos)\n",
    "DOCS_IDs = list(documentos.keys())\n",
    "print(list(documentos.items())[0])"
   ]
  },
  {
   "cell_type": "markdown",
   "metadata": {
    "pycharm": {
     "name": "#%% md\n"
    }
   },
   "source": [
    "### Tokenize"
   ]
  },
  {
   "cell_type": "code",
   "execution_count": 10,
   "metadata": {
    "pycharm": {
     "name": "#%%\n"
    }
   },
   "outputs": [
    {
     "data": {
      "text/plain": "['evangelista', 'torricelli', 'baromet', 'evangelista', 'torricelli']"
     },
     "execution_count": 10,
     "metadata": {},
     "output_type": "execute_result"
    }
   ],
   "source": [
    "p = PorterStemmer()\n",
    "def process(text):\n",
    "    doc_nor = text.lower()\n",
    "    doc_sw = remove_stopwords(doc_nor)\n",
    "    doc_stem = p.stem_sentence(doc_sw)\n",
    "    return nltk.word_tokenize(doc_stem)\n",
    "\n",
    "docDict = []\n",
    "for key, doc in documentos.items():\n",
    "    docDict.append(process(doc))\n",
    "\n",
    "docDict[0][:5]"
   ]
  },
  {
   "cell_type": "code",
   "execution_count": 6,
   "metadata": {
    "pycharm": {
     "name": "#%%\n"
    }
   },
   "outputs": [
    {
     "name": "stdout",
     "output_type": "stream",
     "text": [
      "76\n"
     ]
    }
   ],
   "source": [
    "dictionary = corpora.Dictionary(docDict)\n",
    "dictionary.save('docs/midict.dict')\n",
    "print(dictionary.token2id['information'])"
   ]
  },
  {
   "cell_type": "code",
   "execution_count": 7,
   "metadata": {
    "pycharm": {
     "name": "#%%\n"
    }
   },
   "outputs": [],
   "source": [
    "##  Market Matrix format\n",
    "# Step 1: Build the corpus from big file\n",
    "class MyCorpus():\n",
    "    def __init__(self, documents):\n",
    "        self.documents = documents\n",
    "    def __iter__(self):\n",
    "        for key, doc in self.documents.items():\n",
    "            yield dictionary.doc2bow(process(doc))\n",
    "\n",
    "corpus_memory_friendly = MyCorpus(documentos)\n",
    "corpora.MmCorpus.serialize(\"docs/corpus.mm\",corpus_memory_friendly)"
   ]
  },
  {
   "cell_type": "markdown",
   "metadata": {
    "pycharm": {
     "name": "#%% md\n"
    }
   },
   "source": [
    "#### Read Maket Matrix format from disk"
   ]
  },
  {
   "cell_type": "code",
   "execution_count": 8,
   "metadata": {
    "pycharm": {
     "name": "#%%\n"
    }
   },
   "outputs": [
    {
     "name": "stdout",
     "output_type": "stream",
     "text": [
      "[(0, 20.0), (1, 21.0), (2, 1.0), (3, 1.0), (4, 1.0), (5, 1.0), (6, 1.0), (7, 1.0), (8, 1.0), (9, 1.0)]\n"
     ]
    }
   ],
   "source": [
    "corpus = corpora.MmCorpus(\"docs/corpus.mm\")\n",
    "# No hacer esto en una implementacion real\n",
    "for doc in corpus:\n",
    "    print(doc[:10])\n",
    "    break"
   ]
  },
  {
   "cell_type": "markdown",
   "metadata": {
    "pycharm": {
     "name": "#%% md\n"
    }
   },
   "source": [
    "#### Build tf.idf model from corpus"
   ]
  },
  {
   "cell_type": "code",
   "execution_count": 4,
   "metadata": {
    "pycharm": {
     "name": "#%%\n"
    }
   },
   "outputs": [],
   "source": [
    "dictionary = corpora.Dictionary.load('docs/midict.dict')\n",
    "corpus = corpora.MmCorpus('docs/corpus.mm')\n",
    "tfidf = models.TfidfModel(corpus)"
   ]
  },
  {
   "cell_type": "code",
   "execution_count": 11,
   "metadata": {
    "pycharm": {
     "name": "#%%\n"
    }
   },
   "outputs": [
    {
     "name": "stdout",
     "output_type": "stream",
     "text": [
      "[(241, 1), (5809, 1)]\n",
      "[(241, 0.2642196547502339), (5809, 0.9644625311766483)]\n"
     ]
    }
   ],
   "source": [
    "#Test to verify correct reading\n",
    "query = \"Machine learning\"\n",
    "query_doc_bow = dictionary.doc2bow(process(query)) # Important: Same corpus preprocess\n",
    "print(query_doc_bow)\n",
    "print(tfidf[query_doc_bow])"
   ]
  },
  {
   "cell_type": "markdown",
   "metadata": {
    "pycharm": {
     "name": "#%% md\n"
    }
   },
   "source": [
    "#### Make similarity matrix"
   ]
  },
  {
   "cell_type": "code",
   "execution_count": 5,
   "metadata": {
    "pycharm": {
     "name": "#%%\n"
    }
   },
   "outputs": [
    {
     "name": "stdout",
     "output_type": "stream",
     "text": [
      "Finished\n"
     ]
    }
   ],
   "source": [
    "index = similarities.MatrixSimilarity(tfidf[corpus])\n",
    "index.save('docs/similmatrix.index')\n",
    "print('Finished')"
   ]
  },
  {
   "cell_type": "markdown",
   "metadata": {
    "pycharm": {
     "name": "#%% md\n"
    }
   },
   "source": [
    "## Querying and validating"
   ]
  },
  {
   "cell_type": "code",
   "execution_count": 12,
   "metadata": {
    "pycharm": {
     "name": "#%%\n"
    }
   },
   "outputs": [
    {
     "name": "stdout",
     "output_type": "stream",
     "text": [
      "[(0, 0.0), (1, 0.0017983386), (2, 0.0008260712), (3, 0.0), (4, 0.0), (5, 0.0012694553), (6, 0.0), (7, 0.0), (8, 0.0), (9, 0.0)]\n"
     ]
    }
   ],
   "source": [
    "index = similarities.MatrixSimilarity.load('docs/similmatrix.index')\n",
    "sims = index[tfidf[query_doc_bow]]\n",
    "print(list(enumerate(sims))[:10])\n"
   ]
  },
  {
   "cell_type": "markdown",
   "metadata": {
    "pycharm": {
     "name": "#%% md\n"
    }
   },
   "source": [
    "### Read and proccess queries"
   ]
  },
  {
   "cell_type": "code",
   "execution_count": 13,
   "outputs": [],
   "source": [
    "def queries_reader():\n",
    "    \"\"\"\n",
    "    :return:\n",
    "    \"\"\"\n",
    "    queries_path = os.path.join(os.getcwd(), 'docs/queries-raw-texts')\n",
    "    queries = {}\n",
    "    queries_paths = os.listdir(queries_path)\n",
    "    queries_paths.sort()\n",
    "    #print(documents_paths)\n",
    "    for filename in queries_paths:\n",
    "        file_path = os.path.join(queries_path, filename)\n",
    "        #print(filename)\n",
    "        xmldoc = minidom.parse(file_path)\n",
    "        id = xmldoc.getElementsByTagName('public')[0].attributes['publicId'].value\n",
    "        query = next(ElementTree.parse(file_path).iter('raw')).text\n",
    "        queries[id] = query.replace(u'\\xa0', u' ').replace('\\n', ' ')\n",
    "    return queries\n",
    "\n",
    "queries = queries_reader()"
   ],
   "metadata": {
    "collapsed": false,
    "pycharm": {
     "name": "#%%\n"
    }
   }
  },
  {
   "cell_type": "code",
   "execution_count": 16,
   "outputs": [
    {
     "name": "stdout",
     "output_type": "stream",
     "text": [
      "[16, 259, 254, 186, 85, 209, 215, 170, 153, 8, 185, 154, 163, 315, 296, 60, 89, 243, 4, 6, 162, 100, 94, 179, 145, 59, 39, 329, 299, 273, 312, 28, 311, 82, 281, 255, 65, 74, 317, 265, 229, 275, 130, 21, 77, 152, 195, 52, 316, 38, 164, 24, 123, 136, 184]\n"
     ]
    }
   ],
   "source": [
    "def queries_evaluation(queries):\n",
    "    queries_rank = {}\n",
    "    for idq, query in queries.items():\n",
    "        query_doc_bow = dictionary.doc2bow(process(query))\n",
    "        sims = index[tfidf[query_doc_bow]]\n",
    "        #print(list(enumerate(sims)))\n",
    "        sorted_vals = sorted(list(enumerate(sims)), key=lambda x: x[1], reverse=True)\n",
    "        #print(sorted_vals)\n",
    "        clean_query_scores = [ id+1 for id,v in sorted_vals if v != 0]\n",
    "        queries_rank[idq] = clean_query_scores\n",
    "\n",
    "    return queries_rank\n",
    "\n",
    "\n",
    "queries_ranking = queries_evaluation(queries)\n",
    "print(queries_ranking[\"q01\"])\n",
    "\n",
    "\n"
   ],
   "metadata": {
    "collapsed": false,
    "pycharm": {
     "name": "#%%\n"
    }
   }
  }
 ],
 "metadata": {
  "kernelspec": {
   "display_name": "Python 3",
   "language": "python",
   "name": "python3"
  },
  "language_info": {
   "codemirror_mode": {
    "name": "ipython",
    "version": 3
   },
   "file_extension": ".py",
   "mimetype": "text/x-python",
   "name": "python",
   "nbconvert_exporter": "python",
   "pygments_lexer": "ipython3",
   "version": "3.8.5"
  }
 },
 "nbformat": 4,
 "nbformat_minor": 1
}