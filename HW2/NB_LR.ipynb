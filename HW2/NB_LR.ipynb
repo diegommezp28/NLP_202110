{
 "cells": [
  {
   "cell_type": "markdown",
   "metadata": {
    "collapsed": true,
    "pycharm": {
     "name": "#%% md\n"
    }
   },
   "source": [
    "# Naive Bayes (NB), Logistic Regression (LR)\n",
    "***"
   ]
  },
  {
   "cell_type": "markdown",
   "metadata": {},
   "source": [
    "Imports"
   ]
  },
  {
   "cell_type": "code",
   "execution_count": 4,
   "metadata": {},
   "outputs": [
    {
     "name": "stderr",
     "output_type": "stream",
     "text": [
      "[nltk_data] Downloading package stopwords to\n",
      "[nltk_data]     C:\\Users\\diego\\AppData\\Roaming\\nltk_data...\n",
      "[nltk_data]   Package stopwords is already up-to-date!\n",
      "[nltk_data] Downloading package punkt to\n",
      "[nltk_data]     C:\\Users\\diego\\AppData\\Roaming\\nltk_data...\n",
      "[nltk_data]   Package punkt is already up-to-date!\n",
      "[nltk_data] Downloading package wordnet to\n",
      "[nltk_data]     C:\\Users\\diego\\AppData\\Roaming\\nltk_data...\n",
      "[nltk_data]   Package wordnet is already up-to-date!\n"
     ]
    },
    {
     "data": {
      "text/plain": "True"
     },
     "execution_count": 4,
     "metadata": {},
     "output_type": "execute_result"
    }
   ],
   "source": [
    "import numpy as np\n",
    "import math\n",
    "from xml.dom import minidom\n",
    "from xml.etree import cElementTree as ElementTree\n",
    "import os\n",
    "import nltk\n",
    "import pickle\n",
    "import csv\n",
    "import timeit\n",
    "import re\n",
    "import warnings\n",
    "warnings.filterwarnings('ignore')\n",
    "from scipy.sparse import hstack\n",
    "from sklearn.datasets import make_classification\n",
    "import pandas as pd\n",
    "from sklearn.model_selection import train_test_split, cross_validate, cross_val_score\n",
    "from sklearn.feature_extraction.text import CountVectorizer, TfidfTransformer\n",
    "from sklearn.linear_model import LogisticRegression\n",
    "from sklearn.model_selection import KFold\n",
    "from sklearn.metrics import recall_score, make_scorer, precision_score, f1_score, accuracy_score\n",
    "from sklearn.naive_bayes import MultinomialNB\n",
    "from functools import partial\n",
    "import matplotlib.pyplot as plt\n",
    "import copy\n",
    "nltk.download('stopwords')\n",
    "nltk.download('punkt')\n",
    "nltk.download('wordnet')\n",
    "\n"
   ]
  },
  {
   "cell_type": "markdown",
   "metadata": {},
   "source": [
    "#### File reading"
   ]
  },
  {
   "cell_type": "code",
   "execution_count": 5,
   "metadata": {},
   "outputs": [],
   "source": [
    "def printExecTime(func):\n",
    "    \"\"\"\n",
    "    Decorator definition for printing the execution time of a function. \n",
    "    :param func. Function for which to measure execution time.\n",
    "    \"\"\"\n",
    "    def wrapper(*args, **kwargs):\n",
    "        init_time = timeit.default_timer()\n",
    "        result = func(*args, **kwargs)\n",
    "        stop_time = timeit.default_timer()\n",
    "        total = stop_time - init_time\n",
    "        print('Execution time in sec for', func.__name__, 'was', total)\n",
    "        return result\n",
    "    return wrapper\n"
   ]
  },
  {
   "cell_type": "code",
   "execution_count": 6,
   "metadata": {
    "tags": []
   },
   "outputs": [
    {
     "name": "stdout",
     "output_type": "stream",
     "text": [
      "Execution time in sec for documentReader was 81.52083779999998\n",
      "Count 18828 docs read\n",
      "CLASSES and ids [(1, 'alt.atheism'), ('alt.atheism', 1)]\n"
     ]
    }
   ],
   "source": [
    "CLASSES = {}\n",
    "\n",
    "@printExecTime\n",
    "def documentReader(path):\n",
    "    global CLASSES\n",
    "    documents_path = os.path.join(os.getcwd(), path)\n",
    "    docs = {}\n",
    "    id = 1\n",
    "    for dir_name in os.listdir(documents_path):\n",
    "        CLASSES[id] = dir_name\n",
    "        CLASSES[dir_name] = id\n",
    "        class_path = os.path.join(documents_path, dir_name)\n",
    "\n",
    "        for document in os.listdir(class_path):\n",
    "            document_path = os.path.join(class_path, document)\n",
    "            file = open(document_path, 'r').read()\n",
    "            docs[str(id) + '-' + document] = file.replace(u'\\xa0', u' ').replace('\\n', ' ')\n",
    "        id += 1\n",
    "    return docs\n",
    "\n",
    "raw_docs = documentReader('datasets/20news')\n",
    "print('Count', len(raw_docs), 'docs read')\n",
    "print('CLASSES and ids', list(CLASSES.items())[:2])"
   ]
  },
  {
   "cell_type": "markdown",
   "metadata": {},
   "source": [
    "### Proccessing pipeline"
   ]
  },
  {
   "cell_type": "code",
   "execution_count": 7,
   "metadata": {},
   "outputs": [
    {
     "name": "stdout",
     "output_type": "stream",
     "text": [
      "Execution time in sec for proccessDocs was 24.11783079999998\n"
     ]
    }
   ],
   "source": [
    "\n",
    "def regexPipeFilter(text):\n",
    "    stop_words = set(nltk.corpus.stopwords.words(\"english\"))\n",
    "    lemmatizer = nltk.stem.WordNetLemmatizer()\n",
    "\n",
    "    # Remove all the special characters\n",
    "    document = re.sub(r'\\W', ' ', text)\n",
    "\n",
    "    # remove all single characters\n",
    "    document = re.sub(r'\\s+[a-zA-Z]\\s+', ' ', document)\n",
    "\n",
    "    # Converting to Lowercase\n",
    "    document = document.lower()\n",
    "\n",
    "    # Lemmatization\n",
    "    document = document.split()\n",
    "\n",
    "    document = [lemmatizer.lemmatize(word) for word in document if word not in stop_words]\n",
    "    document = ' '.join(document)\n",
    "    return document\n",
    "\n",
    "@printExecTime\n",
    "def proccessDocs(docs): \n",
    "    \"\"\"\n",
    "    Proccesing pipiling for the raw docs read from files\n",
    "    :param docs: Dictionary containing the raw docs previously read from files\n",
    "    :return: \n",
    "    \"\"\"\n",
    "    getClass = lambda x: int(x.split('-')[0])\n",
    "    proccessed_docs = [[regexPipeFilter(document), getClass(key), key] for key, document in docs.items()]\n",
    "\n",
    "    return proccessed_docs\n",
    "\n",
    "tokenized_docs = proccessDocs(raw_docs)"
   ]
  },
  {
   "cell_type": "code",
   "execution_count": 8,
   "metadata": {
    "pycharm": {
     "name": "#%%\n"
    }
   },
   "outputs": [
    {
     "name": "stdout",
     "output_type": "stream",
     "text": [
      "1\n",
      "Class: alt.atheism . mathew mathew mantis co uk subject alt atheism faq atheist resource archive name atheism resource al\n"
     ]
    }
   ],
   "source": [
    "print(tokenized_docs[0][1])\n",
    "print('Class:', CLASSES[tokenized_docs[0][1]], '.', tokenized_docs[0][0][:100])"
   ]
  },
  {
   "cell_type": "markdown",
   "metadata": {},
   "source": [
    "#### Dataset division"
   ]
  },
  {
   "cell_type": "code",
   "execution_count": 9,
   "metadata": {
    "pycharm": {
     "name": "#%%\n"
    }
   },
   "outputs": [
    {
     "name": "stdout",
     "output_type": "stream",
     "text": [
      "Train 0.699968132568515\n",
      "Test 0.300031867431485\n",
      "Execution time in sec for divideSets was 0.005984500000067783\n"
     ]
    }
   ],
   "source": [
    "@printExecTime\n",
    "def divideSets(tokenized_docs,):\n",
    "    train, test = 0.7, 0.3\n",
    "    # test_ratio, dev_ratio = test/(dev+test), dev/(dev+test)\n",
    "    total = len(tokenized_docs)\n",
    "\n",
    "    train_set, test_set = train_test_split(tokenized_docs, test_size= test, train_size=train)\n",
    "    # dev_set, test_set = train_test_split(rest, test_size=test_ratio, train_size= dev_ratio)\n",
    "\n",
    "    print('Train', len(train_set)/total)\n",
    "    print('Test', len(test_set)/total)\n",
    "    # print('Dev', len(dev_set)/total)\n",
    "\n",
    "    return train_set, test_set\n",
    "\n",
    "train_set, test_set= divideSets(tokenized_docs)"
   ]
  },
  {
   "cell_type": "code",
   "execution_count": 10,
   "metadata": {
    "pycharm": {
     "name": "#%%\n"
    }
   },
   "outputs": [],
   "source": [
    "def extractXY(dataset):\n",
    "    \"\"\"\n",
    "    Extracts individual vectors for documents and document's classes.\n",
    "    \"\"\"\n",
    "    x , y= [], []\n",
    "    for [x_i,  y_i, _] in dataset:\n",
    "        x.append(x_i)\n",
    "        y.append(y_i)\n",
    "    return x, y\n",
    "\n",
    "train_x, train_y = extractXY(train_set)\n",
    "# dev_x, dev_y = extractXY(dev_set)\n",
    "test_x, test_y = extractXY(test_set)"
   ]
  },
  {
   "cell_type": "code",
   "execution_count": 11,
   "metadata": {
    "pycharm": {
     "name": "#%%\n"
    }
   },
   "outputs": [
    {
     "name": "stdout",
     "output_type": "stream",
     "text": [
      "15\n",
      "cohen ssdgwy mdc com andy cohen subject dc news static test firing scheduled saturday many schedule \n"
     ]
    }
   ],
   "source": [
    "print(train_y[0])\n",
    "print(train_x[0][:100])"
   ]
  },
  {
   "cell_type": "markdown",
   "metadata": {},
   "source": [
    "## Feature Extraction from training set\n",
    "\n",
    "* **BOW**"
   ]
  },
  {
   "cell_type": "code",
   "execution_count": 12,
   "metadata": {
    "pycharm": {
     "name": "#%%\n"
    }
   },
   "outputs": [
    {
     "name": "stdout",
     "output_type": "stream",
     "text": [
      "Execution time in sec for bowBuilder was 1.9526051999999936\n",
      "(13179, 50000)\n"
     ]
    }
   ],
   "source": [
    "@printExecTime\n",
    "def bowBuilder(docs, max_features=None, min_df=1, max_df=1, binary=False):\n",
    "\n",
    "    vectorizer = CountVectorizer(max_features=max_features, binary=binary)\n",
    "    docs_bow = vectorizer.fit_transform(docs)\n",
    "    return docs_bow, vectorizer\n",
    "\n",
    "train_bow, vectorizer = bowBuilder(train_x, max_features=50000)\n",
    "print(train_bow.shape)"
   ]
  },
  {
   "cell_type": "markdown",
   "metadata": {},
   "source": [
    "Transform `test` to *BOW* using vocabulary from `train`  set"
   ]
  },
  {
   "cell_type": "code",
   "execution_count": 13,
   "metadata": {
    "pycharm": {
     "name": "#%%\n"
    }
   },
   "outputs": [
    {
     "name": "stdout",
     "output_type": "stream",
     "text": [
      "Shape test (5649, 50000)\n"
     ]
    }
   ],
   "source": [
    "# dev_bow = vectorizer.transform(dev_x)\n",
    "test_bow = vectorizer.transform(test_x)\n",
    "# print(\"Shape dev\", dev_bow.shape)\n",
    "print(\"Shape test\", test_bow.shape)"
   ]
  },
  {
   "cell_type": "code",
   "execution_count": 14,
   "outputs": [],
   "source": [
    "# print(train_bow.todense()[0].sum())\n",
    "# vectorizer.get_feature_names()[30000:30200]\n",
    "frequency_matrix = pd.DataFrame(train_bow.toarray(),\n",
    "                                columns = vectorizer.get_feature_names())"
   ],
   "metadata": {
    "collapsed": false,
    "pycharm": {
     "name": "#%%\n"
    }
   }
  },
  {
   "cell_type": "code",
   "execution_count": 15,
   "outputs": [
    {
     "data": {
      "text/plain": "34"
     },
     "execution_count": 15,
     "metadata": {},
     "output_type": "execute_result"
    }
   ],
   "source": [
    "frequency_matrix.iloc[0].sum()\n",
    "# train_set[0][2]\n",
    "# CLASSES[12]\n",
    "# print('good' in vectorizer.get_feature_names())\n",
    "# train_x[0]\n",
    "# vectorizer.inverse_transform(train_bow)"
   ],
   "metadata": {
    "collapsed": false,
    "pycharm": {
     "name": "#%%\n"
    }
   }
  },
  {
   "cell_type": "markdown",
   "metadata": {},
   "source": [
    "* **Binary BOW representation**"
   ]
  },
  {
   "cell_type": "code",
   "execution_count": 16,
   "metadata": {
    "pycharm": {
     "name": "#%%\n"
    }
   },
   "outputs": [
    {
     "name": "stdout",
     "output_type": "stream",
     "text": [
      "Execution time in sec for bowBuilder was 1.9789134000000104\n",
      "Shape bin train (13179, 126329)\n",
      "Shape bin test (5649, 126329)\n"
     ]
    }
   ],
   "source": [
    "train_bool, bool_vectorizer = bowBuilder(train_x, binary=True)\n",
    "# dev_bool = bool_vectorizer.transform(dev_x)\n",
    "test_bool = bool_vectorizer.transform(test_x)\n",
    "\n",
    "print(\"Shape bin train\", train_bool.shape)\n",
    "# print(\"Shape bin dev\", dev_bool.shape)\n",
    "print(\"Shape bin test\", test_bool.shape)\n"
   ]
  },
  {
   "cell_type": "markdown",
   "source": [
    "* **Tfidf representation**"
   ],
   "metadata": {
    "collapsed": false
   }
  },
  {
   "cell_type": "code",
   "execution_count": 17,
   "outputs": [],
   "source": [
    "transformer = TfidfTransformer()\n",
    "train_tfidf = transformer.fit_transform(train_bow)\n",
    "test_tfidf = transformer.transform(test_bow)"
   ],
   "metadata": {
    "collapsed": false,
    "pycharm": {
     "name": "#%%\n"
    }
   }
  },
  {
   "cell_type": "markdown",
   "metadata": {},
   "source": [
    "## Training models on 60% training set"
   ]
  },
  {
   "cell_type": "markdown",
   "metadata": {},
   "source": [
    "### Logistic Regression.\n",
    "\n",
    "We will evaluate some multinomial logistic Regressions with different hyperparameters seen in class such as a bias,\n",
    "class weights, and other not seen but popular sucha as L2 penalty.\n",
    ". Specifically, we will test the following\n",
    "parameter combinations:\n",
    "\n",
    "- L2 penalty: 0.1, class_weight: 'Balanced'\n",
    "- L2 penalty: 0.5, class_weight: 'Balanced'\n",
    "- L2 penalty: 1.0, class_weight: None (All have same weight: 1)\n",
    "\n",
    "In this case we will use default hyperparameters of the Sklearn implementation of the Multinomial Logistic Regression.\n",
    "\n",
    "The next step will include the hyperparameter search using 10-Fold cross Validation"
   ]
  },
  {
   "cell_type": "code",
   "execution_count": 18,
   "metadata": {
    "pycharm": {
     "name": "#%%\n"
    }
   },
   "outputs": [],
   "source": [
    "def model(penalty=1, class_weight=None, solver='lbfgs'):\n",
    "    classifier = LogisticRegression(multi_class='multinomial', solver=solver,\n",
    "                                    C=penalty, class_weight=class_weight, n_jobs=6)\n",
    "    return classifier\n",
    "\n",
    "def saveModel(model, filename, folder='datasets'):\n",
    "    path = os.path.join(os.getcwd(), folder, filename)\n",
    "    with open(path, 'wb') as picklefile:\n",
    "        pickle.dump(model, picklefile)\n",
    "\n",
    "def readModel(filename, folder='datasets'):\n",
    "    path = os.path.join(os.getcwd(), folder, filename)\n",
    "    with open(path, 'rb') as model:\n",
    "        return pickle.load(model)"
   ]
  },
  {
   "cell_type": "markdown",
   "source": [
    "Saving model partitions for later use."
   ],
   "metadata": {
    "collapsed": false,
    "pycharm": {
     "name": "#%% md\n"
    }
   }
  },
  {
   "cell_type": "code",
   "execution_count": 19,
   "outputs": [],
   "source": [
    "saveModel(train_set, 'train_set')\n",
    "saveModel(train_y, 'train_y')\n",
    "saveModel(train_bow, 'train_bow')\n",
    "saveModel(train_bool, 'train_bool')\n",
    "saveModel(train_tfidf, 'train_tfidf')\n",
    "saveModel(test_bow, 'test_bow')\n",
    "saveModel(test_bool, 'test_bool')\n",
    "saveModel(test_tfidf, 'test_tfidf')"
   ],
   "metadata": {
    "collapsed": false,
    "pycharm": {
     "name": "#%%\n"
    }
   }
  },
  {
   "cell_type": "markdown",
   "metadata": {
    "pycharm": {
     "name": "#%% md\n"
    }
   },
   "source": [
    "Definición de modelos a entrenar"
   ]
  },
  {
   "cell_type": "code",
   "execution_count": 20,
   "metadata": {
    "pycharm": {
     "name": "#%%\n"
    }
   },
   "outputs": [],
   "source": [
    "def getLRModels(solver='sag', repr='bow'):\n",
    "    models = {}\n",
    "    penalties = [0.01, 0.1, 0.5, 1]\n",
    "    class_weights = ['balanced', None]\n",
    "    for c in penalties:\n",
    "        for w in class_weights:\n",
    "            key = f'c-{c}-w-{w}-LR-{repr}'\n",
    "            models[key] = model(penalty=c, class_weight=w, solver=solver)\n",
    "    return models\n",
    "\n",
    "def evaluate_model(model, X, y, metrics=['accuracy']):\n",
    "    cv = KFold(n_splits=10)\n",
    "    scores = cross_validate(model, X, y, scoring=metrics, cv=cv, n_jobs=-1)\n",
    "    return scores\n"
   ]
  },
  {
   "cell_type": "markdown",
   "metadata": {},
   "source": [
    "#### Cross validate BOW representation"
   ]
  },
  {
   "cell_type": "code",
   "execution_count": 21,
   "metadata": {
    "pycharm": {
     "name": "#%%\n"
    }
   },
   "outputs": [],
   "source": [
    "@printExecTime\n",
    "def crossValidateModels(models, X, y, metrics=['accuracy']):\n",
    "    results, names = [], []\n",
    "    for name, model in models.items():\n",
    "        scores = evaluate_model(model, X, y, metrics=metrics)\n",
    "        results.append(scores)\n",
    "        names.append(name)\n",
    "        print('Got result for:', name)\n",
    "    return results, names\n",
    "\n",
    "def getPerClassScorings():\n",
    "    recall = {f'recall-{i}': make_scorer(recall_score, average=None, labels=[i]) for i in range(1, 21)}\n",
    "    precision = {f'precision-{i}': make_scorer(precision_score, average=None, labels=[i]) for i in range(1, 21)}\n",
    "    scoring = recall.copy()\n",
    "    scoring.update(precision)\n",
    "    return scoring\n"
   ]
  },
  {
   "cell_type": "code",
   "execution_count": 22,
   "outputs": [
    {
     "name": "stdout",
     "output_type": "stream",
     "text": [
      "Got result for: c-0.01-w-balanced-LR-bow\n",
      "Got result for: c-0.01-w-None-LR-bow\n",
      "Got result for: c-0.1-w-balanced-LR-bow\n",
      "Got result for: c-0.1-w-None-LR-bow\n",
      "Got result for: c-0.5-w-balanced-LR-bow\n",
      "Got result for: c-0.5-w-None-LR-bow\n",
      "Got result for: c-1-w-balanced-LR-bow\n",
      "Got result for: c-1-w-None-LR-bow\n",
      "Execution time in sec for crossValidateModels was 496.8356202\n"
     ]
    }
   ],
   "source": [
    "bow_results, names_bow_LR = crossValidateModels(getLRModels(), train_bow, train_y, metrics=getPerClassScorings())"
   ],
   "metadata": {
    "collapsed": false,
    "pycharm": {
     "name": "#%%\n"
    }
   }
  },
  {
   "cell_type": "code",
   "execution_count": 23,
   "metadata": {
    "pycharm": {
     "name": "#%%\n"
    }
   },
   "outputs": [
    {
     "name": "stdout",
     "output_type": "stream",
     "text": [
      "c-0.01-w-balanced-LR-bow 42\n"
     ]
    }
   ],
   "source": [
    "saveModel(bow_results, 'bow_results_LR')\n",
    "bow_results = readModel('bow_results_LR')\n",
    "print(names_bow_LR[0] ,len(bow_results[0]))\n",
    "# X, y = make_classification(n_samples=100, n_features=20, n_informative=15, n_redundant=5, random_state=1, n_classes=3)\n",
    "# model = list(getLRModels().values())[0]\n",
    "# scores = cross_validate(model, X, y, cv=5, scoring=('f1_macro','accuracy','precision_macro','recall_macro'))"
   ]
  },
  {
   "cell_type": "markdown",
   "metadata": {
    "pycharm": {
     "name": "#%% md\n"
    }
   },
   "source": [
    "#### Cross validation binary BOW representation Linear Regression"
   ]
  },
  {
   "cell_type": "code",
   "execution_count": 24,
   "metadata": {
    "pycharm": {
     "name": "#%%\n"
    }
   },
   "outputs": [
    {
     "name": "stdout",
     "output_type": "stream",
     "text": [
      "Got result for: c-0.01-w-balanced-LR-bool\n",
      "Got result for: c-0.01-w-None-LR-bool\n",
      "Got result for: c-0.1-w-balanced-LR-bool\n",
      "Got result for: c-0.1-w-None-LR-bool\n",
      "Got result for: c-0.5-w-balanced-LR-bool\n",
      "Got result for: c-0.5-w-None-LR-bool\n",
      "Got result for: c-1-w-balanced-LR-bool\n",
      "Got result for: c-1-w-None-LR-bool\n",
      "Execution time in sec for crossValidateModels was 574.1415506000001\n"
     ]
    }
   ],
   "source": [
    "bow_bool_results, names_bool_LR = crossValidateModels(getLRModels(repr='bool'), train_bool, train_y, metrics=getPerClassScorings())"
   ]
  },
  {
   "cell_type": "code",
   "execution_count": 25,
   "outputs": [
    {
     "name": "stdout",
     "output_type": "stream",
     "text": [
      "c-0.01-w-balanced-LR-bool 42\n"
     ]
    }
   ],
   "source": [
    "saveModel(bow_bool_results, 'bow_bool_results_LR')\n",
    "bow_bool_results = readModel('bow_bool_results_LR')\n",
    "print(names_bool_LR[0] ,len(bow_bool_results[0]))"
   ],
   "metadata": {
    "collapsed": false,
    "pycharm": {
     "name": "#%%\n"
    }
   }
  },
  {
   "cell_type": "markdown",
   "source": [
    "#### Cross validation tfidf representation Linear Regression"
   ],
   "metadata": {
    "collapsed": false
   }
  },
  {
   "cell_type": "code",
   "execution_count": 26,
   "outputs": [
    {
     "name": "stdout",
     "output_type": "stream",
     "text": [
      "Got result for: c-0.01-w-balanced-LR-tfidf\n",
      "Got result for: c-0.01-w-None-LR-tfidf\n",
      "Got result for: c-0.1-w-balanced-LR-tfidf\n",
      "Got result for: c-0.1-w-None-LR-tfidf\n",
      "Got result for: c-0.5-w-balanced-LR-tfidf\n",
      "Got result for: c-0.5-w-None-LR-tfidf\n",
      "Got result for: c-1-w-balanced-LR-tfidf\n",
      "Got result for: c-1-w-None-LR-tfidf\n",
      "Execution time in sec for crossValidateModels was 83.49618339999984\n"
     ]
    }
   ],
   "source": [
    "tfidf_results_LR, names_tfidf_LR = crossValidateModels(getLRModels(repr='tfidf'), train_tfidf, train_y, metrics=getPerClassScorings())"
   ],
   "metadata": {
    "collapsed": false,
    "pycharm": {
     "name": "#%%\n"
    }
   }
  },
  {
   "cell_type": "code",
   "execution_count": 27,
   "outputs": [
    {
     "name": "stdout",
     "output_type": "stream",
     "text": [
      "c-0.01-w-balanced-LR-tfidf 42\n"
     ]
    }
   ],
   "source": [
    "saveModel(tfidf_results_LR, 'tfidf_results_LR')\n",
    "tfidf_results_LR = readModel('tfidf_results_LR')\n",
    "print(names_tfidf_LR[0] ,len(bow_bool_results[0]))"
   ],
   "metadata": {
    "collapsed": false,
    "pycharm": {
     "name": "#%%\n"
    }
   }
  },
  {
   "cell_type": "markdown",
   "source": [
    "### Naive Bayes"
   ],
   "metadata": {
    "collapsed": false
   }
  },
  {
   "cell_type": "code",
   "execution_count": 28,
   "outputs": [],
   "source": [
    "def NBmodel(alpha, fit_prior):\n",
    "    return MultinomialNB(alpha=alpha, fit_prior=fit_prior)\n",
    "\n",
    "def getBayesModels(repr='bow'):\n",
    "    smoothing = [0.01, 0.1, 0.5, 1]\n",
    "    fit_prior = [True, False]\n",
    "    models = {}\n",
    "    for a in smoothing:\n",
    "        for b in fit_prior:\n",
    "            bin = str(b)[0]\n",
    "            key = f'alpha-{a}-fp-{bin}-NB-{repr}'\n",
    "            models[key] = NBmodel(alpha=a, fit_prior=b)\n",
    "    return models"
   ],
   "metadata": {
    "collapsed": false,
    "pycharm": {
     "name": "#%%\n"
    }
   }
  },
  {
   "cell_type": "markdown",
   "source": [
    "#### Cross validation BOW representation Naive Bayes"
   ],
   "metadata": {
    "collapsed": false
   }
  },
  {
   "cell_type": "code",
   "execution_count": 29,
   "outputs": [
    {
     "name": "stdout",
     "output_type": "stream",
     "text": [
      "Got result for: alpha-0.01-fp-T-NB-bow\n",
      "Got result for: alpha-0.01-fp-F-NB-bow\n",
      "Got result for: alpha-0.1-fp-T-NB-bow\n",
      "Got result for: alpha-0.1-fp-F-NB-bow\n",
      "Got result for: alpha-0.5-fp-T-NB-bow\n",
      "Got result for: alpha-0.5-fp-F-NB-bow\n",
      "Got result for: alpha-1-fp-T-NB-bow\n",
      "Got result for: alpha-1-fp-F-NB-bow\n",
      "Execution time in sec for crossValidateModels was 5.915110400000003\n"
     ]
    }
   ],
   "source": [
    "bow_results_NB, names_bow_NB = crossValidateModels(getBayesModels(),\n",
    "                                            train_bow, train_y, metrics=getPerClassScorings())"
   ],
   "metadata": {
    "collapsed": false,
    "pycharm": {
     "name": "#%%\n"
    }
   }
  },
  {
   "cell_type": "markdown",
   "source": [
    "#### Cross validation binary BOW representation Naive Bayes"
   ],
   "metadata": {
    "collapsed": false
   }
  },
  {
   "cell_type": "code",
   "execution_count": 30,
   "outputs": [
    {
     "name": "stdout",
     "output_type": "stream",
     "text": [
      "Got result for: alpha-0.01-fp-T-NB-bool\n",
      "Got result for: alpha-0.01-fp-F-NB-bool\n",
      "Got result for: alpha-0.1-fp-T-NB-bool\n",
      "Got result for: alpha-0.1-fp-F-NB-bool\n",
      "Got result for: alpha-0.5-fp-T-NB-bool\n",
      "Got result for: alpha-0.5-fp-F-NB-bool\n",
      "Got result for: alpha-1-fp-T-NB-bool\n",
      "Got result for: alpha-1-fp-F-NB-bool\n",
      "Execution time in sec for crossValidateModels was 7.419818300000088\n"
     ]
    }
   ],
   "source": [
    "bow_boolNB_results, names_bool_NB = crossValidateModels(getBayesModels(repr='bool'),\n",
    "                                                train_bool, train_y, metrics=getPerClassScorings())"
   ],
   "metadata": {
    "collapsed": false,
    "pycharm": {
     "name": "#%%\n"
    }
   }
  },
  {
   "cell_type": "markdown",
   "source": [
    "#### Cross validation tfidf representation Naive Bayes"
   ],
   "metadata": {
    "collapsed": false
   }
  },
  {
   "cell_type": "code",
   "execution_count": 31,
   "outputs": [
    {
     "name": "stdout",
     "output_type": "stream",
     "text": [
      "Got result for: alpha-0.01-fp-T-NB-tfidf\n",
      "Got result for: alpha-0.01-fp-F-NB-tfidf\n",
      "Got result for: alpha-0.1-fp-T-NB-tfidf\n",
      "Got result for: alpha-0.1-fp-F-NB-tfidf\n",
      "Got result for: alpha-0.5-fp-T-NB-tfidf\n",
      "Got result for: alpha-0.5-fp-F-NB-tfidf\n",
      "Got result for: alpha-1-fp-T-NB-tfidf\n",
      "Got result for: alpha-1-fp-F-NB-tfidf\n",
      "Execution time in sec for crossValidateModels was 5.817578700000013\n"
     ]
    }
   ],
   "source": [
    "tfidf_NB_results, names_tfidf_NB = crossValidateModels(getBayesModels(repr='tfidf'),\n",
    "                                                train_tfidf, train_y, metrics=getPerClassScorings())"
   ],
   "metadata": {
    "collapsed": false,
    "pycharm": {
     "name": "#%%\n"
    }
   }
  },
  {
   "cell_type": "markdown",
   "source": [
    "## Cross Validation Metrics\n",
    "\n",
    "Here we will use a 10-fold cross validation strategy over the `train`+`dev` sets to evaluate the bests hyperparameters\n",
    "for our models from a chosen subset of all the possibles hyperparameters combinations"
   ],
   "metadata": {
    "collapsed": false,
    "pycharm": {
     "name": "#%% md\n"
    }
   }
  },
  {
   "cell_type": "code",
   "execution_count": 32,
   "outputs": [],
   "source": [
    "def meanOfScores(scores, score_keys):\n",
    "    avg_recalls, avg_precisions = [], []\n",
    "    for key in score_keys:\n",
    "        avgs = np.mean(scores['test_' + key])\n",
    "        if 'recall' in key:\n",
    "            avg_recalls.append(avgs)\n",
    "        else:\n",
    "            avg_precisions.append(avgs)\n",
    "    return avg_recalls, avg_precisions\n",
    "\n",
    "\n",
    "def modelsPerScore(scoresPerModels):\n",
    "    all_recalls = []\n",
    "    all_precisions = []\n",
    "\n",
    "    for model_scores in scoresPerModels:\n",
    "        avg_recalls, avg_precisions = meanOfScores(model_scores, getPerClassScorings().keys())\n",
    "        all_recalls.append(avg_recalls)\n",
    "        all_precisions.append(avg_precisions)\n",
    "\n",
    "    return all_recalls, all_precisions\n",
    "\n",
    "\n",
    "def graphMetrics(all_recalls, all_precisions, model_names):\n",
    "    plt.rcParams[\"figure.figsize\"] = (18,10)\n",
    "    plt.subplot(2, 1, 1)\n",
    "    plt.boxplot(all_recalls, showmeans=True, labels=model_names)\n",
    "    plt.title('Boxplot of recalls distribution per class in various models')\n",
    "    plt.xlabel('Models')\n",
    "    plt.legend()\n",
    "    plt.grid(0.2)\n",
    "\n",
    "    plt.subplot(2, 1, 2)\n",
    "    plt.boxplot(all_precisions, showmeans=True, labels=model_names)\n",
    "    plt.title('Boxplot of precision distribution per class in various models')\n",
    "    plt.xlabel('Models')\n",
    "    plt.legend()\n",
    "    plt.grid(0.2)\n",
    "    plt.tight_layout()\n",
    "    plt.show()"
   ],
   "metadata": {
    "collapsed": false,
    "pycharm": {
     "name": "#%%\n"
    }
   }
  },
  {
   "cell_type": "markdown",
   "source": [
    "Here we get for each model, average recall and precision per class. This is used to graph a box plot from the metrics\n",
    "distributions for the classes in each model.\n",
    "\n",
    "*Note:* The model names correspond to the type of model, its hyperparameters, and the document representation beeing\n",
    "used for the cross validation."
   ],
   "metadata": {
    "collapsed": false,
    "pycharm": {
     "name": "#%% md\n"
    }
   }
  },
  {
   "cell_type": "code",
   "execution_count": 33,
   "outputs": [],
   "source": [
    "bow_recalls, bow_precisions = modelsPerScore(bow_results)\n",
    "bow_bool_recalls, bow_bool_precisions = modelsPerScore(bow_bool_results)\n",
    "tfidf_recalls, tfidf_precisions = modelsPerScore(tfidf_results_LR)"
   ],
   "metadata": {
    "collapsed": false,
    "pycharm": {
     "name": "#%%\n"
    }
   }
  },
  {
   "cell_type": "markdown",
   "source": [
    "### Graph\n",
    "\n",
    "#### Logistic Regression\n",
    "\n",
    "* **BOW - Logistic Regression**. Distribution of class metrics in `train`+`dev` sets"
   ],
   "metadata": {
    "collapsed": false,
    "pycharm": {
     "name": "#%% md\n"
    }
   }
  },
  {
   "cell_type": "code",
   "execution_count": 34,
   "outputs": [
    {
     "name": "stderr",
     "output_type": "stream",
     "text": [
      "No handles with labels found to put in legend.\n",
      "No handles with labels found to put in legend.\n"
     ]
    },
    {
     "data": {
      "text/plain": "<Figure size 1296x720 with 2 Axes>",
      "image/png": "[encoded data removed]"
     },
     "metadata": {
      "needs_background": "light"
     },
     "output_type": "display_data"
    }
   ],
   "source": [
    "graphMetrics(bow_recalls, bow_precisions, names_bow_LR)"
   ],
   "metadata": {
    "collapsed": false,
    "pycharm": {
     "name": "#%%\n"
    }
   }
  },
  {
   "cell_type": "markdown",
   "source": [
    "* **Binary BOW - Logistic Regression**. Distribution of class metrics in `train`+`dev` sets"
   ],
   "metadata": {
    "collapsed": false
   }
  },
  {
   "cell_type": "code",
   "execution_count": 35,
   "outputs": [
    {
     "name": "stderr",
     "output_type": "stream",
     "text": [
      "No handles with labels found to put in legend.\n",
      "No handles with labels found to put in legend.\n"
     ]
    },
    {
     "data": {
      "text/plain": "<Figure size 1296x720 with 2 Axes>",
      "image/png": "[encoded data removed]"
     },
     "metadata": {
      "needs_background": "light"
     },
     "output_type": "display_data"
    }
   ],
   "source": [
    "graphMetrics(bow_bool_recalls, bow_bool_precisions, names_bool_LR)"
   ],
   "metadata": {
    "collapsed": false,
    "pycharm": {
     "name": "#%%\n"
    }
   }
  },
  {
   "cell_type": "markdown",
   "source": [
    "* **TfIdf - Logistic Regression**. Distribution of class metrics in `train`+`dev` sets"
   ],
   "metadata": {
    "collapsed": false,
    "pycharm": {
     "name": "#%% md\n"
    }
   }
  },
  {
   "cell_type": "code",
   "execution_count": 36,
   "outputs": [
    {
     "name": "stderr",
     "output_type": "stream",
     "text": [
      "No handles with labels found to put in legend.\n",
      "No handles with labels found to put in legend.\n"
     ]
    },
    {
     "data": {
      "text/plain": "<Figure size 1296x720 with 2 Axes>",
      "image/png": "[encoded data removed]"
     },
     "metadata": {
      "needs_background": "light"
     },
     "output_type": "display_data"
    }
   ],
   "source": [
    "graphMetrics(tfidf_recalls, tfidf_precisions, names_tfidf_LR)"
   ],
   "metadata": {
    "collapsed": false,
    "pycharm": {
     "name": "#%%\n"
    }
   }
  },
  {
   "cell_type": "markdown",
   "source": [
    "### Graph\n",
    "\n",
    "#### Naive Bayes"
   ],
   "metadata": {
    "collapsed": false
   }
  },
  {
   "cell_type": "code",
   "execution_count": 37,
   "outputs": [],
   "source": [
    "bow_recalls_NB, bow_precisions_NB = modelsPerScore(bow_results_NB)\n",
    "bow_bool_recalls_NB, bow_bool_precisions_NB = modelsPerScore(bow_boolNB_results)\n",
    "tfidf_recalls_NB, tfidf_precisions_NB = modelsPerScore(tfidf_NB_results)"
   ],
   "metadata": {
    "collapsed": false,
    "pycharm": {
     "name": "#%%\n"
    }
   }
  },
  {
   "cell_type": "markdown",
   "source": [
    "* **BOW - Naive Bayes**. Distribution of class metrics in `train`+`dev` sets"
   ],
   "metadata": {
    "collapsed": false,
    "pycharm": {
     "name": "#%% md\n"
    }
   }
  },
  {
   "cell_type": "code",
   "execution_count": 38,
   "outputs": [
    {
     "name": "stderr",
     "output_type": "stream",
     "text": [
      "No handles with labels found to put in legend.\n",
      "No handles with labels found to put in legend.\n"
     ]
    },
    {
     "data": {
      "text/plain": "<Figure size 1296x720 with 2 Axes>",
      "image/png": "[encoded data removed]"
     },
     "metadata": {
      "needs_background": "light"
     },
     "output_type": "display_data"
    }
   ],
   "source": [
    "graphMetrics(bow_recalls_NB, bow_precisions_NB, names_bow_NB)"
   ],
   "metadata": {
    "collapsed": false,
    "pycharm": {
     "name": "#%%\n"
    }
   }
  },
  {
   "cell_type": "markdown",
   "source": [
    "* **Binary BOW - Logistic Regression**. Distribution of class metrics in `train`+`dev` sets"
   ],
   "metadata": {
    "collapsed": false
   }
  },
  {
   "cell_type": "code",
   "execution_count": 39,
   "outputs": [
    {
     "name": "stderr",
     "output_type": "stream",
     "text": [
      "No handles with labels found to put in legend.\n",
      "No handles with labels found to put in legend.\n"
     ]
    },
    {
     "data": {
      "text/plain": "<Figure size 1296x720 with 2 Axes>",
      "image/png": "[encoded data removed]"
     },
     "metadata": {
      "needs_background": "light"
     },
     "output_type": "display_data"
    }
   ],
   "source": [
    "graphMetrics(bow_bool_recalls_NB, bow_bool_precisions_NB, names_bool_NB)"
   ],
   "metadata": {
    "collapsed": false,
    "pycharm": {
     "name": "#%%\n"
    }
   }
  },
  {
   "cell_type": "markdown",
   "source": [
    "* **Custom repr - Logistic Regression**. Distribution of class metrics in `train`+`dev` sets"
   ],
   "metadata": {
    "collapsed": false
   }
  },
  {
   "cell_type": "code",
   "execution_count": 40,
   "outputs": [
    {
     "name": "stderr",
     "output_type": "stream",
     "text": [
      "No handles with labels found to put in legend.\n",
      "No handles with labels found to put in legend.\n"
     ]
    },
    {
     "data": {
      "text/plain": "<Figure size 1296x720 with 2 Axes>",
      "image/png": "[encoded data removed]"
     },
     "metadata": {
      "needs_background": "light"
     },
     "output_type": "display_data"
    }
   ],
   "source": [
    "graphMetrics(tfidf_recalls_NB, tfidf_precisions_NB, names_tfidf_NB)\n"
   ],
   "metadata": {
    "collapsed": false,
    "pycharm": {
     "name": "#%%\n"
    }
   }
  },
  {
   "cell_type": "markdown",
   "source": [
    "### Escogencia de hiperparámetros.\n",
    "\n",
    "**LR**\n",
    "\n",
    "En este caso la representación que convergió significativamente más rápido fue *tfidf*. Esto en parte por que son vectores mucho menos dispersos.de\n",
    "\n",
    "Por ende, escogeremos los hiperparámetros de LR que mayor hayan rendido en el caso *tfid*. un *c penalty* de 1 y *weighted classed* en `None`.\n",
    "\n",
    "**NB**\n",
    "\n",
    "En Naive Bayes, todos los modelos fueron rápidos en comparación con los de **LR**. Por ende escogeremos los hipeerparámetros que se comporten\n",
    "aproximadamente mejor que el resto en las 6 gráficas. Esto corresponde a un *alpha smoothing* cercano a 0 con fit prior `True`\n"
   ],
   "metadata": {
    "collapsed": false
   }
  },
  {
   "cell_type": "code",
   "execution_count": 41,
   "outputs": [],
   "source": [
    "def getFinalModels():\n",
    "    c, cw = 1, None\n",
    "    alpha, fit_prior = 0, True\n",
    "    LR_model, NB_model = model(penalty=c, class_weight=cw), NBmodel(alpha=alpha, fit_prior=fit_prior)\n",
    "    LR_models = LR_model, copy.copy(LR_model), copy.copy(LR_model)\n",
    "    NB_models = NB_model, copy.copy(NB_model), copy.copy(NB_model)\n",
    "    return LR_models, NB_models\n",
    "\n",
    "[LR_bow_model, LR_bool_model, LR_tfidf_model],\\\n",
    "[NB_bow_model, NB_bool_model, NB_tfidf_model] = getFinalModels()"
   ],
   "metadata": {
    "collapsed": false,
    "pycharm": {
     "name": "#%%\n"
    }
   }
  },
  {
   "cell_type": "markdown",
   "source": [
    "#### Train final models for each Representation"
   ],
   "metadata": {
    "collapsed": false
   }
  },
  {
   "cell_type": "code",
   "execution_count": 42,
   "outputs": [],
   "source": [
    "def trainFinalModels(LR_models, NB_models, y_train, *repr):\n",
    "    assert(len(LR_models)==len([*repr]))\n",
    "    assert(len(NB_models)==len([*repr]))\n",
    "    for i in range(len([*repr])):\n",
    "        LR_models[i].fit([*repr][i], y_train)\n",
    "        print(f'LR model #{i+1} fitted')\n",
    "        NB_models[i].fit([*repr][i], y_train)\n",
    "        print(f'NB model #{i+1} fitted')"
   ],
   "metadata": {
    "collapsed": false,
    "pycharm": {
     "name": "#%%\n"
    }
   }
  },
  {
   "cell_type": "code",
   "execution_count": 43,
   "outputs": [
    {
     "name": "stdout",
     "output_type": "stream",
     "text": [
      "LR model #1 fitted\n",
      "NB model #1 fitted\n",
      "LR model #2 fitted\n",
      "NB model #2 fitted\n",
      "LR model #3 fitted\n",
      "NB model #3 fitted\n"
     ]
    }
   ],
   "source": [
    "trainFinalModels([LR_bow_model, LR_bool_model, LR_tfidf_model],\n",
    "                [NB_bow_model, NB_bool_model, NB_tfidf_model],\n",
    "                 train_y,\n",
    "                train_bow, train_bool, train_tfidf)"
   ],
   "metadata": {
    "collapsed": false,
    "pycharm": {
     "name": "#%%\n"
    }
   }
  },
  {
   "cell_type": "markdown",
   "source": [
    "##### Save trained models"
   ],
   "metadata": {
    "collapsed": false
   }
  },
  {
   "cell_type": "code",
   "execution_count": 44,
   "outputs": [],
   "source": [
    "saveModel(LR_bow_model, 'final_LR_bow')\n",
    "saveModel(LR_bool_model, 'final_LR_bool')\n",
    "saveModel(LR_tfidf_model, 'final_LR_tfidf')\n",
    "saveModel(NB_bow_model, 'final_NB_bow')\n",
    "saveModel(NB_bool_model, 'final_NB_bool')\n",
    "saveModel(NB_tfidf_model, 'final_NB_tfidf')"
   ],
   "metadata": {
    "collapsed": false,
    "pycharm": {
     "name": "#%%\n"
    }
   }
  },
  {
   "cell_type": "code",
   "execution_count": 45,
   "outputs": [],
   "source": [
    "LR_bow_model = readModel('final_LR_bow')\n",
    "LR_bool_model = readModel('final_LR_bool')\n",
    "LR_tfidf_model = readModel( 'final_LR_tfidf')\n",
    "NB_bow_model = readModel('final_NB_bow')\n",
    "NB_bool_model = readModel('final_NB_bool')\n",
    "NB_tfidf_model = readModel('final_NB_tfidf')"
   ],
   "metadata": {
    "collapsed": false,
    "pycharm": {
     "name": "#%%\n"
    }
   }
  },
  {
   "cell_type": "code",
   "execution_count": 46,
   "outputs": [],
   "source": [
    "train_bow = readModel( 'train_bow')\n",
    "train_bool = readModel( 'train_bool')\n",
    "train_tfidf = readModel( 'train_tfidf')\n",
    "test_bow = readModel( 'test_bow')\n",
    "test_bool = readModel( 'test_bool')\n",
    "test_tfidf = readModel( 'test_tfidf')"
   ],
   "metadata": {
    "collapsed": false,
    "pycharm": {
     "name": "#%%\n"
    }
   }
  },
  {
   "cell_type": "code",
   "execution_count": 47,
   "outputs": [],
   "source": [
    "final_models = [LR_bow_model, LR_bool_model, LR_tfidf_model, NB_bow_model, NB_bool_model, NB_tfidf_model]\n",
    "final_names = ['final_LR_bow', 'final_LR_bool', 'final_LR_tfidf',\n",
    "               'final_NB_bow', 'final_NB_bool', 'final_NB_tfidf']"
   ],
   "metadata": {
    "collapsed": false,
    "pycharm": {
     "name": "#%%\n"
    }
   }
  },
  {
   "cell_type": "markdown",
   "source": [
    "### Evaluate final classifiers with test set"
   ],
   "metadata": {
    "collapsed": false
   }
  },
  {
   "cell_type": "code",
   "execution_count": 48,
   "outputs": [],
   "source": [
    "def evaluateClassifier(model, X_test , y):\n",
    "    scoring = {'f1_micro': partial(f1_score, average='micro'),\n",
    "              'fi_macro': partial(f1_score, average='macro'),\n",
    "              'recall_micro': partial(recall_score, average='micro'),\n",
    "              'recall_macro': partial(recall_score, average='macro'),\n",
    "              'precision_micro': partial(precision_score, average='micro'),\n",
    "              'precision_macro': partial(precision_score, average='macro'),\n",
    "              'accuracy': accuracy_score}\n",
    "\n",
    "    y_pred = model.predict(X_test)\n",
    "    model_scores = {key: value(y, y_pred) for key, value in scoring.items()}\n",
    "    return model_scores\n",
    "\n",
    "def evaluateAllModels(models, names, X_test, y_test):\n",
    "    scores = {}\n",
    "    for i in range(len(models)):\n",
    "        scores[names[i]] = evaluateClassifier(models[i],\n",
    "                                              X_test[i],\n",
    "                                              y_test)\n",
    "    return scores"
   ],
   "metadata": {
    "collapsed": false,
    "pycharm": {
     "name": "#%%\n"
    }
   }
  },
  {
   "cell_type": "code",
   "execution_count": 49,
   "outputs": [
    {
     "name": "stdout",
     "output_type": "stream",
     "text": [
      "{'final_LR_bow': {'f1_micro': 0.8929013984776066, 'fi_macro': 0.8917233967802772, 'recall_micro': 0.8929013984776066, 'recall_macro': 0.8909877804699166, 'precision_micro': 0.8929013984776066, 'precision_macro': 0.8936189469209742, 'accuracy': 0.8929013984776066}, 'final_LR_bool': {'f1_micro': 0.8948486457780138, 'fi_macro': 0.8935474769087918, 'recall_micro': 0.8948486457780138, 'recall_macro': 0.8925127455312827, 'precision_micro': 0.8948486457780138, 'precision_macro': 0.8956173631924585, 'accuracy': 0.8948486457780138}, 'final_LR_tfidf': {'f1_micro': 0.9063551070986016, 'fi_macro': 0.9037563690212075, 'recall_micro': 0.9063551070986016, 'recall_macro': 0.9025522106026962, 'precision_micro': 0.9063551070986016, 'precision_macro': 0.9073632956674113, 'accuracy': 0.9063551070986016}, 'final_NB_bow': {'f1_micro': 0.8766153301469286, 'fi_macro': 0.8739217162377952, 'recall_micro': 0.8766153301469286, 'recall_macro': 0.874421104551104, 'precision_micro': 0.8766153301469286, 'precision_macro': 0.87826070085094, 'accuracy': 0.8766153301469286}, 'final_NB_bool': {'f1_micro': 0.8822800495662949, 'fi_macro': 0.8796258671522927, 'recall_micro': 0.8822800495662949, 'recall_macro': 0.8798057514807034, 'precision_micro': 0.8822800495662949, 'precision_macro': 0.882571522166659, 'accuracy': 0.8822800495662949}, 'final_NB_tfidf': {'f1_micro': 0.8771463975924942, 'fi_macro': 0.8752774635844448, 'recall_micro': 0.8771463975924942, 'recall_macro': 0.875212421890961, 'precision_micro': 0.8771463975924942, 'precision_macro': 0.8772402434772758, 'accuracy': 0.8771463975924942}}\n"
     ]
    }
   ],
   "source": [
    "scores = evaluateAllModels(final_models, final_names,\n",
    "                           [test_bow, test_bool, test_tfidf,\n",
    "                            test_bow, test_bool, test_tfidf],\n",
    "                           test_y)\n",
    "print(scores)\n"
   ],
   "metadata": {
    "collapsed": false,
    "pycharm": {
     "name": "#%%\n"
    }
   }
  },
  {
   "cell_type": "markdown",
   "source": [
    "Pretty print results"
   ],
   "metadata": {
    "collapsed": false
   }
  },
  {
   "cell_type": "code",
   "execution_count": 50,
   "outputs": [
    {
     "data": {
      "text/plain": "                f1_micro  fi_macro  recall_micro  recall_macro  \\\nfinal_LR_bow    0.892901  0.891723      0.892901      0.890988   \nfinal_LR_bool   0.894849  0.893547      0.894849      0.892513   \nfinal_LR_tfidf  0.906355  0.903756      0.906355      0.902552   \nfinal_NB_bow    0.876615  0.873922      0.876615      0.874421   \nfinal_NB_bool   0.882280  0.879626      0.882280      0.879806   \nfinal_NB_tfidf  0.877146  0.875277      0.877146      0.875212   \n\n                precision_micro  precision_macro  accuracy  \nfinal_LR_bow           0.892901         0.893619  0.892901  \nfinal_LR_bool          0.894849         0.895617  0.894849  \nfinal_LR_tfidf         0.906355         0.907363  0.906355  \nfinal_NB_bow           0.876615         0.878261  0.876615  \nfinal_NB_bool          0.882280         0.882572  0.882280  \nfinal_NB_tfidf         0.877146         0.877240  0.877146  ",
      "text/html": "<div>\n<style scoped>\n    .dataframe tbody tr th:only-of-type {\n        vertical-align: middle;\n    }\n\n    .dataframe tbody tr th {\n        vertical-align: top;\n    }\n\n    .dataframe thead th {\n        text-align: right;\n    }\n</style>\n<table border=\"1\" class=\"dataframe\">\n  <thead>\n    <tr style=\"text-align: right;\">\n      <th></th>\n      <th>f1_micro</th>\n      <th>fi_macro</th>\n      <th>recall_micro</th>\n      <th>recall_macro</th>\n      <th>precision_micro</th>\n      <th>precision_macro</th>\n      <th>accuracy</th>\n    </tr>\n  </thead>\n  <tbody>\n    <tr>\n      <th>final_LR_bow</th>\n      <td>0.892901</td>\n      <td>0.891723</td>\n      <td>0.892901</td>\n      <td>0.890988</td>\n      <td>0.892901</td>\n      <td>0.893619</td>\n      <td>0.892901</td>\n    </tr>\n    <tr>\n      <th>final_LR_bool</th>\n      <td>0.894849</td>\n      <td>0.893547</td>\n      <td>0.894849</td>\n      <td>0.892513</td>\n      <td>0.894849</td>\n      <td>0.895617</td>\n      <td>0.894849</td>\n    </tr>\n    <tr>\n      <th>final_LR_tfidf</th>\n      <td>0.906355</td>\n      <td>0.903756</td>\n      <td>0.906355</td>\n      <td>0.902552</td>\n      <td>0.906355</td>\n      <td>0.907363</td>\n      <td>0.906355</td>\n    </tr>\n    <tr>\n      <th>final_NB_bow</th>\n      <td>0.876615</td>\n      <td>0.873922</td>\n      <td>0.876615</td>\n      <td>0.874421</td>\n      <td>0.876615</td>\n      <td>0.878261</td>\n      <td>0.876615</td>\n    </tr>\n    <tr>\n      <th>final_NB_bool</th>\n      <td>0.882280</td>\n      <td>0.879626</td>\n      <td>0.882280</td>\n      <td>0.879806</td>\n      <td>0.882280</td>\n      <td>0.882572</td>\n      <td>0.882280</td>\n    </tr>\n    <tr>\n      <th>final_NB_tfidf</th>\n      <td>0.877146</td>\n      <td>0.875277</td>\n      <td>0.877146</td>\n      <td>0.875212</td>\n      <td>0.877146</td>\n      <td>0.877240</td>\n      <td>0.877146</td>\n    </tr>\n  </tbody>\n</table>\n</div>"
     },
     "execution_count": 50,
     "metadata": {},
     "output_type": "execute_result"
    }
   ],
   "source": [
    "score_names = ['f1_micro', 'fi_macro', 'recall_micro',\n",
    "               'recall_macro','precision_micro','precision_macro','accuracy']\n",
    "\n",
    "table = [value for value in scores.values()]\n",
    "results = pd.DataFrame(table, index=final_names)\n",
    "results\n"
   ],
   "metadata": {
    "collapsed": false,
    "pycharm": {
     "name": "#%%\n"
    }
   }
  },
  {
   "cell_type": "markdown",
   "source": [
    "### LR vs NB"
   ],
   "metadata": {
    "collapsed": false
   }
  },
  {
   "cell_type": "code",
   "execution_count": 51,
   "outputs": [
    {
     "data": {
      "text/plain": "    f1_micro  fi_macro  recall_micro  recall_macro  precision_micro  \\\nLR  0.898035  0.896342      0.898035      0.895351         0.898035   \nNB  0.878681  0.876275      0.878681      0.876480         0.878681   \n\n    precision_macro  accuracy  \nLR         0.898867  0.898035  \nNB         0.879357  0.878681  ",
      "text/html": "<div>\n<style scoped>\n    .dataframe tbody tr th:only-of-type {\n        vertical-align: middle;\n    }\n\n    .dataframe tbody tr th {\n        vertical-align: top;\n    }\n\n    .dataframe thead th {\n        text-align: right;\n    }\n</style>\n<table border=\"1\" class=\"dataframe\">\n  <thead>\n    <tr style=\"text-align: right;\">\n      <th></th>\n      <th>f1_micro</th>\n      <th>fi_macro</th>\n      <th>recall_micro</th>\n      <th>recall_macro</th>\n      <th>precision_micro</th>\n      <th>precision_macro</th>\n      <th>accuracy</th>\n    </tr>\n  </thead>\n  <tbody>\n    <tr>\n      <th>LR</th>\n      <td>0.898035</td>\n      <td>0.896342</td>\n      <td>0.898035</td>\n      <td>0.895351</td>\n      <td>0.898035</td>\n      <td>0.898867</td>\n      <td>0.898035</td>\n    </tr>\n    <tr>\n      <th>NB</th>\n      <td>0.878681</td>\n      <td>0.876275</td>\n      <td>0.878681</td>\n      <td>0.876480</td>\n      <td>0.878681</td>\n      <td>0.879357</td>\n      <td>0.878681</td>\n    </tr>\n  </tbody>\n</table>\n</div>"
     },
     "execution_count": 51,
     "metadata": {},
     "output_type": "execute_result"
    }
   ],
   "source": [
    "LR_results = results.iloc[:3].mean(axis=0).to_list()\n",
    "NB_results = results.iloc[3:].mean(axis=0).to_list()\n",
    "LRvsNB = pd.DataFrame.from_records([LR_results, NB_results], columns=score_names, index=['LR', 'NB'])\n",
    "LRvsNB"
   ],
   "metadata": {
    "collapsed": false,
    "pycharm": {
     "name": "#%%\n"
    }
   }
  },
  {
   "cell_type": "markdown",
   "source": [
    "### Bow vs Binary Bow vs Tfidf"
   ],
   "metadata": {
    "collapsed": false
   }
  },
  {
   "cell_type": "code",
   "execution_count": 52,
   "outputs": [
    {
     "data": {
      "text/plain": "            f1_micro  fi_macro  recall_micro  recall_macro  precision_micro  \\\nBow         0.884758  0.882823      0.884758      0.882704         0.884758   \nBinary Bow  0.888564  0.886587      0.888564      0.886159         0.888564   \nTfidf       0.891751  0.889517      0.891751      0.888882         0.891751   \n\n            precision_macro  accuracy  \nBow                0.885940  0.884758  \nBinary Bow         0.889094  0.888564  \nTfidf              0.892302  0.891751  ",
      "text/html": "<div>\n<style scoped>\n    .dataframe tbody tr th:only-of-type {\n        vertical-align: middle;\n    }\n\n    .dataframe tbody tr th {\n        vertical-align: top;\n    }\n\n    .dataframe thead th {\n        text-align: right;\n    }\n</style>\n<table border=\"1\" class=\"dataframe\">\n  <thead>\n    <tr style=\"text-align: right;\">\n      <th></th>\n      <th>f1_micro</th>\n      <th>fi_macro</th>\n      <th>recall_micro</th>\n      <th>recall_macro</th>\n      <th>precision_micro</th>\n      <th>precision_macro</th>\n      <th>accuracy</th>\n    </tr>\n  </thead>\n  <tbody>\n    <tr>\n      <th>Bow</th>\n      <td>0.884758</td>\n      <td>0.882823</td>\n      <td>0.884758</td>\n      <td>0.882704</td>\n      <td>0.884758</td>\n      <td>0.885940</td>\n      <td>0.884758</td>\n    </tr>\n    <tr>\n      <th>Binary Bow</th>\n      <td>0.888564</td>\n      <td>0.886587</td>\n      <td>0.888564</td>\n      <td>0.886159</td>\n      <td>0.888564</td>\n      <td>0.889094</td>\n      <td>0.888564</td>\n    </tr>\n    <tr>\n      <th>Tfidf</th>\n      <td>0.891751</td>\n      <td>0.889517</td>\n      <td>0.891751</td>\n      <td>0.888882</td>\n      <td>0.891751</td>\n      <td>0.892302</td>\n      <td>0.891751</td>\n    </tr>\n  </tbody>\n</table>\n</div>"
     },
     "execution_count": 52,
     "metadata": {},
     "output_type": "execute_result"
    }
   ],
   "source": [
    "BOW_results = results.iloc[[0, 3]].mean(axis=0).to_list()\n",
    "Bool_results = results.iloc[[1, 4]].mean(axis=0).to_list()\n",
    "Tfidf_results = results.iloc[[2, 5]].mean(axis=0).to_list()\n",
    "\n",
    "BowvsBoolvsTfidf = pd.DataFrame.from_records([BOW_results, Bool_results, Tfidf_results], columns=score_names, index=['Bow', 'Binary Bow', 'Tfidf'])\n",
    "BowvsBoolvsTfidf"
   ],
   "metadata": {
    "collapsed": false,
    "pycharm": {
     "name": "#%%\n"
    }
   }
  }
 ],
 "metadata": {
  "kernelspec": {
   "display_name": "Python 3",
   "language": "python",
   "name": "python3"
  },
  "language_info": {
   "codemirror_mode": {
    "name": "ipython",
    "version": 3
   },
   "file_extension": ".py",
   "mimetype": "text/x-python",
   "name": "python",
   "nbconvert_exporter": "python",
   "pygments_lexer": "ipython3",
   "version": "3.8.5"
  }
 },
 "nbformat": 4,
 "nbformat_minor": 1
}