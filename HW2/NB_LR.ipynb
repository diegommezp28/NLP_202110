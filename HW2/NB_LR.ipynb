{
 "cells": [
  {
   "cell_type": "markdown",
   "metadata": {
    "collapsed": true,
    "pycharm": {
     "name": "#%% md\n"
    }
   },
   "source": [
    "# Naive Bayes (NB), Logistic Regression (LR)\n",
    "***"
   ]
  },
  {
   "cell_type": "markdown",
   "metadata": {},
   "source": [
    "Imports"
   ]
  },
  {
   "cell_type": "code",
   "execution_count": 2,
   "metadata": {},
   "outputs": [
    {
     "name": "stderr",
     "output_type": "stream",
     "text": [
      "[nltk_data] Downloading package stopwords to\n",
      "[nltk_data]     C:\\Users\\diego\\AppData\\Roaming\\nltk_data...\n",
      "[nltk_data]   Package stopwords is already up-to-date!\n",
      "[nltk_data] Downloading package punkt to\n",
      "[nltk_data]     C:\\Users\\diego\\AppData\\Roaming\\nltk_data...\n",
      "[nltk_data]   Package punkt is already up-to-date!\n",
      "[nltk_data] Downloading package wordnet to\n",
      "[nltk_data]     C:\\Users\\diego\\AppData\\Roaming\\nltk_data...\n",
      "[nltk_data]   Package wordnet is already up-to-date!\n"
     ]
    },
    {
     "data": {
      "text/plain": "True"
     },
     "execution_count": 2,
     "metadata": {},
     "output_type": "execute_result"
    }
   ],
   "source": [
    "import numpy as np\n",
    "import math\n",
    "from xml.dom import minidom\n",
    "from xml.etree import cElementTree as ElementTree\n",
    "import os\n",
    "import nltk\n",
    "import pickle\n",
    "import csv\n",
    "import timeit\n",
    "import re\n",
    "import warnings\n",
    "warnings.filterwarnings('ignore')\n",
    "from scipy.sparse import hstack\n",
    "from sklearn.datasets import make_classification\n",
    "import pandas as pd\n",
    "from sklearn.model_selection import train_test_split, cross_validate, cross_val_score\n",
    "from sklearn.feature_extraction.text import CountVectorizer\n",
    "from sklearn.linear_model import LogisticRegression\n",
    "from sklearn.model_selection import KFold\n",
    "from sklearn.metrics import recall_score, make_scorer, precision_score\n",
    "from sklearn.naive_bayes import MultinomialNB\n",
    "import matplotlib.pyplot as plt\n",
    "nltk.download('stopwords')\n",
    "nltk.download('punkt')\n",
    "nltk.download('wordnet')\n",
    "\n"
   ]
  },
  {
   "cell_type": "markdown",
   "metadata": {},
   "source": [
    "#### File reading"
   ]
  },
  {
   "cell_type": "code",
   "execution_count": 3,
   "metadata": {},
   "outputs": [],
   "source": [
    "def printExecTime(func):\n",
    "    \"\"\"\n",
    "    Decorator definition for printing the execution time of a function. \n",
    "    :param func. Function for which to measure execution time.\n",
    "    \"\"\"\n",
    "    def wrapper(*args, **kwargs):\n",
    "        init_time = timeit.default_timer()\n",
    "        result = func(*args, **kwargs)\n",
    "        stop_time = timeit.default_timer()\n",
    "        total = stop_time - init_time\n",
    "        print('Execution time in sec for', func.__name__, 'was', total)\n",
    "        return result\n",
    "    return wrapper\n"
   ]
  },
  {
   "cell_type": "code",
   "execution_count": 4,
   "metadata": {
    "tags": []
   },
   "outputs": [
    {
     "name": "stdout",
     "output_type": "stream",
     "text": [
      "Execution time in sec for documentReader was 92.8334674\n",
      "Count 18828 docs read\n",
      "CLASSES and ids [(1, 'alt.atheism'), ('alt.atheism', 1)]\n"
     ]
    }
   ],
   "source": [
    "CLASSES = {}\n",
    "\n",
    "@printExecTime\n",
    "def documentReader(path):\n",
    "    global CLASSES\n",
    "    documents_path = os.path.join(os.getcwd(), path)\n",
    "    docs = {}\n",
    "    id = 1\n",
    "    for dir_name in os.listdir(documents_path):\n",
    "        CLASSES[id] = dir_name\n",
    "        CLASSES[dir_name] = id\n",
    "        class_path = os.path.join(documents_path, dir_name)\n",
    "\n",
    "        for document in os.listdir(class_path):\n",
    "            document_path = os.path.join(class_path, document)\n",
    "            file = open(document_path, 'r').read()\n",
    "            docs[str(id) + '-' + document] = file.replace(u'\\xa0', u' ').replace('\\n', ' ')\n",
    "        id += 1\n",
    "    return docs\n",
    "\n",
    "raw_docs = documentReader('datasets/20news')\n",
    "print('Count', len(raw_docs), 'docs read')\n",
    "print('CLASSES and ids', list(CLASSES.items())[:2])"
   ]
  },
  {
   "cell_type": "markdown",
   "metadata": {},
   "source": [
    "### Proccessing pipeline"
   ]
  },
  {
   "cell_type": "code",
   "execution_count": 5,
   "metadata": {},
   "outputs": [
    {
     "name": "stdout",
     "output_type": "stream",
     "text": [
      "Execution time in sec for proccessDocs was 22.917108900000017\n"
     ]
    }
   ],
   "source": [
    "\n",
    "def regexPipeFilter(text):\n",
    "    stop_words = set(nltk.corpus.stopwords.words(\"english\"))\n",
    "    lemmatizer = nltk.stem.WordNetLemmatizer()\n",
    "\n",
    "    # Remove all the special characters\n",
    "    document = re.sub(r'\\W', ' ', text)\n",
    "\n",
    "    # remove all single characters\n",
    "    document = re.sub(r'\\s+[a-zA-Z]\\s+', ' ', document)\n",
    "\n",
    "    # Converting to Lowercase\n",
    "    document = document.lower()\n",
    "\n",
    "    # Lemmatization\n",
    "    document = document.split()\n",
    "\n",
    "    document = [lemmatizer.lemmatize(word) for word in document if word not in stop_words]\n",
    "    document = ' '.join(document)\n",
    "    return document\n",
    "\n",
    "@printExecTime\n",
    "def proccessDocs(docs): \n",
    "    \"\"\"\n",
    "    Proccesing pipiling for the raw docs read from files\n",
    "    :param docs: Dictionary containing the raw docs previously read from files\n",
    "    :return: \n",
    "    \"\"\"\n",
    "    getClass = lambda x: int(x.split('-')[0])\n",
    "    proccessed_docs = [[regexPipeFilter(document), getClass(key), key] for key, document in docs.items()]\n",
    "\n",
    "    return proccessed_docs\n",
    "\n",
    "tokenized_docs = proccessDocs(raw_docs)"
   ]
  },
  {
   "cell_type": "code",
   "execution_count": 6,
   "metadata": {
    "pycharm": {
     "name": "#%%\n"
    }
   },
   "outputs": [
    {
     "name": "stdout",
     "output_type": "stream",
     "text": [
      "1\n",
      "Class: alt.atheism . mathew mathew mantis co uk subject alt atheism faq atheist resource archive name atheism resource al\n"
     ]
    }
   ],
   "source": [
    "print(tokenized_docs[0][1])\n",
    "print('Class:', CLASSES[tokenized_docs[0][1]], '.', tokenized_docs[0][0][:100])"
   ]
  },
  {
   "cell_type": "markdown",
   "metadata": {},
   "source": [
    "#### Dataset division"
   ]
  },
  {
   "cell_type": "code",
   "execution_count": 7,
   "metadata": {
    "pycharm": {
     "name": "#%%\n"
    }
   },
   "outputs": [
    {
     "name": "stdout",
     "output_type": "stream",
     "text": [
      "Train 0.5999575100913533\n",
      "Test 0.300031867431485\n",
      "Dev 0.10001062247716168\n",
      "Execution time in sec for divideSets was 0.005820400000004611\n"
     ]
    }
   ],
   "source": [
    "@printExecTime\n",
    "def divideSets(tokenized_docs,):\n",
    "    train, test, dev = 0.6, 0.3, 0.1\n",
    "    test_ratio, dev_ratio = test/(dev+test), dev/(dev+test)\n",
    "    total = len(tokenized_docs)\n",
    "\n",
    "    train_set, rest = train_test_split(tokenized_docs, test_size= 1 - train, train_size=train)\n",
    "    dev_set, test_set = train_test_split(rest, test_size=test_ratio, train_size= dev_ratio)\n",
    "\n",
    "    print('Train', len(train_set)/total)\n",
    "    print('Test', len(test_set)/total)\n",
    "    print('Dev', len(dev_set)/total)\n",
    "\n",
    "    return train_set, test_set, dev_set\n",
    "\n",
    "train_set, test_set, dev_set = divideSets(tokenized_docs)"
   ]
  },
  {
   "cell_type": "code",
   "execution_count": 8,
   "metadata": {
    "pycharm": {
     "name": "#%%\n"
    }
   },
   "outputs": [],
   "source": [
    "def extractXY(dataset):\n",
    "    \"\"\"\n",
    "    Extracts individual vectors for documents and document's classes.\n",
    "    \"\"\"\n",
    "    x , y= [], []\n",
    "    for [x_i,  y_i, _] in dataset:\n",
    "        x.append(x_i)\n",
    "        y.append(y_i)\n",
    "    return x, y\n",
    "\n",
    "train_x, train_y = extractXY(train_set)\n",
    "dev_x, dev_y = extractXY(dev_set)\n",
    "test_x, test_y = extractXY(test_set)"
   ]
  },
  {
   "cell_type": "code",
   "execution_count": 9,
   "metadata": {
    "pycharm": {
     "name": "#%%\n"
    }
   },
   "outputs": [
    {
     "name": "stdout",
     "output_type": "stream",
     "text": [
      "3\n",
      "dyu maple circa ufl edu subject memory anyone know absolute memory location window ie hardware memor\n"
     ]
    }
   ],
   "source": [
    "print(train_y[0])\n",
    "print(train_x[0][:100])"
   ]
  },
  {
   "cell_type": "markdown",
   "metadata": {},
   "source": [
    "## Feature Extraction from training set\n",
    "\n",
    "* BOW"
   ]
  },
  {
   "cell_type": "code",
   "execution_count": 10,
   "metadata": {
    "pycharm": {
     "name": "#%%\n"
    }
   },
   "outputs": [
    {
     "name": "stdout",
     "output_type": "stream",
     "text": [
      "Execution time in sec for bowBuilder was 1.7345186999999953\n",
      "(11296, 50000)\n"
     ]
    }
   ],
   "source": [
    "@printExecTime\n",
    "def bowBuilder(docs, max_features=None, min_df=1, max_df=1, binary=False):\n",
    "\n",
    "    vectorizer = CountVectorizer(max_features=max_features, binary=binary)\n",
    "    docs_bow = vectorizer.fit_transform(docs)\n",
    "    return docs_bow, vectorizer\n",
    "\n",
    "train_bow, vectorizer = bowBuilder(train_x, max_features=50000)\n",
    "print(train_bow.shape)"
   ]
  },
  {
   "cell_type": "markdown",
   "metadata": {},
   "source": [
    "Transform `test` and `dev` to *BOW* using vocabulary from `train`  set"
   ]
  },
  {
   "cell_type": "code",
   "execution_count": 11,
   "metadata": {
    "pycharm": {
     "name": "#%%\n"
    }
   },
   "outputs": [
    {
     "name": "stdout",
     "output_type": "stream",
     "text": [
      "Shape dev (1883, 50000)\n",
      "Shape test (5649, 50000)\n"
     ]
    }
   ],
   "source": [
    "dev_bow = vectorizer.transform(dev_x)\n",
    "test_bow = vectorizer.transform(test_x)\n",
    "print(\"Shape dev\", dev_bow.shape)\n",
    "print(\"Shape test\", test_bow.shape)"
   ]
  },
  {
   "cell_type": "code",
   "execution_count": 12,
   "outputs": [],
   "source": [
    "# print(train_bow.todense()[0].sum())\n",
    "# vectorizer.get_feature_names()[30000:30200]\n",
    "frequency_matrix = pd.DataFrame(train_bow.toarray(),\n",
    "                                columns = vectorizer.get_feature_names())"
   ],
   "metadata": {
    "collapsed": false,
    "pycharm": {
     "name": "#%%\n"
    }
   }
  },
  {
   "cell_type": "code",
   "execution_count": 13,
   "outputs": [
    {
     "data": {
      "text/plain": "24"
     },
     "execution_count": 13,
     "metadata": {},
     "output_type": "execute_result"
    }
   ],
   "source": [
    "frequency_matrix.iloc[0].sum()\n",
    "# train_set[0][2]\n",
    "# CLASSES[12]\n",
    "# print('good' in vectorizer.get_feature_names())\n",
    "# train_x[0]\n",
    "# vectorizer.inverse_transform(train_bow)"
   ],
   "metadata": {
    "collapsed": false,
    "pycharm": {
     "name": "#%%\n"
    }
   }
  },
  {
   "cell_type": "markdown",
   "metadata": {},
   "source": [
    "* Binary BOW representation"
   ]
  },
  {
   "cell_type": "code",
   "execution_count": 14,
   "metadata": {
    "pycharm": {
     "name": "#%%\n"
    }
   },
   "outputs": [
    {
     "name": "stdout",
     "output_type": "stream",
     "text": [
      "Execution time in sec for bowBuilder was 1.5875592000000154\n",
      "Shape bin train (11296, 128447)\n",
      "Shape bin dev (1883, 128447)\n",
      "Shape bin test (5649, 128447)\n"
     ]
    }
   ],
   "source": [
    "train_bool, bool_vectorizer = bowBuilder(train_x, binary=True)\n",
    "dev_bool = bool_vectorizer.transform(dev_x)\n",
    "test_bool = bool_vectorizer.transform(test_x)\n",
    "\n",
    "print(\"Shape bin train\", train_bool.shape)\n",
    "print(\"Shape bin dev\", dev_bool.shape)\n",
    "print(\"Shape bin test\", test_bool.shape)"
   ]
  },
  {
   "cell_type": "markdown",
   "metadata": {},
   "source": [
    "## Training models on 60% training set"
   ]
  },
  {
   "cell_type": "markdown",
   "metadata": {},
   "source": [
    "### Logistic Regression.\n",
    "\n",
    "We will evaluate some multinomial logistic Regressions with different hyperparameters seen in class such as a bias,\n",
    "class weights, and other not seen but popular sucha as L2 penalty.\n",
    ". Specifically, we will test the following\n",
    "parameter combinations:\n",
    "\n",
    "- L2 penalty: 0.1, class_weight: 'Balanced'\n",
    "- L2 penalty: 0.5, class_weight: 'Balanced'\n",
    "- L2 penalty: 1.0, class_weight: None (All have same weight: 1)\n",
    "\n",
    "In this case we will use default hyperparameters of the Sklearn implementation of the Multinomial Logistic Regression.\n",
    "\n",
    "The next step will include the hyperparameter search using 10-Fold cross Validation"
   ]
  },
  {
   "cell_type": "code",
   "execution_count": 15,
   "metadata": {
    "pycharm": {
     "name": "#%%\n"
    }
   },
   "outputs": [],
   "source": [
    "def model(penalty=1, class_weight=None, solver='lbfgs'):\n",
    "    classifier = LogisticRegression(multi_class='multinomial', solver=solver,\n",
    "                                    C=penalty, class_weight=class_weight, n_jobs=6)\n",
    "    return classifier\n",
    "\n",
    "def saveModel(model, filename, folder='datasets'):\n",
    "    path = os.path.join(os.getcwd(), folder, filename)\n",
    "    with open(path, 'wb') as picklefile:\n",
    "        pickle.dump(model, picklefile)\n",
    "\n",
    "def readModel(filename, folder='datasets'):\n",
    "    path = os.path.join(os.getcwd(), folder, filename)\n",
    "    with open(path, 'rb') as model:\n",
    "        return pickle.load(model)\n",
    "\n",
    "saveModel(train_set, 'train_set')\n",
    "saveModel(train_y, 'train_y')\n",
    "saveModel(train_bow, 'train_bow')"
   ]
  },
  {
   "cell_type": "markdown",
   "metadata": {
    "pycharm": {
     "name": "#%% md\n"
    }
   },
   "source": [
    "Definición de modelos a entrenar"
   ]
  },
  {
   "cell_type": "code",
   "execution_count": 16,
   "metadata": {
    "pycharm": {
     "name": "#%%\n"
    }
   },
   "outputs": [],
   "source": [
    "def getLRModels(solver='sag', repr='bow'):\n",
    "    models = {}\n",
    "    penalties = [0.01, 0.1, 0.5, 1]\n",
    "    class_weights = ['balanced', None]\n",
    "    for c in penalties:\n",
    "        for w in class_weights:\n",
    "            key = f'c-{c}-w-{w}-LR-{repr}'\n",
    "            models[key] = model(penalty=c, class_weight=w, solver=solver)\n",
    "    return models\n",
    "\n",
    "def evaluate_model(model, X, y, metrics=['accuracy']):\n",
    "    cv = KFold(n_splits=10)\n",
    "    scores = cross_validate(model, X, y, scoring=metrics, cv=cv, n_jobs=-1)\n",
    "    return scores\n"
   ]
  },
  {
   "cell_type": "markdown",
   "metadata": {},
   "source": [
    "Cross validate BOW representation"
   ]
  },
  {
   "cell_type": "code",
   "execution_count": 17,
   "metadata": {
    "pycharm": {
     "name": "#%%\n"
    }
   },
   "outputs": [],
   "source": [
    "@printExecTime\n",
    "def crossValidateModels(models, X, y, metrics=['accuracy']):\n",
    "    results, names = [], []\n",
    "    for name, model in models.items():\n",
    "        scores = evaluate_model(model, X, y, metrics=metrics)\n",
    "        results.append(scores)\n",
    "        names.append(name)\n",
    "        print('Got result for:', name)\n",
    "    return results, names\n",
    "\n",
    "def getPerClassScorings():\n",
    "    recall = {f'recall-{i}': make_scorer(recall_score, average=None, labels=[i]) for i in range(1, 21)}\n",
    "    precision = {f'precision-{i}': make_scorer(precision_score, average=None, labels=[i]) for i in range(1, 21)}\n",
    "    scoring = recall.copy()\n",
    "    scoring.update(precision)\n",
    "    return scoring\n"
   ]
  },
  {
   "cell_type": "code",
   "execution_count": 18,
   "outputs": [
    {
     "name": "stdout",
     "output_type": "stream",
     "text": [
      "Got result for: c-0.01-w-balanced-LR-bow\n",
      "Got result for: c-0.01-w-None-LR-bow\n",
      "Got result for: c-0.1-w-balanced-LR-bow\n",
      "Got result for: c-0.1-w-None-LR-bow\n",
      "Got result for: c-0.5-w-balanced-LR-bow\n",
      "Got result for: c-0.5-w-None-LR-bow\n",
      "Got result for: c-1-w-balanced-LR-bow\n",
      "Got result for: c-1-w-None-LR-bow\n",
      "Execution time in sec for crossValidateModels was 432.82956679999995\n"
     ]
    }
   ],
   "source": [
    "bow_results, names = crossValidateModels(getLRModels(), train_bow, train_y, metrics=getPerClassScorings())"
   ],
   "metadata": {
    "collapsed": false,
    "pycharm": {
     "name": "#%%\n"
    }
   }
  },
  {
   "cell_type": "code",
   "execution_count": null,
   "metadata": {
    "pycharm": {
     "name": "#%%\n"
    }
   },
   "outputs": [],
   "source": [
    "saveModel(bow_results, 'bow_results_LR')\n",
    "bow_results = readModel('bow_results_LR')\n",
    "print(names[0] ,bow_results[0])\n",
    "# X, y = make_classification(n_samples=100, n_features=20, n_informative=15, n_redundant=5, random_state=1, n_classes=3)\n",
    "# model = list(getLRModels().values())[0]\n",
    "# scores = cross_validate(model, X, y, cv=5, scoring=('f1_macro','accuracy','precision_macro','recall_macro'))"
   ]
  },
  {
   "cell_type": "markdown",
   "metadata": {
    "pycharm": {
     "name": "#%% md\n"
    }
   },
   "source": [
    "Cross validation binary BOW representation Linear Regression"
   ]
  },
  {
   "cell_type": "code",
   "execution_count": null,
   "metadata": {
    "pycharm": {
     "name": "#%%\n"
    }
   },
   "outputs": [],
   "source": [
    "bow_bool_results, names = crossValidateModels(getLRModels(repr='bool'), train_bool, train_y, metrics=getPerClassScorings())"
   ]
  },
  {
   "cell_type": "code",
   "execution_count": null,
   "outputs": [],
   "source": [
    "saveModel(bow_bool_results, 'bow_bool_results_LR')\n",
    "bow_bool_results = readModel('bow_bool_results_LR')\n",
    "print(names[0] ,bow_bool_results[0])"
   ],
   "metadata": {
    "collapsed": false,
    "pycharm": {
     "name": "#%%\n"
    }
   }
  },
  {
   "cell_type": "markdown",
   "source": [
    "### Naive Bayes"
   ],
   "metadata": {
    "collapsed": false
   }
  },
  {
   "cell_type": "code",
   "execution_count": null,
   "outputs": [],
   "source": [
    "def NBmodel(alpha, fit_prior):\n",
    "    return MultinomialNB(alpha=alpha, fit_prior=fit_prior)\n",
    "\n",
    "def getBayesModels(repr='bow'):\n",
    "    smoothing = [0.01, 0.1, 0.5, 1]\n",
    "    fit_prior = [True, False]\n",
    "    models = {}\n",
    "    for a in smoothing:\n",
    "        for b in fit_prior:\n",
    "            bin = str(b)[0]\n",
    "            key = f'alpha-{a}-fp-{bin}-NB-{repr}'\n",
    "            models[key] = NBmodel(alpha=a, fit_prior=b)\n",
    "    return models"
   ],
   "metadata": {
    "collapsed": false,
    "pycharm": {
     "name": "#%%\n"
    }
   }
  },
  {
   "cell_type": "markdown",
   "source": [
    "Cross validation BOW representation Naive Bayes"
   ],
   "metadata": {
    "collapsed": false
   }
  },
  {
   "cell_type": "code",
   "execution_count": null,
   "outputs": [],
   "source": [
    "bow_results_NB, names = crossValidateModels(getBayesModels(),\n",
    "                                            train_bow, train_y, metrics=getPerClassScorings())"
   ],
   "metadata": {
    "collapsed": false,
    "pycharm": {
     "name": "#%%\n"
    }
   }
  },
  {
   "cell_type": "markdown",
   "source": [
    "Cross validation binary BOW representation Naive Bayes"
   ],
   "metadata": {
    "collapsed": false
   }
  },
  {
   "cell_type": "code",
   "execution_count": null,
   "outputs": [],
   "source": [
    "bow_boolNB_results, names = crossValidateModels(getBayesModels(repr='bool'),\n",
    "                                                train_bool, train_y, metrics=getPerClassScorings())"
   ],
   "metadata": {
    "collapsed": false,
    "pycharm": {
     "name": "#%%\n"
    }
   }
  },
  {
   "cell_type": "markdown",
   "source": [
    "## Cross Validation Metrics\n",
    "\n",
    "Here we will use a 10-fold cross validation strategy over the `train`+`dev` sets to evaluate the bests hyperparameters\n",
    "for our models from a chosen subset of all the possibles hyperparameters combinations"
   ],
   "metadata": {
    "collapsed": false,
    "pycharm": {
     "name": "#%% md\n"
    }
   }
  },
  {
   "cell_type": "code",
   "execution_count": 24,
   "outputs": [],
   "source": [
    "def meanOfScores(scores, score_keys):\n",
    "    avg_recalls, avg_precisions = [], []\n",
    "    for key in score_keys:\n",
    "        avgs = np.mean(scores['test_' + key])\n",
    "        if 'recall' in key:\n",
    "            avg_recalls.append(avgs)\n",
    "        else:\n",
    "            avg_precisions.append(avgs)\n",
    "    return avg_recalls, avg_precisions\n",
    "\n",
    "\n",
    "def modelsPerScore(scoresPerModels):\n",
    "    all_recalls = []\n",
    "    all_precisions = []\n",
    "\n",
    "    for model_scores in scoresPerModels:\n",
    "        avg_recalls, avg_precisions = meanOfScores(model_scores, getPerClassScorings().keys())\n",
    "        all_recalls.append(avg_recalls)\n",
    "        all_precisions.append(avg_precisions)\n",
    "\n",
    "    return all_recalls, all_precisions\n",
    "\n",
    "\n",
    "def graphMetrics(all_recalls, all_precisions, model_names):\n",
    "    plt.rcParams[\"figure.figsize\"] = (18,10)\n",
    "    plt.subplot(2, 1, 1)\n",
    "    plt.boxplot(all_recalls, showmeans=True, labels=model_names)\n",
    "    plt.title('Boxplot of recalls distribution per class in various models')\n",
    "    plt.xlabel('Models')\n",
    "    plt.legend()\n",
    "    plt.grid(0.2)\n",
    "\n",
    "    plt.subplot(2, 1, 2)\n",
    "    plt.boxplot(all_precisions, showmeans=True, labels=model_names)\n",
    "    plt.title('Boxplot of precision distribution per class in various models')\n",
    "    plt.xlabel('Models')\n",
    "    plt.legend()\n",
    "    plt.grid(0.2)\n",
    "    plt.tight_layout()\n",
    "    plt.show()"
   ],
   "metadata": {
    "collapsed": false,
    "pycharm": {
     "name": "#%%\n"
    }
   }
  },
  {
   "cell_type": "markdown",
   "source": [
    "Here we get for each model, average recall and precision per class. This is used to graph a box plot from the metrics\n",
    "distributions for the classes in each model.\n",
    "\n",
    "*Note:* The model names correspond to the tyoe of model, its hyperparameters, and the document representation beeing\n",
    "used for the cross validation."
   ],
   "metadata": {
    "collapsed": false,
    "pycharm": {
     "name": "#%% md\n"
    }
   }
  },
  {
   "cell_type": "code",
   "execution_count": 20,
   "outputs": [],
   "source": [
    "bow_recalls, bow_precisions = modelsPerScore(bow_results)\n",
    "bow_bool_recalls, bow_bool_precisions = modelsPerScore(bow_bool_results)"
   ],
   "metadata": {
    "collapsed": false,
    "pycharm": {
     "name": "#%%\n"
    }
   }
  },
  {
   "cell_type": "markdown",
   "source": [
    "### Graph\n",
    "\n",
    "#### Logistic Regression\n",
    "\n",
    "* **BOW - Logistic Regression**. Distribution of class metrics in `train`+`dev` sets"
   ],
   "metadata": {
    "collapsed": false,
    "pycharm": {
     "name": "#%% md\n"
    }
   }
  },
  {
   "cell_type": "code",
   "execution_count": 26,
   "outputs": [
    {
     "name": "stderr",
     "output_type": "stream",
     "text": [
      "No handles with labels found to put in legend.\n",
      "No handles with labels found to put in legend.\n"
     ]
    },
    {
     "data": {
      "text/plain": "<Figure size 1296x720 with 2 Axes>",
      "image/png": "[encoded data removed]"
     },
     "metadata": {
      "needs_background": "light"
     },
     "output_type": "display_data"
    }
   ],
   "source": [
    "graphMetrics(bow_recalls, bow_precisions, names)"
   ],
   "metadata": {
    "collapsed": false,
    "pycharm": {
     "name": "#%%\n"
    }
   }
  },
  {
   "cell_type": "markdown",
   "source": [
    "* **Binary BOW - Logistic Regression**. Distribution of class metrics in `train`+`dev` sets"
   ],
   "metadata": {
    "collapsed": false
   }
  },
  {
   "cell_type": "code",
   "execution_count": null,
   "outputs": [],
   "source": [
    "graphMetrics(bow_recalls, bow_precisions, names)"
   ],
   "metadata": {
    "collapsed": false,
    "pycharm": {
     "name": "#%%\n"
    }
   }
  },
  {
   "cell_type": "markdown",
   "source": [
    "* **Custom repr - Logistic Regression**. Distribution of class metrics in `train`+`dev` sets"
   ],
   "metadata": {
    "collapsed": false,
    "pycharm": {
     "name": "#%% md\n"
    }
   }
  },
  {
   "cell_type": "code",
   "execution_count": null,
   "outputs": [],
   "source": [],
   "metadata": {
    "collapsed": false,
    "pycharm": {
     "name": "#%%\n"
    }
   }
  },
  {
   "cell_type": "markdown",
   "source": [
    "### Graph\n",
    "\n",
    "#### Naive Bayes"
   ],
   "metadata": {
    "collapsed": false
   }
  },
  {
   "cell_type": "code",
   "execution_count": null,
   "outputs": [],
   "source": [
    "bow_recalls_NB, bow_precisions_NB = modelsPerScore(bow_results_NB)\n",
    "bow_bool_recalls_NB, bow_bool_precisions_NB = modelsPerScore(bow_boolNB_results)"
   ],
   "metadata": {
    "collapsed": false,
    "pycharm": {
     "name": "#%%\n"
    }
   }
  },
  {
   "cell_type": "markdown",
   "source": [
    "* **BOW - Naive Bayes**. Distribution of class metrics in `train`+`dev` sets"
   ],
   "metadata": {
    "collapsed": false,
    "pycharm": {
     "name": "#%% md\n"
    }
   }
  },
  {
   "cell_type": "code",
   "execution_count": null,
   "outputs": [],
   "source": [
    "graphMetrics(bow_recalls_NB, bow_precisions_NB, names)"
   ],
   "metadata": {
    "collapsed": false,
    "pycharm": {
     "name": "#%%\n"
    }
   }
  },
  {
   "cell_type": "markdown",
   "source": [
    "* **Binary BOW - Logistic Regression**. Distribution of class metrics in `train`+`dev` sets"
   ],
   "metadata": {
    "collapsed": false
   }
  },
  {
   "cell_type": "code",
   "execution_count": null,
   "outputs": [],
   "source": [
    "graphMetrics(bow_recalls_NB, bow_precisions_NB, names)"
   ],
   "metadata": {
    "collapsed": false,
    "pycharm": {
     "name": "#%%\n"
    }
   }
  },
  {
   "cell_type": "markdown",
   "source": [
    "* **Custom repr - Logistic Regression**. Distribution of class metrics in `train`+`dev` sets"
   ],
   "metadata": {
    "collapsed": false
   }
  },
  {
   "cell_type": "code",
   "execution_count": null,
   "outputs": [],
   "source": [],
   "metadata": {
    "collapsed": false,
    "pycharm": {
     "name": "#%%\n"
    }
   }
  }
 ],
 "metadata": {
  "kernelspec": {
   "display_name": "Python 3",
   "language": "python",
   "name": "python3"
  },
  "language_info": {
   "codemirror_mode": {
    "name": "ipython",
    "version": 3
   },
   "file_extension": ".py",
   "mimetype": "text/x-python",
   "name": "python",
   "nbconvert_exporter": "python",
   "pygments_lexer": "ipython3",
   "version": "3.8.5"
  }
 },
 "nbformat": 4,
 "nbformat_minor": 1
}