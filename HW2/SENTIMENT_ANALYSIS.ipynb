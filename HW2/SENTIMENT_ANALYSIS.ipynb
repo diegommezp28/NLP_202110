{
 "cells": [
  {
   "cell_type": "code",
   "execution_count": 248,
   "metadata": {},
   "outputs": [],
   "source": [
    "import pandas as pd\r\n",
    "import numpy as np\r\n",
    "import nltk\r\n",
    "from nltk.tokenize import word_tokenize\r\n",
    "from nltk.corpus import stopwords\r\n",
    "from gensim.parsing.porter import PorterStemmer\r\n",
    "from gensim import corpora\r\n",
    "import os\r\n",
    "from xml.dom import minidom\r\n",
    "import re\r\n",
    "from sklearn.linear_model import LogisticRegression\r\n",
    "from sklearn.naive_bayes import MultinomialNB\r\n",
    "from sklearn.feature_extraction.text import CountVectorizer\r\n",
    "from sklearn.metrics import confusion_matrix\r\n",
    "from sklearn.ensemble import RandomForestClassifier\r\n",
    "from sklearn.tree import DecisionTreeClassifier\r\n",
    "from sklearn.model_selection import cross_validate\r\n",
    "from sklearn.metrics import accuracy_score, precision_score, recall_score, f1_score\r\n",
    "import matplotlib.pyplot as plt"
   ]
  },
  {
   "cell_type": "markdown",
   "metadata": {},
   "source": [
    "### Functions to read data"
   ]
  },
  {
   "cell_type": "code",
   "execution_count": 194,
   "metadata": {},
   "outputs": [],
   "source": [
    "books_paths = os.path.join(os.getcwd(), 'datasets/sorted_data/books')\r\n",
    "dvd_paths = os.path.join(os.getcwd(), 'datasets/sorted_data/dvd')\r\n",
    "electronics_paths = os.path.join(os.getcwd(), 'datasets/sorted_data/electronics')\r\n",
    "kitchen_paths = os.path.join(os.getcwd(), 'datasets/sorted_data/kitchen_&_housewares')\r\n",
    "stop_words = stopwords.words('english')\r\n",
    "\r\n",
    "\r\n",
    "def training_set_reader(path):\r\n",
    "    documentos = []\r\n",
    "    for filename in os.listdir(path):\r\n",
    "        if filename == 'positive.review' or filename == 'negative.review':\r\n",
    "            file_path = os.path.join(path, filename)\r\n",
    "            xmldoc = minidom.parse(file_path)\r\n",
    "            reviews = xmldoc.getElementsByTagName('review')\r\n",
    "            for review in reviews:\r\n",
    "                text = review.getElementsByTagName('review_text')[0].firstChild.nodeValue.strip()\r\n",
    "                if filename == 'positive.review':\r\n",
    "                    documentos.append((1,text))\r\n",
    "                elif filename == 'negative.review':\r\n",
    "                    documentos.append((0, text))\r\n",
    "    return documentos\r\n",
    "\r\n",
    "def testing_set_reader(path):\r\n",
    "    documentos = []\r\n",
    "    for filename in os.listdir(path):\r\n",
    "        if filename == 'test.review':\r\n",
    "            try:\r\n",
    "                file_path = os.path.join(path, filename)\r\n",
    "                xmldoc = minidom.parse(file_path)\r\n",
    "                reviews = xmldoc.getElementsByTagName('review')\r\n",
    "                for review in reviews:\r\n",
    "                    text = review.getElementsByTagName('review_text')[0].firstChild.nodeValue.strip()\r\n",
    "                    rating = review.getElementsByTagName('rating')[0].firstChild.nodeValue.strip()\r\n",
    "                    documentos.append((1 if float(rating) >= 3.5 else 0, text))\r\n",
    "            except Exception as e:\r\n",
    "                print(str(e))\r\n",
    "            \r\n",
    "    return documentos\r\n"
   ]
  },
  {
   "cell_type": "markdown",
   "metadata": {},
   "source": [
    "# I. Sentiment Classifier For Category"
   ]
  },
  {
   "cell_type": "markdown",
   "metadata": {},
   "source": [
    "## Training"
   ]
  },
  {
   "cell_type": "code",
   "execution_count": 46,
   "metadata": {},
   "outputs": [
    {
     "name": "stdout",
     "output_type": "stream",
     "text": [
      "negative.review\n",
      "positive.review\n",
      "negative.review\n",
      "positive.review\n",
      "negative.review\n",
      "positive.review\n",
      "negative.review\n",
      "positive.review\n",
      "(2000, 2)\n",
      "(2000, 2)\n",
      "(2000, 2)\n",
      "(2000, 2)\n"
     ]
    },
    {
     "data": {
      "text/html": "<div>\n<style scoped>\n    .dataframe tbody tr th:only-of-type {\n        vertical-align: middle;\n    }\n\n    .dataframe tbody tr th {\n        vertical-align: top;\n    }\n\n    .dataframe thead th {\n        text-align: right;\n    }\n</style>\n<table border=\"1\" class=\"dataframe\">\n  <thead>\n    <tr style=\"text-align: right;\">\n      <th></th>\n      <th>label</th>\n      <th>text</th>\n    </tr>\n  </thead>\n  <tbody>\n    <tr>\n      <th>0</th>\n      <td>0</td>\n      <td>This book has its good points. If anything, it...</td>\n    </tr>\n    <tr>\n      <th>1</th>\n      <td>0</td>\n      <td>The fatalistic view of Conservativism is expre...</td>\n    </tr>\n    <tr>\n      <th>2</th>\n      <td>0</td>\n      <td>I was intrigued by the title, which supposedly...</td>\n    </tr>\n    <tr>\n      <th>3</th>\n      <td>0</td>\n      <td>I admit, I haven't finished this book.  A frie...</td>\n    </tr>\n    <tr>\n      <th>4</th>\n      <td>0</td>\n      <td>I tried reading this book but found it so turg...</td>\n    </tr>\n  </tbody>\n</table>\n</div>",
      "text/plain": "   label                                               text\n0      0  This book has its good points. If anything, it...\n1      0  The fatalistic view of Conservativism is expre...\n2      0  I was intrigued by the title, which supposedly...\n3      0  I admit, I haven't finished this book.  A frie...\n4      0  I tried reading this book but found it so turg..."
     },
     "execution_count": 46,
     "metadata": {},
     "output_type": "execute_result"
    }
   ],
   "source": [
    "b_training_set = training_set_reader(books_paths)\r\n",
    "d_training_set = training_set_reader(dvd_paths)\r\n",
    "e_training_set = training_set_reader(electronics_paths)\r\n",
    "k_training_set = training_set_reader(kitchen_paths)\r\n",
    "\r\n",
    "\r\n",
    "df_train_b = pd.DataFrame(b_training_set, columns =['label', 'text'])\r\n",
    "df_train_d = pd.DataFrame(d_training_set, columns =['label', 'text'])\r\n",
    "df_train_e = pd.DataFrame(e_training_set, columns =['label', 'text'])\r\n",
    "df_train_k = pd.DataFrame(k_training_set, columns =['label', 'text'])\r\n",
    "\r\n",
    "#Cambiamos las etiquetas texutales por etiquetas numericas, esto es una buena practica cuando se construyen modelo supervisados\r\n",
    "print(df_train_b.shape)\r\n",
    "print(df_train_d.shape)\r\n",
    "print(df_train_e.shape)\r\n",
    "print(df_train_k.shape)\r\n",
    "\r\n",
    "df_train_b.head() # returns (rows, columns)"
   ]
  },
  {
   "cell_type": "markdown",
   "metadata": {},
   "source": [
    "## Testing"
   ]
  },
  {
   "cell_type": "code",
   "execution_count": 222,
   "metadata": {},
   "outputs": [
    {
     "name": "stdout",
     "output_type": "stream",
     "text": [
      "805\n",
      "832\n",
      "818\n",
      "874\n",
      "(805, 2)\n",
      "(832, 2)\n",
      "(818, 2)\n",
      "(874, 2)\n"
     ]
    },
    {
     "data": {
      "text/html": "<div>\n<style scoped>\n    .dataframe tbody tr th:only-of-type {\n        vertical-align: middle;\n    }\n\n    .dataframe tbody tr th {\n        vertical-align: top;\n    }\n\n    .dataframe thead th {\n        text-align: right;\n    }\n</style>\n<table border=\"1\" class=\"dataframe\">\n  <thead>\n    <tr style=\"text-align: right;\">\n      <th></th>\n      <th>label</th>\n      <th>text</th>\n    </tr>\n  </thead>\n  <tbody>\n    <tr>\n      <th>0</th>\n      <td>1</td>\n      <td>This all-Spanish handbook for parents with new...</td>\n    </tr>\n    <tr>\n      <th>1</th>\n      <td>1</td>\n      <td>McCarthy's writing and portrayal of Lester Bal...</td>\n    </tr>\n    <tr>\n      <th>2</th>\n      <td>0</td>\n      <td>Do you giggle uncontrollably when poking corps...</td>\n    </tr>\n    <tr>\n      <th>3</th>\n      <td>1</td>\n      <td>I was initiated into the world of Cormac McCar...</td>\n    </tr>\n    <tr>\n      <th>4</th>\n      <td>1</td>\n      <td>I cannot speak to the literary points in the n...</td>\n    </tr>\n  </tbody>\n</table>\n</div>",
      "text/plain": "   label                                               text\n0      1  This all-Spanish handbook for parents with new...\n1      1  McCarthy's writing and portrayal of Lester Bal...\n2      0  Do you giggle uncontrollably when poking corps...\n3      1  I was initiated into the world of Cormac McCar...\n4      1  I cannot speak to the literary points in the n..."
     },
     "execution_count": 222,
     "metadata": {},
     "output_type": "execute_result"
    }
   ],
   "source": [
    "b_testing_set = testing_set_reader(books_paths)\r\n",
    "d_testing_set = testing_set_reader(dvd_paths)\r\n",
    "e_testing_set = testing_set_reader(electronics_paths)\r\n",
    "k_testing_set = testing_set_reader(kitchen_paths)\r\n",
    "\r\n",
    "print(len(b_testing_set))\r\n",
    "print(len(d_testing_set))\r\n",
    "print(len(e_testing_set))\r\n",
    "print(len(k_testing_set))\r\n",
    "\r\n",
    "df_test_b = pd.DataFrame(b_testing_set, columns =['label', 'text'])\r\n",
    "df_test_d = pd.DataFrame(d_testing_set, columns =['label', 'text'])\r\n",
    "df_test_e = pd.DataFrame(e_testing_set, columns =['label', 'text'])\r\n",
    "df_test_k = pd.DataFrame(k_testing_set, columns =['label', 'text'])\r\n",
    "\r\n",
    "#Cambiamos las etiquetas texutales por etiquetas numericas, esto es una buena practica cuando se construyen modelo supervisados\r\n",
    "print(df_test_b.shape)\r\n",
    "print(df_test_d.shape)\r\n",
    "print(df_test_e.shape)\r\n",
    "print(df_test_k.shape)\r\n",
    "\r\n",
    "df_test_b.head() # returns (rows, columns)"
   ]
  },
  {
   "cell_type": "code",
   "execution_count": 48,
   "metadata": {},
   "outputs": [],
   "source": [
    "def converting_negative_words(text):\r\n",
    "    arr = []\r\n",
    "    hasNegative = False\r\n",
    "    for w in text.split(' '):\r\n",
    "        normalized_word = w\r\n",
    "        hasPunctuation = re.search('(\\.|,|:|;)$', w)\r\n",
    "        isNegative = re.search('(n\\'t$|^not?$|^non|^mis|^il|^im|^in|^ir)', w)\r\n",
    "        if isNegative:\r\n",
    "            hasNegative = True\r\n",
    "        if hasNegative == True and not isNegative:\r\n",
    "            normalized_word = 'NOT_' + w\r\n",
    "        if hasNegative and hasPunctuation:\r\n",
    "            hasNegative = False\r\n",
    "            normalized_word = normalized_word[:-1]\r\n",
    "            \r\n",
    "        arr.append(normalized_word)\r\n",
    "    return ' '.join([str(elem) for elem in arr])\r\n",
    "\r\n",
    "def tokenizer(text):\r\n",
    "    p = PorterStemmer()\r\n",
    "    stemmer_text = p.stem_sentence(text)\r\n",
    "    new_text = converting_negative_words(stemmer_text)\r\n",
    "    tokens = [t.lower() for t in word_tokenize(new_text) if t not in stop_words and (re.search('^NOT_', t) or t.isalpha())]\r\n",
    "    return tokens"
   ]
  },
  {
   "cell_type": "markdown",
   "metadata": {},
   "source": [
    "## Building BOW"
   ]
  },
  {
   "cell_type": "code",
   "execution_count": 125,
   "metadata": {},
   "outputs": [
    {
     "name": "stdout",
     "output_type": "stream",
     "text": [
      "  (0, 554)\t2\n",
      "  (0, 669)\t1\n",
      "  (0, 1085)\t1\n",
      "  (0, 2409)\t1\n",
      "  (0, 2415)\t1\n",
      "  (0, 2871)\t1\n",
      "  (0, 4528)\t1\n",
      "  (0, 4932)\t2\n",
      "  (0, 5520)\t1\n",
      "  (0, 6528)\t1\n",
      "  (0, 6671)\t2\n",
      "  (0, 6913)\t1\n",
      "  (0, 7499)\t1\n",
      "  (0, 9027)\t1\n",
      "  (0, 10003)\t1\n",
      "  (0, 10405)\t1\n",
      "  (0, 10979)\t1\n",
      "  (0, 11662)\t1\n",
      "  (0, 13249)\t1\n",
      "  (0, 13821)\t1\n",
      "  (0, 14081)\t1\n",
      "  (0, 15434)\t1\n",
      "  (0, 16319)\t1\n",
      "  (0, 20521)\t1\n",
      "  (0, 21514)\t1\n",
      "  (0, 21518)\t1\n",
      "  (0, 23565)\t1\n",
      "  (0, 24561)\t1\n"
     ]
    }
   ],
   "source": [
    "count_vector_b = CountVectorizer(tokenizer=tokenizer)\r\n",
    "count_vector_d = CountVectorizer(tokenizer=tokenizer)\r\n",
    "count_vector_e = CountVectorizer(tokenizer=tokenizer)\r\n",
    "count_vector_k = CountVectorizer(tokenizer=tokenizer)\r\n",
    "\r\n",
    "y_train_b = df_train_b['label']\r\n",
    "y_train_d = df_train_d['label']\r\n",
    "y_train_e = df_train_e['label']\r\n",
    "y_train_k = df_train_k['label']\r\n",
    "\r\n",
    "# Fit the training data and then return the matrix\r\n",
    "training_data_b = count_vector_b.fit_transform((df_train_b['text']))\r\n",
    "training_data_d = count_vector_d.fit_transform((df_train_d['text']))\r\n",
    "training_data_e = count_vector_e.fit_transform((df_train_e['text']))\r\n",
    "training_data_k = count_vector_k.fit_transform((df_train_k['text']))\r\n",
    "\r\n",
    "y_test_b = df_test_b['label']\r\n",
    "y_test_d = df_test_d['label']\r\n",
    "y_test_e = df_test_e['label']\r\n",
    "y_test_k = df_test_k['label']\r\n",
    "\r\n",
    "# Transform testing data and return the matrix. Note we are not fitting the testing data into the CountVectorizer()\r\n",
    "testing_data_b = count_vector_b.transform(df_test_b['text'])\r\n",
    "testing_data_d = count_vector_d.transform(df_test_d['text'])\r\n",
    "testing_data_e = count_vector_e.transform(df_test_e['text'])\r\n",
    "testing_data_k = count_vector_k.transform(df_test_k['text'])\r\n"
   ]
  },
  {
   "cell_type": "markdown",
   "metadata": {},
   "source": [
    "## Naive Bayes - BOW"
   ]
  },
  {
   "cell_type": "code",
   "execution_count": 134,
   "metadata": {},
   "outputs": [
    {
     "name": "stdout",
     "output_type": "stream",
     "text": [
      "  (0, 554)\t2\n",
      "  (0, 669)\t1\n",
      "  (0, 1085)\t1\n",
      "  (0, 2409)\t1\n",
      "  (0, 2415)\t1\n",
      "  (0, 2871)\t1\n",
      "  (0, 4528)\t1\n",
      "  (0, 4932)\t2\n",
      "  (0, 5520)\t1\n",
      "  (0, 6528)\t1\n",
      "  (0, 6671)\t2\n",
      "  (0, 6913)\t1\n",
      "  (0, 7499)\t1\n",
      "  (0, 9027)\t1\n",
      "  (0, 10003)\t1\n",
      "  (0, 10405)\t1\n",
      "  (0, 10979)\t1\n",
      "  (0, 11662)\t1\n",
      "  (0, 13249)\t1\n",
      "  (0, 13821)\t1\n",
      "  (0, 14081)\t1\n",
      "  (0, 15434)\t1\n",
      "  (0, 16319)\t1\n",
      "  (0, 20521)\t1\n",
      "  (0, 21514)\t1\n",
      "  :\t:\n",
      "  (804, 17166)\t1\n",
      "  (804, 17983)\t1\n",
      "  (804, 18146)\t1\n",
      "  (804, 18194)\t1\n",
      "  (804, 18366)\t1\n",
      "  (804, 18820)\t3\n",
      "  (804, 18828)\t1\n",
      "  (804, 18855)\t1\n",
      "  (804, 18870)\t1\n",
      "  (804, 18971)\t5\n",
      "  (804, 18994)\t1\n",
      "  (804, 19145)\t1\n",
      "  (804, 19566)\t2\n",
      "  (804, 19589)\t1\n",
      "  (804, 21595)\t1\n",
      "  (804, 21613)\t1\n",
      "  (804, 21707)\t1\n",
      "  (804, 21729)\t1\n",
      "  (804, 21906)\t2\n",
      "  (804, 24514)\t1\n",
      "  (804, 24561)\t2\n",
      "  (804, 24576)\t1\n",
      "  (804, 24982)\t1\n",
      "  (804, 25712)\t1\n",
      "  (804, 26080)\t1\n"
     ]
    },
    {
     "data": {
      "text/html": "<div>\n<style scoped>\n    .dataframe tbody tr th:only-of-type {\n        vertical-align: middle;\n    }\n\n    .dataframe tbody tr th {\n        vertical-align: top;\n    }\n\n    .dataframe thead th {\n        text-align: right;\n    }\n</style>\n<table border=\"1\" class=\"dataframe\">\n  <thead>\n    <tr style=\"text-align: right;\">\n      <th></th>\n      <th>Precision</th>\n      <th>Recall</th>\n      <th>F1 Score</th>\n      <th>Accuracy</th>\n    </tr>\n  </thead>\n  <tbody>\n    <tr>\n      <th>Books</th>\n      <td>0.9557894736842105</td>\n      <td>0.6522988505747126</td>\n      <td>0.7754056362083688</td>\n      <td>0.6732919254658385</td>\n    </tr>\n    <tr>\n      <th>DVDs</th>\n      <td>0.9721706864564007</td>\n      <td>0.7109905020352781</td>\n      <td>0.8213166144200628</td>\n      <td>0.7259615384615384</td>\n    </tr>\n    <tr>\n      <th>Electronics</th>\n      <td>0.9486238532110092</td>\n      <td>0.8103448275862069</td>\n      <td>0.8740490278951818</td>\n      <td>0.8178484107579462</td>\n    </tr>\n    <tr>\n      <th>Kitchens</th>\n      <td>0.953405017921147</td>\n      <td>0.7698986975397974</td>\n      <td>0.8518815052041634</td>\n      <td>0.7883295194508009</td>\n    </tr>\n  </tbody>\n</table>\n</div>",
      "text/plain": "                      Precision              Recall            F1 Score  \\\nBooks        0.9557894736842105  0.6522988505747126  0.7754056362083688   \nDVDs         0.9721706864564007  0.7109905020352781  0.8213166144200628   \nElectronics  0.9486238532110092  0.8103448275862069  0.8740490278951818   \nKitchens      0.953405017921147  0.7698986975397974  0.8518815052041634   \n\n                       Accuracy  \nBooks        0.6732919254658385  \nDVDs         0.7259615384615384  \nElectronics  0.8178484107579462  \nKitchens     0.7883295194508009  "
     },
     "execution_count": 134,
     "metadata": {},
     "output_type": "execute_result"
    }
   ],
   "source": [
    "naive_bayes_b = MultinomialNB()\r\n",
    "naive_bayes_d = MultinomialNB()\r\n",
    "naive_bayes_e = MultinomialNB()\r\n",
    "naive_bayes_k = MultinomialNB()\r\n",
    "\r\n",
    "naive_bayes_b.fit(training_data_b, y_train_b)\r\n",
    "naive_bayes_d.fit(training_data_d, y_train_d)\r\n",
    "naive_bayes_e.fit(training_data_e, y_train_e)\r\n",
    "naive_bayes_k.fit(training_data_k, y_train_k)\r\n",
    "\r\n",
    "preds_b_nb = naive_bayes_b.predict(testing_data_b)\r\n",
    "preds_d_nb = naive_bayes_d.predict(testing_data_d)\r\n",
    "preds_e_nb = naive_bayes_e.predict(testing_data_e)\r\n",
    "preds_k_nb = naive_bayes_k.predict(testing_data_k)\r\n",
    "\r\n",
    "dict_nb_bow = {}\r\n",
    "dict_nb_bow['Books'] = [format(precision_score(y_test_b, preds_b_nb)), format(recall_score(y_test_b, preds_b_nb)), format(f1_score(y_test_b, preds_b_nb)), format(accuracy_score(y_test_b, preds_b_nb))]\r\n",
    "dict_nb_bow['DVDs'] = [format(precision_score(y_test_d, preds_d_nb)), format(recall_score(y_test_d, preds_d_nb)), format(f1_score(y_test_d, preds_d_nb)), format(accuracy_score(y_test_d, preds_d_nb))]\r\n",
    "dict_nb_bow['Electronics'] = [format(precision_score(y_test_e, preds_e_nb)), format(recall_score(y_test_e, preds_e_nb)), format(f1_score(y_test_e, preds_e_nb)), format(accuracy_score(y_test_e, preds_e_nb))]\r\n",
    "dict_nb_bow['Kitchens'] = [format(precision_score(y_test_k, preds_k_nb)), format(recall_score(y_test_k, preds_k_nb)), format(f1_score(y_test_k, preds_k_nb)), format(accuracy_score(y_test_k, preds_k_nb))]\r\n",
    "\r\n",
    "pd.DataFrame.from_dict(dict_nb_bow, orient='index', columns=['Precision', 'Recall', 'F1 Score', 'Accuracy'])"
   ]
  },
  {
   "cell_type": "markdown",
   "metadata": {},
   "source": [
    "## Logistic Regresion - BOW"
   ]
  },
  {
   "cell_type": "code",
   "execution_count": 52,
   "metadata": {},
   "outputs": [
    {
     "name": "stderr",
     "output_type": "stream",
     "text": [
      "C:\\Users\\allan\\AppData\\Local\\Programs\\Python\\Python37-32\\lib\\site-packages\\sklearn\\linear_model\\_logistic.py:765: ConvergenceWarning: lbfgs failed to converge (status=1):\n",
      "STOP: TOTAL NO. of ITERATIONS REACHED LIMIT.\n",
      "\n",
      "Increase the number of iterations (max_iter) or scale the data as shown in:\n",
      "    https://scikit-learn.org/stable/modules/preprocessing.html\n",
      "Please also refer to the documentation for alternative solver options:\n",
      "    https://scikit-learn.org/stable/modules/linear_model.html#logistic-regression\n",
      "  extra_warning_msg=_LOGISTIC_SOLVER_CONVERGENCE_MSG)\n"
     ]
    },
    {
     "data": {
      "text/html": "<div>\n<style scoped>\n    .dataframe tbody tr th:only-of-type {\n        vertical-align: middle;\n    }\n\n    .dataframe tbody tr th {\n        vertical-align: top;\n    }\n\n    .dataframe thead th {\n        text-align: right;\n    }\n</style>\n<table border=\"1\" class=\"dataframe\">\n  <thead>\n    <tr style=\"text-align: right;\">\n      <th></th>\n      <th>Precision</th>\n      <th>Recall</th>\n      <th>F1 Score</th>\n      <th>Accuracy</th>\n    </tr>\n  </thead>\n  <tbody>\n    <tr>\n      <th>Books</th>\n      <td>0.9454225352112676</td>\n      <td>0.771551724137931</td>\n      <td>0.8496835443037974</td>\n      <td>0.7639751552795031</td>\n    </tr>\n    <tr>\n      <th>DVDs</th>\n      <td>0.9640062597809077</td>\n      <td>0.835820895522388</td>\n      <td>0.8953488372093024</td>\n      <td>0.8269230769230769</td>\n    </tr>\n    <tr>\n      <th>Electronics</th>\n      <td>0.9497307001795332</td>\n      <td>0.829153605015674</td>\n      <td>0.8853556485355649</td>\n      <td>0.8325183374083129</td>\n    </tr>\n    <tr>\n      <th>Kitchens</th>\n      <td>0.9551724137931035</td>\n      <td>0.8017366136034733</td>\n      <td>0.8717545239968528</td>\n      <td>0.8135011441647597</td>\n    </tr>\n  </tbody>\n</table>\n</div>",
      "text/plain": "                      Precision              Recall            F1 Score  \\\nBooks        0.9454225352112676   0.771551724137931  0.8496835443037974   \nDVDs         0.9640062597809077   0.835820895522388  0.8953488372093024   \nElectronics  0.9497307001795332   0.829153605015674  0.8853556485355649   \nKitchens     0.9551724137931035  0.8017366136034733  0.8717545239968528   \n\n                       Accuracy  \nBooks        0.7639751552795031  \nDVDs         0.8269230769230769  \nElectronics  0.8325183374083129  \nKitchens     0.8135011441647597  "
     },
     "execution_count": 52,
     "metadata": {},
     "output_type": "execute_result"
    }
   ],
   "source": [
    "clf_log_b = LogisticRegression(random_state=0).fit(training_data_b, y_train_b)\r\n",
    "clf_log_d = LogisticRegression(random_state=0).fit(training_data_d, y_train_d)\r\n",
    "clf_log_e = LogisticRegression(random_state=0).fit(training_data_e, y_train_e)\r\n",
    "clf_log_k = LogisticRegression(random_state=0).fit(training_data_k, y_train_k)\r\n",
    "\r\n",
    "\r\n",
    "preds_b_lr = clf_log_b.predict(testing_data_b)\r\n",
    "preds_d_lr = clf_log_d.predict(testing_data_d)\r\n",
    "preds_e_lr = clf_log_e.predict(testing_data_e)\r\n",
    "preds_k_lr = clf_log_k.predict(testing_data_k)\r\n",
    "\r\n",
    "dict_lr_bow = {}\r\n",
    "dict_lr_bow['Books'] = [format(precision_score(y_test_b, preds_b_lr)), format(recall_score(y_test_b, preds_b_lr)), format(f1_score(y_test_b, preds_b_lr)), format(accuracy_score(y_test_b, preds_b_lr))]\r\n",
    "dict_lr_bow['DVDs'] = [format(precision_score(y_test_d, preds_d_lr)), format(recall_score(y_test_d, preds_d_lr)), format(f1_score(y_test_d, preds_d_lr)), format(accuracy_score(y_test_d, preds_d_lr))]\r\n",
    "dict_lr_bow['Electronics'] = [format(precision_score(y_test_e, preds_e_lr)), format(recall_score(y_test_e, preds_e_lr)), format(f1_score(y_test_e, preds_e_lr)), format(accuracy_score(y_test_e, preds_e_lr))]\r\n",
    "dict_lr_bow['Kitchens'] = [format(precision_score(y_test_k, preds_k_lr)), format(recall_score(y_test_k, preds_k_lr)), format(f1_score(y_test_k, preds_k_lr)), format(accuracy_score(y_test_k, preds_k_lr))]\r\n",
    "\r\n",
    "pd.DataFrame.from_dict(dict_lr_bow, orient='index', columns=['Precision', 'Recall', 'F1 Score', 'Accuracy'])\r\n"
   ]
  },
  {
   "cell_type": "markdown",
   "metadata": {},
   "source": [
    "## Binary BOW"
   ]
  },
  {
   "cell_type": "code",
   "execution_count": 54,
   "metadata": {},
   "outputs": [
    {
     "name": "stderr",
     "output_type": "stream",
     "text": [
      "C:\\Users\\allan\\AppData\\Local\\Programs\\Python\\Python37-32\\lib\\site-packages\\sklearn\\feature_extraction\\text.py:489: UserWarning: The parameter 'token_pattern' will not be used since 'tokenizer' is not None'\n",
      "  warnings.warn(\"The parameter 'token_pattern' will not be used\"\n"
     ]
    }
   ],
   "source": [
    "bin_count_vector_b = CountVectorizer(tokenizer=tokenizer, binary=True)\r\n",
    "bin_count_vector_d = CountVectorizer(tokenizer=tokenizer, binary=True)\r\n",
    "bin_count_vector_e = CountVectorizer(tokenizer=tokenizer, binary=True)\r\n",
    "bin_count_vector_k = CountVectorizer(tokenizer=tokenizer, binary=True)\r\n",
    "\r\n",
    "bin_training_data_b = bin_count_vector_b.fit_transform((df_train_b['text']))\r\n",
    "bin_training_data_d = bin_count_vector_d.fit_transform((df_train_d['text']))\r\n",
    "bin_training_data_e = bin_count_vector_e.fit_transform((df_train_e['text']))\r\n",
    "bin_training_data_k = bin_count_vector_k.fit_transform((df_train_k['text']))\r\n",
    "# count_vector.get_feature_names() #Retorna el vocabulario del corpus"
   ]
  },
  {
   "cell_type": "markdown",
   "metadata": {},
   "source": [
    "## Naive Bayes - Binary BOW"
   ]
  },
  {
   "cell_type": "code",
   "execution_count": 55,
   "metadata": {},
   "outputs": [
    {
     "data": {
      "text/html": "<div>\n<style scoped>\n    .dataframe tbody tr th:only-of-type {\n        vertical-align: middle;\n    }\n\n    .dataframe tbody tr th {\n        vertical-align: top;\n    }\n\n    .dataframe thead th {\n        text-align: right;\n    }\n</style>\n<table border=\"1\" class=\"dataframe\">\n  <thead>\n    <tr style=\"text-align: right;\">\n      <th></th>\n      <th>Precision</th>\n      <th>Recall</th>\n      <th>F1 Score</th>\n      <th>Accuracy</th>\n    </tr>\n  </thead>\n  <tbody>\n    <tr>\n      <th>Books</th>\n      <td>0.9577735124760077</td>\n      <td>0.7169540229885057</td>\n      <td>0.820049301561216</td>\n      <td>0.7279503105590062</td>\n    </tr>\n    <tr>\n      <th>DVDs</th>\n      <td>0.9713774597495528</td>\n      <td>0.7367706919945726</td>\n      <td>0.837962962962963</td>\n      <td>0.7475961538461539</td>\n    </tr>\n    <tr>\n      <th>Electronics</th>\n      <td>0.9501845018450185</td>\n      <td>0.8072100313479624</td>\n      <td>0.8728813559322034</td>\n      <td>0.8166259168704156</td>\n    </tr>\n    <tr>\n      <th>Kitchens</th>\n      <td>0.9517625231910947</td>\n      <td>0.7424023154848046</td>\n      <td>0.8341463414634147</td>\n      <td>0.7665903890160183</td>\n    </tr>\n  </tbody>\n</table>\n</div>",
      "text/plain": "                      Precision              Recall            F1 Score  \\\nBooks        0.9577735124760077  0.7169540229885057   0.820049301561216   \nDVDs         0.9713774597495528  0.7367706919945726   0.837962962962963   \nElectronics  0.9501845018450185  0.8072100313479624  0.8728813559322034   \nKitchens     0.9517625231910947  0.7424023154848046  0.8341463414634147   \n\n                       Accuracy  \nBooks        0.7279503105590062  \nDVDs         0.7475961538461539  \nElectronics  0.8166259168704156  \nKitchens     0.7665903890160183  "
     },
     "execution_count": 55,
     "metadata": {},
     "output_type": "execute_result"
    }
   ],
   "source": [
    "naive_bayes_b = MultinomialNB()\r\n",
    "naive_bayes_d = MultinomialNB()\r\n",
    "naive_bayes_e = MultinomialNB()\r\n",
    "naive_bayes_k = MultinomialNB()\r\n",
    "\r\n",
    "naive_bayes_b.fit(bin_training_data_b, y_train_b)\r\n",
    "naive_bayes_d.fit(bin_training_data_d, y_train_d)\r\n",
    "naive_bayes_e.fit(bin_training_data_e, y_train_e)\r\n",
    "naive_bayes_k.fit(bin_training_data_k, y_train_k)\r\n",
    "\r\n",
    "preds_b_bool_nb = naive_bayes_b.predict(testing_data_b)\r\n",
    "preds_d_bool_nb = naive_bayes_d.predict(testing_data_d)\r\n",
    "preds_e_bool_nb = naive_bayes_e.predict(testing_data_e)\r\n",
    "preds_k_bool_nb = naive_bayes_k.predict(testing_data_k)\r\n",
    "\r\n",
    "dict_nb_bool = {}\r\n",
    "dict_nb_bool['Books'] = [format(precision_score(y_test_b, preds_b_bool_nb)), format(recall_score(y_test_b, preds_b_bool_nb)), format(f1_score(y_test_b, preds_b_bool_nb)), format(accuracy_score(y_test_b, preds_b_bool_nb))]\r\n",
    "dict_nb_bool['DVDs'] = [format(precision_score(y_test_d, preds_d_bool_nb)), format(recall_score(y_test_d, preds_d_bool_nb)), format(f1_score(y_test_d, preds_d_bool_nb)), format(accuracy_score(y_test_d, preds_d_bool_nb))]\r\n",
    "dict_nb_bool['Electronics'] = [format(precision_score(y_test_e, preds_e_bool_nb)), format(recall_score(y_test_e, preds_e_bool_nb)), format(f1_score(y_test_e, preds_e_bool_nb)), format(accuracy_score(y_test_e, preds_e_bool_nb))]\r\n",
    "dict_nb_bool['Kitchens'] = [format(precision_score(y_test_k, preds_k_bool_nb)), format(recall_score(y_test_k, preds_k_bool_nb)), format(f1_score(y_test_k, preds_k_bool_nb)), format(accuracy_score(y_test_k, preds_k_bool_nb))]\r\n",
    "\r\n",
    "pd.DataFrame.from_dict(dict_nb_bool, orient='index', columns=['Precision', 'Recall', 'F1 Score', 'Accuracy'])\r\n"
   ]
  },
  {
   "cell_type": "markdown",
   "metadata": {},
   "source": [
    "## Logistic Regression - Binary BOW"
   ]
  },
  {
   "cell_type": "code",
   "execution_count": 56,
   "metadata": {},
   "outputs": [
    {
     "data": {
      "text/html": "<div>\n<style scoped>\n    .dataframe tbody tr th:only-of-type {\n        vertical-align: middle;\n    }\n\n    .dataframe tbody tr th {\n        vertical-align: top;\n    }\n\n    .dataframe thead th {\n        text-align: right;\n    }\n</style>\n<table border=\"1\" class=\"dataframe\">\n  <thead>\n    <tr style=\"text-align: right;\">\n      <th></th>\n      <th>Precision</th>\n      <th>Recall</th>\n      <th>F1 Score</th>\n      <th>Accuracy</th>\n    </tr>\n  </thead>\n  <tbody>\n    <tr>\n      <th>Books</th>\n      <td>0.9516728624535316</td>\n      <td>0.735632183908046</td>\n      <td>0.8298217179902755</td>\n      <td>0.7391304347826086</td>\n    </tr>\n    <tr>\n      <th>DVDs</th>\n      <td>0.965034965034965</td>\n      <td>0.7489823609226595</td>\n      <td>0.8433919022154316</td>\n      <td>0.7536057692307693</td>\n    </tr>\n    <tr>\n      <th>Electronics</th>\n      <td>0.9444444444444444</td>\n      <td>0.8260188087774295</td>\n      <td>0.8812709030100334</td>\n      <td>0.8264058679706602</td>\n    </tr>\n    <tr>\n      <th>Kitchens</th>\n      <td>0.9510869565217391</td>\n      <td>0.7597684515195369</td>\n      <td>0.84473049074819</td>\n      <td>0.7791762013729977</td>\n    </tr>\n  </tbody>\n</table>\n</div>",
      "text/plain": "                      Precision              Recall            F1 Score  \\\nBooks        0.9516728624535316   0.735632183908046  0.8298217179902755   \nDVDs          0.965034965034965  0.7489823609226595  0.8433919022154316   \nElectronics  0.9444444444444444  0.8260188087774295  0.8812709030100334   \nKitchens     0.9510869565217391  0.7597684515195369    0.84473049074819   \n\n                       Accuracy  \nBooks        0.7391304347826086  \nDVDs         0.7536057692307693  \nElectronics  0.8264058679706602  \nKitchens     0.7791762013729977  "
     },
     "execution_count": 56,
     "metadata": {},
     "output_type": "execute_result"
    }
   ],
   "source": [
    "clf_log_b = LogisticRegression(random_state=0).fit(bin_training_data_b, y_train_b)\r\n",
    "clf_log_d = LogisticRegression(random_state=0).fit(bin_training_data_d, y_train_d)\r\n",
    "clf_log_e = LogisticRegression(random_state=0).fit(bin_training_data_e, y_train_e)\r\n",
    "clf_log_k = LogisticRegression(random_state=0).fit(bin_training_data_k, y_train_k)\r\n",
    "\r\n",
    "\r\n",
    "preds_b_bool_lr = clf_log_b.predict(testing_data_b)\r\n",
    "preds_d_bool_lr = clf_log_d.predict(testing_data_d)\r\n",
    "preds_e_bool_lr = clf_log_e.predict(testing_data_e)\r\n",
    "preds_k_bool_lr = clf_log_k.predict(testing_data_k)\r\n",
    "\r\n",
    "dict_lr_bool = {}\r\n",
    "dict_lr_bool['Books'] = [format(precision_score(y_test_b, preds_b_bool_lr)), format(recall_score(y_test_b, preds_b_bool_lr)), format(f1_score(y_test_b, preds_b_bool_lr)), format(accuracy_score(y_test_b, preds_b_bool_lr))]\r\n",
    "dict_lr_bool['DVDs'] = [format(precision_score(y_test_d, preds_d_bool_lr)), format(recall_score(y_test_d, preds_d_bool_lr)), format(f1_score(y_test_d, preds_d_bool_lr)), format(accuracy_score(y_test_d, preds_d_bool_lr))]\r\n",
    "dict_lr_bool['Electronics'] = [format(precision_score(y_test_e, preds_e_bool_lr)), format(recall_score(y_test_e, preds_e_bool_lr)), format(f1_score(y_test_e, preds_e_bool_lr)), format(accuracy_score(y_test_e, preds_e_bool_lr))]\r\n",
    "dict_lr_bool['Kitchens'] = [format(precision_score(y_test_k, preds_k_bool_lr)), format(recall_score(y_test_k, preds_k_bool_lr)), format(f1_score(y_test_k, preds_k_bool_lr)), format(accuracy_score(y_test_k, preds_k_bool_lr))]\r\n",
    "\r\n",
    "pd.DataFrame.from_dict(dict_lr_bool, orient='index', columns=['Precision', 'Recall', 'F1 Score', 'Accuracy'])"
   ]
  },
  {
   "cell_type": "markdown",
   "metadata": {},
   "source": [
    "## Features Extracted From Lexicons"
   ]
  },
  {
   "cell_type": "code",
   "execution_count": 278,
   "metadata": {},
   "outputs": [
    {
     "name": "stdout",
     "output_type": "stream",
     "text": [
      "('abandon', [-2])\n",
      "('a_little', ['-0.99', '0', '0', '-0.70', '#sadness', '#disgust', 'negative', '-0.84', 'least', 'little', 'small_amount', 'shortage', 'scarce'])\n"
     ]
    }
   ],
   "source": [
    "import sys\r\n",
    "sys.path.append(os.path.join(os.getcwd(), 'datasets/EN_Lexicons'))\r\n",
    "from senticnet5 import senticnet as dict_lex_senti\r\n",
    "# pleasantness_value=0, attention_value=1, sensitivity_value=2, aptitude_value=3,polarity_label=6, polarity_value=7\r\n",
    "lexicon_path = os.path.join(os.getcwd(), 'datasets/EN_Lexicons/AFINN-111.txt')\r\n",
    "df_lexicon_AF = pd.read_csv(os.path.join(lexicon_path), sep='\\t', names=['word', 'value'])\r\n",
    "dict_lex_AF = df_lexicon_AF.set_index('word').T.to_dict('list')\r\n",
    "print(list(dict_lex_AF.items())[0])\r\n",
    "print(list(senticnet.items())[0])\r\n",
    "\r\n",
    "def get_features(word, features):\r\n",
    "    if word in dict_lex_AF:\r\n",
    "        features[0] += int(dict_lex_AF[word][0])\r\n",
    "    if word in dict_lex_senti:\r\n",
    "        features[1] += float(dict_lex_senti[word][0])\r\n",
    "        features[2] += float(dict_lex_senti[word][1])\r\n",
    "        features[3] += float(dict_lex_senti[word][2])\r\n",
    "        features[4] += float(dict_lex_senti[word][3])\r\n",
    "        features[5] += -1\r\n",
    "        if dict_lex_senti[word][6] == 'positive':\r\n",
    "            features[5] += 1\r\n",
    "        \r\n",
    "        features[6] += float(dict_lex_senti[word][7])\r\n",
    "\r\n",
    "\r\n",
    "def extract_features_from_dataset(test_set):\r\n",
    "    features_dataset = []\r\n",
    "    for doc in test_set:\r\n",
    "        cur_features = np.array([1000,1000,1000,1000,1000,1000,1000,1000])\r\n",
    "        if 'NOT_' in doc:\r\n",
    "            print(doc)\r\n",
    "        [get_features(word, cur_features) for word in doc.split(' ')]\r\n",
    "        features_dataset.append(cur_features)\r\n",
    "    a = np.asarray(features_dataset)\r\n",
    "    return a"
   ]
  },
  {
   "cell_type": "code",
   "execution_count": 279,
   "metadata": {},
   "outputs": [
    {
     "name": "stdout",
     "output_type": "stream",
     "text": [
      "[1027  982  988  983  991  984  984 1000]\n"
     ]
    }
   ],
   "source": [
    "train_features_b = extract_features_from_dataset(df_train_b['text'])\r\n",
    "train_features_d = extract_features_from_dataset(df_train_d['text'])\r\n",
    "train_features_e = extract_features_from_dataset(df_train_e['text'])\r\n",
    "train_features_k = extract_features_from_dataset(df_train_k['text'])\r\n",
    "\r\n",
    "\r\n",
    "\r\n",
    "test_features_b = extract_features_from_dataset(df_test_b['text'])\r\n",
    "test_features_d = extract_features_from_dataset(df_test_d['text'])\r\n",
    "test_features_e = extract_features_from_dataset(df_test_e['text'])\r\n",
    "test_features_k = extract_features_from_dataset(df_test_k['text'])\r\n",
    "\r\n",
    "print(train_features_b[0])"
   ]
  },
  {
   "cell_type": "markdown",
   "metadata": {},
   "source": [
    "## Naive Bayes - Lexicons"
   ]
  },
  {
   "cell_type": "code",
   "execution_count": 261,
   "metadata": {},
   "outputs": [
    {
     "data": {
      "text/html": "<div>\n<style scoped>\n    .dataframe tbody tr th:only-of-type {\n        vertical-align: middle;\n    }\n\n    .dataframe tbody tr th {\n        vertical-align: top;\n    }\n\n    .dataframe thead th {\n        text-align: right;\n    }\n</style>\n<table border=\"1\" class=\"dataframe\">\n  <thead>\n    <tr style=\"text-align: right;\">\n      <th></th>\n      <th>Precision</th>\n      <th>Recall</th>\n      <th>F1 Score</th>\n      <th>Accuracy</th>\n    </tr>\n  </thead>\n  <tbody>\n    <tr>\n      <th>Books</th>\n      <td>0.9202586206896551</td>\n      <td>0.6135057471264368</td>\n      <td>0.7362068965517242</td>\n      <td>0.6198757763975156</td>\n    </tr>\n    <tr>\n      <th>DVDs</th>\n      <td>0.9162303664921466</td>\n      <td>0.47489823609226595</td>\n      <td>0.6255585344057194</td>\n      <td>0.4963942307692308</td>\n    </tr>\n    <tr>\n      <th>Electronics</th>\n      <td>0.8580441640378549</td>\n      <td>0.4263322884012539</td>\n      <td>0.5696335078534032</td>\n      <td>0.49755501222493886</td>\n    </tr>\n    <tr>\n      <th>Kitchens</th>\n      <td>0.8891625615763546</td>\n      <td>0.5224312590448625</td>\n      <td>0.6581586144029171</td>\n      <td>0.5709382151029748</td>\n    </tr>\n  </tbody>\n</table>\n</div>",
      "text/plain": "                      Precision               Recall            F1 Score  \\\nBooks        0.9202586206896551   0.6135057471264368  0.7362068965517242   \nDVDs         0.9162303664921466  0.47489823609226595  0.6255585344057194   \nElectronics  0.8580441640378549   0.4263322884012539  0.5696335078534032   \nKitchens     0.8891625615763546   0.5224312590448625  0.6581586144029171   \n\n                        Accuracy  \nBooks         0.6198757763975156  \nDVDs          0.4963942307692308  \nElectronics  0.49755501222493886  \nKitchens      0.5709382151029748  "
     },
     "execution_count": 261,
     "metadata": {},
     "output_type": "execute_result"
    }
   ],
   "source": [
    "nb_b_lex = MultinomialNB()\r\n",
    "nb_d_lex = MultinomialNB()\r\n",
    "nb_e_lex = MultinomialNB()\r\n",
    "nb_k_lex = MultinomialNB()\r\n",
    "\r\n",
    "nb_b_lex.fit(train_features_b, y_train_b)\r\n",
    "nb_d_lex.fit(train_features_d, y_train_d)\r\n",
    "nb_e_lex.fit(train_features_e, y_train_e)\r\n",
    "nb_k_lex.fit(train_features_k, y_train_k)\r\n",
    "\r\n",
    "preds_b_lex_nb = nb_b_lex.predict(test_features_b)\r\n",
    "preds_d_lex_nb = nb_d_lex.predict(test_features_d)\r\n",
    "preds_e_lex_nb = nb_e_lex.predict(test_features_e)\r\n",
    "preds_k_lex_nb = nb_k_lex.predict(test_features_k)\r\n",
    "\r\n",
    "dict_nb_lex = {}\r\n",
    "dict_nb_lex['Books'] = [format(precision_score(y_test_b, preds_b_lex_nb)), format(recall_score(y_test_b, preds_b_lex_nb)), format(f1_score(y_test_b, preds_b_lex_nb)), format(accuracy_score(y_test_b, preds_b_lex_nb))]\r\n",
    "dict_nb_lex['DVDs'] = [format(precision_score(y_test_d, preds_d_lex_nb)), format(recall_score(y_test_d, preds_d_lex_nb)), format(f1_score(y_test_d, preds_d_lex_nb)), format(accuracy_score(y_test_d, preds_d_lex_nb))]\r\n",
    "dict_nb_lex['Electronics'] = [format(precision_score(y_test_e, preds_e_lex_nb)), format(recall_score(y_test_e, preds_e_lex_nb)), format(f1_score(y_test_e, preds_e_lex_nb)), format(accuracy_score(y_test_e, preds_e_lex_nb))]\r\n",
    "dict_nb_lex['Kitchens'] = [format(precision_score(y_test_k, preds_k_lex_nb)), format(recall_score(y_test_k, preds_k_lex_nb)), format(f1_score(y_test_k, preds_k_lex_nb)), format(accuracy_score(y_test_k, preds_k_lex_nb))]\r\n",
    "\r\n",
    "\r\n",
    "pd.DataFrame.from_dict(dict_nb_lex, orient='index', columns=['Precision', 'Recall', 'F1 Score', 'Accuracy'])"
   ]
  },
  {
   "cell_type": "markdown",
   "metadata": {},
   "source": [
    "## Logistic Regression - Lexicons"
   ]
  },
  {
   "cell_type": "code",
   "execution_count": 262,
   "metadata": {},
   "outputs": [
    {
     "name": "stderr",
     "output_type": "stream",
     "text": [
      "C:\\Users\\allan\\AppData\\Local\\Programs\\Python\\Python37-32\\lib\\site-packages\\sklearn\\linear_model\\_logistic.py:765: ConvergenceWarning: lbfgs failed to converge (status=1):\n",
      "STOP: TOTAL NO. of ITERATIONS REACHED LIMIT.\n",
      "\n",
      "Increase the number of iterations (max_iter) or scale the data as shown in:\n",
      "    https://scikit-learn.org/stable/modules/preprocessing.html\n",
      "Please also refer to the documentation for alternative solver options:\n",
      "    https://scikit-learn.org/stable/modules/linear_model.html#logistic-regression\n",
      "  extra_warning_msg=_LOGISTIC_SOLVER_CONVERGENCE_MSG)\n"
     ]
    },
    {
     "data": {
      "text/html": "<div>\n<style scoped>\n    .dataframe tbody tr th:only-of-type {\n        vertical-align: middle;\n    }\n\n    .dataframe tbody tr th {\n        vertical-align: top;\n    }\n\n    .dataframe thead th {\n        text-align: right;\n    }\n</style>\n<table border=\"1\" class=\"dataframe\">\n  <thead>\n    <tr style=\"text-align: right;\">\n      <th></th>\n      <th>Precision</th>\n      <th>Recall</th>\n      <th>F1 Score</th>\n      <th>Accuracy</th>\n    </tr>\n  </thead>\n  <tbody>\n    <tr>\n      <th>Books</th>\n      <td>0.9247967479674797</td>\n      <td>0.6537356321839081</td>\n      <td>0.765993265993266</td>\n      <td>0.6546583850931676</td>\n    </tr>\n    <tr>\n      <th>DVDs</th>\n      <td>0.937381404174573</td>\n      <td>0.6702849389416553</td>\n      <td>0.7816455696202531</td>\n      <td>0.6682692307692307</td>\n    </tr>\n    <tr>\n      <th>Electronics</th>\n      <td>0.8647450110864745</td>\n      <td>0.6112852664576802</td>\n      <td>0.7162534435261707</td>\n      <td>0.6222493887530562</td>\n    </tr>\n    <tr>\n      <th>Kitchens</th>\n      <td>0.9211087420042644</td>\n      <td>0.6251808972503617</td>\n      <td>0.7448275862068965</td>\n      <td>0.6613272311212814</td>\n    </tr>\n  </tbody>\n</table>\n</div>",
      "text/plain": "                      Precision              Recall            F1 Score  \\\nBooks        0.9247967479674797  0.6537356321839081   0.765993265993266   \nDVDs          0.937381404174573  0.6702849389416553  0.7816455696202531   \nElectronics  0.8647450110864745  0.6112852664576802  0.7162534435261707   \nKitchens     0.9211087420042644  0.6251808972503617  0.7448275862068965   \n\n                       Accuracy  \nBooks        0.6546583850931676  \nDVDs         0.6682692307692307  \nElectronics  0.6222493887530562  \nKitchens     0.6613272311212814  "
     },
     "execution_count": 262,
     "metadata": {},
     "output_type": "execute_result"
    }
   ],
   "source": [
    "clf_log_b_lex = LogisticRegression(random_state=0).fit(train_features_b, y_train_b)\r\n",
    "clf_log_d_lex = LogisticRegression(random_state=0).fit(train_features_d, y_train_d)\r\n",
    "clf_log_e_lex = LogisticRegression(random_state=0).fit(train_features_e, y_train_e)\r\n",
    "clf_log_k_lex = LogisticRegression(random_state=0).fit(train_features_k, y_train_k)\r\n",
    "\r\n",
    "preds_b_lex_lr = clf_log_b_lex.predict(test_features_b)\r\n",
    "preds_d_lex_lr = clf_log_d_lex.predict(test_features_d)\r\n",
    "preds_e_lex_lr = clf_log_e_lex.predict(test_features_e)\r\n",
    "preds_k_lex_lr = clf_log_k_lex.predict(test_features_k)\r\n",
    "\r\n",
    "dict_lr_lex = {}\r\n",
    "dict_lr_lex['Books'] = [format(precision_score(y_test_b, preds_b_lex_lr)), format(recall_score(y_test_b, preds_b_lex_lr)), format(f1_score(y_test_b, preds_b_lex_lr)), format(accuracy_score(y_test_b, preds_b_lex_lr))]\r\n",
    "dict_lr_lex['DVDs'] = [format(precision_score(y_test_d, preds_d_lex_lr)), format(recall_score(y_test_d, preds_d_lex_lr)), format(f1_score(y_test_d, preds_d_lex_lr)), format(accuracy_score(y_test_d, preds_d_lex_lr))]\r\n",
    "dict_lr_lex['Electronics'] = [format(precision_score(y_test_e, preds_e_lex_lr)), format(recall_score(y_test_e, preds_e_lex_lr)), format(f1_score(y_test_e, preds_e_lex_lr)), format(accuracy_score(y_test_e, preds_e_lex_lr))]\r\n",
    "dict_lr_lex['Kitchens'] = [format(precision_score(y_test_k, preds_k_lex_lr)), format(recall_score(y_test_k, preds_k_lex_lr)), format(f1_score(y_test_k, preds_k_lex_lr)), format(accuracy_score(y_test_k, preds_k_lex_lr))]\r\n",
    "\r\n",
    "pd.DataFrame.from_dict(dict_lr_lex, orient='index', columns=['Precision', 'Recall', 'F1 Score', 'Accuracy'])"
   ]
  },
  {
   "cell_type": "code",
   "execution_count": 263,
   "metadata": {},
   "outputs": [
    {
     "name": "stdout",
     "output_type": "stream",
     "text": [
      "[[ 0.07989145  0.01699404 -0.01050476 -0.02108992 -0.05716808  0.03940237\n",
      "   0.03736396 -0.08494834]]\n",
      "[[ 0.09264501  0.03888003 -0.03353251  0.00991215 -0.01858683  0.00893358\n",
      "   0.00975973 -0.10823991]]\n",
      "[[ 0.17199813 -0.02389011  0.0374621  -0.02031529  0.10889723 -0.01417931\n",
      "  -0.01407035 -0.24599092]]\n",
      "[[ 0.20615356  0.10897276 -0.01062094 -0.02440817 -0.03506375 -0.00130862\n",
      "   0.0023535  -0.24640746]]\n"
     ]
    },
    {
     "data": {
      "image/png": "[encoded data removed]",
      "text/plain": "<Figure size 432x288 with 1 Axes>"
     },
     "metadata": {
      "needs_background": "light"
     },
     "output_type": "display_data"
    },
    {
     "data": {
      "image/png": "[encoded data removed]",
      "text/plain": "<Figure size 432x288 with 1 Axes>"
     },
     "metadata": {
      "needs_background": "light"
     },
     "output_type": "display_data"
    },
    {
     "data": {
      "image/png": "[encoded data removed]",
      "text/plain": "<Figure size 432x288 with 1 Axes>"
     },
     "metadata": {
      "needs_background": "light"
     },
     "output_type": "display_data"
    },
    {
     "data": {
      "image/png": "[encoded data removed]",
      "text/plain": "<Figure size 432x288 with 1 Axes>"
     },
     "metadata": {
      "needs_background": "light"
     },
     "output_type": "display_data"
    }
   ],
   "source": [
    "print(clf_log_b_lex.coef_)\r\n",
    "print(clf_log_d_lex.coef_)\r\n",
    "print(clf_log_e_lex.coef_)\r\n",
    "print(clf_log_k_lex.coef_)\r\n",
    "\r\n",
    "def sacar_feature_importance_lr(lr_entrenado, X_test, con_emoticones = True):\r\n",
    "    features = X_test\r\n",
    "    if not con_emoticones:\r\n",
    "        features = [col for col in X_test.columns if ':' not in col]\r\n",
    "    coefs = [coef for coef in lr_entrenado.coef_[0]]\r\n",
    "    importance = pd\\\r\n",
    "        .DataFrame(list(zip(features, coefs)), \r\n",
    "                   columns = ['features', 'importance'])\\\r\n",
    "        .sort_values(by = 'importance', ascending = False)\r\n",
    "    importance[:10].plot.bar(x = 'features',y='importance', title = 'Logistic Regression Biggest 10 coeficients (signed)')\r\n",
    "    plt.show()\r\n",
    "\r\n",
    "sacar_feature_importance_lr(clf_log_b_lex, test_features_b)\r\n",
    "sacar_feature_importance_lr(clf_log_d_lex, test_features_d)\r\n",
    "sacar_feature_importance_lr(clf_log_e_lex, test_features_e)\r\n",
    "sacar_feature_importance_lr(clf_log_k_lex, test_features_k)\r\n"
   ]
  },
  {
   "cell_type": "markdown",
   "metadata": {},
   "source": [
    "# II. Single Multiclass Classifier"
   ]
  },
  {
   "cell_type": "markdown",
   "metadata": {},
   "source": [
    "## Training"
   ]
  },
  {
   "cell_type": "code",
   "execution_count": 264,
   "metadata": {},
   "outputs": [],
   "source": [
    "readers = [books_paths,dvd_paths, electronics_paths, kitchen_paths]\r\n",
    "def training_set_read_all():\r\n",
    "    documentos = []\r\n",
    "    for path in readers:\r\n",
    "        for filename in os.listdir(path):\r\n",
    "            if filename == 'positive.review' or filename == 'negative.review':\r\n",
    "                file_path = os.path.join(path, filename)\r\n",
    "                xmldoc = minidom.parse(file_path)\r\n",
    "                reviews = xmldoc.getElementsByTagName('review')\r\n",
    "                for review in reviews:\r\n",
    "                    text = review.getElementsByTagName('review_text')[0].firstChild.nodeValue.strip()\r\n",
    "                    if filename == 'positive.review':\r\n",
    "                        documentos.append((1,text))\r\n",
    "                    elif filename == 'negative.review':\r\n",
    "                        documentos.append((0, text))\r\n",
    "    return documentos\r\n",
    "\r\n",
    "def testing_set_read_all():\r\n",
    "    documentos = []\r\n",
    "    for path in readers:\r\n",
    "        for filename in os.listdir(path):\r\n",
    "            if filename == 'test.review':\r\n",
    "                try:\r\n",
    "                    file_path = os.path.join(path, filename)\r\n",
    "                    xmldoc = minidom.parse(file_path)\r\n",
    "                    reviews = xmldoc.getElementsByTagName('review')\r\n",
    "                    for review in reviews:\r\n",
    "                        text = review.getElementsByTagName('review_text')[0].firstChild.nodeValue.strip()\r\n",
    "                        rating = review.getElementsByTagName('rating')[0].firstChild.nodeValue.strip()\r\n",
    "                        documentos.append((1 if float(rating) >= 3.5 else 0, text))\r\n",
    "                except Exception as e:\r\n",
    "                    print(str(e))\r\n",
    "                \r\n",
    "    return documentos\r\n"
   ]
  },
  {
   "cell_type": "code",
   "execution_count": 265,
   "metadata": {},
   "outputs": [
    {
     "name": "stdout",
     "output_type": "stream",
     "text": [
      "(8000, 2)\n"
     ]
    },
    {
     "data": {
      "text/html": "<div>\n<style scoped>\n    .dataframe tbody tr th:only-of-type {\n        vertical-align: middle;\n    }\n\n    .dataframe tbody tr th {\n        vertical-align: top;\n    }\n\n    .dataframe thead th {\n        text-align: right;\n    }\n</style>\n<table border=\"1\" class=\"dataframe\">\n  <thead>\n    <tr style=\"text-align: right;\">\n      <th></th>\n      <th>label</th>\n      <th>text</th>\n    </tr>\n  </thead>\n  <tbody>\n    <tr>\n      <th>0</th>\n      <td>0</td>\n      <td>This book has its good points. If anything, it...</td>\n    </tr>\n    <tr>\n      <th>1</th>\n      <td>0</td>\n      <td>The fatalistic view of Conservativism is expre...</td>\n    </tr>\n    <tr>\n      <th>2</th>\n      <td>0</td>\n      <td>I was intrigued by the title, which supposedly...</td>\n    </tr>\n    <tr>\n      <th>3</th>\n      <td>0</td>\n      <td>I admit, I haven't finished this book.  A frie...</td>\n    </tr>\n    <tr>\n      <th>4</th>\n      <td>0</td>\n      <td>I tried reading this book but found it so turg...</td>\n    </tr>\n  </tbody>\n</table>\n</div>",
      "text/plain": "   label                                               text\n0      0  This book has its good points. If anything, it...\n1      0  The fatalistic view of Conservativism is expre...\n2      0  I was intrigued by the title, which supposedly...\n3      0  I admit, I haven't finished this book.  A frie...\n4      0  I tried reading this book but found it so turg..."
     },
     "execution_count": 265,
     "metadata": {},
     "output_type": "execute_result"
    }
   ],
   "source": [
    "training_set = training_set_read_all()\r\n",
    "\r\n",
    "df_train = pd.DataFrame(training_set, columns =['label', 'text'])\r\n",
    "\r\n",
    "#Cambiamos las etiquetas texutales por etiquetas numericas, esto es una buena practica cuando se construyen modelo supervisados\r\n",
    "print(df_train.shape)\r\n",
    "df_train.head() # returns (rows, columns)"
   ]
  },
  {
   "cell_type": "markdown",
   "metadata": {},
   "source": [
    "## Testing"
   ]
  },
  {
   "cell_type": "code",
   "execution_count": 266,
   "metadata": {},
   "outputs": [
    {
     "name": "stdout",
     "output_type": "stream",
     "text": [
      "3329\n",
      "(3329, 2)\n"
     ]
    },
    {
     "data": {
      "text/html": "<div>\n<style scoped>\n    .dataframe tbody tr th:only-of-type {\n        vertical-align: middle;\n    }\n\n    .dataframe tbody tr th {\n        vertical-align: top;\n    }\n\n    .dataframe thead th {\n        text-align: right;\n    }\n</style>\n<table border=\"1\" class=\"dataframe\">\n  <thead>\n    <tr style=\"text-align: right;\">\n      <th></th>\n      <th>label</th>\n      <th>text</th>\n    </tr>\n  </thead>\n  <tbody>\n    <tr>\n      <th>0</th>\n      <td>1</td>\n      <td>This all-Spanish handbook for parents with new...</td>\n    </tr>\n    <tr>\n      <th>1</th>\n      <td>1</td>\n      <td>McCarthy's writing and portrayal of Lester Bal...</td>\n    </tr>\n    <tr>\n      <th>2</th>\n      <td>0</td>\n      <td>Do you giggle uncontrollably when poking corps...</td>\n    </tr>\n    <tr>\n      <th>3</th>\n      <td>1</td>\n      <td>I was initiated into the world of Cormac McCar...</td>\n    </tr>\n    <tr>\n      <th>4</th>\n      <td>1</td>\n      <td>I cannot speak to the literary points in the n...</td>\n    </tr>\n  </tbody>\n</table>\n</div>",
      "text/plain": "   label                                               text\n0      1  This all-Spanish handbook for parents with new...\n1      1  McCarthy's writing and portrayal of Lester Bal...\n2      0  Do you giggle uncontrollably when poking corps...\n3      1  I was initiated into the world of Cormac McCar...\n4      1  I cannot speak to the literary points in the n..."
     },
     "execution_count": 266,
     "metadata": {},
     "output_type": "execute_result"
    }
   ],
   "source": [
    "testing_set = testing_set_read_all()\r\n",
    "\r\n",
    "print(len(testing_set))\r\n",
    "\r\n",
    "df_test = pd.DataFrame(testing_set, columns =['label', 'text'])\r\n",
    "\r\n",
    "#Cambiamos las etiquetas texutales por etiquetas numericas, esto es una buena practica cuando se construyen modelo supervisados\r\n",
    "print(df_test.shape)\r\n",
    "df_test.head() # returns (rows, columns)"
   ]
  },
  {
   "cell_type": "markdown",
   "metadata": {},
   "source": [
    "## Building BOW"
   ]
  },
  {
   "cell_type": "code",
   "execution_count": 267,
   "metadata": {},
   "outputs": [
    {
     "name": "stderr",
     "output_type": "stream",
     "text": [
      "C:\\Users\\allan\\AppData\\Local\\Programs\\Python\\Python37-32\\lib\\site-packages\\sklearn\\feature_extraction\\text.py:489: UserWarning: The parameter 'token_pattern' will not be used since 'tokenizer' is not None'\n",
      "  warnings.warn(\"The parameter 'token_pattern' will not be used\"\n"
     ]
    }
   ],
   "source": [
    "count_vector = CountVectorizer(tokenizer=tokenizer)\r\n",
    "count_vector.fit(df_train['text'])\r\n",
    "\r\n",
    "y_train = df_train['label']\r\n",
    "\r\n",
    "# Fit the training data and then return the matrix\r\n",
    "training_data = count_vector.fit_transform((df_train['text']))\r\n"
   ]
  },
  {
   "cell_type": "code",
   "execution_count": 268,
   "metadata": {},
   "outputs": [],
   "source": [
    "y_test = df_test['label']\r\n",
    "\r\n",
    "# Transform testing data and return the matrix. Note we are not fitting the testing data into the CountVectorizer()\r\n",
    "testing_data = count_vector.transform(df_test['text'])"
   ]
  },
  {
   "cell_type": "markdown",
   "metadata": {},
   "source": [
    "## Naive Bayes - BOW"
   ]
  },
  {
   "cell_type": "code",
   "execution_count": 269,
   "metadata": {},
   "outputs": [
    {
     "name": "stdout",
     "output_type": "stream",
     "text": [
      "[[ 492   75]\n",
      " [ 707 2055]]\n",
      "Accuracy score:  0.7650946230099129\n",
      "Precision score:  0.9647887323943662\n",
      "Recall score:  0.7440260680666184\n",
      "F1 score:  0.840147179067866\n"
     ]
    }
   ],
   "source": [
    "naive_bayes = MultinomialNB()\r\n",
    "\r\n",
    "naive_bayes.fit(training_data, y_train)\r\n",
    "\r\n",
    "predictions = naive_bayes.predict(testing_data)\r\n",
    "\r\n",
    "print(confusion_matrix(y_test, predictions))\r\n",
    "print('Accuracy score: ', format(accuracy_score(y_test, predictions)))\r\n",
    "print('Precision score: ', format(precision_score(y_test, predictions)))\r\n",
    "print('Recall score: ', format(recall_score(y_test, predictions)))\r\n",
    "print('F1 score: ', format(f1_score(y_test, predictions)))\r\n"
   ]
  },
  {
   "cell_type": "markdown",
   "metadata": {},
   "source": [
    "## Logistic Regression - BOW"
   ]
  },
  {
   "cell_type": "code",
   "execution_count": 270,
   "metadata": {},
   "outputs": [
    {
     "name": "stdout",
     "output_type": "stream",
     "text": [
      "Accuracy score:  0.8188645238810454\n",
      "Precision score:  0.9595572584078331\n",
      "Recall score:  0.8160753077480087\n",
      "F1 score:  0.8820191743298768\n"
     ]
    },
    {
     "name": "stderr",
     "output_type": "stream",
     "text": [
      "C:\\Users\\allan\\AppData\\Local\\Programs\\Python\\Python37-32\\lib\\site-packages\\sklearn\\linear_model\\_logistic.py:765: ConvergenceWarning: lbfgs failed to converge (status=1):\n",
      "STOP: TOTAL NO. of ITERATIONS REACHED LIMIT.\n",
      "\n",
      "Increase the number of iterations (max_iter) or scale the data as shown in:\n",
      "    https://scikit-learn.org/stable/modules/preprocessing.html\n",
      "Please also refer to the documentation for alternative solver options:\n",
      "    https://scikit-learn.org/stable/modules/linear_model.html#logistic-regression\n",
      "  extra_warning_msg=_LOGISTIC_SOLVER_CONVERGENCE_MSG)\n"
     ]
    }
   ],
   "source": [
    "clf_log = LogisticRegression(random_state=0).fit(training_data, y_train)\r\n",
    "\r\n",
    "predictions_log = clf_log.predict(testing_data)\r\n",
    "\r\n",
    "print('Accuracy score: ', format(accuracy_score(y_test, predictions_log)))\r\n",
    "print('Precision score: ', format(precision_score(y_test, predictions_log)))\r\n",
    "print('Recall score: ', format(recall_score(y_test, predictions_log)))\r\n",
    "print('F1 score: ', format(f1_score(y_test, predictions_log)))"
   ]
  },
  {
   "cell_type": "markdown",
   "metadata": {},
   "source": [
    "## Binary BOW"
   ]
  },
  {
   "cell_type": "code",
   "execution_count": 271,
   "metadata": {},
   "outputs": [
    {
     "name": "stderr",
     "output_type": "stream",
     "text": [
      "C:\\Users\\allan\\AppData\\Local\\Programs\\Python\\Python37-32\\lib\\site-packages\\sklearn\\feature_extraction\\text.py:489: UserWarning: The parameter 'token_pattern' will not be used since 'tokenizer' is not None'\n",
      "  warnings.warn(\"The parameter 'token_pattern' will not be used\"\n"
     ]
    }
   ],
   "source": [
    "bin_count_vector = CountVectorizer(tokenizer=tokenizer, binary=True)\r\n",
    "\r\n",
    "bin_count_vector.fit(df_train['text'])\r\n",
    "\r\n",
    "bin_training_data = bin_count_vector.fit_transform((df_train['text']))\r\n",
    "\r\n",
    "# count_vector.get_feature_names() #Retorna el vocabulario del corpus"
   ]
  },
  {
   "cell_type": "markdown",
   "metadata": {},
   "source": [
    "## Naive Bayes - Binary BOW"
   ]
  },
  {
   "cell_type": "code",
   "execution_count": 272,
   "metadata": {},
   "outputs": [
    {
     "name": "stdout",
     "output_type": "stream",
     "text": [
      "[[ 500   67]\n",
      " [ 656 2106]]\n",
      "Accuracy score:  0.7828176629618504\n",
      "Precision score:  0.9691670501610676\n",
      "Recall score:  0.7624909485879797\n",
      "F1 score:  0.8534954407294832\n"
     ]
    }
   ],
   "source": [
    "naive_bayes = MultinomialNB()\r\n",
    "\r\n",
    "naive_bayes.fit(bin_training_data, y_train)\r\n",
    "\r\n",
    "predictions = naive_bayes.predict(testing_data)\r\n",
    "\r\n",
    "print(confusion_matrix(y_test, predictions))\r\n",
    "\r\n",
    "print('Accuracy score: ', format(accuracy_score(y_test, predictions)))\r\n",
    "print('Precision score: ', format(precision_score(y_test, predictions)))\r\n",
    "print('Recall score: ', format(recall_score(y_test, predictions)))\r\n",
    "print('F1 score: ', format(f1_score(y_test, predictions)))"
   ]
  },
  {
   "cell_type": "markdown",
   "metadata": {},
   "source": [
    "## Logistic Regression - Binary BOW"
   ]
  },
  {
   "cell_type": "code",
   "execution_count": 273,
   "metadata": {},
   "outputs": [
    {
     "name": "stdout",
     "output_type": "stream",
     "text": [
      "Accuracy score:  0.7948332832682488\n",
      "Precision score:  0.9605671245015507\n",
      "Recall score:  0.7849384503982622\n",
      "F1 score:  0.86391711496314\n"
     ]
    }
   ],
   "source": [
    "clf_log = LogisticRegression(random_state=0).fit(bin_training_data, y_train)\r\n",
    "\r\n",
    "predictions_log = clf_log.predict(testing_data)\r\n",
    "\r\n",
    "print('Accuracy score: ', format(accuracy_score(y_test, predictions_log)))\r\n",
    "print('Precision score: ', format(precision_score(y_test, predictions_log)))\r\n",
    "print('Recall score: ', format(recall_score(y_test, predictions_log)))\r\n",
    "print('F1 score: ', format(f1_score(y_test, predictions_log)))"
   ]
  },
  {
   "cell_type": "markdown",
   "metadata": {},
   "source": [
    "## Lexicons"
   ]
  },
  {
   "cell_type": "code",
   "execution_count": 283,
   "metadata": {},
   "outputs": [
    {
     "name": "stdout",
     "output_type": "stream",
     "text": [
      "[[1027  982  988 ...  984  984 1000]\n",
      " [1005  937  946 ...  940  940 1000]\n",
      " [1001  992  990 ...  991  991 1000]\n",
      " ...\n",
      " [1004  998  999 ...  996  996 1000]\n",
      " [1003 1000 1000 ... 1000 1000 1000]\n",
      " [1003 1000  998 ...  997  997 1000]]\n",
      "[[1000  997  999 ...  998  998 1000]\n",
      " [1003  987  990 ...  987  987 1000]\n",
      " [ 999  974  985 ...  978  978 1000]\n",
      " ...\n",
      " [1000  997  998 ...  997  997 1000]\n",
      " [1000  998  998 ...  999  999 1000]\n",
      " [1009  992  985 ...  991  991 1000]]\n"
     ]
    }
   ],
   "source": [
    "training_features = extract_features_from_dataset(df_train['text'])\r\n",
    "testing_features = extract_features_from_dataset(df_test['text'])\r\n",
    "\r\n",
    "print(training_features)\r\n",
    "print(testing_features)\r\n"
   ]
  },
  {
   "cell_type": "markdown",
   "metadata": {},
   "source": [
    "## Naive Bayes - Lexicon"
   ]
  },
  {
   "cell_type": "code",
   "execution_count": 284,
   "metadata": {},
   "outputs": [
    {
     "name": "stdout",
     "output_type": "stream",
     "text": [
      "[[ 434  133]\n",
      " [1444 1318]]\n",
      "Accuracy score:  0.5262841694202464\n",
      "Precision score:  0.9083390764989663\n",
      "Recall score:  0.47719044170890657\n",
      "F1 score:  0.6256824115831948\n"
     ]
    }
   ],
   "source": [
    "naive_bayes_lex = MultinomialNB()\r\n",
    "\r\n",
    "naive_bayes_lex.fit(training_features, y_train)\r\n",
    "\r\n",
    "predictions = naive_bayes_lex.predict(testing_features)\r\n",
    "\r\n",
    "print(confusion_matrix(y_test, predictions))\r\n",
    "\r\n",
    "print('Accuracy score: ', format(accuracy_score(y_test, predictions)))\r\n",
    "print('Precision score: ', format(precision_score(y_test, predictions)))\r\n",
    "print('Recall score: ', format(recall_score(y_test, predictions)))\r\n",
    "print('F1 score: ', format(f1_score(y_test, predictions)))"
   ]
  },
  {
   "cell_type": "markdown",
   "metadata": {},
   "source": [
    "## Logistic Regresion - Lexicon"
   ]
  },
  {
   "cell_type": "code",
   "execution_count": 285,
   "metadata": {},
   "outputs": [
    {
     "name": "stdout",
     "output_type": "stream",
     "text": [
      "Accuracy score:  0.6485431060378491\n",
      "Precision score:  0.9189473684210526\n",
      "Recall score:  0.6321506154960174\n",
      "F1 score:  0.7490347490347491\n"
     ]
    }
   ],
   "source": [
    "clf_log_lr = LogisticRegression(random_state=0).fit(training_features, y_train)\r\n",
    "\r\n",
    "predictions_log = clf_log_lr.predict(testing_features)\r\n",
    "\r\n",
    "print('Accuracy score: ', format(accuracy_score(y_test, predictions_log)))\r\n",
    "print('Precision score: ', format(precision_score(y_test, predictions_log)))\r\n",
    "print('Recall score: ', format(recall_score(y_test, predictions_log)))\r\n",
    "print('F1 score: ', format(f1_score(y_test, predictions_log)))"
   ]
  },
  {
   "cell_type": "code",
   "execution_count": 286,
   "metadata": {},
   "outputs": [
    {
     "name": "stdout",
     "output_type": "stream",
     "text": [
      "[[ 0.11635023  0.03559249 -0.00493461 -0.01739275 -0.0133576   0.01298759\n",
      "   0.01291303 -0.14232564]]\n"
     ]
    },
    {
     "data": {
      "image/png": "[encoded data removed]",
      "text/plain": "<Figure size 432x288 with 1 Axes>"
     },
     "metadata": {
      "needs_background": "light"
     },
     "output_type": "display_data"
    }
   ],
   "source": [
    "print(clf_log_lr.coef_)\r\n",
    "\r\n",
    "def sacar_feature_importance_lr(lr_entrenado, X_test, con_emoticones = True):\r\n",
    "    features = X_test\r\n",
    "    if not con_emoticones:\r\n",
    "        features = [col for col in X_test.columns if ':' not in col]\r\n",
    "    coefs = [coef for coef in lr_entrenado.coef_[0]]\r\n",
    "    importance = pd\\\r\n",
    "        .DataFrame(list(zip(features, coefs)), \r\n",
    "                   columns = ['features', 'importance'])\\\r\n",
    "        .sort_values(by = 'importance', ascending = False)\r\n",
    "    importance[:10].plot.bar(x = 'features',y='importance', title = 'Logistic Regression Biggest 10 coeficients (signed)')\r\n",
    "    plt.show()\r\n",
    "\r\n",
    "sacar_feature_importance_lr(clf_log_lr, testing_features)\r\n"
   ]
  },
  {
   "cell_type": "markdown",
   "metadata": {},
   "source": [
    "# IV. Repeat point II using decision trees and random forest. Remember to probe different hyperparameters for random forest model. "
   ]
  },
  {
   "cell_type": "markdown",
   "metadata": {},
   "source": [
    "## Decision Tree Clasifier"
   ]
  },
  {
   "cell_type": "code",
   "execution_count": 276,
   "metadata": {},
   "outputs": [
    {
     "name": "stdout",
     "output_type": "stream",
     "text": [
      "Accuracy score:  0.6851907479723641\n",
      "Precision score:  0.9230009871668312\n",
      "Recall score:  0.6770456191165822\n",
      "F1 score:  0.7811194653299917\n"
     ]
    }
   ],
   "source": [
    "clf_dt = DecisionTreeClassifier(random_state=0)\r\n",
    "clf_dt.fit(training_data, y_train)\r\n",
    "predictions_log_dt = clf_dt.predict(testing_data)\r\n",
    "\r\n",
    "print('Accuracy score: ', format(accuracy_score(y_test, predictions_log_dt)))\r\n",
    "print('Precision score: ', format(precision_score(y_test, predictions_log_dt)))\r\n",
    "print('Recall score: ', format(recall_score(y_test, predictions_log_dt)))\r\n",
    "print('F1 score: ', format(f1_score(y_test, predictions_log_dt)))"
   ]
  },
  {
   "cell_type": "markdown",
   "metadata": {},
   "source": [
    "## Random Forest Classifier"
   ]
  },
  {
   "cell_type": "code",
   "execution_count": 289,
   "metadata": {},
   "outputs": [
    {
     "name": "stdout",
     "output_type": "stream",
     "text": [
      "Accuracy score:  0.7689996996094923\n",
      "Precision score:  0.9399558498896248\n",
      "Recall score:  0.7708182476466329\n",
      "F1 score:  0.8470260592798886\n",
      "-----------------------------------------\n",
      "Accuracy score:  0.7738059477320517\n",
      "Precision score:  0.9423161602818142\n",
      "Recall score:  0.774800868935554\n",
      "F1 score:  0.8503874428770117\n",
      "-----------------------------------------\n",
      "Accuracy score:  0.7584860318413938\n",
      "Precision score:  0.9286339754816112\n",
      "Recall score:  0.7679217958001449\n",
      "F1 score:  0.8406658739595719\n",
      "-----------------------------------------\n",
      "Accuracy score:  0.7584860318413938\n",
      "Precision score:  0.9286339754816112\n",
      "Recall score:  0.7679217958001449\n",
      "F1 score:  0.8406658739595719\n"
     ]
    }
   ],
   "source": [
    "clf_rf = RandomForestClassifier(max_depth=10, random_state=0)\r\n",
    "clf_rf_2 = RandomForestClassifier(max_depth=10, random_state=0, min_samples_split=3)\r\n",
    "clf_rf_3 = RandomForestClassifier(max_depth=5, random_state=0)\r\n",
    "clf_rf_4 = RandomForestClassifier(max_depth=10, random_state=0, min_samples_leaf=3)\r\n",
    "\r\n",
    "## Los métodos ensamblados de arboles tienden a hacer overfitting, un must do es hacer validación cruzada\r\n",
    "clf_rf.fit(training_data, y_train)\r\n",
    "clf_rf_2.fit(training_data, y_train)\r\n",
    "clf_rf_3.fit(training_data, y_train)\r\n",
    "clf_rf_4.fit(training_data, y_train)\r\n",
    "\r\n",
    "predictions_log_rf = clf_rf.predict(testing_data)\r\n",
    "predictions_log_rf_2 = clf_rf_2.predict(testing_data)\r\n",
    "predictions_log_rf_3 = clf_rf_3.predict(testing_data)\r\n",
    "predictions_log_rf_4 = clf_rf_4.predict(testing_data)\r\n",
    "\r\n",
    "print('Accuracy score: ', format(accuracy_score(y_test, predictions_log_rf)))\r\n",
    "print('Precision score: ', format(precision_score(y_test, predictions_log_rf)))\r\n",
    "print('Recall score: ', format(recall_score(y_test, predictions_log_rf)))\r\n",
    "print('F1 score: ', format(f1_score(y_test, predictions_log_rf)))\r\n",
    "print(\"-----------------------------------------\")\r\n",
    "print('Accuracy score: ', format(accuracy_score(y_test, predictions_log_rf_2)))\r\n",
    "print('Precision score: ', format(precision_score(y_test, predictions_log_rf_2)))\r\n",
    "print('Recall score: ', format(recall_score(y_test, predictions_log_rf_2)))\r\n",
    "print('F1 score: ', format(f1_score(y_test, predictions_log_rf_2)))\r\n",
    "print(\"-----------------------------------------\")\r\n",
    "print('Accuracy score: ', format(accuracy_score(y_test, predictions_log_rf_3)))\r\n",
    "print('Precision score: ', format(precision_score(y_test, predictions_log_rf_3)))\r\n",
    "print('Recall score: ', format(recall_score(y_test, predictions_log_rf_3)))\r\n",
    "print('F1 score: ', format(f1_score(y_test, predictions_log_rf_3)))\r\n",
    "print(\"-----------------------------------------\")\r\n",
    "print('Accuracy score: ', format(accuracy_score(y_test, predictions_log_rf_3)))\r\n",
    "print('Precision score: ', format(precision_score(y_test, predictions_log_rf_3)))\r\n",
    "print('Recall score: ', format(recall_score(y_test, predictions_log_rf_3)))\r\n",
    "print('F1 score: ', format(f1_score(y_test, predictions_log_rf_3)))\r\n",
    "\r\n"
   ]
  }
 ],
 "metadata": {
  "kernelspec": {
   "display_name": "Python 3.7.4 32-bit",
   "name": "python374jvsc74a57bd0b6e98869303ed26c7d38357073631d7fd5eff7603126353ec7c8a42a64dc76db"
  },
  "language_info": {
   "codemirror_mode": {
    "name": "ipython",
    "version": 3
   },
   "file_extension": ".py",
   "mimetype": "text/x-python",
   "name": "python",
   "nbconvert_exporter": "python",
   "pygments_lexer": "ipython3",
   "version": "3.7.4"
  },
  "metadata": {
   "interpreter": {
    "hash": "b6e98869303ed26c7d38357073631d7fd5eff7603126353ec7c8a42a64dc76db"
   }
  },
  "orig_nbformat": 2
 },
 "nbformat": 4,
 "nbformat_minor": 2
}