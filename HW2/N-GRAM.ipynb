{
 "cells": [
  {
   "cell_type": "markdown",
   "metadata": {
    "collapsed": true,
    "pycharm": {
     "name": "#%% md\n"
    }
   },
   "source": [
    "# N-Gram Language Models Implementation"
   ]
  },
  {
   "cell_type": "code",
   "execution_count": 2,
   "outputs": [],
   "source": [
    "import os\n"
   ],
   "metadata": {
    "collapsed": false,
    "pycharm": {
     "name": "#%% imports\n"
    }
   }
  },
  {
   "cell_type": "markdown",
   "source": [
    "## Reading 20N dataset"
   ],
   "metadata": {
    "collapsed": false,
    "pycharm": {
     "name": "#%% md\n"
    }
   }
  },
  {
   "cell_type": "code",
   "execution_count": 11,
   "outputs": [
    {
     "name": "stdout",
     "output_type": "stream",
     "text": [
      "Archivo terminado\n"
     ]
    }
   ],
   "source": [
    "def read_document_20N():\n",
    "    \"\"\"\n",
    "    This method reads and writes the 20N Dataset\n",
    "    :return:\n",
    "    \"\"\"\n",
    "    new_file = os.path.join(os.getcwd(), 'datasets/20news_file')\n",
    "    os.remove(new_file)\n",
    "\n",
    "    folder_path = os.path.join(os.getcwd(), 'datasets/20news-18828')\n",
    "    inner_dirs = os.listdir(folder_path)\n",
    "    for dir in inner_dirs:\n",
    "        if not dir.startswith('.'):\n",
    "            #print(dir)\n",
    "            dir_path = os.path.join(folder_path,dir)\n",
    "            filenames = os.listdir(dir_path)\n",
    "            for file in filenames:\n",
    "                cur_path = os.path.join(dir_path,file)\n",
    "                #print(\"Copying \"+file)\n",
    "                with open(cur_path,'r', errors=\"ignore\") as firstfile, open(new_file,'a') as secondfile:\n",
    "                    for line in firstfile:\n",
    "                            secondfile.write(line)\n",
    "    print(\"Archivo terminado\")\n",
    "\n",
    "\n",
    "read_document_20N()\n",
    "#print(list(documentos.items())[0])\n"
   ],
   "metadata": {
    "collapsed": false,
    "pycharm": {
     "name": "#%%\n"
    }
   }
  },
  {
   "cell_type": "markdown",
   "source": [
    "## Reading BAC dataset"
   ],
   "metadata": {
    "collapsed": false
   }
  },
  {
   "cell_type": "code",
   "execution_count": null,
   "outputs": [],
   "source": [
    "def read_document_BAC():\n",
    "    \"\"\"\n",
    "    This method reads and writes the BAC Dataset\n",
    "    :return:\n",
    "    \"\"\"\n",
    "    new_file = os.path.join(os.getcwd(), 'datasets/bac_file')\n",
    "    os.remove(new_file)\n",
    "\n",
    "    folder_path = os.path.join(os.getcwd(), 'datasets/blogs')\n",
    "    files = os.listdir(folder_path)\n",
    "    for file in files:\n",
    "        cur_path = os.path.join(folder_path,file)\n",
    "            #print(\"Copying \"+file)\n",
    "            with open(cur_path,'r', errors=\"ignore\") as firstfile, open(new_file,'a') as secondfile:\n",
    "                for line in firstfile:\n",
    "                        secondfile.write(line)\n",
    "    print(\"Archivo terminado\")\n",
    "\n",
    "\n",
    "read_document_20N()"
   ],
   "metadata": {
    "collapsed": false,
    "pycharm": {
     "name": "#%%\n"
    }
   }
  }
 ],
 "metadata": {
  "kernelspec": {
   "display_name": "Python 3",
   "language": "python",
   "name": "python3"
  },
  "language_info": {
   "codemirror_mode": {
    "name": "ipython",
    "version": 2
   },
   "file_extension": ".py",
   "mimetype": "text/x-python",
   "name": "python",
   "nbconvert_exporter": "python",
   "pygments_lexer": "ipython2",
   "version": "2.7.6"
  }
 },
 "nbformat": 4,
 "nbformat_minor": 0
}