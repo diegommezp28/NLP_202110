{
 "cells": [
  {
   "cell_type": "markdown",
   "metadata": {
    "collapsed": true,
    "pycharm": {
     "name": "#%% md\n"
    }
   },
   "source": [
    "# Mourning tweets\n",
    "\n"
   ]
  },
  {
   "cell_type": "code",
   "execution_count": 444,
   "metadata": {
    "ExecuteTime": {
     "end_time": "2021-03-30T19:24:42.755499Z",
     "start_time": "2021-03-30T19:24:37.487325Z"
    }
   },
   "outputs": [],
   "source": [
    "import emoji\n",
    "import pandas as pd\n",
    "import numpy as np\n",
    "import findspark\n",
    "import glob\n",
    "import os\n",
    "import re\n",
    "import nltk\n",
    "import pickle\n",
    "import spacy\n",
    "import matplotlib.pyplot as plt\n",
    "from sklearn import set_config\n",
    "set_config(print_changed_only=False)\n",
    "from sklearn.model_selection import train_test_split\n",
    "from sklearn.naive_bayes import MultinomialNB\n",
    "from sklearn.linear_model import LogisticRegression\n",
    "from sklearn import tree\n",
    "from sklearn.ensemble import RandomForestClassifier\n",
    "from sklearn.metrics import classification_report"
   ]
  },
  {
   "cell_type": "code",
   "execution_count": 21,
   "metadata": {
    "ExecuteTime": {
     "end_time": "2021-03-28T22:31:55.626879Z",
     "start_time": "2021-03-28T22:31:55.623901Z"
    }
   },
   "outputs": [],
   "source": [
    "# nltk.download('stopwords')\n",
    "# nltk.download('punkt')\n",
    "# nltk.download('wordnet')"
   ]
  },
  {
   "cell_type": "markdown",
   "metadata": {},
   "source": [
    "# Inicializacion de spark"
   ]
  },
  {
   "cell_type": "code",
   "execution_count": 4,
   "metadata": {
    "ExecuteTime": {
     "end_time": "2021-03-28T21:45:29.640169Z",
     "start_time": "2021-03-28T21:45:24.710896Z"
    }
   },
   "outputs": [],
   "source": [
    "import findspark\n",
    "localizacion_spark = '/opt/spark-2.4.5'\n",
    "findspark.init(localizacion_spark)\n",
    "\n",
    "import pyspark\n",
    "from pyspark import SparkConf\n",
    "from pyspark.sql import SparkSession\n",
    "from pyspark.sql.functions import col\n",
    "import pyspark.sql.functions as F\n",
    "from pyspark.sql.types import ArrayType\n",
    "from pyspark.sql.types import StringType\n",
    "\n",
    "# numero de cores: 4, memoria ram que se le permite a spark usar: 7GB\n",
    "spark_configurations = SparkConf()\\\n",
    "    .setMaster('local[4]')\\\n",
    "    .setAppName('Tarea_2')\\\n",
    "    .set(\"spark.driver.memory\", \"7g\")\n",
    "\n",
    "sc = pyspark.SparkContext(conf = spark_configurations)\n",
    "\n",
    "\n",
    "spark = SparkSession\\\n",
    "    .builder\\\n",
    "    .master('local[4]')\\\n",
    "    .appName(\"Tarea_2\") \\\n",
    "    .getOrCreate()"
   ]
  },
  {
   "cell_type": "markdown",
   "metadata": {},
   "source": [
    "# Lectura de datos"
   ]
  },
  {
   "cell_type": "code",
   "execution_count": 23,
   "metadata": {
    "ExecuteTime": {
     "end_time": "2021-03-28T22:32:45.751915Z",
     "start_time": "2021-03-28T22:32:45.741833Z"
    }
   },
   "outputs": [],
   "source": [
    "def lectura_tweets(file_path):\n",
    "    tweets = pd\\\n",
    "        .read_csv(file_path, sep =',')\\\n",
    "        .reset_index()\n",
    "    tweets_es = tweets.loc[tweets['lang']=='es']\n",
    "    tweets_en = tweets.loc[tweets['lang']=='en']\n",
    "    return [tweets_es, tweets_en]\n",
    "def lectura_tweets_spark(file_path, spark_context):\n",
    "    tweets = spark_context.read\\\n",
    "        .option(\"multiLine\", True)\\\n",
    "        .option(\"header\", True)\\\n",
    "        .option(\"escape\", \"\\\"\")\\\n",
    "        .csv(os.path.join('datasets', 'fnmourning.csv'))\n",
    "    tweets_es = tweets\\\n",
    "        .filter(col('lang')=='es')\n",
    "    tweets_en = tweets\\\n",
    "        .filter(col('lang')=='en')\n",
    "    return [tweets_es, tweets_en]"
   ]
  },
  {
   "cell_type": "code",
   "execution_count": 26,
   "metadata": {
    "ExecuteTime": {
     "end_time": "2021-03-28T22:33:02.817180Z",
     "start_time": "2021-03-28T22:33:02.702322Z"
    }
   },
   "outputs": [],
   "source": [
    "tweets_es, tweets_en = lectura_tweets(os.path.join('datasets', 'fnmourning.csv'))"
   ]
  },
  {
   "cell_type": "markdown",
   "metadata": {},
   "source": [
    "# Construccion del lexicon de luto"
   ]
  },
  {
   "cell_type": "markdown",
   "metadata": {},
   "source": [
    "## Tokenizacion"
   ]
  },
  {
   "cell_type": "code",
   "execution_count": 504,
   "metadata": {
    "ExecuteTime": {
     "end_time": "2021-03-30T20:49:22.464938Z",
     "start_time": "2021-03-30T20:49:22.435137Z"
    }
   },
   "outputs": [],
   "source": [
    "def limpiar_emoticones(x):\n",
    "    res = x\n",
    "    try: \n",
    "        res = re.search('(:(.*?):)',x).group(0)\n",
    "    except:\n",
    "        pass\n",
    "    return res\n",
    "def limpiar_docs(x):\n",
    "    doc_limpio = \\\n",
    "        ' '.join(x\n",
    "                 .lower()\n",
    "                 .replace('@',' ')\n",
    "                 .replace('#', ' ')\n",
    "                 .replace('%', ' ')\n",
    "                 .replace('&', ' ')\n",
    "                 .replace(\"'\", ' ')\n",
    "                 .replace(\"*\", ' ')\n",
    "                 .replace(\"$\", ' ')\n",
    "                 .replace(\"+\", ' ')\n",
    "                 .replace(\"-\", ' ')\n",
    "                 .replace(\":\", ' ')\n",
    "                 .replace(\"~\", ' ')\n",
    "                 .replace(\"|\", ' ')\n",
    "                 .replace(\"{\", ' ')\n",
    "                 .replace(\"}\", ' ')\n",
    "                 .replace(\"(\", ' ')\n",
    "                 .replace(\")\", ' ')\n",
    "                 .replace(\"!\", ' ')\n",
    "                 .replace(\"¡\", ' ')\n",
    "                 .split())\n",
    "    doc_limpio = emoji.emojize(str(emoji.demojize(doc_limpio).encode(\"unicode_escape\"))[2:-1])\n",
    "    doc_limpio = doc_limpio\n",
    "    return doc_limpio\n",
    "def tokenizacion_spanish_documento_nltk(doc):\n",
    "    nltk_stop_words_es = set(nltk.corpus.stopwords.words(\"spanish\"))\n",
    "    stemmer_es = nltk.stem.SnowballStemmer(\"spanish\")\n",
    "    doc_limpio = limpiar_docs(doc)\n",
    "    doc_p = nltk.word_tokenize(doc_limpio)\n",
    "    doc_process = [emoji.demojize(stemmer_es.stem(word.strip()))\n",
    "                   if 'covid' not in word else 'covid-19'\n",
    "                   for word in doc_p \n",
    "                   if word not in nltk_stop_words_es\n",
    "                   and ('https' not in word)\n",
    "                   and ('\\n' not in word)\n",
    "                   and ('/' not in word)\n",
    "                   and ('\\\\' not in word)\n",
    "                   and ('y' != word)\n",
    "                   and ('a' != word)\n",
    "                   and ('o' != word)\n",
    "                   and (':' not in word)\n",
    "                   and (',' not in word)\n",
    "                   and ('.' not in word)\n",
    "                   and (';' not in word)\n",
    "                   and ('``' not in word)\n",
    "                   and ('(' not in word)\n",
    "                   and (')' not in word)\n",
    "                   and ('\"' not in word)\n",
    "                   and (\"''\" not in word)\n",
    "                   and not( (any(char.isdigit() for char in word)) and ('covid' not in word))\n",
    "                  ]\n",
    "    doc_process_sin_emoticones = [word for word in doc_process if ':' not in word]\n",
    "    doc_process_emoticones = [limpiar_emoticones(word) for word in doc_process if ':' in word]\n",
    "    doc_process_limpio = doc_process_sin_emoticones + doc_process_emoticones\n",
    "    return np.unique(doc_process_limpio)\n",
    "def tokenizacion_english_documento_nltk(doc):\n",
    "    nltk_stop_words_en = set(nltk.corpus.stopwords.words(\"english\"))\n",
    "    stemmer_en = nltk.stem.porter.PorterStemmer()\n",
    "    doc_limpio = limpiar_docs(doc)\n",
    "    doc_p = nltk.word_tokenize(doc_limpio)\n",
    "    doc_process = [emoji.demojize(stemmer_en.stem(word.strip()))\n",
    "                   if 'covid' not in word else 'covid-19'\n",
    "                   for word in doc_p \n",
    "                   if word not in nltk_stop_words_en\n",
    "                   and ('https' not in word)\n",
    "                   and ('\\n' not in word)\n",
    "                   and ('/' not in word)\n",
    "                   and ('\\\\' not in word)\n",
    "                   and (':' not in word)\n",
    "                   and (',' not in word)\n",
    "                   and ('.' not in word)\n",
    "                   and (';' not in word)\n",
    "                   and ('``' not in word)\n",
    "                   and ('(' not in word)\n",
    "                   and (')' not in word)\n",
    "                   and ('\"' not in word)\n",
    "                   and (\"''\" not in word)\n",
    "                   and not( (any(char.isdigit() for char in word)) and ('covid' not in word))\n",
    "                  ]\n",
    "    doc_process_sin_emoticones = [word for word in doc_process if ':' not in word]\n",
    "    doc_process_emoticones = [limpiar_emoticones(word) for word in doc_process if ':' in word]\n",
    "    doc_process_limpio = doc_process_sin_emoticones + doc_process_emoticones\n",
    "    return np.unique(doc_process_limpio)\n",
    "\n",
    "def tokenizacion_spanish(tweets_df):\n",
    "    res = tweets_df.copy()\n",
    "    res['tokens'] = res['text'].apply(tokenizacion_spanish_documento_nltk)\n",
    "    res  = res.explode('tokens', ignore_index = True).dropna()\n",
    "    return res\n",
    "def tokenizacion_english(tweets_df):\n",
    "    res = tweets_df.copy()\n",
    "    res['tokens'] = res['text'].apply(tokenizacion_english_documento_nltk)\n",
    "    res  = res.explode('tokens', ignore_index = True).dropna()\n",
    "    return res"
   ]
  },
  {
   "cell_type": "code",
   "execution_count": 505,
   "metadata": {
    "ExecuteTime": {
     "end_time": "2021-03-30T20:49:48.088052Z",
     "start_time": "2021-03-30T20:49:23.913341Z"
    }
   },
   "outputs": [],
   "source": [
    "tweets_es_tokenizado = tokenizacion_spanish(tweets_es)"
   ]
  },
  {
   "cell_type": "code",
   "execution_count": 506,
   "metadata": {
    "ExecuteTime": {
     "end_time": "2021-03-30T20:50:08.741022Z",
     "start_time": "2021-03-30T20:49:48.089741Z"
    }
   },
   "outputs": [],
   "source": [
    "tweets_en_tokenizado = tokenizacion_english(tweets_en)"
   ]
  },
  {
   "cell_type": "code",
   "execution_count": 510,
   "metadata": {
    "ExecuteTime": {
     "end_time": "2021-03-30T20:50:19.533632Z",
     "start_time": "2021-03-30T20:50:19.502059Z"
    }
   },
   "outputs": [
    {
     "data": {
      "text/html": [
       "<div>\n",
       "<style scoped>\n",
       "    .dataframe tbody tr th:only-of-type {\n",
       "        vertical-align: middle;\n",
       "    }\n",
       "\n",
       "    .dataframe tbody tr th {\n",
       "        vertical-align: top;\n",
       "    }\n",
       "\n",
       "    .dataframe thead th {\n",
       "        text-align: right;\n",
       "    }\n",
       "</style>\n",
       "<table border=\"1\" class=\"dataframe\">\n",
       "  <thead>\n",
       "    <tr style=\"text-align: right;\">\n",
       "      <th></th>\n",
       "      <th>index</th>\n",
       "      <th>text</th>\n",
       "      <th>tag</th>\n",
       "      <th>lang</th>\n",
       "      <th>emoticon</th>\n",
       "      <th>tokens</th>\n",
       "    </tr>\n",
       "  </thead>\n",
       "  <tbody>\n",
       "    <tr>\n",
       "      <th>0</th>\n",
       "      <td>0</td>\n",
       "      <td>Hoy uno de mis tíos falleció por COVID-19, no ...</td>\n",
       "      <td>mourning</td>\n",
       "      <td>es</td>\n",
       "      <td>0</td>\n",
       "      <td>concienci</td>\n",
       "    </tr>\n",
       "    <tr>\n",
       "      <th>1</th>\n",
       "      <td>0</td>\n",
       "      <td>Hoy uno de mis tíos falleció por COVID-19, no ...</td>\n",
       "      <td>mourning</td>\n",
       "      <td>es</td>\n",
       "      <td>0</td>\n",
       "      <td>condolent</td>\n",
       "    </tr>\n",
       "    <tr>\n",
       "      <th>2</th>\n",
       "      <td>0</td>\n",
       "      <td>Hoy uno de mis tíos falleció por COVID-19, no ...</td>\n",
       "      <td>mourning</td>\n",
       "      <td>es</td>\n",
       "      <td>0</td>\n",
       "      <td>covid-19</td>\n",
       "    </tr>\n",
       "    <tr>\n",
       "      <th>3</th>\n",
       "      <td>0</td>\n",
       "      <td>Hoy uno de mis tíos falleció por COVID-19, no ...</td>\n",
       "      <td>mourning</td>\n",
       "      <td>es</td>\n",
       "      <td>0</td>\n",
       "      <td>cuent</td>\n",
       "    </tr>\n",
       "    <tr>\n",
       "      <th>4</th>\n",
       "      <td>0</td>\n",
       "      <td>Hoy uno de mis tíos falleció por COVID-19, no ...</td>\n",
       "      <td>mourning</td>\n",
       "      <td>es</td>\n",
       "      <td>0</td>\n",
       "      <td>dej</td>\n",
       "    </tr>\n",
       "    <tr>\n",
       "      <th>...</th>\n",
       "      <td>...</td>\n",
       "      <td>...</td>\n",
       "      <td>...</td>\n",
       "      <td>...</td>\n",
       "      <td>...</td>\n",
       "      <td>...</td>\n",
       "    </tr>\n",
       "    <tr>\n",
       "      <th>127980</th>\n",
       "      <td>24583</td>\n",
       "      <td>@History_LigaMX @atlasfc @Rayados @FCTecos @Cl...</td>\n",
       "      <td>no mourning</td>\n",
       "      <td>es</td>\n",
       "      <td>0</td>\n",
       "      <td>fctec</td>\n",
       "    </tr>\n",
       "    <tr>\n",
       "      <th>127981</th>\n",
       "      <td>24583</td>\n",
       "      <td>@History_LigaMX @atlasfc @Rayados @FCTecos @Cl...</td>\n",
       "      <td>no mourning</td>\n",
       "      <td>es</td>\n",
       "      <td>0</td>\n",
       "      <td>history_ligamx</td>\n",
       "    </tr>\n",
       "    <tr>\n",
       "      <th>127982</th>\n",
       "      <td>24583</td>\n",
       "      <td>@History_LigaMX @atlasfc @Rayados @FCTecos @Cl...</td>\n",
       "      <td>no mourning</td>\n",
       "      <td>es</td>\n",
       "      <td>0</td>\n",
       "      <td>mal</td>\n",
       "    </tr>\n",
       "    <tr>\n",
       "      <th>127983</th>\n",
       "      <td>24583</td>\n",
       "      <td>@History_LigaMX @atlasfc @Rayados @FCTecos @Cl...</td>\n",
       "      <td>no mourning</td>\n",
       "      <td>es</td>\n",
       "      <td>0</td>\n",
       "      <td>ray</td>\n",
       "    </tr>\n",
       "    <tr>\n",
       "      <th>127984</th>\n",
       "      <td>24583</td>\n",
       "      <td>@History_LigaMX @atlasfc @Rayados @FCTecos @Cl...</td>\n",
       "      <td>no mourning</td>\n",
       "      <td>es</td>\n",
       "      <td>0</td>\n",
       "      <td>tec</td>\n",
       "    </tr>\n",
       "  </tbody>\n",
       "</table>\n",
       "<p>127954 rows × 6 columns</p>\n",
       "</div>"
      ],
      "text/plain": [
       "        index                                               text          tag  \\\n",
       "0           0  Hoy uno de mis tíos falleció por COVID-19, no ...     mourning   \n",
       "1           0  Hoy uno de mis tíos falleció por COVID-19, no ...     mourning   \n",
       "2           0  Hoy uno de mis tíos falleció por COVID-19, no ...     mourning   \n",
       "3           0  Hoy uno de mis tíos falleció por COVID-19, no ...     mourning   \n",
       "4           0  Hoy uno de mis tíos falleció por COVID-19, no ...     mourning   \n",
       "...       ...                                                ...          ...   \n",
       "127980  24583  @History_LigaMX @atlasfc @Rayados @FCTecos @Cl...  no mourning   \n",
       "127981  24583  @History_LigaMX @atlasfc @Rayados @FCTecos @Cl...  no mourning   \n",
       "127982  24583  @History_LigaMX @atlasfc @Rayados @FCTecos @Cl...  no mourning   \n",
       "127983  24583  @History_LigaMX @atlasfc @Rayados @FCTecos @Cl...  no mourning   \n",
       "127984  24583  @History_LigaMX @atlasfc @Rayados @FCTecos @Cl...  no mourning   \n",
       "\n",
       "       lang  emoticon          tokens  \n",
       "0        es         0       concienci  \n",
       "1        es         0       condolent  \n",
       "2        es         0        covid-19  \n",
       "3        es         0           cuent  \n",
       "4        es         0             dej  \n",
       "...     ...       ...             ...  \n",
       "127980   es         0           fctec  \n",
       "127981   es         0  history_ligamx  \n",
       "127982   es         0             mal  \n",
       "127983   es         0             ray  \n",
       "127984   es         0             tec  \n",
       "\n",
       "[127954 rows x 6 columns]"
      ]
     },
     "execution_count": 510,
     "metadata": {},
     "output_type": "execute_result"
    }
   ],
   "source": [
    "tweets_es_tokenizado"
   ]
  },
  {
   "cell_type": "code",
   "execution_count": 508,
   "metadata": {
    "ExecuteTime": {
     "end_time": "2021-03-30T20:50:08.766620Z",
     "start_time": "2021-03-30T20:50:08.754293Z"
    }
   },
   "outputs": [
    {
     "data": {
      "text/plain": [
       "(139219, 6)"
      ]
     },
     "execution_count": 508,
     "metadata": {},
     "output_type": "execute_result"
    }
   ],
   "source": [
    "tweets_en_tokenizado.shape"
   ]
  },
  {
   "cell_type": "markdown",
   "metadata": {},
   "source": [
    "## Probabilidad escalada"
   ]
  },
  {
   "cell_type": "code",
   "execution_count": 563,
   "metadata": {
    "ExecuteTime": {
     "end_time": "2021-03-30T22:01:16.415244Z",
     "start_time": "2021-03-30T22:01:16.204061Z"
    }
   },
   "outputs": [],
   "source": [
    "def scaled_likelihood(tweets_tokenizado):\n",
    "    total = tweets_tokenizado\\\n",
    "        .groupby('tag')\\\n",
    "        .agg(total_apariciones = ('index', 'nunique'))\\\n",
    "        .reset_index()\n",
    "    total_por_categoria = tweets_tokenizado\\\n",
    "        .groupby(['tokens', 'tag'])\\\n",
    "        .agg(total_apariciones_categoria = ('index', 'count'))\\\n",
    "        .reset_index()\n",
    "    res = total_por_categoria.merge(total, on = 'tag', how = 'left')\n",
    "    res['scaled_likelihood'] = res['total_apariciones_categoria']/res['total_apariciones']\n",
    "    return res.drop('total_apariciones', axis = 1)\n",
    "sl_es_tweets = scaled_likelihood(tweets_es_tokenizado)\n",
    "sl_en_tweets = scaled_likelihood(tweets_en_tokenizado)"
   ]
  },
  {
   "cell_type": "markdown",
   "metadata": {},
   "source": [
    "## Word/emoticons que mejor describen luto"
   ]
  },
  {
   "cell_type": "code",
   "execution_count": 574,
   "metadata": {
    "ExecuteTime": {
     "end_time": "2021-03-30T22:11:19.822516Z",
     "start_time": "2021-03-30T22:11:19.811010Z"
    }
   },
   "outputs": [],
   "source": [
    "def visualizacion_n_palabras_mas_likely_mourning(sl_tweets,n, idioma):\n",
    "    sl_es_tweets\\\n",
    "        .loc[sl_es_tweets['tag']=='mourning']\\\n",
    "        .sort_values('scaled_likelihood', ascending = False)\\\n",
    "        [:n]\\\n",
    "        .plot.bar(x = 'tokens',\n",
    "                  y = 'scaled_likelihood',\n",
    "                  title = f'Las {n} palabras en {idioma} que mejor describen el luto')\n",
    "    plt.show()\n",
    "def visualizacion_n_emojis_mas_likely_mourning(sl_tweets,n, idioma):\n",
    "    sl_tweets['emoticon'] = sl_tweets['tokens'].str.contains(':').astype(int)\n",
    "    emojis = sl_tweets\\\n",
    "        .loc[(sl_tweets['tag']=='mourning')&(sl_tweets['emoticon']==1)]\\\n",
    "        .sort_values('scaled_likelihood', ascending = False)\\\n",
    "        [:20]\n",
    "    emojis.plot.bar(x = 'tokens', \n",
    "                    y = 'scaled_likelihood',\n",
    "                    title = f'Los {n} emojis en {idioma} que mejor describen el luto')\n",
    "    plt.show()\n",
    "    emojis['imagen'] = emojis['tokens'].apply(emoji.emojize)\n",
    "    print(f'Tabla de los {n} emojis en {idioma} que mejor describen el luto')\n",
    "    display(emojis[['imagen', 'scaled_likelihood']])"
   ]
  },
  {
   "cell_type": "code",
   "execution_count": 575,
   "metadata": {
    "ExecuteTime": {
     "end_time": "2021-03-30T22:11:21.386708Z",
     "start_time": "2021-03-30T22:11:20.188850Z"
    }
   },
   "outputs": [
    {
     "data": {
      "image/png": "[encoded data removed]",
      "text/plain": [
       "<Figure size 432x288 with 1 Axes>"
      ]
     },
     "metadata": {
      "needs_background": "light"
     },
     "output_type": "display_data"
    },
    {
     "data": {
      "image/png": "[encoded data removed]",
      "text/plain": [
       "<Figure size 432x288 with 1 Axes>"
      ]
     },
     "metadata": {
      "needs_background": "light"
     },
     "output_type": "display_data"
    },
    {
     "name": "stdout",
     "output_type": "stream",
     "text": [
      "Tabla de los 20 emojis en español que mejor describen el luto\n"
     ]
    },
    {
     "data": {
      "text/html": [
       "<div>\n",
       "<style scoped>\n",
       "    .dataframe tbody tr th:only-of-type {\n",
       "        vertical-align: middle;\n",
       "    }\n",
       "\n",
       "    .dataframe tbody tr th {\n",
       "        vertical-align: top;\n",
       "    }\n",
       "\n",
       "    .dataframe thead th {\n",
       "        text-align: right;\n",
       "    }\n",
       "</style>\n",
       "<table border=\"1\" class=\"dataframe\">\n",
       "  <thead>\n",
       "    <tr style=\"text-align: right;\">\n",
       "      <th></th>\n",
       "      <th>imagen</th>\n",
       "      <th>scaled_likelihood</th>\n",
       "    </tr>\n",
       "  </thead>\n",
       "  <tbody>\n",
       "    <tr>\n",
       "      <th>262</th>\n",
       "      <td>🙏</td>\n",
       "      <td>0.032964</td>\n",
       "    </tr>\n",
       "    <tr>\n",
       "      <th>452</th>\n",
       "      <td>😔</td>\n",
       "      <td>0.015848</td>\n",
       "    </tr>\n",
       "    <tr>\n",
       "      <th>265</th>\n",
       "      <td>🙏🏻</td>\n",
       "      <td>0.010460</td>\n",
       "    </tr>\n",
       "    <tr>\n",
       "      <th>177</th>\n",
       "      <td>😢</td>\n",
       "      <td>0.010143</td>\n",
       "    </tr>\n",
       "    <tr>\n",
       "      <th>356</th>\n",
       "      <td>😭</td>\n",
       "      <td>0.009667</td>\n",
       "    </tr>\n",
       "    <tr>\n",
       "      <th>515</th>\n",
       "      <td>❤</td>\n",
       "      <td>0.008241</td>\n",
       "    </tr>\n",
       "    <tr>\n",
       "      <th>121</th>\n",
       "      <td>💔</td>\n",
       "      <td>0.007765</td>\n",
       "    </tr>\n",
       "    <tr>\n",
       "      <th>475</th>\n",
       "      <td>🥺</td>\n",
       "      <td>0.006815</td>\n",
       "    </tr>\n",
       "    <tr>\n",
       "      <th>539</th>\n",
       "      <td>😥</td>\n",
       "      <td>0.005230</td>\n",
       "    </tr>\n",
       "    <tr>\n",
       "      <th>104</th>\n",
       "      <td>🖤</td>\n",
       "      <td>0.005230</td>\n",
       "    </tr>\n",
       "    <tr>\n",
       "      <th>269</th>\n",
       "      <td>🙏🏼</td>\n",
       "      <td>0.004913</td>\n",
       "    </tr>\n",
       "    <tr>\n",
       "      <th>185</th>\n",
       "      <td>😞</td>\n",
       "      <td>0.004120</td>\n",
       "    </tr>\n",
       "    <tr>\n",
       "      <th>195</th>\n",
       "      <td>🕊</td>\n",
       "      <td>0.003962</td>\n",
       "    </tr>\n",
       "    <tr>\n",
       "      <th>100</th>\n",
       "      <td>⚫</td>\n",
       "      <td>0.003962</td>\n",
       "    </tr>\n",
       "    <tr>\n",
       "      <th>554</th>\n",
       "      <td>😪</td>\n",
       "      <td>0.003645</td>\n",
       "    </tr>\n",
       "    <tr>\n",
       "      <th>240</th>\n",
       "      <td>😂</td>\n",
       "      <td>0.003328</td>\n",
       "    </tr>\n",
       "    <tr>\n",
       "      <th>79</th>\n",
       "      <td>👉</td>\n",
       "      <td>0.003011</td>\n",
       "    </tr>\n",
       "    <tr>\n",
       "      <th>532</th>\n",
       "      <td>🤣</td>\n",
       "      <td>0.003011</td>\n",
       "    </tr>\n",
       "    <tr>\n",
       "      <th>72</th>\n",
       "      <td>👇</td>\n",
       "      <td>0.002536</td>\n",
       "    </tr>\n",
       "    <tr>\n",
       "      <th>271</th>\n",
       "      <td>🙏🏽</td>\n",
       "      <td>0.002536</td>\n",
       "    </tr>\n",
       "  </tbody>\n",
       "</table>\n",
       "</div>"
      ],
      "text/plain": [
       "    imagen  scaled_likelihood\n",
       "262      🙏           0.032964\n",
       "452      😔           0.015848\n",
       "265     🙏🏻           0.010460\n",
       "177      😢           0.010143\n",
       "356      😭           0.009667\n",
       "515      ❤           0.008241\n",
       "121      💔           0.007765\n",
       "475      🥺           0.006815\n",
       "539      😥           0.005230\n",
       "104      🖤           0.005230\n",
       "269     🙏🏼           0.004913\n",
       "185      😞           0.004120\n",
       "195      🕊           0.003962\n",
       "100      ⚫           0.003962\n",
       "554      😪           0.003645\n",
       "240      😂           0.003328\n",
       "79       👉           0.003011\n",
       "532      🤣           0.003011\n",
       "72       👇           0.002536\n",
       "271     🙏🏽           0.002536"
      ]
     },
     "metadata": {},
     "output_type": "display_data"
    },
    {
     "data": {
      "image/png": "[encoded data removed]",
      "text/plain": [
       "<Figure size 432x288 with 1 Axes>"
      ]
     },
     "metadata": {
      "needs_background": "light"
     },
     "output_type": "display_data"
    },
    {
     "data": {
      "image/png": "[encoded data removed]",
      "text/plain": [
       "<Figure size 432x288 with 1 Axes>"
      ]
     },
     "metadata": {
      "needs_background": "light"
     },
     "output_type": "display_data"
    },
    {
     "name": "stdout",
     "output_type": "stream",
     "text": [
      "Tabla de los 20 emojis en ingles que mejor describen el luto\n"
     ]
    },
    {
     "data": {
      "text/html": [
       "<div>\n",
       "<style scoped>\n",
       "    .dataframe tbody tr th:only-of-type {\n",
       "        vertical-align: middle;\n",
       "    }\n",
       "\n",
       "    .dataframe tbody tr th {\n",
       "        vertical-align: top;\n",
       "    }\n",
       "\n",
       "    .dataframe thead th {\n",
       "        text-align: right;\n",
       "    }\n",
       "</style>\n",
       "<table border=\"1\" class=\"dataframe\">\n",
       "  <thead>\n",
       "    <tr style=\"text-align: right;\">\n",
       "      <th></th>\n",
       "      <th>imagen</th>\n",
       "      <th>scaled_likelihood</th>\n",
       "    </tr>\n",
       "  </thead>\n",
       "  <tbody>\n",
       "    <tr>\n",
       "      <th>212</th>\n",
       "      <td>🙏</td>\n",
       "      <td>0.046317</td>\n",
       "    </tr>\n",
       "    <tr>\n",
       "      <th>94</th>\n",
       "      <td>💔</td>\n",
       "      <td>0.031131</td>\n",
       "    </tr>\n",
       "    <tr>\n",
       "      <th>398</th>\n",
       "      <td>❤</td>\n",
       "      <td>0.027904</td>\n",
       "    </tr>\n",
       "    <tr>\n",
       "      <th>144</th>\n",
       "      <td>😢</td>\n",
       "      <td>0.022399</td>\n",
       "    </tr>\n",
       "    <tr>\n",
       "      <th>351</th>\n",
       "      <td>😔</td>\n",
       "      <td>0.015376</td>\n",
       "    </tr>\n",
       "    <tr>\n",
       "      <th>287</th>\n",
       "      <td>😭</td>\n",
       "      <td>0.013667</td>\n",
       "    </tr>\n",
       "    <tr>\n",
       "      <th>216</th>\n",
       "      <td>🙏🏻</td>\n",
       "      <td>0.010820</td>\n",
       "    </tr>\n",
       "    <tr>\n",
       "      <th>220</th>\n",
       "      <td>🙏🏼</td>\n",
       "      <td>0.009301</td>\n",
       "    </tr>\n",
       "    <tr>\n",
       "      <th>222</th>\n",
       "      <td>🙏🏽</td>\n",
       "      <td>0.008922</td>\n",
       "    </tr>\n",
       "    <tr>\n",
       "      <th>218</th>\n",
       "      <td>🙏🏾</td>\n",
       "      <td>0.007403</td>\n",
       "    </tr>\n",
       "    <tr>\n",
       "      <th>86</th>\n",
       "      <td>💙</td>\n",
       "      <td>0.006834</td>\n",
       "    </tr>\n",
       "    <tr>\n",
       "      <th>365</th>\n",
       "      <td>🥺</td>\n",
       "      <td>0.005695</td>\n",
       "    </tr>\n",
       "    <tr>\n",
       "      <th>416</th>\n",
       "      <td>😥</td>\n",
       "      <td>0.004935</td>\n",
       "    </tr>\n",
       "    <tr>\n",
       "      <th>158</th>\n",
       "      <td>🕊</td>\n",
       "      <td>0.003986</td>\n",
       "    </tr>\n",
       "    <tr>\n",
       "      <th>82</th>\n",
       "      <td>🖤</td>\n",
       "      <td>0.003797</td>\n",
       "    </tr>\n",
       "    <tr>\n",
       "      <th>149</th>\n",
       "      <td>😞</td>\n",
       "      <td>0.003797</td>\n",
       "    </tr>\n",
       "    <tr>\n",
       "      <th>90</th>\n",
       "      <td>💐</td>\n",
       "      <td>0.003607</td>\n",
       "    </tr>\n",
       "    <tr>\n",
       "      <th>429</th>\n",
       "      <td>😪</td>\n",
       "      <td>0.003417</td>\n",
       "    </tr>\n",
       "    <tr>\n",
       "      <th>413</th>\n",
       "      <td>🌹</td>\n",
       "      <td>0.003227</td>\n",
       "    </tr>\n",
       "    <tr>\n",
       "      <th>253</th>\n",
       "      <td>♥</td>\n",
       "      <td>0.002847</td>\n",
       "    </tr>\n",
       "  </tbody>\n",
       "</table>\n",
       "</div>"
      ],
      "text/plain": [
       "    imagen  scaled_likelihood\n",
       "212      🙏           0.046317\n",
       "94       💔           0.031131\n",
       "398      ❤           0.027904\n",
       "144      😢           0.022399\n",
       "351      😔           0.015376\n",
       "287      😭           0.013667\n",
       "216     🙏🏻           0.010820\n",
       "220     🙏🏼           0.009301\n",
       "222     🙏🏽           0.008922\n",
       "218     🙏🏾           0.007403\n",
       "86       💙           0.006834\n",
       "365      🥺           0.005695\n",
       "416      😥           0.004935\n",
       "158      🕊           0.003986\n",
       "82       🖤           0.003797\n",
       "149      😞           0.003797\n",
       "90       💐           0.003607\n",
       "429      😪           0.003417\n",
       "413      🌹           0.003227\n",
       "253      ♥           0.002847"
      ]
     },
     "metadata": {},
     "output_type": "display_data"
    }
   ],
   "source": [
    "visualizacion_n_palabras_mas_likely_mourning(sl_es_tweets, 20, 'español')\n",
    "visualizacion_n_emojis_mas_likely_mourning(sl_es_tweets, 20, 'español')\n",
    "visualizacion_n_palabras_mas_likely_mourning(sl_en_tweets, 20, 'ingles')\n",
    "visualizacion_n_emojis_mas_likely_mourning(sl_en_tweets, 20, 'ingles')"
   ]
  },
  {
   "cell_type": "markdown",
   "metadata": {},
   "source": [
    "## Score propuesto"
   ]
  },
  {
   "cell_type": "code",
   "execution_count": 578,
   "metadata": {
    "ExecuteTime": {
     "end_time": "2021-03-30T22:15:43.296541Z",
     "start_time": "2021-03-30T22:15:43.288757Z"
    }
   },
   "outputs": [],
   "source": [
    "def lista_score(tweets_tokenizado, n , idioma):\n",
    "    tweets_tokenizado_slikelihood = scaled_likelihood(tweets_tokenizado)\n",
    "    res = tweets_tokenizado_slikelihood\\\n",
    "        .drop('total_apariciones_categoria', axis = 1)\\\n",
    "        .set_index(['tokens', 'tag'])\\\n",
    "        .unstack(fill_value=0)\n",
    "    res.columns = res.columns.droplevel()\n",
    "    res = res.reset_index()\n",
    "    res['score'] = (res['mourning']-res['no mourning'])\n",
    "    res = res.sort_values(by='score', ascending = False)\n",
    "    res.head(20).plot.bar(x = 'tokens', \n",
    "                          y = 'score', \n",
    "                          title = f'Los {n} tokens en {idioma} con mayor score')\n",
    "    return res"
   ]
  },
  {
   "cell_type": "code",
   "execution_count": 579,
   "metadata": {
    "ExecuteTime": {
     "end_time": "2021-03-30T22:15:44.820716Z",
     "start_time": "2021-03-30T22:15:44.035518Z"
    }
   },
   "outputs": [
    {
     "data": {
      "image/png": "[encoded data removed]",
      "text/plain": [
       "<Figure size 432x288 with 1 Axes>"
      ]
     },
     "metadata": {
      "needs_background": "light"
     },
     "output_type": "display_data"
    },
    {
     "data": {
      "image/png": "[encoded data removed]",
      "text/plain": [
       "<Figure size 432x288 with 1 Axes>"
      ]
     },
     "metadata": {
      "needs_background": "light"
     },
     "output_type": "display_data"
    }
   ],
   "source": [
    "score_es_tweets = lista_score(tweets_es_tokenizado,20,'español')\n",
    "score_en_tweets = lista_score(tweets_en_tokenizado,20,'ingles')"
   ]
  },
  {
   "cell_type": "markdown",
   "metadata": {},
   "source": [
    "# Clasificadores para detectar luto"
   ]
  },
  {
   "cell_type": "markdown",
   "metadata": {},
   "source": [
    "## Creacion de Features"
   ]
  },
  {
   "cell_type": "code",
   "execution_count": 535,
   "metadata": {
    "ExecuteTime": {
     "end_time": "2021-03-30T21:07:14.312703Z",
     "start_time": "2021-03-30T21:07:14.297229Z"
    }
   },
   "outputs": [],
   "source": [
    "def feature_representation(tweets_tokenizado, n_apariciones):\n",
    "    # filtrar aquellos tokens que aparecen muy poco\n",
    "    total = tweets_tokenizado\\\n",
    "        .groupby('tokens')\\\n",
    "        .agg(total_apariciones = ('index', 'count'))\\\n",
    "        .reset_index()\n",
    "    tokens_finales = total.loc[total['total_apariciones']>=n_apariciones, 'tokens'].unique()\n",
    "    \n",
    "    # generacion features\n",
    "    tweets_tokenizado = tweets_tokenizado\\\n",
    "        [tweets_tokenizado['tokens'].isin(tokens_finales)]\n",
    "    tweets_tokenizado['tag'] = (tweets_tokenizado['tag']=='mourning').astype(int)\n",
    "    tweets_tokenizado['indicadora'] = 1\n",
    "    tweets_tokenizado_filtrado = tweets_tokenizado[['index','tag','tokens', 'indicadora']]\\\n",
    "        .copy()\n",
    "    tweets_features = tweets_tokenizado_filtrado\\\n",
    "        .set_index(['index','tag','tokens'])\\\n",
    "        .unstack(fill_value = 0)\n",
    "    tweets_features.columns = tweets_features.columns.droplevel()\n",
    "    tweets_features = tweets_features.reset_index()\n",
    "\n",
    "    return tweets_features"
   ]
  },
  {
   "cell_type": "code",
   "execution_count": 536,
   "metadata": {
    "ExecuteTime": {
     "end_time": "2021-03-30T21:07:16.786845Z",
     "start_time": "2021-03-30T21:07:14.769693Z"
    }
   },
   "outputs": [
    {
     "name": "stderr",
     "output_type": "stream",
     "text": [
      "/home/yacirramirez/anaconda3/envs/nlp3_7/lib/python3.7/site-packages/ipykernel_launcher.py:12: SettingWithCopyWarning: \n",
      "A value is trying to be set on a copy of a slice from a DataFrame.\n",
      "Try using .loc[row_indexer,col_indexer] = value instead\n",
      "\n",
      "See the caveats in the documentation: https://pandas.pydata.org/pandas-docs/stable/user_guide/indexing.html#returning-a-view-versus-a-copy\n",
      "  if sys.path[0] == '':\n",
      "/home/yacirramirez/anaconda3/envs/nlp3_7/lib/python3.7/site-packages/ipykernel_launcher.py:13: SettingWithCopyWarning: \n",
      "A value is trying to be set on a copy of a slice from a DataFrame.\n",
      "Try using .loc[row_indexer,col_indexer] = value instead\n",
      "\n",
      "See the caveats in the documentation: https://pandas.pydata.org/pandas-docs/stable/user_guide/indexing.html#returning-a-view-versus-a-copy\n",
      "  del sys.path[0]\n",
      "/home/yacirramirez/anaconda3/envs/nlp3_7/lib/python3.7/site-packages/ipykernel_launcher.py:12: SettingWithCopyWarning: \n",
      "A value is trying to be set on a copy of a slice from a DataFrame.\n",
      "Try using .loc[row_indexer,col_indexer] = value instead\n",
      "\n",
      "See the caveats in the documentation: https://pandas.pydata.org/pandas-docs/stable/user_guide/indexing.html#returning-a-view-versus-a-copy\n",
      "  if sys.path[0] == '':\n",
      "/home/yacirramirez/anaconda3/envs/nlp3_7/lib/python3.7/site-packages/ipykernel_launcher.py:13: SettingWithCopyWarning: \n",
      "A value is trying to be set on a copy of a slice from a DataFrame.\n",
      "Try using .loc[row_indexer,col_indexer] = value instead\n",
      "\n",
      "See the caveats in the documentation: https://pandas.pydata.org/pandas-docs/stable/user_guide/indexing.html#returning-a-view-versus-a-copy\n",
      "  del sys.path[0]\n"
     ]
    }
   ],
   "source": [
    "fr_es_tweets = feature_representation(tweets_es_tokenizado, 10)\n",
    "fr_en_tweets = feature_representation(tweets_en_tokenizado, 10)"
   ]
  },
  {
   "cell_type": "markdown",
   "metadata": {},
   "source": [
    "## Division train test"
   ]
  },
  {
   "cell_type": "code",
   "execution_count": 537,
   "metadata": {
    "ExecuteTime": {
     "end_time": "2021-03-30T21:07:16.793020Z",
     "start_time": "2021-03-30T21:07:16.788907Z"
    }
   },
   "outputs": [],
   "source": [
    "def train_test_particion(features_base ):\n",
    "    X_train, X_test, y_train, y_test = \\\n",
    "        train_test_split(features_base.drop(['tag', 'index'], axis =1),\n",
    "                         features_base['tag'], \n",
    "                         test_size=0.33,\n",
    "                         random_state=42)\n",
    "    return X_train, X_test, y_train, y_test"
   ]
  },
  {
   "cell_type": "code",
   "execution_count": 538,
   "metadata": {
    "ExecuteTime": {
     "end_time": "2021-03-30T21:07:18.221717Z",
     "start_time": "2021-03-30T21:07:16.795366Z"
    }
   },
   "outputs": [],
   "source": [
    "X_train_en, X_test_en, y_train_en, y_test_en = train_test_particion(fr_en_tweets)\n",
    "X_train_es, X_test_es, y_train_es, y_test_es = train_test_particion(fr_es_tweets)\n"
   ]
  },
  {
   "cell_type": "markdown",
   "metadata": {},
   "source": [
    "## Entrenamiento y metricas de los clasificadores"
   ]
  },
  {
   "cell_type": "code",
   "execution_count": 539,
   "metadata": {
    "ExecuteTime": {
     "end_time": "2021-03-30T21:07:18.246654Z",
     "start_time": "2021-03-30T21:07:18.224612Z"
    }
   },
   "outputs": [],
   "source": [
    "def entrenar_modelos(X_train,y_train, con_emoticones = True):\n",
    "    X, y = X_train.copy(), y_train.copy()\n",
    "    if not con_emoticones:\n",
    "        cols_sin_emojis = [col for col in X_train.columns if ':' not in col]\n",
    "        X, y = X_train[cols_sin_emojis].copy(), y_train.copy()\n",
    "    else:\n",
    "        pass\n",
    "        \n",
    "    nb_clf = MultinomialNB()\n",
    "    nb_clf.fit(X, y)\n",
    "    \n",
    "    lr_clf = LogisticRegression(random_state=0)\n",
    "    lr_clf.fit(X, y)\n",
    "    \n",
    "    tree_clf = tree.DecisionTreeClassifier()\n",
    "    tree_clf = tree_clf.fit(X, y)\n",
    "    \n",
    "    rf_clf = RandomForestClassifier(max_depth=2, random_state=0)\n",
    "    rf_clf.fit(X, y)\n",
    "    res = {'naive_bayes': nb_clf,\n",
    "           'logistic_regression': lr_clf,\n",
    "           'decision_tree':tree_clf, \n",
    "           'random_forest':rf_clf}\n",
    "    return res\n",
    "def sacar_metricas(clf_entrenado, X_test, y_test, con_emoticones = True):\n",
    "    if not con_emoticones:\n",
    "        cols_sin_emojis = [col for col in X_test.columns if ':' not in col]\n",
    "        y_pred = clf_entrenado.predict(X_test[cols_sin_emojis])\n",
    "    else:\n",
    "        y_pred = clf_entrenado.predict(X_test)\n",
    "    y_true = y_test\n",
    "    \n",
    "    res =  classification_report(y_true,\n",
    "                                 y_pred,\n",
    "                                 labels = [0,1],\n",
    "                                 target_names=['Clase 0', 'Clase 1'])\n",
    "    print(res)\n",
    "    res =  classification_report(y_true,\n",
    "                                 y_pred,\n",
    "                                 labels = [0,1],\n",
    "                                 target_names=['Clase 0', 'Clase 1'],\n",
    "                                 output_dict = True\n",
    "                                )\n",
    "    return res\n",
    "def sacar_metricas_para_cada_modelo(dict_clf, X_test, y_test, con_emoticones = True):\n",
    "    resultados = {}\n",
    "    for clf_name in dict_clf:\n",
    "        print()\n",
    "        print(clf_name)\n",
    "        print()\n",
    "        resultados[clf_name] = sacar_metricas(dict_clf[clf_name], X_test, y_test, con_emoticones)\n",
    "        print()\n",
    "    return resultados"
   ]
  },
  {
   "cell_type": "markdown",
   "metadata": {},
   "source": [
    "### Resultados para tweets en español"
   ]
  },
  {
   "cell_type": "code",
   "execution_count": 540,
   "metadata": {
    "ExecuteTime": {
     "end_time": "2021-03-30T21:07:36.428432Z",
     "start_time": "2021-03-30T21:07:18.248554Z"
    },
    "scrolled": true
   },
   "outputs": [
    {
     "name": "stdout",
     "output_type": "stream",
     "text": [
      "Resultados CON emojis\n",
      "\n",
      "naive_bayes\n",
      "\n",
      "              precision    recall  f1-score   support\n",
      "\n",
      "     Clase 0       0.84      0.85      0.85      2175\n",
      "     Clase 1       0.84      0.83      0.84      2079\n",
      "\n",
      "    accuracy                           0.84      4254\n",
      "   macro avg       0.84      0.84      0.84      4254\n",
      "weighted avg       0.84      0.84      0.84      4254\n",
      "\n",
      "\n",
      "\n",
      "logistic_regression\n",
      "\n",
      "              precision    recall  f1-score   support\n",
      "\n",
      "     Clase 0       0.90      0.94      0.92      2175\n",
      "     Clase 1       0.93      0.89      0.91      2079\n",
      "\n",
      "    accuracy                           0.91      4254\n",
      "   macro avg       0.91      0.91      0.91      4254\n",
      "weighted avg       0.91      0.91      0.91      4254\n",
      "\n",
      "\n",
      "\n",
      "decision_tree\n",
      "\n",
      "              precision    recall  f1-score   support\n",
      "\n",
      "     Clase 0       0.87      0.88      0.88      2175\n",
      "     Clase 1       0.88      0.86      0.87      2079\n",
      "\n",
      "    accuracy                           0.87      4254\n",
      "   macro avg       0.87      0.87      0.87      4254\n",
      "weighted avg       0.87      0.87      0.87      4254\n",
      "\n",
      "\n",
      "\n",
      "random_forest\n",
      "\n",
      "              precision    recall  f1-score   support\n",
      "\n",
      "     Clase 0       0.64      0.97      0.77      2175\n",
      "     Clase 1       0.94      0.43      0.59      2079\n",
      "\n",
      "    accuracy                           0.71      4254\n",
      "   macro avg       0.79      0.70      0.68      4254\n",
      "weighted avg       0.79      0.71      0.69      4254\n",
      "\n",
      "\n",
      "\n",
      "Resultados SIN emojis\n",
      "\n",
      "naive_bayes\n",
      "\n",
      "              precision    recall  f1-score   support\n",
      "\n",
      "     Clase 0       0.84      0.86      0.85      2175\n",
      "     Clase 1       0.85      0.83      0.84      2079\n",
      "\n",
      "    accuracy                           0.84      4254\n",
      "   macro avg       0.84      0.84      0.84      4254\n",
      "weighted avg       0.84      0.84      0.84      4254\n",
      "\n",
      "\n",
      "\n",
      "logistic_regression\n",
      "\n",
      "              precision    recall  f1-score   support\n",
      "\n",
      "     Clase 0       0.89      0.94      0.92      2175\n",
      "     Clase 1       0.93      0.88      0.91      2079\n",
      "\n",
      "    accuracy                           0.91      4254\n",
      "   macro avg       0.91      0.91      0.91      4254\n",
      "weighted avg       0.91      0.91      0.91      4254\n",
      "\n",
      "\n",
      "\n",
      "decision_tree\n",
      "\n",
      "              precision    recall  f1-score   support\n",
      "\n",
      "     Clase 0       0.87      0.89      0.88      2175\n",
      "     Clase 1       0.88      0.87      0.87      2079\n",
      "\n",
      "    accuracy                           0.88      4254\n",
      "   macro avg       0.88      0.88      0.88      4254\n",
      "weighted avg       0.88      0.88      0.88      4254\n",
      "\n",
      "\n",
      "\n",
      "random_forest\n",
      "\n",
      "              precision    recall  f1-score   support\n",
      "\n",
      "     Clase 0       0.74      0.98      0.84      2175\n",
      "     Clase 1       0.97      0.64      0.77      2079\n",
      "\n",
      "    accuracy                           0.81      4254\n",
      "   macro avg       0.85      0.81      0.81      4254\n",
      "weighted avg       0.85      0.81      0.81      4254\n",
      "\n",
      "\n"
     ]
    }
   ],
   "source": [
    "\n",
    "modelos_con_emojis_es = entrenar_modelos(X_train_es, y_train_es, True)\n",
    "modelos_sin_emojis_es = entrenar_modelos(X_train_es, y_train_es, False)\n",
    "\n",
    "print('Resultados CON emojis')\n",
    "resultados_con_emojis_es = sacar_metricas_para_cada_modelo(modelos_con_emojis_es,X_test_es,y_test_es, True)\n",
    "print()\n",
    "print('Resultados SIN emojis')\n",
    "resultados_sin_emojis_es = sacar_metricas_para_cada_modelo(modelos_sin_emojis_es,X_test_es,y_test_es, False)"
   ]
  },
  {
   "cell_type": "markdown",
   "metadata": {},
   "source": [
    "### Resultados para tweets en inglés"
   ]
  },
  {
   "cell_type": "code",
   "execution_count": 541,
   "metadata": {
    "ExecuteTime": {
     "end_time": "2021-03-30T21:07:50.638287Z",
     "start_time": "2021-03-30T21:07:36.430506Z"
    },
    "scrolled": true
   },
   "outputs": [
    {
     "name": "stdout",
     "output_type": "stream",
     "text": [
      "Resultados CON emojis\n",
      "\n",
      "naive_bayes\n",
      "\n",
      "              precision    recall  f1-score   support\n",
      "\n",
      "     Clase 0       0.86      0.87      0.87      1977\n",
      "     Clase 1       0.85      0.84      0.85      1770\n",
      "\n",
      "    accuracy                           0.86      3747\n",
      "   macro avg       0.86      0.86      0.86      3747\n",
      "weighted avg       0.86      0.86      0.86      3747\n",
      "\n",
      "\n",
      "\n",
      "logistic_regression\n",
      "\n",
      "              precision    recall  f1-score   support\n",
      "\n",
      "     Clase 0       0.87      0.92      0.90      1977\n",
      "     Clase 1       0.91      0.85      0.88      1770\n",
      "\n",
      "    accuracy                           0.89      3747\n",
      "   macro avg       0.89      0.89      0.89      3747\n",
      "weighted avg       0.89      0.89      0.89      3747\n",
      "\n",
      "\n",
      "\n",
      "decision_tree\n",
      "\n",
      "              precision    recall  f1-score   support\n",
      "\n",
      "     Clase 0       0.85      0.88      0.86      1977\n",
      "     Clase 1       0.86      0.83      0.84      1770\n",
      "\n",
      "    accuracy                           0.85      3747\n",
      "   macro avg       0.85      0.85      0.85      3747\n",
      "weighted avg       0.85      0.85      0.85      3747\n",
      "\n",
      "\n",
      "\n",
      "random_forest\n",
      "\n",
      "              precision    recall  f1-score   support\n",
      "\n",
      "     Clase 0       0.58      0.99      0.73      1977\n",
      "     Clase 1       0.97      0.20      0.33      1770\n",
      "\n",
      "    accuracy                           0.62      3747\n",
      "   macro avg       0.77      0.60      0.53      3747\n",
      "weighted avg       0.76      0.62      0.54      3747\n",
      "\n",
      "\n",
      "\n",
      "Resultados SIN emojis\n",
      "\n",
      "naive_bayes\n",
      "\n",
      "              precision    recall  f1-score   support\n",
      "\n",
      "     Clase 0       0.86      0.87      0.87      1977\n",
      "     Clase 1       0.86      0.84      0.85      1770\n",
      "\n",
      "    accuracy                           0.86      3747\n",
      "   macro avg       0.86      0.86      0.86      3747\n",
      "weighted avg       0.86      0.86      0.86      3747\n",
      "\n",
      "\n",
      "\n",
      "logistic_regression\n",
      "\n",
      "              precision    recall  f1-score   support\n",
      "\n",
      "     Clase 0       0.87      0.93      0.90      1977\n",
      "     Clase 1       0.91      0.85      0.88      1770\n",
      "\n",
      "    accuracy                           0.89      3747\n",
      "   macro avg       0.89      0.89      0.89      3747\n",
      "weighted avg       0.89      0.89      0.89      3747\n",
      "\n",
      "\n",
      "\n",
      "decision_tree\n",
      "\n",
      "              precision    recall  f1-score   support\n",
      "\n",
      "     Clase 0       0.85      0.86      0.86      1977\n",
      "     Clase 1       0.84      0.83      0.84      1770\n",
      "\n",
      "    accuracy                           0.85      3747\n",
      "   macro avg       0.85      0.85      0.85      3747\n",
      "weighted avg       0.85      0.85      0.85      3747\n",
      "\n",
      "\n",
      "\n",
      "random_forest\n",
      "\n",
      "              precision    recall  f1-score   support\n",
      "\n",
      "     Clase 0       0.58      1.00      0.74      1977\n",
      "     Clase 1       0.98      0.21      0.34      1770\n",
      "\n",
      "    accuracy                           0.62      3747\n",
      "   macro avg       0.78      0.60      0.54      3747\n",
      "weighted avg       0.77      0.62      0.55      3747\n",
      "\n",
      "\n"
     ]
    }
   ],
   "source": [
    "modelos_con_emojis_en = entrenar_modelos(X_train_en, y_train_en, True)\n",
    "modelos_sin_emojis_en = entrenar_modelos(X_train_en, y_train_en, False)\n",
    "\n",
    "print('Resultados CON emojis')\n",
    "resultados_con_emojis_en = sacar_metricas_para_cada_modelo(modelos_con_emojis_en,X_test_en,y_test_en, True)\n",
    "print()\n",
    "print('Resultados SIN emojis')\n",
    "resultados_sin_emojis_en = sacar_metricas_para_cada_modelo(modelos_sin_emojis_en,X_test_en,y_test_en, False)"
   ]
  },
  {
   "cell_type": "markdown",
   "metadata": {},
   "source": [
    "### Comparacion de resultados"
   ]
  },
  {
   "cell_type": "code",
   "execution_count": 591,
   "metadata": {
    "ExecuteTime": {
     "end_time": "2021-03-30T23:31:22.414049Z",
     "start_time": "2021-03-30T23:31:22.382079Z"
    }
   },
   "outputs": [
    {
     "data": {
      "text/html": [
       "<div>\n",
       "<style scoped>\n",
       "    .dataframe tbody tr th:only-of-type {\n",
       "        vertical-align: middle;\n",
       "    }\n",
       "\n",
       "    .dataframe tbody tr th {\n",
       "        vertical-align: top;\n",
       "    }\n",
       "\n",
       "    .dataframe thead th {\n",
       "        text-align: right;\n",
       "    }\n",
       "</style>\n",
       "<table border=\"1\" class=\"dataframe\">\n",
       "  <thead>\n",
       "    <tr style=\"text-align: right;\">\n",
       "      <th></th>\n",
       "      <th>Clase 0</th>\n",
       "      <th>Clase 1</th>\n",
       "      <th>accuracy</th>\n",
       "      <th>macro avg</th>\n",
       "      <th>weighted avg</th>\n",
       "    </tr>\n",
       "  </thead>\n",
       "  <tbody>\n",
       "    <tr>\n",
       "      <th>naive_bayes</th>\n",
       "      <td>{'precision': 0.8408163265306122, 'recall': 0....</td>\n",
       "      <td>{'precision': 0.8433382137628112, 'recall': 0....</td>\n",
       "      <td>0.842031</td>\n",
       "      <td>{'precision': 0.8420772701467116, 'recall': 0....</td>\n",
       "      <td>{'precision': 0.8420488144374627, 'recall': 0....</td>\n",
       "    </tr>\n",
       "    <tr>\n",
       "      <th>logistic_regression</th>\n",
       "      <td>{'precision': 0.897887323943662, 'recall': 0.9...</td>\n",
       "      <td>{'precision': 0.9318869828456104, 'recall': 0....</td>\n",
       "      <td>0.913728</td>\n",
       "      <td>{'precision': 0.9148871533946362, 'recall': 0....</td>\n",
       "      <td>{'precision': 0.9145035183153476, 'recall': 0....</td>\n",
       "    </tr>\n",
       "    <tr>\n",
       "      <th>decision_tree</th>\n",
       "      <td>{'precision': 0.8721668177697189, 'recall': 0....</td>\n",
       "      <td>{'precision': 0.87744140625, 'recall': 0.86435...</td>\n",
       "      <td>0.874706</td>\n",
       "      <td>{'precision': 0.8748041120098595, 'recall': 0....</td>\n",
       "      <td>{'precision': 0.8747445962019015, 'recall': 0....</td>\n",
       "    </tr>\n",
       "    <tr>\n",
       "      <th>random_forest</th>\n",
       "      <td>{'precision': 0.6424242424242425, 'recall': 0....</td>\n",
       "      <td>{'precision': 0.9423480083857443, 'recall': 0....</td>\n",
       "      <td>0.709685</td>\n",
       "      <td>{'precision': 0.7923861254049933, 'recall': 0....</td>\n",
       "      <td>{'precision': 0.7890019362263022, 'recall': 0....</td>\n",
       "    </tr>\n",
       "  </tbody>\n",
       "</table>\n",
       "</div>"
      ],
      "text/plain": [
       "                                                               Clase 0  \\\n",
       "naive_bayes          {'precision': 0.8408163265306122, 'recall': 0....   \n",
       "logistic_regression  {'precision': 0.897887323943662, 'recall': 0.9...   \n",
       "decision_tree        {'precision': 0.8721668177697189, 'recall': 0....   \n",
       "random_forest        {'precision': 0.6424242424242425, 'recall': 0....   \n",
       "\n",
       "                                                               Clase 1  \\\n",
       "naive_bayes          {'precision': 0.8433382137628112, 'recall': 0....   \n",
       "logistic_regression  {'precision': 0.9318869828456104, 'recall': 0....   \n",
       "decision_tree        {'precision': 0.87744140625, 'recall': 0.86435...   \n",
       "random_forest        {'precision': 0.9423480083857443, 'recall': 0....   \n",
       "\n",
       "                     accuracy  \\\n",
       "naive_bayes          0.842031   \n",
       "logistic_regression  0.913728   \n",
       "decision_tree        0.874706   \n",
       "random_forest        0.709685   \n",
       "\n",
       "                                                             macro avg  \\\n",
       "naive_bayes          {'precision': 0.8420772701467116, 'recall': 0....   \n",
       "logistic_regression  {'precision': 0.9148871533946362, 'recall': 0....   \n",
       "decision_tree        {'precision': 0.8748041120098595, 'recall': 0....   \n",
       "random_forest        {'precision': 0.7923861254049933, 'recall': 0....   \n",
       "\n",
       "                                                          weighted avg  \n",
       "naive_bayes          {'precision': 0.8420488144374627, 'recall': 0....  \n",
       "logistic_regression  {'precision': 0.9145035183153476, 'recall': 0....  \n",
       "decision_tree        {'precision': 0.8747445962019015, 'recall': 0....  \n",
       "random_forest        {'precision': 0.7890019362263022, 'recall': 0....  "
      ]
     },
     "execution_count": 591,
     "metadata": {},
     "output_type": "execute_result"
    }
   ],
   "source": [
    "pd.DataFrame.from_dict(resultados_con_emojis_es, orient = 'index')"
   ]
  },
  {
   "cell_type": "code",
   "execution_count": 587,
   "metadata": {
    "ExecuteTime": {
     "end_time": "2021-03-30T22:34:08.339964Z",
     "start_time": "2021-03-30T22:34:08.324448Z"
    }
   },
   "outputs": [
    {
     "data": {
      "text/plain": [
       "['naive_bayes', 'logistic_regression', 'decision_tree', 'random_forest']"
      ]
     },
     "execution_count": 587,
     "metadata": {},
     "output_type": "execute_result"
    }
   ],
   "source": [
    "list(resultados_con_emojis_es)"
   ]
  },
  {
   "cell_type": "code",
   "execution_count": 582,
   "metadata": {
    "ExecuteTime": {
     "end_time": "2021-03-30T22:22:58.834031Z",
     "start_time": "2021-03-30T22:22:58.822369Z"
    },
    "scrolled": true
   },
   "outputs": [
    {
     "data": {
      "text/plain": [
       "dict_keys(['naive_bayes', 'logistic_regression', 'decision_tree', 'random_forest'])"
      ]
     },
     "execution_count": 582,
     "metadata": {},
     "output_type": "execute_result"
    }
   ],
   "source": [
    "resultados = \\\n",
    "    {'resultados_español':resultados_con_emojis_es,\n",
    "     'resultados_ingles':resultados_con_emojis_en,\n",
    "     'resultados_sin_emojis_español':resultados_sin_emojis_es,\n",
    "     'resultados_sin_emojis_ingles':resultados_sin_emojis_en\n",
    "    }\n",
    "def comparacion_metricas_entre_clasificadores(resultados):\n",
    "    for key in resultados.keys():\n",
    "        data = []\n",
    "        for clf_name in  resultados[key]:\n",
    "            \n",
    "        print(key.upper())\n",
    "def comparacion_metricas_entre_emoji_noEmoji(resultados):\n",
    "    \n",
    "data\n",
    "resultados_con_emojis_es.keys()\n"
   ]
  },
  {
   "cell_type": "markdown",
   "metadata": {},
   "source": [
    "# Feature Importance"
   ]
  },
  {
   "cell_type": "code",
   "execution_count": 543,
   "metadata": {
    "ExecuteTime": {
     "end_time": "2021-03-30T21:07:50.657384Z",
     "start_time": "2021-03-30T21:07:50.647890Z"
    }
   },
   "outputs": [],
   "source": [
    "def sacar_feature_importance_lr(lr_entrenado, X_test, con_emoticones = True):\n",
    "    features = X_test.columns\n",
    "    if not con_emoticones:\n",
    "        features = [col for col in X_test.columns if ':' not in col]\n",
    "    coefs = [coef for coef in lr_entrenado.coef_[0]]\n",
    "    importance = pd\\\n",
    "        .DataFrame(list(zip(features, coefs)), \n",
    "                   columns = ['features', 'importance'])\\\n",
    "        .sort_values(by = 'importance', ascending = False)\n",
    "    importance[:10].plot.bar(x = 'features',y='importance', title = 'Logistic Regression Biggest 10 coeficients (signed)')\n",
    "    plt.show()"
   ]
  },
  {
   "cell_type": "code",
   "execution_count": 544,
   "metadata": {
    "ExecuteTime": {
     "end_time": "2021-03-30T21:07:50.665251Z",
     "start_time": "2021-03-30T21:07:50.659081Z"
    }
   },
   "outputs": [],
   "source": [
    "def sacar_feature_importance_rf(rf_entrenado, X_test, con_emoticones = True):\n",
    "    features = X_test.columns\n",
    "    if not con_emoticones:\n",
    "        features = [col for col in X_test.columns if ':' not in col]\n",
    "    coefs = [coef for coef in rf_entrenado.feature_importances_]\n",
    "    importance = pd\\\n",
    "        .DataFrame(list(zip(features, coefs)), \n",
    "                   columns = ['features', 'importance'])\\\n",
    "        .sort_values(by = 'importance', ascending = False)\n",
    "    importance[:10].plot.bar(x = 'features',y='importance', title = 'Random Forest Biggest 10 Impurity Importances')\n",
    "    plt.show()"
   ]
  },
  {
   "cell_type": "markdown",
   "metadata": {},
   "source": [
    "## Logistic Regression Importances"
   ]
  },
  {
   "cell_type": "code",
   "execution_count": 545,
   "metadata": {
    "ExecuteTime": {
     "end_time": "2021-03-30T21:07:50.992534Z",
     "start_time": "2021-03-30T21:07:50.666945Z"
    }
   },
   "outputs": [
    {
     "name": "stdout",
     "output_type": "stream",
     "text": [
      "ESPAÑOL CON EMOJIS\n"
     ]
    },
    {
     "data": {
      "image/png": "[encoded data removed]",
      "text/plain": [
       "<Figure size 432x288 with 1 Axes>"
      ]
     },
     "metadata": {
      "needs_background": "light"
     },
     "output_type": "display_data"
    }
   ],
   "source": [
    "print('ESPAÑOL CON EMOJIS')\n",
    "sacar_feature_importance_lr(modelos_con_emojis_es['logistic_regression'], X_test_es)"
   ]
  },
  {
   "cell_type": "code",
   "execution_count": 546,
   "metadata": {
    "ExecuteTime": {
     "end_time": "2021-03-30T21:07:51.240586Z",
     "start_time": "2021-03-30T21:07:50.995004Z"
    }
   },
   "outputs": [
    {
     "name": "stdout",
     "output_type": "stream",
     "text": [
      "ESPAÑOL SIN EMOJIS\n"
     ]
    },
    {
     "data": {
      "image/png": "[encoded data removed]",
      "text/plain": [
       "<Figure size 432x288 with 1 Axes>"
      ]
     },
     "metadata": {
      "needs_background": "light"
     },
     "output_type": "display_data"
    }
   ],
   "source": [
    "print('ESPAÑOL SIN EMOJIS')\n",
    "sacar_feature_importance_lr(modelos_sin_emojis_es['logistic_regression'], X_test_es, False)"
   ]
  },
  {
   "cell_type": "code",
   "execution_count": 547,
   "metadata": {
    "ExecuteTime": {
     "end_time": "2021-03-30T21:07:51.529102Z",
     "start_time": "2021-03-30T21:07:51.244277Z"
    }
   },
   "outputs": [
    {
     "name": "stdout",
     "output_type": "stream",
     "text": [
      "INGLES CON EMOJIS\n"
     ]
    },
    {
     "data": {
      "image/png": "[encoded data removed]",
      "text/plain": [
       "<Figure size 432x288 with 1 Axes>"
      ]
     },
     "metadata": {
      "needs_background": "light"
     },
     "output_type": "display_data"
    }
   ],
   "source": [
    "print('INGLES CON EMOJIS')\n",
    "sacar_feature_importance_lr(modelos_con_emojis_en['logistic_regression'], X_test_en)"
   ]
  },
  {
   "cell_type": "code",
   "execution_count": 548,
   "metadata": {
    "ExecuteTime": {
     "end_time": "2021-03-30T21:07:51.817549Z",
     "start_time": "2021-03-30T21:07:51.530892Z"
    }
   },
   "outputs": [
    {
     "name": "stdout",
     "output_type": "stream",
     "text": [
      "INGLES SIN EMOJIS\n"
     ]
    },
    {
     "data": {
      "image/png": "[encoded data removed]",
      "text/plain": [
       "<Figure size 432x288 with 1 Axes>"
      ]
     },
     "metadata": {
      "needs_background": "light"
     },
     "output_type": "display_data"
    }
   ],
   "source": [
    "print('INGLES SIN EMOJIS')\n",
    "sacar_feature_importance_lr(modelos_sin_emojis_en['logistic_regression'], X_test_en, False)"
   ]
  },
  {
   "cell_type": "markdown",
   "metadata": {},
   "source": [
    "## Random Forest Importances"
   ]
  },
  {
   "cell_type": "code",
   "execution_count": 549,
   "metadata": {
    "ExecuteTime": {
     "end_time": "2021-03-30T21:07:52.099862Z",
     "start_time": "2021-03-30T21:07:51.822902Z"
    }
   },
   "outputs": [
    {
     "name": "stdout",
     "output_type": "stream",
     "text": [
      "ESPAÑOL CON EMOJIS\n"
     ]
    },
    {
     "data": {
      "image/png": "[encoded data removed]",
      "text/plain": [
       "<Figure size 432x288 with 1 Axes>"
      ]
     },
     "metadata": {
      "needs_background": "light"
     },
     "output_type": "display_data"
    }
   ],
   "source": [
    "print('ESPAÑOL CON EMOJIS')\n",
    "sacar_feature_importance_rf(modelos_con_emojis_es['random_forest'], X_test_es)"
   ]
  },
  {
   "cell_type": "code",
   "execution_count": 550,
   "metadata": {
    "ExecuteTime": {
     "end_time": "2021-03-30T21:07:52.308934Z",
     "start_time": "2021-03-30T21:07:52.103626Z"
    }
   },
   "outputs": [
    {
     "name": "stdout",
     "output_type": "stream",
     "text": [
      "ESPAÑOL SIN EMOJIS\n"
     ]
    },
    {
     "data": {
      "image/png": "[encoded data removed]",
      "text/plain": [
       "<Figure size 432x288 with 1 Axes>"
      ]
     },
     "metadata": {
      "needs_background": "light"
     },
     "output_type": "display_data"
    }
   ],
   "source": [
    "print('ESPAÑOL SIN EMOJIS')\n",
    "sacar_feature_importance_rf(modelos_sin_emojis_es['random_forest'], X_test_es, False)"
   ]
  },
  {
   "cell_type": "code",
   "execution_count": 551,
   "metadata": {
    "ExecuteTime": {
     "end_time": "2021-03-30T21:07:52.547226Z",
     "start_time": "2021-03-30T21:07:52.310672Z"
    }
   },
   "outputs": [
    {
     "name": "stdout",
     "output_type": "stream",
     "text": [
      "INGLES CON EMOJIS\n"
     ]
    },
    {
     "data": {
      "image/png": "[encoded data removed]",
      "text/plain": [
       "<Figure size 432x288 with 1 Axes>"
      ]
     },
     "metadata": {
      "needs_background": "light"
     },
     "output_type": "display_data"
    }
   ],
   "source": [
    "print('INGLES CON EMOJIS')\n",
    "sacar_feature_importance_rf(modelos_con_emojis_en['random_forest'], X_test_en)"
   ]
  },
  {
   "cell_type": "code",
   "execution_count": 552,
   "metadata": {
    "ExecuteTime": {
     "end_time": "2021-03-30T21:07:52.739271Z",
     "start_time": "2021-03-30T21:07:52.549634Z"
    }
   },
   "outputs": [
    {
     "name": "stdout",
     "output_type": "stream",
     "text": [
      "INGLES SIN EMOJIS\n"
     ]
    },
    {
     "data": {
      "image/png": "[encoded data removed]",
      "text/plain": [
       "<Figure size 432x288 with 1 Axes>"
      ]
     },
     "metadata": {
      "needs_background": "light"
     },
     "output_type": "display_data"
    }
   ],
   "source": [
    "print('INGLES SIN EMOJIS')\n",
    "sacar_feature_importance_rf(modelos_sin_emojis_en['random_forest'], X_test_en, False)"
   ]
  },
  {
   "cell_type": "code",
   "execution_count": 412,
   "metadata": {
    "ExecuteTime": {
     "end_time": "2021-03-30T16:04:49.354390Z",
     "start_time": "2021-03-30T16:04:49.339293Z"
    }
   },
   "outputs": [
    {
     "data": {
      "text/plain": [
       "\"'𝗽𝗲𝘀𝗮𝗿'\""
      ]
     },
     "execution_count": 412,
     "metadata": {},
     "output_type": "execute_result"
    }
   ],
   "source": [
    "repr(negrilla)"
   ]
  }
 ],
 "metadata": {
  "hide_input": false,
  "kernelspec": {
   "display_name": "Python 3",
   "language": "python",
   "name": "python3"
  },
  "language_info": {
   "codemirror_mode": {
    "name": "ipython",
    "version": 3
   },
   "file_extension": ".py",
   "mimetype": "text/x-python",
   "name": "python",
   "nbconvert_exporter": "python",
   "pygments_lexer": "ipython3",
   "version": "3.7.10"
  },
  "latex_envs": {
   "LaTeX_envs_menu_present": true,
   "autoclose": false,
   "autocomplete": true,
   "bibliofile": "biblio.bib",
   "cite_by": "apalike",
   "current_citInitial": 1,
   "eqLabelWithNumbers": true,
   "eqNumInitial": 1,
   "hotkeys": {
    "equation": "Ctrl-E",
    "itemize": "Ctrl-I"
   },
   "labels_anchors": false,
   "latex_user_defs": false,
   "report_style_numbering": false,
   "user_envs_cfg": false
  },
  "toc": {
   "base_numbering": 1,
   "nav_menu": {},
   "number_sections": true,
   "sideBar": true,
   "skip_h1_title": false,
   "title_cell": "Table of Contents",
   "title_sidebar": "Contents",
   "toc_cell": false,
   "toc_position": {},
   "toc_section_display": true,
   "toc_window_display": false
  }
 },
 "nbformat": 4,
 "nbformat_minor": 1
}
