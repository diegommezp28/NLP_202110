{
 "cells": [
  {
   "cell_type": "markdown",
   "metadata": {
    "collapsed": true,
    "pycharm": {
     "name": "#%% md\n"
    }
   },
   "source": [
    "# Mourning tweets"
   ]
  },
  {
   "cell_type": "code",
   "execution_count": 607,
   "metadata": {
    "ExecuteTime": {
     "end_time": "2021-03-31T00:45:27.699347Z",
     "start_time": "2021-03-31T00:45:27.694281Z"
    }
   },
   "outputs": [],
   "source": [
    "import emoji\n",
    "import pandas as pd\n",
    "import numpy as np\n",
    "import glob\n",
    "import os\n",
    "import re\n",
    "import nltk\n",
    "import pickle\n",
    "import spacy\n",
    "import matplotlib.pyplot as plt\n",
    "from sklearn import set_config\n",
    "set_config(print_changed_only=False)\n",
    "from sklearn.model_selection import train_test_split\n",
    "from sklearn.naive_bayes import MultinomialNB\n",
    "from sklearn.linear_model import LogisticRegression\n",
    "from sklearn import tree\n",
    "from sklearn.ensemble import RandomForestClassifier\n",
    "from sklearn.metrics import classification_report"
   ]
  },
  {
   "cell_type": "code",
   "execution_count": 608,
   "metadata": {
    "ExecuteTime": {
     "end_time": "2021-03-31T00:45:28.162323Z",
     "start_time": "2021-03-31T00:45:28.160309Z"
    }
   },
   "outputs": [],
   "source": [
    "# nltk.download('stopwords')\n",
    "# nltk.download('punkt')\n",
    "# nltk.download('wordnet')"
   ]
  },
  {
   "cell_type": "markdown",
   "metadata": {},
   "source": [
    "# Lectura de datos"
   ]
  },
  {
   "cell_type": "code",
   "execution_count": 609,
   "metadata": {
    "ExecuteTime": {
     "end_time": "2021-03-31T00:45:28.467386Z",
     "start_time": "2021-03-31T00:45:28.462891Z"
    }
   },
   "outputs": [],
   "source": [
    "def lectura_tweets(file_path):\n",
    "    \"\"\"\n",
    "    Carga el csv que contiene los tweets.\n",
    "    :param file_path: path de el arhcivo\n",
    "    :return: dos dataframes, el primero son los tweets en español, \n",
    "    y el segundo los de ingles.\n",
    "    \"\"\"\n",
    "    tweets = pd\\\n",
    "        .read_csv(file_path, sep =',')\\\n",
    "        .reset_index()\n",
    "    tweets_es = tweets.loc[tweets['lang']=='es']\n",
    "    tweets_en = tweets.loc[tweets['lang']=='en']\n",
    "    return [tweets_es, tweets_en]"
   ]
  },
  {
   "cell_type": "code",
   "execution_count": 610,
   "metadata": {
    "ExecuteTime": {
     "end_time": "2021-03-31T00:45:28.570881Z",
     "start_time": "2021-03-31T00:45:28.495688Z"
    }
   },
   "outputs": [],
   "source": [
    "tweets_es, tweets_en = lectura_tweets(os.path.join('datasets', 'fnmourning.csv'))"
   ]
  },
  {
   "cell_type": "markdown",
   "metadata": {},
   "source": [
    "# Construccion del lexicon de luto"
   ]
  },
  {
   "cell_type": "markdown",
   "metadata": {},
   "source": [
    "## Tokenizacion"
   ]
  },
  {
   "cell_type": "code",
   "execution_count": 611,
   "metadata": {
    "ExecuteTime": {
     "end_time": "2021-03-31T00:45:29.111287Z",
     "start_time": "2021-03-31T00:45:29.095657Z"
    }
   },
   "outputs": [],
   "source": [
    "def limpiar_emoticones(x):\n",
    "    \"\"\"\n",
    "    En el string que entra por parametro, se aisla el emoticon contenido en este, y se\n",
    "    retorna este valor. Si no encuentra emoticon retorna el mismo input string\n",
    "    :param x: input string\n",
    "    :return: string de la descripcion del emoticon \n",
    "    \"\"\"\n",
    "    res = x\n",
    "    try: \n",
    "        res = re.search('(:(.*?):)',x).group(0)\n",
    "    except:\n",
    "        pass\n",
    "    return res\n",
    "def limpiar_docs(doc):\n",
    "    \"\"\"\n",
    "    Se limpia el string del documento de simbolos y algunos signos de puntuacion.\n",
    "    Esta funcion es necesaria para no deshacerse de los emoticones, sino de simbolos\n",
    "    especificos.\n",
    "    :param doc: input string\n",
    "    :return: string del documento limpio \n",
    "    \"\"\"\n",
    "    doc_limpio = \\\n",
    "        ' '.join(doc\n",
    "                 .lower()\n",
    "                 .replace('@',' ')\n",
    "                 .replace('#', ' ')\n",
    "                 .replace('%', ' ')\n",
    "                 .replace('&', ' ')\n",
    "                 .replace(\"'\", ' ')\n",
    "                 .replace(\"*\", ' ')\n",
    "                 .replace(\"$\", ' ')\n",
    "                 .replace(\"+\", ' ')\n",
    "                 .replace(\"-\", ' ')\n",
    "                 .replace(\":\", ' ')\n",
    "                 .replace(\"~\", ' ')\n",
    "                 .replace(\"|\", ' ')\n",
    "                 .replace(\"{\", ' ')\n",
    "                 .replace(\"}\", ' ')\n",
    "                 .replace(\"(\", ' ')\n",
    "                 .replace(\")\", ' ')\n",
    "                 .replace(\"!\", ' ')\n",
    "                 .replace(\"¡\", ' ')\n",
    "                 .split())\n",
    "    doc_limpio = emoji.emojize(str(emoji.demojize(doc_limpio).encode(\"unicode_escape\"))[2:-1])\n",
    "    doc_limpio = doc_limpio\n",
    "    return doc_limpio\n",
    "def tokenizacion_spanish_documento_nltk(doc):\n",
    "    \"\"\"\n",
    "    Se tokeniza el string del documento en el idioma español usando el paquete nltk. \n",
    "    Se usa stemming, se quitan stop words y se normaliza la palabra covid-19\n",
    "    :param doc: input string\n",
    "    :return: lista de los tokens del documento \n",
    "    \"\"\"\n",
    "    nltk_stop_words_es = set(nltk.corpus.stopwords.words(\"spanish\"))\n",
    "    stemmer_es = nltk.stem.SnowballStemmer(\"spanish\")\n",
    "    doc_limpio = limpiar_docs(doc)\n",
    "    doc_p = nltk.word_tokenize(doc_limpio)\n",
    "    doc_process = [emoji.demojize(stemmer_es.stem(word.strip()))\n",
    "                   if 'covid' not in word else 'covid-19'\n",
    "                   for word in doc_p \n",
    "                   if word not in nltk_stop_words_es\n",
    "                   and ('https' not in word)\n",
    "                   and ('\\n' not in word)\n",
    "                   and ('/' not in word)\n",
    "                   and ('\\\\' not in word)\n",
    "                   and ('y' != word)\n",
    "                   and ('a' != word)\n",
    "                   and ('o' != word)\n",
    "                   and (':' not in word)\n",
    "                   and (',' not in word)\n",
    "                   and ('.' not in word)\n",
    "                   and (';' not in word)\n",
    "                   and ('``' not in word)\n",
    "                   and ('(' not in word)\n",
    "                   and (')' not in word)\n",
    "                   and ('\"' not in word)\n",
    "                   and (\"''\" not in word)\n",
    "                   and not( (any(char.isdigit() for char in word)) and ('covid' not in word))\n",
    "                  ]\n",
    "    doc_process_sin_emoticones = [word for word in doc_process if ':' not in word]\n",
    "    doc_process_emoticones = [limpiar_emoticones(word) for word in doc_process if ':' in word]\n",
    "    doc_process_limpio = doc_process_sin_emoticones + doc_process_emoticones\n",
    "    return np.unique(doc_process_limpio)\n",
    "def tokenizacion_english_documento_nltk(doc):\n",
    "    \"\"\"\n",
    "    Se tokeniza el string del documento en el idioma ingles usando el paquete nltk. \n",
    "    Se usa stemming, se quitan stop words y se normaliza la palabra covid-19\n",
    "    :param doc: input string\n",
    "    :return: lista de los tokens del documento \n",
    "    \"\"\"\n",
    "    nltk_stop_words_en = set(nltk.corpus.stopwords.words(\"english\"))\n",
    "    stemmer_en = nltk.stem.porter.PorterStemmer()\n",
    "    doc_limpio = limpiar_docs(doc)\n",
    "    doc_p = nltk.word_tokenize(doc_limpio)\n",
    "    doc_process = [emoji.demojize(stemmer_en.stem(word.strip()))\n",
    "                   if 'covid' not in word else 'covid-19'\n",
    "                   for word in doc_p \n",
    "                   if word not in nltk_stop_words_en\n",
    "                   and ('https' not in word)\n",
    "                   and ('\\n' not in word)\n",
    "                   and ('/' not in word)\n",
    "                   and ('\\\\' not in word)\n",
    "                   and (':' not in word)\n",
    "                   and (',' not in word)\n",
    "                   and ('.' not in word)\n",
    "                   and (';' not in word)\n",
    "                   and ('``' not in word)\n",
    "                   and ('(' not in word)\n",
    "                   and (')' not in word)\n",
    "                   and ('\"' not in word)\n",
    "                   and (\"''\" not in word)\n",
    "                   and not( (any(char.isdigit() for char in word)) and ('covid' not in word))\n",
    "                  ]\n",
    "    doc_process_sin_emoticones = [word for word in doc_process if ':' not in word]\n",
    "    doc_process_emoticones = [limpiar_emoticones(word) for word in doc_process if ':' in word]\n",
    "    doc_process_limpio = doc_process_sin_emoticones + doc_process_emoticones\n",
    "    return np.unique(doc_process_limpio)\n",
    "\n",
    "def tokenizacion_spanish(tweets_df):\n",
    "    \"\"\"\n",
    "    Se tokeniza los documentos del dataframe de tweets en español que entra por parametro\n",
    "    :param tweets_df: dataframe de tweets en español\n",
    "    :return: dataframe de tweets tokenizados \n",
    "    \"\"\"\n",
    "    res = tweets_df.copy()\n",
    "    res['tokens'] = res['text'].apply(tokenizacion_spanish_documento_nltk)\n",
    "    res  = res.explode('tokens', ignore_index = True).dropna()\n",
    "    return res\n",
    "def tokenizacion_english(tweets_df):\n",
    "    \"\"\"\n",
    "    Se tokeniza los documentos del dataframe de tweets en ingles que entra por parametro\n",
    "    :param tweets_df: dataframe de tweets en ingles\n",
    "    :return: dataframe de tweets tokenizados \n",
    "    \"\"\"\n",
    "    res = tweets_df.copy()\n",
    "    res['tokens'] = res['text'].apply(tokenizacion_english_documento_nltk)\n",
    "    res  = res.explode('tokens', ignore_index = True).dropna()\n",
    "    return res"
   ]
  },
  {
   "cell_type": "code",
   "execution_count": 612,
   "metadata": {
    "ExecuteTime": {
     "end_time": "2021-03-31T00:45:53.159007Z",
     "start_time": "2021-03-31T00:45:29.126880Z"
    }
   },
   "outputs": [],
   "source": [
    "tweets_es_tokenizado = tokenizacion_spanish(tweets_es)"
   ]
  },
  {
   "cell_type": "code",
   "execution_count": 613,
   "metadata": {
    "ExecuteTime": {
     "end_time": "2021-03-31T00:46:12.227483Z",
     "start_time": "2021-03-31T00:45:53.160803Z"
    }
   },
   "outputs": [],
   "source": [
    "tweets_en_tokenizado = tokenizacion_english(tweets_en)"
   ]
  },
  {
   "cell_type": "markdown",
   "metadata": {},
   "source": [
    "## Probabilidad escalada"
   ]
  },
  {
   "cell_type": "code",
   "execution_count": 614,
   "metadata": {
    "ExecuteTime": {
     "end_time": "2021-03-31T00:46:12.235433Z",
     "start_time": "2021-03-31T00:46:12.229668Z"
    }
   },
   "outputs": [],
   "source": [
    "def scaled_likelihood(tweets_tokenizado):\n",
    "    \"\"\"\n",
    "    Se calcula una estimacion de la probabilidad de que cada token aparezca en tweets\n",
    "    mourning o no mourning\n",
    "    :param tweets_tokenizado: dataframe de tweets tokenizados\n",
    "    :return: dataframe de tokens con sus probabilidades \n",
    "    \"\"\"\n",
    "    total = tweets_tokenizado\\\n",
    "        .groupby('tag')\\\n",
    "        .agg(total_apariciones = ('index', 'nunique'))\\\n",
    "        .reset_index()\n",
    "    total_por_categoria = tweets_tokenizado\\\n",
    "        .groupby(['tokens', 'tag'])\\\n",
    "        .agg(total_apariciones_categoria = ('index', 'count'))\\\n",
    "        .reset_index()\n",
    "    res = total_por_categoria.merge(total, on = 'tag', how = 'left')\n",
    "    res['scaled_likelihood'] = res['total_apariciones_categoria']/res['total_apariciones']\n",
    "    return res.drop('total_apariciones', axis = 1)"
   ]
  },
  {
   "cell_type": "code",
   "execution_count": 615,
   "metadata": {
    "ExecuteTime": {
     "end_time": "2021-03-31T00:46:12.397446Z",
     "start_time": "2021-03-31T00:46:12.237961Z"
    }
   },
   "outputs": [],
   "source": [
    "sl_es_tweets = scaled_likelihood(tweets_es_tokenizado)\n",
    "sl_en_tweets = scaled_likelihood(tweets_en_tokenizado)"
   ]
  },
  {
   "cell_type": "markdown",
   "metadata": {},
   "source": [
    "## Word/emoticons que mejor describen luto"
   ]
  },
  {
   "cell_type": "code",
   "execution_count": 616,
   "metadata": {
    "ExecuteTime": {
     "end_time": "2021-03-31T00:46:12.407092Z",
     "start_time": "2021-03-31T00:46:12.398866Z"
    }
   },
   "outputs": [],
   "source": [
    "def visualizacion_n_palabras_mas_likely_mourning(sl_tweets,n, idioma):\n",
    "    \"\"\"\n",
    "    Visualizar la n palabras con mas probabilidad de aparecer en un tweet de mourning\n",
    "    :param sl_tweets: dataframe de tokens con sus probabilidades estimadas\n",
    "    :param n: numero de tokens a visualizar\n",
    "    :param idioma: idioma de los tokens\n",
    "    :return:  \n",
    "    \"\"\"\n",
    "    sl_es_tweets\\\n",
    "        .loc[sl_es_tweets['tag']=='mourning']\\\n",
    "        .sort_values('scaled_likelihood', ascending = False)\\\n",
    "        [:n]\\\n",
    "        .plot.bar(x = 'tokens',\n",
    "                  y = 'scaled_likelihood',\n",
    "                  title = f'Las {n} palabras en {idioma} que mejor describen el luto')\n",
    "    plt.show()\n",
    "def visualizacion_n_emojis_mas_likely_mourning(sl_tweets,n, idioma):\n",
    "    \"\"\"\n",
    "    Visualizar los n emoticones con mas probabilidad de aparecer en un tweet de mourning\n",
    "    :param sl_tweets: dataframe de tokens con sus probabilidades estimadas\n",
    "    :param n: numero de emoticones a visualizar\n",
    "    :param idioma: idioma donde aparecieron los emoticones\n",
    "    :return:  \n",
    "    \"\"\"\n",
    "    sl_tweets['emoticon'] = sl_tweets['tokens'].str.contains(':').astype(int)\n",
    "    emojis = sl_tweets\\\n",
    "        .loc[(sl_tweets['tag']=='mourning')&(sl_tweets['emoticon']==1)]\\\n",
    "        .sort_values('scaled_likelihood', ascending = False)\\\n",
    "        [:20]\n",
    "    emojis.plot.bar(x = 'tokens', \n",
    "                    y = 'scaled_likelihood',\n",
    "                    title = f'Los {n} emojis en {idioma} que mejor describen el luto')\n",
    "    plt.show()\n",
    "    emojis['imagen'] = emojis['tokens'].apply(emoji.emojize)\n",
    "    print(f'Tabla de los {n} emojis en {idioma} que mejor describen el luto')\n",
    "    display(emojis[['imagen', 'scaled_likelihood']])"
   ]
  },
  {
   "cell_type": "code",
   "execution_count": 617,
   "metadata": {
    "ExecuteTime": {
     "end_time": "2021-03-31T00:46:13.272808Z",
     "start_time": "2021-03-31T00:46:12.408762Z"
    }
   },
   "outputs": [
    {
     "data": {
      "image/png": "[encoded data removed]",
      "text/plain": [
       "<Figure size 432x288 with 1 Axes>"
      ]
     },
     "metadata": {
      "needs_background": "light"
     },
     "output_type": "display_data"
    },
    {
     "data": {
      "image/png": "[encoded data removed]",
      "text/plain": [
       "<Figure size 432x288 with 1 Axes>"
      ]
     },
     "metadata": {
      "needs_background": "light"
     },
     "output_type": "display_data"
    },
    {
     "name": "stdout",
     "output_type": "stream",
     "text": [
      "Tabla de los 20 emojis en español que mejor describen el luto\n"
     ]
    },
    {
     "data": {
      "text/html": [
       "<div>\n",
       "<style scoped>\n",
       "    .dataframe tbody tr th:only-of-type {\n",
       "        vertical-align: middle;\n",
       "    }\n",
       "\n",
       "    .dataframe tbody tr th {\n",
       "        vertical-align: top;\n",
       "    }\n",
       "\n",
       "    .dataframe thead th {\n",
       "        text-align: right;\n",
       "    }\n",
       "</style>\n",
       "<table border=\"1\" class=\"dataframe\">\n",
       "  <thead>\n",
       "    <tr style=\"text-align: right;\">\n",
       "      <th></th>\n",
       "      <th>imagen</th>\n",
       "      <th>scaled_likelihood</th>\n",
       "    </tr>\n",
       "  </thead>\n",
       "  <tbody>\n",
       "    <tr>\n",
       "      <th>262</th>\n",
       "      <td>🙏</td>\n",
       "      <td>0.032964</td>\n",
       "    </tr>\n",
       "    <tr>\n",
       "      <th>452</th>\n",
       "      <td>😔</td>\n",
       "      <td>0.015848</td>\n",
       "    </tr>\n",
       "    <tr>\n",
       "      <th>265</th>\n",
       "      <td>🙏🏻</td>\n",
       "      <td>0.010460</td>\n",
       "    </tr>\n",
       "    <tr>\n",
       "      <th>177</th>\n",
       "      <td>😢</td>\n",
       "      <td>0.010143</td>\n",
       "    </tr>\n",
       "    <tr>\n",
       "      <th>356</th>\n",
       "      <td>😭</td>\n",
       "      <td>0.009667</td>\n",
       "    </tr>\n",
       "    <tr>\n",
       "      <th>515</th>\n",
       "      <td>❤</td>\n",
       "      <td>0.008241</td>\n",
       "    </tr>\n",
       "    <tr>\n",
       "      <th>121</th>\n",
       "      <td>💔</td>\n",
       "      <td>0.007765</td>\n",
       "    </tr>\n",
       "    <tr>\n",
       "      <th>475</th>\n",
       "      <td>🥺</td>\n",
       "      <td>0.006815</td>\n",
       "    </tr>\n",
       "    <tr>\n",
       "      <th>539</th>\n",
       "      <td>😥</td>\n",
       "      <td>0.005230</td>\n",
       "    </tr>\n",
       "    <tr>\n",
       "      <th>104</th>\n",
       "      <td>🖤</td>\n",
       "      <td>0.005230</td>\n",
       "    </tr>\n",
       "    <tr>\n",
       "      <th>269</th>\n",
       "      <td>🙏🏼</td>\n",
       "      <td>0.004913</td>\n",
       "    </tr>\n",
       "    <tr>\n",
       "      <th>185</th>\n",
       "      <td>😞</td>\n",
       "      <td>0.004120</td>\n",
       "    </tr>\n",
       "    <tr>\n",
       "      <th>195</th>\n",
       "      <td>🕊</td>\n",
       "      <td>0.003962</td>\n",
       "    </tr>\n",
       "    <tr>\n",
       "      <th>100</th>\n",
       "      <td>⚫</td>\n",
       "      <td>0.003962</td>\n",
       "    </tr>\n",
       "    <tr>\n",
       "      <th>554</th>\n",
       "      <td>😪</td>\n",
       "      <td>0.003645</td>\n",
       "    </tr>\n",
       "    <tr>\n",
       "      <th>240</th>\n",
       "      <td>😂</td>\n",
       "      <td>0.003328</td>\n",
       "    </tr>\n",
       "    <tr>\n",
       "      <th>79</th>\n",
       "      <td>👉</td>\n",
       "      <td>0.003011</td>\n",
       "    </tr>\n",
       "    <tr>\n",
       "      <th>532</th>\n",
       "      <td>🤣</td>\n",
       "      <td>0.003011</td>\n",
       "    </tr>\n",
       "    <tr>\n",
       "      <th>72</th>\n",
       "      <td>👇</td>\n",
       "      <td>0.002536</td>\n",
       "    </tr>\n",
       "    <tr>\n",
       "      <th>271</th>\n",
       "      <td>🙏🏽</td>\n",
       "      <td>0.002536</td>\n",
       "    </tr>\n",
       "  </tbody>\n",
       "</table>\n",
       "</div>"
      ],
      "text/plain": [
       "    imagen  scaled_likelihood\n",
       "262      🙏           0.032964\n",
       "452      😔           0.015848\n",
       "265     🙏🏻           0.010460\n",
       "177      😢           0.010143\n",
       "356      😭           0.009667\n",
       "515      ❤           0.008241\n",
       "121      💔           0.007765\n",
       "475      🥺           0.006815\n",
       "539      😥           0.005230\n",
       "104      🖤           0.005230\n",
       "269     🙏🏼           0.004913\n",
       "185      😞           0.004120\n",
       "195      🕊           0.003962\n",
       "100      ⚫           0.003962\n",
       "554      😪           0.003645\n",
       "240      😂           0.003328\n",
       "79       👉           0.003011\n",
       "532      🤣           0.003011\n",
       "72       👇           0.002536\n",
       "271     🙏🏽           0.002536"
      ]
     },
     "metadata": {},
     "output_type": "display_data"
    },
    {
     "data": {
      "image/png": "[encoded data removed]",
      "text/plain": [
       "<Figure size 432x288 with 1 Axes>"
      ]
     },
     "metadata": {
      "needs_background": "light"
     },
     "output_type": "display_data"
    },
    {
     "data": {
      "image/png": "[encoded data removed]",
      "text/plain": [
       "<Figure size 432x288 with 1 Axes>"
      ]
     },
     "metadata": {
      "needs_background": "light"
     },
     "output_type": "display_data"
    },
    {
     "name": "stdout",
     "output_type": "stream",
     "text": [
      "Tabla de los 20 emojis en ingles que mejor describen el luto\n"
     ]
    },
    {
     "data": {
      "text/html": [
       "<div>\n",
       "<style scoped>\n",
       "    .dataframe tbody tr th:only-of-type {\n",
       "        vertical-align: middle;\n",
       "    }\n",
       "\n",
       "    .dataframe tbody tr th {\n",
       "        vertical-align: top;\n",
       "    }\n",
       "\n",
       "    .dataframe thead th {\n",
       "        text-align: right;\n",
       "    }\n",
       "</style>\n",
       "<table border=\"1\" class=\"dataframe\">\n",
       "  <thead>\n",
       "    <tr style=\"text-align: right;\">\n",
       "      <th></th>\n",
       "      <th>imagen</th>\n",
       "      <th>scaled_likelihood</th>\n",
       "    </tr>\n",
       "  </thead>\n",
       "  <tbody>\n",
       "    <tr>\n",
       "      <th>212</th>\n",
       "      <td>🙏</td>\n",
       "      <td>0.046317</td>\n",
       "    </tr>\n",
       "    <tr>\n",
       "      <th>94</th>\n",
       "      <td>💔</td>\n",
       "      <td>0.031131</td>\n",
       "    </tr>\n",
       "    <tr>\n",
       "      <th>398</th>\n",
       "      <td>❤</td>\n",
       "      <td>0.027904</td>\n",
       "    </tr>\n",
       "    <tr>\n",
       "      <th>144</th>\n",
       "      <td>😢</td>\n",
       "      <td>0.022399</td>\n",
       "    </tr>\n",
       "    <tr>\n",
       "      <th>351</th>\n",
       "      <td>😔</td>\n",
       "      <td>0.015376</td>\n",
       "    </tr>\n",
       "    <tr>\n",
       "      <th>287</th>\n",
       "      <td>😭</td>\n",
       "      <td>0.013667</td>\n",
       "    </tr>\n",
       "    <tr>\n",
       "      <th>216</th>\n",
       "      <td>🙏🏻</td>\n",
       "      <td>0.010820</td>\n",
       "    </tr>\n",
       "    <tr>\n",
       "      <th>220</th>\n",
       "      <td>🙏🏼</td>\n",
       "      <td>0.009301</td>\n",
       "    </tr>\n",
       "    <tr>\n",
       "      <th>222</th>\n",
       "      <td>🙏🏽</td>\n",
       "      <td>0.008922</td>\n",
       "    </tr>\n",
       "    <tr>\n",
       "      <th>218</th>\n",
       "      <td>🙏🏾</td>\n",
       "      <td>0.007403</td>\n",
       "    </tr>\n",
       "    <tr>\n",
       "      <th>86</th>\n",
       "      <td>💙</td>\n",
       "      <td>0.006834</td>\n",
       "    </tr>\n",
       "    <tr>\n",
       "      <th>365</th>\n",
       "      <td>🥺</td>\n",
       "      <td>0.005695</td>\n",
       "    </tr>\n",
       "    <tr>\n",
       "      <th>416</th>\n",
       "      <td>😥</td>\n",
       "      <td>0.004935</td>\n",
       "    </tr>\n",
       "    <tr>\n",
       "      <th>158</th>\n",
       "      <td>🕊</td>\n",
       "      <td>0.003986</td>\n",
       "    </tr>\n",
       "    <tr>\n",
       "      <th>82</th>\n",
       "      <td>🖤</td>\n",
       "      <td>0.003797</td>\n",
       "    </tr>\n",
       "    <tr>\n",
       "      <th>149</th>\n",
       "      <td>😞</td>\n",
       "      <td>0.003797</td>\n",
       "    </tr>\n",
       "    <tr>\n",
       "      <th>90</th>\n",
       "      <td>💐</td>\n",
       "      <td>0.003607</td>\n",
       "    </tr>\n",
       "    <tr>\n",
       "      <th>429</th>\n",
       "      <td>😪</td>\n",
       "      <td>0.003417</td>\n",
       "    </tr>\n",
       "    <tr>\n",
       "      <th>413</th>\n",
       "      <td>🌹</td>\n",
       "      <td>0.003227</td>\n",
       "    </tr>\n",
       "    <tr>\n",
       "      <th>253</th>\n",
       "      <td>♥</td>\n",
       "      <td>0.002847</td>\n",
       "    </tr>\n",
       "  </tbody>\n",
       "</table>\n",
       "</div>"
      ],
      "text/plain": [
       "    imagen  scaled_likelihood\n",
       "212      🙏           0.046317\n",
       "94       💔           0.031131\n",
       "398      ❤           0.027904\n",
       "144      😢           0.022399\n",
       "351      😔           0.015376\n",
       "287      😭           0.013667\n",
       "216     🙏🏻           0.010820\n",
       "220     🙏🏼           0.009301\n",
       "222     🙏🏽           0.008922\n",
       "218     🙏🏾           0.007403\n",
       "86       💙           0.006834\n",
       "365      🥺           0.005695\n",
       "416      😥           0.004935\n",
       "158      🕊           0.003986\n",
       "82       🖤           0.003797\n",
       "149      😞           0.003797\n",
       "90       💐           0.003607\n",
       "429      😪           0.003417\n",
       "413      🌹           0.003227\n",
       "253      ♥           0.002847"
      ]
     },
     "metadata": {},
     "output_type": "display_data"
    }
   ],
   "source": [
    "visualizacion_n_palabras_mas_likely_mourning(sl_es_tweets, 20, 'español')\n",
    "visualizacion_n_emojis_mas_likely_mourning(sl_es_tweets, 20, 'español')\n",
    "visualizacion_n_palabras_mas_likely_mourning(sl_en_tweets, 20, 'ingles')\n",
    "visualizacion_n_emojis_mas_likely_mourning(sl_en_tweets, 20, 'ingles')"
   ]
  },
  {
   "cell_type": "markdown",
   "metadata": {},
   "source": [
    "## Score propuesto"
   ]
  },
  {
   "cell_type": "code",
   "execution_count": 618,
   "metadata": {
    "ExecuteTime": {
     "end_time": "2021-03-31T00:46:13.285675Z",
     "start_time": "2021-03-31T00:46:13.275051Z"
    }
   },
   "outputs": [],
   "source": [
    "def lista_score(tweets_tokenizado, n , idioma):\n",
    "    \"\"\"\n",
    "    generar lista de los primeros n tokens con mayor score, a partir de los tweets \n",
    "    tokenizados. El score se definió como la diferencia entre la probabilidad de aparecer\n",
    "    en un tweet de mourning menos la de aparecer en un tweet de no mourning\n",
    "    :param tweets_tokenizado: dataframe de los tweets tokenizados\n",
    "    :param n: numero de tokens a visualizar\n",
    "    :param idioma: idioma donde aparecieron los emoticones\n",
    "    :return: lista de los n tokens con mayor score  \n",
    "    \"\"\"\n",
    "    tweets_tokenizado_slikelihood = scaled_likelihood(tweets_tokenizado)\n",
    "    res = tweets_tokenizado_slikelihood\\\n",
    "        .drop('total_apariciones_categoria', axis = 1)\\\n",
    "        .set_index(['tokens', 'tag'])\\\n",
    "        .unstack(fill_value=0)\n",
    "    res.columns = res.columns.droplevel()\n",
    "    res = res.reset_index()\n",
    "    res['score'] = (res['mourning']-res['no mourning'])\n",
    "    res = res.sort_values(by='score', ascending = False)\n",
    "    res.head(20).plot.bar(x = 'tokens', \n",
    "                          y = 'score', \n",
    "                          title = f'Los {n} tokens en {idioma} con mayor score')\n",
    "    return res"
   ]
  },
  {
   "cell_type": "code",
   "execution_count": 619,
   "metadata": {
    "ExecuteTime": {
     "end_time": "2021-03-31T00:46:13.880112Z",
     "start_time": "2021-03-31T00:46:13.288956Z"
    }
   },
   "outputs": [
    {
     "data": {
      "image/png": "[encoded data removed]",
      "text/plain": [
       "<Figure size 432x288 with 1 Axes>"
      ]
     },
     "metadata": {
      "needs_background": "light"
     },
     "output_type": "display_data"
    },
    {
     "data": {
      "image/png": "[encoded data removed]",
      "text/plain": [
       "<Figure size 432x288 with 1 Axes>"
      ]
     },
     "metadata": {
      "needs_background": "light"
     },
     "output_type": "display_data"
    }
   ],
   "source": [
    "score_es_tweets = lista_score(tweets_es_tokenizado,20,'español')\n",
    "score_en_tweets = lista_score(tweets_en_tokenizado,20,'ingles')"
   ]
  },
  {
   "cell_type": "markdown",
   "metadata": {},
   "source": [
    "# Clasificadores para detectar luto"
   ]
  },
  {
   "cell_type": "markdown",
   "metadata": {},
   "source": [
    "## Creacion de Features"
   ]
  },
  {
   "cell_type": "code",
   "execution_count": 620,
   "metadata": {
    "ExecuteTime": {
     "end_time": "2021-03-31T00:46:13.888146Z",
     "start_time": "2021-03-31T00:46:13.882514Z"
    }
   },
   "outputs": [],
   "source": [
    "def feature_representation(tweets_tokenizado, n_apariciones):\n",
    "    \"\"\"\n",
    "    Creación de features a partir de los tweets tokenizados. Esta construccion se hizo\n",
    "    con el term frecuency de cada token. La clase POSITIVA se definió como las clase de\n",
    "    MOURNING. Se da la opcion de quitar aquellos tokens que tienen menos de n_apariciones.\n",
    "    :param tweets_tokenizado: dataframe de los tweets tokenizados\n",
    "    :param n_apariciones: numero de apariciones para filtrar los tokens\n",
    "    :return: dataframe con los tf de cada token como features de los tweets \n",
    "    \"\"\"\n",
    "    # filtrar aquellos tokens que aparecen muy poco\n",
    "    total = tweets_tokenizado\\\n",
    "        .groupby('tokens')\\\n",
    "        .agg(total_apariciones = ('index', 'count'))\\\n",
    "        .reset_index()\n",
    "    tokens_finales = total.loc[total['total_apariciones']>=n_apariciones, 'tokens'].unique()\n",
    "    \n",
    "    # generacion features\n",
    "    tweets_tokenizado = tweets_tokenizado\\\n",
    "        [tweets_tokenizado['tokens'].isin(tokens_finales)]\n",
    "    tweets_tokenizado['tag'] = (tweets_tokenizado['tag']=='mourning').astype(int)\n",
    "    tweets_tokenizado['indicadora'] = 1\n",
    "    tweets_tokenizado_filtrado = tweets_tokenizado[['index','tag','tokens', 'indicadora']]\\\n",
    "        .copy()\n",
    "    tweets_features = tweets_tokenizado_filtrado\\\n",
    "        .set_index(['index','tag','tokens'])\\\n",
    "        .unstack(fill_value = 0)\n",
    "    tweets_features.columns = tweets_features.columns.droplevel()\n",
    "    tweets_features = tweets_features.reset_index()\n",
    "\n",
    "    return tweets_features"
   ]
  },
  {
   "cell_type": "code",
   "execution_count": 621,
   "metadata": {
    "ExecuteTime": {
     "end_time": "2021-03-31T00:46:15.547345Z",
     "start_time": "2021-03-31T00:46:13.889807Z"
    }
   },
   "outputs": [
    {
     "name": "stderr",
     "output_type": "stream",
     "text": [
      "/home/yacirramirez/anaconda3/envs/nlp3_7/lib/python3.7/site-packages/ipykernel_launcher.py:20: SettingWithCopyWarning: \n",
      "A value is trying to be set on a copy of a slice from a DataFrame.\n",
      "Try using .loc[row_indexer,col_indexer] = value instead\n",
      "\n",
      "See the caveats in the documentation: https://pandas.pydata.org/pandas-docs/stable/user_guide/indexing.html#returning-a-view-versus-a-copy\n",
      "/home/yacirramirez/anaconda3/envs/nlp3_7/lib/python3.7/site-packages/ipykernel_launcher.py:21: SettingWithCopyWarning: \n",
      "A value is trying to be set on a copy of a slice from a DataFrame.\n",
      "Try using .loc[row_indexer,col_indexer] = value instead\n",
      "\n",
      "See the caveats in the documentation: https://pandas.pydata.org/pandas-docs/stable/user_guide/indexing.html#returning-a-view-versus-a-copy\n",
      "/home/yacirramirez/anaconda3/envs/nlp3_7/lib/python3.7/site-packages/ipykernel_launcher.py:20: SettingWithCopyWarning: \n",
      "A value is trying to be set on a copy of a slice from a DataFrame.\n",
      "Try using .loc[row_indexer,col_indexer] = value instead\n",
      "\n",
      "See the caveats in the documentation: https://pandas.pydata.org/pandas-docs/stable/user_guide/indexing.html#returning-a-view-versus-a-copy\n",
      "/home/yacirramirez/anaconda3/envs/nlp3_7/lib/python3.7/site-packages/ipykernel_launcher.py:21: SettingWithCopyWarning: \n",
      "A value is trying to be set on a copy of a slice from a DataFrame.\n",
      "Try using .loc[row_indexer,col_indexer] = value instead\n",
      "\n",
      "See the caveats in the documentation: https://pandas.pydata.org/pandas-docs/stable/user_guide/indexing.html#returning-a-view-versus-a-copy\n"
     ]
    }
   ],
   "source": [
    "fr_es_tweets = feature_representation(tweets_es_tokenizado, 10)\n",
    "fr_en_tweets = feature_representation(tweets_en_tokenizado, 10)"
   ]
  },
  {
   "cell_type": "markdown",
   "metadata": {},
   "source": [
    "## Division train test"
   ]
  },
  {
   "cell_type": "code",
   "execution_count": 622,
   "metadata": {
    "ExecuteTime": {
     "end_time": "2021-03-31T00:46:15.554568Z",
     "start_time": "2021-03-31T00:46:15.549578Z"
    }
   },
   "outputs": [],
   "source": [
    "def train_test_particion(features_base ):\n",
    "    \"\"\"\n",
    "    Particion en train y test de la base de features, 66-33 porciento.\n",
    "    :param features_base: dataframe de los features\n",
    "    :return: 4 dataframes \n",
    "    \"\"\"\n",
    "    X_train, X_test, y_train, y_test = \\\n",
    "        train_test_split(features_base.drop(['tag', 'index'], axis =1),\n",
    "                         features_base['tag'], \n",
    "                         test_size=0.33,\n",
    "                         random_state=42)\n",
    "    return X_train, X_test, y_train, y_test"
   ]
  },
  {
   "cell_type": "code",
   "execution_count": 623,
   "metadata": {
    "ExecuteTime": {
     "end_time": "2021-03-31T00:46:16.523259Z",
     "start_time": "2021-03-31T00:46:15.556189Z"
    }
   },
   "outputs": [],
   "source": [
    "X_train_en, X_test_en, y_train_en, y_test_en = train_test_particion(fr_en_tweets)\n",
    "X_train_es, X_test_es, y_train_es, y_test_es = train_test_particion(fr_es_tweets)\n"
   ]
  },
  {
   "cell_type": "markdown",
   "metadata": {},
   "source": [
    "## Entrenamiento y metricas de los clasificadores"
   ]
  },
  {
   "cell_type": "code",
   "execution_count": 624,
   "metadata": {
    "ExecuteTime": {
     "end_time": "2021-03-31T00:46:16.537533Z",
     "start_time": "2021-03-31T00:46:16.524776Z"
    }
   },
   "outputs": [],
   "source": [
    "def entrenar_modelos(X_train,y_train, con_emoticones = True):\n",
    "    \"\"\"\n",
    "    Entrenamiento de los modelos naive bayes, regresion logistica, decision tree y\n",
    "    random forest\n",
    "    :param X_train: dataframe de entrenamiento\n",
    "    :param y_train: dataframe de la variable a predecir\n",
    "    :param con_emoticones: booleano para indicar si se dejan los features de emoticones o no.\n",
    "    :return: diccionario con los 4 modelos entrenados \n",
    "    \"\"\"\n",
    "    X, y = X_train.copy(), y_train.copy()\n",
    "    if not con_emoticones:\n",
    "        cols_sin_emojis = [col for col in X_train.columns if ':' not in col]\n",
    "        X, y = X_train[cols_sin_emojis].copy(), y_train.copy()\n",
    "    else:\n",
    "        pass\n",
    "        \n",
    "    nb_clf = MultinomialNB()\n",
    "    nb_clf.fit(X, y)\n",
    "    \n",
    "    lr_clf = LogisticRegression(random_state=0)\n",
    "    lr_clf.fit(X, y)\n",
    "    \n",
    "    tree_clf = tree.DecisionTreeClassifier()\n",
    "    tree_clf = tree_clf.fit(X, y)\n",
    "    \n",
    "    rf_clf = RandomForestClassifier(max_depth=2, random_state=0)\n",
    "    rf_clf.fit(X, y)\n",
    "    res = {'naive_bayes': nb_clf,\n",
    "           'logistic_regression': lr_clf,\n",
    "           'decision_tree':tree_clf, \n",
    "           'random_forest':rf_clf}\n",
    "    return res\n",
    "def sacar_metricas(clf_entrenado, X_test, y_test, con_emoticones = True):\n",
    "    \"\"\"\n",
    "    Se sacan las metricas de precision, recall y f1-score para la clase positiva. Se da la\n",
    "    opcion de especificar si es necesario quitar las columnas de los emoticones para generar\n",
    "    la prediccion.\n",
    "    :param clf_entrenado: clasificador que ya ha sido entrenado\n",
    "    :param X_test: dataframe de los features a predecir\n",
    "    :param y_test: dataframe de los valores reales a comparar con la prediccion\n",
    "    :param con_emoticones: booleano para indicar si se dejan los features de emoticones o \n",
    "    no\n",
    "    :return: diccionario con las metricas \n",
    "    \"\"\"\n",
    "    if not con_emoticones:\n",
    "        cols_sin_emojis = [col for col in X_test.columns if ':' not in col]\n",
    "        y_pred = clf_entrenado.predict(X_test[cols_sin_emojis])\n",
    "    else:\n",
    "        y_pred = clf_entrenado.predict(X_test)\n",
    "    y_true = y_test\n",
    "    \n",
    "    res =  classification_report(y_true,\n",
    "                                 y_pred,\n",
    "                                 labels = [0,1],\n",
    "                                 target_names=['Clase 0', 'Clase 1'])\n",
    "    print(res)\n",
    "    res =  classification_report(y_true,\n",
    "                                 y_pred,\n",
    "                                 labels = [0,1],\n",
    "                                 target_names=['Clase 0', 'Clase 1'],\n",
    "                                 output_dict = True\n",
    "                                )\n",
    "    return res\n",
    "def sacar_metricas_para_cada_modelo(dict_clf, X_test, y_test, con_emoticones = True):\n",
    "    \"\"\"\n",
    "    Se sacan las metricas de precision, recall y f1-score para la clase positiva de cada \n",
    "    clasificador en el diccionario.\n",
    "    :param clf_entrenado: clasificador que ya ha sido entrenado\n",
    "    :param X_test: dataframe de los features a predecir\n",
    "    :param y_test: dataframe de los valores reales a comparar con la prediccion\n",
    "    :param con_emoticones: booleano para indicar si se dejan los features de emoticones o \n",
    "    no\n",
    "    :return: diccionario con las metricas \n",
    "    \"\"\"\n",
    "    resultados = {}\n",
    "    for clf_name in dict_clf:\n",
    "        print()\n",
    "        print(clf_name)\n",
    "        print()\n",
    "        resultados[clf_name] = sacar_metricas(dict_clf[clf_name], X_test, y_test, con_emoticones)\n",
    "        print()\n",
    "    return resultados"
   ]
  },
  {
   "cell_type": "markdown",
   "metadata": {},
   "source": [
    "### Resultados para tweets en español"
   ]
  },
  {
   "cell_type": "code",
   "execution_count": 625,
   "metadata": {
    "ExecuteTime": {
     "end_time": "2021-03-31T00:46:29.678182Z",
     "start_time": "2021-03-31T00:46:16.539078Z"
    },
    "scrolled": true
   },
   "outputs": [
    {
     "name": "stdout",
     "output_type": "stream",
     "text": [
      "Resultados CON emojis\n",
      "\n",
      "naive_bayes\n",
      "\n",
      "              precision    recall  f1-score   support\n",
      "\n",
      "     Clase 0       0.84      0.85      0.85      2175\n",
      "     Clase 1       0.84      0.83      0.84      2079\n",
      "\n",
      "    accuracy                           0.84      4254\n",
      "   macro avg       0.84      0.84      0.84      4254\n",
      "weighted avg       0.84      0.84      0.84      4254\n",
      "\n",
      "\n",
      "\n",
      "logistic_regression\n",
      "\n",
      "              precision    recall  f1-score   support\n",
      "\n",
      "     Clase 0       0.90      0.94      0.92      2175\n",
      "     Clase 1       0.93      0.89      0.91      2079\n",
      "\n",
      "    accuracy                           0.91      4254\n",
      "   macro avg       0.91      0.91      0.91      4254\n",
      "weighted avg       0.91      0.91      0.91      4254\n",
      "\n",
      "\n",
      "\n",
      "decision_tree\n",
      "\n",
      "              precision    recall  f1-score   support\n",
      "\n",
      "     Clase 0       0.87      0.89      0.88      2175\n",
      "     Clase 1       0.88      0.86      0.87      2079\n",
      "\n",
      "    accuracy                           0.87      4254\n",
      "   macro avg       0.87      0.87      0.87      4254\n",
      "weighted avg       0.87      0.87      0.87      4254\n",
      "\n",
      "\n",
      "\n",
      "random_forest\n",
      "\n",
      "              precision    recall  f1-score   support\n",
      "\n",
      "     Clase 0       0.64      0.97      0.77      2175\n",
      "     Clase 1       0.94      0.43      0.59      2079\n",
      "\n",
      "    accuracy                           0.71      4254\n",
      "   macro avg       0.79      0.70      0.68      4254\n",
      "weighted avg       0.79      0.71      0.69      4254\n",
      "\n",
      "\n",
      "\n",
      "Resultados SIN emojis\n",
      "\n",
      "naive_bayes\n",
      "\n",
      "              precision    recall  f1-score   support\n",
      "\n",
      "     Clase 0       0.84      0.86      0.85      2175\n",
      "     Clase 1       0.85      0.83      0.84      2079\n",
      "\n",
      "    accuracy                           0.84      4254\n",
      "   macro avg       0.84      0.84      0.84      4254\n",
      "weighted avg       0.84      0.84      0.84      4254\n",
      "\n",
      "\n",
      "\n",
      "logistic_regression\n",
      "\n",
      "              precision    recall  f1-score   support\n",
      "\n",
      "     Clase 0       0.89      0.94      0.92      2175\n",
      "     Clase 1       0.93      0.88      0.91      2079\n",
      "\n",
      "    accuracy                           0.91      4254\n",
      "   macro avg       0.91      0.91      0.91      4254\n",
      "weighted avg       0.91      0.91      0.91      4254\n",
      "\n",
      "\n",
      "\n",
      "decision_tree\n",
      "\n",
      "              precision    recall  f1-score   support\n",
      "\n",
      "     Clase 0       0.87      0.89      0.88      2175\n",
      "     Clase 1       0.88      0.87      0.87      2079\n",
      "\n",
      "    accuracy                           0.88      4254\n",
      "   macro avg       0.88      0.88      0.88      4254\n",
      "weighted avg       0.88      0.88      0.88      4254\n",
      "\n",
      "\n",
      "\n",
      "random_forest\n",
      "\n",
      "              precision    recall  f1-score   support\n",
      "\n",
      "     Clase 0       0.74      0.98      0.84      2175\n",
      "     Clase 1       0.97      0.64      0.77      2079\n",
      "\n",
      "    accuracy                           0.81      4254\n",
      "   macro avg       0.85      0.81      0.81      4254\n",
      "weighted avg       0.85      0.81      0.81      4254\n",
      "\n",
      "\n"
     ]
    }
   ],
   "source": [
    "\n",
    "modelos_con_emojis_es = entrenar_modelos(X_train_es, y_train_es, True)\n",
    "modelos_sin_emojis_es = entrenar_modelos(X_train_es, y_train_es, False)\n",
    "\n",
    "print('Resultados CON emojis')\n",
    "resultados_con_emojis_es = sacar_metricas_para_cada_modelo(modelos_con_emojis_es,X_test_es,y_test_es, True)\n",
    "print()\n",
    "print('Resultados SIN emojis')\n",
    "resultados_sin_emojis_es = sacar_metricas_para_cada_modelo(modelos_sin_emojis_es,X_test_es,y_test_es, False)"
   ]
  },
  {
   "cell_type": "markdown",
   "metadata": {},
   "source": [
    "### Resultados para tweets en inglés"
   ]
  },
  {
   "cell_type": "code",
   "execution_count": null,
   "metadata": {
    "ExecuteTime": {
     "start_time": "2021-03-31T00:45:31.861Z"
    },
    "scrolled": true
   },
   "outputs": [],
   "source": [
    "modelos_con_emojis_en = entrenar_modelos(X_train_en, y_train_en, True)\n",
    "modelos_sin_emojis_en = entrenar_modelos(X_train_en, y_train_en, False)\n",
    "\n",
    "print('Resultados CON emojis')\n",
    "resultados_con_emojis_en = sacar_metricas_para_cada_modelo(modelos_con_emojis_en,X_test_en,y_test_en, True)\n",
    "print()\n",
    "print('Resultados SIN emojis')\n",
    "resultados_sin_emojis_en = sacar_metricas_para_cada_modelo(modelos_sin_emojis_en,X_test_en,y_test_en, False)"
   ]
  },
  {
   "cell_type": "markdown",
   "metadata": {},
   "source": [
    "### Comparacion de resultados"
   ]
  },
  {
   "cell_type": "code",
   "execution_count": null,
   "metadata": {
    "ExecuteTime": {
     "start_time": "2021-03-31T00:45:32.213Z"
    },
    "scrolled": true
   },
   "outputs": [],
   "source": [
    "def comparacion_metricas_entre_clasificadores(resultados):\n",
    "    \"\"\"\n",
    "    Visualizar los resultados de los clasificadores sobre el test, de forma \n",
    "    NB vs LR vs DT vs RF por cada metrica.\n",
    "    :param resultados: diccionario con las metricas\n",
    "    :return:\n",
    "    \"\"\"\n",
    "    for key in resultados.keys():\n",
    "        print(key.upper())\n",
    "        data = []\n",
    "        for clf_name in  resultados[key]:\n",
    "            for metrica in resultados[key][clf_name]['Clase 1']:\n",
    "                data.append([clf_name, metrica,resultados[key][clf_name]['Clase 1'][metrica]])\n",
    "        data = pd.DataFrame(data, columns = ['Clasificador', 'metrica', 'valor'])\n",
    "        for metrica in ['precision', 'recall', 'f1-score']:\n",
    "            data.loc[data['metrica']==metrica]\\\n",
    "                .plot.bar(x = 'Clasificador', \n",
    "                          y = 'valor',\n",
    "                          title = f'{key}, Clase Mourning (positiva), {metrica}'\n",
    "                         )\n",
    "            plt.show()\n",
    "        \n",
    "        \n",
    "def comparacion_metricas_entre_emoji_noEmoji(resultados):\n",
    "    \"\"\"\n",
    "    Visualizar los resultados de los clasificadores sobre el test, de forma \n",
    "    con emoticones vs sin emoticones por cada metrica, cada tipo de clasificador y \n",
    "    cada idioma.\n",
    "    :param resultados: diccionario con las metricas\n",
    "    :return:\n",
    "    \"\"\"\n",
    "    data = []\n",
    "    for key in resultados.keys():\n",
    "        for clf_name in  resultados[key]:\n",
    "            for metrica in resultados[key][clf_name]['Clase 1']:\n",
    "                data.append([key, clf_name, metrica,resultados[key][clf_name]['Clase 1'][metrica]])\n",
    "    data = pd.DataFrame(data, columns = ['tipo','Clasificador', 'metrica', 'valor'])\n",
    "    for metrica in ['precision', 'recall', 'f1-score']:\n",
    "        for clf_name in data['Clasificador'].unique():\n",
    "            data.loc[(data['metrica']==metrica)&\n",
    "                     (data['Clasificador']==clf_name)&\n",
    "                     (data['tipo'].str.contains('español'))\n",
    "                    ]\\\n",
    "                .plot.bar(x = 'tipo', \n",
    "                          y = 'valor',\n",
    "                          title = f'Español, {clf_name}, Clase Mourning (positiva), {metrica}'\n",
    "                         )\n",
    "            plt.show()\n",
    "            display(data.loc[(data['metrica']==metrica)&\n",
    "                     (data['Clasificador']==clf_name)&\n",
    "                     (data['tipo'].str.contains('español'))\n",
    "                    ])\n",
    "            \n",
    "            data.loc[(data['metrica']==metrica)&\n",
    "                     (data['Clasificador']==clf_name)&\n",
    "                     (data['tipo'].str.contains('ingles'))\n",
    "                    ]\\\n",
    "                .plot.bar(x = 'Clasificador', \n",
    "                          y = 'valor',\n",
    "                          title = f'Ingles, {clf_name}, Clase Mourning (positiva), {metrica}'\n",
    "                         )\n",
    "            plt.show()\n",
    "            display(data.loc[(data['metrica']==metrica)&\n",
    "                     (data['Clasificador']==clf_name)&\n",
    "                     (data['tipo'].str.contains('ingles'))\n",
    "                    ])\n"
   ]
  },
  {
   "cell_type": "code",
   "execution_count": null,
   "metadata": {
    "ExecuteTime": {
     "start_time": "2021-03-31T00:45:32.270Z"
    }
   },
   "outputs": [],
   "source": [
    "resultados = \\\n",
    "    {'español con emojis':resultados_con_emojis_es,\n",
    "     'ingles con emojis':resultados_con_emojis_en,\n",
    "     'español sin emojis':resultados_sin_emojis_es,\n",
    "     'ingles sin emojis':resultados_sin_emojis_en\n",
    "    }\n",
    "comparacion_metricas_entre_clasificadores(resultados)\n",
    "comparacion_metricas_entre_emoji_noEmoji(resultados)"
   ]
  },
  {
   "cell_type": "markdown",
   "metadata": {},
   "source": [
    "# Feature Importance"
   ]
  },
  {
   "cell_type": "code",
   "execution_count": null,
   "metadata": {
    "ExecuteTime": {
     "start_time": "2021-03-31T00:45:32.521Z"
    }
   },
   "outputs": [],
   "source": [
    "def sacar_feature_importance_lr(lr_entrenado, X_test, con_emoticones = True):\n",
    "    \"\"\"\n",
    "    Visualizar la feature importance (pesos) de una regresion logistica\n",
    "    :param lr_entrenado: lr entrenado\n",
    "    :param X_test: base ejemplo con las features utilizadas\n",
    "    :param con_emoticones: Boolean para determinar si es necesario quitar los emoticones o \n",
    "    no\n",
    "    :return:\n",
    "    \"\"\"\n",
    "    features = X_test.columns\n",
    "    if not con_emoticones:\n",
    "        features = [col for col in X_test.columns if ':' not in col]\n",
    "    coefs = [coef for coef in lr_entrenado.coef_[0]]\n",
    "    importance = pd\\\n",
    "        .DataFrame(list(zip(features, coefs)), \n",
    "                   columns = ['features', 'importance'])\\\n",
    "        .sort_values(by = 'importance', ascending = False)\n",
    "    importance[:10].plot.bar(x = 'features',y='importance', title = 'Logistic Regression Biggest 10 coeficients (signed)')\n",
    "    plt.show()"
   ]
  },
  {
   "cell_type": "code",
   "execution_count": null,
   "metadata": {
    "ExecuteTime": {
     "start_time": "2021-03-31T00:45:32.562Z"
    }
   },
   "outputs": [],
   "source": [
    "def sacar_feature_importance_rf(rf_entrenado, X_test, con_emoticones = True):\n",
    "    \"\"\"\n",
    "    Visualizar la feature importance (MDI) de un random forest\n",
    "    :param lr_entrenado: lr entrenado\n",
    "    :param X_test: base ejemplo con las features utilizadas\n",
    "    :param con_emoticones: Boolean para determinar si es necesario quitar los emoticones o \n",
    "    no\n",
    "    :return:\n",
    "    \"\"\"\n",
    "    features = X_test.columns\n",
    "    if not con_emoticones:\n",
    "        features = [col for col in X_test.columns if ':' not in col]\n",
    "    coefs = [coef for coef in rf_entrenado.feature_importances_]\n",
    "    importance = pd\\\n",
    "        .DataFrame(list(zip(features, coefs)), \n",
    "                   columns = ['features', 'importance'])\\\n",
    "        .sort_values(by = 'importance', ascending = False)\n",
    "    importance[:10].plot.bar(x = 'features',y='importance', title = 'Random Forest Biggest 10 Impurity Importances')\n",
    "    plt.show()"
   ]
  },
  {
   "cell_type": "markdown",
   "metadata": {},
   "source": [
    "## Logistic Regression Importances"
   ]
  },
  {
   "cell_type": "code",
   "execution_count": null,
   "metadata": {
    "ExecuteTime": {
     "start_time": "2021-03-31T00:45:32.796Z"
    }
   },
   "outputs": [],
   "source": [
    "print('ESPAÑOL CON EMOJIS')\n",
    "sacar_feature_importance_lr(modelos_con_emojis_es['logistic_regression'], X_test_es)"
   ]
  },
  {
   "cell_type": "code",
   "execution_count": null,
   "metadata": {
    "ExecuteTime": {
     "start_time": "2021-03-31T00:45:32.826Z"
    }
   },
   "outputs": [],
   "source": [
    "print('ESPAÑOL SIN EMOJIS')\n",
    "sacar_feature_importance_lr(modelos_sin_emojis_es['logistic_regression'], X_test_es, False)"
   ]
  },
  {
   "cell_type": "code",
   "execution_count": null,
   "metadata": {
    "ExecuteTime": {
     "start_time": "2021-03-31T00:45:32.856Z"
    }
   },
   "outputs": [],
   "source": [
    "print('INGLES CON EMOJIS')\n",
    "sacar_feature_importance_lr(modelos_con_emojis_en['logistic_regression'], X_test_en)"
   ]
  },
  {
   "cell_type": "code",
   "execution_count": null,
   "metadata": {
    "ExecuteTime": {
     "start_time": "2021-03-31T00:45:32.886Z"
    }
   },
   "outputs": [],
   "source": [
    "print('INGLES SIN EMOJIS')\n",
    "sacar_feature_importance_lr(modelos_sin_emojis_en['logistic_regression'], X_test_en, False)"
   ]
  },
  {
   "cell_type": "markdown",
   "metadata": {},
   "source": [
    "## Random Forest Importances"
   ]
  },
  {
   "cell_type": "code",
   "execution_count": null,
   "metadata": {
    "ExecuteTime": {
     "start_time": "2021-03-31T00:45:33.119Z"
    }
   },
   "outputs": [],
   "source": [
    "print('ESPAÑOL CON EMOJIS')\n",
    "sacar_feature_importance_rf(modelos_con_emojis_es['random_forest'], X_test_es)"
   ]
  },
  {
   "cell_type": "code",
   "execution_count": null,
   "metadata": {
    "ExecuteTime": {
     "start_time": "2021-03-31T00:45:33.149Z"
    }
   },
   "outputs": [],
   "source": [
    "print('ESPAÑOL SIN EMOJIS')\n",
    "sacar_feature_importance_rf(modelos_sin_emojis_es['random_forest'], X_test_es, False)"
   ]
  },
  {
   "cell_type": "code",
   "execution_count": null,
   "metadata": {
    "ExecuteTime": {
     "start_time": "2021-03-31T00:45:33.179Z"
    }
   },
   "outputs": [],
   "source": [
    "print('INGLES CON EMOJIS')\n",
    "sacar_feature_importance_rf(modelos_con_emojis_en['random_forest'], X_test_en)"
   ]
  },
  {
   "cell_type": "code",
   "execution_count": null,
   "metadata": {
    "ExecuteTime": {
     "start_time": "2021-03-31T00:45:33.210Z"
    }
   },
   "outputs": [],
   "source": [
    "print('INGLES SIN EMOJIS')\n",
    "sacar_feature_importance_rf(modelos_sin_emojis_en['random_forest'], X_test_en, False)"
   ]
  }
 ],
 "metadata": {
  "hide_input": false,
  "kernelspec": {
   "display_name": "Python 3",
   "language": "python",
   "name": "python3"
  },
  "language_info": {
   "codemirror_mode": {
    "name": "ipython",
    "version": 3
   },
   "file_extension": ".py",
   "mimetype": "text/x-python",
   "name": "python",
   "nbconvert_exporter": "python",
   "pygments_lexer": "ipython3",
   "version": "3.7.10"
  },
  "latex_envs": {
   "LaTeX_envs_menu_present": true,
   "autoclose": false,
   "autocomplete": true,
   "bibliofile": "biblio.bib",
   "cite_by": "apalike",
   "current_citInitial": 1,
   "eqLabelWithNumbers": true,
   "eqNumInitial": 1,
   "hotkeys": {
    "equation": "Ctrl-E",
    "itemize": "Ctrl-I"
   },
   "labels_anchors": false,
   "latex_user_defs": false,
   "report_style_numbering": false,
   "user_envs_cfg": false
  },
  "toc": {
   "base_numbering": 1,
   "nav_menu": {},
   "number_sections": true,
   "sideBar": true,
   "skip_h1_title": false,
   "title_cell": "Table of Contents",
   "title_sidebar": "Contents",
   "toc_cell": false,
   "toc_position": {},
   "toc_section_display": true,
   "toc_window_display": false
  }
 },
 "nbformat": 4,
 "nbformat_minor": 1
}
